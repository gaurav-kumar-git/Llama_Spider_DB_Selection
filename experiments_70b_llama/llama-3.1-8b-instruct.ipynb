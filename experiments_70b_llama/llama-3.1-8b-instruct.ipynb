{
 "cells": [
  {
   "cell_type": "code",
   "execution_count": 1,
   "id": "68760dd7-f0dc-4eba-abd9-199f3a70cfa3",
   "metadata": {
    "scrolled": true
   },
   "outputs": [
    {
     "name": "stdout",
     "output_type": "stream",
     "text": [
      "Requirement already satisfied: transformers in /raid/infolab/gaurav/Llama_Spider_A100_Project/miniconda3/envs/llama_spider_env/lib/python3.10/site-packages (4.52.4)\n",
      "Requirement already satisfied: accelerate in /raid/infolab/gaurav/Llama_Spider_A100_Project/miniconda3/envs/llama_spider_env/lib/python3.10/site-packages (1.7.0)\n",
      "Requirement already satisfied: bitsandbytes in /raid/infolab/gaurav/Llama_Spider_A100_Project/miniconda3/envs/llama_spider_env/lib/python3.10/site-packages (0.46.0)\n",
      "Requirement already satisfied: sentencepiece in /raid/infolab/gaurav/Llama_Spider_A100_Project/miniconda3/envs/llama_spider_env/lib/python3.10/site-packages (0.2.0)\n",
      "Requirement already satisfied: pandas in /raid/infolab/gaurav/Llama_Spider_A100_Project/miniconda3/envs/llama_spider_env/lib/python3.10/site-packages (2.2.3)\n",
      "Requirement already satisfied: datasets in /raid/infolab/gaurav/Llama_Spider_A100_Project/miniconda3/envs/llama_spider_env/lib/python3.10/site-packages (3.6.0)\n",
      "Requirement already satisfied: huggingface_hub in /raid/infolab/gaurav/Llama_Spider_A100_Project/miniconda3/envs/llama_spider_env/lib/python3.10/site-packages (0.32.3)\n",
      "Requirement already satisfied: tqdm in /raid/infolab/gaurav/Llama_Spider_A100_Project/miniconda3/envs/llama_spider_env/lib/python3.10/site-packages (4.67.1)\n",
      "Requirement already satisfied: filelock in /raid/infolab/gaurav/Llama_Spider_A100_Project/miniconda3/envs/llama_spider_env/lib/python3.10/site-packages (from transformers) (3.17.0)\n",
      "Requirement already satisfied: numpy>=1.17 in /raid/infolab/gaurav/Llama_Spider_A100_Project/miniconda3/envs/llama_spider_env/lib/python3.10/site-packages (from transformers) (2.0.1)\n",
      "Requirement already satisfied: packaging>=20.0 in /raid/infolab/gaurav/Llama_Spider_A100_Project/miniconda3/envs/llama_spider_env/lib/python3.10/site-packages (from transformers) (24.2)\n",
      "Requirement already satisfied: pyyaml>=5.1 in /raid/infolab/gaurav/Llama_Spider_A100_Project/miniconda3/envs/llama_spider_env/lib/python3.10/site-packages (from transformers) (6.0.2)\n",
      "Requirement already satisfied: regex!=2019.12.17 in /raid/infolab/gaurav/Llama_Spider_A100_Project/miniconda3/envs/llama_spider_env/lib/python3.10/site-packages (from transformers) (2024.11.6)\n",
      "Requirement already satisfied: requests in /raid/infolab/gaurav/Llama_Spider_A100_Project/miniconda3/envs/llama_spider_env/lib/python3.10/site-packages (from transformers) (2.32.3)\n",
      "Requirement already satisfied: tokenizers<0.22,>=0.21 in /raid/infolab/gaurav/Llama_Spider_A100_Project/miniconda3/envs/llama_spider_env/lib/python3.10/site-packages (from transformers) (0.21.1)\n",
      "Requirement already satisfied: safetensors>=0.4.3 in /raid/infolab/gaurav/Llama_Spider_A100_Project/miniconda3/envs/llama_spider_env/lib/python3.10/site-packages (from transformers) (0.5.3)\n",
      "Requirement already satisfied: fsspec>=2023.5.0 in /raid/infolab/gaurav/Llama_Spider_A100_Project/miniconda3/envs/llama_spider_env/lib/python3.10/site-packages (from huggingface_hub) (2025.3.0)\n",
      "Requirement already satisfied: typing-extensions>=3.7.4.3 in /raid/infolab/gaurav/Llama_Spider_A100_Project/miniconda3/envs/llama_spider_env/lib/python3.10/site-packages (from huggingface_hub) (4.12.2)\n",
      "Requirement already satisfied: hf-xet<2.0.0,>=1.1.2 in /raid/infolab/gaurav/Llama_Spider_A100_Project/miniconda3/envs/llama_spider_env/lib/python3.10/site-packages (from huggingface_hub) (1.1.2)\n",
      "Requirement already satisfied: psutil in /raid/infolab/gaurav/Llama_Spider_A100_Project/miniconda3/envs/llama_spider_env/lib/python3.10/site-packages (from accelerate) (5.9.0)\n",
      "Requirement already satisfied: torch>=2.0.0 in /raid/infolab/gaurav/Llama_Spider_A100_Project/miniconda3/envs/llama_spider_env/lib/python3.10/site-packages (from accelerate) (2.2.0)\n",
      "Requirement already satisfied: sympy in /raid/infolab/gaurav/Llama_Spider_A100_Project/miniconda3/envs/llama_spider_env/lib/python3.10/site-packages (from torch>=2.0.0->accelerate) (1.13.3)\n",
      "Requirement already satisfied: networkx in /raid/infolab/gaurav/Llama_Spider_A100_Project/miniconda3/envs/llama_spider_env/lib/python3.10/site-packages (from torch>=2.0.0->accelerate) (3.4.2)\n",
      "Requirement already satisfied: jinja2 in /raid/infolab/gaurav/Llama_Spider_A100_Project/miniconda3/envs/llama_spider_env/lib/python3.10/site-packages (from torch>=2.0.0->accelerate) (3.1.6)\n",
      "Requirement already satisfied: python-dateutil>=2.8.2 in /raid/infolab/gaurav/Llama_Spider_A100_Project/miniconda3/envs/llama_spider_env/lib/python3.10/site-packages (from pandas) (2.9.0.post0)\n",
      "Requirement already satisfied: pytz>=2020.1 in /raid/infolab/gaurav/Llama_Spider_A100_Project/miniconda3/envs/llama_spider_env/lib/python3.10/site-packages (from pandas) (2025.2)\n",
      "Requirement already satisfied: tzdata>=2022.7 in /raid/infolab/gaurav/Llama_Spider_A100_Project/miniconda3/envs/llama_spider_env/lib/python3.10/site-packages (from pandas) (2025.2)\n",
      "Requirement already satisfied: pyarrow>=15.0.0 in /raid/infolab/gaurav/Llama_Spider_A100_Project/miniconda3/envs/llama_spider_env/lib/python3.10/site-packages (from datasets) (20.0.0)\n",
      "Requirement already satisfied: dill<0.3.9,>=0.3.0 in /raid/infolab/gaurav/Llama_Spider_A100_Project/miniconda3/envs/llama_spider_env/lib/python3.10/site-packages (from datasets) (0.3.8)\n",
      "Requirement already satisfied: xxhash in /raid/infolab/gaurav/Llama_Spider_A100_Project/miniconda3/envs/llama_spider_env/lib/python3.10/site-packages (from datasets) (3.5.0)\n",
      "Requirement already satisfied: multiprocess<0.70.17 in /raid/infolab/gaurav/Llama_Spider_A100_Project/miniconda3/envs/llama_spider_env/lib/python3.10/site-packages (from datasets) (0.70.16)\n",
      "Requirement already satisfied: aiohttp!=4.0.0a0,!=4.0.0a1 in /raid/infolab/gaurav/Llama_Spider_A100_Project/miniconda3/envs/llama_spider_env/lib/python3.10/site-packages (from fsspec[http]<=2025.3.0,>=2023.1.0->datasets) (3.12.6)\n",
      "Requirement already satisfied: aiohappyeyeballs>=2.5.0 in /raid/infolab/gaurav/Llama_Spider_A100_Project/miniconda3/envs/llama_spider_env/lib/python3.10/site-packages (from aiohttp!=4.0.0a0,!=4.0.0a1->fsspec[http]<=2025.3.0,>=2023.1.0->datasets) (2.6.1)\n",
      "Requirement already satisfied: aiosignal>=1.1.2 in /raid/infolab/gaurav/Llama_Spider_A100_Project/miniconda3/envs/llama_spider_env/lib/python3.10/site-packages (from aiohttp!=4.0.0a0,!=4.0.0a1->fsspec[http]<=2025.3.0,>=2023.1.0->datasets) (1.3.2)\n",
      "Requirement already satisfied: async-timeout<6.0,>=4.0 in /raid/infolab/gaurav/Llama_Spider_A100_Project/miniconda3/envs/llama_spider_env/lib/python3.10/site-packages (from aiohttp!=4.0.0a0,!=4.0.0a1->fsspec[http]<=2025.3.0,>=2023.1.0->datasets) (5.0.1)\n",
      "Requirement already satisfied: attrs>=17.3.0 in /raid/infolab/gaurav/Llama_Spider_A100_Project/miniconda3/envs/llama_spider_env/lib/python3.10/site-packages (from aiohttp!=4.0.0a0,!=4.0.0a1->fsspec[http]<=2025.3.0,>=2023.1.0->datasets) (24.3.0)\n",
      "Requirement already satisfied: frozenlist>=1.1.1 in /raid/infolab/gaurav/Llama_Spider_A100_Project/miniconda3/envs/llama_spider_env/lib/python3.10/site-packages (from aiohttp!=4.0.0a0,!=4.0.0a1->fsspec[http]<=2025.3.0,>=2023.1.0->datasets) (1.6.0)\n",
      "Requirement already satisfied: multidict<7.0,>=4.5 in /raid/infolab/gaurav/Llama_Spider_A100_Project/miniconda3/envs/llama_spider_env/lib/python3.10/site-packages (from aiohttp!=4.0.0a0,!=4.0.0a1->fsspec[http]<=2025.3.0,>=2023.1.0->datasets) (6.4.4)\n",
      "Requirement already satisfied: propcache>=0.2.0 in /raid/infolab/gaurav/Llama_Spider_A100_Project/miniconda3/envs/llama_spider_env/lib/python3.10/site-packages (from aiohttp!=4.0.0a0,!=4.0.0a1->fsspec[http]<=2025.3.0,>=2023.1.0->datasets) (0.3.1)\n",
      "Requirement already satisfied: yarl<2.0,>=1.17.0 in /raid/infolab/gaurav/Llama_Spider_A100_Project/miniconda3/envs/llama_spider_env/lib/python3.10/site-packages (from aiohttp!=4.0.0a0,!=4.0.0a1->fsspec[http]<=2025.3.0,>=2023.1.0->datasets) (1.20.0)\n",
      "Requirement already satisfied: idna>=2.0 in /raid/infolab/gaurav/Llama_Spider_A100_Project/miniconda3/envs/llama_spider_env/lib/python3.10/site-packages (from yarl<2.0,>=1.17.0->aiohttp!=4.0.0a0,!=4.0.0a1->fsspec[http]<=2025.3.0,>=2023.1.0->datasets) (3.7)\n",
      "Requirement already satisfied: six>=1.5 in /raid/infolab/gaurav/Llama_Spider_A100_Project/miniconda3/envs/llama_spider_env/lib/python3.10/site-packages (from python-dateutil>=2.8.2->pandas) (1.17.0)\n",
      "Requirement already satisfied: charset-normalizer<4,>=2 in /raid/infolab/gaurav/Llama_Spider_A100_Project/miniconda3/envs/llama_spider_env/lib/python3.10/site-packages (from requests->transformers) (3.3.2)\n",
      "Requirement already satisfied: urllib3<3,>=1.21.1 in /raid/infolab/gaurav/Llama_Spider_A100_Project/miniconda3/envs/llama_spider_env/lib/python3.10/site-packages (from requests->transformers) (2.3.0)\n",
      "Requirement already satisfied: certifi>=2017.4.17 in /raid/infolab/gaurav/Llama_Spider_A100_Project/miniconda3/envs/llama_spider_env/lib/python3.10/site-packages (from requests->transformers) (2025.4.26)\n",
      "Requirement already satisfied: MarkupSafe>=2.0 in /raid/infolab/gaurav/Llama_Spider_A100_Project/miniconda3/envs/llama_spider_env/lib/python3.10/site-packages (from jinja2->torch>=2.0.0->accelerate) (3.0.2)\n",
      "Requirement already satisfied: mpmath<1.4,>=1.1.0 in /raid/infolab/gaurav/Llama_Spider_A100_Project/miniconda3/envs/llama_spider_env/lib/python3.10/site-packages (from sympy->torch>=2.0.0->accelerate) (1.3.0)\n",
      "Note: you may need to restart the kernel to use updated packages.\n"
     ]
    }
   ],
   "source": [
    "pip install transformers accelerate bitsandbytes sentencepiece pandas datasets huggingface_hub tqdm"
   ]
  },
  {
   "cell_type": "code",
   "execution_count": 2,
   "id": "7d449a29-d76c-4f2f-a438-1cc81724339f",
   "metadata": {},
   "outputs": [
    {
     "name": "stdout",
     "output_type": "stream",
     "text": [
      "ipywidgets version: 8.1.5\n",
      "ipywidgets location: /raid/infolab/gaurav/Llama_Spider_A100_Project/miniconda3/envs/llama_spider_env/lib/python3.10/site-packages/ipywidgets/__init__.py\n",
      "tqdm version: 4.67.1\n",
      "tqdm location: /raid/infolab/gaurav/Llama_Spider_A100_Project/miniconda3/envs/llama_spider_env/lib/python3.10/site-packages/tqdm/__init__.py\n"
     ]
    }
   ],
   "source": [
    "  import ipywidgets\n",
    "  print(f\"ipywidgets version: {ipywidgets.__version__}\")\n",
    "  print(f\"ipywidgets location: {ipywidgets.__file__}\")\n",
    "\n",
    "  import tqdm\n",
    "  print(f\"tqdm version: {tqdm.__version__}\")\n",
    "  print(f\"tqdm location: {tqdm.__file__}\")"
   ]
  },
  {
   "cell_type": "code",
   "execution_count": 3,
   "id": "d01b81c8-78ad-492d-b6c9-be424482a669",
   "metadata": {},
   "outputs": [
    {
     "name": "stdout",
     "output_type": "stream",
     "text": [
      "tqdm imported successfully from .auto\n"
     ]
    },
    {
     "data": {
      "application/vnd.jupyter.widget-view+json": {
       "model_id": "94585048e4d045f083bd7363e87098eb",
       "version_major": 2,
       "version_minor": 0
      },
      "text/plain": [
       "Minimal Auto Test:   0%|          | 0/3 [00:00<?, ?it/s]"
      ]
     },
     "metadata": {},
     "output_type": "display_data"
    },
    {
     "name": "stdout",
     "output_type": "stream",
     "text": [
      "Simple tqdm .auto loop completed\n"
     ]
    }
   ],
   "source": [
    "from tqdm.auto import tqdm\n",
    "import time\n",
    "\n",
    "print(\"tqdm imported successfully from .auto\")\n",
    "my_list = list(range(3))\n",
    "for i in tqdm(my_list, desc=\"Minimal Auto Test\"):\n",
    "    time.sleep(0.2)\n",
    "print(\"Simple tqdm .auto loop completed\")"
   ]
  },
  {
   "cell_type": "code",
   "execution_count": 5,
   "id": "f6015af9-e860-4e27-af56-95091e424a3a",
   "metadata": {},
   "outputs": [
    {
     "name": "stdout",
     "output_type": "stream",
     "text": [
      "--- Cell 1: Imports and Initial Configuration Complete ---\n",
      "PyTorch Version: 2.2.0\n",
      "Transformers Version: 4.52.4\n"
     ]
    }
   ],
   "source": [
    "# --- Standard Library Imports ---\n",
    "# --- Third-party Library Imports ---\n",
    "# --- Third-party Library Imports ---\n",
    "import torch\n",
    "\n",
    "from tqdm.auto import tqdm\n",
    "import time\n",
    "from huggingface_hub import login\n",
    "import transformers # <--- ADD THIS LINE\n",
    "from transformers import AutoModelForCausalLM, AutoTokenizer, BitsAndBytesConfig\n",
    "\n",
    "# --- Third-party Library Imports ---\n",
    "import torch\n",
    "from tqdm.auto import tqdm # For progress bars\n",
    "from huggingface_hub import login # For Hugging Face Hub authentication\n",
    "from transformers import AutoModelForCausalLM, AutoTokenizer, BitsAndBytesConfig\n",
    "\n",
    "print(\"--- Cell 1: Imports and Initial Configuration Complete ---\")\n",
    "print(f\"PyTorch Version: {torch.__version__}\")\n",
    "print(f\"Transformers Version: {transformers.__version__}\")"
   ]
  },
  {
   "cell_type": "code",
   "execution_count": 6,
   "id": "1206593a-e64c-4fe4-9e07-8dfd5c80d2c5",
   "metadata": {},
   "outputs": [
    {
     "name": "stdout",
     "output_type": "stream",
     "text": [
      "PyTorch version: 2.2.0\n",
      "CUDA available: True\n",
      "CUDA version PyTorch compiled with: 11.8\n",
      "Number of GPUs available to PyTorch: 8\n",
      "  GPU 0: NVIDIA A100-SXM4-80GB\n",
      "  GPU 1: NVIDIA A100-SXM4-80GB\n",
      "  GPU 2: NVIDIA A100-SXM4-80GB\n",
      "  GPU 3: NVIDIA A100-SXM4-80GB\n",
      "  GPU 4: NVIDIA A100-SXM4-80GB\n",
      "  GPU 5: NVIDIA A100-SXM4-80GB\n",
      "  GPU 6: NVIDIA A100-SXM4-80GB\n",
      "  GPU 7: NVIDIA A100-SXM4-80GB\n"
     ]
    }
   ],
   "source": [
    "import torch\n",
    "print(f\"PyTorch version: {torch.__version__}\")\n",
    "print(f\"CUDA available: {torch.cuda.is_available()}\")\n",
    "if torch.cuda.is_available():\n",
    "    print(f\"CUDA version PyTorch compiled with: {torch.version.cuda}\")\n",
    "    print(f\"Number of GPUs available to PyTorch: {torch.cuda.device_count()}\")\n",
    "    for i in range(torch.cuda.device_count()):\n",
    "        print(f\"  GPU {i}: {torch.cuda.get_device_name(i)}\")\n",
    "else:\n",
    "    print(\"ERROR: PyTorch cannot see the GPUs! Check installation and CUDA compatibility.\")"
   ]
  },
  {
   "cell_type": "code",
   "execution_count": 7,
   "id": "6c6c79c7-ffaf-414f-a4a5-e646aadf5869",
   "metadata": {},
   "outputs": [
    {
     "name": "stdout",
     "output_type": "stream",
     "text": [
      "--- Cell 1: Imports and Initial Configuration Complete ---\n",
      "PyTorch Version: 2.2.0\n",
      "Transformers Version: 4.52.4\n"
     ]
    }
   ],
   "source": [
    "# --- Standard Library Imports ---\n",
    "# --- Third-party Library Imports ---\n",
    "# --- Third-party Library Imports ---\n",
    "import torch\n",
    "from tqdm.auto import tqdm\n",
    "import time\n",
    "from huggingface_hub import login\n",
    "import transformers # <--- ADD THIS LINE\n",
    "from transformers import AutoModelForCausalLM, AutoTokenizer, BitsAndBytesConfig\n",
    "\n",
    "# --- Third-party Library Imports ---\n",
    "import torch\n",
    "from tqdm.auto import tqdm # For progress bars\n",
    "from huggingface_hub import login # For Hugging Face Hub authentication\n",
    "from transformers import AutoModelForCausalLM, AutoTokenizer, BitsAndBytesConfig\n",
    "\n",
    "print(\"--- Cell 1: Imports and Initial Configuration Complete ---\")\n",
    "print(f\"PyTorch Version: {torch.__version__}\")\n",
    "print(f\"Transformers Version: {transformers.__version__}\")"
   ]
  },
  {
   "cell_type": "code",
   "execution_count": 8,
   "id": "c73b2c1e-8370-4b5e-826c-99e53f07c854",
   "metadata": {},
   "outputs": [
    {
     "data": {
      "application/vnd.jupyter.widget-view+json": {
       "model_id": "e092d99eca214b67b082c35f727d9da4",
       "version_major": 2,
       "version_minor": 0
      },
      "text/plain": [
       "VBox(children=(HTML(value='<center> <img\\nsrc=https://huggingface.co/front/assets/huggingface_logo-noborder.sv…"
      ]
     },
     "metadata": {},
     "output_type": "display_data"
    },
    {
     "name": "stdout",
     "output_type": "stream",
     "text": [
      "Hugging Face login successful or already authenticated.\n",
      "\n",
      "--- Cell 2: Hugging Face Login Attempt Complete ---\n"
     ]
    }
   ],
   "source": [
    "try:\n",
    "    login() # Will use cached token or prompt if needed\n",
    "    print(\"Hugging Face login successful or already authenticated.\")\n",
    "except Exception as e:\n",
    "    print(f\"Hugging Face login failed: {e}. Ensure you are authenticated to download Llama 2.\")\n",
    "\n",
    "print(\"\\n--- Cell 2: Hugging Face Login Attempt Complete ---\")"
   ]
  },
  {
   "cell_type": "code",
   "execution_count": 8,
   "id": "82706e9d-a125-4315-ae90-94faee8d6464",
   "metadata": {},
   "outputs": [
    {
     "name": "stdout",
     "output_type": "stream",
     "text": [
      "Target Model: meta-llama/Llama-3.1-8B-Instruct\n",
      "BitsAndBytesConfig: load_in_4bit=True, compute_dtype=torch.bfloat16\n",
      "Hugging Face model cache directory set to: /raid/infolab/gaurav/Llama_Spider_A100_Project/experiments_70b_llama/.hf_model_cache_70b\n",
      "\n",
      "--- Cell 3: Model and Prompt Configuration Complete ---\n"
     ]
    }
   ],
   "source": [
    "# --- Model and Tokenizer Configuration ---\n",
    "import os\n",
    "\n",
    "# 3.1. Specify the Llama 2 70B Chat Model\n",
    "MODEL_NAME = \"meta-llama/Llama-3.1-8B-Instruct\"\n",
    "print(f\"Target Model: {MODEL_NAME}\")\n",
    "\n",
    "# 3.2. Configure 4-bit Quantization (essential for 70B, even on A100s for single/few GPU use)\n",
    "# A100s support bfloat16, which is excellent for mixed-precision.\n",
    "bnb_config = BitsAndBytesConfig(\n",
    "    load_in_4bit=True,\n",
    "    bnb_4bit_quant_type=\"nf4\",        # nf4 is a good default\n",
    "    bnb_4bit_compute_dtype=torch.bfloat16, # Use bfloat16 for computation on A100s\n",
    "    bnb_4bit_use_double_quant=True,   # Can save a bit more memory\n",
    ")\n",
    "print(f\"BitsAndBytesConfig: load_in_4bit={bnb_config.load_in_4bit}, compute_dtype={bnb_config.bnb_4bit_compute_dtype}\")\n",
    "\n",
    "# 3.4. Define Cache Directory for Hugging Face downloads (optional, but good for managing large models)\n",
    "# Create it within your project directory on the A100 server.\n",
    "HF_MODEL_CACHE_DIR = os.path.join(os.getcwd(), \".hf_model_cache_70b\") # Assumes current dir is project root\n",
    "os.makedirs(HF_MODEL_CACHE_DIR, exist_ok=True)\n",
    "print(f\"Hugging Face model cache directory set to: {HF_MODEL_CACHE_DIR}\")\n",
    "\n",
    "print(\"\\n--- Cell 3: Model and Prompt Configuration Complete ---\")"
   ]
  },
  {
   "cell_type": "code",
   "execution_count": 9,
   "id": "01ed7286-5629-4780-8c22-736b61519715",
   "metadata": {},
   "outputs": [
    {
     "name": "stdout",
     "output_type": "stream",
     "text": [
      "{'meta-llama/Llama-3.1-8B-Instruct'}\n"
     ]
    }
   ],
   "source": [
    "print({MODEL_NAME})"
   ]
  },
  {
   "cell_type": "code",
   "execution_count": 9,
   "id": "9ee56445-c515-496d-8611-12b685e7088a",
   "metadata": {},
   "outputs": [
    {
     "name": "stdout",
     "output_type": "stream",
     "text": [
      "Loading tokenizer for meta-llama/Llama-3.1-8B-Instruct...\n",
      "Tokenizer pad_token was None, set to eos_token: <|eot_id|> (ID: 128009)\n",
      "Tokenizer loaded successfully.\n",
      "Tokenizer pad token ID: 128009\n",
      "Tokenizer EOS token ID: 128009\n",
      "Tokenizer BOS token ID: 128000\n"
     ]
    }
   ],
   "source": [
    "# --- Load the Tokenizer ---\n",
    "# The tokenizer converts text into numerical IDs that the model understands, and vice-versa.\n",
    "# It's crucial that the tokenizer matches the model it was trained with.\n",
    "print(f\"Loading tokenizer for {MODEL_NAME}...\")\n",
    "tokenizer = AutoTokenizer.from_pretrained(\n",
    "    MODEL_NAME,\n",
    "    # token=HF_TOKEN # For recent versions of transformers, login() handles global auth.\n",
    "                     # You might need this for older versions or specific configurations.\n",
    "    trust_remote_code=True # Some models require this if they have custom code. Llama 2 generally doesn't, but good to be aware of.\n",
    ")\n",
    "\n",
    "# Llama models often don't have a pad token defined by default.\n",
    "# We set it to the EOS (End Of Sentence) token if it's not present.\n",
    "# This is important for batching inputs of different lengths, though for our P(Yes)\n",
    "# extraction (one prompt at a time), it's less critical but good practice.\n",
    "if tokenizer.pad_token is None:\n",
    "    tokenizer.pad_token = tokenizer.eos_token\n",
    "    print(f\"Tokenizer pad_token was None, set to eos_token: {tokenizer.eos_token} (ID: {tokenizer.eos_token_id})\")\n",
    "\n",
    "print(\"Tokenizer loaded successfully.\")\n",
    "print(f\"Tokenizer pad token ID: {tokenizer.pad_token_id}\")\n",
    "print(f\"Tokenizer EOS token ID: {tokenizer.eos_token_id}\")\n",
    "print(f\"Tokenizer BOS token ID: {tokenizer.bos_token_id}\")"
   ]
  },
  {
   "cell_type": "code",
   "execution_count": 10,
   "id": "236b8d9a-adb8-4b8f-9651-8e1501cbb6be",
   "metadata": {
    "scrolled": true
   },
   "outputs": [
    {
     "name": "stdout",
     "output_type": "stream",
     "text": [
      "Loading model: meta-llama/Llama-3.1-8B-Instruct with 4-bit quantization. This will take significant time and memory...\n"
     ]
    },
    {
     "data": {
      "application/vnd.jupyter.widget-view+json": {
       "model_id": "50cdbff8c5074586929d652dd84739d1",
       "version_major": 2,
       "version_minor": 0
      },
      "text/plain": [
       "Loading checkpoint shards:   0%|          | 0/4 [00:00<?, ?it/s]"
      ]
     },
     "metadata": {},
     "output_type": "display_data"
    },
    {
     "name": "stdout",
     "output_type": "stream",
     "text": [
      "\n",
      "Model loaded successfully!\n",
      "Time taken to load model: 29.31 seconds.\n",
      "Model device map: {'model.embed_tokens': 1, 'model.layers.0': 1, 'model.layers.1': 1, 'model.layers.2': 1, 'model.layers.3': 2, 'model.layers.4': 2, 'model.layers.5': 2, 'model.layers.6': 2, 'model.layers.7': 2, 'model.layers.8': 2, 'model.layers.9': 3, 'model.layers.10': 3, 'model.layers.11': 3, 'model.layers.12': 3, 'model.layers.13': 3, 'model.layers.14': 3, 'model.layers.15': 4, 'model.layers.16': 4, 'model.layers.17': 4, 'model.layers.18': 4, 'model.layers.19': 4, 'model.layers.20': 4, 'model.layers.21': 5, 'model.layers.22': 5, 'model.layers.23': 5, 'model.layers.24': 5, 'model.layers.25': 5, 'model.layers.26': 5, 'model.layers.27': 6, 'model.layers.28': 6, 'model.layers.29': 6, 'model.layers.30': 6, 'model.layers.31': 6, 'model.norm': 6, 'model.rotary_emb': 6, 'lm_head': 7}\n",
      "Performed memory cleanup (torch.cuda.empty_cache(), gc.collect())\n",
      "\n",
      "--- Cell 5: Llama 3.1 8B Instruct Model Loading Complete ---\n",
      "Model max_position_embeddings: 131072\n",
      "Tokenizer model_max_length: 131072\n"
     ]
    }
   ],
   "source": [
    "# --- Load the Llama 2 70B Model ---\n",
    "# This is a memory-intensive step. `device_map=\"auto\"` will attempt to distribute\n",
    "# the model across available GPUs if one is insufficient.\n",
    "# Ensure CUDA_VISIBLE_DEVICES is set in your shell if you want to restrict which GPUs are used.\n",
    "import gc\n",
    "print(f\"Loading model: {MODEL_NAME} with 4-bit quantization. This will take significant time and memory...\")\n",
    "model_load_start_time = time.time()\n",
    "try:\n",
    "    model = AutoModelForCausalLM.from_pretrained(\n",
    "        MODEL_NAME,\n",
    "        quantization_config=bnb_config,    # Apply 4-bit quantization\n",
    "        torch_dtype=torch.bfloat16,        # Use bfloat16 on A100s\n",
    "        device_map=\"auto\",                 # Distribute model across available GPUs automatically\n",
    "        trust_remote_code=True,            # Often needed for newer models\n",
    "        cache_dir=HF_MODEL_CACHE_DIR\n",
    "    )\n",
    "    model_load_end_time = time.time()\n",
    "    print(\"\\nModel loaded successfully!\")\n",
    "    print(f\"Time taken to load model: {model_load_end_time - model_load_start_time:.2f} seconds.\")\n",
    "    print(f\"Model device map: {model.hf_device_map}\") # Shows how layers are distributed\n",
    "    # For a 70B model, this should show parts on different GPUs if more than one is used.\n",
    "    \n",
    "    # Perform a quick memory cleanup after loading large model\n",
    "    torch.cuda.empty_cache()\n",
    "    gc.collect()\n",
    "    print(\"Performed memory cleanup (torch.cuda.empty_cache(), gc.collect())\")\n",
    "\n",
    "except Exception as e:\n",
    "    import traceback\n",
    "    traceback.print_exc()\n",
    "    raise RuntimeError(f\"Failed to load model {MODEL_NAME}: {e}. Check VRAM, CUDA setup, and Hugging Face authentication.\")\n",
    "\n",
    "print(\"\\n--- Cell 5: Llama 3.1 8B Instruct Model Loading Complete ---\")\n",
    "\n",
    "print(\"Model max_position_embeddings:\", model.config.max_position_embeddings)\n",
    "print(\"Tokenizer model_max_length:\", tokenizer.model_max_length)"
   ]
  },
  {
   "cell_type": "code",
   "execution_count": 11,
   "id": "14926f95-8929-4625-a7f8-32d505739420",
   "metadata": {},
   "outputs": [
    {
     "name": "stdout",
     "output_type": "stream",
     "text": [
      "Script started. Looking for zip file at: /raid/infolab/gaurav/Llama_Spider_A100_Project/spider_subset_data.zip\n",
      "Zip file found at /raid/infolab/gaurav/Llama_Spider_A100_Project/spider_subset_data.zip.\n",
      "Attempting to unzip /raid/infolab/gaurav/Llama_Spider_A100_Project/spider_subset_data.zip to /raid/infolab/gaurav/Llama_Spider_A100_Project/...\n",
      "Successfully unzipped files to /raid/infolab/gaurav/Llama_Spider_A100_Project/\n",
      "Contents of /raid/infolab/gaurav/Llama_Spider_A100_Project/:\n",
      "  - experiments_70b_llama\n",
      "  - .gitignore\n",
      "  - backup_to_github.sh\n",
      "  - Miniconda3-latest-Linux-x86_64.sh\n",
      "  - spider_subset_data.zip\n",
      "  - llm_generated_schema_examples.json\n",
      "  - randomQ_allDBs_run1\n",
      "  - .ipynb_checkpoints\n",
      "  - all_queries.txt\n",
      "  - .git\n",
      "  - miniconda3\n",
      "  - 100_queries.txt\n",
      "  - spider_subset_data\n",
      "  - __MACOSX\n",
      "\n",
      "Verifying extracted file paths...\n",
      "SUCCESS: dev.json path is valid: /raid/infolab/gaurav/Llama_Spider_A100_Project/spider_subset_data/dev.json\n",
      "SUCCESS: tables.json path is valid: /raid/infolab/gaurav/Llama_Spider_A100_Project/spider_subset_data/tables.json\n",
      "\n",
      "--- Ready to load data ---\n",
      "Path to dev.json: /raid/infolab/gaurav/Llama_Spider_A100_Project/spider_subset_data/dev.json\n",
      "Path to tables.json: /raid/infolab/gaurav/Llama_Spider_A100_Project/spider_subset_data/tables.json\n"
     ]
    }
   ],
   "source": [
    "import zipfile\n",
    "import os\n",
    "\n",
    "SERVER_ZIP_FILE_PATH = '/raid/infolab/gaurav/Llama_Spider_A100_Project/spider_subset_data.zip'\n",
    "EXTRACTION_DESTINATION_DIR_ON_SERVER = '/raid/infolab/gaurav/Llama_Spider_A100_Project/'\n",
    "\n",
    "DEV_JSON_PATH = None\n",
    "TABLES_JSON_PATH = None\n",
    "\n",
    "def unzip_data(zip_filepath, dest_dir):\n",
    "    \"\"\"\n",
    "    Unzips a zip file to a specified destination directory.\n",
    "    \"\"\"\n",
    "    print(f\"Attempting to unzip {zip_filepath} to {dest_dir}...\")\n",
    "    try:\n",
    "        \n",
    "        with zipfile.ZipFile(zip_filepath, 'r') as zip_ref:\n",
    "            zip_ref.extractall(dest_dir)\n",
    "        print(f\"Successfully unzipped files to {dest_dir}\")\n",
    "\n",
    "        print(f\"Contents of {dest_dir}:\")\n",
    "        for item in os.listdir(dest_dir):\n",
    "            print(f\"  - {item}\")\n",
    "        return True\n",
    "    except zipfile.BadZipFile:\n",
    "        print(f\"Error: {zip_filepath} is not a valid zip file or is corrupted.\")\n",
    "        return False\n",
    "    except FileNotFoundError:\n",
    "        print(f\"Error: Zip file not found at {zip_filepath}. Please ensure the path is correct.\")\n",
    "        return False\n",
    "    except PermissionError:\n",
    "        print(f\"Error: Permission denied to write to {dest_dir} or read {zip_filepath}.\")\n",
    "        return False\n",
    "    except Exception as e:\n",
    "        print(f\"An unexpected error occurred during unzipping: {e}\")\n",
    "        return False\n",
    "\n",
    "print(f\"Script started. Looking for zip file at: {SERVER_ZIP_FILE_PATH}\")\n",
    "\n",
    "if os.path.exists(SERVER_ZIP_FILE_PATH):\n",
    "    print(f\"Zip file found at {SERVER_ZIP_FILE_PATH}.\")\n",
    "    if unzip_data(SERVER_ZIP_FILE_PATH, EXTRACTION_DESTINATION_DIR_ON_SERVER):\n",
    "        \n",
    "        EXPECTED_EXTRACTED_FOLDER_NAME = 'spider_subset_data' # This is the folder INSIDE the zip\n",
    "\n",
    "        DEV_JSON_PATH = os.path.join(EXTRACTION_DESTINATION_DIR_ON_SERVER, EXPECTED_EXTRACTED_FOLDER_NAME, 'dev.json')\n",
    "        TABLES_JSON_PATH = os.path.join(EXTRACTION_DESTINATION_DIR_ON_SERVER, EXPECTED_EXTRACTED_FOLDER_NAME, 'tables.json')\n",
    "\n",
    "        print(\"\\nVerifying extracted file paths...\")\n",
    "        if os.path.exists(DEV_JSON_PATH):\n",
    "            print(f\"SUCCESS: dev.json path is valid: {DEV_JSON_PATH}\")\n",
    "        else:\n",
    "            print(f\"ERROR: dev.json NOT FOUND at expected path: {DEV_JSON_PATH}\")\n",
    "            print(f\"Please check the contents of {os.path.join(EXTRACTION_DESTINATION_DIR_ON_SERVER, EXPECTED_EXTRACTED_FOLDER_NAME)}\")\n",
    "\n",
    "\n",
    "        if os.path.exists(TABLES_JSON_PATH):\n",
    "            print(f\"SUCCESS: tables.json path is valid: {TABLES_JSON_PATH}\")\n",
    "        else:\n",
    "            print(f\"ERROR: tables.json NOT FOUND at expected path: {TABLES_JSON_PATH}\")\n",
    "            print(f\"Please check the contents of {os.path.join(EXTRACTION_DESTINATION_DIR_ON_SERVER, EXPECTED_EXTRACTED_FOLDER_NAME)}\")\n",
    "\n",
    "    else:\n",
    "        print(\"Unzipping failed on the server. Cannot define data paths.\")\n",
    "else:\n",
    "    print(f\"ERROR: Zip file NOT FOUND at {SERVER_ZIP_FILE_PATH} on the server.\")\n",
    "    print(\"Please ensure the 'scp' command was successful and the path is correct.\")\n",
    "\n",
    "\n",
    "if DEV_JSON_PATH and TABLES_JSON_PATH and os.path.exists(DEV_JSON_PATH) and os.path.exists(TABLES_JSON_PATH):\n",
    "    print(\"\\n--- Ready to load data ---\")\n",
    "    print(f\"Path to dev.json: {DEV_JSON_PATH}\")\n",
    "    print(f\"Path to tables.json: {TABLES_JSON_PATH}\")\n",
    "    \n",
    "else:\n",
    "    print(\"\\n--- Data paths are not correctly set up. Cannot proceed with data loading. ---\")"
   ]
  },
  {
   "cell_type": "code",
   "execution_count": 12,
   "id": "c9436941-4794-4d16-b686-8ab6bcb0e202",
   "metadata": {},
   "outputs": [
    {
     "name": "stdout",
     "output_type": "stream",
     "text": [
      "Loaded 1034 queries from dev.json\n",
      "Loaded 166 database schemas from tables.json\n"
     ]
    }
   ],
   "source": [
    "import json\n",
    "\n",
    "def load_json_data(file_path):\n",
    "    if os.path.exists(file_path):\n",
    "        with open(file_path, 'r') as f:\n",
    "            return json.load(f)\n",
    "    else:\n",
    "        print(f\"ERROR: File not found at {file_path}\")\n",
    "        return None\n",
    "\n",
    "dev_data = load_json_data(DEV_JSON_PATH)\n",
    "tables_data = load_json_data(TABLES_JSON_PATH)\n",
    "\n",
    "if dev_data and tables_data:\n",
    "    print(f\"Loaded {len(dev_data)} queries from dev.json\")\n",
    "    print(f\"Loaded {len(tables_data)} database schemas from tables.json\")\n",
    "else:\n",
    "    print(\"Failed to load Spider data. Please check paths and upload.\")"
   ]
  },
  {
   "cell_type": "code",
   "execution_count": 13,
   "id": "c7399408-4f5a-45f5-93e7-c44a2e7f2223",
   "metadata": {
    "scrolled": true
   },
   "outputs": [
    {
     "name": "stdout",
     "output_type": "stream",
     "text": [
      "--- Preparing Schemas and Appending LLM-Generated Examples ---\n",
      "Loaded LLM-generated examples for 166 databases.\n",
      "Loaded base schema data for 166 databases.\n",
      "\n",
      "Successfully populated `all_db_schemas_sql_strings` with 166 enriched entries.\n",
      "\n",
      "--- Verification of Enriched Schemas ---\n",
      "Schema for 'flight_company':\n",
      "CREATE TABLE airport (\n",
      "  id INTEGER PRIMARY KEY,\n",
      "  City TEXT,\n",
      "  Country TEXT,\n",
      "  IATA TEXT,\n",
      "  ICAO TEXT,\n",
      "  name TEXT\n",
      ");\n",
      "\n",
      "CREATE TABLE operate_company (\n",
      "  id INTEGER PRIMARY KEY,\n",
      "  name TEXT,\n",
      "  Type TEXT,\n",
      "  Principal_activities TEXT,\n",
      "  Incorporated_in TEXT,\n",
      "  Group_Equity_Shareholding REAL\n",
      ");\n",
      "\n",
      "CREATE TABLE flight (\n",
      "  id INTEGER PRIMARY KEY,\n",
      "  Vehicle_Flight_number TEXT,\n",
      "  Date TEXT,\n",
      "  Pilot TEXT,\n",
      "  Velocity REAL,\n",
      "  Altitude REAL,\n",
      "  airport_id INTEGER,\n",
      "  company_id INTEGER,\n",
      "  FOREIGN KEY (company_id) REFERENCES operate_company (id),\n",
      "  FOREIGN KEY (airport_id) REFERENCES airport (id)\n",
      ");\n",
      "\n",
      "/*\n",
      "Example questions for this schema:\n",
      "-- What is the average altitude of flights that departed from airports in the United States?\n",
      "-- What are the names of the pilots who flew flights operated by companies whose name starts with 'A', on Sundays?\n",
      "-- Which airport has the highest number of flights that departed on a Monday?\n",
      "-- What is the velocity of flights that departed from the airport with the IATA code 'LHR', on a day when the temperature was above 0 degrees Celsius?\n",
      "-- How many flights operated by companies with a Group Equity Shareholding greater than 50% have been operated by pilots who are also the principal of the company they work for?\n",
      "*/\n"
     ]
    }
   ],
   "source": [
    "# FINALIZED CELL: Prepare Schemas and Append LLM-Generated Examples\n",
    "\n",
    "import json\n",
    "import os\n",
    "\n",
    "# --- Helper Functions (No changes here) ---\n",
    "def load_schemas(tables_json_path):\n",
    "    with open(tables_json_path, 'r') as f:\n",
    "        schemas_list = json.load(f)\n",
    "    return {db_info['db_id']: db_info for db_info in schemas_list}\n",
    "\n",
    "def map_spider_type_to_sql_type(spider_type, is_pk_or_fk=False):\n",
    "    spider_type = spider_type.lower()\n",
    "    if spider_type == \"text\": return \"TEXT\"\n",
    "    if spider_type == \"number\": return \"INTEGER\" if is_pk_or_fk else \"REAL\"\n",
    "    if spider_type == \"time\": return \"DATETIME\"\n",
    "    if spider_type == \"boolean\": return \"BOOLEAN\"\n",
    "    return \"TEXT\"\n",
    "\n",
    "def escape_sql_identifier(name):\n",
    "    if \" \" in name or name.lower() in {\"select\", \"from\", \"where\", \"table\", \"primary\", \"key\", \"foreign\", \"index\", \"order\", \"group\"}:\n",
    "        return f'\"{name}\"'\n",
    "    return name\n",
    "\n",
    "def generate_create_table_sql_for_db(db_id, all_schemas_data):\n",
    "    # This function is the same as your original, with corrected formatting\n",
    "    if db_id not in all_schemas_data: return f\"-- Database ID '{db_id}' not found in schemas.\"\n",
    "    db_schema = all_schemas_data[db_id]\n",
    "    sql_statements = []\n",
    "    column_info_by_index = {i: {\"original_name\": c_name, \"table_index\": t_idx, \"original_table_name\": db_schema['table_names_original'][t_idx], \"type\": db_schema['column_types'][i]} for i, (t_idx, c_name) in enumerate(db_schema['column_names_original']) if c_name != \"*\"}\n",
    "    for table_idx, table_name_original in enumerate(db_schema['table_names_original']):\n",
    "        escaped_table_name = escape_sql_identifier(table_name_original)\n",
    "        column_definitions, table_constraints = [], []\n",
    "        current_table_columns = [{\"global_idx\": c_idx, \"name\": c_name, \"type\": db_schema['column_types'][c_idx]} for c_idx, (t_idx_for_col, c_name) in enumerate(db_schema['column_names_original']) if c_name != \"*\" and t_idx_for_col == table_idx]\n",
    "        pk_column_indices = [pk_idx for pk_idx in db_schema['primary_keys'] if column_info_by_index.get(pk_idx) and column_info_by_index[pk_idx]['table_index'] == table_idx]\n",
    "        pk_column_names = [column_info_by_index[idx]['original_name'] for idx in pk_column_indices]\n",
    "        for col_data in current_table_columns:\n",
    "            is_pk, is_fk = col_data['global_idx'] in pk_column_indices, any(fk[0] == col_data['global_idx'] for fk in db_schema['foreign_keys'])\n",
    "            sql_type = map_spider_type_to_sql_type(col_data['type'], is_pk_or_fk=(is_pk or is_fk))\n",
    "            col_def_str = f\"{escape_sql_identifier(col_data['name'])} {sql_type}\"\n",
    "            if is_pk and len(pk_column_names) == 1: col_def_str += \" PRIMARY KEY\"\n",
    "            column_definitions.append(col_def_str)\n",
    "        if len(pk_column_names) > 1: table_constraints.append(f\"PRIMARY KEY ({', '.join([escape_sql_identifier(n) for n in pk_column_names])})\")\n",
    "        for fk_col_idx, ref_col_idx in db_schema['foreign_keys']:\n",
    "            if column_info_by_index.get(fk_col_idx) and column_info_by_index[fk_col_idx]['table_index'] == table_idx:\n",
    "                fk_col_name, ref_table_name, ref_col_name = column_info_by_index[fk_col_idx]['original_name'], column_info_by_index[ref_col_idx]['original_table_name'], column_info_by_index[ref_col_idx]['original_name']\n",
    "                table_constraints.append(f\"FOREIGN KEY ({escape_sql_identifier(fk_col_name)}) REFERENCES {escape_sql_identifier(ref_table_name)} ({escape_sql_identifier(ref_col_name)})\")\n",
    "        create_table_statement = f\"CREATE TABLE {escaped_table_name} (\\n  \" + \",\\n  \".join(column_definitions + table_constraints) + \"\\n);\"\n",
    "        sql_statements.append(create_table_statement)\n",
    "    return \"\\n\\n\".join(sql_statements)\n",
    "\n",
    "# --- Main Execution for this Cell ---\n",
    "print(\"--- Preparing Schemas and Appending LLM-Generated Examples ---\")\n",
    "\n",
    "# Define paths for Colab\n",
    "SPIDER_DATA_DIR = '/raid/infolab/gaurav/Llama_Spider_A100_Project/spider_subset_data'\n",
    "# Path to your base schemas\n",
    "spider_tables_json_path = os.path.join(SPIDER_DATA_DIR, 'tables.json')\n",
    "# Path to your LLM-generated examples (assuming it's in the same folder)\n",
    "llm_examples_path = os.path.join(SPIDER_DATA_DIR, 'llm_generated_schema_examples.json')\n",
    "\n",
    "# This is the final dictionary your experiment will use\n",
    "all_db_schemas_sql_strings = {} \n",
    "\n",
    "try:\n",
    "    # 1. Load the LLM-generated questions map\n",
    "    if not os.path.exists(llm_examples_path):\n",
    "        raise FileNotFoundError(f\"The generated examples file was not found at '{llm_examples_path}'. Please run the generation cell first.\")\n",
    "    \n",
    "    with open(llm_examples_path, 'r') as f:\n",
    "        db_id_to_questions_map = json.load(f)\n",
    "    print(f\"Loaded LLM-generated examples for {len(db_id_to_questions_map)} databases.\")\n",
    "\n",
    "    # 2. Load the base schema structures from tables.json\n",
    "    all_db_schemas_data_loaded = load_schemas(spider_tables_json_path)\n",
    "    print(f\"Loaded base schema data for {len(all_db_schemas_data_loaded)} databases.\")\n",
    "\n",
    "    # 3. Iterate through each schema, generate its SQL, and append the LLM-generated examples\n",
    "    if all_db_schemas_data_loaded:\n",
    "        for db_id in all_db_schemas_data_loaded:\n",
    "            # Generate the base CREATE TABLE statements\n",
    "            base_sql_string = generate_create_table_sql_for_db(db_id, all_db_schemas_data_loaded)\n",
    "            \n",
    "            # Retrieve the generated questions for this db_id\n",
    "            example_questions = db_id_to_questions_map.get(db_id, [])\n",
    "            \n",
    "            # Append the examples if any were found\n",
    "            if example_questions:\n",
    "                examples_string = \"\\n\".join([f\"-- {q}\" for q in example_questions])\n",
    "                enriched_sql_string = f\"{base_sql_string}\\n\\n/*\\nExample questions for this schema:\\n{examples_string}\\n*/\"\n",
    "                all_db_schemas_sql_strings[db_id] = enriched_sql_string\n",
    "            else:\n",
    "                # If no examples were generated for this db_id, just use the base schema\n",
    "                all_db_schemas_sql_strings[db_id] = base_sql_string\n",
    "        \n",
    "        print(f\"\\nSuccessfully populated `all_db_schemas_sql_strings` with {len(all_db_schemas_sql_strings)} enriched entries.\")\n",
    "    else:\n",
    "        print(\"No schema data loaded from tables.json, so `all_db_schemas_sql_strings` is empty.\")\n",
    "\n",
    "except Exception as e:\n",
    "    import traceback\n",
    "    print(f\"FATAL ERROR during schema preparation: {e}\")\n",
    "    traceback.print_exc()\n",
    "    all_db_schemas_sql_strings = {}\n",
    "\n",
    "# --- Verification ---\n",
    "print(f\"\\n--- Verification of Enriched Schemas ---\")\n",
    "# Check a database that should have examples.\n",
    "db_to_verify = 'flight_company'\n",
    "if db_to_verify in all_db_schemas_sql_strings:\n",
    "    print(f\"Schema for '{db_to_verify}':\")\n",
    "    print(all_db_schemas_sql_strings[db_to_verify])\n",
    "else:\n",
    "    print(f\"Could not find schema for '{db_to_verify}' to verify.\")"
   ]
  },
  {
   "cell_type": "code",
   "execution_count": 14,
   "id": "884dc45c-f58c-4d88-9a41-26525d5f0d75",
   "metadata": {},
   "outputs": [
    {
     "name": "stdout",
     "output_type": "stream",
     "text": [
      "--- Verifying for Overlap Between Dev and Train Datasets ---\n",
      "SUCCESS: Loaded 20 unique db_ids from 'dev.json'.\n",
      "SUCCESS: Loaded 140 unique db_ids from 'train_spider.json'.\n",
      "SUCCESS: Loaded 6 unique db_ids from 'train_others.json'.\n",
      "Total unique db_ids in training sources: 146\n",
      "\n",
      "--- Analysis Report ---\n",
      "SUCCESS: No overlapping database IDs were found between the development and training sets.\n",
      "This is the expected and correct behavior for a standard Spider dataset.\n",
      "-------------------------\n"
     ]
    }
   ],
   "source": [
    "import os\n",
    "import json\n",
    "\n",
    "# --- This cell checks for overlapping db_ids between train and dev sets ---\n",
    "\n",
    "# Define the base directory for Spider data\n",
    "SPIDER_DATA_DIR = '/raid/infolab/gaurav/Llama_Spider_A100_Project/spider_subset_data/'\n",
    "\n",
    "# Define full paths to the relevant files\n",
    "dev_file = os.path.join(SPIDER_DATA_DIR, 'dev.json')\n",
    "train_spider_file = os.path.join(SPIDER_DATA_DIR, 'train_spider.json')\n",
    "train_others_file = os.path.join(SPIDER_DATA_DIR, 'train_others.json')\n",
    "\n",
    "def get_db_ids_from_file(filepath):\n",
    "    \"\"\"A helper function to load a JSON file and return a set of its db_ids.\"\"\"\n",
    "    if not os.path.exists(filepath):\n",
    "        print(f\"INFO: File not found at '{filepath}', skipping.\")\n",
    "        return set()\n",
    "    try:\n",
    "        with open(filepath, 'r') as f:\n",
    "            data = json.load(f)\n",
    "        db_ids = {item['db_id'] for item in data}\n",
    "        print(f\"SUCCESS: Loaded {len(db_ids)} unique db_ids from '{os.path.basename(filepath)}'.\")\n",
    "        return db_ids\n",
    "    except Exception as e:\n",
    "        print(f\"ERROR: Failed to read or parse '{filepath}'. Reason: {e}\")\n",
    "        return set()\n",
    "\n",
    "print(\"--- Verifying for Overlap Between Dev and Train Datasets ---\")\n",
    "\n",
    "# 1. Load the dev set IDs\n",
    "dev_db_ids = get_db_ids_from_file(dev_file)\n",
    "\n",
    "# 2. Load the training set IDs (from both files)\n",
    "train_spider_ids = get_db_ids_from_file(train_spider_file)\n",
    "train_others_ids = get_db_ids_from_file(train_others_file)\n",
    "\n",
    "# Combine the training IDs into a single set\n",
    "all_train_db_ids = train_spider_ids.union(train_others_ids)\n",
    "print(f\"Total unique db_ids in training sources: {len(all_train_db_ids)}\")\n",
    "\n",
    "print(\"\\n--- Analysis Report ---\")\n",
    "\n",
    "# 3. Find and report the intersection\n",
    "if not dev_db_ids:\n",
    "    print(\"CRITICAL: dev.json could not be loaded. Cannot perform the overlap check.\")\n",
    "elif not all_train_db_ids:\n",
    "    print(\"WARNING: No training files could be loaded. Overlap check is incomplete.\")\n",
    "else:\n",
    "    # Calculate the intersection of the two sets\n",
    "    overlapping_ids = dev_db_ids.intersection(all_train_db_ids)\n",
    "\n",
    "    if not overlapping_ids:\n",
    "        print(\"SUCCESS: No overlapping database IDs were found between the development and training sets.\")\n",
    "        print(\"This is the expected and correct behavior for a standard Spider dataset.\")\n",
    "    else:\n",
    "        print(f\"WARNING: Found {len(overlapping_ids)} overlapping database(s)!\")\n",
    "        print(\"This is not standard and can lead to data leakage in evaluation.\")\n",
    "        print(\"The following database IDs are present in BOTH your dev and training files:\")\n",
    "        # Sort for consistent, readable output\n",
    "        for db_id in sorted(list(overlapping_ids)):\n",
    "            print(f\"  - {db_id}\")\n",
    "\n",
    "print(\"-\" * 25)"
   ]
  },
  {
   "cell_type": "code",
   "execution_count": 15,
   "id": "dca38b07-cca2-42a7-91f8-72770d2cce7a",
   "metadata": {},
   "outputs": [
    {
     "name": "stdout",
     "output_type": "stream",
     "text": [
      "Loaded 1034 queries from '/raid/infolab/gaurav/Llama_Spider_A100_Project/all_queries.txt':\n",
      "  Query 1: 'How many 'United Airlines' flights go to Airport 'ASY'?' (True DB: flight_2)\n",
      "  Query 2: 'What are the name of the countries where there is not a single car maker?' (True DB: car_1)\n",
      "  Query 3: 'What are the date and the operating professional's first name of each treatment?' (True DB: dog_kennels)\n",
      "  Query 4: 'List each owner's first name, last name, and the size of his for her dog.' (True DB: dog_kennels)\n",
      "  Query 5: 'Find the first name and age of students who have a dog but do not have a cat as a pet.' (True DB: pets_1)\n",
      "  Query 6: 'What is the number of cars with a greater accelerate than the one with the most horsepower?' (True DB: car_1)\n",
      "  Query 7: 'What are the names of the teachers who are aged either 32 or 33?' (True DB: course_teach)\n",
      "  Query 8: 'Return the maximum final tables made across all poker players who have earnings below 200000.' (True DB: poker_player)\n",
      "  Query 9: 'Show template ids, version numbers, and template type codes for all templates.' (True DB: cre_Doc_Template_Mgt)\n",
      "  Query 10: 'What is the most common nationality of people?' (True DB: poker_player)\n",
      "  Query 11: 'find the pixel aspect ratio and nation of the tv channels that do not use English.' (True DB: tvshow)\n",
      "  Query 12: 'What is the template type code of the template used by document with the name \"Data base\"?' (True DB: cre_Doc_Template_Mgt)\n",
      "  Query 13: 'What is the maker of the carr produced in the earliest year and what year was it?' (True DB: car_1)\n",
      "  Query 14: 'Count the number of high schoolers.' (True DB: network_1)\n",
      "  Query 15: 'Find the average life expectancy and total population for each continent where the average life expectancy is shorter than 72?' (True DB: world_1)\n",
      "  Query 16: 'List the date of each treatment, together with the first name of the professional who operated it.' (True DB: dog_kennels)\n",
      "  Query 17: 'Show all template ids and number of documents using each template.' (True DB: cre_Doc_Template_Mgt)\n",
      "  Query 18: 'Who is the first student to register? List the first name, middle name and last name.' (True DB: student_transcripts_tracking)\n",
      "  Query 19: 'Show the name of the teacher for the math course.' (True DB: course_teach)\n",
      "  Query 20: 'Find the id and name of the museum that has the most staff members?' (True DB: museum_visit)\n",
      "  Query 21: 'What are flight numbers of flights departing from Airport \"APG\"?' (True DB: flight_2)\n",
      "  Query 22: 'What are the names of poker players in descending order of earnings?' (True DB: poker_player)\n",
      "  Query 23: 'What is the average earnings of poker players?' (True DB: poker_player)\n",
      "  Query 24: 'Which year had the most matches?' (True DB: wta_1)\n",
      "  Query 25: 'Find the names of stores whose number products is more than the average number of products.' (True DB: employee_hire_evaluation)\n",
      "  Query 26: 'What is the money rank of the tallest poker player?' (True DB: poker_player)\n",
      "  Query 27: 'What is the document id with least number of paragraphs?' (True DB: cre_Doc_Template_Mgt)\n",
      "  Query 28: 'How many cars have a larger accelerate than the car with the largest horsepower?' (True DB: car_1)\n",
      "  Query 29: 'What is the program id and the summary of the degree that has the most students enrolled?' (True DB: student_transcripts_tracking)\n",
      "  Query 30: 'What is the number of nations that use English and Dutch?' (True DB: world_1)\n",
      "  Query 31: 'What is the document id, template id and description for document named \"Robbin CV\"?' (True DB: cre_Doc_Template_Mgt)\n",
      "  Query 32: 'What are the codes of countries where Spanish is spoken by the largest percentage of people?' (True DB: world_1)\n",
      "  Query 33: 'What is the last name of the student who has a cat that is 3 years old?' (True DB: pets_1)\n",
      "  Query 34: 'What are the first name and last name of the professionals who have done treatment with cost below average?' (True DB: dog_kennels)\n",
      "  Query 35: 'What is average life expectancy in the countries where English is not the official language?' (True DB: world_1)\n",
      "  Query 36: 'What is the average weight of cars each year?' (True DB: car_1)\n",
      "  Query 37: 'Find the first name and age of students who have a pet.' (True DB: pets_1)\n",
      "  Query 38: 'List all singer names in concerts in year 2014.' (True DB: concert_singer)\n",
      "  Query 39: 'Return the names of cities that have a population between 160000 and 900000 .' (True DB: world_1)\n",
      "  Query 40: 'Which city and country is the Alton airport at?' (True DB: flight_2)\n",
      "  Query 41: 'find the names of museums which have more staff than the minimum staff number of all museums opened after 2010.' (True DB: museum_visit)\n",
      "  Query 42: 'Tell me the age of the oldest dog.' (True DB: dog_kennels)\n",
      "  Query 43: 'How many orchestras does each record company manage?' (True DB: orchestra)\n",
      "  Query 44: 'Which distinctive models are produced by maker with the full name General Motors or weighing more than 3500?' (True DB: car_1)\n",
      "  Query 45: 'What are the names of players who won in both 2013 and 2016?' (True DB: wta_1)\n",
      "  Query 46: 'Give the flight numbers of flights leaving from APG.' (True DB: flight_2)\n",
      "  Query 47: 'What is the average edispl for all volvos?' (True DB: car_1)\n",
      "  Query 48: 'Show the names of conductors and the orchestras they have conducted.' (True DB: orchestra)\n",
      "  Query 49: 'What is the average and maximum age for each pet type?' (True DB: pets_1)\n",
      "  Query 50: 'What are the death and injury situations caused by the ship with tonnage 't'?' (True DB: battle_death)\n",
      "  Query 51: 'List the arrival date and the departure date for all the dogs.' (True DB: dog_kennels)\n",
      "  Query 52: 'What is the average age of all the dogs?' (True DB: dog_kennels)\n",
      "  Query 53: 'What are years of founding for orchestras that have had more than a single performance?' (True DB: orchestra)\n",
      "  Query 54: 'Find the number of pets whose weight is heavier than 10.' (True DB: pets_1)\n",
      "  Query 55: 'List the email, cell phone and home phone of all the professionals.' (True DB: dog_kennels)\n",
      "  Query 56: 'What are all different template ids used for documents, and how many times were each of them used?' (True DB: cre_Doc_Template_Mgt)\n",
      "  Query 57: 'What are the regions that use English or Dutch?' (True DB: world_1)\n",
      "  Query 58: 'Return the different descriptions for templates that have been used in a document.' (True DB: cre_Doc_Template_Mgt)\n",
      "  Query 59: 'List pairs of the owner's first name and the dogs's name.' (True DB: dog_kennels)\n",
      "  Query 60: 'What is the number of cartoones written by Joseph Kuhr?' (True DB: tvshow)\n",
      "  Query 61: 'List the names of conductors in ascending order of age.' (True DB: orchestra)\n",
      "  Query 62: 'Find the first name and gender of student who have more than one pet.' (True DB: pets_1)\n",
      "  Query 63: 'Show the names of students who have a grade higher than 5 and have at least 2 friends.' (True DB: network_1)\n",
      "  Query 64: 'Count the number of distinct store locations.' (True DB: employee_hire_evaluation)\n",
      "  Query 65: 'What is the code of airport that has the highest number of flights?' (True DB: flight_2)\n",
      "  Query 66: 'What is the name of the series that has the episode \"A Love of a Lifetime\"?' (True DB: tvshow)\n",
      "  Query 67: 'Show the names of singers and the total sales of their songs.' (True DB: singer)\n",
      "  Query 68: 'Find the number of orchestras whose record format is \"CD\" or \"DVD\".' (True DB: orchestra)\n",
      "  Query 69: 'How many poker players are there?' (True DB: poker_player)\n",
      "  Query 70: 'How many matches were played in each year?' (True DB: wta_1)\n",
      "  Query 71: 'Find the first names of owners living in Virginia and the names of dogs they own.' (True DB: dog_kennels)\n",
      "  Query 72: 'Show paragraph details for paragraph with text 'Korea ' .' (True DB: cre_Doc_Template_Mgt)\n",
      "  Query 73: 'Count the number of friends Kyle has.' (True DB: network_1)\n",
      "  Query 74: 'What are the ids and names of all countries that either have more than 3 car makers or produce fiat model ?' (True DB: car_1)\n",
      "  Query 75: 'Return the names of the 3 countries with the fewest people.' (True DB: world_1)\n",
      "  Query 76: 'What are the name, population, and life expectancy of the largest Asian country by land?' (True DB: world_1)\n",
      "  Query 77: 'Which country has the most of TV Channels? List the country and number of TV Channels it has.' (True DB: tvshow)\n",
      "  Query 78: 'Find the type and weight of the youngest pet.' (True DB: pets_1)\n",
      "  Query 79: 'What are the country codes for countries that do not speak English?' (True DB: world_1)\n",
      "  Query 80: 'What are the airline names and abbreviations for airlines in the USA?' (True DB: flight_2)\n",
      "  Query 81: 'Which are the car makers which produce at least 2 models and more than 3 car makers ? List the id and the maker .' (True DB: car_1)\n",
      "  Query 82: 'How many matches were played in 2013 or 2016?' (True DB: wta_1)\n",
      "  Query 83: 'Show all template type codes and the number of documents using each type.' (True DB: cre_Doc_Template_Mgt)\n",
      "  Query 84: 'Find the make and production time of the cars that were produced in the earliest year?' (True DB: car_1)\n",
      "  Query 85: 'How many cartoons were written by \"Joseph Kuhr\"?' (True DB: tvshow)\n",
      "  Query 86: 'What are the names of countries that speak more than 2 languages, as well as how many languages they speak?' (True DB: world_1)\n",
      "  Query 87: 'Give me all the information about hiring.' (True DB: employee_hire_evaluation)\n",
      "  Query 88: 'Find the average age of students who do not have any pet .' (True DB: pets_1)\n",
      "  Query 89: 'What are the names of conductors who have conducted orchestras founded after the year 2008?' (True DB: orchestra)\n",
      "  Query 90: 'How many car models are produced by each maker ? Only list the count and the maker full name .' (True DB: car_1)\n",
      "  Query 91: 'Find the year that has the most number of matches.' (True DB: wta_1)\n",
      "  Query 92: 'What are the different models created by either the car maker General Motors or weighed more than 3500?' (True DB: car_1)\n",
      "  Query 93: 'What are the names and release years for all the songs of the youngest singer?' (True DB: concert_singer)\n",
      "  Query 94: 'Find the id of students who do not have a cat pet.' (True DB: pets_1)\n",
      "  Query 95: 'List the title of all  Cartoons showed on TV Channel with series name \"Sky Radio\".' (True DB: tvshow)\n",
      "  Query 96: 'Return the id and type code of the template that is used for the greatest number of documents.' (True DB: cre_Doc_Template_Mgt)\n",
      "  Query 97: 'Return the different names of cities that are in Asia and for which Chinese is the official language.' (True DB: world_1)\n",
      "  Query 98: 'List all document ids with at least two paragraphs.' (True DB: cre_Doc_Template_Mgt)\n",
      "  Query 99: 'Which address holds the most number of students currently? List the address id and all lines.' (True DB: student_transcripts_tracking)\n",
      "  Query 100: 'Show ids for all templates not used by any document.' (True DB: cre_Doc_Template_Mgt)\n",
      "  Query 101: 'List the vote ids, phone numbers and states of all votes.' (True DB: voter_1)\n",
      "  Query 102: 'Show the stadium names without any concert.' (True DB: concert_singer)\n",
      "  Query 103: 'find the id, name and age for visitors who visited some museums more than once.' (True DB: museum_visit)\n",
      "  Query 104: 'Show the document id with paragraph text 'Brazil' and 'Ireland'.' (True DB: cre_Doc_Template_Mgt)\n",
      "  Query 105: 'Which shops' number products is above the average? Give me the shop names.' (True DB: employee_hire_evaluation)\n",
      "  Query 106: 'What is the zip code of the address in the city Port Chelsea?' (True DB: student_transcripts_tracking)\n",
      "  Query 107: 'List the title of all cartoon directed by \"Ben Jones\" or \"Brandon Vietti\".' (True DB: tvshow)\n",
      "  Query 108: 'What are the template ids of any templates used in more than a single document?' (True DB: cre_Doc_Template_Mgt)\n",
      "  Query 109: 'What are the names and ranks of the three youngest winners across all matches?' (True DB: wta_1)\n",
      "  Query 110: 'Give the nationality that is most common across all people.' (True DB: poker_player)\n",
      "  Query 111: 'What is the name and capacity for the stadium with the highest average attendance?' (True DB: concert_singer)\n",
      "  Query 112: 'What is the total surface area of the continents Asia and Europe?' (True DB: world_1)\n",
      "  Query 113: 'What are the first names and country codes for players who won both the WTA Championships and the Australian Open?' (True DB: wta_1)\n",
      "  Query 114: 'Give me the id, role and email of the professionals who did not perform any treatment on dogs.' (True DB: dog_kennels)\n",
      "  Query 115: 'What is the average life expectancy in African countries that are republics?' (True DB: world_1)\n",
      "  Query 116: 'What is the name of country that has the shortest life expectancy in Asia?' (True DB: world_1)\n",
      "  Query 117: 'What are the ids of the students who do not own cats as pets?' (True DB: pets_1)\n",
      "  Query 118: 'What is the semester which most student registered in? Show both the name and the id.' (True DB: student_transcripts_tracking)\n",
      "  Query 119: 'What is the name of the conductor who has worked the greatest number of years?' (True DB: orchestra)\n",
      "  Query 120: 'List each language and the number of TV Channels using it.' (True DB: tvshow)\n",
      "  Query 121: 'Return the type code of the template type with the description \"Book\".' (True DB: cre_Doc_Template_Mgt)\n",
      "  Query 122: 'How many singers are from each country?' (True DB: concert_singer)\n",
      "  Query 123: 'What are the birth years and citizenships of the singers?' (True DB: singer)\n",
      "  Query 124: 'List the Episode of all  TV series showed on TV Channel with series name \"Sky Radio\".' (True DB: tvshow)\n",
      "  Query 125: 'What is the code of the country with the most players?' (True DB: wta_1)\n",
      "  Query 126: 'Which year has most number of concerts?' (True DB: concert_singer)\n",
      "  Query 127: 'Return the lowest version number, along with its corresponding template type code.' (True DB: cre_Doc_Template_Mgt)\n",
      "  Query 128: 'What is the number of continents?' (True DB: car_1)\n",
      "  Query 129: 'What is the charge amount of the most expensive charge type?' (True DB: dog_kennels)\n",
      "  Query 130: 'What are the different models for the cards produced after 1980?' (True DB: car_1)\n",
      "  Query 131: 'List top 3 highest Rating  TV series. List the TV series's Episode and Rating.' (True DB: tvshow)\n",
      "  Query 132: 'What are the names and areas of countries with the top 5 largest area?' (True DB: world_1)\n",
      "  Query 133: 'How many owners temporarily do not have any dogs?' (True DB: dog_kennels)\n",
      "  Query 134: 'Compute the average age of all the dogs.' (True DB: dog_kennels)\n",
      "  Query 135: 'Show names for all stadiums except for stadiums having a concert in year 2014.' (True DB: concert_singer)\n",
      "  Query 136: 'What is the TV Channel of TV series with Episode \"A Love of a Lifetime\"? List the TV Channel's series name.' (True DB: tvshow)\n",
      "  Query 137: 'What are the minimum and maximum number of products across all the shops?' (True DB: employee_hire_evaluation)\n",
      "  Query 138: 'what are all the addresses including line 1 and line 2?' (True DB: student_transcripts_tracking)\n",
      "  Query 139: 'What are the names and ids of all countries with at least one car maker?' (True DB: car_1)\n",
      "  Query 140: 'Find the average and maximum age for each type of pet.' (True DB: pets_1)\n",
      "  Query 141: 'What is the sname of every sing that does not have any song?' (True DB: singer)\n",
      "  Query 142: 'What are the names of all courses that have some students enrolled?' (True DB: student_transcripts_tracking)\n",
      "  Query 143: 'Please show the most common citizenship of singers.' (True DB: singer)\n",
      "  Query 144: 'List the name of teachers whose hometown is not `` Little Lever Urban District '' .' (True DB: course_teach)\n",
      "  Query 145: 'How many courses in total are listed?' (True DB: student_transcripts_tracking)\n",
      "  Query 146: 'Find the production code and channel of the most recently aired cartoon .' (True DB: tvshow)\n",
      "  Query 147: 'Which country does Airline \"JetBlue Airways\" belong to?' (True DB: flight_2)\n",
      "  Query 148: 'What is the number of the cars with horsepower more than 150?' (True DB: car_1)\n",
      "  Query 149: 'Show all distinct template type codes for all templates.' (True DB: cre_Doc_Template_Mgt)\n",
      "  Query 150: 'List the number of different series names and contents in the TV Channel table.' (True DB: tvshow)\n",
      "  Query 151: 'How many museums were opened after 2013 or before 2008?' (True DB: museum_visit)\n",
      "  Query 152: 'Return the template type description of the template type with the code AD.' (True DB: cre_Doc_Template_Mgt)\n",
      "  Query 153: 'On average, when were the transcripts printed?' (True DB: student_transcripts_tracking)\n",
      "  Query 154: 'List the record company shared by the most number of orchestras.' (True DB: orchestra)\n",
      "  Query 155: 'List the names of employees and sort in ascending order of age.' (True DB: employee_hire_evaluation)\n",
      "  Query 156: 'How many dog pets are raised by female students?' (True DB: pets_1)\n",
      "  Query 157: 'What is the number of car models created by the car maker American Motor Company?' (True DB: car_1)\n",
      "  Query 158: 'Return the names and template ids for documents that contain the letter w in their description.' (True DB: cre_Doc_Template_Mgt)\n",
      "  Query 159: 'Which template type code is used by most number of documents?' (True DB: cre_Doc_Template_Mgt)\n",
      "  Query 160: 'For model volvo, how many cylinders does the car with the least accelerate have?' (True DB: car_1)\n",
      "  Query 161: 'For students who have pets , how many pets does each student have ? list their ids instead of names .' (True DB: pets_1)\n",
      "  Query 162: 'Which student has enrolled for the most times in any program? List the id, first name, middle name, last name, the number of enrollments and student id.' (True DB: student_transcripts_tracking)\n",
      "  Query 163: 'List the area codes in which voters voted both for the contestant 'Tabatha Gehling' and the contestant 'Kelly Clauss'.' (True DB: voter_1)\n",
      "  Query 164: 'Give the airline with abbreviation 'UAL'.' (True DB: flight_2)\n",
      "  Query 165: 'Describe the section h.' (True DB: student_transcripts_tracking)\n",
      "  Query 166: 'Find the number of professionals who have ever treated dogs.' (True DB: dog_kennels)\n",
      "  Query 167: 'How many available features are there in total?' (True DB: real_estate_properties)\n",
      "  Query 168: 'What is the number of carsw ith over 6 cylinders?' (True DB: car_1)\n",
      "  Query 169: 'List the name and tonnage ordered by in descending alphaetical order for the names.' (True DB: battle_death)\n",
      "  Query 170: 'List the names of the dogs of the rarest breed and the treatment dates of them.' (True DB: dog_kennels)\n",
      "  Query 171: 'How many high schoolers are there?' (True DB: network_1)\n",
      "  Query 172: 'What is the average grade of students who have friends?' (True DB: network_1)\n",
      "  Query 173: 'How much does each charge type costs? List both charge type and amount.' (True DB: dog_kennels)\n",
      "  Query 174: 'What is the average age for all students who do not own any pets ?' (True DB: pets_1)\n",
      "  Query 175: 'How many conductors are there?' (True DB: orchestra)\n",
      "  Query 176: 'Find the highest rank of losers in all matches.' (True DB: wta_1)\n",
      "  Query 177: 'Show the student IDs and numbers of friends corresponding to each.' (True DB: network_1)\n",
      "  Query 178: 'What is the model of the car with the smallest amount of horsepower?' (True DB: car_1)\n",
      "  Query 179: 'Which regions speak Dutch or English?' (True DB: world_1)\n",
      "  Query 180: 'What are the citizenships that are shared by singers with a birth year before 1945 and after 1955?' (True DB: singer)\n",
      "  Query 181: 'Return the number of flights departing from Aberdeen.' (True DB: flight_2)\n",
      "  Query 182: 'How many concerts are there in year 2014 or 2015?' (True DB: concert_singer)\n",
      "  Query 183: 'Return the number of flights.' (True DB: flight_2)\n",
      "  Query 184: 'What are each owner's first name, last name, and the size of their dog?' (True DB: dog_kennels)\n",
      "  Query 185: 'What is the id and weight of every pet who is older than 1?' (True DB: pets_1)\n",
      "  Query 186: 'Show the names of high school students and their corresponding number of friends.' (True DB: network_1)\n",
      "  Query 187: 'What are the names of all cartoons directed by Ben Jones?' (True DB: tvshow)\n",
      "  Query 188: 'find the names of loser and winner who played in the match with greatest number of minutes.' (True DB: wta_1)\n",
      "  Query 189: 'What are the names and ids of every course with less than 2 sections?' (True DB: student_transcripts_tracking)\n",
      "  Query 190: 'Find the average age of losers and winners of all matches.' (True DB: wta_1)\n",
      "  Query 191: 'Show the names of singers that have more than one song.' (True DB: singer)\n",
      "  Query 192: 'Which semesters do not have any student enrolled? List the semester name.' (True DB: student_transcripts_tracking)\n",
      "  Query 193: 'What are the names of documents that use templates with the code BK?' (True DB: cre_Doc_Template_Mgt)\n",
      "  Query 194: 'Show the name of teachers aged either 32 or 33?' (True DB: course_teach)\n",
      "  Query 195: 'List the number of all matches who played in years of 2013 or 2016.' (True DB: wta_1)\n",
      "  Query 196: 'Find the first name of students who have cat or dog pet.' (True DB: pets_1)\n",
      "  Query 197: 'Show all template type codes and number of templates for each.' (True DB: cre_Doc_Template_Mgt)\n",
      "  Query 198: 'What are the titles of the cartoons sorted alphabetically?' (True DB: tvshow)\n",
      "  Query 199: 'What is the name of the conductor who has conducted the most orchestras?' (True DB: orchestra)\n",
      "  Query 200: 'What is the name of the shop that is hiring the largest number of employees?' (True DB: employee_hire_evaluation)\n",
      "  Query 201: 'Show all the grades of the high schoolers.' (True DB: network_1)\n",
      "  Query 202: 'What is the number of distinct continents where Chinese is spoken?' (True DB: world_1)\n",
      "  Query 203: 'What is Weekly Rank of TV series with Episode \"A Love of a Lifetime\"?' (True DB: tvshow)\n",
      "  Query 204: 'Find the name of the makers that produced some cars in the year of 1970?' (True DB: car_1)\n",
      "  Query 205: 'What are the contestant numbers and names of the contestants who had at least two votes?' (True DB: voter_1)\n",
      "  Query 206: 'For each shop, return the number of employees working there and the name of the shop.' (True DB: employee_hire_evaluation)\n",
      "  Query 207: 'What are the ids, names, and descriptions for all documents?' (True DB: cre_Doc_Template_Mgt)\n",
      "  Query 208: 'What is the most common singer citizenship ?' (True DB: singer)\n",
      "  Query 209: 'List the names and birth dates of people in ascending alphabetical order of name.' (True DB: poker_player)\n",
      "  Query 210: 'Find the id, last name and cell phone of the professionals who live in the state of Indiana or have performed more than two treatments.' (True DB: dog_kennels)\n",
      "  Query 211: 'Return the money rank of the player with the greatest earnings.' (True DB: poker_player)\n",
      "  Query 212: 'Which makers designed more than 3 car models? List full name and the id.' (True DB: car_1)\n",
      "  Query 213: 'Which continent speaks the most languages?' (True DB: world_1)\n",
      "  Query 214: 'What is the average number of injuries caused each time?' (True DB: battle_death)\n",
      "  Query 215: 'What are the different template type codes?' (True DB: cre_Doc_Template_Mgt)\n",
      "  Query 216: 'Find the name of the employee who got the highest one time bonus.' (True DB: employee_hire_evaluation)\n",
      "  Query 217: 'What is the id and type code for the template used by the most documents?' (True DB: cre_Doc_Template_Mgt)\n",
      "  Query 218: 'Find the major and age of students who do not have a cat pet.' (True DB: pets_1)\n",
      "  Query 219: 'Find the name of airports which do not have any flight in and out.' (True DB: flight_2)\n",
      "  Query 220: 'Count the number of dogs that went through a treatment.' (True DB: dog_kennels)\n",
      "  Query 221: 'How many airlines do we have?' (True DB: flight_2)\n",
      "  Query 222: 'What is the continent name which Anguilla belongs to?' (True DB: world_1)\n",
      "  Query 223: 'What is the number of car models that are produced by each maker and what is the id and full name of each maker?' (True DB: car_1)\n",
      "  Query 224: 'Show me the cost of the most recently performed treatment.' (True DB: dog_kennels)\n",
      "  Query 225: 'How many TV Channel using language English?' (True DB: tvshow)\n",
      "  Query 226: 'Show the citizenship shared by singers with birth year before 1945 and after 1955.' (True DB: singer)\n",
      "  Query 227: 'What are the names and id of courses having at most 2 sections?' (True DB: student_transcripts_tracking)\n",
      "  Query 228: 'What are names of countries with the top 3 largest population?' (True DB: world_1)\n",
      "  Query 229: 'List the first name and birth date of all players from the country with code USA.' (True DB: wta_1)\n",
      "  Query 230: 'What are the names of the singers and number of concerts for each person?' (True DB: concert_singer)\n",
      "  Query 231: 'Find the states where both owners and professionals live.' (True DB: dog_kennels)\n",
      "  Query 232: 'What is the name of the visitor who visited both a museum opened before 2009 and a museum opened after 2011?' (True DB: museum_visit)\n",
      "  Query 233: 'What are airport names at City 'Aberdeen'?' (True DB: flight_2)\n",
      "  Query 234: 'What are all the makers and models?' (True DB: car_1)\n",
      "  Query 235: 'What is the maximum number of times that a course shows up in different transcripts and what is that course's enrollment id?' (True DB: student_transcripts_tracking)\n",
      "  Query 236: 'List document IDs, document names, and document descriptions for all documents.' (True DB: cre_Doc_Template_Mgt)\n",
      "  Query 237: 'What are the names of high schoolers who have a grade of over 5 and have 2 or more friends?' (True DB: network_1)\n",
      "  Query 238: 'What is the number of employees from each city?' (True DB: employee_hire_evaluation)\n",
      "  Query 239: 'List names of conductors in descending order of years of work.' (True DB: orchestra)\n",
      "  Query 240: 'How many 'United Airlines' flights depart from Airport 'AHD'?' (True DB: flight_2)\n",
      "  Query 241: 'Which airlines have departing flights from both APG and CVO airports?' (True DB: flight_2)\n",
      "  Query 242: 'How many shops are there in each location?' (True DB: employee_hire_evaluation)\n",
      "  Query 243: 'What are the names , themes , and number of singers for every concert ?' (True DB: concert_singer)\n",
      "  Query 244: 'Of all the contestants who got voted, what is the contestant number and name of the contestant who got least votes?' (True DB: voter_1)\n",
      "  Query 245: 'What is the date and id of the transcript with at least 2 courses listed?' (True DB: student_transcripts_tracking)\n",
      "  Query 246: 'Give the names of nations that speak both English and French.' (True DB: world_1)\n",
      "  Query 247: 'Count the number of countries in Asia.' (True DB: world_1)\n",
      "  Query 248: 'Find all airlines that have flights from both airports 'APG' and 'CVO'.' (True DB: flight_2)\n",
      "  Query 249: 'Find the abbreviation and country of the airline that has fewest number of flights?' (True DB: flight_2)\n",
      "  Query 250: 'Show the hometowns shared by at least two teachers.' (True DB: course_teach)\n",
      "  Query 251: 'What are the details for the paragraph that includes the text 'Korea ' ?' (True DB: cre_Doc_Template_Mgt)\n",
      "  Query 252: 'Count the number of likes for each student id.' (True DB: network_1)\n",
      "  Query 253: 'What are the African countries that have a  population less than any country in Asia?' (True DB: world_1)\n",
      "  Query 254: 'Tell me the number of dogs that have not received any treatment .' (True DB: dog_kennels)\n",
      "  Query 255: 'Count the number of countries for which Spanish is the predominantly spoken language.' (True DB: world_1)\n",
      "  Query 256: 'Which professionals have done at least two types of treatments? List the professional id and cell phone.' (True DB: dog_kennels)\n",
      "  Query 257: 'Which grade has the most high schoolers?' (True DB: network_1)\n",
      "  Query 258: 'What are the Package Options of the TV Channels whose series names are Sky Radio?' (True DB: tvshow)\n",
      "  Query 259: 'What is the name of each teacher and what course they teach?' (True DB: course_teach)\n",
      "  Query 260: 'What is the language spoken by the largest percentage of people in each country?' (True DB: world_1)\n",
      "  Query 261: 'What are the names of the winner and loser who played in the longest match?' (True DB: wta_1)\n",
      "  Query 262: 'Count the number of different nationalities.' (True DB: poker_player)\n",
      "  Query 263: 'Show the name of the conductor that has conducted the most number of orchestras.' (True DB: orchestra)\n",
      "  Query 264: 'How many documents do we have?' (True DB: cre_Doc_Template_Mgt)\n",
      "  Query 265: 'Show the names of conductors that have conducted more than one orchestras.' (True DB: orchestra)\n",
      "  Query 266: 'Count the number of employees for each city.' (True DB: employee_hire_evaluation)\n",
      "  Query 267: 'What are the names of the teachers who teach at least two courses?' (True DB: course_teach)\n",
      "  Query 268: 'How many different templates do all document use?' (True DB: cre_Doc_Template_Mgt)\n",
      "  Query 269: 'How many total tours were there for each ranking date?' (True DB: wta_1)\n",
      "  Query 270: 'How is the math course described?' (True DB: student_transcripts_tracking)\n",
      "  Query 271: 'What is the record company used by the greatest number of orchestras?' (True DB: orchestra)\n",
      "  Query 272: 'Show ids of all students who do not have any friends.' (True DB: network_1)\n",
      "  Query 273: 'For each semester, what is the name and id of the one with the most students registered?' (True DB: student_transcripts_tracking)\n",
      "  Query 274: 'What is the name and id of the department with the most number of degrees ?' (True DB: student_transcripts_tracking)\n",
      "  Query 275: 'which countries' tv channels are not playing any cartoon written by Todd Casey?' (True DB: tvshow)\n",
      "  Query 276: 'What is the document id and name with greatest number of paragraphs?' (True DB: cre_Doc_Template_Mgt)\n",
      "  Query 277: 'What are the names of poker players, ordered ascending by the number of final tables they have made?' (True DB: poker_player)\n",
      "  Query 278: 'List the section_name in reversed lexicographical order.' (True DB: student_transcripts_tracking)\n",
      "  Query 279: 'What is the accelerate of the car make amc hornet sportabout (sw)?' (True DB: car_1)\n",
      "  Query 280: 'What is the first, middle, and last name of the first student to register?' (True DB: student_transcripts_tracking)\n",
      "  Query 281: 'How many cartoons did each director create?' (True DB: tvshow)\n",
      "  Query 282: 'What is the average rank for winners in all matches?' (True DB: wta_1)\n",
      "  Query 283: 'Show all document ids and the number of paragraphs in each document. Order by document id.' (True DB: cre_Doc_Template_Mgt)\n",
      "  Query 284: 'Find the manager name and district of the shop whose number of products is the largest.' (True DB: employee_hire_evaluation)\n",
      "  Query 285: 'Show names of teachers and the number of courses they teach.' (True DB: course_teach)\n",
      "  Query 286: 'List the emails of the professionals who live in the state of Hawaii or the state of Wisconsin.' (True DB: dog_kennels)\n",
      "  Query 287: 'what are the different names of the singers that have sales more than 300000?' (True DB: singer)\n",
      "  Query 288: 'What are the descriptions for all the math courses?' (True DB: student_transcripts_tracking)\n",
      "  Query 289: 'What are the ids of documents that have 2 or more paragraphs?' (True DB: cre_Doc_Template_Mgt)\n",
      "  Query 290: 'What major is every student who does not own a cat as a pet, and also how old are they?' (True DB: pets_1)\n",
      "  Query 291: 'What is the average attendance of shows?' (True DB: orchestra)\n",
      "  Query 292: 'Show all document names using templates with template type code BK.' (True DB: cre_Doc_Template_Mgt)\n",
      "  Query 293: 'find the number of distinct country codes of all players.' (True DB: wta_1)\n",
      "  Query 294: 'How many friends does each student have?' (True DB: network_1)\n",
      "  Query 295: 'Which distinct car models are the produced after 1980?' (True DB: car_1)\n",
      "  Query 296: 'What are the population and life expectancies in Brazil?' (True DB: world_1)\n",
      "  Query 297: 'What is the first name and country code of the oldest player?' (True DB: wta_1)\n",
      "  Query 298: 'Please show the name of the conductor that has conducted orchestras founded after 2008.' (True DB: orchestra)\n",
      "  Query 299: 'What are flight numbers of flights departing from City \"Aberdeen \"?' (True DB: flight_2)\n",
      "  Query 300: 'What are the distinct states and create time of all votes?' (True DB: voter_1)\n",
      "  Query 301: 'Which continent has the most diverse languages?' (True DB: world_1)\n",
      "  Query 302: 'How many unique languages are spoken in the world?' (True DB: world_1)\n",
      "  Query 303: 'What is the description of the department whose name has the substring the computer?' (True DB: student_transcripts_tracking)\n",
      "  Query 304: 'How many car makers are there in france?' (True DB: car_1)\n",
      "  Query 305: 'Find the package choice and series name of the TV channel that has high definition TV.' (True DB: tvshow)\n",
      "  Query 306: 'which countries' tv channels are playing some cartoon written by Todd Casey?' (True DB: tvshow)\n",
      "  Query 307: 'Find the kind of program which most number of students are enrolled in?' (True DB: student_transcripts_tracking)\n",
      "  Query 308: 'What are the country codes of countries where people use languages other than English?' (True DB: world_1)\n",
      "  Query 309: 'What are the first, middle, and last names for everybody enrolled in a Bachelors program?' (True DB: student_transcripts_tracking)\n",
      "  Query 310: 'For a volvo model, how many cylinders does the version with least accelerate have?' (True DB: car_1)\n",
      "  Query 311: 'What is the phone number of the man with the first name Timmothy and the last name Ward?' (True DB: student_transcripts_tracking)\n",
      "  Query 312: 'When did the episode \"A Love of a Lifetime\" air?' (True DB: tvshow)\n",
      "  Query 313: 'What are different nationalities of people and the corresponding number of people from each nation?' (True DB: poker_player)\n",
      "  Query 314: 'How much surface area do the countires in the Carribean cover together?' (True DB: world_1)\n",
      "  Query 315: 'List the Episode of all TV series sorted by rating.' (True DB: tvshow)\n",
      "  Query 316: 'For the countries founded before 1930, what is the total number of distinct official languages?' (True DB: world_1)\n",
      "  Query 317: 'What are the names and birth dates of people, ordered by their names in alphabetical order?' (True DB: poker_player)\n",
      "  Query 318: 'What is the total number of languages used in Aruba?' (True DB: world_1)\n",
      "  Query 319: 'What is the hometown of the youngest teacher?' (True DB: course_teach)\n",
      "  Query 320: 'Return the names of the contestants whose names contain the substring 'Al' .' (True DB: voter_1)\n",
      "  Query 321: 'Return the number of flights arriving in Aberdeen.' (True DB: flight_2)\n",
      "  Query 322: 'What is the most commmon hometowns for teachers?' (True DB: course_teach)\n",
      "  Query 323: 'Find the program which most number of students are enrolled in. List both the id and the summary.' (True DB: student_transcripts_tracking)\n",
      "  Query 324: 'What are the first names of all players, and their total ranking points?' (True DB: wta_1)\n",
      "  Query 325: 'How many different loser names are there?' (True DB: wta_1)\n",
      "  Query 326: 'For each hometown, how many teachers are there?' (True DB: course_teach)\n",
      "  Query 327: 'What model has the most different versions?' (True DB: car_1)\n",
      "  Query 328: 'How many United Airlines flights go to City 'Aberdeen'?' (True DB: flight_2)\n",
      "  Query 329: 'find the code of the country where has the greatest number of players.' (True DB: wta_1)\n",
      "  Query 330: 'What's the name of the course with most number of enrollments?' (True DB: student_transcripts_tracking)\n",
      "  Query 331: 'What are each professional's first name and description of the treatment they have performed?' (True DB: dog_kennels)\n",
      "  Query 332: 'How many continents are there?' (True DB: car_1)\n",
      "  Query 333: 'Find the number of players for each hand type.' (True DB: wta_1)\n",
      "  Query 334: 'What are the names of airports in Aberdeen?' (True DB: flight_2)\n",
      "  Query 335: 'How many people live in countries that do not speak English?' (True DB: world_1)\n",
      "  Query 336: 'What is the series name of the TV Channel that shows the cartoon \"The Rise of the Blue Beetle\"?' (True DB: tvshow)\n",
      "  Query 337: 'List the names of poker players ordered by the final tables made in ascending order.' (True DB: poker_player)\n",
      "  Query 338: 'How many official languages are spoken in Afghanistan?' (True DB: world_1)\n",
      "  Query 339: 'What are the names of the sections in reverse alphabetical order?' (True DB: student_transcripts_tracking)\n",
      "  Query 340: 'Return the average earnings across all poker players.' (True DB: poker_player)\n",
      "  Query 341: 'What are the names, countries, and ages for every singer in descending order of age?' (True DB: concert_singer)\n",
      "  Query 342: 'What is the id of the pet owned by the student whose last name is 'Smith'?' (True DB: pets_1)\n",
      "  Query 343: 'Count the number of flights departing from 'APG'.' (True DB: flight_2)\n",
      "  Query 344: 'What are the names of the high schoolers and how many friends does each have?' (True DB: network_1)\n",
      "  Query 345: 'What is the minimum weight of the car with 8 cylinders produced in 1974 ?' (True DB: car_1)\n",
      "  Query 346: 'Return the first name, last name and email of the owners living in a state whose name contains the substring 'North'.' (True DB: dog_kennels)\n",
      "  Query 347: 'How many continents speak Chinese?' (True DB: world_1)\n",
      "  Query 348: 'What are 3 most highly rated episodes in the TV series table and what were those ratings?' (True DB: tvshow)\n",
      "  Query 349: 'Show ids for all templates that are used by more than one document.' (True DB: cre_Doc_Template_Mgt)\n",
      "  Query 350: 'How many transcripts are released?' (True DB: student_transcripts_tracking)\n",
      "  Query 351: 'Which model of the car has the minimum horsepower?' (True DB: car_1)\n",
      "  Query 352: 'What are the arriving date and the departing date of the dogs who have gone through a treatment?' (True DB: dog_kennels)\n",
      "  Query 353: 'What is total bonus given in all evaluations?' (True DB: employee_hire_evaluation)\n",
      "  Query 354: 'What is the average, minimum, and maximum age of all singers from France?' (True DB: concert_singer)\n",
      "  Query 355: 'Which shop has the most employees? Give me the shop name.' (True DB: employee_hire_evaluation)\n",
      "  Query 356: 'What are the names of conductors who have conducted at more than one orchestra?' (True DB: orchestra)\n",
      "  Query 357: 'Which professionals live in a city containing the substring 'West'? List his or her role, street, city and state.' (True DB: dog_kennels)\n",
      "  Query 358: 'What is the horsepower of the car with the largest accelerate?' (True DB: car_1)\n",
      "  Query 359: 'What is the TV Channel that shows the cartoon \"The Rise of the Blue Beetle!\"? List the TV Channel's series name.' (True DB: tvshow)\n",
      "  Query 360: 'Find the average weight for each pet type.' (True DB: pets_1)\n",
      "  Query 361: 'What is the official language spoken in the country whose head of state is Beatrix?' (True DB: world_1)\n",
      "  Query 362: 'What is the total number of airlines?' (True DB: flight_2)\n",
      "  Query 363: 'List the contestant numbers and names, ordered by contestant name descending.' (True DB: voter_1)\n",
      "  Query 364: 'What is the name of the country with the most car makers?' (True DB: car_1)\n",
      "  Query 365: 'What is the maximum accelerate for all the different cylinders?' (True DB: car_1)\n",
      "  Query 366: 'What is the air date of TV series with Episode \"A Love of a Lifetime\"?' (True DB: tvshow)\n",
      "  Query 367: 'Give the name, population, and head of state for the country that has the largest area.' (True DB: world_1)\n",
      "  Query 368: 'find the id of tv channels that do not play any cartoon directed by Ben Jones.' (True DB: tvshow)\n",
      "  Query 369: 'What is the total population of Gelderland district?' (True DB: world_1)\n",
      "  Query 370: 'What are flight numbers of flights arriving at Airport \"APG\"?' (True DB: flight_2)\n",
      "  Query 371: 'Return the names of conductors that do not have the nationality \"USA\".' (True DB: orchestra)\n",
      "  Query 372: 'What are the names of nations speak both English and French?' (True DB: world_1)\n",
      "  Query 373: 'Give the name of the student with the most likes.' (True DB: network_1)\n",
      "  Query 374: 'Which languages are spoken by only one country in republic governments?' (True DB: world_1)\n",
      "  Query 375: 'How many states are there?' (True DB: voter_1)\n",
      "  Query 376: 'Which city has most number of departing flights?' (True DB: flight_2)\n",
      "  Query 377: 'What are the first names of every student who has a cat or dog as a pet?' (True DB: pets_1)\n",
      "  Query 378: 'List the names of teachers in ascending order of age.' (True DB: course_teach)\n",
      "  Query 379: 'How many degrees does the engineering department offer?' (True DB: student_transcripts_tracking)\n",
      "  Query 380: 'Return the owner id, first name and last name of the owner who has the most dogs.' (True DB: dog_kennels)\n",
      "  Query 381: 'Find the minimum grade of students who have no friends.' (True DB: network_1)\n",
      "  Query 382: 'How many flights does airline 'JetBlue Airways' have?' (True DB: flight_2)\n",
      "  Query 383: 'How many courses are there?' (True DB: student_transcripts_tracking)\n",
      "  Query 384: 'Give the language that is spoken in the most countries.' (True DB: world_1)\n",
      "  Query 385: 'Find the number of owners who do not own any dogs at this moment.' (True DB: dog_kennels)\n",
      "  Query 386: 'What is the birth date of the poker player with the lowest earnings?' (True DB: poker_player)\n",
      "  Query 387: 'Show different citizenship of singers and the number of singers of each citizenship.' (True DB: singer)\n",
      "  Query 388: 'Which cities are in European countries where English is not the official language?' (True DB: world_1)\n",
      "  Query 389: 'What is the smallest weight of the car produced with 8 cylinders on 1974 ?' (True DB: car_1)\n",
      "  Query 390: 'Which professionals live in the state of Indiana or have done treatment on more than 2 treatments? List his or her id, last name and cell phone.' (True DB: dog_kennels)\n",
      "  Query 391: 'How many airlines are from USA?' (True DB: flight_2)\n",
      "  Query 392: 'Find the name and rank of the 3 youngest winners across all matches.' (True DB: wta_1)\n",
      "  Query 393: 'What are the different government forms and what is the total population of each for government forms that have an average life expectancy greater than 72?' (True DB: world_1)\n",
      "  Query 394: 'What are the countries that are not playing cartoons written by Todd Casey?' (True DB: tvshow)\n",
      "  Query 395: 'Which professional did not operate any treatment on dogs? List the professional's id, role and email.' (True DB: dog_kennels)\n",
      "  Query 396: 'Which grades have 4 or more high schoolers?' (True DB: network_1)\n",
      "  Query 397: 'List the final tables made and the best finishes of poker players.' (True DB: poker_player)\n",
      "  Query 398: 'What are the names of poker players?' (True DB: poker_player)\n",
      "  Query 399: 'Find the first name and country code of the oldest player.' (True DB: wta_1)\n",
      "  Query 400: 'What is the first, middle, and last name of the earliest school graduate?' (True DB: student_transcripts_tracking)\n",
      "  Query 401: 'Return the ids of templates that have the code PP or PPT.' (True DB: cre_Doc_Template_Mgt)\n",
      "  Query 402: 'List the name of singers whose citizenship is not \"France\".' (True DB: singer)\n",
      "  Query 403: 'Give average earnings of poker players who are taller than 200.' (True DB: poker_player)\n",
      "  Query 404: 'What are the first names of all players, and their average rankings?' (True DB: wta_1)\n",
      "  Query 405: 'How many players are from each country?' (True DB: wta_1)\n",
      "  Query 406: 'Find the names of the visitors whose membership level is higher than 4, and order the results by the level from high to low.' (True DB: museum_visit)\n",
      "  Query 407: 'Find the name and membership level of the visitors whose membership level is higher than 4, and sort by their age from old to young.' (True DB: museum_visit)\n",
      "  Query 408: 'Find the number of pets for each student who has any pet and student id.' (True DB: pets_1)\n",
      "  Query 409: 'What is the count of singers?' (True DB: singer)\n",
      "  Query 410: 'What are the create dates, states, and phone numbers of the votes that were for the contestant named 'Tabatha Gehling'?' (True DB: voter_1)\n",
      "  Query 411: 'How many different departments offer degrees?' (True DB: student_transcripts_tracking)\n",
      "  Query 412: 'Give the airport code and airport name corresonding to the city Anthony.' (True DB: flight_2)\n",
      "  Query 413: 'What are the countries that have greater surface area than any country in Europe?' (True DB: world_1)\n",
      "  Query 414: 'What is the earliest date of a transcript release, and what details can you tell me?' (True DB: student_transcripts_tracking)\n",
      "  Query 415: 'List the last name of the owner owning the youngest dog.' (True DB: dog_kennels)\n",
      "  Query 416: 'Show the number of high schoolers for each grade.' (True DB: network_1)\n",
      "  Query 417: 'What are the names of high schoolers who have 3 or more friends?' (True DB: network_1)\n",
      "  Query 418: 'What is the full name of each car maker, along with its id and how many models it produces?' (True DB: car_1)\n",
      "  Query 419: 'What are the ids and names of each document, as well as the number of paragraphs in each?' (True DB: cre_Doc_Template_Mgt)\n",
      "  Query 420: 'What is the department description for the one whose name has the word computer?' (True DB: student_transcripts_tracking)\n",
      "  Query 421: 'How many ships ended up being 'Captured'?' (True DB: battle_death)\n",
      "  Query 422: 'How many different series and contents are listed in the TV Channel table?' (True DB: tvshow)\n",
      "  Query 423: 'Find the average number of staff working for the museums that were open before 2009.' (True DB: museum_visit)\n",
      "  Query 424: 'What is the abbreviation of the airilne has the fewest flights and what country is it in?' (True DB: flight_2)\n",
      "  Query 425: 'What is the name and directors of all the cartoons that are ordered by air date?' (True DB: tvshow)\n",
      "  Query 426: 'Give the flight numbers of flights arriving in Aberdeen.' (True DB: flight_2)\n",
      "  Query 427: 'What is the maximum mpg of the cars that had 8 cylinders or that were produced before 1980 ?' (True DB: car_1)\n",
      "  Query 428: 'Show the stadium name and the number of concerts in each stadium.' (True DB: concert_singer)\n",
      "  Query 429: 'Show all countries and the number of singers in each country.' (True DB: concert_singer)\n",
      "  Query 430: 'Which abbreviation corresponds to Jetblue Airways?' (True DB: flight_2)\n",
      "  Query 431: 'Give the mean life expectancy of countries in which English is not the official language.' (True DB: world_1)\n",
      "  Query 432: 'What is the document id with 1 to 2 paragraphs?' (True DB: cre_Doc_Template_Mgt)\n",
      "  Query 433: 'How many departments offer any degree?' (True DB: student_transcripts_tracking)\n",
      "  Query 434: 'What are the codes of the countries that do not speak English and whose government forms are not Republic?' (True DB: world_1)\n",
      "  Query 435: 'What language is predominantly spoken in Aruba?' (True DB: world_1)\n",
      "  Query 436: 'how many cars were produced in 1980?' (True DB: car_1)\n",
      "  Query 437: 'Show the years in which orchestras that have given more than one performance are founded.' (True DB: orchestra)\n",
      "  Query 438: 'Give the ids of documents that have between one and two paragraphs.' (True DB: cre_Doc_Template_Mgt)\n",
      "  Query 439: 'How many employees are there?' (True DB: employee_hire_evaluation)\n",
      "  Query 440: 'In which years cars were produced weighing no less than 3000 and no more than 4000 ?' (True DB: car_1)\n",
      "  Query 441: 'What is name of the country that speaks the largest number of languages?' (True DB: world_1)\n",
      "  Query 442: 'Show all template type codes and descriptions.' (True DB: cre_Doc_Template_Mgt)\n",
      "  Query 443: 'Count the number of conductors.' (True DB: orchestra)\n",
      "  Query 444: 'What is the name of the semester with no students enrolled?' (True DB: student_transcripts_tracking)\n",
      "  Query 445: 'What are the names and descriptions for all the sections?' (True DB: student_transcripts_tracking)\n",
      "  Query 446: 'What are the names of the singers whose birth years are either 1948 or 1949?' (True DB: singer)\n",
      "  Query 447: 'How many dogs have an age below the average?' (True DB: dog_kennels)\n",
      "  Query 448: 'How many different store locations are there?' (True DB: employee_hire_evaluation)\n",
      "  Query 449: 'Find the number of visitors who did not visit any museum opened after 2010.' (True DB: museum_visit)\n",
      "  Query 450: 'List the name, date and result of each battle.' (True DB: battle_death)\n",
      "  Query 451: 'How much does the most expensive charge type costs?' (True DB: dog_kennels)\n",
      "  Query 452: 'List all song names by singers above the average age.' (True DB: concert_singer)\n",
      "  Query 453: 'Count the number of poker players.' (True DB: poker_player)\n",
      "  Query 454: 'For each singer name, what is the total sales for their songs?' (True DB: singer)\n",
      "  Query 455: 'When is the first transcript released? List the date and details.' (True DB: student_transcripts_tracking)\n",
      "  Query 456: 'How many dogs have not gone through any treatment?' (True DB: dog_kennels)\n",
      "  Query 457: 'For the cars with 4 cylinders, which model has the largest horsepower?' (True DB: car_1)\n",
      "  Query 458: 'What are the names of poker players whose earnings is higher than 300000?' (True DB: poker_player)\n",
      "  Query 459: 'How many distinct nationalities are there?' (True DB: poker_player)\n",
      "  Query 460: 'How many dogs went through any treatments?' (True DB: dog_kennels)\n",
      "  Query 461: 'What is the first name of the student whose permanent address is different from his or her current one?' (True DB: student_transcripts_tracking)\n",
      "  Query 462: 'find id of the tv channels that from the countries where have more than two tv channels.' (True DB: tvshow)\n",
      "  Query 463: 'How many distinct countries do players come from?' (True DB: wta_1)\n",
      "  Query 464: 'Give the flight numbers of flights landing at APG.' (True DB: flight_2)\n",
      "  Query 465: 'Count the number of templates.' (True DB: cre_Doc_Template_Mgt)\n",
      "  Query 466: 'What is the code of airport that has fewest number of flights?' (True DB: flight_2)\n",
      "  Query 467: 'List the first name of all the professionals along with the description of the treatment they have done.' (True DB: dog_kennels)\n",
      "  Query 468: 'How many countries speak both English and Dutch?' (True DB: world_1)\n",
      "  Query 469: 'How many models does each car maker produce? List maker full name, id and the number.' (True DB: car_1)\n",
      "  Query 470: 'What are the first names of the students who live in Haiti permanently or have the cell phone number 09700166582 ?' (True DB: student_transcripts_tracking)\n",
      "  Query 471: 'Count the number of paragraphs.' (True DB: cre_Doc_Template_Mgt)\n",
      "  Query 472: 'What is the average horsepower for all cars produced before 1980 ?' (True DB: car_1)\n",
      "  Query 473: 'How many languages are spoken in Aruba?' (True DB: world_1)\n",
      "  Query 474: 'Find the name and age of the visitor who bought the most tickets at once.' (True DB: museum_visit)\n",
      "  Query 475: 'What are the name, independence year, and surface area of the country with the smallest population?' (True DB: world_1)\n",
      "  Query 476: 'Give the names of countries with English and French as official languages.' (True DB: world_1)\n",
      "  Query 477: 'Show all template type codes with less than three templates.' (True DB: cre_Doc_Template_Mgt)\n",
      "  Query 478: 'What are the opening year and staff number of the museum named Plaza Museum?' (True DB: museum_visit)\n",
      "  Query 479: 'What is the first name, country code, and birth date of the player with the most winner rank points across all matches?' (True DB: wta_1)\n",
      "  Query 480: 'Return the grade for the high schooler named Kyle.' (True DB: network_1)\n",
      "  Query 481: 'What are the names and descriptions of all the sections?' (True DB: student_transcripts_tracking)\n",
      "  Query 482: 'What are the first names and birth dates of players from the USA?' (True DB: wta_1)\n",
      "  Query 483: 'Which model has the most version(make) of cars?' (True DB: car_1)\n",
      "  Query 484: 'Find the id and cell phone of the professionals who operate two or more types of treatments.' (True DB: dog_kennels)\n",
      "  Query 485: 'Which airlines have at least 10 flights?' (True DB: flight_2)\n",
      "  Query 486: 'What are the emails of the professionals living in either the state of Hawaii or the state of Wisconsin?' (True DB: dog_kennels)\n",
      "  Query 487: 'What is the content of TV Channel with serial name \"Sky Radio\"?' (True DB: tvshow)\n",
      "  Query 488: 'Count the number of matches.' (True DB: wta_1)\n",
      "  Query 489: 'What is the name of the different car makers who produced a car in 1970?' (True DB: car_1)\n",
      "  Query 490: 'What is the last transcript release date?' (True DB: student_transcripts_tracking)\n",
      "  Query 491: 'What are the names of all European countries with at least 3 manufacturers?' (True DB: car_1)\n",
      "  Query 492: 'Find the number of flights landing in the city of Aberdeen or Abilene.' (True DB: flight_2)\n",
      "  Query 493: 'What are the average ages of losers and winners across matches?' (True DB: wta_1)\n",
      "  Query 494: 'Find the city with the largest population that uses English.' (True DB: world_1)\n",
      "  Query 495: 'For each citizenship, how many singers are from that country?' (True DB: singer)\n",
      "  Query 496: 'What is the ship id and name that caused most total injuries?' (True DB: battle_death)\n",
      "  Query 497: 'What is the name of the winner with the most rank points who participated in the Australian Open tournament?' (True DB: wta_1)\n",
      "  Query 498: 'Give the names of poker players who have earnings above 300000.' (True DB: poker_player)\n",
      "  Query 499: 'List singer names and number of concerts for each singer.' (True DB: concert_singer)\n",
      "  Query 500: 'How many paragraphs for the document with name 'Summer Show'?' (True DB: cre_Doc_Template_Mgt)\n",
      "  Query 501: 'Show the names of all high schoolers in grade 10.' (True DB: network_1)\n",
      "  Query 502: 'Which dogs are owned by someone who lives in Virginia? List the owner's first name and the dog's name.' (True DB: dog_kennels)\n",
      "  Query 503: 'Count the number of orchestras that have CD or DVD as their record format.' (True DB: orchestra)\n",
      "  Query 504: 'What are the names of the teachers and the courses they teach in ascending alphabetical order by the name of the teacher?' (True DB: course_teach)\n",
      "  Query 505: 'What is the total population and average area of countries in the continent of North America whose area is bigger than 3000 ?' (True DB: world_1)\n",
      "  Query 506: 'What are the name and results of the battles when the bulgarian commander is not 'Boril'' (True DB: battle_death)\n",
      "  Query 507: 'What are the ids of high school students who do not have friends?' (True DB: network_1)\n",
      "  Query 508: 'How many countries exist?' (True DB: car_1)\n",
      "  Query 509: 'List the name of singers in ascending order of net worth.' (True DB: singer)\n",
      "  Query 510: 'What are the names of conductors, ordered by age?' (True DB: orchestra)\n",
      "  Query 511: 'Which template type code has most number of templates?' (True DB: cre_Doc_Template_Mgt)\n",
      "  Query 512: 'What is the episode for the TV series named \"Sky Radio\"?' (True DB: tvshow)\n",
      "  Query 513: 'Tell me the owner id and last name of the owner who spent the most on treatments of his or her dogs.' (True DB: dog_kennels)\n",
      "  Query 514: 'Show the ids of high schoolers who have friends and are also liked by someone else.' (True DB: network_1)\n",
      "  Query 515: 'How many flights do we have?' (True DB: flight_2)\n",
      "  Query 516: 'Find the weight of the youngest dog.' (True DB: pets_1)\n",
      "  Query 517: 'Which airline has abbreviation 'UAL'?' (True DB: flight_2)\n",
      "  Query 518: 'Find the total amount of bonus given in all the evaluations.' (True DB: employee_hire_evaluation)\n",
      "  Query 519: 'What is minimum and maximum share of TV series?' (True DB: tvshow)\n",
      "  Query 520: 'Give the total surface area covered by countries in Asia or Europe.' (True DB: world_1)\n",
      "  Query 521: 'What are the arriving date and the departing date of all the dogs?' (True DB: dog_kennels)\n",
      "  Query 522: 'Give the name, year of independence, and surface area of the country that has the lowest population.' (True DB: world_1)\n",
      "  Query 523: 'Which countries have greater area than that of any country in Europe?' (True DB: world_1)\n",
      "  Query 524: 'Count the number of templates of the type CV.' (True DB: cre_Doc_Template_Mgt)\n",
      "  Query 525: 'What is the model for the car with a weight smaller than the average?' (True DB: car_1)\n",
      "  Query 526: 'List the names of teachers who have not been arranged to teach courses.' (True DB: course_teach)\n",
      "  Query 527: 'What is the description for the section named h?' (True DB: student_transcripts_tracking)\n",
      "  Query 528: 'Count the number of United Airlines flights arriving in ASY Airport.' (True DB: flight_2)\n",
      "  Query 529: 'What is the average expected life expectancy for countries in the region of Central Africa?' (True DB: world_1)\n",
      "  Query 530: 'List the most common hometown of teachers.' (True DB: course_teach)\n",
      "  Query 531: 'Count the number of documents that use the PPT template type.' (True DB: cre_Doc_Template_Mgt)\n",
      "  Query 532: 'What is the airport code of the airport with the most flights?' (True DB: flight_2)\n",
      "  Query 533: 'What are the maximum and minimum values of area codes?' (True DB: voter_1)\n",
      "  Query 534: 'What are the names of the people who teach math courses?' (True DB: course_teach)\n",
      "  Query 535: 'How many car models were produced by the maker with full name American Motor Company?' (True DB: car_1)\n",
      "  Query 536: 'Find the number of shops in each location.' (True DB: employee_hire_evaluation)\n",
      "  Query 537: 'Give the names of countries that are in Europe and have a population equal to 80000.' (True DB: world_1)\n",
      "  Query 538: 'Return the different document ids along with the number of paragraphs corresponding to each, ordered by id.' (True DB: cre_Doc_Template_Mgt)\n",
      "  Query 539: 'Give the number of Jetblue Airways flights.' (True DB: flight_2)\n",
      "  Query 540: 'What are the cities whose population is between 160000 and 900000?' (True DB: world_1)\n",
      "  Query 541: 'What are the names of conductors whose nationalities are not \"USA\"?' (True DB: orchestra)\n",
      "  Query 542: 'Return the number of United Airlines flights leaving from AHD Airport.' (True DB: flight_2)\n",
      "  Query 543: 'Which language is spoken by the largest number of countries?' (True DB: world_1)\n",
      "  Query 544: 'How many countries has more than 2 car makers ?' (True DB: car_1)\n",
      "  Query 545: 'find the package option of the tv channel that do not have any cartoon directed by Ben Jones.' (True DB: tvshow)\n",
      "  Query 546: 'What are flight numbers of Airline \"United Airlines\"?' (True DB: flight_2)\n",
      "  Query 547: 'What are airlines that have some flight departing from airport 'AHD'?' (True DB: flight_2)\n",
      "  Query 548: 'List the name of singers that do not have any song.' (True DB: singer)\n",
      "  Query 549: 'Which owner has paid for the most treatments on his or her dogs? List the owner id and last name.' (True DB: dog_kennels)\n",
      "  Query 550: 'What is the first and second line for all addresses?' (True DB: student_transcripts_tracking)\n",
      "  Query 551: 'What is the id, line 1, and line 2 of the address with the most students?' (True DB: student_transcripts_tracking)\n",
      "  Query 552: 'For all of the 4 cylinder cars, which model has the most horsepower?' (True DB: car_1)\n",
      "  Query 553: 'What are the locations and names of all stations with capacity between 5000 and 10000?' (True DB: concert_singer)\n",
      "  Query 554: 'How many different forms of governments are there in Africa?' (True DB: world_1)\n",
      "  Query 555: 'What is the pixel aspect ratio and country of origin for all TV channels that do not use English?' (True DB: tvshow)\n",
      "  Query 556: 'How many flights land in Aberdeen or Abilene?' (True DB: flight_2)\n",
      "  Query 557: 'Return the average attendance across all shows.' (True DB: orchestra)\n",
      "  Query 558: 'What are the names of all stadiums that did not have a concert in 2014?' (True DB: concert_singer)\n",
      "  Query 559: 'Find the number of cartoons directed by each of the listed directors.' (True DB: tvshow)\n",
      "  Query 560: 'Find the model of the car whose weight is below the average weight.' (True DB: car_1)\n",
      "  Query 561: 'What is the date and id of the transcript with the least number of results?' (True DB: student_transcripts_tracking)\n",
      "  Query 562: 'Which city has the most frequent destination airport?' (True DB: flight_2)\n",
      "  Query 563: 'How many high schoolers are there in grade 9 or 10?' (True DB: network_1)\n",
      "  Query 564: 'What are the names of all the countries that became independent after 1950?' (True DB: world_1)\n",
      "  Query 565: 'What is Kyle's id?' (True DB: network_1)\n",
      "  Query 566: 'What are the different template type codes, and how many documents use each type?' (True DB: cre_Doc_Template_Mgt)\n",
      "  Query 567: 'What are the names of the employees who never received any evaluation?' (True DB: employee_hire_evaluation)\n",
      "  Query 568: 'Find the number of concerts happened in the stadium with the highest capacity .' (True DB: concert_singer)\n",
      "  Query 569: 'List the names of all winners who played in both 2013 and 2016.' (True DB: wta_1)\n",
      "  Query 570: 'What is maximum and minimum death toll caused each time?' (True DB: battle_death)\n",
      "  Query 571: 'How many players are there?' (True DB: wta_1)\n",
      "  Query 572: 'What are the different template type codes, and how many templates correspond to each?' (True DB: cre_Doc_Template_Mgt)\n",
      "  Query 573: 'Which unique cities are in Asian countries where Chinese is the official language ?' (True DB: world_1)\n",
      "  Query 574: 'What are the id and names of the countries which have more than 3 car makers or produce the 'fiat' model?' (True DB: car_1)\n",
      "  Query 575: 'What is the name and country of origin of every singer who has a song with the word 'Hey' in its title?' (True DB: concert_singer)\n",
      "  Query 576: 'Show name, country, age for all singers ordered by age from the oldest to the youngest.' (True DB: concert_singer)\n",
      "  Query 577: 'Return the names of all the poker players.' (True DB: poker_player)\n",
      "  Query 578: 'How many people live in Gelderland district?' (True DB: world_1)\n",
      "  Query 579: 'What is the total surface area of the countries in the Caribbean region?' (True DB: world_1)\n",
      "  Query 580: 'Return the names of the 3 most populated countries.' (True DB: world_1)\n",
      "  Query 581: 'Find the first name of students who have both cat and dog pets .' (True DB: pets_1)\n",
      "  Query 582: 'What is the language that is used by the largest number of Asian nations?' (True DB: world_1)\n",
      "  Query 583: 'What are all distinct countries where singers above age 20 are from?' (True DB: concert_singer)\n",
      "  Query 584: 'Which airlines have a flight with source airport AHD?' (True DB: flight_2)\n",
      "  Query 585: 'Find the names of employees who never won any award in the evaluation.' (True DB: employee_hire_evaluation)\n",
      "  Query 586: 'Return the country codes for countries that do not speak English.' (True DB: world_1)\n",
      "  Query 587: 'Find the number of distinct name of losers.' (True DB: wta_1)\n",
      "  Query 588: 'Find the number of cities in each district whose population is greater than the average population of cities?' (True DB: world_1)\n",
      "  Query 589: 'How many friends does the high school student Kyle have?' (True DB: network_1)\n",
      "  Query 590: 'What are the manager name and district of the shop that sells the largest number of products?' (True DB: employee_hire_evaluation)\n",
      "  Query 591: 'List all airline names and their abbreviations in \"USA\".' (True DB: flight_2)\n",
      "  Query 592: 'Sort all the shops by number products in descending order, and return the name, location and district of each shop.' (True DB: employee_hire_evaluation)\n",
      "  Query 593: 'How many templates do we have?' (True DB: cre_Doc_Template_Mgt)\n",
      "  Query 594: 'List the name and date the battle that has lost the ship named 'Lettice' and the ship named 'HMS Atalanta'' (True DB: battle_death)\n",
      "  Query 595: 'What are the different models wthat are lighter than 3500 but were not built by the Ford Motor Company?' (True DB: car_1)\n",
      "  Query 596: 'How many people are there of each nationality?' (True DB: poker_player)\n",
      "  Query 597: 'What is the average age of the dogs who have gone through any treatments?' (True DB: dog_kennels)\n",
      "  Query 598: 'What is the zip code for Port Chelsea?' (True DB: student_transcripts_tracking)\n",
      "  Query 599: 'Which region is the city Kabul located in?' (True DB: world_1)\n",
      "  Query 600: 'What is the series name and country of all TV channels that are playing cartoons directed by Ben Jones and cartoons directed by Michael Chang?' (True DB: tvshow)\n",
      "  Query 601: 'How many different degrees are offered?' (True DB: student_transcripts_tracking)\n",
      "  Query 602: 'How many contestants did not get voted?' (True DB: voter_1)\n",
      "  Query 603: 'Show different hometown of teachers and the number of teachers from each hometown.' (True DB: course_teach)\n",
      "  Query 604: 'List the names of orchestras that have no performance.' (True DB: orchestra)\n",
      "  Query 605: 'What are the names of nations where both English and French are official languages?' (True DB: world_1)\n",
      "  Query 606: 'What is the feature type name of feature AirCon?' (True DB: real_estate_properties)\n",
      "  Query 607: 'How many flights depart from City Aberdeen?' (True DB: flight_2)\n",
      "  Query 608: 'How many different types of pet are there?' (True DB: pets_1)\n",
      "  Query 609: 'find the number of players for each country.' (True DB: wta_1)\n",
      "  Query 610: 'Find the codes of countries that have more than 50 players.' (True DB: wta_1)\n",
      "  Query 611: 'What are the names of all high schoolers in grade 10?' (True DB: network_1)\n",
      "  Query 612: 'What is the lowest grade of students who do not have any friends?' (True DB: network_1)\n",
      "  Query 613: 'Return the names and surface areas of the 5 largest countries.' (True DB: world_1)\n",
      "  Query 614: 'How many cities in each district have a population that is above the average population across all cities?' (True DB: world_1)\n",
      "  Query 615: 'Show distinct names of singers that have songs with sales more than 300000.' (True DB: singer)\n",
      "  Query 616: 'What are the ids of all tv channels that have more than 2 TV channels?' (True DB: tvshow)\n",
      "  Query 617: 'What are all the course names of the courses which ever have students enrolled in?' (True DB: student_transcripts_tracking)\n",
      "  Query 618: 'What are the names of students who have 2 or more likes?' (True DB: network_1)\n",
      "  Query 619: 'For each continent, list its id, name, and how many countries it has?' (True DB: car_1)\n",
      "  Query 620: 'What is the total population and maximum GNP in Asia?' (True DB: world_1)\n",
      "  Query 621: 'How many professionals have performed any treatment to dogs?' (True DB: dog_kennels)\n",
      "  Query 622: 'Find the total number of matches.' (True DB: wta_1)\n",
      "  Query 623: 'Find the name and rank points of the winner who won the most times.' (True DB: wta_1)\n",
      "  Query 624: 'What are the names of the dogs for which the owner has not spend more than 1000 for treatment ?' (True DB: dog_kennels)\n",
      "  Query 625: 'What is the count of the car models produced in the United States?' (True DB: car_1)\n",
      "  Query 626: 'How many TV Channels use the English language?' (True DB: tvshow)\n",
      "  Query 627: 'What is the official language used in the country the name of whose head of state is Beatrix.' (True DB: world_1)\n",
      "  Query 628: 'Return the template type code of the template that is used by a document named Data base.' (True DB: cre_Doc_Template_Mgt)\n",
      "  Query 629: 'What are the package options of all tv channels that are not playing any cartoons directed by Ben Jones?' (True DB: tvshow)\n",
      "  Query 630: 'How many people live in Asia, and what is the largest GNP among them?' (True DB: world_1)\n",
      "  Query 631: 'What are the number of votes from state 'NY' or 'CA'?' (True DB: voter_1)\n",
      "  Query 632: 'Who owns the youngest dog? Give me his or her last name.' (True DB: dog_kennels)\n",
      "  Query 633: 'Show all template type codes that are not used by any document.' (True DB: cre_Doc_Template_Mgt)\n",
      "  Query 634: 'What is the average miles per gallon(mpg) of the cars with 4 cylinders?' (True DB: car_1)\n",
      "  Query 635: 'What are  the different countries with singers above age 20?' (True DB: concert_singer)\n",
      "  Query 636: 'How many different winners both participated in the WTA Championships and were left handed?' (True DB: wta_1)\n",
      "  Query 637: 'What is the title of all the cartools that are on the TV Channel with the series name \"Sky Radio\"?' (True DB: tvshow)\n",
      "  Query 638: 'Which shops run with no employees? Find the shop names' (True DB: employee_hire_evaluation)\n",
      "  Query 639: 'What is the number of makers of care in France?' (True DB: car_1)\n",
      "  Query 640: 'What is the name of the breed with the most dogs?' (True DB: dog_kennels)\n",
      "  Query 641: 'What are the dog name, age and weight of the dogs that were abandoned? Note that 1 stands for yes, and 0 stands for no in the tables.' (True DB: dog_kennels)\n",
      "  Query 642: 'What are the names and ids of all makers with more than 3 models?' (True DB: car_1)\n",
      "  Query 643: 'How many countries have a republic as their form of government?' (True DB: world_1)\n",
      "  Query 644: 'How many flights depart from City 'Aberdeen' and have destination City 'Ashley'?' (True DB: flight_2)\n",
      "  Query 645: 'What are the names of students who have no friends?' (True DB: network_1)\n",
      "  Query 646: 'What is last date created of votes from the state 'CA'?' (True DB: voter_1)\n",
      "  Query 647: 'Find the first name and country code of the player who did the most number of tours.' (True DB: wta_1)\n",
      "  Query 648: 'What are each owner's first name and their dogs's name?' (True DB: dog_kennels)\n",
      "  Query 649: 'What is the produdction code and channel of the most recent cartoon ?' (True DB: tvshow)\n",
      "  Query 650: 'Count the number of documents.' (True DB: cre_Doc_Template_Mgt)\n",
      "  Query 651: 'Show the name and the release year of the song by the youngest singer.' (True DB: concert_singer)\n",
      "  Query 652: 'Find the id and weight of all pets whose age is older than 1.' (True DB: pets_1)\n",
      "  Query 653: 'Show name of all students who have some friends and also are liked by someone else.' (True DB: network_1)\n",
      "  Query 654: 'What is the number of countries with more than 2 car makers ?' (True DB: car_1)\n",
      "  Query 655: 'Which employee received the biggest bonus? Give me the employee name.' (True DB: employee_hire_evaluation)\n",
      "  Query 656: 'Find the series name and country of the tv channel that is playing some cartoons directed by Ben Jones and Michael Chang?' (True DB: tvshow)\n",
      "  Query 657: 'Count the number of United Airlines flights that arrive in Aberdeen.' (True DB: flight_2)\n",
      "  Query 658: 'What are the song titles and singer names?' (True DB: singer)\n",
      "  Query 659: 'Which airlines have departures from CVO but not from APG airports?' (True DB: flight_2)\n",
      "  Query 660: 'What are the country code and first name of the players who won in both tourney WTA Championships and Australian Open?' (True DB: wta_1)\n",
      "  Query 661: 'What are the orchestras that do not have any performances?' (True DB: orchestra)\n",
      "  Query 662: 'What are the codes of template types that have fewer than 3 templates?' (True DB: cre_Doc_Template_Mgt)\n",
      "  Query 663: 'What are the names of the singers that have more than one songs?' (True DB: singer)\n",
      "  Query 664: 'Please show the record formats of orchestras in ascending order of count.' (True DB: orchestra)\n",
      "  Query 665: 'What are the names of high schoolers who have likes, and how many likes does each have?' (True DB: network_1)\n",
      "  Query 666: 'What is the average horsepower of the cars before 1980?' (True DB: car_1)\n",
      "  Query 667: 'What is the number of distinct languages used around the world?' (True DB: world_1)\n",
      "  Query 668: 'What airline serves the most flights?' (True DB: flight_2)\n",
      "  Query 669: 'What are the maximum and minimum share of performances whose type is not \"Live final\".' (True DB: orchestra)\n",
      "  Query 670: 'List the name of the conductor with the most years of work.' (True DB: orchestra)\n",
      "  Query 671: 'Which district has both stores with less than 3000 products and stores with more than 10000 products?' (True DB: employee_hire_evaluation)\n",
      "  Query 672: 'What is the money rank of the poker player with the highest earnings?' (True DB: poker_player)\n",
      "  Query 673: 'What are the distinct template type descriptions for the templates ever used by any document?' (True DB: cre_Doc_Template_Mgt)\n",
      "  Query 674: 'Who are enrolled in 2 degree programs in one semester? List the first name, middle name and last name and the id.' (True DB: student_transcripts_tracking)\n",
      "  Query 675: 'Give the country codes for countries in which people speak langauges that are not English.' (True DB: world_1)\n",
      "  Query 676: 'Find the average rank of winners in all matches.' (True DB: wta_1)\n",
      "  Query 677: 'How many professionals did not operate any treatment on dogs?' (True DB: dog_kennels)\n",
      "  Query 678: 'What is the template type descriptions for template type code \"AD\".' (True DB: cre_Doc_Template_Mgt)\n",
      "  Query 679: 'What is the weekly rank for the episode \"A Love of a Lifetime\"?' (True DB: tvshow)\n",
      "  Query 680: 'What are the ids of students who both have friends and are liked?' (True DB: network_1)\n",
      "  Query 681: 'Return the record companies of orchestras, sorted descending by the years in which they were founded.' (True DB: orchestra)\n",
      "  Query 682: 'For each language, list the number of TV Channels that use it.' (True DB: tvshow)\n",
      "  Query 683: 'Find the first name of the students who permanently live in the country Haiti or have the cell phone number 09700166582 .' (True DB: student_transcripts_tracking)\n",
      "  Query 684: 'Find the distinct breed type and size type combinations for dogs.' (True DB: dog_kennels)\n",
      "  Query 685: 'Which language is the most popular on the Asian continent?' (True DB: world_1)\n",
      "  Query 686: 'Count the number of flights into ATO.' (True DB: flight_2)\n",
      "  Query 687: 'How many official languages does Afghanistan have?' (True DB: world_1)\n",
      "  Query 688: 'How many flights fly from Aberdeen to Ashley?' (True DB: flight_2)\n",
      "  Query 689: 'Which city has most number of arriving flights?' (True DB: flight_2)\n",
      "  Query 690: 'Among the cars that do not have the minimum horsepower , what are the make ids and names of all those with less than 4 cylinders ?' (True DB: car_1)\n",
      "  Query 691: 'What is the first name and country code of the player with the most tours?' (True DB: wta_1)\n",
      "  Query 692: 'Show different citizenships and the maximum net worth of singers of each citizenship.' (True DB: singer)\n",
      "  Query 693: 'What is the template type code for template type description \"Book\".' (True DB: cre_Doc_Template_Mgt)\n",
      "  Query 694: 'What are the paragraph texts for the document with the name 'Customer reviews'?' (True DB: cre_Doc_Template_Mgt)\n",
      "  Query 695: 'Show the names of high schoolers who have likes, and numbers of likes for each.' (True DB: network_1)\n",
      "  Query 696: 'What grade is Kyle in?' (True DB: network_1)\n",
      "  Query 697: 'Show the names of high schoolers who have at least 3 friends.' (True DB: network_1)\n",
      "  Query 698: 'What is the name and capacity of the stadium with the most concerts after 2013 ?' (True DB: concert_singer)\n",
      "  Query 699: 'Return the number of airlines in the USA.' (True DB: flight_2)\n",
      "  Query 700: 'Find all airlines that have flights from airport 'CVO' but not from 'APG'.' (True DB: flight_2)\n",
      "  Query 701: 'Return the name, location and district of all shops in descending order of number of products.' (True DB: employee_hire_evaluation)\n",
      "  Query 702: 'What other details can you tell me about students in reverse alphabetical order?' (True DB: student_transcripts_tracking)\n",
      "  Query 703: 'Where is the youngest teacher from?' (True DB: course_teach)\n",
      "  Query 704: 'Which airline has most number of flights?' (True DB: flight_2)\n",
      "  Query 705: 'Find the average age of the dogs who went through treatments.' (True DB: dog_kennels)\n",
      "  Query 706: 'What is the average age of the visitors whose membership level is not higher than 4?' (True DB: museum_visit)\n",
      "  Query 707: 'Return the maximum and minimum shares for performances that do not have the type \"Live final\".' (True DB: orchestra)\n",
      "  Query 708: 'Give me the description of the treatment type whose total cost is the lowest.' (True DB: dog_kennels)\n",
      "  Query 709: 'How many likes does Kyle have?' (True DB: network_1)\n",
      "  Query 710: 'Show me all grades that have at least 4 students.' (True DB: network_1)\n",
      "  Query 711: 'Give me Brazil’s population and life expectancies.' (True DB: world_1)\n",
      "  Query 712: 'What is the average GNP and total population in all nations whose government is US territory?' (True DB: world_1)\n",
      "  Query 713: 'Show all paragraph ids and texts for the document with name 'Welcome to NY'.' (True DB: cre_Doc_Template_Mgt)\n",
      "  Query 714: 'What are the names of conductors as well as the corresonding orchestras that they have conducted?' (True DB: orchestra)\n",
      "  Query 715: 'What is the country with the most number of TV Channels and how many does it have?' (True DB: tvshow)\n",
      "  Query 716: 'What are the age and hometown of teachers?' (True DB: course_teach)\n",
      "  Query 717: 'Find the name of the shops that do not hire any employee.' (True DB: employee_hire_evaluation)\n",
      "  Query 718: 'Which first names are used for professionals or owners but are not used as dog names?' (True DB: dog_kennels)\n",
      "  Query 719: 'Count the number of dogs of an age below the average.' (True DB: dog_kennels)\n",
      "  Query 720: 'What are the id, role, and first name of the professionals who have performed two or more treatments?' (True DB: dog_kennels)\n",
      "  Query 721: 'How many times at most can a course enrollment result show in different transcripts? Also show the course enrollment id.' (True DB: student_transcripts_tracking)\n",
      "  Query 722: 'Count the number of different nationalities of conductors.' (True DB: orchestra)\n",
      "  Query 723: 'How many flights arriving in Aberdeen city?' (True DB: flight_2)\n",
      "  Query 724: 'List the dog name, age and weight of the dogs who have been abandoned? 1 stands for yes, and 0 stands for no.' (True DB: dog_kennels)\n",
      "  Query 725: 'What is the abbreviation of Airline \"JetBlue Airways\"?' (True DB: flight_2)\n",
      "  Query 726: 'What are the final tables made and best finishes for all poker players?' (True DB: poker_player)\n",
      "  Query 727: 'What are the names of cities in Europe for which English is not the official language?' (True DB: world_1)\n",
      "  Query 728: 'List the first and last name of all players who are left / L hand in the order of birth date.' (True DB: wta_1)\n",
      "  Query 729: 'How many likes correspond to each student id?' (True DB: network_1)\n",
      "  Query 730: 'How many templates have template type code CV?' (True DB: cre_Doc_Template_Mgt)\n",
      "  Query 731: 'What the smallest version number and its template type code?' (True DB: cre_Doc_Template_Mgt)\n",
      "  Query 732: 'What is the maximum number of final tables made among poker players with earnings less than 200000?' (True DB: poker_player)\n",
      "  Query 733: 'What is the name of the museum that had no visitor yet?' (True DB: museum_visit)\n",
      "  Query 734: 'Show names of teachers and the courses they are arranged to teach.' (True DB: course_teach)\n",
      "  Query 735: 'Which airports do not have departing or arriving flights?' (True DB: flight_2)\n",
      "  Query 736: 'What are the names of the teachers ordered by ascending age?' (True DB: course_teach)\n",
      "  Query 737: 'What is the number of cars with more than 4 cylinders?' (True DB: car_1)\n",
      "  Query 738: 'list all cartoon titles and their directors ordered by their air date' (True DB: tvshow)\n",
      "  Query 739: 'Return the id and name of the document with the most paragraphs.' (True DB: cre_Doc_Template_Mgt)\n",
      "  Query 740: 'What is all the information about hiring?' (True DB: employee_hire_evaluation)\n",
      "  Query 741: 'What are the earnings of poker players, ordered descending by value?' (True DB: poker_player)\n",
      "  Query 742: 'Find the number of employees hired in each shop; show the shop name as well.' (True DB: employee_hire_evaluation)\n",
      "  Query 743: 'Show the names and grades of each high schooler.' (True DB: network_1)\n",
      "  Query 744: 'Show location and name for all stadiums with a capacity between 5000 and 10000.' (True DB: concert_singer)\n",
      "  Query 745: 'Which Asian countries have a population that is larger than any country in Africa?' (True DB: world_1)\n",
      "  Query 746: 'What is the total number of singers?' (True DB: concert_singer)\n",
      "  Query 747: 'In 1980, how many cars were made?' (True DB: car_1)\n",
      "  Query 748: 'Give the total population and average surface area corresponding to countries in North America that have a surface area greater than 3000 .' (True DB: world_1)\n",
      "  Query 749: 'List each charge type and its amount.' (True DB: dog_kennels)\n",
      "  Query 750: 'Which owner has paid the largest amount of money in total for their dogs? Show the owner id and zip code.' (True DB: dog_kennels)\n",
      "  Query 751: 'What are the ids for templates that are not used in any documents?' (True DB: cre_Doc_Template_Mgt)\n",
      "  Query 752: 'What is the name of the singer with the largest net worth?' (True DB: singer)\n",
      "  Query 753: 'What is the maximum and minimum share for the TV series?' (True DB: tvshow)\n",
      "  Query 754: 'Which breed do the most dogs have? Give me the breed name.' (True DB: dog_kennels)\n",
      "  Query 755: 'What is the average weight and year for each year?' (True DB: car_1)\n",
      "  Query 756: 'What are the names of people who do not play poker?' (True DB: poker_player)\n",
      "  Query 757: 'What is the average and maximum capacities for all stadiums ?' (True DB: concert_singer)\n",
      "  Query 758: 'List the first and last name of all players in the order of birth date.' (True DB: wta_1)\n",
      "  Query 759: 'For each stadium, how many concerts play there?' (True DB: concert_singer)\n",
      "  Query 760: 'Show names of teachers and the courses they are arranged to teach in ascending alphabetical order of the teacher's name.' (True DB: course_teach)\n",
      "  Query 761: 'Show the stadium name and capacity with most number of concerts in year 2014 or after.' (True DB: concert_singer)\n",
      "  Query 762: 'What is the name of the course with the most students enrolled?' (True DB: student_transcripts_tracking)\n",
      "  Query 763: 'Return the codes of countries that do not speak English and do not have Republics for governments.' (True DB: world_1)\n",
      "  Query 764: 'Return the name of the airport with code 'AKO'.' (True DB: flight_2)\n",
      "  Query 765: 'What are the notes of the death events which has substring 'East'?' (True DB: battle_death)\n",
      "  Query 766: 'What are the different first names and ages of the students who do have pets?' (True DB: pets_1)\n",
      "  Query 767: 'What is the mobile phone number of the student named Timmothy Ward ?' (True DB: student_transcripts_tracking)\n",
      "  Query 768: 'What are the countries where either English or Dutch is the official language ?' (True DB: world_1)\n",
      "  Query 769: 'Which owners live in the state whose name contains the substring 'North'? List his first name, last name and email.' (True DB: dog_kennels)\n",
      "  Query 770: 'What is the name and capacity for the stadium with highest average attendance?' (True DB: concert_singer)\n",
      "  Query 771: 'Find the semester when both Master students and Bachelor students got enrolled in.' (True DB: student_transcripts_tracking)\n",
      "  Query 772: 'What are the number of concerts that occurred in the stadium with the largest capacity ?' (True DB: concert_singer)\n",
      "  Query 773: 'How many different addresses do the students currently live?' (True DB: student_transcripts_tracking)\n",
      "  Query 774: 'Which department offers the most number of degrees? List department name and id.' (True DB: student_transcripts_tracking)\n",
      "  Query 775: 'What are the ids of the TV channels that do not have any cartoons directed by Ben Jones?' (True DB: tvshow)\n",
      "  Query 776: 'What is the name of each continent and how many car makers are there in each one?' (True DB: car_1)\n",
      "  Query 777: 'Show the names of students who have at least 2 likes.' (True DB: network_1)\n",
      "  Query 778: 'Which of the countries has the most car makers? List the country name.' (True DB: car_1)\n",
      "  Query 779: 'What is the first name of every student who has a dog but does not have a cat?' (True DB: pets_1)\n",
      "  Query 780: 'Which models are lighter than 3500 but not built by the 'Ford Motor Company'?' (True DB: car_1)\n",
      "  Query 781: 'Give the code of the airport with the least flights.' (True DB: flight_2)\n",
      "  Query 782: 'Return the names of poker players sorted by their earnings descending.' (True DB: poker_player)\n",
      "  Query 783: 'Return the id of the document with the fewest paragraphs.' (True DB: cre_Doc_Template_Mgt)\n",
      "  Query 784: 'What are the names of the countries that are in the continent of Europe and have a population of 80000?' (True DB: world_1)\n",
      "  Query 785: 'Which language is the most popular in Aruba?' (True DB: world_1)\n",
      "  Query 786: 'What is the id of the semester that had both Masters and Bachelors students enrolled?' (True DB: student_transcripts_tracking)\n",
      "  Query 787: 'How many concerts occurred in 2014 or 2015?' (True DB: concert_singer)\n",
      "  Query 788: 'What country is Jetblue Airways affiliated with?' (True DB: flight_2)\n",
      "  Query 789: 'What is the Package Option of TV Channel with serial name \"Sky Radio\"?' (True DB: tvshow)\n",
      "  Query 790: 'What are the countries that have cartoons on TV that were written by Todd Casey?' (True DB: tvshow)\n",
      "  Query 791: 'List the language used least number of TV Channel. List language and number of TV Channel.' (True DB: tvshow)\n",
      "  Query 792: 'What are the names of the teachers whose courses have not been arranged?' (True DB: course_teach)\n",
      "  Query 793: 'Return the number of likes that the high schooler named Kyle has.' (True DB: network_1)\n",
      "  Query 794: 'List the airport code and name in the city of Anthony.' (True DB: flight_2)\n",
      "  Query 795: 'Find the name of tourney that has more than 10 matches.' (True DB: wta_1)\n",
      "  Query 796: 'What region does Angola belong to and what is its population?' (True DB: world_1)\n",
      "  Query 797: 'What are the id, name and membership level of visitors who have spent the largest amount of money in total in all museum tickets?' (True DB: museum_visit)\n",
      "  Query 798: 'Find the government form name and total population for each government form whose average life expectancy is longer than 72.' (True DB: world_1)\n",
      "  Query 799: 'Return the names of friends of the high school student Kyle.' (True DB: network_1)\n",
      "  Query 800: 'Which countries in europe have at least 3 car manufacturers?' (True DB: car_1)\n",
      "  Query 801: 'What are the ids, version numbers, and type codes for each template?' (True DB: cre_Doc_Template_Mgt)\n",
      "  Query 802: 'What are the names of the contestants whose names are not 'Jessie Alloway'' (True DB: voter_1)\n",
      "  Query 803: 'What are the names of high schoolers who both have friends and are liked?' (True DB: network_1)\n",
      "  Query 804: 'What is the airport name for airport 'AKO'?' (True DB: flight_2)\n",
      "  Query 805: 'Find the name of the winner who has the highest rank points and participated in the Australian Open tourney.' (True DB: wta_1)\n",
      "  Query 806: 'Which countries have either English or Dutch as an official language?' (True DB: world_1)\n",
      "  Query 807: 'How many car models are produced in the usa?' (True DB: car_1)\n",
      "  Query 808: 'What is the average, minimum, and maximum age for all French singers?' (True DB: concert_singer)\n",
      "  Query 809: 'What are the Asian countries which have a population larger than that of any country in Africa?' (True DB: world_1)\n",
      "  Query 810: 'How many countries does each continent have? List the continent id, continent name and the number of countries.' (True DB: car_1)\n",
      "  Query 811: 'What are the codes of countries with more than 50 players?' (True DB: wta_1)\n",
      "  Query 812: 'What are the names of the singers who are not French citizens?' (True DB: singer)\n",
      "  Query 813: 'Which professionals have done at least two treatments? List the professional's id, role, and first name.' (True DB: dog_kennels)\n",
      "  Query 814: 'Show the record companies shared by orchestras founded before 2003 and after 2003.' (True DB: orchestra)\n",
      "  Query 815: 'Find the number of distinct type of pets.' (True DB: pets_1)\n",
      "  Query 816: 'Find the cities that have more than one employee under age 30.' (True DB: employee_hire_evaluation)\n",
      "  Query 817: 'What is the name of the high schooler who has the greatest number of likes?' (True DB: network_1)\n",
      "  Query 818: 'Show names of all high school students who do not have any friends.' (True DB: network_1)\n",
      "  Query 819: 'What languages are only used by a single country with a republic government?' (True DB: world_1)\n",
      "  Query 820: 'What is the average earnings of poker players with height higher than 200?' (True DB: poker_player)\n",
      "  Query 821: 'How much does the car accelerate that makes amc hornet sportabout (sw)?' (True DB: car_1)\n",
      "  Query 822: 'Show the date of the transcript which shows the least number of results, also list the id.' (True DB: student_transcripts_tracking)\n",
      "  Query 823: 'How many documents are using the template with type code 'PPT'?' (True DB: cre_Doc_Template_Mgt)\n",
      "  Query 824: 'Which model saves the most gasoline? That is to say, have the maximum miles per gallon.' (True DB: car_1)\n",
      "  Query 825: 'Find number of pets owned by students who are older than 20.' (True DB: pets_1)\n",
      "  Query 826: 'What are the students' first names who have both cats and dogs as pets?' (True DB: pets_1)\n",
      "  Query 827: 'Please show the different record companies and the corresponding number of orchestras.' (True DB: orchestra)\n",
      "  Query 828: 'Count the number of paragraphs in the document named 'Summer Show'.' (True DB: cre_Doc_Template_Mgt)\n",
      "  Query 829: 'What are the distinct battle names which are between bulgarian commander 'Kaloyan' and latin commander 'Baldwin I'?' (True DB: battle_death)\n",
      "  Query 830: 'What is the age and hometown of every teacher?' (True DB: course_teach)\n",
      "  Query 831: 'What is the car model with the highest mpg ?' (True DB: car_1)\n",
      "  Query 832: 'Show all paragraph texts for the document \"Customer reviews\".' (True DB: cre_Doc_Template_Mgt)\n",
      "  Query 833: 'What are airlines that have flights arriving at airport 'AHD'?' (True DB: flight_2)\n",
      "  Query 834: 'What are the ids and names of the battles that led to more than 10 people killed in total.' (True DB: battle_death)\n",
      "  Query 835: 'How many cars have more than 4 cylinders?' (True DB: car_1)\n",
      "  Query 836: 'Show the property type descriptions of properties belonging to that code.' (True DB: real_estate_properties)\n",
      "  Query 837: 'How many type of governments are in Africa?' (True DB: world_1)\n",
      "  Query 838: 'Find the id of the pet owned by student whose last name is ‘Smith’.' (True DB: pets_1)\n",
      "  Query 839: 'Find all airlines that have at least 10 flights.' (True DB: flight_2)\n",
      "  Query 840: 'Which dogs are of the rarest breed? Show their names and treatment dates.' (True DB: dog_kennels)\n",
      "  Query 841: 'How many singers do we have?' (True DB: concert_singer)\n",
      "  Query 842: 'What are the makers and models?' (True DB: car_1)\n",
      "  Query 843: 'Find the total number of tours for each ranking date.' (True DB: wta_1)\n",
      "  Query 844: 'How many degrees does the engineering department have?' (True DB: student_transcripts_tracking)\n",
      "  Query 845: 'What are the names of people who are not from Russia?' (True DB: poker_player)\n",
      "  Query 846: 'How many transcripts are listed?' (True DB: student_transcripts_tracking)\n",
      "  Query 847: 'Find the first name, country code and birth date of the winner who has the highest rank points in all matches.' (True DB: wta_1)\n",
      "  Query 848: 'find the minimum and maximum number of products of all stores.' (True DB: employee_hire_evaluation)\n",
      "  Query 849: 'How many pets have a greater weight than 10?' (True DB: pets_1)\n",
      "  Query 850: 'Show names of teachers that teach at least two courses.' (True DB: course_teach)\n",
      "  Query 851: 'What are the different ids and names of the battles that lost any 'Brig' type shipes?' (True DB: battle_death)\n",
      "  Query 852: 'Give the names of the nations that were founded after 1950.' (True DB: world_1)\n",
      "  Query 853: 'What are the full names of all left handed players, in order of birth date?' (True DB: wta_1)\n",
      "  Query 854: 'What are the region and population of Angola?' (True DB: world_1)\n",
      "  Query 855: 'How many cars has over 6 cylinders?' (True DB: car_1)\n",
      "  Query 856: 'What is the first, middle, and last name, along with the id and number of enrollments, for the student who enrolled the most in any program?' (True DB: student_transcripts_tracking)\n",
      "  Query 857: 'What are the names and grades for each high schooler?' (True DB: network_1)\n",
      "  Query 858: 'What are flight numbers of flights arriving at City \"Aberdeen\"?' (True DB: flight_2)\n",
      "  Query 859: 'Show countries where a singer above age 40 and a singer below 30 are from.' (True DB: concert_singer)\n",
      "  Query 860: 'What are the names of the nations with the 3 lowest populations?' (True DB: world_1)\n",
      "  Query 861: 'What is the document name and template id for document with description with the letter 'w' in it?' (True DB: cre_Doc_Template_Mgt)\n",
      "  Query 862: 'How many teachers are there?' (True DB: course_teach)\n",
      "  Query 863: 'How much does the most recent treatment cost?' (True DB: dog_kennels)\n",
      "  Query 864: 'List all cartoon directed by \"Ben Jones\".' (True DB: tvshow)\n",
      "  Query 865: 'Show the names of all of the high schooler Kyle's friends.' (True DB: network_1)\n",
      "  Query 866: 'What is the maximum capacity and the average of all stadiums ?' (True DB: concert_singer)\n",
      "  Query 867: 'What is the content of the series Sky Radio?' (True DB: tvshow)\n",
      "  Query 868: 'What are the names of the singers who performed in a concert in 2014?' (True DB: concert_singer)\n",
      "  Query 869: 'How many flights have destination ATO?' (True DB: flight_2)\n",
      "  Query 870: 'Which employee received the most awards in evaluations? Give me the employee name.' (True DB: employee_hire_evaluation)\n",
      "  Query 871: 'What are the major record formats of orchestras, sorted by their frequency?' (True DB: orchestra)\n",
      "  Query 872: 'What are the ids of documents that contain the paragraph text 'Brazil' and 'Ireland'?' (True DB: cre_Doc_Template_Mgt)\n",
      "  Query 873: 'Return the type code of the template type that the most templates belong to.' (True DB: cre_Doc_Template_Mgt)\n",
      "  Query 874: 'Give the name of the nation that uses the greatest amount of languages.' (True DB: world_1)\n",
      "  Query 875: 'How many paragraphs in total?' (True DB: cre_Doc_Template_Mgt)\n",
      "  Query 876: 'Return the code of the template type that is most commonly used in documents.' (True DB: cre_Doc_Template_Mgt)\n",
      "  Query 877: 'What is the year that had the most concerts?' (True DB: concert_singer)\n",
      "  Query 878: 'What are the names and locations of the stadiums that had concerts that occurred in both 2014 and 2015?' (True DB: concert_singer)\n",
      "  Query 879: 'What is the area code in which the most voters voted?' (True DB: voter_1)\n",
      "  Query 880: 'Show names, results and bulgarian commanders of the battles with no ships lost in the 'English Channel'.' (True DB: battle_death)\n",
      "  Query 881: 'What is the number of cars with a horsepower greater than 150?' (True DB: car_1)\n",
      "  Query 882: 'What are the cost and treatment type description of each treatment?' (True DB: dog_kennels)\n",
      "  Query 883: 'What are the ids and makers of all car makers that produce at least 2 models and make more than 3 cars?' (True DB: car_1)\n",
      "  Query 884: 'How many different nationalities do conductors have?' (True DB: orchestra)\n",
      "  Query 885: 'Return the codes of countries for which Spanish is the predominantly spoken language.' (True DB: world_1)\n",
      "  Query 886: 'Count the number of different templates used for documents.' (True DB: cre_Doc_Template_Mgt)\n",
      "  Query 887: 'What are the different continents and the total popuation and average life expectancy corresponding to each, for continents that have an average life expectancy less than 72?' (True DB: world_1)\n",
      "  Query 888: 'Find the total ranking points for each player and their first name.' (True DB: wta_1)\n",
      "  Query 889: 'How long is the people’s average life expectancy in Central Africa?' (True DB: world_1)\n",
      "  Query 890: 'Find the last name of the students who currently live in the state of North Carolina but have not registered in any degree program.' (True DB: student_transcripts_tracking)\n",
      "  Query 891: 'List the cost of each treatment and the corresponding treatment type description.' (True DB: dog_kennels)\n",
      "  Query 892: 'How many high schoolers are in each grade?' (True DB: network_1)\n",
      "  Query 893: 'What are the ids and texts of paragraphs in the document titled 'Welcome to NY'?' (True DB: cre_Doc_Template_Mgt)\n",
      "  Query 894: 'For each citizenship, what is the maximum net worth?' (True DB: singer)\n",
      "  Query 895: 'What is the average edispl of the cars of model volvo?' (True DB: car_1)\n",
      "  Query 896: 'How many different degree names are offered?' (True DB: student_transcripts_tracking)\n",
      "  Query 897: 'Show the name of singers whose birth year is either 1948 or 1949?' (True DB: singer)\n",
      "  Query 898: 'Which airlines have less than 200 flights?' (True DB: flight_2)\n",
      "  Query 899: 'How many singers are there?' (True DB: singer)\n",
      "  Query 900: 'What are the names of properties that are either houses or apartments with more than 1 room?' (True DB: real_estate_properties)\n",
      "  Query 901: 'What are the type codes and descriptions for all template types?' (True DB: cre_Doc_Template_Mgt)\n",
      "  Query 902: 'What is the total count of teachers?' (True DB: course_teach)\n",
      "  Query 903: 'What are the names of conductors, sorted descending by the number of years they have worked?' (True DB: orchestra)\n",
      "  Query 904: 'Find the number of left handed winners who participated in the WTA Championships.' (True DB: wta_1)\n",
      "  Query 905: 'Return the ids corresponding to templates with the description 'Presentation'.' (True DB: cre_Doc_Template_Mgt)\n",
      "  Query 906: 'What region is Kabul in?' (True DB: world_1)\n",
      "  Query 907: 'Show all document ids, names and the number of paragraphs in each document.' (True DB: cre_Doc_Template_Mgt)\n",
      "  Query 908: 'What is the best rank of losers across all matches?' (True DB: wta_1)\n",
      "  Query 909: 'How many airports do we have?' (True DB: flight_2)\n",
      "  Query 910: 'What are the ids of templates with template type code PP or PPT?' (True DB: cre_Doc_Template_Mgt)\n",
      "  Query 911: 'How many visitors below age 30 are there?' (True DB: museum_visit)\n",
      "  Query 912: 'Show the name and theme for all concerts and the number of singers in each concert.' (True DB: concert_singer)\n",
      "  Query 913: 'List the maximum weight and type for each type of pet.' (True DB: pets_1)\n",
      "  Query 914: 'Return the name of the high school student with the most friends.' (True DB: network_1)\n",
      "  Query 915: 'What is the most populace city that speaks English?' (True DB: world_1)\n",
      "  Query 916: 'Give the city and country for the Alton airport.' (True DB: flight_2)\n",
      "  Query 917: 'List the names of people that are not poker players.' (True DB: poker_player)\n",
      "  Query 918: 'Return the document id, template id, and description for the document with the name Robbin CV.' (True DB: cre_Doc_Template_Mgt)\n",
      "  Query 919: 'Show names of people whose nationality is not \"Russia\".' (True DB: poker_player)\n",
      "  Query 920: 'How much does the youngest dog weigh?' (True DB: pets_1)\n",
      "  Query 921: 'What are the template ids with template type description \"Presentation\".' (True DB: cre_Doc_Template_Mgt)\n",
      "  Query 922: 'Find the arriving date and the departing date of the dogs that received a treatment.' (True DB: dog_kennels)\n",
      "  Query 923: 'What is the description of the treatment type that costs the least money in total?' (True DB: dog_kennels)\n",
      "  Query 924: 'What are the id and name of the museum visited most times?' (True DB: museum_visit)\n",
      "  Query 925: 'Return the birth date of the poker player with the lowest earnings.' (True DB: poker_player)\n",
      "  Query 926: 'What are the record companies of orchestras in descending order of years in which they were founded?' (True DB: orchestra)\n",
      "  Query 927: 'What are the record companies that are used by both orchestras founded before 2003 and those founded after 2003?' (True DB: orchestra)\n",
      "  Query 928: 'Which owner owns the most dogs? List the owner id, first name and last name.' (True DB: dog_kennels)\n",
      "  Query 929: 'What are the package options and the name of the series for the TV Channel that supports high definition TV?' (True DB: tvshow)\n",
      "  Query 930: 'How many countries are listed?' (True DB: car_1)\n",
      "  Query 931: 'Find the name, population and expected life length of asian country with the largest area?' (True DB: world_1)\n",
      "  Query 932: 'How many players are there for each hand type?' (True DB: wta_1)\n",
      "  Query 933: 'What is the maximum miles per gallon of the car with 8 cylinders or produced before 1980 ?' (True DB: car_1)\n",
      "  Query 934: 'Show the ID of the high schooler named Kyle.' (True DB: network_1)\n",
      "  Query 935: 'What is the name of the singer who is worth the most?' (True DB: singer)\n",
      "  Query 936: 'What type of pet is the youngest animal, and how much does it weigh?' (True DB: pets_1)\n",
      "  Query 937: 'What are the names of the stadiums without any concerts?' (True DB: concert_singer)\n",
      "  Query 938: 'What is the age of the oldest dog?' (True DB: dog_kennels)\n",
      "  Query 939: 'how many countries are in Asia?' (True DB: world_1)\n",
      "  Query 940: 'What is the total number of countries where Spanish is spoken by the largest percentage of people?' (True DB: world_1)\n",
      "  Query 941: 'Return the nationalities for which there are two or more people.' (True DB: poker_player)\n",
      "  Query 942: 'Show the date and id of the transcript with at least 2 course results.' (True DB: student_transcripts_tracking)\n",
      "  Query 943: 'Find the maximum weight for each type of pet. List the maximum weight and pet type.' (True DB: pets_1)\n",
      "  Query 944: 'What is the total number of people living in the nations that do not use English?' (True DB: world_1)\n",
      "  Query 945: 'Count the number of high schoolers in grades 9 or 10.' (True DB: network_1)\n",
      "  Query 946: 'Which African countries have a smaller population than that of any country in Asia?' (True DB: world_1)\n",
      "  Query 947: 'What are the different years in which there were cars produced that weighed less than 4000 and also cars that weighted more than 3000 ?' (True DB: car_1)\n",
      "  Query 948: 'What are the towns from which at least two teachers come from?' (True DB: course_teach)\n",
      "  Query 949: 'Return the grade that has the greatest number of high schoolers.' (True DB: network_1)\n",
      "  Query 950: 'Find the districts in which there are both shops selling less than 3000 products and shops selling more than 10000 products.' (True DB: employee_hire_evaluation)\n",
      "  Query 951: 'What are the names of singers ordered by ascending net worth?' (True DB: singer)\n",
      "  Query 952: 'What are the names of tournaments that have more than 10 matches?' (True DB: wta_1)\n",
      "  Query 953: 'How many pets are owned by students that have an age greater than 20?' (True DB: pets_1)\n",
      "  Query 954: 'What are the first, middle, and last names, along with the ids, of all students who enrolled in 2 degree programs in one semester?' (True DB: student_transcripts_tracking)\n",
      "  Query 955: 'Find all airlines that have fewer than 200 flights.' (True DB: flight_2)\n",
      "  Query 956: 'What are the different addresses that have students living there?' (True DB: student_transcripts_tracking)\n",
      "  Query 957: 'What are the email, cell phone and home phone of each professional?' (True DB: dog_kennels)\n",
      "  Query 958: 'What are the names of the teachers and how many courses do they teach?' (True DB: course_teach)\n",
      "  Query 959: 'What are the languages used by the least number of TV Channels and how many channels use it?' (True DB: tvshow)\n",
      "  Query 960: 'What is the degree summary name that has the most number of students enrolled?' (True DB: student_transcripts_tracking)\n",
      "  Query 961: 'What are the population, name and leader of the country with the largest area?' (True DB: world_1)\n",
      "  Query 962: 'Find the owner id and zip code of the owner who spent the most money in total for his or her dogs.' (True DB: dog_kennels)\n",
      "  Query 963: 'Whose permanent address is different from his or her current address? List his or her first name.' (True DB: student_transcripts_tracking)\n",
      "  Query 964: 'Find the name and location of the stadiums which some concerts happened in the years of both 2014 and 2015.' (True DB: concert_singer)\n",
      "  Query 965: 'What is the maximum accelerate for different number of cylinders?' (True DB: car_1)\n",
      "  Query 966: 'What is the horsepower of the car with the greatest accelerate?' (True DB: car_1)\n",
      "  Query 967: 'Find the number of dog pets that are raised by female students (with sex F).' (True DB: pets_1)\n",
      "  Query 968: 'How many battles did not lose any ship with tonnage '225'?' (True DB: battle_death)\n",
      "  Query 969: 'Find the average grade of all students who have some friends.' (True DB: network_1)\n",
      "  Query 970: 'What are all of the episodes ordered by ratings?' (True DB: tvshow)\n",
      "  Query 971: 'Find the number of professionals who have not treated any dogs.' (True DB: dog_kennels)\n",
      "  Query 972: 'What is the largest amount of horsepower for the models with 3 cylinders and what make is it?' (True DB: car_1)\n",
      "  Query 973: 'What is the grade of each high schooler?' (True DB: network_1)\n",
      "  Query 974: 'How many different results are there for the battles?' (True DB: battle_death)\n",
      "  Query 975: 'Return the number of  airports.' (True DB: flight_2)\n",
      "  Query 976: 'Find the last name of the student who has a cat that is age 3.' (True DB: pets_1)\n",
      "  Query 977: 'List the title of all cartoons in alphabetical order.' (True DB: tvshow)\n",
      "  Query 978: 'What are all the song names by singers who are older than average?' (True DB: concert_singer)\n",
      "  Query 979: 'What is the version number and template type code for the template with version number later than 5?' (True DB: cre_Doc_Template_Mgt)\n",
      "  Query 980: 'How many car makers are there in each continents? List the continent name and the count.' (True DB: car_1)\n",
      "  Query 981: 'Which professionals have operated a treatment that costs less than the average? Give me theor first names and last names.' (True DB: dog_kennels)\n",
      "  Query 982: 'What are the codes of template types that are not used for any document?' (True DB: cre_Doc_Template_Mgt)\n",
      "  Query 983: 'How many flights depart from 'APG'?' (True DB: flight_2)\n",
      "  Query 984: 'Sort employee names by their age in ascending order.' (True DB: employee_hire_evaluation)\n",
      "  Query 985: 'Give the mean GNP and total population of nations which are considered US territory.' (True DB: world_1)\n",
      "  Query 986: 'Which continent is Anguilla in?' (True DB: world_1)\n",
      "  Query 987: 'List the earnings of poker players in descending order.' (True DB: poker_player)\n",
      "  Query 988: 'What is the maximum horsepower and the make of the car models with 3 cylinders?' (True DB: car_1)\n",
      "  Query 989: 'What are the country codes of the different countries, and what are the languages spoken by the greatest percentage of people for each?' (True DB: world_1)\n",
      "  Query 990: 'find the name of employee who was awarded the most times in the evaluation.' (True DB: employee_hire_evaluation)\n",
      "  Query 991: 'How many countries have governments that are republics?' (True DB: world_1)\n",
      "  Query 992: 'When was the last transcript released?' (True DB: student_transcripts_tracking)\n",
      "  Query 993: 'Find the role, street, city and state of the professionals living in a city that contains the substring 'West'.' (True DB: dog_kennels)\n",
      "  Query 994: 'Return the version numbers and template type codes of templates with a version number greater than 5.' (True DB: cre_Doc_Template_Mgt)\n",
      "  Query 995: 'Which flight numbers correspond to United Airlines flights?' (True DB: flight_2)\n",
      "  Query 996: 'What are the names of the teachers whose hometown is not `` Little Lever Urban District '' ?' (True DB: course_teach)\n",
      "  Query 997: 'Show titles of songs and names of singers.' (True DB: singer)\n",
      "  Query 998: 'What are the average and maximum number of tickets bought in all visits?' (True DB: museum_visit)\n",
      "  Query 999: 'What is the first name and gender of the all the students who have more than one pet?' (True DB: pets_1)\n",
      "  Query 1000: 'Count the number of employees' (True DB: employee_hire_evaluation)\n",
      "  Query 1001: 'Which dogs have not cost their owner more than 1000 for treatment ? List the dog names .' (True DB: dog_kennels)\n",
      "  Query 1002: 'Return the country name and the numbers of languages spoken for each country that speaks at least 3 languages.' (True DB: world_1)\n",
      "  Query 1003: 'Who is enrolled in a Bachelor degree program? List the first name, middle name, last name.' (True DB: student_transcripts_tracking)\n",
      "  Query 1004: 'What are all the possible breed type and size type combinations?' (True DB: dog_kennels)\n",
      "  Query 1005: 'Who is the earliest graduate of the school? List the first name, middle name and last name.' (True DB: student_transcripts_tracking)\n",
      "  Query 1006: 'What are the titles of all cartoons directed by Ben Jones or Brandon Vietti?' (True DB: tvshow)\n",
      "  Query 1007: 'What is the name of the winner who has won the most matches, and how many rank points does this player have?' (True DB: wta_1)\n",
      "  Query 1008: 'What are the countries having at least one car maker? List name and id.' (True DB: car_1)\n",
      "  Query 1009: 'Find the first names that are used for professionals or owners but are not used as dog names.' (True DB: dog_kennels)\n",
      "  Query 1010: 'Which states have both owners and professionals living there?' (True DB: dog_kennels)\n",
      "  Query 1011: 'What is the name of the high schooler who has the greatest number of friends?' (True DB: network_1)\n",
      "  Query 1012: 'What are the nationalities that are shared by at least two people?' (True DB: poker_player)\n",
      "  Query 1013: 'What is the total number of unique official languages spoken in the countries that are founded before 1930?' (True DB: world_1)\n",
      "  Query 1014: 'What is the average transcript date?' (True DB: student_transcripts_tracking)\n",
      "  Query 1015: 'Which cities do more than one employee under age 30 come from?' (True DB: employee_hire_evaluation)\n",
      "  Query 1016: 'What are the last name of the students who live in North Carolina but have not registered in any degree programs?' (True DB: student_transcripts_tracking)\n",
      "  Query 1017: 'What are the full names of all players, sorted by birth date?' (True DB: wta_1)\n",
      "  Query 1018: 'What are the birth year and citizenship of singers?' (True DB: singer)\n",
      "  Query 1019: 'Find the number of matches happened in each year.' (True DB: wta_1)\n",
      "  Query 1020: 'Which city is the most frequent source airport?' (True DB: flight_2)\n",
      "  Query 1021: 'What is the total ticket expense of the visitors whose membership level is 1?' (True DB: museum_visit)\n",
      "  Query 1022: 'what is the name and nation of the singer who have a song having 'Hey' in its name?' (True DB: concert_singer)\n",
      "  Query 1023: 'Find the average ranking for each player and their first name.' (True DB: wta_1)\n",
      "  Query 1024: 'List all the student details in reversed lexicographical order.' (True DB: student_transcripts_tracking)\n",
      "  Query 1025: 'What is the average miles per gallon of all the cards with 4 cylinders?' (True DB: car_1)\n",
      "  Query 1026: 'Which airlines have a flight with destination airport AHD?' (True DB: flight_2)\n",
      "  Query 1027: 'What are the names of the countries with no car makers?' (True DB: car_1)\n",
      "  Query 1028: 'Find the total number of players.' (True DB: wta_1)\n",
      "  Query 1029: 'What is the average weight for each type of pet?' (True DB: pets_1)\n",
      "  Query 1030: 'Give the name of the country in Asia with the lowest life expectancy.' (True DB: world_1)\n",
      "  Query 1031: 'Give the average life expectancy for countries in Africa which are republics?' (True DB: world_1)\n",
      "  Query 1032: 'Return the money rank of the poker player with the greatest height.' (True DB: poker_player)\n",
      "  Query 1033: 'Give the flight numbers of flights leaving from Aberdeen.' (True DB: flight_2)\n",
      "  Query 1034: 'Among the cars with more than lowest horsepower, which ones do not have more than 3 cylinders? List the car makeid and make name.' (True DB: car_1)\n",
      "\n",
      "Each of the 1034 selected queries will be evaluated against all 166 available Spider database schemas.\n"
     ]
    }
   ],
   "source": [
    "import re\n",
    "import os\n",
    "\n",
    "TEXT_QUERIES_FILE = \"/raid/infolab/gaurav/Llama_Spider_A100_Project/all_queries.txt\"\n",
    "\n",
    "if not os.path.exists(TEXT_QUERIES_FILE):\n",
    "    raise FileNotFoundError(f\"Cannot find '{TEXT_QUERIES_FILE}' – make sure it’s in your working directory or update the path.\")\n",
    "\n",
    "selected_nl_queries = []\n",
    "pattern = re.compile(r\"Test Query\\s+\\d+:\\s+'(.+)'\\s+\\(True DB:\\s*([^)]+)\\)\")\n",
    "\n",
    "with open(TEXT_QUERIES_FILE, \"r\") as f_in:\n",
    "    for line in f_in:\n",
    "        line = line.strip()\n",
    "        if not line.startswith(\"Test Query\"):\n",
    "            continue\n",
    "\n",
    "        m = pattern.match(line)\n",
    "        if not m:\n",
    "            print(f\"Warning: could not parse line:\\n  {line}\")\n",
    "            continue\n",
    "\n",
    "        question_text = m.group(1)\n",
    "        true_db_id    = m.group(2)\n",
    "\n",
    "        selected_nl_queries.append({\n",
    "            \"question\": question_text,\n",
    "            \"db_id\":    true_db_id\n",
    "        })\n",
    "\n",
    "if len(selected_nl_queries) == 0:\n",
    "    raise ValueError(f\"No queries were parsed from '{TEXT_QUERIES_FILE}'. Check your file’s format.\")\n",
    "\n",
    "print(f\"Loaded {len(selected_nl_queries)} queries from '{TEXT_QUERIES_FILE}':\")\n",
    "for i, q in enumerate(selected_nl_queries, 1):\n",
    "    print(f\"  Query {i}: '{q['question']}' (True DB: {q['db_id']})\")\n",
    "\n",
    "\n",
    "candidate_schemas_for_evaluation = all_db_schemas_sql_strings\n",
    "print(f\"\\nEach of the {len(selected_nl_queries)} selected queries will be evaluated against all {len(candidate_schemas_for_evaluation)} available Spider database schemas.\")\n",
    "\n",
    "if not candidate_schemas_for_evaluation:\n",
    "    raise ValueError(\"No candidate schemas available for evaluation. This indicates an issue with schema loading or conversion in Cell 1.\")"
   ]
  },
  {
   "cell_type": "code",
   "execution_count": 16,
   "id": "4ac0d7cb-81c6-487c-b796-ba1594a76912",
   "metadata": {},
   "outputs": [
    {
     "name": "stdout",
     "output_type": "stream",
     "text": [
      "Ensured experiment project directory exists: '/raid/infolab/gaurav/Llama_Spider_A100_Project/randomQ_allDBs_run1'\n",
      "Experiment results will be saved to: /raid/infolab/gaurav/Llama_Spider_A100_Project/randomQ_allDBs_run1/spider_100_queries_llama3.1_8B-instruct.json\n"
     ]
    }
   ],
   "source": [
    "import os\n",
    "import json \n",
    "LOCAL_EXPERIMENT_BASE_DIR = \"/raid/infolab/gaurav/Llama_Spider_A100_Project/\"\n",
    "\n",
    "EXPERIMENT_RUN_NAME = \"randomQ_allDBs_run1\" \n",
    "EXPERIMENT_PROJECT_DIR = os.path.join(LOCAL_EXPERIMENT_BASE_DIR, EXPERIMENT_RUN_NAME)\n",
    "\n",
    "try:\n",
    "    os.makedirs(EXPERIMENT_PROJECT_DIR, exist_ok=True)\n",
    "    print(f\"Ensured experiment project directory exists: '{EXPERIMENT_PROJECT_DIR}'\")\n",
    "except OSError as e:\n",
    "    print(f\"Error creating directory {EXPERIMENT_PROJECT_DIR}: {e}\")\n",
    "    EXPERIMENT_PROJECT_DIR = \".\" \n",
    "\n",
    "\n",
    "RESULTS_FILENAME = \"spider_100_queries_llama3.1_8B-instruct.json\"\n",
    "EXPERIMENT_RESULTS_FILE = os.path.join(EXPERIMENT_PROJECT_DIR, RESULTS_FILENAME)\n",
    "\n",
    "print(f\"Experiment results will be saved to: {EXPERIMENT_RESULTS_FILE}\")"
   ]
  },
  {
   "cell_type": "code",
   "execution_count": 17,
   "id": "e29bb982-09ab-4d61-9888-a306afab0d62",
   "metadata": {},
   "outputs": [
    {
     "name": "stdout",
     "output_type": "stream",
     "text": [
      "Helper function 'get_one_zero_token_ids' defined.\n"
     ]
    }
   ],
   "source": [
    "# Cell defining get_one_zero_token_ids\n",
    "\n",
    "def get_one_zero_token_ids(tokenizer_arg):\n",
    "    \"\"\"\n",
    "    Determines the single token IDs for the characters '1' and '0'.\n",
    "    It's crucial these are single tokens for the logit logic to work.\n",
    "    \"\"\"\n",
    "    # Llama 3 tokenizer handles single digits with leading spaces well.\n",
    "    one_token_id = tokenizer_arg.encode(\" 1\", add_special_tokens=False)\n",
    "    zero_token_id = tokenizer_arg.encode(\" 0\", add_special_tokens=False)\n",
    "\n",
    "    if len(one_token_id) == 1 and len(zero_token_id) == 1:\n",
    "        print(\"Using ' 1' and ' 0' (with leading space) for token IDs.\")\n",
    "        return one_token_id[0], zero_token_id[0]\n",
    "    \n",
    "    # Fallback in case the model prefers no space (less common for instruction models)\n",
    "    one_token_id_no_space = tokenizer_arg.encode(\"1\", add_special_tokens=False)\n",
    "    zero_token_id_no_space = tokenizer_arg.encode(\"0\", add_special_tokens=False)\n",
    "\n",
    "    if len(one_token_id_no_space) == 1 and len(zero_token_id_no_space) == 1:\n",
    "        print(\"Using '1' and '0' (no leading space) for token IDs.\")\n",
    "        return one_token_id_no_space[0], zero_token_id_no_space[0]\n",
    "        \n",
    "    else:\n",
    "        # If neither works, there's a problem with the tokenizer for this task.\n",
    "        print(f\"ERROR: Could not determine reliable single token IDs for '1' or '0'.\")\n",
    "        print(f\"Tokenization of ' 1': {one_token_id}\")\n",
    "        print(f\"Tokenization of ' 0': {zero_token_id}\")\n",
    "        print(f\"Tokenization of '1': {one_token_id_no_space}\")\n",
    "        print(f\"Tokenization of '0': {zero_token_id_no_space}\")\n",
    "        raise ValueError(\"Unstable tokenization for '1'/'0'. Cannot proceed.\")\n",
    "\n",
    "print(\"Helper function 'get_one_zero_token_ids' defined.\")"
   ]
  },
  {
   "cell_type": "code",
   "execution_count": 18,
   "id": "c3beb68b-141a-4791-a467-ab1456a8ded5",
   "metadata": {},
   "outputs": [
    {
     "name": "stdout",
     "output_type": "stream",
     "text": [
      "Using '1' and '0' (no leading space) for token IDs.\n",
      "ONE_TOKEN_ID: 16 ('1')\n",
      "ZERO_TOKEN_ID: 15 ('0')\n"
     ]
    }
   ],
   "source": [
    "# This cell defines the global token IDs for '1' and '0'\n",
    "if 'tokenizer' in globals() and tokenizer is not None:\n",
    "    try:\n",
    "        ONE_TOKEN_ID, ZERO_TOKEN_ID = get_one_zero_token_ids(tokenizer)\n",
    "        print(f\"ONE_TOKEN_ID: {ONE_TOKEN_ID} ('{tokenizer.decode([ONE_TOKEN_ID])}')\")\n",
    "        print(f\"ZERO_TOKEN_ID: {ZERO_TOKEN_ID} ('{tokenizer.decode([ZERO_TOKEN_ID])}')\")\n",
    "    except ValueError as e:\n",
    "        print(f\"Error defining 1/0 token IDs: {e}\")\n",
    "else:\n",
    "    print(\"ERROR: 'tokenizer' is not defined. Cannot define token IDs.\")"
   ]
  },
  {
   "cell_type": "code",
   "execution_count": 19,
   "id": "7608e9e0-7e71-4e2f-bd0e-85ca55dd0c0c",
   "metadata": {},
   "outputs": [
    {
     "name": "stdout",
     "output_type": "stream",
     "text": [
      "Core function 'get_schema_match_prediction' defined.\n"
     ]
    }
   ],
   "source": [
    "import torch # Ensure torch is imported\n",
    "\n",
    "# --- Core function to get P(1) and the binary decision ---\n",
    "def get_schema_match_prediction(model_arg, tokenizer_arg, system_prompt_arg, user_prompt_content_arg, one_token_id_arg, zero_token_id_arg, max_length=model.config.max_position_embeddings):\n",
    "    \"\"\"\n",
    "    Gets the model's prediction (1 or 0) and the probability score for that decision.\n",
    "    Returns a tuple: (binary_decision, probability_of_one)\n",
    "    \"\"\"\n",
    "    messages = [\n",
    "        {\"role\": \"system\", \"content\": system_prompt_arg},\n",
    "        {\"role\": \"user\", \"content\": user_prompt_content_arg}\n",
    "    ]\n",
    "\n",
    "    prompt_for_model = tokenizer_arg.apply_chat_template(messages, tokenize=False, add_generation_prompt=True)\n",
    "\n",
    "    inputs = tokenizer_arg(\n",
    "        prompt_for_model,\n",
    "        return_tensors=\"pt\",\n",
    "        truncation=True,\n",
    "        max_length=max_length - 10\n",
    "    )\n",
    "    inputs = {k: v.to(model_arg.device) for k, v in inputs.items()}\n",
    "\n",
    "    if inputs['input_ids'].shape[1] >= max_length - 10:\n",
    "         print(f\"Warning: Prompt for query was truncated. Length: {inputs['input_ids'].shape[1]}\")\n",
    "\n",
    "    with torch.no_grad():\n",
    "        outputs = model_arg(**inputs)\n",
    "        logits = outputs.logits\n",
    "        # Get the logits for the very next token to be generated\n",
    "        next_token_logits = logits[:, -1, :]\n",
    "        \n",
    "        # Get the specific logits for the '1' and '0' tokens\n",
    "        logit_one = next_token_logits[:, one_token_id_arg].item()\n",
    "        logit_zero = next_token_logits[:, zero_token_id_arg].item()\n",
    "\n",
    "    # --- Make the decision based on which logit is higher ---\n",
    "    binary_decision = 1 if logit_one > logit_zero else 0\n",
    "\n",
    "    # --- Calculate the probability using the softmax function on the two logits ---\n",
    "    # This correctly converts the logits into a probability score for '1'\n",
    "    max_logit = max(logit_one, logit_zero)\n",
    "    exp_one = torch.exp(torch.tensor(logit_one - max_logit))\n",
    "    exp_zero = torch.exp(torch.tensor(logit_zero - max_logit))\n",
    "    \n",
    "    prob_one = exp_one / (exp_one + exp_zero)\n",
    "    \n",
    "    return (binary_decision, prob_one.item())\n",
    "\n",
    "print(\"Core function 'get_schema_match_prediction' defined.\")"
   ]
  },
  {
   "cell_type": "code",
   "execution_count": 20,
   "id": "803de059-9514-4d09-b14e-b5e21e1ae14c",
   "metadata": {},
   "outputs": [
    {
     "name": "stdout",
     "output_type": "stream",
     "text": [
      "SYSTEM_PROMPT and USER_PROMPT_TEMPLATE updated for '1' or '0' output.\n"
     ]
    }
   ],
   "source": [
    "# --- Prompt Configuration for Binary (1/0) Output ---\n",
    "\n",
    "SYSTEM_PROMPT = \"\"\"\n",
    "You are an expert system that determines if a natural language question can be answered using ONLY the provided database schema.\n",
    "Your task is to respond with a single character: '1' if the question is answerable, or '0' if it is not.\n",
    "Do not provide any explanations or other text. Just '1' or '0'.\n",
    "\"\"\"\n",
    "\n",
    "USER_PROMPT_TEMPLATE = \"\"\"\n",
    "# Task: Can the question be answered using the schema? Respond with 1 (Yes) or 0 (No).\n",
    "\n",
    "# Few-Shot Examples:\n",
    "\n",
    "[Schema:\n",
    "CREATE TABLE student (student_id INT, student_name TEXT);\n",
    "CREATE TABLE course (course_id INT, course_name TEXT);\n",
    "CREATE TABLE enrollment (student_id INT, course_id INT);\n",
    "]\n",
    "Q: List the names of all students enrolled in the 'Math' course.\n",
    "A: 1\n",
    "\n",
    "[Schema:\n",
    "CREATE TABLE orders (order_id INT, customer_id INT, amount REAL);\n",
    "CREATE TABLE customer (customer_id INT, customer_name TEXT);\n",
    "]\n",
    "Q: Find the total number of orders placed in 2019.\n",
    "A: 0\n",
    "\n",
    "# Now, evaluate the following:\n",
    "\n",
    "[Schema:\n",
    "{schema_string}\n",
    "]\n",
    "Q: {nl_query}\n",
    "A:\n",
    "\"\"\"\n",
    "\n",
    "print(\"SYSTEM_PROMPT and USER_PROMPT_TEMPLATE updated for '1' or '0' output.\")"
   ]
  },
  {
   "cell_type": "code",
   "execution_count": 22,
   "id": "37250ba8-97bf-47db-9329-2a265c5de7cf",
   "metadata": {
    "scrolled": true
   },
   "outputs": [
    {
     "name": "stdout",
     "output_type": "stream",
     "text": [
      "INFO: Found existing results file. Loading progress from '/raid/infolab/gaurav/Llama_Spider_A100_Project/randomQ_allDBs_run1/spider_100_queries_llama3.1_8B-instruct.json'\n",
      "Loaded results for 689 queries. Resuming...\n",
      "\n",
      "--- Starting Experiment: 1034 Queries vs. 166 Schemas ---\n"
     ]
    },
    {
     "data": {
      "application/vnd.jupyter.widget-view+json": {
       "model_id": "9f48ec18d3a4463fb10064f574e7a9bd",
       "version_major": 2,
       "version_minor": 0
      },
      "text/plain": [
       "Processing NL Queries:   0%|          | 0/1034 [00:00<?, ?it/s]"
      ]
     },
     "metadata": {},
     "output_type": "display_data"
    },
    {
     "name": "stdout",
     "output_type": "stream",
     "text": [
      "\n",
      "Processing Query 690/1034 (ID: spider_dev_q689_idx689): 'Among the cars that do not have the minimum horsepower , what are the make ids and names of all those with less than 4 cylinders ?' (True DB: car_1)\n"
     ]
    },
    {
     "data": {
      "application/vnd.jupyter.widget-view+json": {
       "model_id": "64b934697a3f4b70b104262372f5aa64",
       "version_major": 2,
       "version_minor": 0
      },
      "text/plain": [
       "  DBs for Q:spider_dev_q689_idx6:   0%|          | 0/166 [00:00<?, ?it/s]"
      ]
     },
     "metadata": {},
     "output_type": "display_data"
    },
    {
     "name": "stdout",
     "output_type": "stream",
     "text": [
      "\n",
      "Processing Query 691/1034 (ID: spider_dev_q690_idx690): 'What is the first name and country code of the player with the most tours?' (True DB: wta_1)\n"
     ]
    },
    {
     "data": {
      "application/vnd.jupyter.widget-view+json": {
       "model_id": "40529462f3a64c8bbf63eaa30b001e13",
       "version_major": 2,
       "version_minor": 0
      },
      "text/plain": [
       "  DBs for Q:spider_dev_q690_idx6:   0%|          | 0/166 [00:00<?, ?it/s]"
      ]
     },
     "metadata": {},
     "output_type": "display_data"
    },
    {
     "name": "stdout",
     "output_type": "stream",
     "text": [
      "\n",
      "Processing Query 692/1034 (ID: spider_dev_q691_idx691): 'Show different citizenships and the maximum net worth of singers of each citizenship.' (True DB: singer)\n"
     ]
    },
    {
     "data": {
      "application/vnd.jupyter.widget-view+json": {
       "model_id": "7d9e87e2476b455ba89c086230efbb2c",
       "version_major": 2,
       "version_minor": 0
      },
      "text/plain": [
       "  DBs for Q:spider_dev_q691_idx6:   0%|          | 0/166 [00:00<?, ?it/s]"
      ]
     },
     "metadata": {},
     "output_type": "display_data"
    },
    {
     "name": "stdout",
     "output_type": "stream",
     "text": [
      "\n",
      "Processing Query 693/1034 (ID: spider_dev_q692_idx692): 'What is the template type code for template type description \"Book\".' (True DB: cre_Doc_Template_Mgt)\n"
     ]
    },
    {
     "data": {
      "application/vnd.jupyter.widget-view+json": {
       "model_id": "75bee6568a44462cb222df789c273cad",
       "version_major": 2,
       "version_minor": 0
      },
      "text/plain": [
       "  DBs for Q:spider_dev_q692_idx6:   0%|          | 0/166 [00:00<?, ?it/s]"
      ]
     },
     "metadata": {},
     "output_type": "display_data"
    },
    {
     "name": "stdout",
     "output_type": "stream",
     "text": [
      "\n",
      "Processing Query 694/1034 (ID: spider_dev_q693_idx693): 'What are the paragraph texts for the document with the name 'Customer reviews'?' (True DB: cre_Doc_Template_Mgt)\n"
     ]
    },
    {
     "data": {
      "application/vnd.jupyter.widget-view+json": {
       "model_id": "8a4312a87a20424fb06f3eb376af201a",
       "version_major": 2,
       "version_minor": 0
      },
      "text/plain": [
       "  DBs for Q:spider_dev_q693_idx6:   0%|          | 0/166 [00:00<?, ?it/s]"
      ]
     },
     "metadata": {},
     "output_type": "display_data"
    },
    {
     "name": "stdout",
     "output_type": "stream",
     "text": [
      "\n",
      "Processing Query 695/1034 (ID: spider_dev_q694_idx694): 'Show the names of high schoolers who have likes, and numbers of likes for each.' (True DB: network_1)\n"
     ]
    },
    {
     "data": {
      "application/vnd.jupyter.widget-view+json": {
       "model_id": "943011ee9a23428e914e6382394a4725",
       "version_major": 2,
       "version_minor": 0
      },
      "text/plain": [
       "  DBs for Q:spider_dev_q694_idx6:   0%|          | 0/166 [00:00<?, ?it/s]"
      ]
     },
     "metadata": {},
     "output_type": "display_data"
    },
    {
     "name": "stdout",
     "output_type": "stream",
     "text": [
      "\n",
      "Processing Query 696/1034 (ID: spider_dev_q695_idx695): 'What grade is Kyle in?' (True DB: network_1)\n"
     ]
    },
    {
     "data": {
      "application/vnd.jupyter.widget-view+json": {
       "model_id": "61e91bc7bf8b4459873fde9635be3cae",
       "version_major": 2,
       "version_minor": 0
      },
      "text/plain": [
       "  DBs for Q:spider_dev_q695_idx6:   0%|          | 0/166 [00:00<?, ?it/s]"
      ]
     },
     "metadata": {},
     "output_type": "display_data"
    },
    {
     "name": "stdout",
     "output_type": "stream",
     "text": [
      "\n",
      "Processing Query 697/1034 (ID: spider_dev_q696_idx696): 'Show the names of high schoolers who have at least 3 friends.' (True DB: network_1)\n"
     ]
    },
    {
     "data": {
      "application/vnd.jupyter.widget-view+json": {
       "model_id": "3c34f7f69fd34f1fb8ceb3a280e527fc",
       "version_major": 2,
       "version_minor": 0
      },
      "text/plain": [
       "  DBs for Q:spider_dev_q696_idx6:   0%|          | 0/166 [00:00<?, ?it/s]"
      ]
     },
     "metadata": {},
     "output_type": "display_data"
    },
    {
     "name": "stdout",
     "output_type": "stream",
     "text": [
      "\n",
      "Processing Query 698/1034 (ID: spider_dev_q697_idx697): 'What is the name and capacity of the stadium with the most concerts after 2013 ?' (True DB: concert_singer)\n"
     ]
    },
    {
     "data": {
      "application/vnd.jupyter.widget-view+json": {
       "model_id": "18fc2eb1e6be49609cd2425beb4e3eb0",
       "version_major": 2,
       "version_minor": 0
      },
      "text/plain": [
       "  DBs for Q:spider_dev_q697_idx6:   0%|          | 0/166 [00:00<?, ?it/s]"
      ]
     },
     "metadata": {},
     "output_type": "display_data"
    },
    {
     "name": "stdout",
     "output_type": "stream",
     "text": [
      "\n",
      "Processing Query 699/1034 (ID: spider_dev_q698_idx698): 'Return the number of airlines in the USA.' (True DB: flight_2)\n"
     ]
    },
    {
     "data": {
      "application/vnd.jupyter.widget-view+json": {
       "model_id": "6220fa1fda254dbdb9774ae442efe144",
       "version_major": 2,
       "version_minor": 0
      },
      "text/plain": [
       "  DBs for Q:spider_dev_q698_idx6:   0%|          | 0/166 [00:00<?, ?it/s]"
      ]
     },
     "metadata": {},
     "output_type": "display_data"
    },
    {
     "name": "stdout",
     "output_type": "stream",
     "text": [
      "\n",
      "Processing Query 700/1034 (ID: spider_dev_q699_idx699): 'Find all airlines that have flights from airport 'CVO' but not from 'APG'.' (True DB: flight_2)\n"
     ]
    },
    {
     "data": {
      "application/vnd.jupyter.widget-view+json": {
       "model_id": "11c258634b10405ab76e0e97f66a55ff",
       "version_major": 2,
       "version_minor": 0
      },
      "text/plain": [
       "  DBs for Q:spider_dev_q699_idx6:   0%|          | 0/166 [00:00<?, ?it/s]"
      ]
     },
     "metadata": {},
     "output_type": "display_data"
    },
    {
     "name": "stdout",
     "output_type": "stream",
     "text": [
      "\n",
      "Processing Query 701/1034 (ID: spider_dev_q700_idx700): 'Return the name, location and district of all shops in descending order of number of products.' (True DB: employee_hire_evaluation)\n"
     ]
    },
    {
     "data": {
      "application/vnd.jupyter.widget-view+json": {
       "model_id": "0b6ddf61ced84007a27269af18cc0860",
       "version_major": 2,
       "version_minor": 0
      },
      "text/plain": [
       "  DBs for Q:spider_dev_q700_idx7:   0%|          | 0/166 [00:00<?, ?it/s]"
      ]
     },
     "metadata": {},
     "output_type": "display_data"
    },
    {
     "name": "stdout",
     "output_type": "stream",
     "text": [
      "\n",
      "Processing Query 702/1034 (ID: spider_dev_q701_idx701): 'What other details can you tell me about students in reverse alphabetical order?' (True DB: student_transcripts_tracking)\n"
     ]
    },
    {
     "data": {
      "application/vnd.jupyter.widget-view+json": {
       "model_id": "632eb99e44654c388eb34f63867ff0e0",
       "version_major": 2,
       "version_minor": 0
      },
      "text/plain": [
       "  DBs for Q:spider_dev_q701_idx7:   0%|          | 0/166 [00:00<?, ?it/s]"
      ]
     },
     "metadata": {},
     "output_type": "display_data"
    },
    {
     "name": "stdout",
     "output_type": "stream",
     "text": [
      "\n",
      "Processing Query 703/1034 (ID: spider_dev_q702_idx702): 'Where is the youngest teacher from?' (True DB: course_teach)\n"
     ]
    },
    {
     "data": {
      "application/vnd.jupyter.widget-view+json": {
       "model_id": "22f001bf240449768419baca10a7dc4a",
       "version_major": 2,
       "version_minor": 0
      },
      "text/plain": [
       "  DBs for Q:spider_dev_q702_idx7:   0%|          | 0/166 [00:00<?, ?it/s]"
      ]
     },
     "metadata": {},
     "output_type": "display_data"
    },
    {
     "name": "stdout",
     "output_type": "stream",
     "text": [
      "\n",
      "Processing Query 704/1034 (ID: spider_dev_q703_idx703): 'Which airline has most number of flights?' (True DB: flight_2)\n"
     ]
    },
    {
     "data": {
      "application/vnd.jupyter.widget-view+json": {
       "model_id": "3b6dbf0a9b744afbbce4e9d27870703e",
       "version_major": 2,
       "version_minor": 0
      },
      "text/plain": [
       "  DBs for Q:spider_dev_q703_idx7:   0%|          | 0/166 [00:00<?, ?it/s]"
      ]
     },
     "metadata": {},
     "output_type": "display_data"
    },
    {
     "name": "stdout",
     "output_type": "stream",
     "text": [
      "\n",
      "Processing Query 705/1034 (ID: spider_dev_q704_idx704): 'Find the average age of the dogs who went through treatments.' (True DB: dog_kennels)\n"
     ]
    },
    {
     "data": {
      "application/vnd.jupyter.widget-view+json": {
       "model_id": "f891298c1bb04f01a4375bfb70deb164",
       "version_major": 2,
       "version_minor": 0
      },
      "text/plain": [
       "  DBs for Q:spider_dev_q704_idx7:   0%|          | 0/166 [00:00<?, ?it/s]"
      ]
     },
     "metadata": {},
     "output_type": "display_data"
    },
    {
     "name": "stdout",
     "output_type": "stream",
     "text": [
      "\n",
      "Processing Query 706/1034 (ID: spider_dev_q705_idx705): 'What is the average age of the visitors whose membership level is not higher than 4?' (True DB: museum_visit)\n"
     ]
    },
    {
     "data": {
      "application/vnd.jupyter.widget-view+json": {
       "model_id": "14cd4ee729fd4c169e8eab85b0f95ae0",
       "version_major": 2,
       "version_minor": 0
      },
      "text/plain": [
       "  DBs for Q:spider_dev_q705_idx7:   0%|          | 0/166 [00:00<?, ?it/s]"
      ]
     },
     "metadata": {},
     "output_type": "display_data"
    },
    {
     "name": "stdout",
     "output_type": "stream",
     "text": [
      "\n",
      "Processing Query 707/1034 (ID: spider_dev_q706_idx706): 'Return the maximum and minimum shares for performances that do not have the type \"Live final\".' (True DB: orchestra)\n"
     ]
    },
    {
     "data": {
      "application/vnd.jupyter.widget-view+json": {
       "model_id": "bdfc9c1d5baf485c857ee0b384b19a9c",
       "version_major": 2,
       "version_minor": 0
      },
      "text/plain": [
       "  DBs for Q:spider_dev_q706_idx7:   0%|          | 0/166 [00:00<?, ?it/s]"
      ]
     },
     "metadata": {},
     "output_type": "display_data"
    },
    {
     "name": "stdout",
     "output_type": "stream",
     "text": [
      "\n",
      "Processing Query 708/1034 (ID: spider_dev_q707_idx707): 'Give me the description of the treatment type whose total cost is the lowest.' (True DB: dog_kennels)\n"
     ]
    },
    {
     "data": {
      "application/vnd.jupyter.widget-view+json": {
       "model_id": "07936364743645f089ab61d23fc677c5",
       "version_major": 2,
       "version_minor": 0
      },
      "text/plain": [
       "  DBs for Q:spider_dev_q707_idx7:   0%|          | 0/166 [00:00<?, ?it/s]"
      ]
     },
     "metadata": {},
     "output_type": "display_data"
    },
    {
     "name": "stdout",
     "output_type": "stream",
     "text": [
      "\n",
      "Processing Query 709/1034 (ID: spider_dev_q708_idx708): 'How many likes does Kyle have?' (True DB: network_1)\n"
     ]
    },
    {
     "data": {
      "application/vnd.jupyter.widget-view+json": {
       "model_id": "265f1f2e062d4e60b3667d9a2c1d3bdc",
       "version_major": 2,
       "version_minor": 0
      },
      "text/plain": [
       "  DBs for Q:spider_dev_q708_idx7:   0%|          | 0/166 [00:00<?, ?it/s]"
      ]
     },
     "metadata": {},
     "output_type": "display_data"
    },
    {
     "name": "stdout",
     "output_type": "stream",
     "text": [
      "\n",
      "Processing Query 710/1034 (ID: spider_dev_q709_idx709): 'Show me all grades that have at least 4 students.' (True DB: network_1)\n"
     ]
    },
    {
     "data": {
      "application/vnd.jupyter.widget-view+json": {
       "model_id": "43d1bf571582400784884fde56151bc7",
       "version_major": 2,
       "version_minor": 0
      },
      "text/plain": [
       "  DBs for Q:spider_dev_q709_idx7:   0%|          | 0/166 [00:00<?, ?it/s]"
      ]
     },
     "metadata": {},
     "output_type": "display_data"
    },
    {
     "name": "stdout",
     "output_type": "stream",
     "text": [
      "\n",
      "Processing Query 711/1034 (ID: spider_dev_q710_idx710): 'Give me Brazil’s population and life expectancies.' (True DB: world_1)\n"
     ]
    },
    {
     "data": {
      "application/vnd.jupyter.widget-view+json": {
       "model_id": "4e38769a984441de8a747fcc88b73060",
       "version_major": 2,
       "version_minor": 0
      },
      "text/plain": [
       "  DBs for Q:spider_dev_q710_idx7:   0%|          | 0/166 [00:00<?, ?it/s]"
      ]
     },
     "metadata": {},
     "output_type": "display_data"
    },
    {
     "name": "stdout",
     "output_type": "stream",
     "text": [
      "\n",
      "Processing Query 712/1034 (ID: spider_dev_q711_idx711): 'What is the average GNP and total population in all nations whose government is US territory?' (True DB: world_1)\n"
     ]
    },
    {
     "data": {
      "application/vnd.jupyter.widget-view+json": {
       "model_id": "85107e5a644247e4b4dbf7b17f4088b4",
       "version_major": 2,
       "version_minor": 0
      },
      "text/plain": [
       "  DBs for Q:spider_dev_q711_idx7:   0%|          | 0/166 [00:00<?, ?it/s]"
      ]
     },
     "metadata": {},
     "output_type": "display_data"
    },
    {
     "name": "stdout",
     "output_type": "stream",
     "text": [
      "\n",
      "Processing Query 713/1034 (ID: spider_dev_q712_idx712): 'Show all paragraph ids and texts for the document with name 'Welcome to NY'.' (True DB: cre_Doc_Template_Mgt)\n"
     ]
    },
    {
     "data": {
      "application/vnd.jupyter.widget-view+json": {
       "model_id": "5157ba0b3d184a449a1fc956c6f89043",
       "version_major": 2,
       "version_minor": 0
      },
      "text/plain": [
       "  DBs for Q:spider_dev_q712_idx7:   0%|          | 0/166 [00:00<?, ?it/s]"
      ]
     },
     "metadata": {},
     "output_type": "display_data"
    },
    {
     "name": "stdout",
     "output_type": "stream",
     "text": [
      "\n",
      "Processing Query 714/1034 (ID: spider_dev_q713_idx713): 'What are the names of conductors as well as the corresonding orchestras that they have conducted?' (True DB: orchestra)\n"
     ]
    },
    {
     "data": {
      "application/vnd.jupyter.widget-view+json": {
       "model_id": "8f1fc89b67174497877ee046b24cdcdb",
       "version_major": 2,
       "version_minor": 0
      },
      "text/plain": [
       "  DBs for Q:spider_dev_q713_idx7:   0%|          | 0/166 [00:00<?, ?it/s]"
      ]
     },
     "metadata": {},
     "output_type": "display_data"
    },
    {
     "name": "stdout",
     "output_type": "stream",
     "text": [
      "\n",
      "Processing Query 715/1034 (ID: spider_dev_q714_idx714): 'What is the country with the most number of TV Channels and how many does it have?' (True DB: tvshow)\n"
     ]
    },
    {
     "data": {
      "application/vnd.jupyter.widget-view+json": {
       "model_id": "f241212a3af8456cb582fbd9d1dea8b9",
       "version_major": 2,
       "version_minor": 0
      },
      "text/plain": [
       "  DBs for Q:spider_dev_q714_idx7:   0%|          | 0/166 [00:00<?, ?it/s]"
      ]
     },
     "metadata": {},
     "output_type": "display_data"
    },
    {
     "name": "stdout",
     "output_type": "stream",
     "text": [
      "\n",
      "Processing Query 716/1034 (ID: spider_dev_q715_idx715): 'What are the age and hometown of teachers?' (True DB: course_teach)\n"
     ]
    },
    {
     "data": {
      "application/vnd.jupyter.widget-view+json": {
       "model_id": "2d45b9522acf44c7bd2a61c27e7ee69c",
       "version_major": 2,
       "version_minor": 0
      },
      "text/plain": [
       "  DBs for Q:spider_dev_q715_idx7:   0%|          | 0/166 [00:00<?, ?it/s]"
      ]
     },
     "metadata": {},
     "output_type": "display_data"
    },
    {
     "name": "stdout",
     "output_type": "stream",
     "text": [
      "\n",
      "Processing Query 717/1034 (ID: spider_dev_q716_idx716): 'Find the name of the shops that do not hire any employee.' (True DB: employee_hire_evaluation)\n"
     ]
    },
    {
     "data": {
      "application/vnd.jupyter.widget-view+json": {
       "model_id": "c8d2a6f3b2ce401498430c79bc1fc616",
       "version_major": 2,
       "version_minor": 0
      },
      "text/plain": [
       "  DBs for Q:spider_dev_q716_idx7:   0%|          | 0/166 [00:00<?, ?it/s]"
      ]
     },
     "metadata": {},
     "output_type": "display_data"
    },
    {
     "name": "stdout",
     "output_type": "stream",
     "text": [
      "\n",
      "Processing Query 718/1034 (ID: spider_dev_q717_idx717): 'Which first names are used for professionals or owners but are not used as dog names?' (True DB: dog_kennels)\n"
     ]
    },
    {
     "data": {
      "application/vnd.jupyter.widget-view+json": {
       "model_id": "3d18e6dfceb54381bb36969ea68b77e7",
       "version_major": 2,
       "version_minor": 0
      },
      "text/plain": [
       "  DBs for Q:spider_dev_q717_idx7:   0%|          | 0/166 [00:00<?, ?it/s]"
      ]
     },
     "metadata": {},
     "output_type": "display_data"
    },
    {
     "name": "stdout",
     "output_type": "stream",
     "text": [
      "\n",
      "Processing Query 719/1034 (ID: spider_dev_q718_idx718): 'Count the number of dogs of an age below the average.' (True DB: dog_kennels)\n"
     ]
    },
    {
     "data": {
      "application/vnd.jupyter.widget-view+json": {
       "model_id": "0b4f4f4188e54fcaac85280b9cb6acd1",
       "version_major": 2,
       "version_minor": 0
      },
      "text/plain": [
       "  DBs for Q:spider_dev_q718_idx7:   0%|          | 0/166 [00:00<?, ?it/s]"
      ]
     },
     "metadata": {},
     "output_type": "display_data"
    },
    {
     "name": "stdout",
     "output_type": "stream",
     "text": [
      "\n",
      "Processing Query 720/1034 (ID: spider_dev_q719_idx719): 'What are the id, role, and first name of the professionals who have performed two or more treatments?' (True DB: dog_kennels)\n"
     ]
    },
    {
     "data": {
      "application/vnd.jupyter.widget-view+json": {
       "model_id": "599e3a295b4b4e7cac3802a9fec2a8cd",
       "version_major": 2,
       "version_minor": 0
      },
      "text/plain": [
       "  DBs for Q:spider_dev_q719_idx7:   0%|          | 0/166 [00:00<?, ?it/s]"
      ]
     },
     "metadata": {},
     "output_type": "display_data"
    },
    {
     "name": "stdout",
     "output_type": "stream",
     "text": [
      "\n",
      "Processing Query 721/1034 (ID: spider_dev_q720_idx720): 'How many times at most can a course enrollment result show in different transcripts? Also show the course enrollment id.' (True DB: student_transcripts_tracking)\n"
     ]
    },
    {
     "data": {
      "application/vnd.jupyter.widget-view+json": {
       "model_id": "a2c84d4421ee4035ae646ed7f89645cd",
       "version_major": 2,
       "version_minor": 0
      },
      "text/plain": [
       "  DBs for Q:spider_dev_q720_idx7:   0%|          | 0/166 [00:00<?, ?it/s]"
      ]
     },
     "metadata": {},
     "output_type": "display_data"
    },
    {
     "name": "stdout",
     "output_type": "stream",
     "text": [
      "\n",
      "Processing Query 722/1034 (ID: spider_dev_q721_idx721): 'Count the number of different nationalities of conductors.' (True DB: orchestra)\n"
     ]
    },
    {
     "data": {
      "application/vnd.jupyter.widget-view+json": {
       "model_id": "b9e6dbdfb86a4f84b5b052e2ee5d2e51",
       "version_major": 2,
       "version_minor": 0
      },
      "text/plain": [
       "  DBs for Q:spider_dev_q721_idx7:   0%|          | 0/166 [00:00<?, ?it/s]"
      ]
     },
     "metadata": {},
     "output_type": "display_data"
    },
    {
     "name": "stdout",
     "output_type": "stream",
     "text": [
      "\n",
      "Processing Query 723/1034 (ID: spider_dev_q722_idx722): 'How many flights arriving in Aberdeen city?' (True DB: flight_2)\n"
     ]
    },
    {
     "data": {
      "application/vnd.jupyter.widget-view+json": {
       "model_id": "260b5cfee18c499fa325c429b307cc2f",
       "version_major": 2,
       "version_minor": 0
      },
      "text/plain": [
       "  DBs for Q:spider_dev_q722_idx7:   0%|          | 0/166 [00:00<?, ?it/s]"
      ]
     },
     "metadata": {},
     "output_type": "display_data"
    },
    {
     "name": "stdout",
     "output_type": "stream",
     "text": [
      "\n",
      "Processing Query 724/1034 (ID: spider_dev_q723_idx723): 'List the dog name, age and weight of the dogs who have been abandoned? 1 stands for yes, and 0 stands for no.' (True DB: dog_kennels)\n"
     ]
    },
    {
     "data": {
      "application/vnd.jupyter.widget-view+json": {
       "model_id": "53e2a9aebedc4bd3b6de2b1be66b4770",
       "version_major": 2,
       "version_minor": 0
      },
      "text/plain": [
       "  DBs for Q:spider_dev_q723_idx7:   0%|          | 0/166 [00:00<?, ?it/s]"
      ]
     },
     "metadata": {},
     "output_type": "display_data"
    },
    {
     "name": "stdout",
     "output_type": "stream",
     "text": [
      "\n",
      "Processing Query 725/1034 (ID: spider_dev_q724_idx724): 'What is the abbreviation of Airline \"JetBlue Airways\"?' (True DB: flight_2)\n"
     ]
    },
    {
     "data": {
      "application/vnd.jupyter.widget-view+json": {
       "model_id": "c73ea6f4428c4047a961f6a07bd452db",
       "version_major": 2,
       "version_minor": 0
      },
      "text/plain": [
       "  DBs for Q:spider_dev_q724_idx7:   0%|          | 0/166 [00:00<?, ?it/s]"
      ]
     },
     "metadata": {},
     "output_type": "display_data"
    },
    {
     "name": "stdout",
     "output_type": "stream",
     "text": [
      "\n",
      "Processing Query 726/1034 (ID: spider_dev_q725_idx725): 'What are the final tables made and best finishes for all poker players?' (True DB: poker_player)\n"
     ]
    },
    {
     "data": {
      "application/vnd.jupyter.widget-view+json": {
       "model_id": "e2101cdd59604e3a9aaa65ef09934245",
       "version_major": 2,
       "version_minor": 0
      },
      "text/plain": [
       "  DBs for Q:spider_dev_q725_idx7:   0%|          | 0/166 [00:00<?, ?it/s]"
      ]
     },
     "metadata": {},
     "output_type": "display_data"
    },
    {
     "name": "stdout",
     "output_type": "stream",
     "text": [
      "\n",
      "Processing Query 727/1034 (ID: spider_dev_q726_idx726): 'What are the names of cities in Europe for which English is not the official language?' (True DB: world_1)\n"
     ]
    },
    {
     "data": {
      "application/vnd.jupyter.widget-view+json": {
       "model_id": "6a38e03b8f574c10890074d44e4907b8",
       "version_major": 2,
       "version_minor": 0
      },
      "text/plain": [
       "  DBs for Q:spider_dev_q726_idx7:   0%|          | 0/166 [00:00<?, ?it/s]"
      ]
     },
     "metadata": {},
     "output_type": "display_data"
    },
    {
     "name": "stdout",
     "output_type": "stream",
     "text": [
      "\n",
      "Processing Query 728/1034 (ID: spider_dev_q727_idx727): 'List the first and last name of all players who are left / L hand in the order of birth date.' (True DB: wta_1)\n"
     ]
    },
    {
     "data": {
      "application/vnd.jupyter.widget-view+json": {
       "model_id": "d72788b43cd34e75b776a7ba1f8d0f62",
       "version_major": 2,
       "version_minor": 0
      },
      "text/plain": [
       "  DBs for Q:spider_dev_q727_idx7:   0%|          | 0/166 [00:00<?, ?it/s]"
      ]
     },
     "metadata": {},
     "output_type": "display_data"
    },
    {
     "name": "stdout",
     "output_type": "stream",
     "text": [
      "\n",
      "Processing Query 729/1034 (ID: spider_dev_q728_idx728): 'How many likes correspond to each student id?' (True DB: network_1)\n"
     ]
    },
    {
     "data": {
      "application/vnd.jupyter.widget-view+json": {
       "model_id": "9b6ed3fa65db427a8c12e24edbd667fe",
       "version_major": 2,
       "version_minor": 0
      },
      "text/plain": [
       "  DBs for Q:spider_dev_q728_idx7:   0%|          | 0/166 [00:00<?, ?it/s]"
      ]
     },
     "metadata": {},
     "output_type": "display_data"
    },
    {
     "name": "stdout",
     "output_type": "stream",
     "text": [
      "\n",
      "Processing Query 730/1034 (ID: spider_dev_q729_idx729): 'How many templates have template type code CV?' (True DB: cre_Doc_Template_Mgt)\n"
     ]
    },
    {
     "data": {
      "application/vnd.jupyter.widget-view+json": {
       "model_id": "b55a4bf06b244c82a5c4e779d950e847",
       "version_major": 2,
       "version_minor": 0
      },
      "text/plain": [
       "  DBs for Q:spider_dev_q729_idx7:   0%|          | 0/166 [00:00<?, ?it/s]"
      ]
     },
     "metadata": {},
     "output_type": "display_data"
    },
    {
     "name": "stdout",
     "output_type": "stream",
     "text": [
      "\n",
      "Processing Query 731/1034 (ID: spider_dev_q730_idx730): 'What the smallest version number and its template type code?' (True DB: cre_Doc_Template_Mgt)\n"
     ]
    },
    {
     "data": {
      "application/vnd.jupyter.widget-view+json": {
       "model_id": "7ecdc11eff404ad8a3e540e6d13de019",
       "version_major": 2,
       "version_minor": 0
      },
      "text/plain": [
       "  DBs for Q:spider_dev_q730_idx7:   0%|          | 0/166 [00:00<?, ?it/s]"
      ]
     },
     "metadata": {},
     "output_type": "display_data"
    },
    {
     "name": "stdout",
     "output_type": "stream",
     "text": [
      "\n",
      "Processing Query 732/1034 (ID: spider_dev_q731_idx731): 'What is the maximum number of final tables made among poker players with earnings less than 200000?' (True DB: poker_player)\n"
     ]
    },
    {
     "data": {
      "application/vnd.jupyter.widget-view+json": {
       "model_id": "743b872be2bf4c32bbf9421aee7b553e",
       "version_major": 2,
       "version_minor": 0
      },
      "text/plain": [
       "  DBs for Q:spider_dev_q731_idx7:   0%|          | 0/166 [00:00<?, ?it/s]"
      ]
     },
     "metadata": {},
     "output_type": "display_data"
    },
    {
     "name": "stdout",
     "output_type": "stream",
     "text": [
      "\n",
      "Processing Query 733/1034 (ID: spider_dev_q732_idx732): 'What is the name of the museum that had no visitor yet?' (True DB: museum_visit)\n"
     ]
    },
    {
     "data": {
      "application/vnd.jupyter.widget-view+json": {
       "model_id": "fee9a85f63ee4ffc853c285420d381b9",
       "version_major": 2,
       "version_minor": 0
      },
      "text/plain": [
       "  DBs for Q:spider_dev_q732_idx7:   0%|          | 0/166 [00:00<?, ?it/s]"
      ]
     },
     "metadata": {},
     "output_type": "display_data"
    },
    {
     "name": "stdout",
     "output_type": "stream",
     "text": [
      "\n",
      "Processing Query 734/1034 (ID: spider_dev_q733_idx733): 'Show names of teachers and the courses they are arranged to teach.' (True DB: course_teach)\n"
     ]
    },
    {
     "data": {
      "application/vnd.jupyter.widget-view+json": {
       "model_id": "66d396d3b2ba4d8aa2466d31d6001d73",
       "version_major": 2,
       "version_minor": 0
      },
      "text/plain": [
       "  DBs for Q:spider_dev_q733_idx7:   0%|          | 0/166 [00:00<?, ?it/s]"
      ]
     },
     "metadata": {},
     "output_type": "display_data"
    },
    {
     "name": "stdout",
     "output_type": "stream",
     "text": [
      "\n",
      "Processing Query 735/1034 (ID: spider_dev_q734_idx734): 'Which airports do not have departing or arriving flights?' (True DB: flight_2)\n"
     ]
    },
    {
     "data": {
      "application/vnd.jupyter.widget-view+json": {
       "model_id": "0871d97658e24cc481122183a96e1b5f",
       "version_major": 2,
       "version_minor": 0
      },
      "text/plain": [
       "  DBs for Q:spider_dev_q734_idx7:   0%|          | 0/166 [00:00<?, ?it/s]"
      ]
     },
     "metadata": {},
     "output_type": "display_data"
    },
    {
     "name": "stdout",
     "output_type": "stream",
     "text": [
      "\n",
      "Processing Query 736/1034 (ID: spider_dev_q735_idx735): 'What are the names of the teachers ordered by ascending age?' (True DB: course_teach)\n"
     ]
    },
    {
     "data": {
      "application/vnd.jupyter.widget-view+json": {
       "model_id": "3873adf5f8ac49719bedeae4eff47adb",
       "version_major": 2,
       "version_minor": 0
      },
      "text/plain": [
       "  DBs for Q:spider_dev_q735_idx7:   0%|          | 0/166 [00:00<?, ?it/s]"
      ]
     },
     "metadata": {},
     "output_type": "display_data"
    },
    {
     "name": "stdout",
     "output_type": "stream",
     "text": [
      "\n",
      "Processing Query 737/1034 (ID: spider_dev_q736_idx736): 'What is the number of cars with more than 4 cylinders?' (True DB: car_1)\n"
     ]
    },
    {
     "data": {
      "application/vnd.jupyter.widget-view+json": {
       "model_id": "a72cfa4040d149f2b582faf24a0a3588",
       "version_major": 2,
       "version_minor": 0
      },
      "text/plain": [
       "  DBs for Q:spider_dev_q736_idx7:   0%|          | 0/166 [00:00<?, ?it/s]"
      ]
     },
     "metadata": {},
     "output_type": "display_data"
    },
    {
     "name": "stdout",
     "output_type": "stream",
     "text": [
      "\n",
      "Processing Query 738/1034 (ID: spider_dev_q737_idx737): 'list all cartoon titles and their directors ordered by their air date' (True DB: tvshow)\n"
     ]
    },
    {
     "data": {
      "application/vnd.jupyter.widget-view+json": {
       "model_id": "b9f951c0cb584c0f842dd2589e04b249",
       "version_major": 2,
       "version_minor": 0
      },
      "text/plain": [
       "  DBs for Q:spider_dev_q737_idx7:   0%|          | 0/166 [00:00<?, ?it/s]"
      ]
     },
     "metadata": {},
     "output_type": "display_data"
    },
    {
     "name": "stdout",
     "output_type": "stream",
     "text": [
      "\n",
      "Processing Query 739/1034 (ID: spider_dev_q738_idx738): 'Return the id and name of the document with the most paragraphs.' (True DB: cre_Doc_Template_Mgt)\n"
     ]
    },
    {
     "data": {
      "application/vnd.jupyter.widget-view+json": {
       "model_id": "7ed4af573c064b7f8fdd305cdb383f9c",
       "version_major": 2,
       "version_minor": 0
      },
      "text/plain": [
       "  DBs for Q:spider_dev_q738_idx7:   0%|          | 0/166 [00:00<?, ?it/s]"
      ]
     },
     "metadata": {},
     "output_type": "display_data"
    },
    {
     "name": "stdout",
     "output_type": "stream",
     "text": [
      "\n",
      "Processing Query 740/1034 (ID: spider_dev_q739_idx739): 'What is all the information about hiring?' (True DB: employee_hire_evaluation)\n"
     ]
    },
    {
     "data": {
      "application/vnd.jupyter.widget-view+json": {
       "model_id": "653e555272d34c779d821e17af161049",
       "version_major": 2,
       "version_minor": 0
      },
      "text/plain": [
       "  DBs for Q:spider_dev_q739_idx7:   0%|          | 0/166 [00:00<?, ?it/s]"
      ]
     },
     "metadata": {},
     "output_type": "display_data"
    },
    {
     "name": "stdout",
     "output_type": "stream",
     "text": [
      "\n",
      "Processing Query 741/1034 (ID: spider_dev_q740_idx740): 'What are the earnings of poker players, ordered descending by value?' (True DB: poker_player)\n"
     ]
    },
    {
     "data": {
      "application/vnd.jupyter.widget-view+json": {
       "model_id": "c0c45ceb927743d8b1eb472bdf21f629",
       "version_major": 2,
       "version_minor": 0
      },
      "text/plain": [
       "  DBs for Q:spider_dev_q740_idx7:   0%|          | 0/166 [00:00<?, ?it/s]"
      ]
     },
     "metadata": {},
     "output_type": "display_data"
    },
    {
     "name": "stdout",
     "output_type": "stream",
     "text": [
      "\n",
      "Processing Query 742/1034 (ID: spider_dev_q741_idx741): 'Find the number of employees hired in each shop; show the shop name as well.' (True DB: employee_hire_evaluation)\n"
     ]
    },
    {
     "data": {
      "application/vnd.jupyter.widget-view+json": {
       "model_id": "46289ce65cf94d0291a3a42918f87ddb",
       "version_major": 2,
       "version_minor": 0
      },
      "text/plain": [
       "  DBs for Q:spider_dev_q741_idx7:   0%|          | 0/166 [00:00<?, ?it/s]"
      ]
     },
     "metadata": {},
     "output_type": "display_data"
    },
    {
     "name": "stdout",
     "output_type": "stream",
     "text": [
      "\n",
      "Processing Query 743/1034 (ID: spider_dev_q742_idx742): 'Show the names and grades of each high schooler.' (True DB: network_1)\n"
     ]
    },
    {
     "data": {
      "application/vnd.jupyter.widget-view+json": {
       "model_id": "cb99b574f71f4539a760a831f0c5909a",
       "version_major": 2,
       "version_minor": 0
      },
      "text/plain": [
       "  DBs for Q:spider_dev_q742_idx7:   0%|          | 0/166 [00:00<?, ?it/s]"
      ]
     },
     "metadata": {},
     "output_type": "display_data"
    },
    {
     "name": "stdout",
     "output_type": "stream",
     "text": [
      "\n",
      "Processing Query 744/1034 (ID: spider_dev_q743_idx743): 'Show location and name for all stadiums with a capacity between 5000 and 10000.' (True DB: concert_singer)\n"
     ]
    },
    {
     "data": {
      "application/vnd.jupyter.widget-view+json": {
       "model_id": "87f8c7e059a5485ea0f5b78074e1331f",
       "version_major": 2,
       "version_minor": 0
      },
      "text/plain": [
       "  DBs for Q:spider_dev_q743_idx7:   0%|          | 0/166 [00:00<?, ?it/s]"
      ]
     },
     "metadata": {},
     "output_type": "display_data"
    },
    {
     "name": "stdout",
     "output_type": "stream",
     "text": [
      "\n",
      "Processing Query 745/1034 (ID: spider_dev_q744_idx744): 'Which Asian countries have a population that is larger than any country in Africa?' (True DB: world_1)\n"
     ]
    },
    {
     "data": {
      "application/vnd.jupyter.widget-view+json": {
       "model_id": "b70590afeed1455bb6882ea1e63ad252",
       "version_major": 2,
       "version_minor": 0
      },
      "text/plain": [
       "  DBs for Q:spider_dev_q744_idx7:   0%|          | 0/166 [00:00<?, ?it/s]"
      ]
     },
     "metadata": {},
     "output_type": "display_data"
    },
    {
     "name": "stdout",
     "output_type": "stream",
     "text": [
      "\n",
      "Processing Query 746/1034 (ID: spider_dev_q745_idx745): 'What is the total number of singers?' (True DB: concert_singer)\n"
     ]
    },
    {
     "data": {
      "application/vnd.jupyter.widget-view+json": {
       "model_id": "6f02501a66344aa29a0319677ce666a1",
       "version_major": 2,
       "version_minor": 0
      },
      "text/plain": [
       "  DBs for Q:spider_dev_q745_idx7:   0%|          | 0/166 [00:00<?, ?it/s]"
      ]
     },
     "metadata": {},
     "output_type": "display_data"
    },
    {
     "name": "stdout",
     "output_type": "stream",
     "text": [
      "\n",
      "Processing Query 747/1034 (ID: spider_dev_q746_idx746): 'In 1980, how many cars were made?' (True DB: car_1)\n"
     ]
    },
    {
     "data": {
      "application/vnd.jupyter.widget-view+json": {
       "model_id": "66632c25148a48209a8367dbc47c9272",
       "version_major": 2,
       "version_minor": 0
      },
      "text/plain": [
       "  DBs for Q:spider_dev_q746_idx7:   0%|          | 0/166 [00:00<?, ?it/s]"
      ]
     },
     "metadata": {},
     "output_type": "display_data"
    },
    {
     "name": "stdout",
     "output_type": "stream",
     "text": [
      "\n",
      "Processing Query 748/1034 (ID: spider_dev_q747_idx747): 'Give the total population and average surface area corresponding to countries in North America that have a surface area greater than 3000 .' (True DB: world_1)\n"
     ]
    },
    {
     "data": {
      "application/vnd.jupyter.widget-view+json": {
       "model_id": "bab9a7aa93af46299d2c14633106be85",
       "version_major": 2,
       "version_minor": 0
      },
      "text/plain": [
       "  DBs for Q:spider_dev_q747_idx7:   0%|          | 0/166 [00:00<?, ?it/s]"
      ]
     },
     "metadata": {},
     "output_type": "display_data"
    },
    {
     "name": "stdout",
     "output_type": "stream",
     "text": [
      "\n",
      "Processing Query 749/1034 (ID: spider_dev_q748_idx748): 'List each charge type and its amount.' (True DB: dog_kennels)\n"
     ]
    },
    {
     "data": {
      "application/vnd.jupyter.widget-view+json": {
       "model_id": "dcd8fb45f1e34db188d8285579da2f1e",
       "version_major": 2,
       "version_minor": 0
      },
      "text/plain": [
       "  DBs for Q:spider_dev_q748_idx7:   0%|          | 0/166 [00:00<?, ?it/s]"
      ]
     },
     "metadata": {},
     "output_type": "display_data"
    },
    {
     "name": "stdout",
     "output_type": "stream",
     "text": [
      "\n",
      "Processing Query 750/1034 (ID: spider_dev_q749_idx749): 'Which owner has paid the largest amount of money in total for their dogs? Show the owner id and zip code.' (True DB: dog_kennels)\n"
     ]
    },
    {
     "data": {
      "application/vnd.jupyter.widget-view+json": {
       "model_id": "023799afde7b435599043041589f5a99",
       "version_major": 2,
       "version_minor": 0
      },
      "text/plain": [
       "  DBs for Q:spider_dev_q749_idx7:   0%|          | 0/166 [00:00<?, ?it/s]"
      ]
     },
     "metadata": {},
     "output_type": "display_data"
    },
    {
     "name": "stdout",
     "output_type": "stream",
     "text": [
      "\n",
      "Processing Query 751/1034 (ID: spider_dev_q750_idx750): 'What are the ids for templates that are not used in any documents?' (True DB: cre_Doc_Template_Mgt)\n"
     ]
    },
    {
     "data": {
      "application/vnd.jupyter.widget-view+json": {
       "model_id": "88c7917a72dd47508628eadad38ab177",
       "version_major": 2,
       "version_minor": 0
      },
      "text/plain": [
       "  DBs for Q:spider_dev_q750_idx7:   0%|          | 0/166 [00:00<?, ?it/s]"
      ]
     },
     "metadata": {},
     "output_type": "display_data"
    },
    {
     "name": "stdout",
     "output_type": "stream",
     "text": [
      "\n",
      "Processing Query 752/1034 (ID: spider_dev_q751_idx751): 'What is the name of the singer with the largest net worth?' (True DB: singer)\n"
     ]
    },
    {
     "data": {
      "application/vnd.jupyter.widget-view+json": {
       "model_id": "168d1236695f49da88650babe88692cc",
       "version_major": 2,
       "version_minor": 0
      },
      "text/plain": [
       "  DBs for Q:spider_dev_q751_idx7:   0%|          | 0/166 [00:00<?, ?it/s]"
      ]
     },
     "metadata": {},
     "output_type": "display_data"
    },
    {
     "name": "stdout",
     "output_type": "stream",
     "text": [
      "\n",
      "Processing Query 753/1034 (ID: spider_dev_q752_idx752): 'What is the maximum and minimum share for the TV series?' (True DB: tvshow)\n"
     ]
    },
    {
     "data": {
      "application/vnd.jupyter.widget-view+json": {
       "model_id": "9519510f2c8946f3aba8e14836631677",
       "version_major": 2,
       "version_minor": 0
      },
      "text/plain": [
       "  DBs for Q:spider_dev_q752_idx7:   0%|          | 0/166 [00:00<?, ?it/s]"
      ]
     },
     "metadata": {},
     "output_type": "display_data"
    },
    {
     "name": "stdout",
     "output_type": "stream",
     "text": [
      "\n",
      "Processing Query 754/1034 (ID: spider_dev_q753_idx753): 'Which breed do the most dogs have? Give me the breed name.' (True DB: dog_kennels)\n"
     ]
    },
    {
     "data": {
      "application/vnd.jupyter.widget-view+json": {
       "model_id": "13aa11662e0e446680c09d0f31f510e6",
       "version_major": 2,
       "version_minor": 0
      },
      "text/plain": [
       "  DBs for Q:spider_dev_q753_idx7:   0%|          | 0/166 [00:00<?, ?it/s]"
      ]
     },
     "metadata": {},
     "output_type": "display_data"
    },
    {
     "name": "stdout",
     "output_type": "stream",
     "text": [
      "\n",
      "Processing Query 755/1034 (ID: spider_dev_q754_idx754): 'What is the average weight and year for each year?' (True DB: car_1)\n"
     ]
    },
    {
     "data": {
      "application/vnd.jupyter.widget-view+json": {
       "model_id": "91d2ebda54ba4b3d8df45a0cbe65e9b8",
       "version_major": 2,
       "version_minor": 0
      },
      "text/plain": [
       "  DBs for Q:spider_dev_q754_idx7:   0%|          | 0/166 [00:00<?, ?it/s]"
      ]
     },
     "metadata": {},
     "output_type": "display_data"
    },
    {
     "name": "stdout",
     "output_type": "stream",
     "text": [
      "\n",
      "Processing Query 756/1034 (ID: spider_dev_q755_idx755): 'What are the names of people who do not play poker?' (True DB: poker_player)\n"
     ]
    },
    {
     "data": {
      "application/vnd.jupyter.widget-view+json": {
       "model_id": "f0236009d2174ab8bb57be80fd848764",
       "version_major": 2,
       "version_minor": 0
      },
      "text/plain": [
       "  DBs for Q:spider_dev_q755_idx7:   0%|          | 0/166 [00:00<?, ?it/s]"
      ]
     },
     "metadata": {},
     "output_type": "display_data"
    },
    {
     "name": "stdout",
     "output_type": "stream",
     "text": [
      "\n",
      "Processing Query 757/1034 (ID: spider_dev_q756_idx756): 'What is the average and maximum capacities for all stadiums ?' (True DB: concert_singer)\n"
     ]
    },
    {
     "data": {
      "application/vnd.jupyter.widget-view+json": {
       "model_id": "3126aeb72ef44264af57b3c7829aaf18",
       "version_major": 2,
       "version_minor": 0
      },
      "text/plain": [
       "  DBs for Q:spider_dev_q756_idx7:   0%|          | 0/166 [00:00<?, ?it/s]"
      ]
     },
     "metadata": {},
     "output_type": "display_data"
    },
    {
     "name": "stdout",
     "output_type": "stream",
     "text": [
      "\n",
      "Processing Query 758/1034 (ID: spider_dev_q757_idx757): 'List the first and last name of all players in the order of birth date.' (True DB: wta_1)\n"
     ]
    },
    {
     "data": {
      "application/vnd.jupyter.widget-view+json": {
       "model_id": "0646980e55544f86a5c4f8b8b5076eb5",
       "version_major": 2,
       "version_minor": 0
      },
      "text/plain": [
       "  DBs for Q:spider_dev_q757_idx7:   0%|          | 0/166 [00:00<?, ?it/s]"
      ]
     },
     "metadata": {},
     "output_type": "display_data"
    },
    {
     "name": "stdout",
     "output_type": "stream",
     "text": [
      "\n",
      "Processing Query 759/1034 (ID: spider_dev_q758_idx758): 'For each stadium, how many concerts play there?' (True DB: concert_singer)\n"
     ]
    },
    {
     "data": {
      "application/vnd.jupyter.widget-view+json": {
       "model_id": "32b8b90ac2074ef1875549017f80edb6",
       "version_major": 2,
       "version_minor": 0
      },
      "text/plain": [
       "  DBs for Q:spider_dev_q758_idx7:   0%|          | 0/166 [00:00<?, ?it/s]"
      ]
     },
     "metadata": {},
     "output_type": "display_data"
    },
    {
     "name": "stdout",
     "output_type": "stream",
     "text": [
      "\n",
      "Processing Query 760/1034 (ID: spider_dev_q759_idx759): 'Show names of teachers and the courses they are arranged to teach in ascending alphabetical order of the teacher's name.' (True DB: course_teach)\n"
     ]
    },
    {
     "data": {
      "application/vnd.jupyter.widget-view+json": {
       "model_id": "85158a83f06c49a1b52a68362ecd002e",
       "version_major": 2,
       "version_minor": 0
      },
      "text/plain": [
       "  DBs for Q:spider_dev_q759_idx7:   0%|          | 0/166 [00:00<?, ?it/s]"
      ]
     },
     "metadata": {},
     "output_type": "display_data"
    },
    {
     "name": "stdout",
     "output_type": "stream",
     "text": [
      "\n",
      "Processing Query 761/1034 (ID: spider_dev_q760_idx760): 'Show the stadium name and capacity with most number of concerts in year 2014 or after.' (True DB: concert_singer)\n"
     ]
    },
    {
     "data": {
      "application/vnd.jupyter.widget-view+json": {
       "model_id": "32aec77fde9b4857a6b81f6d571bbb84",
       "version_major": 2,
       "version_minor": 0
      },
      "text/plain": [
       "  DBs for Q:spider_dev_q760_idx7:   0%|          | 0/166 [00:00<?, ?it/s]"
      ]
     },
     "metadata": {},
     "output_type": "display_data"
    },
    {
     "name": "stdout",
     "output_type": "stream",
     "text": [
      "\n",
      "Processing Query 762/1034 (ID: spider_dev_q761_idx761): 'What is the name of the course with the most students enrolled?' (True DB: student_transcripts_tracking)\n"
     ]
    },
    {
     "data": {
      "application/vnd.jupyter.widget-view+json": {
       "model_id": "cac9595781ea4fa39f98e1bb5c4eb5c7",
       "version_major": 2,
       "version_minor": 0
      },
      "text/plain": [
       "  DBs for Q:spider_dev_q761_idx7:   0%|          | 0/166 [00:00<?, ?it/s]"
      ]
     },
     "metadata": {},
     "output_type": "display_data"
    },
    {
     "name": "stdout",
     "output_type": "stream",
     "text": [
      "\n",
      "Processing Query 763/1034 (ID: spider_dev_q762_idx762): 'Return the codes of countries that do not speak English and do not have Republics for governments.' (True DB: world_1)\n"
     ]
    },
    {
     "data": {
      "application/vnd.jupyter.widget-view+json": {
       "model_id": "95ed68ffde0447328f96a5b3df6ff4c7",
       "version_major": 2,
       "version_minor": 0
      },
      "text/plain": [
       "  DBs for Q:spider_dev_q762_idx7:   0%|          | 0/166 [00:00<?, ?it/s]"
      ]
     },
     "metadata": {},
     "output_type": "display_data"
    },
    {
     "name": "stdout",
     "output_type": "stream",
     "text": [
      "\n",
      "Processing Query 764/1034 (ID: spider_dev_q763_idx763): 'Return the name of the airport with code 'AKO'.' (True DB: flight_2)\n"
     ]
    },
    {
     "data": {
      "application/vnd.jupyter.widget-view+json": {
       "model_id": "86b126a637d34eb191744c35dd9f6eb2",
       "version_major": 2,
       "version_minor": 0
      },
      "text/plain": [
       "  DBs for Q:spider_dev_q763_idx7:   0%|          | 0/166 [00:00<?, ?it/s]"
      ]
     },
     "metadata": {},
     "output_type": "display_data"
    },
    {
     "name": "stdout",
     "output_type": "stream",
     "text": [
      "\n",
      "Processing Query 765/1034 (ID: spider_dev_q764_idx764): 'What are the notes of the death events which has substring 'East'?' (True DB: battle_death)\n"
     ]
    },
    {
     "data": {
      "application/vnd.jupyter.widget-view+json": {
       "model_id": "4201ee8309d94c39ad32859f97c545f2",
       "version_major": 2,
       "version_minor": 0
      },
      "text/plain": [
       "  DBs for Q:spider_dev_q764_idx7:   0%|          | 0/166 [00:00<?, ?it/s]"
      ]
     },
     "metadata": {},
     "output_type": "display_data"
    },
    {
     "name": "stdout",
     "output_type": "stream",
     "text": [
      "\n",
      "Processing Query 766/1034 (ID: spider_dev_q765_idx765): 'What are the different first names and ages of the students who do have pets?' (True DB: pets_1)\n"
     ]
    },
    {
     "data": {
      "application/vnd.jupyter.widget-view+json": {
       "model_id": "c7b01e7c86c94179a7e32ff10b54dc2c",
       "version_major": 2,
       "version_minor": 0
      },
      "text/plain": [
       "  DBs for Q:spider_dev_q765_idx7:   0%|          | 0/166 [00:00<?, ?it/s]"
      ]
     },
     "metadata": {},
     "output_type": "display_data"
    },
    {
     "name": "stdout",
     "output_type": "stream",
     "text": [
      "\n",
      "Processing Query 767/1034 (ID: spider_dev_q766_idx766): 'What is the mobile phone number of the student named Timmothy Ward ?' (True DB: student_transcripts_tracking)\n"
     ]
    },
    {
     "data": {
      "application/vnd.jupyter.widget-view+json": {
       "model_id": "2bbd9f1ba93445538a3c39e3687bf668",
       "version_major": 2,
       "version_minor": 0
      },
      "text/plain": [
       "  DBs for Q:spider_dev_q766_idx7:   0%|          | 0/166 [00:00<?, ?it/s]"
      ]
     },
     "metadata": {},
     "output_type": "display_data"
    },
    {
     "name": "stdout",
     "output_type": "stream",
     "text": [
      "\n",
      "Processing Query 768/1034 (ID: spider_dev_q767_idx767): 'What are the countries where either English or Dutch is the official language ?' (True DB: world_1)\n"
     ]
    },
    {
     "data": {
      "application/vnd.jupyter.widget-view+json": {
       "model_id": "8ae120b7792e4062bae3c6c050dbbbb8",
       "version_major": 2,
       "version_minor": 0
      },
      "text/plain": [
       "  DBs for Q:spider_dev_q767_idx7:   0%|          | 0/166 [00:00<?, ?it/s]"
      ]
     },
     "metadata": {},
     "output_type": "display_data"
    },
    {
     "name": "stdout",
     "output_type": "stream",
     "text": [
      "\n",
      "Processing Query 769/1034 (ID: spider_dev_q768_idx768): 'Which owners live in the state whose name contains the substring 'North'? List his first name, last name and email.' (True DB: dog_kennels)\n"
     ]
    },
    {
     "data": {
      "application/vnd.jupyter.widget-view+json": {
       "model_id": "1dafc00dee4740c4a7e29718df31c1ab",
       "version_major": 2,
       "version_minor": 0
      },
      "text/plain": [
       "  DBs for Q:spider_dev_q768_idx7:   0%|          | 0/166 [00:00<?, ?it/s]"
      ]
     },
     "metadata": {},
     "output_type": "display_data"
    },
    {
     "name": "stdout",
     "output_type": "stream",
     "text": [
      "\n",
      "Processing Query 770/1034 (ID: spider_dev_q769_idx769): 'What is the name and capacity for the stadium with highest average attendance?' (True DB: concert_singer)\n"
     ]
    },
    {
     "data": {
      "application/vnd.jupyter.widget-view+json": {
       "model_id": "21eeb725c68d40859cc326fdd744cc85",
       "version_major": 2,
       "version_minor": 0
      },
      "text/plain": [
       "  DBs for Q:spider_dev_q769_idx7:   0%|          | 0/166 [00:00<?, ?it/s]"
      ]
     },
     "metadata": {},
     "output_type": "display_data"
    },
    {
     "name": "stdout",
     "output_type": "stream",
     "text": [
      "\n",
      "Processing Query 771/1034 (ID: spider_dev_q770_idx770): 'Find the semester when both Master students and Bachelor students got enrolled in.' (True DB: student_transcripts_tracking)\n"
     ]
    },
    {
     "data": {
      "application/vnd.jupyter.widget-view+json": {
       "model_id": "2c0a4849c6a04b689162a669592b4bb7",
       "version_major": 2,
       "version_minor": 0
      },
      "text/plain": [
       "  DBs for Q:spider_dev_q770_idx7:   0%|          | 0/166 [00:00<?, ?it/s]"
      ]
     },
     "metadata": {},
     "output_type": "display_data"
    },
    {
     "name": "stdout",
     "output_type": "stream",
     "text": [
      "\n",
      "Processing Query 772/1034 (ID: spider_dev_q771_idx771): 'What are the number of concerts that occurred in the stadium with the largest capacity ?' (True DB: concert_singer)\n"
     ]
    },
    {
     "data": {
      "application/vnd.jupyter.widget-view+json": {
       "model_id": "1e1e6d9e32b145f9b46ff8825cc675f7",
       "version_major": 2,
       "version_minor": 0
      },
      "text/plain": [
       "  DBs for Q:spider_dev_q771_idx7:   0%|          | 0/166 [00:00<?, ?it/s]"
      ]
     },
     "metadata": {},
     "output_type": "display_data"
    },
    {
     "name": "stdout",
     "output_type": "stream",
     "text": [
      "\n",
      "Processing Query 773/1034 (ID: spider_dev_q772_idx772): 'How many different addresses do the students currently live?' (True DB: student_transcripts_tracking)\n"
     ]
    },
    {
     "data": {
      "application/vnd.jupyter.widget-view+json": {
       "model_id": "b068bae1af1040459f6088776471afee",
       "version_major": 2,
       "version_minor": 0
      },
      "text/plain": [
       "  DBs for Q:spider_dev_q772_idx7:   0%|          | 0/166 [00:00<?, ?it/s]"
      ]
     },
     "metadata": {},
     "output_type": "display_data"
    },
    {
     "name": "stdout",
     "output_type": "stream",
     "text": [
      "\n",
      "Processing Query 774/1034 (ID: spider_dev_q773_idx773): 'Which department offers the most number of degrees? List department name and id.' (True DB: student_transcripts_tracking)\n"
     ]
    },
    {
     "data": {
      "application/vnd.jupyter.widget-view+json": {
       "model_id": "3a39c6276d524495a46248cb22e6c27d",
       "version_major": 2,
       "version_minor": 0
      },
      "text/plain": [
       "  DBs for Q:spider_dev_q773_idx7:   0%|          | 0/166 [00:00<?, ?it/s]"
      ]
     },
     "metadata": {},
     "output_type": "display_data"
    },
    {
     "name": "stdout",
     "output_type": "stream",
     "text": [
      "\n",
      "Processing Query 775/1034 (ID: spider_dev_q774_idx774): 'What are the ids of the TV channels that do not have any cartoons directed by Ben Jones?' (True DB: tvshow)\n"
     ]
    },
    {
     "data": {
      "application/vnd.jupyter.widget-view+json": {
       "model_id": "82419cc95990461f936ec030da9ca1af",
       "version_major": 2,
       "version_minor": 0
      },
      "text/plain": [
       "  DBs for Q:spider_dev_q774_idx7:   0%|          | 0/166 [00:00<?, ?it/s]"
      ]
     },
     "metadata": {},
     "output_type": "display_data"
    },
    {
     "name": "stdout",
     "output_type": "stream",
     "text": [
      "\n",
      "Processing Query 776/1034 (ID: spider_dev_q775_idx775): 'What is the name of each continent and how many car makers are there in each one?' (True DB: car_1)\n"
     ]
    },
    {
     "data": {
      "application/vnd.jupyter.widget-view+json": {
       "model_id": "635c3cb9d5ae4ed19bd77546aa1608fc",
       "version_major": 2,
       "version_minor": 0
      },
      "text/plain": [
       "  DBs for Q:spider_dev_q775_idx7:   0%|          | 0/166 [00:00<?, ?it/s]"
      ]
     },
     "metadata": {},
     "output_type": "display_data"
    },
    {
     "name": "stdout",
     "output_type": "stream",
     "text": [
      "\n",
      "Processing Query 777/1034 (ID: spider_dev_q776_idx776): 'Show the names of students who have at least 2 likes.' (True DB: network_1)\n"
     ]
    },
    {
     "data": {
      "application/vnd.jupyter.widget-view+json": {
       "model_id": "bef361f54de347e4a17c8739a16fd536",
       "version_major": 2,
       "version_minor": 0
      },
      "text/plain": [
       "  DBs for Q:spider_dev_q776_idx7:   0%|          | 0/166 [00:00<?, ?it/s]"
      ]
     },
     "metadata": {},
     "output_type": "display_data"
    },
    {
     "name": "stdout",
     "output_type": "stream",
     "text": [
      "\n",
      "Processing Query 778/1034 (ID: spider_dev_q777_idx777): 'Which of the countries has the most car makers? List the country name.' (True DB: car_1)\n"
     ]
    },
    {
     "data": {
      "application/vnd.jupyter.widget-view+json": {
       "model_id": "21a1c4c6ad924d7698f2b5b623b71c53",
       "version_major": 2,
       "version_minor": 0
      },
      "text/plain": [
       "  DBs for Q:spider_dev_q777_idx7:   0%|          | 0/166 [00:00<?, ?it/s]"
      ]
     },
     "metadata": {},
     "output_type": "display_data"
    },
    {
     "name": "stdout",
     "output_type": "stream",
     "text": [
      "\n",
      "Processing Query 779/1034 (ID: spider_dev_q778_idx778): 'What is the first name of every student who has a dog but does not have a cat?' (True DB: pets_1)\n"
     ]
    },
    {
     "data": {
      "application/vnd.jupyter.widget-view+json": {
       "model_id": "866dafeb9f954a43b9cdd079852272ab",
       "version_major": 2,
       "version_minor": 0
      },
      "text/plain": [
       "  DBs for Q:spider_dev_q778_idx7:   0%|          | 0/166 [00:00<?, ?it/s]"
      ]
     },
     "metadata": {},
     "output_type": "display_data"
    },
    {
     "name": "stdout",
     "output_type": "stream",
     "text": [
      "\n",
      "Processing Query 780/1034 (ID: spider_dev_q779_idx779): 'Which models are lighter than 3500 but not built by the 'Ford Motor Company'?' (True DB: car_1)\n"
     ]
    },
    {
     "data": {
      "application/vnd.jupyter.widget-view+json": {
       "model_id": "21912178cd3d4684b253a4f52a694054",
       "version_major": 2,
       "version_minor": 0
      },
      "text/plain": [
       "  DBs for Q:spider_dev_q779_idx7:   0%|          | 0/166 [00:00<?, ?it/s]"
      ]
     },
     "metadata": {},
     "output_type": "display_data"
    },
    {
     "name": "stdout",
     "output_type": "stream",
     "text": [
      "\n",
      "Processing Query 781/1034 (ID: spider_dev_q780_idx780): 'Give the code of the airport with the least flights.' (True DB: flight_2)\n"
     ]
    },
    {
     "data": {
      "application/vnd.jupyter.widget-view+json": {
       "model_id": "721a025257534beeb951cb059cd1af93",
       "version_major": 2,
       "version_minor": 0
      },
      "text/plain": [
       "  DBs for Q:spider_dev_q780_idx7:   0%|          | 0/166 [00:00<?, ?it/s]"
      ]
     },
     "metadata": {},
     "output_type": "display_data"
    },
    {
     "name": "stdout",
     "output_type": "stream",
     "text": [
      "\n",
      "Processing Query 782/1034 (ID: spider_dev_q781_idx781): 'Return the names of poker players sorted by their earnings descending.' (True DB: poker_player)\n"
     ]
    },
    {
     "data": {
      "application/vnd.jupyter.widget-view+json": {
       "model_id": "2f686a47baf141a4bf52183056263564",
       "version_major": 2,
       "version_minor": 0
      },
      "text/plain": [
       "  DBs for Q:spider_dev_q781_idx7:   0%|          | 0/166 [00:00<?, ?it/s]"
      ]
     },
     "metadata": {},
     "output_type": "display_data"
    },
    {
     "name": "stdout",
     "output_type": "stream",
     "text": [
      "\n",
      "Processing Query 783/1034 (ID: spider_dev_q782_idx782): 'Return the id of the document with the fewest paragraphs.' (True DB: cre_Doc_Template_Mgt)\n"
     ]
    },
    {
     "data": {
      "application/vnd.jupyter.widget-view+json": {
       "model_id": "e743dcd425b14d6c9f5ea39a11ff5b37",
       "version_major": 2,
       "version_minor": 0
      },
      "text/plain": [
       "  DBs for Q:spider_dev_q782_idx7:   0%|          | 0/166 [00:00<?, ?it/s]"
      ]
     },
     "metadata": {},
     "output_type": "display_data"
    },
    {
     "name": "stdout",
     "output_type": "stream",
     "text": [
      "\n",
      "Processing Query 784/1034 (ID: spider_dev_q783_idx783): 'What are the names of the countries that are in the continent of Europe and have a population of 80000?' (True DB: world_1)\n"
     ]
    },
    {
     "data": {
      "application/vnd.jupyter.widget-view+json": {
       "model_id": "b8f096cf406841da94ca8309b65bb598",
       "version_major": 2,
       "version_minor": 0
      },
      "text/plain": [
       "  DBs for Q:spider_dev_q783_idx7:   0%|          | 0/166 [00:00<?, ?it/s]"
      ]
     },
     "metadata": {},
     "output_type": "display_data"
    },
    {
     "name": "stdout",
     "output_type": "stream",
     "text": [
      "\n",
      "Processing Query 785/1034 (ID: spider_dev_q784_idx784): 'Which language is the most popular in Aruba?' (True DB: world_1)\n"
     ]
    },
    {
     "data": {
      "application/vnd.jupyter.widget-view+json": {
       "model_id": "5165d26a2a1b4b719b6beae36905562a",
       "version_major": 2,
       "version_minor": 0
      },
      "text/plain": [
       "  DBs for Q:spider_dev_q784_idx7:   0%|          | 0/166 [00:00<?, ?it/s]"
      ]
     },
     "metadata": {},
     "output_type": "display_data"
    },
    {
     "name": "stdout",
     "output_type": "stream",
     "text": [
      "\n",
      "Processing Query 786/1034 (ID: spider_dev_q785_idx785): 'What is the id of the semester that had both Masters and Bachelors students enrolled?' (True DB: student_transcripts_tracking)\n"
     ]
    },
    {
     "data": {
      "application/vnd.jupyter.widget-view+json": {
       "model_id": "cb418d4284cb47dab65d85fc517d086f",
       "version_major": 2,
       "version_minor": 0
      },
      "text/plain": [
       "  DBs for Q:spider_dev_q785_idx7:   0%|          | 0/166 [00:00<?, ?it/s]"
      ]
     },
     "metadata": {},
     "output_type": "display_data"
    },
    {
     "name": "stdout",
     "output_type": "stream",
     "text": [
      "\n",
      "Processing Query 787/1034 (ID: spider_dev_q786_idx786): 'How many concerts occurred in 2014 or 2015?' (True DB: concert_singer)\n"
     ]
    },
    {
     "data": {
      "application/vnd.jupyter.widget-view+json": {
       "model_id": "6acf7324f28c48cda807a0ca281a847c",
       "version_major": 2,
       "version_minor": 0
      },
      "text/plain": [
       "  DBs for Q:spider_dev_q786_idx7:   0%|          | 0/166 [00:00<?, ?it/s]"
      ]
     },
     "metadata": {},
     "output_type": "display_data"
    },
    {
     "name": "stdout",
     "output_type": "stream",
     "text": [
      "\n",
      "Processing Query 788/1034 (ID: spider_dev_q787_idx787): 'What country is Jetblue Airways affiliated with?' (True DB: flight_2)\n"
     ]
    },
    {
     "data": {
      "application/vnd.jupyter.widget-view+json": {
       "model_id": "58e7905f017949cb8549f5b15c9cc929",
       "version_major": 2,
       "version_minor": 0
      },
      "text/plain": [
       "  DBs for Q:spider_dev_q787_idx7:   0%|          | 0/166 [00:00<?, ?it/s]"
      ]
     },
     "metadata": {},
     "output_type": "display_data"
    },
    {
     "name": "stdout",
     "output_type": "stream",
     "text": [
      "\n",
      "Processing Query 789/1034 (ID: spider_dev_q788_idx788): 'What is the Package Option of TV Channel with serial name \"Sky Radio\"?' (True DB: tvshow)\n"
     ]
    },
    {
     "data": {
      "application/vnd.jupyter.widget-view+json": {
       "model_id": "2504e8628d954d449f6acc12cc88d375",
       "version_major": 2,
       "version_minor": 0
      },
      "text/plain": [
       "  DBs for Q:spider_dev_q788_idx7:   0%|          | 0/166 [00:00<?, ?it/s]"
      ]
     },
     "metadata": {},
     "output_type": "display_data"
    },
    {
     "name": "stdout",
     "output_type": "stream",
     "text": [
      "\n",
      "Processing Query 790/1034 (ID: spider_dev_q789_idx789): 'What are the countries that have cartoons on TV that were written by Todd Casey?' (True DB: tvshow)\n"
     ]
    },
    {
     "data": {
      "application/vnd.jupyter.widget-view+json": {
       "model_id": "685db9640e4f4d9a8172d4808c2b9b78",
       "version_major": 2,
       "version_minor": 0
      },
      "text/plain": [
       "  DBs for Q:spider_dev_q789_idx7:   0%|          | 0/166 [00:00<?, ?it/s]"
      ]
     },
     "metadata": {},
     "output_type": "display_data"
    },
    {
     "name": "stdout",
     "output_type": "stream",
     "text": [
      "\n",
      "Processing Query 791/1034 (ID: spider_dev_q790_idx790): 'List the language used least number of TV Channel. List language and number of TV Channel.' (True DB: tvshow)\n"
     ]
    },
    {
     "data": {
      "application/vnd.jupyter.widget-view+json": {
       "model_id": "3fde69e76553402e81e9a6b03bf959cc",
       "version_major": 2,
       "version_minor": 0
      },
      "text/plain": [
       "  DBs for Q:spider_dev_q790_idx7:   0%|          | 0/166 [00:00<?, ?it/s]"
      ]
     },
     "metadata": {},
     "output_type": "display_data"
    },
    {
     "name": "stdout",
     "output_type": "stream",
     "text": [
      "\n",
      "Processing Query 792/1034 (ID: spider_dev_q791_idx791): 'What are the names of the teachers whose courses have not been arranged?' (True DB: course_teach)\n"
     ]
    },
    {
     "data": {
      "application/vnd.jupyter.widget-view+json": {
       "model_id": "9959e453ccac4625aff5a91402331e5b",
       "version_major": 2,
       "version_minor": 0
      },
      "text/plain": [
       "  DBs for Q:spider_dev_q791_idx7:   0%|          | 0/166 [00:00<?, ?it/s]"
      ]
     },
     "metadata": {},
     "output_type": "display_data"
    },
    {
     "name": "stdout",
     "output_type": "stream",
     "text": [
      "\n",
      "Processing Query 793/1034 (ID: spider_dev_q792_idx792): 'Return the number of likes that the high schooler named Kyle has.' (True DB: network_1)\n"
     ]
    },
    {
     "data": {
      "application/vnd.jupyter.widget-view+json": {
       "model_id": "313ab910efa148c7a07373049c07d53a",
       "version_major": 2,
       "version_minor": 0
      },
      "text/plain": [
       "  DBs for Q:spider_dev_q792_idx7:   0%|          | 0/166 [00:00<?, ?it/s]"
      ]
     },
     "metadata": {},
     "output_type": "display_data"
    },
    {
     "name": "stdout",
     "output_type": "stream",
     "text": [
      "\n",
      "Processing Query 794/1034 (ID: spider_dev_q793_idx793): 'List the airport code and name in the city of Anthony.' (True DB: flight_2)\n"
     ]
    },
    {
     "data": {
      "application/vnd.jupyter.widget-view+json": {
       "model_id": "48677aee44144645a87135236fa47691",
       "version_major": 2,
       "version_minor": 0
      },
      "text/plain": [
       "  DBs for Q:spider_dev_q793_idx7:   0%|          | 0/166 [00:00<?, ?it/s]"
      ]
     },
     "metadata": {},
     "output_type": "display_data"
    },
    {
     "name": "stdout",
     "output_type": "stream",
     "text": [
      "\n",
      "Processing Query 795/1034 (ID: spider_dev_q794_idx794): 'Find the name of tourney that has more than 10 matches.' (True DB: wta_1)\n"
     ]
    },
    {
     "data": {
      "application/vnd.jupyter.widget-view+json": {
       "model_id": "e529b311002441b68c2b541f17fcc169",
       "version_major": 2,
       "version_minor": 0
      },
      "text/plain": [
       "  DBs for Q:spider_dev_q794_idx7:   0%|          | 0/166 [00:00<?, ?it/s]"
      ]
     },
     "metadata": {},
     "output_type": "display_data"
    },
    {
     "name": "stdout",
     "output_type": "stream",
     "text": [
      "\n",
      "Processing Query 796/1034 (ID: spider_dev_q795_idx795): 'What region does Angola belong to and what is its population?' (True DB: world_1)\n"
     ]
    },
    {
     "data": {
      "application/vnd.jupyter.widget-view+json": {
       "model_id": "4b01fc9c04d24cf28b6aa1cd0505094d",
       "version_major": 2,
       "version_minor": 0
      },
      "text/plain": [
       "  DBs for Q:spider_dev_q795_idx7:   0%|          | 0/166 [00:00<?, ?it/s]"
      ]
     },
     "metadata": {},
     "output_type": "display_data"
    },
    {
     "name": "stdout",
     "output_type": "stream",
     "text": [
      "\n",
      "Processing Query 797/1034 (ID: spider_dev_q796_idx796): 'What are the id, name and membership level of visitors who have spent the largest amount of money in total in all museum tickets?' (True DB: museum_visit)\n"
     ]
    },
    {
     "data": {
      "application/vnd.jupyter.widget-view+json": {
       "model_id": "b6b19034c9d347dfaa4016a20f298b5d",
       "version_major": 2,
       "version_minor": 0
      },
      "text/plain": [
       "  DBs for Q:spider_dev_q796_idx7:   0%|          | 0/166 [00:00<?, ?it/s]"
      ]
     },
     "metadata": {},
     "output_type": "display_data"
    },
    {
     "name": "stdout",
     "output_type": "stream",
     "text": [
      "\n",
      "Processing Query 798/1034 (ID: spider_dev_q797_idx797): 'Find the government form name and total population for each government form whose average life expectancy is longer than 72.' (True DB: world_1)\n"
     ]
    },
    {
     "data": {
      "application/vnd.jupyter.widget-view+json": {
       "model_id": "404c6fb1c2194a5daeeed080505c4b84",
       "version_major": 2,
       "version_minor": 0
      },
      "text/plain": [
       "  DBs for Q:spider_dev_q797_idx7:   0%|          | 0/166 [00:00<?, ?it/s]"
      ]
     },
     "metadata": {},
     "output_type": "display_data"
    },
    {
     "name": "stdout",
     "output_type": "stream",
     "text": [
      "\n",
      "Processing Query 799/1034 (ID: spider_dev_q798_idx798): 'Return the names of friends of the high school student Kyle.' (True DB: network_1)\n"
     ]
    },
    {
     "data": {
      "application/vnd.jupyter.widget-view+json": {
       "model_id": "ea90fe2a1f364fb6bbca36475e1707cd",
       "version_major": 2,
       "version_minor": 0
      },
      "text/plain": [
       "  DBs for Q:spider_dev_q798_idx7:   0%|          | 0/166 [00:00<?, ?it/s]"
      ]
     },
     "metadata": {},
     "output_type": "display_data"
    },
    {
     "name": "stdout",
     "output_type": "stream",
     "text": [
      "\n",
      "Processing Query 800/1034 (ID: spider_dev_q799_idx799): 'Which countries in europe have at least 3 car manufacturers?' (True DB: car_1)\n"
     ]
    },
    {
     "data": {
      "application/vnd.jupyter.widget-view+json": {
       "model_id": "fb9f9cc1ded945ee8e9ced7656821a00",
       "version_major": 2,
       "version_minor": 0
      },
      "text/plain": [
       "  DBs for Q:spider_dev_q799_idx7:   0%|          | 0/166 [00:00<?, ?it/s]"
      ]
     },
     "metadata": {},
     "output_type": "display_data"
    },
    {
     "name": "stdout",
     "output_type": "stream",
     "text": [
      "\n",
      "Processing Query 801/1034 (ID: spider_dev_q800_idx800): 'What are the ids, version numbers, and type codes for each template?' (True DB: cre_Doc_Template_Mgt)\n"
     ]
    },
    {
     "data": {
      "application/vnd.jupyter.widget-view+json": {
       "model_id": "347baa8fee6842a8b4751a549c585aca",
       "version_major": 2,
       "version_minor": 0
      },
      "text/plain": [
       "  DBs for Q:spider_dev_q800_idx8:   0%|          | 0/166 [00:00<?, ?it/s]"
      ]
     },
     "metadata": {},
     "output_type": "display_data"
    },
    {
     "name": "stdout",
     "output_type": "stream",
     "text": [
      "\n",
      "Processing Query 802/1034 (ID: spider_dev_q801_idx801): 'What are the names of the contestants whose names are not 'Jessie Alloway'' (True DB: voter_1)\n"
     ]
    },
    {
     "data": {
      "application/vnd.jupyter.widget-view+json": {
       "model_id": "05143ad3f9bb42438200bc05518088f0",
       "version_major": 2,
       "version_minor": 0
      },
      "text/plain": [
       "  DBs for Q:spider_dev_q801_idx8:   0%|          | 0/166 [00:00<?, ?it/s]"
      ]
     },
     "metadata": {},
     "output_type": "display_data"
    },
    {
     "name": "stdout",
     "output_type": "stream",
     "text": [
      "\n",
      "Processing Query 803/1034 (ID: spider_dev_q802_idx802): 'What are the names of high schoolers who both have friends and are liked?' (True DB: network_1)\n"
     ]
    },
    {
     "data": {
      "application/vnd.jupyter.widget-view+json": {
       "model_id": "4b33845a11bf40b6b9d9b7e7987ecc95",
       "version_major": 2,
       "version_minor": 0
      },
      "text/plain": [
       "  DBs for Q:spider_dev_q802_idx8:   0%|          | 0/166 [00:00<?, ?it/s]"
      ]
     },
     "metadata": {},
     "output_type": "display_data"
    },
    {
     "name": "stdout",
     "output_type": "stream",
     "text": [
      "\n",
      "Processing Query 804/1034 (ID: spider_dev_q803_idx803): 'What is the airport name for airport 'AKO'?' (True DB: flight_2)\n"
     ]
    },
    {
     "data": {
      "application/vnd.jupyter.widget-view+json": {
       "model_id": "2b07a4eec6054cbf81716ba89f223c13",
       "version_major": 2,
       "version_minor": 0
      },
      "text/plain": [
       "  DBs for Q:spider_dev_q803_idx8:   0%|          | 0/166 [00:00<?, ?it/s]"
      ]
     },
     "metadata": {},
     "output_type": "display_data"
    },
    {
     "name": "stdout",
     "output_type": "stream",
     "text": [
      "\n",
      "Processing Query 805/1034 (ID: spider_dev_q804_idx804): 'Find the name of the winner who has the highest rank points and participated in the Australian Open tourney.' (True DB: wta_1)\n"
     ]
    },
    {
     "data": {
      "application/vnd.jupyter.widget-view+json": {
       "model_id": "fcb3105519fd428392bcd4431f3f2680",
       "version_major": 2,
       "version_minor": 0
      },
      "text/plain": [
       "  DBs for Q:spider_dev_q804_idx8:   0%|          | 0/166 [00:00<?, ?it/s]"
      ]
     },
     "metadata": {},
     "output_type": "display_data"
    },
    {
     "name": "stdout",
     "output_type": "stream",
     "text": [
      "\n",
      "Processing Query 806/1034 (ID: spider_dev_q805_idx805): 'Which countries have either English or Dutch as an official language?' (True DB: world_1)\n"
     ]
    },
    {
     "data": {
      "application/vnd.jupyter.widget-view+json": {
       "model_id": "418cbd2dd411458584140bd267566cf7",
       "version_major": 2,
       "version_minor": 0
      },
      "text/plain": [
       "  DBs for Q:spider_dev_q805_idx8:   0%|          | 0/166 [00:00<?, ?it/s]"
      ]
     },
     "metadata": {},
     "output_type": "display_data"
    },
    {
     "name": "stdout",
     "output_type": "stream",
     "text": [
      "\n",
      "Processing Query 807/1034 (ID: spider_dev_q806_idx806): 'How many car models are produced in the usa?' (True DB: car_1)\n"
     ]
    },
    {
     "data": {
      "application/vnd.jupyter.widget-view+json": {
       "model_id": "98dd3404a0bd4047a912172c409df193",
       "version_major": 2,
       "version_minor": 0
      },
      "text/plain": [
       "  DBs for Q:spider_dev_q806_idx8:   0%|          | 0/166 [00:00<?, ?it/s]"
      ]
     },
     "metadata": {},
     "output_type": "display_data"
    },
    {
     "name": "stdout",
     "output_type": "stream",
     "text": [
      "\n",
      "Processing Query 808/1034 (ID: spider_dev_q807_idx807): 'What is the average, minimum, and maximum age for all French singers?' (True DB: concert_singer)\n"
     ]
    },
    {
     "data": {
      "application/vnd.jupyter.widget-view+json": {
       "model_id": "b8e9f61657f449c7b0ec52c9ac61265e",
       "version_major": 2,
       "version_minor": 0
      },
      "text/plain": [
       "  DBs for Q:spider_dev_q807_idx8:   0%|          | 0/166 [00:00<?, ?it/s]"
      ]
     },
     "metadata": {},
     "output_type": "display_data"
    },
    {
     "name": "stdout",
     "output_type": "stream",
     "text": [
      "\n",
      "Processing Query 809/1034 (ID: spider_dev_q808_idx808): 'What are the Asian countries which have a population larger than that of any country in Africa?' (True DB: world_1)\n"
     ]
    },
    {
     "data": {
      "application/vnd.jupyter.widget-view+json": {
       "model_id": "4a5aed589cc349b5a86e1e6e28504521",
       "version_major": 2,
       "version_minor": 0
      },
      "text/plain": [
       "  DBs for Q:spider_dev_q808_idx8:   0%|          | 0/166 [00:00<?, ?it/s]"
      ]
     },
     "metadata": {},
     "output_type": "display_data"
    },
    {
     "name": "stdout",
     "output_type": "stream",
     "text": [
      "\n",
      "Processing Query 810/1034 (ID: spider_dev_q809_idx809): 'How many countries does each continent have? List the continent id, continent name and the number of countries.' (True DB: car_1)\n"
     ]
    },
    {
     "data": {
      "application/vnd.jupyter.widget-view+json": {
       "model_id": "836e2f3603ec490184747002fd61b472",
       "version_major": 2,
       "version_minor": 0
      },
      "text/plain": [
       "  DBs for Q:spider_dev_q809_idx8:   0%|          | 0/166 [00:00<?, ?it/s]"
      ]
     },
     "metadata": {},
     "output_type": "display_data"
    },
    {
     "name": "stdout",
     "output_type": "stream",
     "text": [
      "\n",
      "Processing Query 811/1034 (ID: spider_dev_q810_idx810): 'What are the codes of countries with more than 50 players?' (True DB: wta_1)\n"
     ]
    },
    {
     "data": {
      "application/vnd.jupyter.widget-view+json": {
       "model_id": "f3d1b486073e46c88ddbf058b8c0bccb",
       "version_major": 2,
       "version_minor": 0
      },
      "text/plain": [
       "  DBs for Q:spider_dev_q810_idx8:   0%|          | 0/166 [00:00<?, ?it/s]"
      ]
     },
     "metadata": {},
     "output_type": "display_data"
    },
    {
     "name": "stdout",
     "output_type": "stream",
     "text": [
      "\n",
      "Processing Query 812/1034 (ID: spider_dev_q811_idx811): 'What are the names of the singers who are not French citizens?' (True DB: singer)\n"
     ]
    },
    {
     "data": {
      "application/vnd.jupyter.widget-view+json": {
       "model_id": "f518c780fec1475b87e598d2756e85bc",
       "version_major": 2,
       "version_minor": 0
      },
      "text/plain": [
       "  DBs for Q:spider_dev_q811_idx8:   0%|          | 0/166 [00:00<?, ?it/s]"
      ]
     },
     "metadata": {},
     "output_type": "display_data"
    },
    {
     "name": "stdout",
     "output_type": "stream",
     "text": [
      "\n",
      "Processing Query 813/1034 (ID: spider_dev_q812_idx812): 'Which professionals have done at least two treatments? List the professional's id, role, and first name.' (True DB: dog_kennels)\n"
     ]
    },
    {
     "data": {
      "application/vnd.jupyter.widget-view+json": {
       "model_id": "04a42fa297c74959938f4a4b51afa8b4",
       "version_major": 2,
       "version_minor": 0
      },
      "text/plain": [
       "  DBs for Q:spider_dev_q812_idx8:   0%|          | 0/166 [00:00<?, ?it/s]"
      ]
     },
     "metadata": {},
     "output_type": "display_data"
    },
    {
     "name": "stdout",
     "output_type": "stream",
     "text": [
      "\n",
      "Processing Query 814/1034 (ID: spider_dev_q813_idx813): 'Show the record companies shared by orchestras founded before 2003 and after 2003.' (True DB: orchestra)\n"
     ]
    },
    {
     "data": {
      "application/vnd.jupyter.widget-view+json": {
       "model_id": "ad5e826e3e814cd69d2feb61b39a96f5",
       "version_major": 2,
       "version_minor": 0
      },
      "text/plain": [
       "  DBs for Q:spider_dev_q813_idx8:   0%|          | 0/166 [00:00<?, ?it/s]"
      ]
     },
     "metadata": {},
     "output_type": "display_data"
    },
    {
     "name": "stdout",
     "output_type": "stream",
     "text": [
      "\n",
      "Processing Query 815/1034 (ID: spider_dev_q814_idx814): 'Find the number of distinct type of pets.' (True DB: pets_1)\n"
     ]
    },
    {
     "data": {
      "application/vnd.jupyter.widget-view+json": {
       "model_id": "12381fea82714962b525ab81dc92937f",
       "version_major": 2,
       "version_minor": 0
      },
      "text/plain": [
       "  DBs for Q:spider_dev_q814_idx8:   0%|          | 0/166 [00:00<?, ?it/s]"
      ]
     },
     "metadata": {},
     "output_type": "display_data"
    },
    {
     "name": "stdout",
     "output_type": "stream",
     "text": [
      "\n",
      "Processing Query 816/1034 (ID: spider_dev_q815_idx815): 'Find the cities that have more than one employee under age 30.' (True DB: employee_hire_evaluation)\n"
     ]
    },
    {
     "data": {
      "application/vnd.jupyter.widget-view+json": {
       "model_id": "0d21c625831a4424b021093995e95c87",
       "version_major": 2,
       "version_minor": 0
      },
      "text/plain": [
       "  DBs for Q:spider_dev_q815_idx8:   0%|          | 0/166 [00:00<?, ?it/s]"
      ]
     },
     "metadata": {},
     "output_type": "display_data"
    },
    {
     "name": "stdout",
     "output_type": "stream",
     "text": [
      "\n",
      "Processing Query 817/1034 (ID: spider_dev_q816_idx816): 'What is the name of the high schooler who has the greatest number of likes?' (True DB: network_1)\n"
     ]
    },
    {
     "data": {
      "application/vnd.jupyter.widget-view+json": {
       "model_id": "1a309fbfe2214dd290b2361ce4b59ba1",
       "version_major": 2,
       "version_minor": 0
      },
      "text/plain": [
       "  DBs for Q:spider_dev_q816_idx8:   0%|          | 0/166 [00:00<?, ?it/s]"
      ]
     },
     "metadata": {},
     "output_type": "display_data"
    },
    {
     "name": "stdout",
     "output_type": "stream",
     "text": [
      "\n",
      "Processing Query 818/1034 (ID: spider_dev_q817_idx817): 'Show names of all high school students who do not have any friends.' (True DB: network_1)\n"
     ]
    },
    {
     "data": {
      "application/vnd.jupyter.widget-view+json": {
       "model_id": "6b0ce3946b224df58451f86e807b89dc",
       "version_major": 2,
       "version_minor": 0
      },
      "text/plain": [
       "  DBs for Q:spider_dev_q817_idx8:   0%|          | 0/166 [00:00<?, ?it/s]"
      ]
     },
     "metadata": {},
     "output_type": "display_data"
    },
    {
     "name": "stdout",
     "output_type": "stream",
     "text": [
      "\n",
      "Processing Query 819/1034 (ID: spider_dev_q818_idx818): 'What languages are only used by a single country with a republic government?' (True DB: world_1)\n"
     ]
    },
    {
     "data": {
      "application/vnd.jupyter.widget-view+json": {
       "model_id": "84b1d8f3c26140b7990f9c25013e69ec",
       "version_major": 2,
       "version_minor": 0
      },
      "text/plain": [
       "  DBs for Q:spider_dev_q818_idx8:   0%|          | 0/166 [00:00<?, ?it/s]"
      ]
     },
     "metadata": {},
     "output_type": "display_data"
    },
    {
     "name": "stdout",
     "output_type": "stream",
     "text": [
      "\n",
      "Processing Query 820/1034 (ID: spider_dev_q819_idx819): 'What is the average earnings of poker players with height higher than 200?' (True DB: poker_player)\n"
     ]
    },
    {
     "data": {
      "application/vnd.jupyter.widget-view+json": {
       "model_id": "bf63a65e1b9245188642bd9b82a448b8",
       "version_major": 2,
       "version_minor": 0
      },
      "text/plain": [
       "  DBs for Q:spider_dev_q819_idx8:   0%|          | 0/166 [00:00<?, ?it/s]"
      ]
     },
     "metadata": {},
     "output_type": "display_data"
    },
    {
     "name": "stdout",
     "output_type": "stream",
     "text": [
      "\n",
      "Processing Query 821/1034 (ID: spider_dev_q820_idx820): 'How much does the car accelerate that makes amc hornet sportabout (sw)?' (True DB: car_1)\n"
     ]
    },
    {
     "data": {
      "application/vnd.jupyter.widget-view+json": {
       "model_id": "93248a392bcc46d9859d31d850c19f58",
       "version_major": 2,
       "version_minor": 0
      },
      "text/plain": [
       "  DBs for Q:spider_dev_q820_idx8:   0%|          | 0/166 [00:00<?, ?it/s]"
      ]
     },
     "metadata": {},
     "output_type": "display_data"
    },
    {
     "name": "stdout",
     "output_type": "stream",
     "text": [
      "\n",
      "Processing Query 822/1034 (ID: spider_dev_q821_idx821): 'Show the date of the transcript which shows the least number of results, also list the id.' (True DB: student_transcripts_tracking)\n"
     ]
    },
    {
     "data": {
      "application/vnd.jupyter.widget-view+json": {
       "model_id": "cfc5b960c1a14e46b976b296e876a415",
       "version_major": 2,
       "version_minor": 0
      },
      "text/plain": [
       "  DBs for Q:spider_dev_q821_idx8:   0%|          | 0/166 [00:00<?, ?it/s]"
      ]
     },
     "metadata": {},
     "output_type": "display_data"
    },
    {
     "name": "stdout",
     "output_type": "stream",
     "text": [
      "\n",
      "Processing Query 823/1034 (ID: spider_dev_q822_idx822): 'How many documents are using the template with type code 'PPT'?' (True DB: cre_Doc_Template_Mgt)\n"
     ]
    },
    {
     "data": {
      "application/vnd.jupyter.widget-view+json": {
       "model_id": "95212f20f5934f56b2b2f97f1a600028",
       "version_major": 2,
       "version_minor": 0
      },
      "text/plain": [
       "  DBs for Q:spider_dev_q822_idx8:   0%|          | 0/166 [00:00<?, ?it/s]"
      ]
     },
     "metadata": {},
     "output_type": "display_data"
    },
    {
     "name": "stdout",
     "output_type": "stream",
     "text": [
      "\n",
      "Processing Query 824/1034 (ID: spider_dev_q823_idx823): 'Which model saves the most gasoline? That is to say, have the maximum miles per gallon.' (True DB: car_1)\n"
     ]
    },
    {
     "data": {
      "application/vnd.jupyter.widget-view+json": {
       "model_id": "00069658d05149489f6985408fc30022",
       "version_major": 2,
       "version_minor": 0
      },
      "text/plain": [
       "  DBs for Q:spider_dev_q823_idx8:   0%|          | 0/166 [00:00<?, ?it/s]"
      ]
     },
     "metadata": {},
     "output_type": "display_data"
    },
    {
     "name": "stdout",
     "output_type": "stream",
     "text": [
      "\n",
      "Processing Query 825/1034 (ID: spider_dev_q824_idx824): 'Find number of pets owned by students who are older than 20.' (True DB: pets_1)\n"
     ]
    },
    {
     "data": {
      "application/vnd.jupyter.widget-view+json": {
       "model_id": "a62f89c924824c73a87131e64d9930c3",
       "version_major": 2,
       "version_minor": 0
      },
      "text/plain": [
       "  DBs for Q:spider_dev_q824_idx8:   0%|          | 0/166 [00:00<?, ?it/s]"
      ]
     },
     "metadata": {},
     "output_type": "display_data"
    },
    {
     "name": "stdout",
     "output_type": "stream",
     "text": [
      "\n",
      "Processing Query 826/1034 (ID: spider_dev_q825_idx825): 'What are the students' first names who have both cats and dogs as pets?' (True DB: pets_1)\n"
     ]
    },
    {
     "data": {
      "application/vnd.jupyter.widget-view+json": {
       "model_id": "d1364af993fb40f8b0aad9d75b569a50",
       "version_major": 2,
       "version_minor": 0
      },
      "text/plain": [
       "  DBs for Q:spider_dev_q825_idx8:   0%|          | 0/166 [00:00<?, ?it/s]"
      ]
     },
     "metadata": {},
     "output_type": "display_data"
    },
    {
     "name": "stdout",
     "output_type": "stream",
     "text": [
      "\n",
      "Processing Query 827/1034 (ID: spider_dev_q826_idx826): 'Please show the different record companies and the corresponding number of orchestras.' (True DB: orchestra)\n"
     ]
    },
    {
     "data": {
      "application/vnd.jupyter.widget-view+json": {
       "model_id": "de88a81ada5e4662980559223283f025",
       "version_major": 2,
       "version_minor": 0
      },
      "text/plain": [
       "  DBs for Q:spider_dev_q826_idx8:   0%|          | 0/166 [00:00<?, ?it/s]"
      ]
     },
     "metadata": {},
     "output_type": "display_data"
    },
    {
     "name": "stdout",
     "output_type": "stream",
     "text": [
      "\n",
      "Processing Query 828/1034 (ID: spider_dev_q827_idx827): 'Count the number of paragraphs in the document named 'Summer Show'.' (True DB: cre_Doc_Template_Mgt)\n"
     ]
    },
    {
     "data": {
      "application/vnd.jupyter.widget-view+json": {
       "model_id": "250c1c1c988840b3a4f5f108214bc36c",
       "version_major": 2,
       "version_minor": 0
      },
      "text/plain": [
       "  DBs for Q:spider_dev_q827_idx8:   0%|          | 0/166 [00:00<?, ?it/s]"
      ]
     },
     "metadata": {},
     "output_type": "display_data"
    },
    {
     "name": "stdout",
     "output_type": "stream",
     "text": [
      "\n",
      "Processing Query 829/1034 (ID: spider_dev_q828_idx828): 'What are the distinct battle names which are between bulgarian commander 'Kaloyan' and latin commander 'Baldwin I'?' (True DB: battle_death)\n"
     ]
    },
    {
     "data": {
      "application/vnd.jupyter.widget-view+json": {
       "model_id": "edde7fb83795496b85262ff10cc3df19",
       "version_major": 2,
       "version_minor": 0
      },
      "text/plain": [
       "  DBs for Q:spider_dev_q828_idx8:   0%|          | 0/166 [00:00<?, ?it/s]"
      ]
     },
     "metadata": {},
     "output_type": "display_data"
    },
    {
     "name": "stdout",
     "output_type": "stream",
     "text": [
      "\n",
      "Processing Query 830/1034 (ID: spider_dev_q829_idx829): 'What is the age and hometown of every teacher?' (True DB: course_teach)\n"
     ]
    },
    {
     "data": {
      "application/vnd.jupyter.widget-view+json": {
       "model_id": "2813c3d0262a449ea2e8009087928ce7",
       "version_major": 2,
       "version_minor": 0
      },
      "text/plain": [
       "  DBs for Q:spider_dev_q829_idx8:   0%|          | 0/166 [00:00<?, ?it/s]"
      ]
     },
     "metadata": {},
     "output_type": "display_data"
    },
    {
     "name": "stdout",
     "output_type": "stream",
     "text": [
      "\n",
      "Processing Query 831/1034 (ID: spider_dev_q830_idx830): 'What is the car model with the highest mpg ?' (True DB: car_1)\n"
     ]
    },
    {
     "data": {
      "application/vnd.jupyter.widget-view+json": {
       "model_id": "c3c390964646436eb8007469991eaf46",
       "version_major": 2,
       "version_minor": 0
      },
      "text/plain": [
       "  DBs for Q:spider_dev_q830_idx8:   0%|          | 0/166 [00:00<?, ?it/s]"
      ]
     },
     "metadata": {},
     "output_type": "display_data"
    },
    {
     "name": "stdout",
     "output_type": "stream",
     "text": [
      "\n",
      "Processing Query 832/1034 (ID: spider_dev_q831_idx831): 'Show all paragraph texts for the document \"Customer reviews\".' (True DB: cre_Doc_Template_Mgt)\n"
     ]
    },
    {
     "data": {
      "application/vnd.jupyter.widget-view+json": {
       "model_id": "c9b79ce1feca4890a7cd79a37d663dbe",
       "version_major": 2,
       "version_minor": 0
      },
      "text/plain": [
       "  DBs for Q:spider_dev_q831_idx8:   0%|          | 0/166 [00:00<?, ?it/s]"
      ]
     },
     "metadata": {},
     "output_type": "display_data"
    },
    {
     "name": "stdout",
     "output_type": "stream",
     "text": [
      "\n",
      "Processing Query 833/1034 (ID: spider_dev_q832_idx832): 'What are airlines that have flights arriving at airport 'AHD'?' (True DB: flight_2)\n"
     ]
    },
    {
     "data": {
      "application/vnd.jupyter.widget-view+json": {
       "model_id": "673c772d67314fd0b718547be1f910ea",
       "version_major": 2,
       "version_minor": 0
      },
      "text/plain": [
       "  DBs for Q:spider_dev_q832_idx8:   0%|          | 0/166 [00:00<?, ?it/s]"
      ]
     },
     "metadata": {},
     "output_type": "display_data"
    },
    {
     "name": "stdout",
     "output_type": "stream",
     "text": [
      "\n",
      "Processing Query 834/1034 (ID: spider_dev_q833_idx833): 'What are the ids and names of the battles that led to more than 10 people killed in total.' (True DB: battle_death)\n"
     ]
    },
    {
     "data": {
      "application/vnd.jupyter.widget-view+json": {
       "model_id": "77d77b92e20849bc846797ac6c2b8685",
       "version_major": 2,
       "version_minor": 0
      },
      "text/plain": [
       "  DBs for Q:spider_dev_q833_idx8:   0%|          | 0/166 [00:00<?, ?it/s]"
      ]
     },
     "metadata": {},
     "output_type": "display_data"
    },
    {
     "name": "stdout",
     "output_type": "stream",
     "text": [
      "\n",
      "Processing Query 835/1034 (ID: spider_dev_q834_idx834): 'How many cars have more than 4 cylinders?' (True DB: car_1)\n"
     ]
    },
    {
     "data": {
      "application/vnd.jupyter.widget-view+json": {
       "model_id": "f511eeef90c844b492cb977db4da367f",
       "version_major": 2,
       "version_minor": 0
      },
      "text/plain": [
       "  DBs for Q:spider_dev_q834_idx8:   0%|          | 0/166 [00:00<?, ?it/s]"
      ]
     },
     "metadata": {},
     "output_type": "display_data"
    },
    {
     "name": "stdout",
     "output_type": "stream",
     "text": [
      "\n",
      "Processing Query 836/1034 (ID: spider_dev_q835_idx835): 'Show the property type descriptions of properties belonging to that code.' (True DB: real_estate_properties)\n"
     ]
    },
    {
     "data": {
      "application/vnd.jupyter.widget-view+json": {
       "model_id": "1b94dfd9dbdd49c486d37dc356803445",
       "version_major": 2,
       "version_minor": 0
      },
      "text/plain": [
       "  DBs for Q:spider_dev_q835_idx8:   0%|          | 0/166 [00:00<?, ?it/s]"
      ]
     },
     "metadata": {},
     "output_type": "display_data"
    },
    {
     "name": "stdout",
     "output_type": "stream",
     "text": [
      "\n",
      "Processing Query 837/1034 (ID: spider_dev_q836_idx836): 'How many type of governments are in Africa?' (True DB: world_1)\n"
     ]
    },
    {
     "data": {
      "application/vnd.jupyter.widget-view+json": {
       "model_id": "fbe2bec6c7c64a7ea215caa9130fddd0",
       "version_major": 2,
       "version_minor": 0
      },
      "text/plain": [
       "  DBs for Q:spider_dev_q836_idx8:   0%|          | 0/166 [00:00<?, ?it/s]"
      ]
     },
     "metadata": {},
     "output_type": "display_data"
    },
    {
     "name": "stdout",
     "output_type": "stream",
     "text": [
      "\n",
      "Processing Query 838/1034 (ID: spider_dev_q837_idx837): 'Find the id of the pet owned by student whose last name is ‘Smith’.' (True DB: pets_1)\n"
     ]
    },
    {
     "data": {
      "application/vnd.jupyter.widget-view+json": {
       "model_id": "16074fd4a7f54fd2a0de8d32a691e6f9",
       "version_major": 2,
       "version_minor": 0
      },
      "text/plain": [
       "  DBs for Q:spider_dev_q837_idx8:   0%|          | 0/166 [00:00<?, ?it/s]"
      ]
     },
     "metadata": {},
     "output_type": "display_data"
    },
    {
     "name": "stdout",
     "output_type": "stream",
     "text": [
      "\n",
      "Processing Query 839/1034 (ID: spider_dev_q838_idx838): 'Find all airlines that have at least 10 flights.' (True DB: flight_2)\n"
     ]
    },
    {
     "data": {
      "application/vnd.jupyter.widget-view+json": {
       "model_id": "ddcc6d8da9ba4ac786178a05bae07598",
       "version_major": 2,
       "version_minor": 0
      },
      "text/plain": [
       "  DBs for Q:spider_dev_q838_idx8:   0%|          | 0/166 [00:00<?, ?it/s]"
      ]
     },
     "metadata": {},
     "output_type": "display_data"
    },
    {
     "name": "stdout",
     "output_type": "stream",
     "text": [
      "\n",
      "Processing Query 840/1034 (ID: spider_dev_q839_idx839): 'Which dogs are of the rarest breed? Show their names and treatment dates.' (True DB: dog_kennels)\n"
     ]
    },
    {
     "data": {
      "application/vnd.jupyter.widget-view+json": {
       "model_id": "6e8c3d3b49114ab49ff62884278173a8",
       "version_major": 2,
       "version_minor": 0
      },
      "text/plain": [
       "  DBs for Q:spider_dev_q839_idx8:   0%|          | 0/166 [00:00<?, ?it/s]"
      ]
     },
     "metadata": {},
     "output_type": "display_data"
    },
    {
     "name": "stdout",
     "output_type": "stream",
     "text": [
      "\n",
      "Processing Query 841/1034 (ID: spider_dev_q840_idx840): 'How many singers do we have?' (True DB: concert_singer)\n"
     ]
    },
    {
     "data": {
      "application/vnd.jupyter.widget-view+json": {
       "model_id": "eab27de7529a4676a1ea3b5804076f91",
       "version_major": 2,
       "version_minor": 0
      },
      "text/plain": [
       "  DBs for Q:spider_dev_q840_idx8:   0%|          | 0/166 [00:00<?, ?it/s]"
      ]
     },
     "metadata": {},
     "output_type": "display_data"
    },
    {
     "name": "stdout",
     "output_type": "stream",
     "text": [
      "\n",
      "Processing Query 842/1034 (ID: spider_dev_q841_idx841): 'What are the makers and models?' (True DB: car_1)\n"
     ]
    },
    {
     "data": {
      "application/vnd.jupyter.widget-view+json": {
       "model_id": "659a5603ef8a4c0688308d5c3ba3426a",
       "version_major": 2,
       "version_minor": 0
      },
      "text/plain": [
       "  DBs for Q:spider_dev_q841_idx8:   0%|          | 0/166 [00:00<?, ?it/s]"
      ]
     },
     "metadata": {},
     "output_type": "display_data"
    },
    {
     "name": "stdout",
     "output_type": "stream",
     "text": [
      "\n",
      "Processing Query 843/1034 (ID: spider_dev_q842_idx842): 'Find the total number of tours for each ranking date.' (True DB: wta_1)\n"
     ]
    },
    {
     "data": {
      "application/vnd.jupyter.widget-view+json": {
       "model_id": "c0ade6d58794476fab4fa84203bc1ede",
       "version_major": 2,
       "version_minor": 0
      },
      "text/plain": [
       "  DBs for Q:spider_dev_q842_idx8:   0%|          | 0/166 [00:00<?, ?it/s]"
      ]
     },
     "metadata": {},
     "output_type": "display_data"
    },
    {
     "name": "stdout",
     "output_type": "stream",
     "text": [
      "\n",
      "Processing Query 844/1034 (ID: spider_dev_q843_idx843): 'How many degrees does the engineering department have?' (True DB: student_transcripts_tracking)\n"
     ]
    },
    {
     "data": {
      "application/vnd.jupyter.widget-view+json": {
       "model_id": "6a6b4501793d4033955cdefde2b76a4d",
       "version_major": 2,
       "version_minor": 0
      },
      "text/plain": [
       "  DBs for Q:spider_dev_q843_idx8:   0%|          | 0/166 [00:00<?, ?it/s]"
      ]
     },
     "metadata": {},
     "output_type": "display_data"
    },
    {
     "name": "stdout",
     "output_type": "stream",
     "text": [
      "\n",
      "Processing Query 845/1034 (ID: spider_dev_q844_idx844): 'What are the names of people who are not from Russia?' (True DB: poker_player)\n"
     ]
    },
    {
     "data": {
      "application/vnd.jupyter.widget-view+json": {
       "model_id": "734dcf7be975490eb4ba90ea52d37073",
       "version_major": 2,
       "version_minor": 0
      },
      "text/plain": [
       "  DBs for Q:spider_dev_q844_idx8:   0%|          | 0/166 [00:00<?, ?it/s]"
      ]
     },
     "metadata": {},
     "output_type": "display_data"
    },
    {
     "name": "stdout",
     "output_type": "stream",
     "text": [
      "\n",
      "Processing Query 846/1034 (ID: spider_dev_q845_idx845): 'How many transcripts are listed?' (True DB: student_transcripts_tracking)\n"
     ]
    },
    {
     "data": {
      "application/vnd.jupyter.widget-view+json": {
       "model_id": "639a3bce77624673ad632fd905955083",
       "version_major": 2,
       "version_minor": 0
      },
      "text/plain": [
       "  DBs for Q:spider_dev_q845_idx8:   0%|          | 0/166 [00:00<?, ?it/s]"
      ]
     },
     "metadata": {},
     "output_type": "display_data"
    },
    {
     "name": "stdout",
     "output_type": "stream",
     "text": [
      "\n",
      "Processing Query 847/1034 (ID: spider_dev_q846_idx846): 'Find the first name, country code and birth date of the winner who has the highest rank points in all matches.' (True DB: wta_1)\n"
     ]
    },
    {
     "data": {
      "application/vnd.jupyter.widget-view+json": {
       "model_id": "c4f0b48e822c4c78927ded5be458148c",
       "version_major": 2,
       "version_minor": 0
      },
      "text/plain": [
       "  DBs for Q:spider_dev_q846_idx8:   0%|          | 0/166 [00:00<?, ?it/s]"
      ]
     },
     "metadata": {},
     "output_type": "display_data"
    },
    {
     "name": "stdout",
     "output_type": "stream",
     "text": [
      "\n",
      "Processing Query 848/1034 (ID: spider_dev_q847_idx847): 'find the minimum and maximum number of products of all stores.' (True DB: employee_hire_evaluation)\n"
     ]
    },
    {
     "data": {
      "application/vnd.jupyter.widget-view+json": {
       "model_id": "2d8e5a407d424483b602889870a0cee1",
       "version_major": 2,
       "version_minor": 0
      },
      "text/plain": [
       "  DBs for Q:spider_dev_q847_idx8:   0%|          | 0/166 [00:00<?, ?it/s]"
      ]
     },
     "metadata": {},
     "output_type": "display_data"
    },
    {
     "name": "stdout",
     "output_type": "stream",
     "text": [
      "\n",
      "Processing Query 849/1034 (ID: spider_dev_q848_idx848): 'How many pets have a greater weight than 10?' (True DB: pets_1)\n"
     ]
    },
    {
     "data": {
      "application/vnd.jupyter.widget-view+json": {
       "model_id": "e9201a7927204d5bb02e7c044a9876da",
       "version_major": 2,
       "version_minor": 0
      },
      "text/plain": [
       "  DBs for Q:spider_dev_q848_idx8:   0%|          | 0/166 [00:00<?, ?it/s]"
      ]
     },
     "metadata": {},
     "output_type": "display_data"
    },
    {
     "name": "stdout",
     "output_type": "stream",
     "text": [
      "\n",
      "Processing Query 850/1034 (ID: spider_dev_q849_idx849): 'Show names of teachers that teach at least two courses.' (True DB: course_teach)\n"
     ]
    },
    {
     "data": {
      "application/vnd.jupyter.widget-view+json": {
       "model_id": "aa7f93663d5048d0bebe5db514edf4a8",
       "version_major": 2,
       "version_minor": 0
      },
      "text/plain": [
       "  DBs for Q:spider_dev_q849_idx8:   0%|          | 0/166 [00:00<?, ?it/s]"
      ]
     },
     "metadata": {},
     "output_type": "display_data"
    },
    {
     "name": "stdout",
     "output_type": "stream",
     "text": [
      "\n",
      "Processing Query 851/1034 (ID: spider_dev_q850_idx850): 'What are the different ids and names of the battles that lost any 'Brig' type shipes?' (True DB: battle_death)\n"
     ]
    },
    {
     "data": {
      "application/vnd.jupyter.widget-view+json": {
       "model_id": "3b58e14bad3a401bac54b1d061d82e0e",
       "version_major": 2,
       "version_minor": 0
      },
      "text/plain": [
       "  DBs for Q:spider_dev_q850_idx8:   0%|          | 0/166 [00:00<?, ?it/s]"
      ]
     },
     "metadata": {},
     "output_type": "display_data"
    },
    {
     "name": "stdout",
     "output_type": "stream",
     "text": [
      "\n",
      "Processing Query 852/1034 (ID: spider_dev_q851_idx851): 'Give the names of the nations that were founded after 1950.' (True DB: world_1)\n"
     ]
    },
    {
     "data": {
      "application/vnd.jupyter.widget-view+json": {
       "model_id": "35c56a563c3a4652bf41c3e1e8037cc8",
       "version_major": 2,
       "version_minor": 0
      },
      "text/plain": [
       "  DBs for Q:spider_dev_q851_idx8:   0%|          | 0/166 [00:00<?, ?it/s]"
      ]
     },
     "metadata": {},
     "output_type": "display_data"
    },
    {
     "name": "stdout",
     "output_type": "stream",
     "text": [
      "\n",
      "Processing Query 853/1034 (ID: spider_dev_q852_idx852): 'What are the full names of all left handed players, in order of birth date?' (True DB: wta_1)\n"
     ]
    },
    {
     "data": {
      "application/vnd.jupyter.widget-view+json": {
       "model_id": "3d959f49fcef42fbaf023edc242c29b1",
       "version_major": 2,
       "version_minor": 0
      },
      "text/plain": [
       "  DBs for Q:spider_dev_q852_idx8:   0%|          | 0/166 [00:00<?, ?it/s]"
      ]
     },
     "metadata": {},
     "output_type": "display_data"
    },
    {
     "name": "stdout",
     "output_type": "stream",
     "text": [
      "\n",
      "Processing Query 854/1034 (ID: spider_dev_q853_idx853): 'What are the region and population of Angola?' (True DB: world_1)\n"
     ]
    },
    {
     "data": {
      "application/vnd.jupyter.widget-view+json": {
       "model_id": "cb95c488da1543d69f5ad3f04d50e519",
       "version_major": 2,
       "version_minor": 0
      },
      "text/plain": [
       "  DBs for Q:spider_dev_q853_idx8:   0%|          | 0/166 [00:00<?, ?it/s]"
      ]
     },
     "metadata": {},
     "output_type": "display_data"
    },
    {
     "name": "stdout",
     "output_type": "stream",
     "text": [
      "\n",
      "Processing Query 855/1034 (ID: spider_dev_q854_idx854): 'How many cars has over 6 cylinders?' (True DB: car_1)\n"
     ]
    },
    {
     "data": {
      "application/vnd.jupyter.widget-view+json": {
       "model_id": "a24a31547b0e4ce98f336917c98e73ce",
       "version_major": 2,
       "version_minor": 0
      },
      "text/plain": [
       "  DBs for Q:spider_dev_q854_idx8:   0%|          | 0/166 [00:00<?, ?it/s]"
      ]
     },
     "metadata": {},
     "output_type": "display_data"
    },
    {
     "name": "stdout",
     "output_type": "stream",
     "text": [
      "\n",
      "Processing Query 856/1034 (ID: spider_dev_q855_idx855): 'What is the first, middle, and last name, along with the id and number of enrollments, for the student who enrolled the most in any program?' (True DB: student_transcripts_tracking)\n"
     ]
    },
    {
     "data": {
      "application/vnd.jupyter.widget-view+json": {
       "model_id": "cafb24be8b98420c84777182cee37e94",
       "version_major": 2,
       "version_minor": 0
      },
      "text/plain": [
       "  DBs for Q:spider_dev_q855_idx8:   0%|          | 0/166 [00:00<?, ?it/s]"
      ]
     },
     "metadata": {},
     "output_type": "display_data"
    },
    {
     "name": "stdout",
     "output_type": "stream",
     "text": [
      "\n",
      "Processing Query 857/1034 (ID: spider_dev_q856_idx856): 'What are the names and grades for each high schooler?' (True DB: network_1)\n"
     ]
    },
    {
     "data": {
      "application/vnd.jupyter.widget-view+json": {
       "model_id": "1273af15afab4748b515b2b4ddac0d81",
       "version_major": 2,
       "version_minor": 0
      },
      "text/plain": [
       "  DBs for Q:spider_dev_q856_idx8:   0%|          | 0/166 [00:00<?, ?it/s]"
      ]
     },
     "metadata": {},
     "output_type": "display_data"
    },
    {
     "name": "stdout",
     "output_type": "stream",
     "text": [
      "\n",
      "Processing Query 858/1034 (ID: spider_dev_q857_idx857): 'What are flight numbers of flights arriving at City \"Aberdeen\"?' (True DB: flight_2)\n"
     ]
    },
    {
     "data": {
      "application/vnd.jupyter.widget-view+json": {
       "model_id": "d5a2d6cdf27a49d8a199f65a007aee4f",
       "version_major": 2,
       "version_minor": 0
      },
      "text/plain": [
       "  DBs for Q:spider_dev_q857_idx8:   0%|          | 0/166 [00:00<?, ?it/s]"
      ]
     },
     "metadata": {},
     "output_type": "display_data"
    },
    {
     "name": "stdout",
     "output_type": "stream",
     "text": [
      "\n",
      "Processing Query 859/1034 (ID: spider_dev_q858_idx858): 'Show countries where a singer above age 40 and a singer below 30 are from.' (True DB: concert_singer)\n"
     ]
    },
    {
     "data": {
      "application/vnd.jupyter.widget-view+json": {
       "model_id": "6dfeffb7acaa48859839b32f011fe866",
       "version_major": 2,
       "version_minor": 0
      },
      "text/plain": [
       "  DBs for Q:spider_dev_q858_idx8:   0%|          | 0/166 [00:00<?, ?it/s]"
      ]
     },
     "metadata": {},
     "output_type": "display_data"
    },
    {
     "name": "stdout",
     "output_type": "stream",
     "text": [
      "\n",
      "Processing Query 860/1034 (ID: spider_dev_q859_idx859): 'What are the names of the nations with the 3 lowest populations?' (True DB: world_1)\n"
     ]
    },
    {
     "data": {
      "application/vnd.jupyter.widget-view+json": {
       "model_id": "ade50a50c6db42ed970d437fc8e4120f",
       "version_major": 2,
       "version_minor": 0
      },
      "text/plain": [
       "  DBs for Q:spider_dev_q859_idx8:   0%|          | 0/166 [00:00<?, ?it/s]"
      ]
     },
     "metadata": {},
     "output_type": "display_data"
    },
    {
     "name": "stdout",
     "output_type": "stream",
     "text": [
      "\n",
      "Processing Query 861/1034 (ID: spider_dev_q860_idx860): 'What is the document name and template id for document with description with the letter 'w' in it?' (True DB: cre_Doc_Template_Mgt)\n"
     ]
    },
    {
     "data": {
      "application/vnd.jupyter.widget-view+json": {
       "model_id": "e44bf3673c0c4d0dbea4d461117f6046",
       "version_major": 2,
       "version_minor": 0
      },
      "text/plain": [
       "  DBs for Q:spider_dev_q860_idx8:   0%|          | 0/166 [00:00<?, ?it/s]"
      ]
     },
     "metadata": {},
     "output_type": "display_data"
    },
    {
     "name": "stdout",
     "output_type": "stream",
     "text": [
      "\n",
      "Processing Query 862/1034 (ID: spider_dev_q861_idx861): 'How many teachers are there?' (True DB: course_teach)\n"
     ]
    },
    {
     "data": {
      "application/vnd.jupyter.widget-view+json": {
       "model_id": "82bcc5b0049c4ec88f8713507877b981",
       "version_major": 2,
       "version_minor": 0
      },
      "text/plain": [
       "  DBs for Q:spider_dev_q861_idx8:   0%|          | 0/166 [00:00<?, ?it/s]"
      ]
     },
     "metadata": {},
     "output_type": "display_data"
    },
    {
     "name": "stdout",
     "output_type": "stream",
     "text": [
      "\n",
      "Processing Query 863/1034 (ID: spider_dev_q862_idx862): 'How much does the most recent treatment cost?' (True DB: dog_kennels)\n"
     ]
    },
    {
     "data": {
      "application/vnd.jupyter.widget-view+json": {
       "model_id": "98741144c6954e2484b2913d4a1e0dca",
       "version_major": 2,
       "version_minor": 0
      },
      "text/plain": [
       "  DBs for Q:spider_dev_q862_idx8:   0%|          | 0/166 [00:00<?, ?it/s]"
      ]
     },
     "metadata": {},
     "output_type": "display_data"
    },
    {
     "name": "stdout",
     "output_type": "stream",
     "text": [
      "\n",
      "Processing Query 864/1034 (ID: spider_dev_q863_idx863): 'List all cartoon directed by \"Ben Jones\".' (True DB: tvshow)\n"
     ]
    },
    {
     "data": {
      "application/vnd.jupyter.widget-view+json": {
       "model_id": "937681dc6dfc4e7e8d63d1e6414e6662",
       "version_major": 2,
       "version_minor": 0
      },
      "text/plain": [
       "  DBs for Q:spider_dev_q863_idx8:   0%|          | 0/166 [00:00<?, ?it/s]"
      ]
     },
     "metadata": {},
     "output_type": "display_data"
    },
    {
     "name": "stdout",
     "output_type": "stream",
     "text": [
      "\n",
      "Processing Query 865/1034 (ID: spider_dev_q864_idx864): 'Show the names of all of the high schooler Kyle's friends.' (True DB: network_1)\n"
     ]
    },
    {
     "data": {
      "application/vnd.jupyter.widget-view+json": {
       "model_id": "d83814184e3e4c9d9b2d86599676d446",
       "version_major": 2,
       "version_minor": 0
      },
      "text/plain": [
       "  DBs for Q:spider_dev_q864_idx8:   0%|          | 0/166 [00:00<?, ?it/s]"
      ]
     },
     "metadata": {},
     "output_type": "display_data"
    },
    {
     "name": "stdout",
     "output_type": "stream",
     "text": [
      "\n",
      "Processing Query 866/1034 (ID: spider_dev_q865_idx865): 'What is the maximum capacity and the average of all stadiums ?' (True DB: concert_singer)\n"
     ]
    },
    {
     "data": {
      "application/vnd.jupyter.widget-view+json": {
       "model_id": "88d0c0fa41924541a6f7f854821f341c",
       "version_major": 2,
       "version_minor": 0
      },
      "text/plain": [
       "  DBs for Q:spider_dev_q865_idx8:   0%|          | 0/166 [00:00<?, ?it/s]"
      ]
     },
     "metadata": {},
     "output_type": "display_data"
    },
    {
     "name": "stdout",
     "output_type": "stream",
     "text": [
      "\n",
      "Processing Query 867/1034 (ID: spider_dev_q866_idx866): 'What is the content of the series Sky Radio?' (True DB: tvshow)\n"
     ]
    },
    {
     "data": {
      "application/vnd.jupyter.widget-view+json": {
       "model_id": "69937dd9b3dc436da8bdb76fbec5a568",
       "version_major": 2,
       "version_minor": 0
      },
      "text/plain": [
       "  DBs for Q:spider_dev_q866_idx8:   0%|          | 0/166 [00:00<?, ?it/s]"
      ]
     },
     "metadata": {},
     "output_type": "display_data"
    },
    {
     "name": "stdout",
     "output_type": "stream",
     "text": [
      "\n",
      "Processing Query 868/1034 (ID: spider_dev_q867_idx867): 'What are the names of the singers who performed in a concert in 2014?' (True DB: concert_singer)\n"
     ]
    },
    {
     "data": {
      "application/vnd.jupyter.widget-view+json": {
       "model_id": "b6b228e6e00c4d399fc4c13cdc675c1a",
       "version_major": 2,
       "version_minor": 0
      },
      "text/plain": [
       "  DBs for Q:spider_dev_q867_idx8:   0%|          | 0/166 [00:00<?, ?it/s]"
      ]
     },
     "metadata": {},
     "output_type": "display_data"
    },
    {
     "name": "stdout",
     "output_type": "stream",
     "text": [
      "\n",
      "Processing Query 869/1034 (ID: spider_dev_q868_idx868): 'How many flights have destination ATO?' (True DB: flight_2)\n"
     ]
    },
    {
     "data": {
      "application/vnd.jupyter.widget-view+json": {
       "model_id": "4ebdf053bb0548b0a3276e370b745519",
       "version_major": 2,
       "version_minor": 0
      },
      "text/plain": [
       "  DBs for Q:spider_dev_q868_idx8:   0%|          | 0/166 [00:00<?, ?it/s]"
      ]
     },
     "metadata": {},
     "output_type": "display_data"
    },
    {
     "name": "stdout",
     "output_type": "stream",
     "text": [
      "\n",
      "Processing Query 870/1034 (ID: spider_dev_q869_idx869): 'Which employee received the most awards in evaluations? Give me the employee name.' (True DB: employee_hire_evaluation)\n"
     ]
    },
    {
     "data": {
      "application/vnd.jupyter.widget-view+json": {
       "model_id": "8b7fe2ce5adc48e69998f8c86084ce72",
       "version_major": 2,
       "version_minor": 0
      },
      "text/plain": [
       "  DBs for Q:spider_dev_q869_idx8:   0%|          | 0/166 [00:00<?, ?it/s]"
      ]
     },
     "metadata": {},
     "output_type": "display_data"
    },
    {
     "name": "stdout",
     "output_type": "stream",
     "text": [
      "\n",
      "Processing Query 871/1034 (ID: spider_dev_q870_idx870): 'What are the major record formats of orchestras, sorted by their frequency?' (True DB: orchestra)\n"
     ]
    },
    {
     "data": {
      "application/vnd.jupyter.widget-view+json": {
       "model_id": "a13dcc617c0f4bce8e32c131da5182e2",
       "version_major": 2,
       "version_minor": 0
      },
      "text/plain": [
       "  DBs for Q:spider_dev_q870_idx8:   0%|          | 0/166 [00:00<?, ?it/s]"
      ]
     },
     "metadata": {},
     "output_type": "display_data"
    },
    {
     "name": "stdout",
     "output_type": "stream",
     "text": [
      "\n",
      "Processing Query 872/1034 (ID: spider_dev_q871_idx871): 'What are the ids of documents that contain the paragraph text 'Brazil' and 'Ireland'?' (True DB: cre_Doc_Template_Mgt)\n"
     ]
    },
    {
     "data": {
      "application/vnd.jupyter.widget-view+json": {
       "model_id": "b9675459690442dd82a22aeaecff59f7",
       "version_major": 2,
       "version_minor": 0
      },
      "text/plain": [
       "  DBs for Q:spider_dev_q871_idx8:   0%|          | 0/166 [00:00<?, ?it/s]"
      ]
     },
     "metadata": {},
     "output_type": "display_data"
    },
    {
     "name": "stdout",
     "output_type": "stream",
     "text": [
      "\n",
      "Processing Query 873/1034 (ID: spider_dev_q872_idx872): 'Return the type code of the template type that the most templates belong to.' (True DB: cre_Doc_Template_Mgt)\n"
     ]
    },
    {
     "data": {
      "application/vnd.jupyter.widget-view+json": {
       "model_id": "23e9584af29e4cf0a188f9ec673fb179",
       "version_major": 2,
       "version_minor": 0
      },
      "text/plain": [
       "  DBs for Q:spider_dev_q872_idx8:   0%|          | 0/166 [00:00<?, ?it/s]"
      ]
     },
     "metadata": {},
     "output_type": "display_data"
    },
    {
     "name": "stdout",
     "output_type": "stream",
     "text": [
      "\n",
      "Processing Query 874/1034 (ID: spider_dev_q873_idx873): 'Give the name of the nation that uses the greatest amount of languages.' (True DB: world_1)\n"
     ]
    },
    {
     "data": {
      "application/vnd.jupyter.widget-view+json": {
       "model_id": "c5f9d20bbea64f0382444532d1a5f33e",
       "version_major": 2,
       "version_minor": 0
      },
      "text/plain": [
       "  DBs for Q:spider_dev_q873_idx8:   0%|          | 0/166 [00:00<?, ?it/s]"
      ]
     },
     "metadata": {},
     "output_type": "display_data"
    },
    {
     "name": "stdout",
     "output_type": "stream",
     "text": [
      "\n",
      "Processing Query 875/1034 (ID: spider_dev_q874_idx874): 'How many paragraphs in total?' (True DB: cre_Doc_Template_Mgt)\n"
     ]
    },
    {
     "data": {
      "application/vnd.jupyter.widget-view+json": {
       "model_id": "ab868f1fba3247958c9fefb02c430ee0",
       "version_major": 2,
       "version_minor": 0
      },
      "text/plain": [
       "  DBs for Q:spider_dev_q874_idx8:   0%|          | 0/166 [00:00<?, ?it/s]"
      ]
     },
     "metadata": {},
     "output_type": "display_data"
    },
    {
     "name": "stdout",
     "output_type": "stream",
     "text": [
      "\n",
      "Processing Query 876/1034 (ID: spider_dev_q875_idx875): 'Return the code of the template type that is most commonly used in documents.' (True DB: cre_Doc_Template_Mgt)\n"
     ]
    },
    {
     "data": {
      "application/vnd.jupyter.widget-view+json": {
       "model_id": "e42008a20aa5473e9e2354bb44ff66e7",
       "version_major": 2,
       "version_minor": 0
      },
      "text/plain": [
       "  DBs for Q:spider_dev_q875_idx8:   0%|          | 0/166 [00:00<?, ?it/s]"
      ]
     },
     "metadata": {},
     "output_type": "display_data"
    },
    {
     "name": "stdout",
     "output_type": "stream",
     "text": [
      "\n",
      "Processing Query 877/1034 (ID: spider_dev_q876_idx876): 'What is the year that had the most concerts?' (True DB: concert_singer)\n"
     ]
    },
    {
     "data": {
      "application/vnd.jupyter.widget-view+json": {
       "model_id": "83b0638f894c4de19644a4d77ff3aa3d",
       "version_major": 2,
       "version_minor": 0
      },
      "text/plain": [
       "  DBs for Q:spider_dev_q876_idx8:   0%|          | 0/166 [00:00<?, ?it/s]"
      ]
     },
     "metadata": {},
     "output_type": "display_data"
    },
    {
     "name": "stdout",
     "output_type": "stream",
     "text": [
      "\n",
      "Processing Query 878/1034 (ID: spider_dev_q877_idx877): 'What are the names and locations of the stadiums that had concerts that occurred in both 2014 and 2015?' (True DB: concert_singer)\n"
     ]
    },
    {
     "data": {
      "application/vnd.jupyter.widget-view+json": {
       "model_id": "3a9a2503667742d7bb76f904347870ea",
       "version_major": 2,
       "version_minor": 0
      },
      "text/plain": [
       "  DBs for Q:spider_dev_q877_idx8:   0%|          | 0/166 [00:00<?, ?it/s]"
      ]
     },
     "metadata": {},
     "output_type": "display_data"
    },
    {
     "name": "stdout",
     "output_type": "stream",
     "text": [
      "\n",
      "Processing Query 879/1034 (ID: spider_dev_q878_idx878): 'What is the area code in which the most voters voted?' (True DB: voter_1)\n"
     ]
    },
    {
     "data": {
      "application/vnd.jupyter.widget-view+json": {
       "model_id": "15211e82b3b94d5797f80d592c46e1ec",
       "version_major": 2,
       "version_minor": 0
      },
      "text/plain": [
       "  DBs for Q:spider_dev_q878_idx8:   0%|          | 0/166 [00:00<?, ?it/s]"
      ]
     },
     "metadata": {},
     "output_type": "display_data"
    },
    {
     "name": "stdout",
     "output_type": "stream",
     "text": [
      "\n",
      "Processing Query 880/1034 (ID: spider_dev_q879_idx879): 'Show names, results and bulgarian commanders of the battles with no ships lost in the 'English Channel'.' (True DB: battle_death)\n"
     ]
    },
    {
     "data": {
      "application/vnd.jupyter.widget-view+json": {
       "model_id": "f3cd814982054232b0cc8d97bea23524",
       "version_major": 2,
       "version_minor": 0
      },
      "text/plain": [
       "  DBs for Q:spider_dev_q879_idx8:   0%|          | 0/166 [00:00<?, ?it/s]"
      ]
     },
     "metadata": {},
     "output_type": "display_data"
    },
    {
     "name": "stdout",
     "output_type": "stream",
     "text": [
      "\n",
      "Processing Query 881/1034 (ID: spider_dev_q880_idx880): 'What is the number of cars with a horsepower greater than 150?' (True DB: car_1)\n"
     ]
    },
    {
     "data": {
      "application/vnd.jupyter.widget-view+json": {
       "model_id": "fea87ebc6fb6414faffbf3966ea0dac3",
       "version_major": 2,
       "version_minor": 0
      },
      "text/plain": [
       "  DBs for Q:spider_dev_q880_idx8:   0%|          | 0/166 [00:00<?, ?it/s]"
      ]
     },
     "metadata": {},
     "output_type": "display_data"
    },
    {
     "name": "stdout",
     "output_type": "stream",
     "text": [
      "\n",
      "Processing Query 882/1034 (ID: spider_dev_q881_idx881): 'What are the cost and treatment type description of each treatment?' (True DB: dog_kennels)\n"
     ]
    },
    {
     "data": {
      "application/vnd.jupyter.widget-view+json": {
       "model_id": "5d1c58089cec4efd9689f7f9dcd2d36a",
       "version_major": 2,
       "version_minor": 0
      },
      "text/plain": [
       "  DBs for Q:spider_dev_q881_idx8:   0%|          | 0/166 [00:00<?, ?it/s]"
      ]
     },
     "metadata": {},
     "output_type": "display_data"
    },
    {
     "name": "stdout",
     "output_type": "stream",
     "text": [
      "\n",
      "Processing Query 883/1034 (ID: spider_dev_q882_idx882): 'What are the ids and makers of all car makers that produce at least 2 models and make more than 3 cars?' (True DB: car_1)\n"
     ]
    },
    {
     "data": {
      "application/vnd.jupyter.widget-view+json": {
       "model_id": "d8487624df5a4c0b86c1babf8ba5b554",
       "version_major": 2,
       "version_minor": 0
      },
      "text/plain": [
       "  DBs for Q:spider_dev_q882_idx8:   0%|          | 0/166 [00:00<?, ?it/s]"
      ]
     },
     "metadata": {},
     "output_type": "display_data"
    },
    {
     "name": "stdout",
     "output_type": "stream",
     "text": [
      "\n",
      "Processing Query 884/1034 (ID: spider_dev_q883_idx883): 'How many different nationalities do conductors have?' (True DB: orchestra)\n"
     ]
    },
    {
     "data": {
      "application/vnd.jupyter.widget-view+json": {
       "model_id": "25bca535ccd34968856b128d9c56bbb4",
       "version_major": 2,
       "version_minor": 0
      },
      "text/plain": [
       "  DBs for Q:spider_dev_q883_idx8:   0%|          | 0/166 [00:00<?, ?it/s]"
      ]
     },
     "metadata": {},
     "output_type": "display_data"
    },
    {
     "name": "stdout",
     "output_type": "stream",
     "text": [
      "\n",
      "Processing Query 885/1034 (ID: spider_dev_q884_idx884): 'Return the codes of countries for which Spanish is the predominantly spoken language.' (True DB: world_1)\n"
     ]
    },
    {
     "data": {
      "application/vnd.jupyter.widget-view+json": {
       "model_id": "4be66da0bafc4c7fa972e339c92e2dba",
       "version_major": 2,
       "version_minor": 0
      },
      "text/plain": [
       "  DBs for Q:spider_dev_q884_idx8:   0%|          | 0/166 [00:00<?, ?it/s]"
      ]
     },
     "metadata": {},
     "output_type": "display_data"
    },
    {
     "name": "stdout",
     "output_type": "stream",
     "text": [
      "\n",
      "Processing Query 886/1034 (ID: spider_dev_q885_idx885): 'Count the number of different templates used for documents.' (True DB: cre_Doc_Template_Mgt)\n"
     ]
    },
    {
     "data": {
      "application/vnd.jupyter.widget-view+json": {
       "model_id": "d4c0e28d930640bf9230773b984f97b1",
       "version_major": 2,
       "version_minor": 0
      },
      "text/plain": [
       "  DBs for Q:spider_dev_q885_idx8:   0%|          | 0/166 [00:00<?, ?it/s]"
      ]
     },
     "metadata": {},
     "output_type": "display_data"
    },
    {
     "name": "stdout",
     "output_type": "stream",
     "text": [
      "\n",
      "Processing Query 887/1034 (ID: spider_dev_q886_idx886): 'What are the different continents and the total popuation and average life expectancy corresponding to each, for continents that have an average life expectancy less than 72?' (True DB: world_1)\n"
     ]
    },
    {
     "data": {
      "application/vnd.jupyter.widget-view+json": {
       "model_id": "df275cfa293742ba9abeeca87d93564c",
       "version_major": 2,
       "version_minor": 0
      },
      "text/plain": [
       "  DBs for Q:spider_dev_q886_idx8:   0%|          | 0/166 [00:00<?, ?it/s]"
      ]
     },
     "metadata": {},
     "output_type": "display_data"
    },
    {
     "name": "stdout",
     "output_type": "stream",
     "text": [
      "\n",
      "Processing Query 888/1034 (ID: spider_dev_q887_idx887): 'Find the total ranking points for each player and their first name.' (True DB: wta_1)\n"
     ]
    },
    {
     "data": {
      "application/vnd.jupyter.widget-view+json": {
       "model_id": "6cc6f5c6f6e747d098b7c4c60f8940e4",
       "version_major": 2,
       "version_minor": 0
      },
      "text/plain": [
       "  DBs for Q:spider_dev_q887_idx8:   0%|          | 0/166 [00:00<?, ?it/s]"
      ]
     },
     "metadata": {},
     "output_type": "display_data"
    },
    {
     "name": "stdout",
     "output_type": "stream",
     "text": [
      "\n",
      "Processing Query 889/1034 (ID: spider_dev_q888_idx888): 'How long is the people’s average life expectancy in Central Africa?' (True DB: world_1)\n"
     ]
    },
    {
     "data": {
      "application/vnd.jupyter.widget-view+json": {
       "model_id": "450278cd0f664c6dbdb766330947d8af",
       "version_major": 2,
       "version_minor": 0
      },
      "text/plain": [
       "  DBs for Q:spider_dev_q888_idx8:   0%|          | 0/166 [00:00<?, ?it/s]"
      ]
     },
     "metadata": {},
     "output_type": "display_data"
    },
    {
     "name": "stdout",
     "output_type": "stream",
     "text": [
      "\n",
      "Processing Query 890/1034 (ID: spider_dev_q889_idx889): 'Find the last name of the students who currently live in the state of North Carolina but have not registered in any degree program.' (True DB: student_transcripts_tracking)\n"
     ]
    },
    {
     "data": {
      "application/vnd.jupyter.widget-view+json": {
       "model_id": "f43d4c63dd91495bbcfb740b20283046",
       "version_major": 2,
       "version_minor": 0
      },
      "text/plain": [
       "  DBs for Q:spider_dev_q889_idx8:   0%|          | 0/166 [00:00<?, ?it/s]"
      ]
     },
     "metadata": {},
     "output_type": "display_data"
    },
    {
     "name": "stdout",
     "output_type": "stream",
     "text": [
      "\n",
      "Processing Query 891/1034 (ID: spider_dev_q890_idx890): 'List the cost of each treatment and the corresponding treatment type description.' (True DB: dog_kennels)\n"
     ]
    },
    {
     "data": {
      "application/vnd.jupyter.widget-view+json": {
       "model_id": "9ef1b9d1ca7248cca2843190f81676b2",
       "version_major": 2,
       "version_minor": 0
      },
      "text/plain": [
       "  DBs for Q:spider_dev_q890_idx8:   0%|          | 0/166 [00:00<?, ?it/s]"
      ]
     },
     "metadata": {},
     "output_type": "display_data"
    },
    {
     "name": "stdout",
     "output_type": "stream",
     "text": [
      "\n",
      "Processing Query 892/1034 (ID: spider_dev_q891_idx891): 'How many high schoolers are in each grade?' (True DB: network_1)\n"
     ]
    },
    {
     "data": {
      "application/vnd.jupyter.widget-view+json": {
       "model_id": "6408d2ed873c4b8a96446f3ce2bdf7c5",
       "version_major": 2,
       "version_minor": 0
      },
      "text/plain": [
       "  DBs for Q:spider_dev_q891_idx8:   0%|          | 0/166 [00:00<?, ?it/s]"
      ]
     },
     "metadata": {},
     "output_type": "display_data"
    },
    {
     "name": "stdout",
     "output_type": "stream",
     "text": [
      "\n",
      "Processing Query 893/1034 (ID: spider_dev_q892_idx892): 'What are the ids and texts of paragraphs in the document titled 'Welcome to NY'?' (True DB: cre_Doc_Template_Mgt)\n"
     ]
    },
    {
     "data": {
      "application/vnd.jupyter.widget-view+json": {
       "model_id": "2934c52d2e004a5dbe27a0cbb0ad3046",
       "version_major": 2,
       "version_minor": 0
      },
      "text/plain": [
       "  DBs for Q:spider_dev_q892_idx8:   0%|          | 0/166 [00:00<?, ?it/s]"
      ]
     },
     "metadata": {},
     "output_type": "display_data"
    },
    {
     "name": "stdout",
     "output_type": "stream",
     "text": [
      "\n",
      "Processing Query 894/1034 (ID: spider_dev_q893_idx893): 'For each citizenship, what is the maximum net worth?' (True DB: singer)\n"
     ]
    },
    {
     "data": {
      "application/vnd.jupyter.widget-view+json": {
       "model_id": "2cfcf62b6211466897c92ae5ef68e432",
       "version_major": 2,
       "version_minor": 0
      },
      "text/plain": [
       "  DBs for Q:spider_dev_q893_idx8:   0%|          | 0/166 [00:00<?, ?it/s]"
      ]
     },
     "metadata": {},
     "output_type": "display_data"
    },
    {
     "name": "stdout",
     "output_type": "stream",
     "text": [
      "\n",
      "Processing Query 895/1034 (ID: spider_dev_q894_idx894): 'What is the average edispl of the cars of model volvo?' (True DB: car_1)\n"
     ]
    },
    {
     "data": {
      "application/vnd.jupyter.widget-view+json": {
       "model_id": "4e2da37b4cfb42e9aa00eaf8a5bd2c00",
       "version_major": 2,
       "version_minor": 0
      },
      "text/plain": [
       "  DBs for Q:spider_dev_q894_idx8:   0%|          | 0/166 [00:00<?, ?it/s]"
      ]
     },
     "metadata": {},
     "output_type": "display_data"
    },
    {
     "name": "stdout",
     "output_type": "stream",
     "text": [
      "\n",
      "Processing Query 896/1034 (ID: spider_dev_q895_idx895): 'How many different degree names are offered?' (True DB: student_transcripts_tracking)\n"
     ]
    },
    {
     "data": {
      "application/vnd.jupyter.widget-view+json": {
       "model_id": "57ad6da80bb947b3812a64ffbcdbfb20",
       "version_major": 2,
       "version_minor": 0
      },
      "text/plain": [
       "  DBs for Q:spider_dev_q895_idx8:   0%|          | 0/166 [00:00<?, ?it/s]"
      ]
     },
     "metadata": {},
     "output_type": "display_data"
    },
    {
     "name": "stdout",
     "output_type": "stream",
     "text": [
      "\n",
      "Processing Query 897/1034 (ID: spider_dev_q896_idx896): 'Show the name of singers whose birth year is either 1948 or 1949?' (True DB: singer)\n"
     ]
    },
    {
     "data": {
      "application/vnd.jupyter.widget-view+json": {
       "model_id": "1c17bcf7830b4afb8695736a89fe4b3c",
       "version_major": 2,
       "version_minor": 0
      },
      "text/plain": [
       "  DBs for Q:spider_dev_q896_idx8:   0%|          | 0/166 [00:00<?, ?it/s]"
      ]
     },
     "metadata": {},
     "output_type": "display_data"
    },
    {
     "name": "stdout",
     "output_type": "stream",
     "text": [
      "\n",
      "Processing Query 898/1034 (ID: spider_dev_q897_idx897): 'Which airlines have less than 200 flights?' (True DB: flight_2)\n"
     ]
    },
    {
     "data": {
      "application/vnd.jupyter.widget-view+json": {
       "model_id": "c5b1bc454bdd4bcb9bb5ba71cc17d78e",
       "version_major": 2,
       "version_minor": 0
      },
      "text/plain": [
       "  DBs for Q:spider_dev_q897_idx8:   0%|          | 0/166 [00:00<?, ?it/s]"
      ]
     },
     "metadata": {},
     "output_type": "display_data"
    },
    {
     "name": "stdout",
     "output_type": "stream",
     "text": [
      "\n",
      "Processing Query 899/1034 (ID: spider_dev_q898_idx898): 'How many singers are there?' (True DB: singer)\n"
     ]
    },
    {
     "data": {
      "application/vnd.jupyter.widget-view+json": {
       "model_id": "5125909919a141e9be5ae887fdd4fdd0",
       "version_major": 2,
       "version_minor": 0
      },
      "text/plain": [
       "  DBs for Q:spider_dev_q898_idx8:   0%|          | 0/166 [00:00<?, ?it/s]"
      ]
     },
     "metadata": {},
     "output_type": "display_data"
    },
    {
     "name": "stdout",
     "output_type": "stream",
     "text": [
      "\n",
      "Processing Query 900/1034 (ID: spider_dev_q899_idx899): 'What are the names of properties that are either houses or apartments with more than 1 room?' (True DB: real_estate_properties)\n"
     ]
    },
    {
     "data": {
      "application/vnd.jupyter.widget-view+json": {
       "model_id": "ca3049fbe1084f24a5a2040e7432c609",
       "version_major": 2,
       "version_minor": 0
      },
      "text/plain": [
       "  DBs for Q:spider_dev_q899_idx8:   0%|          | 0/166 [00:00<?, ?it/s]"
      ]
     },
     "metadata": {},
     "output_type": "display_data"
    },
    {
     "name": "stdout",
     "output_type": "stream",
     "text": [
      "\n",
      "Processing Query 901/1034 (ID: spider_dev_q900_idx900): 'What are the type codes and descriptions for all template types?' (True DB: cre_Doc_Template_Mgt)\n"
     ]
    },
    {
     "data": {
      "application/vnd.jupyter.widget-view+json": {
       "model_id": "ce584181a58d49a492eddfd94743718f",
       "version_major": 2,
       "version_minor": 0
      },
      "text/plain": [
       "  DBs for Q:spider_dev_q900_idx9:   0%|          | 0/166 [00:00<?, ?it/s]"
      ]
     },
     "metadata": {},
     "output_type": "display_data"
    },
    {
     "name": "stdout",
     "output_type": "stream",
     "text": [
      "\n",
      "Processing Query 902/1034 (ID: spider_dev_q901_idx901): 'What is the total count of teachers?' (True DB: course_teach)\n"
     ]
    },
    {
     "data": {
      "application/vnd.jupyter.widget-view+json": {
       "model_id": "f5059a6253e84bd0bd6294434fbec5e1",
       "version_major": 2,
       "version_minor": 0
      },
      "text/plain": [
       "  DBs for Q:spider_dev_q901_idx9:   0%|          | 0/166 [00:00<?, ?it/s]"
      ]
     },
     "metadata": {},
     "output_type": "display_data"
    },
    {
     "name": "stdout",
     "output_type": "stream",
     "text": [
      "\n",
      "Processing Query 903/1034 (ID: spider_dev_q902_idx902): 'What are the names of conductors, sorted descending by the number of years they have worked?' (True DB: orchestra)\n"
     ]
    },
    {
     "data": {
      "application/vnd.jupyter.widget-view+json": {
       "model_id": "1bb6fd188f644074885e9157b6a00f2f",
       "version_major": 2,
       "version_minor": 0
      },
      "text/plain": [
       "  DBs for Q:spider_dev_q902_idx9:   0%|          | 0/166 [00:00<?, ?it/s]"
      ]
     },
     "metadata": {},
     "output_type": "display_data"
    },
    {
     "name": "stdout",
     "output_type": "stream",
     "text": [
      "\n",
      "Processing Query 904/1034 (ID: spider_dev_q903_idx903): 'Find the number of left handed winners who participated in the WTA Championships.' (True DB: wta_1)\n"
     ]
    },
    {
     "data": {
      "application/vnd.jupyter.widget-view+json": {
       "model_id": "39cbfc1914d74aca86b55fa8c39e1427",
       "version_major": 2,
       "version_minor": 0
      },
      "text/plain": [
       "  DBs for Q:spider_dev_q903_idx9:   0%|          | 0/166 [00:00<?, ?it/s]"
      ]
     },
     "metadata": {},
     "output_type": "display_data"
    },
    {
     "name": "stdout",
     "output_type": "stream",
     "text": [
      "\n",
      "Processing Query 905/1034 (ID: spider_dev_q904_idx904): 'Return the ids corresponding to templates with the description 'Presentation'.' (True DB: cre_Doc_Template_Mgt)\n"
     ]
    },
    {
     "data": {
      "application/vnd.jupyter.widget-view+json": {
       "model_id": "3d27427073134a30ae6caf77fc2f2c6a",
       "version_major": 2,
       "version_minor": 0
      },
      "text/plain": [
       "  DBs for Q:spider_dev_q904_idx9:   0%|          | 0/166 [00:00<?, ?it/s]"
      ]
     },
     "metadata": {},
     "output_type": "display_data"
    },
    {
     "name": "stdout",
     "output_type": "stream",
     "text": [
      "\n",
      "Processing Query 906/1034 (ID: spider_dev_q905_idx905): 'What region is Kabul in?' (True DB: world_1)\n"
     ]
    },
    {
     "data": {
      "application/vnd.jupyter.widget-view+json": {
       "model_id": "414b57a3d7bb4245986e9cd9c49e31e6",
       "version_major": 2,
       "version_minor": 0
      },
      "text/plain": [
       "  DBs for Q:spider_dev_q905_idx9:   0%|          | 0/166 [00:00<?, ?it/s]"
      ]
     },
     "metadata": {},
     "output_type": "display_data"
    },
    {
     "name": "stdout",
     "output_type": "stream",
     "text": [
      "\n",
      "Processing Query 907/1034 (ID: spider_dev_q906_idx906): 'Show all document ids, names and the number of paragraphs in each document.' (True DB: cre_Doc_Template_Mgt)\n"
     ]
    },
    {
     "data": {
      "application/vnd.jupyter.widget-view+json": {
       "model_id": "cddcdb4846684707aeb5699e716fafaa",
       "version_major": 2,
       "version_minor": 0
      },
      "text/plain": [
       "  DBs for Q:spider_dev_q906_idx9:   0%|          | 0/166 [00:00<?, ?it/s]"
      ]
     },
     "metadata": {},
     "output_type": "display_data"
    },
    {
     "name": "stdout",
     "output_type": "stream",
     "text": [
      "\n",
      "Processing Query 908/1034 (ID: spider_dev_q907_idx907): 'What is the best rank of losers across all matches?' (True DB: wta_1)\n"
     ]
    },
    {
     "data": {
      "application/vnd.jupyter.widget-view+json": {
       "model_id": "ed993f8e5df340c08574dddb4fcc6a88",
       "version_major": 2,
       "version_minor": 0
      },
      "text/plain": [
       "  DBs for Q:spider_dev_q907_idx9:   0%|          | 0/166 [00:00<?, ?it/s]"
      ]
     },
     "metadata": {},
     "output_type": "display_data"
    },
    {
     "name": "stdout",
     "output_type": "stream",
     "text": [
      "\n",
      "Processing Query 909/1034 (ID: spider_dev_q908_idx908): 'How many airports do we have?' (True DB: flight_2)\n"
     ]
    },
    {
     "data": {
      "application/vnd.jupyter.widget-view+json": {
       "model_id": "88df38da39ed4977a3ff614e5eded354",
       "version_major": 2,
       "version_minor": 0
      },
      "text/plain": [
       "  DBs for Q:spider_dev_q908_idx9:   0%|          | 0/166 [00:00<?, ?it/s]"
      ]
     },
     "metadata": {},
     "output_type": "display_data"
    },
    {
     "name": "stdout",
     "output_type": "stream",
     "text": [
      "\n",
      "Processing Query 910/1034 (ID: spider_dev_q909_idx909): 'What are the ids of templates with template type code PP or PPT?' (True DB: cre_Doc_Template_Mgt)\n"
     ]
    },
    {
     "data": {
      "application/vnd.jupyter.widget-view+json": {
       "model_id": "40747fd62de0472992b489210a8855de",
       "version_major": 2,
       "version_minor": 0
      },
      "text/plain": [
       "  DBs for Q:spider_dev_q909_idx9:   0%|          | 0/166 [00:00<?, ?it/s]"
      ]
     },
     "metadata": {},
     "output_type": "display_data"
    },
    {
     "name": "stdout",
     "output_type": "stream",
     "text": [
      "\n",
      "Processing Query 911/1034 (ID: spider_dev_q910_idx910): 'How many visitors below age 30 are there?' (True DB: museum_visit)\n"
     ]
    },
    {
     "data": {
      "application/vnd.jupyter.widget-view+json": {
       "model_id": "e124eb3aaec04d12858b8eb05c54656d",
       "version_major": 2,
       "version_minor": 0
      },
      "text/plain": [
       "  DBs for Q:spider_dev_q910_idx9:   0%|          | 0/166 [00:00<?, ?it/s]"
      ]
     },
     "metadata": {},
     "output_type": "display_data"
    },
    {
     "name": "stdout",
     "output_type": "stream",
     "text": [
      "\n",
      "Processing Query 912/1034 (ID: spider_dev_q911_idx911): 'Show the name and theme for all concerts and the number of singers in each concert.' (True DB: concert_singer)\n"
     ]
    },
    {
     "data": {
      "application/vnd.jupyter.widget-view+json": {
       "model_id": "1e000fd7cd964220b8eca3906b56d914",
       "version_major": 2,
       "version_minor": 0
      },
      "text/plain": [
       "  DBs for Q:spider_dev_q911_idx9:   0%|          | 0/166 [00:00<?, ?it/s]"
      ]
     },
     "metadata": {},
     "output_type": "display_data"
    },
    {
     "name": "stdout",
     "output_type": "stream",
     "text": [
      "\n",
      "Processing Query 913/1034 (ID: spider_dev_q912_idx912): 'List the maximum weight and type for each type of pet.' (True DB: pets_1)\n"
     ]
    },
    {
     "data": {
      "application/vnd.jupyter.widget-view+json": {
       "model_id": "9b6866cfaaa84538a5981e510499bedc",
       "version_major": 2,
       "version_minor": 0
      },
      "text/plain": [
       "  DBs for Q:spider_dev_q912_idx9:   0%|          | 0/166 [00:00<?, ?it/s]"
      ]
     },
     "metadata": {},
     "output_type": "display_data"
    },
    {
     "name": "stdout",
     "output_type": "stream",
     "text": [
      "\n",
      "Processing Query 914/1034 (ID: spider_dev_q913_idx913): 'Return the name of the high school student with the most friends.' (True DB: network_1)\n"
     ]
    },
    {
     "data": {
      "application/vnd.jupyter.widget-view+json": {
       "model_id": "03b43991c8eb4cfb80c929c778c2937a",
       "version_major": 2,
       "version_minor": 0
      },
      "text/plain": [
       "  DBs for Q:spider_dev_q913_idx9:   0%|          | 0/166 [00:00<?, ?it/s]"
      ]
     },
     "metadata": {},
     "output_type": "display_data"
    },
    {
     "name": "stdout",
     "output_type": "stream",
     "text": [
      "\n",
      "Processing Query 915/1034 (ID: spider_dev_q914_idx914): 'What is the most populace city that speaks English?' (True DB: world_1)\n"
     ]
    },
    {
     "data": {
      "application/vnd.jupyter.widget-view+json": {
       "model_id": "72f2f2a44aca4cb8b7a25b050504bd1e",
       "version_major": 2,
       "version_minor": 0
      },
      "text/plain": [
       "  DBs for Q:spider_dev_q914_idx9:   0%|          | 0/166 [00:00<?, ?it/s]"
      ]
     },
     "metadata": {},
     "output_type": "display_data"
    },
    {
     "name": "stdout",
     "output_type": "stream",
     "text": [
      "\n",
      "Processing Query 916/1034 (ID: spider_dev_q915_idx915): 'Give the city and country for the Alton airport.' (True DB: flight_2)\n"
     ]
    },
    {
     "data": {
      "application/vnd.jupyter.widget-view+json": {
       "model_id": "974e44120eff4f5ea92c31cee58d6e0c",
       "version_major": 2,
       "version_minor": 0
      },
      "text/plain": [
       "  DBs for Q:spider_dev_q915_idx9:   0%|          | 0/166 [00:00<?, ?it/s]"
      ]
     },
     "metadata": {},
     "output_type": "display_data"
    },
    {
     "name": "stdout",
     "output_type": "stream",
     "text": [
      "\n",
      "Processing Query 917/1034 (ID: spider_dev_q916_idx916): 'List the names of people that are not poker players.' (True DB: poker_player)\n"
     ]
    },
    {
     "data": {
      "application/vnd.jupyter.widget-view+json": {
       "model_id": "f710e6b9b5d140d993cc47701526dc4e",
       "version_major": 2,
       "version_minor": 0
      },
      "text/plain": [
       "  DBs for Q:spider_dev_q916_idx9:   0%|          | 0/166 [00:00<?, ?it/s]"
      ]
     },
     "metadata": {},
     "output_type": "display_data"
    },
    {
     "name": "stdout",
     "output_type": "stream",
     "text": [
      "\n",
      "Processing Query 918/1034 (ID: spider_dev_q917_idx917): 'Return the document id, template id, and description for the document with the name Robbin CV.' (True DB: cre_Doc_Template_Mgt)\n"
     ]
    },
    {
     "data": {
      "application/vnd.jupyter.widget-view+json": {
       "model_id": "6b71332f7c5442c6a0f26af1ab163402",
       "version_major": 2,
       "version_minor": 0
      },
      "text/plain": [
       "  DBs for Q:spider_dev_q917_idx9:   0%|          | 0/166 [00:00<?, ?it/s]"
      ]
     },
     "metadata": {},
     "output_type": "display_data"
    },
    {
     "name": "stdout",
     "output_type": "stream",
     "text": [
      "\n",
      "Processing Query 919/1034 (ID: spider_dev_q918_idx918): 'Show names of people whose nationality is not \"Russia\".' (True DB: poker_player)\n"
     ]
    },
    {
     "data": {
      "application/vnd.jupyter.widget-view+json": {
       "model_id": "64a756e9dae24253b6d41088c5c450ce",
       "version_major": 2,
       "version_minor": 0
      },
      "text/plain": [
       "  DBs for Q:spider_dev_q918_idx9:   0%|          | 0/166 [00:00<?, ?it/s]"
      ]
     },
     "metadata": {},
     "output_type": "display_data"
    },
    {
     "name": "stdout",
     "output_type": "stream",
     "text": [
      "\n",
      "Processing Query 920/1034 (ID: spider_dev_q919_idx919): 'How much does the youngest dog weigh?' (True DB: pets_1)\n"
     ]
    },
    {
     "data": {
      "application/vnd.jupyter.widget-view+json": {
       "model_id": "82f1c6400033425aa268954e54195bf1",
       "version_major": 2,
       "version_minor": 0
      },
      "text/plain": [
       "  DBs for Q:spider_dev_q919_idx9:   0%|          | 0/166 [00:00<?, ?it/s]"
      ]
     },
     "metadata": {},
     "output_type": "display_data"
    },
    {
     "name": "stdout",
     "output_type": "stream",
     "text": [
      "\n",
      "Processing Query 921/1034 (ID: spider_dev_q920_idx920): 'What are the template ids with template type description \"Presentation\".' (True DB: cre_Doc_Template_Mgt)\n"
     ]
    },
    {
     "data": {
      "application/vnd.jupyter.widget-view+json": {
       "model_id": "e136f0f664514ac4a09f107240e69910",
       "version_major": 2,
       "version_minor": 0
      },
      "text/plain": [
       "  DBs for Q:spider_dev_q920_idx9:   0%|          | 0/166 [00:00<?, ?it/s]"
      ]
     },
     "metadata": {},
     "output_type": "display_data"
    },
    {
     "name": "stdout",
     "output_type": "stream",
     "text": [
      "\n",
      "Processing Query 922/1034 (ID: spider_dev_q921_idx921): 'Find the arriving date and the departing date of the dogs that received a treatment.' (True DB: dog_kennels)\n"
     ]
    },
    {
     "data": {
      "application/vnd.jupyter.widget-view+json": {
       "model_id": "27acdc3af3ee42b98aca0293980aac39",
       "version_major": 2,
       "version_minor": 0
      },
      "text/plain": [
       "  DBs for Q:spider_dev_q921_idx9:   0%|          | 0/166 [00:00<?, ?it/s]"
      ]
     },
     "metadata": {},
     "output_type": "display_data"
    },
    {
     "name": "stdout",
     "output_type": "stream",
     "text": [
      "\n",
      "Processing Query 923/1034 (ID: spider_dev_q922_idx922): 'What is the description of the treatment type that costs the least money in total?' (True DB: dog_kennels)\n"
     ]
    },
    {
     "data": {
      "application/vnd.jupyter.widget-view+json": {
       "model_id": "3063bce592b444e699e07b73d898e4c3",
       "version_major": 2,
       "version_minor": 0
      },
      "text/plain": [
       "  DBs for Q:spider_dev_q922_idx9:   0%|          | 0/166 [00:00<?, ?it/s]"
      ]
     },
     "metadata": {},
     "output_type": "display_data"
    },
    {
     "name": "stdout",
     "output_type": "stream",
     "text": [
      "\n",
      "Processing Query 924/1034 (ID: spider_dev_q923_idx923): 'What are the id and name of the museum visited most times?' (True DB: museum_visit)\n"
     ]
    },
    {
     "data": {
      "application/vnd.jupyter.widget-view+json": {
       "model_id": "ce97e7d42f8549d1a613ddf2db268870",
       "version_major": 2,
       "version_minor": 0
      },
      "text/plain": [
       "  DBs for Q:spider_dev_q923_idx9:   0%|          | 0/166 [00:00<?, ?it/s]"
      ]
     },
     "metadata": {},
     "output_type": "display_data"
    },
    {
     "name": "stdout",
     "output_type": "stream",
     "text": [
      "\n",
      "Processing Query 925/1034 (ID: spider_dev_q924_idx924): 'Return the birth date of the poker player with the lowest earnings.' (True DB: poker_player)\n"
     ]
    },
    {
     "data": {
      "application/vnd.jupyter.widget-view+json": {
       "model_id": "dad49136520d43d2b8c5f79243742501",
       "version_major": 2,
       "version_minor": 0
      },
      "text/plain": [
       "  DBs for Q:spider_dev_q924_idx9:   0%|          | 0/166 [00:00<?, ?it/s]"
      ]
     },
     "metadata": {},
     "output_type": "display_data"
    },
    {
     "name": "stdout",
     "output_type": "stream",
     "text": [
      "\n",
      "Processing Query 926/1034 (ID: spider_dev_q925_idx925): 'What are the record companies of orchestras in descending order of years in which they were founded?' (True DB: orchestra)\n"
     ]
    },
    {
     "data": {
      "application/vnd.jupyter.widget-view+json": {
       "model_id": "c75ae75a51324237a7be0b37baf9792e",
       "version_major": 2,
       "version_minor": 0
      },
      "text/plain": [
       "  DBs for Q:spider_dev_q925_idx9:   0%|          | 0/166 [00:00<?, ?it/s]"
      ]
     },
     "metadata": {},
     "output_type": "display_data"
    },
    {
     "name": "stdout",
     "output_type": "stream",
     "text": [
      "\n",
      "Processing Query 927/1034 (ID: spider_dev_q926_idx926): 'What are the record companies that are used by both orchestras founded before 2003 and those founded after 2003?' (True DB: orchestra)\n"
     ]
    },
    {
     "data": {
      "application/vnd.jupyter.widget-view+json": {
       "model_id": "66b1834bd0634a5b9d4020b046bfee31",
       "version_major": 2,
       "version_minor": 0
      },
      "text/plain": [
       "  DBs for Q:spider_dev_q926_idx9:   0%|          | 0/166 [00:00<?, ?it/s]"
      ]
     },
     "metadata": {},
     "output_type": "display_data"
    },
    {
     "name": "stdout",
     "output_type": "stream",
     "text": [
      "\n",
      "Processing Query 928/1034 (ID: spider_dev_q927_idx927): 'Which owner owns the most dogs? List the owner id, first name and last name.' (True DB: dog_kennels)\n"
     ]
    },
    {
     "data": {
      "application/vnd.jupyter.widget-view+json": {
       "model_id": "7ca94f0d1a4a42b0a8d5367f71c351b0",
       "version_major": 2,
       "version_minor": 0
      },
      "text/plain": [
       "  DBs for Q:spider_dev_q927_idx9:   0%|          | 0/166 [00:00<?, ?it/s]"
      ]
     },
     "metadata": {},
     "output_type": "display_data"
    },
    {
     "name": "stdout",
     "output_type": "stream",
     "text": [
      "\n",
      "Processing Query 929/1034 (ID: spider_dev_q928_idx928): 'What are the package options and the name of the series for the TV Channel that supports high definition TV?' (True DB: tvshow)\n"
     ]
    },
    {
     "data": {
      "application/vnd.jupyter.widget-view+json": {
       "model_id": "74752cae4f5a4de782e8f75a82b3c665",
       "version_major": 2,
       "version_minor": 0
      },
      "text/plain": [
       "  DBs for Q:spider_dev_q928_idx9:   0%|          | 0/166 [00:00<?, ?it/s]"
      ]
     },
     "metadata": {},
     "output_type": "display_data"
    },
    {
     "name": "stdout",
     "output_type": "stream",
     "text": [
      "\n",
      "Processing Query 930/1034 (ID: spider_dev_q929_idx929): 'How many countries are listed?' (True DB: car_1)\n"
     ]
    },
    {
     "data": {
      "application/vnd.jupyter.widget-view+json": {
       "model_id": "c60500ad010c40a5856157c960a49ee2",
       "version_major": 2,
       "version_minor": 0
      },
      "text/plain": [
       "  DBs for Q:spider_dev_q929_idx9:   0%|          | 0/166 [00:00<?, ?it/s]"
      ]
     },
     "metadata": {},
     "output_type": "display_data"
    },
    {
     "name": "stdout",
     "output_type": "stream",
     "text": [
      "\n",
      "Processing Query 931/1034 (ID: spider_dev_q930_idx930): 'Find the name, population and expected life length of asian country with the largest area?' (True DB: world_1)\n"
     ]
    },
    {
     "data": {
      "application/vnd.jupyter.widget-view+json": {
       "model_id": "65a491c500db4e57abf6a8ffd89cea60",
       "version_major": 2,
       "version_minor": 0
      },
      "text/plain": [
       "  DBs for Q:spider_dev_q930_idx9:   0%|          | 0/166 [00:00<?, ?it/s]"
      ]
     },
     "metadata": {},
     "output_type": "display_data"
    },
    {
     "name": "stdout",
     "output_type": "stream",
     "text": [
      "\n",
      "Processing Query 932/1034 (ID: spider_dev_q931_idx931): 'How many players are there for each hand type?' (True DB: wta_1)\n"
     ]
    },
    {
     "data": {
      "application/vnd.jupyter.widget-view+json": {
       "model_id": "86430e588fcf4ba58efa3f0609ef79f8",
       "version_major": 2,
       "version_minor": 0
      },
      "text/plain": [
       "  DBs for Q:spider_dev_q931_idx9:   0%|          | 0/166 [00:00<?, ?it/s]"
      ]
     },
     "metadata": {},
     "output_type": "display_data"
    },
    {
     "name": "stdout",
     "output_type": "stream",
     "text": [
      "\n",
      "Processing Query 933/1034 (ID: spider_dev_q932_idx932): 'What is the maximum miles per gallon of the car with 8 cylinders or produced before 1980 ?' (True DB: car_1)\n"
     ]
    },
    {
     "data": {
      "application/vnd.jupyter.widget-view+json": {
       "model_id": "98648652ced94ab8b35b4e04cd5f8822",
       "version_major": 2,
       "version_minor": 0
      },
      "text/plain": [
       "  DBs for Q:spider_dev_q932_idx9:   0%|          | 0/166 [00:00<?, ?it/s]"
      ]
     },
     "metadata": {},
     "output_type": "display_data"
    },
    {
     "name": "stdout",
     "output_type": "stream",
     "text": [
      "\n",
      "Processing Query 934/1034 (ID: spider_dev_q933_idx933): 'Show the ID of the high schooler named Kyle.' (True DB: network_1)\n"
     ]
    },
    {
     "data": {
      "application/vnd.jupyter.widget-view+json": {
       "model_id": "895d83178e0d4220ac3b5d7476ff2459",
       "version_major": 2,
       "version_minor": 0
      },
      "text/plain": [
       "  DBs for Q:spider_dev_q933_idx9:   0%|          | 0/166 [00:00<?, ?it/s]"
      ]
     },
     "metadata": {},
     "output_type": "display_data"
    },
    {
     "name": "stdout",
     "output_type": "stream",
     "text": [
      "\n",
      "Processing Query 935/1034 (ID: spider_dev_q934_idx934): 'What is the name of the singer who is worth the most?' (True DB: singer)\n"
     ]
    },
    {
     "data": {
      "application/vnd.jupyter.widget-view+json": {
       "model_id": "2ba6c42c223c4218bb2e6fe739b16bd3",
       "version_major": 2,
       "version_minor": 0
      },
      "text/plain": [
       "  DBs for Q:spider_dev_q934_idx9:   0%|          | 0/166 [00:00<?, ?it/s]"
      ]
     },
     "metadata": {},
     "output_type": "display_data"
    },
    {
     "name": "stdout",
     "output_type": "stream",
     "text": [
      "\n",
      "Processing Query 936/1034 (ID: spider_dev_q935_idx935): 'What type of pet is the youngest animal, and how much does it weigh?' (True DB: pets_1)\n"
     ]
    },
    {
     "data": {
      "application/vnd.jupyter.widget-view+json": {
       "model_id": "7a728c08c20648829f0b13cecd003248",
       "version_major": 2,
       "version_minor": 0
      },
      "text/plain": [
       "  DBs for Q:spider_dev_q935_idx9:   0%|          | 0/166 [00:00<?, ?it/s]"
      ]
     },
     "metadata": {},
     "output_type": "display_data"
    },
    {
     "name": "stdout",
     "output_type": "stream",
     "text": [
      "\n",
      "Processing Query 937/1034 (ID: spider_dev_q936_idx936): 'What are the names of the stadiums without any concerts?' (True DB: concert_singer)\n"
     ]
    },
    {
     "data": {
      "application/vnd.jupyter.widget-view+json": {
       "model_id": "dc86e9b99c29429bbe8337a9377cfa40",
       "version_major": 2,
       "version_minor": 0
      },
      "text/plain": [
       "  DBs for Q:spider_dev_q936_idx9:   0%|          | 0/166 [00:00<?, ?it/s]"
      ]
     },
     "metadata": {},
     "output_type": "display_data"
    },
    {
     "name": "stdout",
     "output_type": "stream",
     "text": [
      "\n",
      "Processing Query 938/1034 (ID: spider_dev_q937_idx937): 'What is the age of the oldest dog?' (True DB: dog_kennels)\n"
     ]
    },
    {
     "data": {
      "application/vnd.jupyter.widget-view+json": {
       "model_id": "d92d2155fc6a4b4abdc29b7c37b4a272",
       "version_major": 2,
       "version_minor": 0
      },
      "text/plain": [
       "  DBs for Q:spider_dev_q937_idx9:   0%|          | 0/166 [00:00<?, ?it/s]"
      ]
     },
     "metadata": {},
     "output_type": "display_data"
    },
    {
     "name": "stdout",
     "output_type": "stream",
     "text": [
      "\n",
      "Processing Query 939/1034 (ID: spider_dev_q938_idx938): 'how many countries are in Asia?' (True DB: world_1)\n"
     ]
    },
    {
     "data": {
      "application/vnd.jupyter.widget-view+json": {
       "model_id": "bd0f7fbe11f247a6812c4b93fee15bdc",
       "version_major": 2,
       "version_minor": 0
      },
      "text/plain": [
       "  DBs for Q:spider_dev_q938_idx9:   0%|          | 0/166 [00:00<?, ?it/s]"
      ]
     },
     "metadata": {},
     "output_type": "display_data"
    },
    {
     "name": "stdout",
     "output_type": "stream",
     "text": [
      "\n",
      "Processing Query 940/1034 (ID: spider_dev_q939_idx939): 'What is the total number of countries where Spanish is spoken by the largest percentage of people?' (True DB: world_1)\n"
     ]
    },
    {
     "data": {
      "application/vnd.jupyter.widget-view+json": {
       "model_id": "dc305feee3fa4d82be27f8245da2c24f",
       "version_major": 2,
       "version_minor": 0
      },
      "text/plain": [
       "  DBs for Q:spider_dev_q939_idx9:   0%|          | 0/166 [00:00<?, ?it/s]"
      ]
     },
     "metadata": {},
     "output_type": "display_data"
    },
    {
     "name": "stdout",
     "output_type": "stream",
     "text": [
      "\n",
      "Processing Query 941/1034 (ID: spider_dev_q940_idx940): 'Return the nationalities for which there are two or more people.' (True DB: poker_player)\n"
     ]
    },
    {
     "data": {
      "application/vnd.jupyter.widget-view+json": {
       "model_id": "ca008e2446404a0d8a2da05e2fd10481",
       "version_major": 2,
       "version_minor": 0
      },
      "text/plain": [
       "  DBs for Q:spider_dev_q940_idx9:   0%|          | 0/166 [00:00<?, ?it/s]"
      ]
     },
     "metadata": {},
     "output_type": "display_data"
    },
    {
     "name": "stdout",
     "output_type": "stream",
     "text": [
      "\n",
      "Processing Query 942/1034 (ID: spider_dev_q941_idx941): 'Show the date and id of the transcript with at least 2 course results.' (True DB: student_transcripts_tracking)\n"
     ]
    },
    {
     "data": {
      "application/vnd.jupyter.widget-view+json": {
       "model_id": "347cb32c9cd04879967dc3346833dcab",
       "version_major": 2,
       "version_minor": 0
      },
      "text/plain": [
       "  DBs for Q:spider_dev_q941_idx9:   0%|          | 0/166 [00:00<?, ?it/s]"
      ]
     },
     "metadata": {},
     "output_type": "display_data"
    },
    {
     "name": "stdout",
     "output_type": "stream",
     "text": [
      "\n",
      "Processing Query 943/1034 (ID: spider_dev_q942_idx942): 'Find the maximum weight for each type of pet. List the maximum weight and pet type.' (True DB: pets_1)\n"
     ]
    },
    {
     "data": {
      "application/vnd.jupyter.widget-view+json": {
       "model_id": "c48ffe74e22a480e89cc810d29d7b15f",
       "version_major": 2,
       "version_minor": 0
      },
      "text/plain": [
       "  DBs for Q:spider_dev_q942_idx9:   0%|          | 0/166 [00:00<?, ?it/s]"
      ]
     },
     "metadata": {},
     "output_type": "display_data"
    },
    {
     "name": "stdout",
     "output_type": "stream",
     "text": [
      "\n",
      "Processing Query 944/1034 (ID: spider_dev_q943_idx943): 'What is the total number of people living in the nations that do not use English?' (True DB: world_1)\n"
     ]
    },
    {
     "data": {
      "application/vnd.jupyter.widget-view+json": {
       "model_id": "f07bf92f981e441380b5376408dc5a81",
       "version_major": 2,
       "version_minor": 0
      },
      "text/plain": [
       "  DBs for Q:spider_dev_q943_idx9:   0%|          | 0/166 [00:00<?, ?it/s]"
      ]
     },
     "metadata": {},
     "output_type": "display_data"
    },
    {
     "name": "stdout",
     "output_type": "stream",
     "text": [
      "\n",
      "Processing Query 945/1034 (ID: spider_dev_q944_idx944): 'Count the number of high schoolers in grades 9 or 10.' (True DB: network_1)\n"
     ]
    },
    {
     "data": {
      "application/vnd.jupyter.widget-view+json": {
       "model_id": "e27f4998b5984423916c81898cd84f6e",
       "version_major": 2,
       "version_minor": 0
      },
      "text/plain": [
       "  DBs for Q:spider_dev_q944_idx9:   0%|          | 0/166 [00:00<?, ?it/s]"
      ]
     },
     "metadata": {},
     "output_type": "display_data"
    },
    {
     "name": "stdout",
     "output_type": "stream",
     "text": [
      "\n",
      "Processing Query 946/1034 (ID: spider_dev_q945_idx945): 'Which African countries have a smaller population than that of any country in Asia?' (True DB: world_1)\n"
     ]
    },
    {
     "data": {
      "application/vnd.jupyter.widget-view+json": {
       "model_id": "c7a0ef1290374e55ad7a47f26ac9fc37",
       "version_major": 2,
       "version_minor": 0
      },
      "text/plain": [
       "  DBs for Q:spider_dev_q945_idx9:   0%|          | 0/166 [00:00<?, ?it/s]"
      ]
     },
     "metadata": {},
     "output_type": "display_data"
    },
    {
     "name": "stdout",
     "output_type": "stream",
     "text": [
      "\n",
      "Processing Query 947/1034 (ID: spider_dev_q946_idx946): 'What are the different years in which there were cars produced that weighed less than 4000 and also cars that weighted more than 3000 ?' (True DB: car_1)\n"
     ]
    },
    {
     "data": {
      "application/vnd.jupyter.widget-view+json": {
       "model_id": "4259aa7856824f799af0a43fb7ad4295",
       "version_major": 2,
       "version_minor": 0
      },
      "text/plain": [
       "  DBs for Q:spider_dev_q946_idx9:   0%|          | 0/166 [00:00<?, ?it/s]"
      ]
     },
     "metadata": {},
     "output_type": "display_data"
    },
    {
     "name": "stdout",
     "output_type": "stream",
     "text": [
      "\n",
      "Processing Query 948/1034 (ID: spider_dev_q947_idx947): 'What are the towns from which at least two teachers come from?' (True DB: course_teach)\n"
     ]
    },
    {
     "data": {
      "application/vnd.jupyter.widget-view+json": {
       "model_id": "f013715564714232ae6745561847530a",
       "version_major": 2,
       "version_minor": 0
      },
      "text/plain": [
       "  DBs for Q:spider_dev_q947_idx9:   0%|          | 0/166 [00:00<?, ?it/s]"
      ]
     },
     "metadata": {},
     "output_type": "display_data"
    },
    {
     "name": "stdout",
     "output_type": "stream",
     "text": [
      "\n",
      "Processing Query 949/1034 (ID: spider_dev_q948_idx948): 'Return the grade that has the greatest number of high schoolers.' (True DB: network_1)\n"
     ]
    },
    {
     "data": {
      "application/vnd.jupyter.widget-view+json": {
       "model_id": "24bbd0cfed9644608fdb94ab87e45566",
       "version_major": 2,
       "version_minor": 0
      },
      "text/plain": [
       "  DBs for Q:spider_dev_q948_idx9:   0%|          | 0/166 [00:00<?, ?it/s]"
      ]
     },
     "metadata": {},
     "output_type": "display_data"
    },
    {
     "name": "stdout",
     "output_type": "stream",
     "text": [
      "\n",
      "Processing Query 950/1034 (ID: spider_dev_q949_idx949): 'Find the districts in which there are both shops selling less than 3000 products and shops selling more than 10000 products.' (True DB: employee_hire_evaluation)\n"
     ]
    },
    {
     "data": {
      "application/vnd.jupyter.widget-view+json": {
       "model_id": "84c1cf20c4a24bdebc89aa93ff47e223",
       "version_major": 2,
       "version_minor": 0
      },
      "text/plain": [
       "  DBs for Q:spider_dev_q949_idx9:   0%|          | 0/166 [00:00<?, ?it/s]"
      ]
     },
     "metadata": {},
     "output_type": "display_data"
    },
    {
     "name": "stdout",
     "output_type": "stream",
     "text": [
      "\n",
      "Processing Query 951/1034 (ID: spider_dev_q950_idx950): 'What are the names of singers ordered by ascending net worth?' (True DB: singer)\n"
     ]
    },
    {
     "data": {
      "application/vnd.jupyter.widget-view+json": {
       "model_id": "47501541b62e44ae9cf0fe3335ec3d69",
       "version_major": 2,
       "version_minor": 0
      },
      "text/plain": [
       "  DBs for Q:spider_dev_q950_idx9:   0%|          | 0/166 [00:00<?, ?it/s]"
      ]
     },
     "metadata": {},
     "output_type": "display_data"
    },
    {
     "name": "stdout",
     "output_type": "stream",
     "text": [
      "\n",
      "Processing Query 952/1034 (ID: spider_dev_q951_idx951): 'What are the names of tournaments that have more than 10 matches?' (True DB: wta_1)\n"
     ]
    },
    {
     "data": {
      "application/vnd.jupyter.widget-view+json": {
       "model_id": "6dbb4ae16c174d95abcee6b241f53b4a",
       "version_major": 2,
       "version_minor": 0
      },
      "text/plain": [
       "  DBs for Q:spider_dev_q951_idx9:   0%|          | 0/166 [00:00<?, ?it/s]"
      ]
     },
     "metadata": {},
     "output_type": "display_data"
    },
    {
     "name": "stdout",
     "output_type": "stream",
     "text": [
      "\n",
      "Processing Query 953/1034 (ID: spider_dev_q952_idx952): 'How many pets are owned by students that have an age greater than 20?' (True DB: pets_1)\n"
     ]
    },
    {
     "data": {
      "application/vnd.jupyter.widget-view+json": {
       "model_id": "6d108dec530647d2bb5ff41772ce7d9a",
       "version_major": 2,
       "version_minor": 0
      },
      "text/plain": [
       "  DBs for Q:spider_dev_q952_idx9:   0%|          | 0/166 [00:00<?, ?it/s]"
      ]
     },
     "metadata": {},
     "output_type": "display_data"
    },
    {
     "name": "stdout",
     "output_type": "stream",
     "text": [
      "\n",
      "Processing Query 954/1034 (ID: spider_dev_q953_idx953): 'What are the first, middle, and last names, along with the ids, of all students who enrolled in 2 degree programs in one semester?' (True DB: student_transcripts_tracking)\n"
     ]
    },
    {
     "data": {
      "application/vnd.jupyter.widget-view+json": {
       "model_id": "f0a4528958bc4a1ca98312c965f8b036",
       "version_major": 2,
       "version_minor": 0
      },
      "text/plain": [
       "  DBs for Q:spider_dev_q953_idx9:   0%|          | 0/166 [00:00<?, ?it/s]"
      ]
     },
     "metadata": {},
     "output_type": "display_data"
    },
    {
     "name": "stdout",
     "output_type": "stream",
     "text": [
      "\n",
      "Processing Query 955/1034 (ID: spider_dev_q954_idx954): 'Find all airlines that have fewer than 200 flights.' (True DB: flight_2)\n"
     ]
    },
    {
     "data": {
      "application/vnd.jupyter.widget-view+json": {
       "model_id": "5c45bab965bc4a4e9c0ae39688ae147b",
       "version_major": 2,
       "version_minor": 0
      },
      "text/plain": [
       "  DBs for Q:spider_dev_q954_idx9:   0%|          | 0/166 [00:00<?, ?it/s]"
      ]
     },
     "metadata": {},
     "output_type": "display_data"
    },
    {
     "name": "stdout",
     "output_type": "stream",
     "text": [
      "\n",
      "Processing Query 956/1034 (ID: spider_dev_q955_idx955): 'What are the different addresses that have students living there?' (True DB: student_transcripts_tracking)\n"
     ]
    },
    {
     "data": {
      "application/vnd.jupyter.widget-view+json": {
       "model_id": "2fd05a772a464c49a047b8ffa41ef0c6",
       "version_major": 2,
       "version_minor": 0
      },
      "text/plain": [
       "  DBs for Q:spider_dev_q955_idx9:   0%|          | 0/166 [00:00<?, ?it/s]"
      ]
     },
     "metadata": {},
     "output_type": "display_data"
    },
    {
     "name": "stdout",
     "output_type": "stream",
     "text": [
      "\n",
      "Processing Query 957/1034 (ID: spider_dev_q956_idx956): 'What are the email, cell phone and home phone of each professional?' (True DB: dog_kennels)\n"
     ]
    },
    {
     "data": {
      "application/vnd.jupyter.widget-view+json": {
       "model_id": "912dd193b60a435a89b63762e5af0d26",
       "version_major": 2,
       "version_minor": 0
      },
      "text/plain": [
       "  DBs for Q:spider_dev_q956_idx9:   0%|          | 0/166 [00:00<?, ?it/s]"
      ]
     },
     "metadata": {},
     "output_type": "display_data"
    },
    {
     "name": "stdout",
     "output_type": "stream",
     "text": [
      "\n",
      "Processing Query 958/1034 (ID: spider_dev_q957_idx957): 'What are the names of the teachers and how many courses do they teach?' (True DB: course_teach)\n"
     ]
    },
    {
     "data": {
      "application/vnd.jupyter.widget-view+json": {
       "model_id": "9e75d3371fd04b46aef8cc7239b4666d",
       "version_major": 2,
       "version_minor": 0
      },
      "text/plain": [
       "  DBs for Q:spider_dev_q957_idx9:   0%|          | 0/166 [00:00<?, ?it/s]"
      ]
     },
     "metadata": {},
     "output_type": "display_data"
    },
    {
     "name": "stdout",
     "output_type": "stream",
     "text": [
      "\n",
      "Processing Query 959/1034 (ID: spider_dev_q958_idx958): 'What are the languages used by the least number of TV Channels and how many channels use it?' (True DB: tvshow)\n"
     ]
    },
    {
     "data": {
      "application/vnd.jupyter.widget-view+json": {
       "model_id": "37ac150d47c3440b97a7cb67822ffdde",
       "version_major": 2,
       "version_minor": 0
      },
      "text/plain": [
       "  DBs for Q:spider_dev_q958_idx9:   0%|          | 0/166 [00:00<?, ?it/s]"
      ]
     },
     "metadata": {},
     "output_type": "display_data"
    },
    {
     "name": "stdout",
     "output_type": "stream",
     "text": [
      "\n",
      "Processing Query 960/1034 (ID: spider_dev_q959_idx959): 'What is the degree summary name that has the most number of students enrolled?' (True DB: student_transcripts_tracking)\n"
     ]
    },
    {
     "data": {
      "application/vnd.jupyter.widget-view+json": {
       "model_id": "b9843f0e27644d04a1060d356e4e3e15",
       "version_major": 2,
       "version_minor": 0
      },
      "text/plain": [
       "  DBs for Q:spider_dev_q959_idx9:   0%|          | 0/166 [00:00<?, ?it/s]"
      ]
     },
     "metadata": {},
     "output_type": "display_data"
    },
    {
     "name": "stdout",
     "output_type": "stream",
     "text": [
      "\n",
      "Processing Query 961/1034 (ID: spider_dev_q960_idx960): 'What are the population, name and leader of the country with the largest area?' (True DB: world_1)\n"
     ]
    },
    {
     "data": {
      "application/vnd.jupyter.widget-view+json": {
       "model_id": "d2b7e88f8cbd425a8dadc2a34a0d13a2",
       "version_major": 2,
       "version_minor": 0
      },
      "text/plain": [
       "  DBs for Q:spider_dev_q960_idx9:   0%|          | 0/166 [00:00<?, ?it/s]"
      ]
     },
     "metadata": {},
     "output_type": "display_data"
    },
    {
     "name": "stdout",
     "output_type": "stream",
     "text": [
      "\n",
      "Processing Query 962/1034 (ID: spider_dev_q961_idx961): 'Find the owner id and zip code of the owner who spent the most money in total for his or her dogs.' (True DB: dog_kennels)\n"
     ]
    },
    {
     "data": {
      "application/vnd.jupyter.widget-view+json": {
       "model_id": "5227cc7c4e574cf09ba96ce44c732f6b",
       "version_major": 2,
       "version_minor": 0
      },
      "text/plain": [
       "  DBs for Q:spider_dev_q961_idx9:   0%|          | 0/166 [00:00<?, ?it/s]"
      ]
     },
     "metadata": {},
     "output_type": "display_data"
    },
    {
     "name": "stdout",
     "output_type": "stream",
     "text": [
      "\n",
      "Processing Query 963/1034 (ID: spider_dev_q962_idx962): 'Whose permanent address is different from his or her current address? List his or her first name.' (True DB: student_transcripts_tracking)\n"
     ]
    },
    {
     "data": {
      "application/vnd.jupyter.widget-view+json": {
       "model_id": "0f089b814b59437dafeba0745c9532de",
       "version_major": 2,
       "version_minor": 0
      },
      "text/plain": [
       "  DBs for Q:spider_dev_q962_idx9:   0%|          | 0/166 [00:00<?, ?it/s]"
      ]
     },
     "metadata": {},
     "output_type": "display_data"
    },
    {
     "name": "stdout",
     "output_type": "stream",
     "text": [
      "\n",
      "Processing Query 964/1034 (ID: spider_dev_q963_idx963): 'Find the name and location of the stadiums which some concerts happened in the years of both 2014 and 2015.' (True DB: concert_singer)\n"
     ]
    },
    {
     "data": {
      "application/vnd.jupyter.widget-view+json": {
       "model_id": "f393f87bb0644dc58a4c06c32f609096",
       "version_major": 2,
       "version_minor": 0
      },
      "text/plain": [
       "  DBs for Q:spider_dev_q963_idx9:   0%|          | 0/166 [00:00<?, ?it/s]"
      ]
     },
     "metadata": {},
     "output_type": "display_data"
    },
    {
     "name": "stdout",
     "output_type": "stream",
     "text": [
      "\n",
      "Processing Query 965/1034 (ID: spider_dev_q964_idx964): 'What is the maximum accelerate for different number of cylinders?' (True DB: car_1)\n"
     ]
    },
    {
     "data": {
      "application/vnd.jupyter.widget-view+json": {
       "model_id": "45bf90aef85245498758b41e20635ae4",
       "version_major": 2,
       "version_minor": 0
      },
      "text/plain": [
       "  DBs for Q:spider_dev_q964_idx9:   0%|          | 0/166 [00:00<?, ?it/s]"
      ]
     },
     "metadata": {},
     "output_type": "display_data"
    },
    {
     "name": "stdout",
     "output_type": "stream",
     "text": [
      "\n",
      "Processing Query 966/1034 (ID: spider_dev_q965_idx965): 'What is the horsepower of the car with the greatest accelerate?' (True DB: car_1)\n"
     ]
    },
    {
     "data": {
      "application/vnd.jupyter.widget-view+json": {
       "model_id": "95c448d70cfd494b8a97ccd610a9a241",
       "version_major": 2,
       "version_minor": 0
      },
      "text/plain": [
       "  DBs for Q:spider_dev_q965_idx9:   0%|          | 0/166 [00:00<?, ?it/s]"
      ]
     },
     "metadata": {},
     "output_type": "display_data"
    },
    {
     "name": "stdout",
     "output_type": "stream",
     "text": [
      "\n",
      "Processing Query 967/1034 (ID: spider_dev_q966_idx966): 'Find the number of dog pets that are raised by female students (with sex F).' (True DB: pets_1)\n"
     ]
    },
    {
     "data": {
      "application/vnd.jupyter.widget-view+json": {
       "model_id": "e0264961dc8d4549bf164536402b31e1",
       "version_major": 2,
       "version_minor": 0
      },
      "text/plain": [
       "  DBs for Q:spider_dev_q966_idx9:   0%|          | 0/166 [00:00<?, ?it/s]"
      ]
     },
     "metadata": {},
     "output_type": "display_data"
    },
    {
     "name": "stdout",
     "output_type": "stream",
     "text": [
      "\n",
      "Processing Query 968/1034 (ID: spider_dev_q967_idx967): 'How many battles did not lose any ship with tonnage '225'?' (True DB: battle_death)\n"
     ]
    },
    {
     "data": {
      "application/vnd.jupyter.widget-view+json": {
       "model_id": "0319accaf90a41f294eeef9d3ce0306b",
       "version_major": 2,
       "version_minor": 0
      },
      "text/plain": [
       "  DBs for Q:spider_dev_q967_idx9:   0%|          | 0/166 [00:00<?, ?it/s]"
      ]
     },
     "metadata": {},
     "output_type": "display_data"
    },
    {
     "name": "stdout",
     "output_type": "stream",
     "text": [
      "\n",
      "Processing Query 969/1034 (ID: spider_dev_q968_idx968): 'Find the average grade of all students who have some friends.' (True DB: network_1)\n"
     ]
    },
    {
     "data": {
      "application/vnd.jupyter.widget-view+json": {
       "model_id": "b3288091f0ed4c2685358c8225fa2ae5",
       "version_major": 2,
       "version_minor": 0
      },
      "text/plain": [
       "  DBs for Q:spider_dev_q968_idx9:   0%|          | 0/166 [00:00<?, ?it/s]"
      ]
     },
     "metadata": {},
     "output_type": "display_data"
    },
    {
     "name": "stdout",
     "output_type": "stream",
     "text": [
      "\n",
      "Processing Query 970/1034 (ID: spider_dev_q969_idx969): 'What are all of the episodes ordered by ratings?' (True DB: tvshow)\n"
     ]
    },
    {
     "data": {
      "application/vnd.jupyter.widget-view+json": {
       "model_id": "b834dfe701b643d2a7da95b88ea5e771",
       "version_major": 2,
       "version_minor": 0
      },
      "text/plain": [
       "  DBs for Q:spider_dev_q969_idx9:   0%|          | 0/166 [00:00<?, ?it/s]"
      ]
     },
     "metadata": {},
     "output_type": "display_data"
    },
    {
     "name": "stdout",
     "output_type": "stream",
     "text": [
      "\n",
      "Processing Query 971/1034 (ID: spider_dev_q970_idx970): 'Find the number of professionals who have not treated any dogs.' (True DB: dog_kennels)\n"
     ]
    },
    {
     "data": {
      "application/vnd.jupyter.widget-view+json": {
       "model_id": "b87e306a3f204a5bab9cc04d61418606",
       "version_major": 2,
       "version_minor": 0
      },
      "text/plain": [
       "  DBs for Q:spider_dev_q970_idx9:   0%|          | 0/166 [00:00<?, ?it/s]"
      ]
     },
     "metadata": {},
     "output_type": "display_data"
    },
    {
     "name": "stdout",
     "output_type": "stream",
     "text": [
      "\n",
      "Processing Query 972/1034 (ID: spider_dev_q971_idx971): 'What is the largest amount of horsepower for the models with 3 cylinders and what make is it?' (True DB: car_1)\n"
     ]
    },
    {
     "data": {
      "application/vnd.jupyter.widget-view+json": {
       "model_id": "4d44ab4dc37f4692b184a0e1bf2b6fd3",
       "version_major": 2,
       "version_minor": 0
      },
      "text/plain": [
       "  DBs for Q:spider_dev_q971_idx9:   0%|          | 0/166 [00:00<?, ?it/s]"
      ]
     },
     "metadata": {},
     "output_type": "display_data"
    },
    {
     "name": "stdout",
     "output_type": "stream",
     "text": [
      "\n",
      "Processing Query 973/1034 (ID: spider_dev_q972_idx972): 'What is the grade of each high schooler?' (True DB: network_1)\n"
     ]
    },
    {
     "data": {
      "application/vnd.jupyter.widget-view+json": {
       "model_id": "336d56cace1a43b0a4df91fee3ce5969",
       "version_major": 2,
       "version_minor": 0
      },
      "text/plain": [
       "  DBs for Q:spider_dev_q972_idx9:   0%|          | 0/166 [00:00<?, ?it/s]"
      ]
     },
     "metadata": {},
     "output_type": "display_data"
    },
    {
     "name": "stdout",
     "output_type": "stream",
     "text": [
      "\n",
      "Processing Query 974/1034 (ID: spider_dev_q973_idx973): 'How many different results are there for the battles?' (True DB: battle_death)\n"
     ]
    },
    {
     "data": {
      "application/vnd.jupyter.widget-view+json": {
       "model_id": "84293e94148c4eeeadc347b3aa8b98b7",
       "version_major": 2,
       "version_minor": 0
      },
      "text/plain": [
       "  DBs for Q:spider_dev_q973_idx9:   0%|          | 0/166 [00:00<?, ?it/s]"
      ]
     },
     "metadata": {},
     "output_type": "display_data"
    },
    {
     "name": "stdout",
     "output_type": "stream",
     "text": [
      "\n",
      "Processing Query 975/1034 (ID: spider_dev_q974_idx974): 'Return the number of  airports.' (True DB: flight_2)\n"
     ]
    },
    {
     "data": {
      "application/vnd.jupyter.widget-view+json": {
       "model_id": "726877f9873247bc81e5ea73e5fd7636",
       "version_major": 2,
       "version_minor": 0
      },
      "text/plain": [
       "  DBs for Q:spider_dev_q974_idx9:   0%|          | 0/166 [00:00<?, ?it/s]"
      ]
     },
     "metadata": {},
     "output_type": "display_data"
    },
    {
     "name": "stdout",
     "output_type": "stream",
     "text": [
      "\n",
      "Processing Query 976/1034 (ID: spider_dev_q975_idx975): 'Find the last name of the student who has a cat that is age 3.' (True DB: pets_1)\n"
     ]
    },
    {
     "data": {
      "application/vnd.jupyter.widget-view+json": {
       "model_id": "5eb0e57c51904e38a67bb59e98254e02",
       "version_major": 2,
       "version_minor": 0
      },
      "text/plain": [
       "  DBs for Q:spider_dev_q975_idx9:   0%|          | 0/166 [00:00<?, ?it/s]"
      ]
     },
     "metadata": {},
     "output_type": "display_data"
    },
    {
     "name": "stdout",
     "output_type": "stream",
     "text": [
      "\n",
      "Processing Query 977/1034 (ID: spider_dev_q976_idx976): 'List the title of all cartoons in alphabetical order.' (True DB: tvshow)\n"
     ]
    },
    {
     "data": {
      "application/vnd.jupyter.widget-view+json": {
       "model_id": "c217edbfbac349dbabd6fd6fe0e8d181",
       "version_major": 2,
       "version_minor": 0
      },
      "text/plain": [
       "  DBs for Q:spider_dev_q976_idx9:   0%|          | 0/166 [00:00<?, ?it/s]"
      ]
     },
     "metadata": {},
     "output_type": "display_data"
    },
    {
     "name": "stdout",
     "output_type": "stream",
     "text": [
      "\n",
      "Processing Query 978/1034 (ID: spider_dev_q977_idx977): 'What are all the song names by singers who are older than average?' (True DB: concert_singer)\n"
     ]
    },
    {
     "data": {
      "application/vnd.jupyter.widget-view+json": {
       "model_id": "0dc7a039b2a4411aa566c4337d7420d8",
       "version_major": 2,
       "version_minor": 0
      },
      "text/plain": [
       "  DBs for Q:spider_dev_q977_idx9:   0%|          | 0/166 [00:00<?, ?it/s]"
      ]
     },
     "metadata": {},
     "output_type": "display_data"
    },
    {
     "name": "stdout",
     "output_type": "stream",
     "text": [
      "\n",
      "Processing Query 979/1034 (ID: spider_dev_q978_idx978): 'What is the version number and template type code for the template with version number later than 5?' (True DB: cre_Doc_Template_Mgt)\n"
     ]
    },
    {
     "data": {
      "application/vnd.jupyter.widget-view+json": {
       "model_id": "4d1fba8e74a44e7394962d2f1db4264e",
       "version_major": 2,
       "version_minor": 0
      },
      "text/plain": [
       "  DBs for Q:spider_dev_q978_idx9:   0%|          | 0/166 [00:00<?, ?it/s]"
      ]
     },
     "metadata": {},
     "output_type": "display_data"
    },
    {
     "name": "stdout",
     "output_type": "stream",
     "text": [
      "\n",
      "Processing Query 980/1034 (ID: spider_dev_q979_idx979): 'How many car makers are there in each continents? List the continent name and the count.' (True DB: car_1)\n"
     ]
    },
    {
     "data": {
      "application/vnd.jupyter.widget-view+json": {
       "model_id": "1e7fbce9f07b480ea0ae11184e1a620d",
       "version_major": 2,
       "version_minor": 0
      },
      "text/plain": [
       "  DBs for Q:spider_dev_q979_idx9:   0%|          | 0/166 [00:00<?, ?it/s]"
      ]
     },
     "metadata": {},
     "output_type": "display_data"
    },
    {
     "name": "stdout",
     "output_type": "stream",
     "text": [
      "\n",
      "Processing Query 981/1034 (ID: spider_dev_q980_idx980): 'Which professionals have operated a treatment that costs less than the average? Give me theor first names and last names.' (True DB: dog_kennels)\n"
     ]
    },
    {
     "data": {
      "application/vnd.jupyter.widget-view+json": {
       "model_id": "6569e0cd7da048ba8c684ef50b29f466",
       "version_major": 2,
       "version_minor": 0
      },
      "text/plain": [
       "  DBs for Q:spider_dev_q980_idx9:   0%|          | 0/166 [00:00<?, ?it/s]"
      ]
     },
     "metadata": {},
     "output_type": "display_data"
    },
    {
     "name": "stdout",
     "output_type": "stream",
     "text": [
      "\n",
      "Processing Query 982/1034 (ID: spider_dev_q981_idx981): 'What are the codes of template types that are not used for any document?' (True DB: cre_Doc_Template_Mgt)\n"
     ]
    },
    {
     "data": {
      "application/vnd.jupyter.widget-view+json": {
       "model_id": "a8eab69578524ac2b2ca83a86b518e70",
       "version_major": 2,
       "version_minor": 0
      },
      "text/plain": [
       "  DBs for Q:spider_dev_q981_idx9:   0%|          | 0/166 [00:00<?, ?it/s]"
      ]
     },
     "metadata": {},
     "output_type": "display_data"
    },
    {
     "name": "stdout",
     "output_type": "stream",
     "text": [
      "\n",
      "Processing Query 983/1034 (ID: spider_dev_q982_idx982): 'How many flights depart from 'APG'?' (True DB: flight_2)\n"
     ]
    },
    {
     "data": {
      "application/vnd.jupyter.widget-view+json": {
       "model_id": "cb2d8b362bc34cf8a3c6dc17782efb7f",
       "version_major": 2,
       "version_minor": 0
      },
      "text/plain": [
       "  DBs for Q:spider_dev_q982_idx9:   0%|          | 0/166 [00:00<?, ?it/s]"
      ]
     },
     "metadata": {},
     "output_type": "display_data"
    },
    {
     "name": "stdout",
     "output_type": "stream",
     "text": [
      "\n",
      "Processing Query 984/1034 (ID: spider_dev_q983_idx983): 'Sort employee names by their age in ascending order.' (True DB: employee_hire_evaluation)\n"
     ]
    },
    {
     "data": {
      "application/vnd.jupyter.widget-view+json": {
       "model_id": "98353f9688974516ae85f685172a6da0",
       "version_major": 2,
       "version_minor": 0
      },
      "text/plain": [
       "  DBs for Q:spider_dev_q983_idx9:   0%|          | 0/166 [00:00<?, ?it/s]"
      ]
     },
     "metadata": {},
     "output_type": "display_data"
    },
    {
     "name": "stdout",
     "output_type": "stream",
     "text": [
      "\n",
      "Processing Query 985/1034 (ID: spider_dev_q984_idx984): 'Give the mean GNP and total population of nations which are considered US territory.' (True DB: world_1)\n"
     ]
    },
    {
     "data": {
      "application/vnd.jupyter.widget-view+json": {
       "model_id": "e8f1eff2bfa946d9aa7bf1f6f874b61b",
       "version_major": 2,
       "version_minor": 0
      },
      "text/plain": [
       "  DBs for Q:spider_dev_q984_idx9:   0%|          | 0/166 [00:00<?, ?it/s]"
      ]
     },
     "metadata": {},
     "output_type": "display_data"
    },
    {
     "name": "stdout",
     "output_type": "stream",
     "text": [
      "\n",
      "Processing Query 986/1034 (ID: spider_dev_q985_idx985): 'Which continent is Anguilla in?' (True DB: world_1)\n"
     ]
    },
    {
     "data": {
      "application/vnd.jupyter.widget-view+json": {
       "model_id": "ae1f54e4bc874e8a8607db4699b2794c",
       "version_major": 2,
       "version_minor": 0
      },
      "text/plain": [
       "  DBs for Q:spider_dev_q985_idx9:   0%|          | 0/166 [00:00<?, ?it/s]"
      ]
     },
     "metadata": {},
     "output_type": "display_data"
    },
    {
     "name": "stdout",
     "output_type": "stream",
     "text": [
      "\n",
      "Processing Query 987/1034 (ID: spider_dev_q986_idx986): 'List the earnings of poker players in descending order.' (True DB: poker_player)\n"
     ]
    },
    {
     "data": {
      "application/vnd.jupyter.widget-view+json": {
       "model_id": "756ddf76651f437daf778b1d3c6431f9",
       "version_major": 2,
       "version_minor": 0
      },
      "text/plain": [
       "  DBs for Q:spider_dev_q986_idx9:   0%|          | 0/166 [00:00<?, ?it/s]"
      ]
     },
     "metadata": {},
     "output_type": "display_data"
    },
    {
     "name": "stdout",
     "output_type": "stream",
     "text": [
      "\n",
      "Processing Query 988/1034 (ID: spider_dev_q987_idx987): 'What is the maximum horsepower and the make of the car models with 3 cylinders?' (True DB: car_1)\n"
     ]
    },
    {
     "data": {
      "application/vnd.jupyter.widget-view+json": {
       "model_id": "33fd7454b3134f38bfdae3d915c9c9c5",
       "version_major": 2,
       "version_minor": 0
      },
      "text/plain": [
       "  DBs for Q:spider_dev_q987_idx9:   0%|          | 0/166 [00:00<?, ?it/s]"
      ]
     },
     "metadata": {},
     "output_type": "display_data"
    },
    {
     "name": "stdout",
     "output_type": "stream",
     "text": [
      "\n",
      "Processing Query 989/1034 (ID: spider_dev_q988_idx988): 'What are the country codes of the different countries, and what are the languages spoken by the greatest percentage of people for each?' (True DB: world_1)\n"
     ]
    },
    {
     "data": {
      "application/vnd.jupyter.widget-view+json": {
       "model_id": "9c89b064f20e4c5d8bc2aaa0de97eb66",
       "version_major": 2,
       "version_minor": 0
      },
      "text/plain": [
       "  DBs for Q:spider_dev_q988_idx9:   0%|          | 0/166 [00:00<?, ?it/s]"
      ]
     },
     "metadata": {},
     "output_type": "display_data"
    },
    {
     "name": "stdout",
     "output_type": "stream",
     "text": [
      "\n",
      "Processing Query 990/1034 (ID: spider_dev_q989_idx989): 'find the name of employee who was awarded the most times in the evaluation.' (True DB: employee_hire_evaluation)\n"
     ]
    },
    {
     "data": {
      "application/vnd.jupyter.widget-view+json": {
       "model_id": "9a3b5798ebfd4b37a14873fa8a1a3650",
       "version_major": 2,
       "version_minor": 0
      },
      "text/plain": [
       "  DBs for Q:spider_dev_q989_idx9:   0%|          | 0/166 [00:00<?, ?it/s]"
      ]
     },
     "metadata": {},
     "output_type": "display_data"
    },
    {
     "name": "stdout",
     "output_type": "stream",
     "text": [
      "\n",
      "Processing Query 991/1034 (ID: spider_dev_q990_idx990): 'How many countries have governments that are republics?' (True DB: world_1)\n"
     ]
    },
    {
     "data": {
      "application/vnd.jupyter.widget-view+json": {
       "model_id": "49b8c3bcf3b045fa950236cf844fbdef",
       "version_major": 2,
       "version_minor": 0
      },
      "text/plain": [
       "  DBs for Q:spider_dev_q990_idx9:   0%|          | 0/166 [00:00<?, ?it/s]"
      ]
     },
     "metadata": {},
     "output_type": "display_data"
    },
    {
     "name": "stdout",
     "output_type": "stream",
     "text": [
      "\n",
      "Processing Query 992/1034 (ID: spider_dev_q991_idx991): 'When was the last transcript released?' (True DB: student_transcripts_tracking)\n"
     ]
    },
    {
     "data": {
      "application/vnd.jupyter.widget-view+json": {
       "model_id": "f4bbd4edb5084212948c4e9a8ba33bc2",
       "version_major": 2,
       "version_minor": 0
      },
      "text/plain": [
       "  DBs for Q:spider_dev_q991_idx9:   0%|          | 0/166 [00:00<?, ?it/s]"
      ]
     },
     "metadata": {},
     "output_type": "display_data"
    },
    {
     "name": "stdout",
     "output_type": "stream",
     "text": [
      "\n",
      "Processing Query 993/1034 (ID: spider_dev_q992_idx992): 'Find the role, street, city and state of the professionals living in a city that contains the substring 'West'.' (True DB: dog_kennels)\n"
     ]
    },
    {
     "data": {
      "application/vnd.jupyter.widget-view+json": {
       "model_id": "8363741a5bf14c8394c45bee3088c66a",
       "version_major": 2,
       "version_minor": 0
      },
      "text/plain": [
       "  DBs for Q:spider_dev_q992_idx9:   0%|          | 0/166 [00:00<?, ?it/s]"
      ]
     },
     "metadata": {},
     "output_type": "display_data"
    },
    {
     "name": "stdout",
     "output_type": "stream",
     "text": [
      "\n",
      "Processing Query 994/1034 (ID: spider_dev_q993_idx993): 'Return the version numbers and template type codes of templates with a version number greater than 5.' (True DB: cre_Doc_Template_Mgt)\n"
     ]
    },
    {
     "data": {
      "application/vnd.jupyter.widget-view+json": {
       "model_id": "de9d79dd758d46d1b95ad09f01ef9167",
       "version_major": 2,
       "version_minor": 0
      },
      "text/plain": [
       "  DBs for Q:spider_dev_q993_idx9:   0%|          | 0/166 [00:00<?, ?it/s]"
      ]
     },
     "metadata": {},
     "output_type": "display_data"
    },
    {
     "name": "stdout",
     "output_type": "stream",
     "text": [
      "\n",
      "Processing Query 995/1034 (ID: spider_dev_q994_idx994): 'Which flight numbers correspond to United Airlines flights?' (True DB: flight_2)\n"
     ]
    },
    {
     "data": {
      "application/vnd.jupyter.widget-view+json": {
       "model_id": "600560fa33964541a77aa5141d5339cc",
       "version_major": 2,
       "version_minor": 0
      },
      "text/plain": [
       "  DBs for Q:spider_dev_q994_idx9:   0%|          | 0/166 [00:00<?, ?it/s]"
      ]
     },
     "metadata": {},
     "output_type": "display_data"
    },
    {
     "name": "stdout",
     "output_type": "stream",
     "text": [
      "\n",
      "Processing Query 996/1034 (ID: spider_dev_q995_idx995): 'What are the names of the teachers whose hometown is not `` Little Lever Urban District '' ?' (True DB: course_teach)\n"
     ]
    },
    {
     "data": {
      "application/vnd.jupyter.widget-view+json": {
       "model_id": "ec96d41513434d33b585dc262c48bbdd",
       "version_major": 2,
       "version_minor": 0
      },
      "text/plain": [
       "  DBs for Q:spider_dev_q995_idx9:   0%|          | 0/166 [00:00<?, ?it/s]"
      ]
     },
     "metadata": {},
     "output_type": "display_data"
    },
    {
     "name": "stdout",
     "output_type": "stream",
     "text": [
      "\n",
      "Processing Query 997/1034 (ID: spider_dev_q996_idx996): 'Show titles of songs and names of singers.' (True DB: singer)\n"
     ]
    },
    {
     "data": {
      "application/vnd.jupyter.widget-view+json": {
       "model_id": "c46350de772c4bba8d15fa18e8e1fb66",
       "version_major": 2,
       "version_minor": 0
      },
      "text/plain": [
       "  DBs for Q:spider_dev_q996_idx9:   0%|          | 0/166 [00:00<?, ?it/s]"
      ]
     },
     "metadata": {},
     "output_type": "display_data"
    },
    {
     "name": "stdout",
     "output_type": "stream",
     "text": [
      "\n",
      "Processing Query 998/1034 (ID: spider_dev_q997_idx997): 'What are the average and maximum number of tickets bought in all visits?' (True DB: museum_visit)\n"
     ]
    },
    {
     "data": {
      "application/vnd.jupyter.widget-view+json": {
       "model_id": "e21c6be22bab43abb349b0fc64f6a63e",
       "version_major": 2,
       "version_minor": 0
      },
      "text/plain": [
       "  DBs for Q:spider_dev_q997_idx9:   0%|          | 0/166 [00:00<?, ?it/s]"
      ]
     },
     "metadata": {},
     "output_type": "display_data"
    },
    {
     "name": "stdout",
     "output_type": "stream",
     "text": [
      "\n",
      "Processing Query 999/1034 (ID: spider_dev_q998_idx998): 'What is the first name and gender of the all the students who have more than one pet?' (True DB: pets_1)\n"
     ]
    },
    {
     "data": {
      "application/vnd.jupyter.widget-view+json": {
       "model_id": "69a2248a0aeb45959139114b28f7b12b",
       "version_major": 2,
       "version_minor": 0
      },
      "text/plain": [
       "  DBs for Q:spider_dev_q998_idx9:   0%|          | 0/166 [00:00<?, ?it/s]"
      ]
     },
     "metadata": {},
     "output_type": "display_data"
    },
    {
     "name": "stdout",
     "output_type": "stream",
     "text": [
      "\n",
      "Processing Query 1000/1034 (ID: spider_dev_q999_idx999): 'Count the number of employees' (True DB: employee_hire_evaluation)\n"
     ]
    },
    {
     "data": {
      "application/vnd.jupyter.widget-view+json": {
       "model_id": "7602962687b741159ca44926f2d67a7a",
       "version_major": 2,
       "version_minor": 0
      },
      "text/plain": [
       "  DBs for Q:spider_dev_q999_idx9:   0%|          | 0/166 [00:00<?, ?it/s]"
      ]
     },
     "metadata": {},
     "output_type": "display_data"
    },
    {
     "name": "stdout",
     "output_type": "stream",
     "text": [
      "\n",
      "Processing Query 1001/1034 (ID: spider_dev_q1000_idx1000): 'Which dogs have not cost their owner more than 1000 for treatment ? List the dog names .' (True DB: dog_kennels)\n"
     ]
    },
    {
     "data": {
      "application/vnd.jupyter.widget-view+json": {
       "model_id": "4a9413f9ae714357ba651a5e60288da4",
       "version_major": 2,
       "version_minor": 0
      },
      "text/plain": [
       "  DBs for Q:spider_dev_q1000_idx:   0%|          | 0/166 [00:00<?, ?it/s]"
      ]
     },
     "metadata": {},
     "output_type": "display_data"
    },
    {
     "name": "stdout",
     "output_type": "stream",
     "text": [
      "\n",
      "Processing Query 1002/1034 (ID: spider_dev_q1001_idx1001): 'Return the country name and the numbers of languages spoken for each country that speaks at least 3 languages.' (True DB: world_1)\n"
     ]
    },
    {
     "data": {
      "application/vnd.jupyter.widget-view+json": {
       "model_id": "bddf24ed6c1d4d3eb8836ca9ff29e3d1",
       "version_major": 2,
       "version_minor": 0
      },
      "text/plain": [
       "  DBs for Q:spider_dev_q1001_idx:   0%|          | 0/166 [00:00<?, ?it/s]"
      ]
     },
     "metadata": {},
     "output_type": "display_data"
    },
    {
     "name": "stdout",
     "output_type": "stream",
     "text": [
      "\n",
      "Processing Query 1003/1034 (ID: spider_dev_q1002_idx1002): 'Who is enrolled in a Bachelor degree program? List the first name, middle name, last name.' (True DB: student_transcripts_tracking)\n"
     ]
    },
    {
     "data": {
      "application/vnd.jupyter.widget-view+json": {
       "model_id": "4234dd9bb1d544f09ad1a8f8d9d5dccc",
       "version_major": 2,
       "version_minor": 0
      },
      "text/plain": [
       "  DBs for Q:spider_dev_q1002_idx:   0%|          | 0/166 [00:00<?, ?it/s]"
      ]
     },
     "metadata": {},
     "output_type": "display_data"
    },
    {
     "name": "stdout",
     "output_type": "stream",
     "text": [
      "\n",
      "Processing Query 1004/1034 (ID: spider_dev_q1003_idx1003): 'What are all the possible breed type and size type combinations?' (True DB: dog_kennels)\n"
     ]
    },
    {
     "data": {
      "application/vnd.jupyter.widget-view+json": {
       "model_id": "10c7f1c72cdf432188549d8956b2e22f",
       "version_major": 2,
       "version_minor": 0
      },
      "text/plain": [
       "  DBs for Q:spider_dev_q1003_idx:   0%|          | 0/166 [00:00<?, ?it/s]"
      ]
     },
     "metadata": {},
     "output_type": "display_data"
    },
    {
     "name": "stdout",
     "output_type": "stream",
     "text": [
      "\n",
      "Processing Query 1005/1034 (ID: spider_dev_q1004_idx1004): 'Who is the earliest graduate of the school? List the first name, middle name and last name.' (True DB: student_transcripts_tracking)\n"
     ]
    },
    {
     "data": {
      "application/vnd.jupyter.widget-view+json": {
       "model_id": "2996ed10a8984e12bb00a535671598cc",
       "version_major": 2,
       "version_minor": 0
      },
      "text/plain": [
       "  DBs for Q:spider_dev_q1004_idx:   0%|          | 0/166 [00:00<?, ?it/s]"
      ]
     },
     "metadata": {},
     "output_type": "display_data"
    },
    {
     "name": "stdout",
     "output_type": "stream",
     "text": [
      "\n",
      "Processing Query 1006/1034 (ID: spider_dev_q1005_idx1005): 'What are the titles of all cartoons directed by Ben Jones or Brandon Vietti?' (True DB: tvshow)\n"
     ]
    },
    {
     "data": {
      "application/vnd.jupyter.widget-view+json": {
       "model_id": "b777054d7d8b49e1862dc67145f360db",
       "version_major": 2,
       "version_minor": 0
      },
      "text/plain": [
       "  DBs for Q:spider_dev_q1005_idx:   0%|          | 0/166 [00:00<?, ?it/s]"
      ]
     },
     "metadata": {},
     "output_type": "display_data"
    },
    {
     "name": "stdout",
     "output_type": "stream",
     "text": [
      "\n",
      "Processing Query 1007/1034 (ID: spider_dev_q1006_idx1006): 'What is the name of the winner who has won the most matches, and how many rank points does this player have?' (True DB: wta_1)\n"
     ]
    },
    {
     "data": {
      "application/vnd.jupyter.widget-view+json": {
       "model_id": "af96d2d3e38043ea9e93095186c3db88",
       "version_major": 2,
       "version_minor": 0
      },
      "text/plain": [
       "  DBs for Q:spider_dev_q1006_idx:   0%|          | 0/166 [00:00<?, ?it/s]"
      ]
     },
     "metadata": {},
     "output_type": "display_data"
    },
    {
     "name": "stdout",
     "output_type": "stream",
     "text": [
      "\n",
      "Processing Query 1008/1034 (ID: spider_dev_q1007_idx1007): 'What are the countries having at least one car maker? List name and id.' (True DB: car_1)\n"
     ]
    },
    {
     "data": {
      "application/vnd.jupyter.widget-view+json": {
       "model_id": "91a33e7e2f4f407e963da7797f302d6b",
       "version_major": 2,
       "version_minor": 0
      },
      "text/plain": [
       "  DBs for Q:spider_dev_q1007_idx:   0%|          | 0/166 [00:00<?, ?it/s]"
      ]
     },
     "metadata": {},
     "output_type": "display_data"
    },
    {
     "name": "stdout",
     "output_type": "stream",
     "text": [
      "\n",
      "Processing Query 1009/1034 (ID: spider_dev_q1008_idx1008): 'Find the first names that are used for professionals or owners but are not used as dog names.' (True DB: dog_kennels)\n"
     ]
    },
    {
     "data": {
      "application/vnd.jupyter.widget-view+json": {
       "model_id": "62dd6eb54bee4c23b503fc5386349509",
       "version_major": 2,
       "version_minor": 0
      },
      "text/plain": [
       "  DBs for Q:spider_dev_q1008_idx:   0%|          | 0/166 [00:00<?, ?it/s]"
      ]
     },
     "metadata": {},
     "output_type": "display_data"
    },
    {
     "name": "stdout",
     "output_type": "stream",
     "text": [
      "\n",
      "Processing Query 1010/1034 (ID: spider_dev_q1009_idx1009): 'Which states have both owners and professionals living there?' (True DB: dog_kennels)\n"
     ]
    },
    {
     "data": {
      "application/vnd.jupyter.widget-view+json": {
       "model_id": "48e6ad794c2c48168fe0cf78ac9c37cd",
       "version_major": 2,
       "version_minor": 0
      },
      "text/plain": [
       "  DBs for Q:spider_dev_q1009_idx:   0%|          | 0/166 [00:00<?, ?it/s]"
      ]
     },
     "metadata": {},
     "output_type": "display_data"
    },
    {
     "name": "stdout",
     "output_type": "stream",
     "text": [
      "\n",
      "Processing Query 1011/1034 (ID: spider_dev_q1010_idx1010): 'What is the name of the high schooler who has the greatest number of friends?' (True DB: network_1)\n"
     ]
    },
    {
     "data": {
      "application/vnd.jupyter.widget-view+json": {
       "model_id": "30af48830148493f819c202b2672ee29",
       "version_major": 2,
       "version_minor": 0
      },
      "text/plain": [
       "  DBs for Q:spider_dev_q1010_idx:   0%|          | 0/166 [00:00<?, ?it/s]"
      ]
     },
     "metadata": {},
     "output_type": "display_data"
    },
    {
     "name": "stdout",
     "output_type": "stream",
     "text": [
      "\n",
      "Processing Query 1012/1034 (ID: spider_dev_q1011_idx1011): 'What are the nationalities that are shared by at least two people?' (True DB: poker_player)\n"
     ]
    },
    {
     "data": {
      "application/vnd.jupyter.widget-view+json": {
       "model_id": "30b03fdf369f428ea005fa11a9ba9f12",
       "version_major": 2,
       "version_minor": 0
      },
      "text/plain": [
       "  DBs for Q:spider_dev_q1011_idx:   0%|          | 0/166 [00:00<?, ?it/s]"
      ]
     },
     "metadata": {},
     "output_type": "display_data"
    },
    {
     "name": "stdout",
     "output_type": "stream",
     "text": [
      "\n",
      "Processing Query 1013/1034 (ID: spider_dev_q1012_idx1012): 'What is the total number of unique official languages spoken in the countries that are founded before 1930?' (True DB: world_1)\n"
     ]
    },
    {
     "data": {
      "application/vnd.jupyter.widget-view+json": {
       "model_id": "883e4e91fc034c53babb98cd108232f5",
       "version_major": 2,
       "version_minor": 0
      },
      "text/plain": [
       "  DBs for Q:spider_dev_q1012_idx:   0%|          | 0/166 [00:00<?, ?it/s]"
      ]
     },
     "metadata": {},
     "output_type": "display_data"
    },
    {
     "name": "stdout",
     "output_type": "stream",
     "text": [
      "\n",
      "Processing Query 1014/1034 (ID: spider_dev_q1013_idx1013): 'What is the average transcript date?' (True DB: student_transcripts_tracking)\n"
     ]
    },
    {
     "data": {
      "application/vnd.jupyter.widget-view+json": {
       "model_id": "b47cd326efdb40828771450618f48aef",
       "version_major": 2,
       "version_minor": 0
      },
      "text/plain": [
       "  DBs for Q:spider_dev_q1013_idx:   0%|          | 0/166 [00:00<?, ?it/s]"
      ]
     },
     "metadata": {},
     "output_type": "display_data"
    },
    {
     "name": "stdout",
     "output_type": "stream",
     "text": [
      "\n",
      "Processing Query 1015/1034 (ID: spider_dev_q1014_idx1014): 'Which cities do more than one employee under age 30 come from?' (True DB: employee_hire_evaluation)\n"
     ]
    },
    {
     "data": {
      "application/vnd.jupyter.widget-view+json": {
       "model_id": "4cecb123a2c24fd5b99871d23365e70d",
       "version_major": 2,
       "version_minor": 0
      },
      "text/plain": [
       "  DBs for Q:spider_dev_q1014_idx:   0%|          | 0/166 [00:00<?, ?it/s]"
      ]
     },
     "metadata": {},
     "output_type": "display_data"
    },
    {
     "name": "stdout",
     "output_type": "stream",
     "text": [
      "\n",
      "Processing Query 1016/1034 (ID: spider_dev_q1015_idx1015): 'What are the last name of the students who live in North Carolina but have not registered in any degree programs?' (True DB: student_transcripts_tracking)\n"
     ]
    },
    {
     "data": {
      "application/vnd.jupyter.widget-view+json": {
       "model_id": "f7cbeb4c77b5483c825fe54fd6707ead",
       "version_major": 2,
       "version_minor": 0
      },
      "text/plain": [
       "  DBs for Q:spider_dev_q1015_idx:   0%|          | 0/166 [00:00<?, ?it/s]"
      ]
     },
     "metadata": {},
     "output_type": "display_data"
    },
    {
     "name": "stdout",
     "output_type": "stream",
     "text": [
      "\n",
      "Processing Query 1017/1034 (ID: spider_dev_q1016_idx1016): 'What are the full names of all players, sorted by birth date?' (True DB: wta_1)\n"
     ]
    },
    {
     "data": {
      "application/vnd.jupyter.widget-view+json": {
       "model_id": "9728171bd4044fe589dc5e8eb2747c42",
       "version_major": 2,
       "version_minor": 0
      },
      "text/plain": [
       "  DBs for Q:spider_dev_q1016_idx:   0%|          | 0/166 [00:00<?, ?it/s]"
      ]
     },
     "metadata": {},
     "output_type": "display_data"
    },
    {
     "name": "stdout",
     "output_type": "stream",
     "text": [
      "\n",
      "Processing Query 1018/1034 (ID: spider_dev_q1017_idx1017): 'What are the birth year and citizenship of singers?' (True DB: singer)\n"
     ]
    },
    {
     "data": {
      "application/vnd.jupyter.widget-view+json": {
       "model_id": "6cfbcfb3b33f4fac832b35a48f8d95c4",
       "version_major": 2,
       "version_minor": 0
      },
      "text/plain": [
       "  DBs for Q:spider_dev_q1017_idx:   0%|          | 0/166 [00:00<?, ?it/s]"
      ]
     },
     "metadata": {},
     "output_type": "display_data"
    },
    {
     "name": "stdout",
     "output_type": "stream",
     "text": [
      "\n",
      "Processing Query 1019/1034 (ID: spider_dev_q1018_idx1018): 'Find the number of matches happened in each year.' (True DB: wta_1)\n"
     ]
    },
    {
     "data": {
      "application/vnd.jupyter.widget-view+json": {
       "model_id": "af40566e430b4bcb889140c1eb94b0eb",
       "version_major": 2,
       "version_minor": 0
      },
      "text/plain": [
       "  DBs for Q:spider_dev_q1018_idx:   0%|          | 0/166 [00:00<?, ?it/s]"
      ]
     },
     "metadata": {},
     "output_type": "display_data"
    },
    {
     "name": "stdout",
     "output_type": "stream",
     "text": [
      "\n",
      "Processing Query 1020/1034 (ID: spider_dev_q1019_idx1019): 'Which city is the most frequent source airport?' (True DB: flight_2)\n"
     ]
    },
    {
     "data": {
      "application/vnd.jupyter.widget-view+json": {
       "model_id": "a23b66b54a0c441e993753fa881e17aa",
       "version_major": 2,
       "version_minor": 0
      },
      "text/plain": [
       "  DBs for Q:spider_dev_q1019_idx:   0%|          | 0/166 [00:00<?, ?it/s]"
      ]
     },
     "metadata": {},
     "output_type": "display_data"
    },
    {
     "name": "stdout",
     "output_type": "stream",
     "text": [
      "\n",
      "Processing Query 1021/1034 (ID: spider_dev_q1020_idx1020): 'What is the total ticket expense of the visitors whose membership level is 1?' (True DB: museum_visit)\n"
     ]
    },
    {
     "data": {
      "application/vnd.jupyter.widget-view+json": {
       "model_id": "c9fd11b543e14af68b8b0365aa8afd27",
       "version_major": 2,
       "version_minor": 0
      },
      "text/plain": [
       "  DBs for Q:spider_dev_q1020_idx:   0%|          | 0/166 [00:00<?, ?it/s]"
      ]
     },
     "metadata": {},
     "output_type": "display_data"
    },
    {
     "name": "stdout",
     "output_type": "stream",
     "text": [
      "\n",
      "Processing Query 1022/1034 (ID: spider_dev_q1021_idx1021): 'what is the name and nation of the singer who have a song having 'Hey' in its name?' (True DB: concert_singer)\n"
     ]
    },
    {
     "data": {
      "application/vnd.jupyter.widget-view+json": {
       "model_id": "e07387bb1c75461b9e3ec5a913590ea8",
       "version_major": 2,
       "version_minor": 0
      },
      "text/plain": [
       "  DBs for Q:spider_dev_q1021_idx:   0%|          | 0/166 [00:00<?, ?it/s]"
      ]
     },
     "metadata": {},
     "output_type": "display_data"
    },
    {
     "name": "stdout",
     "output_type": "stream",
     "text": [
      "\n",
      "Processing Query 1023/1034 (ID: spider_dev_q1022_idx1022): 'Find the average ranking for each player and their first name.' (True DB: wta_1)\n"
     ]
    },
    {
     "data": {
      "application/vnd.jupyter.widget-view+json": {
       "model_id": "4e68d02d008a4761b23df3782bcea9c9",
       "version_major": 2,
       "version_minor": 0
      },
      "text/plain": [
       "  DBs for Q:spider_dev_q1022_idx:   0%|          | 0/166 [00:00<?, ?it/s]"
      ]
     },
     "metadata": {},
     "output_type": "display_data"
    },
    {
     "name": "stdout",
     "output_type": "stream",
     "text": [
      "\n",
      "Processing Query 1024/1034 (ID: spider_dev_q1023_idx1023): 'List all the student details in reversed lexicographical order.' (True DB: student_transcripts_tracking)\n"
     ]
    },
    {
     "data": {
      "application/vnd.jupyter.widget-view+json": {
       "model_id": "25921efbaf204098b24914e005c56a65",
       "version_major": 2,
       "version_minor": 0
      },
      "text/plain": [
       "  DBs for Q:spider_dev_q1023_idx:   0%|          | 0/166 [00:00<?, ?it/s]"
      ]
     },
     "metadata": {},
     "output_type": "display_data"
    },
    {
     "name": "stdout",
     "output_type": "stream",
     "text": [
      "\n",
      "Processing Query 1025/1034 (ID: spider_dev_q1024_idx1024): 'What is the average miles per gallon of all the cards with 4 cylinders?' (True DB: car_1)\n"
     ]
    },
    {
     "data": {
      "application/vnd.jupyter.widget-view+json": {
       "model_id": "67ddb3c165de407fa60ecaf072a5b1b2",
       "version_major": 2,
       "version_minor": 0
      },
      "text/plain": [
       "  DBs for Q:spider_dev_q1024_idx:   0%|          | 0/166 [00:00<?, ?it/s]"
      ]
     },
     "metadata": {},
     "output_type": "display_data"
    },
    {
     "name": "stdout",
     "output_type": "stream",
     "text": [
      "\n",
      "Processing Query 1026/1034 (ID: spider_dev_q1025_idx1025): 'Which airlines have a flight with destination airport AHD?' (True DB: flight_2)\n"
     ]
    },
    {
     "data": {
      "application/vnd.jupyter.widget-view+json": {
       "model_id": "44a6aa82c72548289e385af89edf05a3",
       "version_major": 2,
       "version_minor": 0
      },
      "text/plain": [
       "  DBs for Q:spider_dev_q1025_idx:   0%|          | 0/166 [00:00<?, ?it/s]"
      ]
     },
     "metadata": {},
     "output_type": "display_data"
    },
    {
     "name": "stdout",
     "output_type": "stream",
     "text": [
      "\n",
      "Processing Query 1027/1034 (ID: spider_dev_q1026_idx1026): 'What are the names of the countries with no car makers?' (True DB: car_1)\n"
     ]
    },
    {
     "data": {
      "application/vnd.jupyter.widget-view+json": {
       "model_id": "57c54fe257b8476fa4d1a3a61f18768a",
       "version_major": 2,
       "version_minor": 0
      },
      "text/plain": [
       "  DBs for Q:spider_dev_q1026_idx:   0%|          | 0/166 [00:00<?, ?it/s]"
      ]
     },
     "metadata": {},
     "output_type": "display_data"
    },
    {
     "name": "stdout",
     "output_type": "stream",
     "text": [
      "\n",
      "Processing Query 1028/1034 (ID: spider_dev_q1027_idx1027): 'Find the total number of players.' (True DB: wta_1)\n"
     ]
    },
    {
     "data": {
      "application/vnd.jupyter.widget-view+json": {
       "model_id": "3b0343ab30a64487b2eab726d36c5209",
       "version_major": 2,
       "version_minor": 0
      },
      "text/plain": [
       "  DBs for Q:spider_dev_q1027_idx:   0%|          | 0/166 [00:00<?, ?it/s]"
      ]
     },
     "metadata": {},
     "output_type": "display_data"
    },
    {
     "name": "stdout",
     "output_type": "stream",
     "text": [
      "\n",
      "Processing Query 1029/1034 (ID: spider_dev_q1028_idx1028): 'What is the average weight for each type of pet?' (True DB: pets_1)\n"
     ]
    },
    {
     "data": {
      "application/vnd.jupyter.widget-view+json": {
       "model_id": "e13c14eda7d7419b9ba00eacf3135504",
       "version_major": 2,
       "version_minor": 0
      },
      "text/plain": [
       "  DBs for Q:spider_dev_q1028_idx:   0%|          | 0/166 [00:00<?, ?it/s]"
      ]
     },
     "metadata": {},
     "output_type": "display_data"
    },
    {
     "name": "stdout",
     "output_type": "stream",
     "text": [
      "\n",
      "Processing Query 1030/1034 (ID: spider_dev_q1029_idx1029): 'Give the name of the country in Asia with the lowest life expectancy.' (True DB: world_1)\n"
     ]
    },
    {
     "data": {
      "application/vnd.jupyter.widget-view+json": {
       "model_id": "1533c51a6d914e3194468a29fa78d021",
       "version_major": 2,
       "version_minor": 0
      },
      "text/plain": [
       "  DBs for Q:spider_dev_q1029_idx:   0%|          | 0/166 [00:00<?, ?it/s]"
      ]
     },
     "metadata": {},
     "output_type": "display_data"
    },
    {
     "name": "stdout",
     "output_type": "stream",
     "text": [
      "\n",
      "Processing Query 1031/1034 (ID: spider_dev_q1030_idx1030): 'Give the average life expectancy for countries in Africa which are republics?' (True DB: world_1)\n"
     ]
    },
    {
     "data": {
      "application/vnd.jupyter.widget-view+json": {
       "model_id": "421c414566ef424ca30bb5ef607c7872",
       "version_major": 2,
       "version_minor": 0
      },
      "text/plain": [
       "  DBs for Q:spider_dev_q1030_idx:   0%|          | 0/166 [00:00<?, ?it/s]"
      ]
     },
     "metadata": {},
     "output_type": "display_data"
    },
    {
     "name": "stdout",
     "output_type": "stream",
     "text": [
      "\n",
      "Processing Query 1032/1034 (ID: spider_dev_q1031_idx1031): 'Return the money rank of the poker player with the greatest height.' (True DB: poker_player)\n"
     ]
    },
    {
     "data": {
      "application/vnd.jupyter.widget-view+json": {
       "model_id": "f4e3fb58f4b24b41ba9736ea92e4063c",
       "version_major": 2,
       "version_minor": 0
      },
      "text/plain": [
       "  DBs for Q:spider_dev_q1031_idx:   0%|          | 0/166 [00:00<?, ?it/s]"
      ]
     },
     "metadata": {},
     "output_type": "display_data"
    },
    {
     "name": "stdout",
     "output_type": "stream",
     "text": [
      "\n",
      "Processing Query 1033/1034 (ID: spider_dev_q1032_idx1032): 'Give the flight numbers of flights leaving from Aberdeen.' (True DB: flight_2)\n"
     ]
    },
    {
     "data": {
      "application/vnd.jupyter.widget-view+json": {
       "model_id": "163250087fdb47e4a64cc9a9a4f7ea22",
       "version_major": 2,
       "version_minor": 0
      },
      "text/plain": [
       "  DBs for Q:spider_dev_q1032_idx:   0%|          | 0/166 [00:00<?, ?it/s]"
      ]
     },
     "metadata": {},
     "output_type": "display_data"
    },
    {
     "name": "stdout",
     "output_type": "stream",
     "text": [
      "\n",
      "Processing Query 1034/1034 (ID: spider_dev_q1033_idx1033): 'Among the cars with more than lowest horsepower, which ones do not have more than 3 cylinders? List the car makeid and make name.' (True DB: car_1)\n"
     ]
    },
    {
     "data": {
      "application/vnd.jupyter.widget-view+json": {
       "model_id": "267f871741d0474cadc3277446770bab",
       "version_major": 2,
       "version_minor": 0
      },
      "text/plain": [
       "  DBs for Q:spider_dev_q1033_idx:   0%|          | 0/166 [00:00<?, ?it/s]"
      ]
     },
     "metadata": {},
     "output_type": "display_data"
    },
    {
     "name": "stdout",
     "output_type": "stream",
     "text": [
      "\n",
      "--- Experiment Loop Finished ---\n",
      "Processed 1034 queries in total.\n",
      "Final results comprehensively saved to /raid/infolab/gaurav/Llama_Spider_A100_Project/randomQ_allDBs_run1/spider_100_queries_llama3.1_8B-instruct.json\n"
     ]
    }
   ],
   "source": [
    "experiment_all_query_results = []\n",
    "\n",
    "# This allows you to resume an interrupted run.\n",
    "if os.path.exists(EXPERIMENT_RESULTS_FILE):\n",
    "    print(f\"INFO: Found existing results file. Loading progress from '{EXPERIMENT_RESULTS_FILE}'\")\n",
    "    try:\n",
    "        with open(EXPERIMENT_RESULTS_FILE, 'r') as f:\n",
    "            experiment_all_query_results = json.load(f)\n",
    "        print(f\"Loaded results for {len(experiment_all_query_results)} queries. Resuming...\")\n",
    "    except json.JSONDecodeError:\n",
    "        print(f\"WARNING: Results file is corrupted. Starting from scratch.\")\n",
    "        experiment_all_query_results = []\n",
    "\n",
    "# Create a set of already completed query IDs for quick checking\n",
    "completed_query_ids = {res['experiment_query_id'] for res in experiment_all_query_results}\n",
    "\n",
    "\n",
    "# --- 2. Start the Loop ---\n",
    "print(f\"\\n--- Starting Experiment: {len(selected_nl_queries)} Queries vs. {len(candidate_schemas_for_evaluation)} Schemas ---\")\n",
    "\n",
    "# Outer loop: Iterate through each NL query\n",
    "for query_idx, nl_query_info in enumerate(tqdm(selected_nl_queries, desc=\"Processing NL Queries\")):\n",
    "    current_nl_query_text = nl_query_info['question']\n",
    "    true_db_id_for_query = nl_query_info['db_id']\n",
    "    # Create a unique ID for this query instance\n",
    "    experiment_query_id = f\"spider_dev_q{query_idx}_{nl_query_info.get('query_id', 'idx'+str(query_idx))}\"\n",
    "\n",
    "    # Skip if this query has already been processed in a previous run\n",
    "    if experiment_query_id in completed_query_ids:\n",
    "        continue\n",
    "\n",
    "    print(f\"\\nProcessing Query {query_idx + 1}/{len(selected_nl_queries)} (ID: {experiment_query_id}): '{current_nl_query_text}' (True DB: {true_db_id_for_query})\")\n",
    "\n",
    "    # This list will store the results for the current query\n",
    "    predictions_for_current_query = []\n",
    "\n",
    "    # Inner loop: Iterate through each candidate database schema\n",
    "    for candidate_db_id, candidate_schema_sql in tqdm(candidate_schemas_for_evaluation.items(), desc=f\"  DBs for Q:{experiment_query_id[:20]}\", leave=False):\n",
    "        user_prompt_content = USER_PROMPT_TEMPLATE.format(\n",
    "            schema_string=candidate_schema_sql,\n",
    "            nl_query=current_nl_query_text\n",
    "        )\n",
    "        \n",
    "        # Default values in case of an error\n",
    "        binary_decision = -1 \n",
    "        p_one_score = -1.0\n",
    "\n",
    "        try:\n",
    "            # *** THIS IS THE KEY CHANGE: Call the new function ***\n",
    "            # print(user_prompt_content)\n",
    "            binary_decision, p_one_score = get_schema_match_prediction(\n",
    "                model,\n",
    "                tokenizer,\n",
    "                SYSTEM_PROMPT,\n",
    "                user_prompt_content,\n",
    "                ONE_TOKEN_ID,\n",
    "                ZERO_TOKEN_ID\n",
    "            )\n",
    "        except Exception as e:\n",
    "            import traceback\n",
    "            print(f\"    ERROR: Exception in get_schema_match_prediction for Query ID '{experiment_query_id}' with DB '{candidate_db_id}'.\")\n",
    "            print(f\"    Exception type: {type(e).__name__}, Message: {e}\")\n",
    "\n",
    "        # Store the results for this query-schema pair\n",
    "        predictions_for_current_query.append({\n",
    "            'candidate_db_id': candidate_db_id,\n",
    "            'decision': binary_decision,\n",
    "            'p_one_score': p_one_score\n",
    "        })\n",
    "\n",
    "    # After scoring all candidates, sort them by the probability of being answerable (p_one_score)\n",
    "    ranked_databases_for_query = sorted(predictions_for_current_query, key=lambda x: x['p_one_score'], reverse=True)\n",
    "\n",
    "    # Store the comprehensive result for this NL query\n",
    "    experiment_all_query_results.append({\n",
    "        'experiment_query_id': experiment_query_id,\n",
    "        'nl_query_text': current_nl_query_text,\n",
    "        'true_db_id': true_db_id_for_query,\n",
    "        # The key name is updated for clarity\n",
    "        'ranked_databases_with_predictions': ranked_databases_for_query \n",
    "    })\n",
    "\n",
    "    # --- 3. Periodic Saving of Results ---\n",
    "    # Save intermediate results to avoid data loss on long runs\n",
    "    try:\n",
    "        with open(EXPERIMENT_RESULTS_FILE, 'w') as f_out:\n",
    "            json.dump(experiment_all_query_results, f_out, indent=2)\n",
    "        # Optional: uncomment the line below for more verbose saving confirmation\n",
    "        # print(f\"  Successfully saved intermediate results for {len(experiment_all_query_results)} queries.\")\n",
    "    except Exception as e:\n",
    "        print(f\"  ERROR: Could not save intermediate results: {e}\")\n",
    "\n",
    "# --- 4. Experiment Loop Completion ---\n",
    "print(\"\\n--- Experiment Loop Finished ---\")\n",
    "if experiment_all_query_results:\n",
    "    print(f\"Processed {len(experiment_all_query_results)} queries in total.\")\n",
    "    # Final save to ensure the very last entry is written\n",
    "    try:\n",
    "        with open(EXPERIMENT_RESULTS_FILE, 'w') as f_out:\n",
    "            json.dump(experiment_all_query_results, f_out, indent=2)\n",
    "        print(f\"Final results comprehensively saved to {EXPERIMENT_RESULTS_FILE}\")\n",
    "    except Exception as e:\n",
    "        print(f\"ERROR: Could not save final results: {e}\")\n",
    "else:\n",
    "    print(\"No results were generated. Check logs for errors.\")"
   ]
  },
  {
   "cell_type": "code",
   "execution_count": 23,
   "id": "8262e333-9885-4932-b1fe-3de3dbd0d56c",
   "metadata": {},
   "outputs": [
    {
     "name": "stdout",
     "output_type": "stream",
     "text": [
      "Using in-memory experiment_all_query_results for evaluation.\n",
      "\n",
      "--- Evaluation: Recall@K ---\n",
      "Evaluated on 1034 queries.\n",
      "Recall@1: 75.92%\n",
      "Recall@3: 90.52%\n",
      "Recall@5: 96.03%\n",
      "Recall@10: 98.65%\n",
      "Saved evaluation results to 'recall_k_results_context_lamma-3.1-8B-instruct.json'\n",
      "\n",
      "--- Sample Detailed Query Results (Top 5 Queries) ---\n",
      "\n",
      "Query 1: 'How many 'United Airlines' flights go to Airport 'ASY'?' (True DB: flight_2)\n",
      "  Top Ranked Databases (with P(Yes) scores):\n",
      "\n",
      "Query 2: 'What are the name of the countries where there is not a single car maker?' (True DB: car_1)\n",
      "  Top Ranked Databases (with P(Yes) scores):\n",
      "\n",
      "Query 3: 'What are the date and the operating professional's first name of each treatment?' (True DB: dog_kennels)\n",
      "  Top Ranked Databases (with P(Yes) scores):\n",
      "\n",
      "Query 4: 'List each owner's first name, last name, and the size of his for her dog.' (True DB: dog_kennels)\n",
      "  Top Ranked Databases (with P(Yes) scores):\n",
      "\n",
      "Query 5: 'Find the first name and age of students who have a dog but do not have a cat as a pet.' (True DB: pets_1)\n",
      "  Top Ranked Databases (with P(Yes) scores):\n"
     ]
    }
   ],
   "source": [
    "import os\n",
    "import json\n",
    "\n",
    "# Path where the evaluation summary (Recall@K results) will be saved\n",
    "EVAL_RESULTS_SAVE_PATH = \"recall_k_results_context_lamma-3.1-8B-instruct.json\"\n",
    "\n",
    "# --- 4.1. Define Recall@K Calculation Function ---\n",
    "def calculate_recall_at_k_metric(all_query_results_list, k_values_list):\n",
    "    \"\"\"\n",
    "    Calculates Recall@K for a list of K values.\n",
    "    Each item in all_query_results_list should be a dictionary with:\n",
    "        'true_db_id': The ground truth database ID for the query.\n",
    "        'ranked_databases_with_scores': A list of {'candidate_db_id': id, 'p_yes_score': score},\n",
    "                                         sorted by score in descending order.\n",
    "    \"\"\"\n",
    "    recall_counts = {k: 0 for k in k_values_list}  # Stores how many times true_db was in top K\n",
    "    total_valid_queries = 0  # Queries for which we have a true_db_id\n",
    "\n",
    "    if not all_query_results_list:\n",
    "        return {k: 0.0 for k in k_values_list}, 0\n",
    "\n",
    "    for query_result in all_query_results_list:\n",
    "        true_db = query_result.get('true_db_id')\n",
    "        ranked_dbs_info = query_result.get('ranked_databases_with_predictions')\n",
    "\n",
    "        if true_db is None or ranked_dbs_info is None:\n",
    "            print(f\"Warning: Skipping query result due to missing 'true_db_id' or 'ranked_databases_with_scores': \"\n",
    "                  f\"{query_result.get('experiment_query_id', 'Unknown Query')}\")\n",
    "            continue  # Skip if essential information is missing\n",
    "\n",
    "        total_valid_queries += 1\n",
    "        # Extract just the DB IDs from the ranked list\n",
    "        ranked_db_ids_only = [item['candidate_db_id'] for item in ranked_dbs_info]\n",
    "\n",
    "        for k in k_values_list:\n",
    "            # Get the top K predicted database IDs\n",
    "            top_k_predicted_dbs = ranked_db_ids_only[:k]\n",
    "            if true_db in top_k_predicted_dbs:\n",
    "                recall_counts[k] += 1\n",
    "\n",
    "    # Calculate final recall percentages\n",
    "    recall_percentages = {}\n",
    "    if total_valid_queries > 0:\n",
    "        for k in k_values_list:\n",
    "            recall_percentages[k] = (recall_counts[k] / total_valid_queries) * 100.0  # As percentage\n",
    "    else:\n",
    "        recall_percentages = {k: 0.0 for k in k_values_list}\n",
    "\n",
    "    return recall_percentages, total_valid_queries\n",
    "\n",
    "\n",
    "# --- 4.2. Perform Evaluation ---\n",
    "# Load results if this cell is run in a new session and experiment_all_query_results isn't in memory\n",
    "# (assuming results were saved to EXPERIMENT_RESULTS_FILE)\n",
    "loaded_results_for_eval = None\n",
    "if 'experiment_all_query_results' in globals() and experiment_all_query_results:\n",
    "    print(\"Using in-memory experiment_all_query_results for evaluation.\")\n",
    "    loaded_results_for_eval = experiment_all_query_results\n",
    "elif os.path.exists(EXPERIMENT_RESULTS_FILE):\n",
    "    print(f\"Loading results from {EXPERIMENT_RESULTS_FILE} for evaluation...\")\n",
    "    try:\n",
    "        with open(EXPERIMENT_RESULTS_FILE, 'r') as f_in:\n",
    "            loaded_results_for_eval = json.load(f_in)\n",
    "        print(f\"Successfully loaded {len(loaded_results_for_eval)} results from file.\")\n",
    "    except Exception as e:\n",
    "        print(f\"Error loading results from file for evaluation: {e}\")\n",
    "else:\n",
    "    print(\"No results available in memory or in the specified results file for evaluation.\")\n",
    "\n",
    "if loaded_results_for_eval:\n",
    "    K_VALUES_TO_EVALUATE = [1, 3, 5, 10]  # Define the K values you care about\n",
    "    recall_scores_map, num_queries_evaluated = calculate_recall_at_k_metric(\n",
    "        loaded_results_for_eval, K_VALUES_TO_EVALUATE\n",
    "    )\n",
    "\n",
    "    print(\"\\n--- Evaluation: Recall@K ---\")\n",
    "    print(f\"Evaluated on {num_queries_evaluated} queries.\")\n",
    "    for k_val, recall_val in recall_scores_map.items():\n",
    "        print(f\"Recall@{k_val}: {recall_val:.2f}%\")\n",
    "\n",
    "    # --- 4.2.1. Save evaluation results to a JSON file ---\n",
    "    try:\n",
    "        eval_summary = {\n",
    "            \"num_queries_evaluated\": num_queries_evaluated,\n",
    "            \"recall_scores\": recall_scores_map\n",
    "        }\n",
    "        with open(EVAL_RESULTS_SAVE_PATH, 'w') as fout:\n",
    "            json.dump(eval_summary, fout, indent=2)\n",
    "        print(f\"Saved evaluation results to '{EVAL_RESULTS_SAVE_PATH}'\")\n",
    "    except Exception as save_err:\n",
    "        print(f\"Error saving evaluation results: {save_err}\")\n",
    "\n",
    "    # --- 4.3. Optional: Print Detailed Results for a Few Queries ---\n",
    "    print(\"\\n--- Sample Detailed Query Results (Top 5 Queries) ---\")\n",
    "    for i, res in enumerate(loaded_results_for_eval[:5]):  # Show for first 5 queries\n",
    "        print(f\"\\nQuery {i+1}: '{res.get('nl_query_text', '<no text>')}' (True DB: {res.get('true_db_id')})\")\n",
    "        print(\"  Top Ranked Databases (with P(Yes) scores):\")\n",
    "        for rank, db_info in enumerate(res.get('ranked_databases_with_scores', [])[:5]):  # Show top 5 ranked DBs\n",
    "            is_true_db_char = \"*\" if db_info['candidate_db_id'] == res['true_db_id'] else \" \"\n",
    "            print(f\"    {rank+1}. {db_info['candidate_db_id']}{is_true_db_char} \"\n",
    "                  f\"(Score: {db_info['p_yes_score']:.4f})\")\n",
    "else:\n",
    "    print(\"Cannot perform evaluation as no results were loaded or generated.\")\n"
   ]
  }
 ],
 "metadata": {
  "kernelspec": {
   "display_name": "Python (llama_spider_env)",
   "language": "python",
   "name": "llama_spider_env"
  },
  "language_info": {
   "codemirror_mode": {
    "name": "ipython",
    "version": 3
   },
   "file_extension": ".py",
   "mimetype": "text/x-python",
   "name": "python",
   "nbconvert_exporter": "python",
   "pygments_lexer": "ipython3",
   "version": "3.10.16"
  }
 },
 "nbformat": 4,
 "nbformat_minor": 5
}
