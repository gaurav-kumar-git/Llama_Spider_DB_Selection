{
 "cells": [
  {
   "cell_type": "code",
   "execution_count": 1,
   "id": "68760dd7-f0dc-4eba-abd9-199f3a70cfa3",
   "metadata": {
    "scrolled": true
   },
   "outputs": [
    {
     "name": "stdout",
     "output_type": "stream",
     "text": [
      "Requirement already satisfied: transformers in /raid/infolab/gaurav/Llama_Spider_A100_Project/miniconda3/envs/llama_spider_env/lib/python3.10/site-packages (4.52.4)\n",
      "Requirement already satisfied: accelerate in /raid/infolab/gaurav/Llama_Spider_A100_Project/miniconda3/envs/llama_spider_env/lib/python3.10/site-packages (1.7.0)\n",
      "Requirement already satisfied: bitsandbytes in /raid/infolab/gaurav/Llama_Spider_A100_Project/miniconda3/envs/llama_spider_env/lib/python3.10/site-packages (0.46.0)\n",
      "Requirement already satisfied: sentencepiece in /raid/infolab/gaurav/Llama_Spider_A100_Project/miniconda3/envs/llama_spider_env/lib/python3.10/site-packages (0.2.0)\n",
      "Requirement already satisfied: pandas in /raid/infolab/gaurav/Llama_Spider_A100_Project/miniconda3/envs/llama_spider_env/lib/python3.10/site-packages (2.2.3)\n",
      "Requirement already satisfied: datasets in /raid/infolab/gaurav/Llama_Spider_A100_Project/miniconda3/envs/llama_spider_env/lib/python3.10/site-packages (3.6.0)\n",
      "Requirement already satisfied: huggingface_hub in /raid/infolab/gaurav/Llama_Spider_A100_Project/miniconda3/envs/llama_spider_env/lib/python3.10/site-packages (0.32.3)\n",
      "Requirement already satisfied: tqdm in /raid/infolab/gaurav/Llama_Spider_A100_Project/miniconda3/envs/llama_spider_env/lib/python3.10/site-packages (4.67.1)\n",
      "Requirement already satisfied: filelock in /raid/infolab/gaurav/Llama_Spider_A100_Project/miniconda3/envs/llama_spider_env/lib/python3.10/site-packages (from transformers) (3.17.0)\n",
      "Requirement already satisfied: numpy>=1.17 in /raid/infolab/gaurav/Llama_Spider_A100_Project/miniconda3/envs/llama_spider_env/lib/python3.10/site-packages (from transformers) (2.0.1)\n",
      "Requirement already satisfied: packaging>=20.0 in /raid/infolab/gaurav/Llama_Spider_A100_Project/miniconda3/envs/llama_spider_env/lib/python3.10/site-packages (from transformers) (24.2)\n",
      "Requirement already satisfied: pyyaml>=5.1 in /raid/infolab/gaurav/Llama_Spider_A100_Project/miniconda3/envs/llama_spider_env/lib/python3.10/site-packages (from transformers) (6.0.2)\n",
      "Requirement already satisfied: regex!=2019.12.17 in /raid/infolab/gaurav/Llama_Spider_A100_Project/miniconda3/envs/llama_spider_env/lib/python3.10/site-packages (from transformers) (2024.11.6)\n",
      "Requirement already satisfied: requests in /raid/infolab/gaurav/Llama_Spider_A100_Project/miniconda3/envs/llama_spider_env/lib/python3.10/site-packages (from transformers) (2.32.3)\n",
      "Requirement already satisfied: tokenizers<0.22,>=0.21 in /raid/infolab/gaurav/Llama_Spider_A100_Project/miniconda3/envs/llama_spider_env/lib/python3.10/site-packages (from transformers) (0.21.1)\n",
      "Requirement already satisfied: safetensors>=0.4.3 in /raid/infolab/gaurav/Llama_Spider_A100_Project/miniconda3/envs/llama_spider_env/lib/python3.10/site-packages (from transformers) (0.5.3)\n",
      "Requirement already satisfied: fsspec>=2023.5.0 in /raid/infolab/gaurav/Llama_Spider_A100_Project/miniconda3/envs/llama_spider_env/lib/python3.10/site-packages (from huggingface_hub) (2025.3.0)\n",
      "Requirement already satisfied: typing-extensions>=3.7.4.3 in /raid/infolab/gaurav/Llama_Spider_A100_Project/miniconda3/envs/llama_spider_env/lib/python3.10/site-packages (from huggingface_hub) (4.12.2)\n",
      "Requirement already satisfied: hf-xet<2.0.0,>=1.1.2 in /raid/infolab/gaurav/Llama_Spider_A100_Project/miniconda3/envs/llama_spider_env/lib/python3.10/site-packages (from huggingface_hub) (1.1.2)\n",
      "Requirement already satisfied: psutil in /raid/infolab/gaurav/Llama_Spider_A100_Project/miniconda3/envs/llama_spider_env/lib/python3.10/site-packages (from accelerate) (5.9.0)\n",
      "Requirement already satisfied: torch>=2.0.0 in /raid/infolab/gaurav/Llama_Spider_A100_Project/miniconda3/envs/llama_spider_env/lib/python3.10/site-packages (from accelerate) (2.2.0)\n",
      "Requirement already satisfied: sympy in /raid/infolab/gaurav/Llama_Spider_A100_Project/miniconda3/envs/llama_spider_env/lib/python3.10/site-packages (from torch>=2.0.0->accelerate) (1.13.3)\n",
      "Requirement already satisfied: networkx in /raid/infolab/gaurav/Llama_Spider_A100_Project/miniconda3/envs/llama_spider_env/lib/python3.10/site-packages (from torch>=2.0.0->accelerate) (3.4.2)\n",
      "Requirement already satisfied: jinja2 in /raid/infolab/gaurav/Llama_Spider_A100_Project/miniconda3/envs/llama_spider_env/lib/python3.10/site-packages (from torch>=2.0.0->accelerate) (3.1.6)\n",
      "Requirement already satisfied: python-dateutil>=2.8.2 in /raid/infolab/gaurav/Llama_Spider_A100_Project/miniconda3/envs/llama_spider_env/lib/python3.10/site-packages (from pandas) (2.9.0.post0)\n",
      "Requirement already satisfied: pytz>=2020.1 in /raid/infolab/gaurav/Llama_Spider_A100_Project/miniconda3/envs/llama_spider_env/lib/python3.10/site-packages (from pandas) (2025.2)\n",
      "Requirement already satisfied: tzdata>=2022.7 in /raid/infolab/gaurav/Llama_Spider_A100_Project/miniconda3/envs/llama_spider_env/lib/python3.10/site-packages (from pandas) (2025.2)\n",
      "Requirement already satisfied: pyarrow>=15.0.0 in /raid/infolab/gaurav/Llama_Spider_A100_Project/miniconda3/envs/llama_spider_env/lib/python3.10/site-packages (from datasets) (20.0.0)\n",
      "Requirement already satisfied: dill<0.3.9,>=0.3.0 in /raid/infolab/gaurav/Llama_Spider_A100_Project/miniconda3/envs/llama_spider_env/lib/python3.10/site-packages (from datasets) (0.3.8)\n",
      "Requirement already satisfied: xxhash in /raid/infolab/gaurav/Llama_Spider_A100_Project/miniconda3/envs/llama_spider_env/lib/python3.10/site-packages (from datasets) (3.5.0)\n",
      "Requirement already satisfied: multiprocess<0.70.17 in /raid/infolab/gaurav/Llama_Spider_A100_Project/miniconda3/envs/llama_spider_env/lib/python3.10/site-packages (from datasets) (0.70.16)\n",
      "Requirement already satisfied: aiohttp!=4.0.0a0,!=4.0.0a1 in /raid/infolab/gaurav/Llama_Spider_A100_Project/miniconda3/envs/llama_spider_env/lib/python3.10/site-packages (from fsspec[http]<=2025.3.0,>=2023.1.0->datasets) (3.12.6)\n",
      "Requirement already satisfied: aiohappyeyeballs>=2.5.0 in /raid/infolab/gaurav/Llama_Spider_A100_Project/miniconda3/envs/llama_spider_env/lib/python3.10/site-packages (from aiohttp!=4.0.0a0,!=4.0.0a1->fsspec[http]<=2025.3.0,>=2023.1.0->datasets) (2.6.1)\n",
      "Requirement already satisfied: aiosignal>=1.1.2 in /raid/infolab/gaurav/Llama_Spider_A100_Project/miniconda3/envs/llama_spider_env/lib/python3.10/site-packages (from aiohttp!=4.0.0a0,!=4.0.0a1->fsspec[http]<=2025.3.0,>=2023.1.0->datasets) (1.3.2)\n",
      "Requirement already satisfied: async-timeout<6.0,>=4.0 in /raid/infolab/gaurav/Llama_Spider_A100_Project/miniconda3/envs/llama_spider_env/lib/python3.10/site-packages (from aiohttp!=4.0.0a0,!=4.0.0a1->fsspec[http]<=2025.3.0,>=2023.1.0->datasets) (5.0.1)\n",
      "Requirement already satisfied: attrs>=17.3.0 in /raid/infolab/gaurav/Llama_Spider_A100_Project/miniconda3/envs/llama_spider_env/lib/python3.10/site-packages (from aiohttp!=4.0.0a0,!=4.0.0a1->fsspec[http]<=2025.3.0,>=2023.1.0->datasets) (24.3.0)\n",
      "Requirement already satisfied: frozenlist>=1.1.1 in /raid/infolab/gaurav/Llama_Spider_A100_Project/miniconda3/envs/llama_spider_env/lib/python3.10/site-packages (from aiohttp!=4.0.0a0,!=4.0.0a1->fsspec[http]<=2025.3.0,>=2023.1.0->datasets) (1.6.0)\n",
      "Requirement already satisfied: multidict<7.0,>=4.5 in /raid/infolab/gaurav/Llama_Spider_A100_Project/miniconda3/envs/llama_spider_env/lib/python3.10/site-packages (from aiohttp!=4.0.0a0,!=4.0.0a1->fsspec[http]<=2025.3.0,>=2023.1.0->datasets) (6.4.4)\n",
      "Requirement already satisfied: propcache>=0.2.0 in /raid/infolab/gaurav/Llama_Spider_A100_Project/miniconda3/envs/llama_spider_env/lib/python3.10/site-packages (from aiohttp!=4.0.0a0,!=4.0.0a1->fsspec[http]<=2025.3.0,>=2023.1.0->datasets) (0.3.1)\n",
      "Requirement already satisfied: yarl<2.0,>=1.17.0 in /raid/infolab/gaurav/Llama_Spider_A100_Project/miniconda3/envs/llama_spider_env/lib/python3.10/site-packages (from aiohttp!=4.0.0a0,!=4.0.0a1->fsspec[http]<=2025.3.0,>=2023.1.0->datasets) (1.20.0)\n",
      "Requirement already satisfied: idna>=2.0 in /raid/infolab/gaurav/Llama_Spider_A100_Project/miniconda3/envs/llama_spider_env/lib/python3.10/site-packages (from yarl<2.0,>=1.17.0->aiohttp!=4.0.0a0,!=4.0.0a1->fsspec[http]<=2025.3.0,>=2023.1.0->datasets) (3.7)\n",
      "Requirement already satisfied: six>=1.5 in /raid/infolab/gaurav/Llama_Spider_A100_Project/miniconda3/envs/llama_spider_env/lib/python3.10/site-packages (from python-dateutil>=2.8.2->pandas) (1.17.0)\n",
      "Requirement already satisfied: charset-normalizer<4,>=2 in /raid/infolab/gaurav/Llama_Spider_A100_Project/miniconda3/envs/llama_spider_env/lib/python3.10/site-packages (from requests->transformers) (3.3.2)\n",
      "Requirement already satisfied: urllib3<3,>=1.21.1 in /raid/infolab/gaurav/Llama_Spider_A100_Project/miniconda3/envs/llama_spider_env/lib/python3.10/site-packages (from requests->transformers) (2.3.0)\n",
      "Requirement already satisfied: certifi>=2017.4.17 in /raid/infolab/gaurav/Llama_Spider_A100_Project/miniconda3/envs/llama_spider_env/lib/python3.10/site-packages (from requests->transformers) (2025.4.26)\n",
      "Requirement already satisfied: MarkupSafe>=2.0 in /raid/infolab/gaurav/Llama_Spider_A100_Project/miniconda3/envs/llama_spider_env/lib/python3.10/site-packages (from jinja2->torch>=2.0.0->accelerate) (3.0.2)\n",
      "Requirement already satisfied: mpmath<1.4,>=1.1.0 in /raid/infolab/gaurav/Llama_Spider_A100_Project/miniconda3/envs/llama_spider_env/lib/python3.10/site-packages (from sympy->torch>=2.0.0->accelerate) (1.3.0)\n",
      "Note: you may need to restart the kernel to use updated packages.\n"
     ]
    }
   ],
   "source": [
    "pip install transformers accelerate bitsandbytes sentencepiece pandas datasets huggingface_hub tqdm"
   ]
  },
  {
   "cell_type": "code",
   "execution_count": 2,
   "id": "7d449a29-d76c-4f2f-a438-1cc81724339f",
   "metadata": {},
   "outputs": [
    {
     "name": "stdout",
     "output_type": "stream",
     "text": [
      "ipywidgets version: 8.1.5\n",
      "ipywidgets location: /raid/infolab/gaurav/Llama_Spider_A100_Project/miniconda3/envs/llama_spider_env/lib/python3.10/site-packages/ipywidgets/__init__.py\n",
      "tqdm version: 4.67.1\n",
      "tqdm location: /raid/infolab/gaurav/Llama_Spider_A100_Project/miniconda3/envs/llama_spider_env/lib/python3.10/site-packages/tqdm/__init__.py\n"
     ]
    }
   ],
   "source": [
    "  import ipywidgets\n",
    "  print(f\"ipywidgets version: {ipywidgets.__version__}\")\n",
    "  print(f\"ipywidgets location: {ipywidgets.__file__}\")\n",
    "\n",
    "  import tqdm\n",
    "  print(f\"tqdm version: {tqdm.__version__}\")\n",
    "  print(f\"tqdm location: {tqdm.__file__}\")"
   ]
  },
  {
   "cell_type": "code",
   "execution_count": 3,
   "id": "d01b81c8-78ad-492d-b6c9-be424482a669",
   "metadata": {},
   "outputs": [
    {
     "name": "stdout",
     "output_type": "stream",
     "text": [
      "tqdm imported successfully from .auto\n"
     ]
    },
    {
     "data": {
      "application/vnd.jupyter.widget-view+json": {
       "model_id": "94585048e4d045f083bd7363e87098eb",
       "version_major": 2,
       "version_minor": 0
      },
      "text/plain": [
       "Minimal Auto Test:   0%|          | 0/3 [00:00<?, ?it/s]"
      ]
     },
     "metadata": {},
     "output_type": "display_data"
    },
    {
     "name": "stdout",
     "output_type": "stream",
     "text": [
      "Simple tqdm .auto loop completed\n"
     ]
    }
   ],
   "source": [
    "from tqdm.auto import tqdm\n",
    "import time\n",
    "\n",
    "print(\"tqdm imported successfully from .auto\")\n",
    "my_list = list(range(3))\n",
    "for i in tqdm(my_list, desc=\"Minimal Auto Test\"):\n",
    "    time.sleep(0.2)\n",
    "print(\"Simple tqdm .auto loop completed\")"
   ]
  },
  {
   "cell_type": "code",
   "execution_count": 3,
   "id": "f6015af9-e860-4e27-af56-95091e424a3a",
   "metadata": {},
   "outputs": [
    {
     "name": "stdout",
     "output_type": "stream",
     "text": [
      "--- Cell 1: Imports and Initial Configuration Complete ---\n",
      "PyTorch Version: 2.2.0\n",
      "Transformers Version: 4.52.4\n"
     ]
    }
   ],
   "source": [
    "# --- Standard Library Imports ---\n",
    "# --- Third-party Library Imports ---\n",
    "# --- Third-party Library Imports ---\n",
    "import torch\n",
    "\n",
    "from tqdm.auto import tqdm\n",
    "import time\n",
    "from huggingface_hub import login\n",
    "import transformers # <--- ADD THIS LINE\n",
    "from transformers import AutoModelForCausalLM, AutoTokenizer, BitsAndBytesConfig\n",
    "\n",
    "# --- Third-party Library Imports ---\n",
    "import torch\n",
    "from tqdm.auto import tqdm # For progress bars\n",
    "from huggingface_hub import login # For Hugging Face Hub authentication\n",
    "from transformers import AutoModelForCausalLM, AutoTokenizer, BitsAndBytesConfig\n",
    "\n",
    "print(\"--- Cell 1: Imports and Initial Configuration Complete ---\")\n",
    "print(f\"PyTorch Version: {torch.__version__}\")\n",
    "print(f\"Transformers Version: {transformers.__version__}\")"
   ]
  },
  {
   "cell_type": "code",
   "execution_count": 4,
   "id": "1206593a-e64c-4fe4-9e07-8dfd5c80d2c5",
   "metadata": {},
   "outputs": [
    {
     "name": "stdout",
     "output_type": "stream",
     "text": [
      "PyTorch version: 2.2.0\n",
      "CUDA available: True\n",
      "CUDA version PyTorch compiled with: 11.8\n",
      "Number of GPUs available to PyTorch: 8\n",
      "  GPU 0: NVIDIA A100-SXM4-80GB\n",
      "  GPU 1: NVIDIA A100-SXM4-80GB\n",
      "  GPU 2: NVIDIA A100-SXM4-80GB\n",
      "  GPU 3: NVIDIA A100-SXM4-80GB\n",
      "  GPU 4: NVIDIA A100-SXM4-80GB\n",
      "  GPU 5: NVIDIA A100-SXM4-80GB\n",
      "  GPU 6: NVIDIA A100-SXM4-80GB\n",
      "  GPU 7: NVIDIA A100-SXM4-80GB\n"
     ]
    }
   ],
   "source": [
    "import torch\n",
    "print(f\"PyTorch version: {torch.__version__}\")\n",
    "print(f\"CUDA available: {torch.cuda.is_available()}\")\n",
    "if torch.cuda.is_available():\n",
    "    print(f\"CUDA version PyTorch compiled with: {torch.version.cuda}\")\n",
    "    print(f\"Number of GPUs available to PyTorch: {torch.cuda.device_count()}\")\n",
    "    for i in range(torch.cuda.device_count()):\n",
    "        print(f\"  GPU {i}: {torch.cuda.get_device_name(i)}\")\n",
    "else:\n",
    "    print(\"ERROR: PyTorch cannot see the GPUs! Check installation and CUDA compatibility.\")"
   ]
  },
  {
   "cell_type": "code",
   "execution_count": 5,
   "id": "6c6c79c7-ffaf-414f-a4a5-e646aadf5869",
   "metadata": {},
   "outputs": [
    {
     "name": "stdout",
     "output_type": "stream",
     "text": [
      "--- Cell 1: Imports and Initial Configuration Complete ---\n",
      "PyTorch Version: 2.2.0\n",
      "Transformers Version: 4.52.4\n"
     ]
    }
   ],
   "source": [
    "# --- Standard Library Imports ---\n",
    "# --- Third-party Library Imports ---\n",
    "# --- Third-party Library Imports ---\n",
    "import torch\n",
    "from tqdm.auto import tqdm\n",
    "import time\n",
    "from huggingface_hub import login\n",
    "import transformers # <--- ADD THIS LINE\n",
    "from transformers import AutoModelForCausalLM, AutoTokenizer, BitsAndBytesConfig\n",
    "\n",
    "# --- Third-party Library Imports ---\n",
    "import torch\n",
    "from tqdm.auto import tqdm # For progress bars\n",
    "from huggingface_hub import login # For Hugging Face Hub authentication\n",
    "from transformers import AutoModelForCausalLM, AutoTokenizer, BitsAndBytesConfig\n",
    "\n",
    "print(\"--- Cell 1: Imports and Initial Configuration Complete ---\")\n",
    "print(f\"PyTorch Version: {torch.__version__}\")\n",
    "print(f\"Transformers Version: {transformers.__version__}\")"
   ]
  },
  {
   "cell_type": "code",
   "execution_count": 8,
   "id": "c73b2c1e-8370-4b5e-826c-99e53f07c854",
   "metadata": {},
   "outputs": [
    {
     "data": {
      "application/vnd.jupyter.widget-view+json": {
       "model_id": "e092d99eca214b67b082c35f727d9da4",
       "version_major": 2,
       "version_minor": 0
      },
      "text/plain": [
       "VBox(children=(HTML(value='<center> <img\\nsrc=https://huggingface.co/front/assets/huggingface_logo-noborder.sv…"
      ]
     },
     "metadata": {},
     "output_type": "display_data"
    },
    {
     "name": "stdout",
     "output_type": "stream",
     "text": [
      "Hugging Face login successful or already authenticated.\n",
      "\n",
      "--- Cell 2: Hugging Face Login Attempt Complete ---\n"
     ]
    }
   ],
   "source": [
    "try:\n",
    "    login() # Will use cached token or prompt if needed\n",
    "    print(\"Hugging Face login successful or already authenticated.\")\n",
    "except Exception as e:\n",
    "    print(f\"Hugging Face login failed: {e}. Ensure you are authenticated to download Llama 2.\")\n",
    "\n",
    "print(\"\\n--- Cell 2: Hugging Face Login Attempt Complete ---\")"
   ]
  },
  {
   "cell_type": "code",
   "execution_count": 6,
   "id": "82706e9d-a125-4315-ae90-94faee8d6464",
   "metadata": {},
   "outputs": [
    {
     "name": "stdout",
     "output_type": "stream",
     "text": [
      "Target Model: meta-llama/Llama-3.1-8B-Instruct\n",
      "BitsAndBytesConfig: load_in_4bit=True, compute_dtype=torch.bfloat16\n",
      "Hugging Face model cache directory set to: /raid/infolab/gaurav/Llama_Spider_A100_Project/experiments_70b_llama/.hf_model_cache_70b\n",
      "\n",
      "--- Cell 3: Model and Prompt Configuration Complete ---\n"
     ]
    }
   ],
   "source": [
    "# --- Model and Tokenizer Configuration ---\n",
    "import os\n",
    "\n",
    "# 3.1. Specify the Llama 2 70B Chat Model\n",
    "MODEL_NAME = \"meta-llama/Llama-3.1-8B-Instruct\"\n",
    "print(f\"Target Model: {MODEL_NAME}\")\n",
    "\n",
    "# 3.2. Configure 4-bit Quantization (essential for 70B, even on A100s for single/few GPU use)\n",
    "# A100s support bfloat16, which is excellent for mixed-precision.\n",
    "bnb_config = BitsAndBytesConfig(\n",
    "    load_in_4bit=True,\n",
    "    bnb_4bit_quant_type=\"nf4\",        # nf4 is a good default\n",
    "    bnb_4bit_compute_dtype=torch.bfloat16, # Use bfloat16 for computation on A100s\n",
    "    bnb_4bit_use_double_quant=True,   # Can save a bit more memory\n",
    ")\n",
    "print(f\"BitsAndBytesConfig: load_in_4bit={bnb_config.load_in_4bit}, compute_dtype={bnb_config.bnb_4bit_compute_dtype}\")\n",
    "\n",
    "# 3.4. Define Cache Directory for Hugging Face downloads (optional, but good for managing large models)\n",
    "# Create it within your project directory on the A100 server.\n",
    "HF_MODEL_CACHE_DIR = os.path.join(os.getcwd(), \".hf_model_cache_70b\") # Assumes current dir is project root\n",
    "os.makedirs(HF_MODEL_CACHE_DIR, exist_ok=True)\n",
    "print(f\"Hugging Face model cache directory set to: {HF_MODEL_CACHE_DIR}\")\n",
    "\n",
    "print(\"\\n--- Cell 3: Model and Prompt Configuration Complete ---\")"
   ]
  },
  {
   "cell_type": "code",
   "execution_count": 9,
   "id": "01ed7286-5629-4780-8c22-736b61519715",
   "metadata": {},
   "outputs": [
    {
     "name": "stdout",
     "output_type": "stream",
     "text": [
      "{'meta-llama/Llama-3.1-8B-Instruct'}\n"
     ]
    }
   ],
   "source": [
    "print({MODEL_NAME})"
   ]
  },
  {
   "cell_type": "code",
   "execution_count": 7,
   "id": "9ee56445-c515-496d-8611-12b685e7088a",
   "metadata": {},
   "outputs": [
    {
     "name": "stdout",
     "output_type": "stream",
     "text": [
      "Loading tokenizer for meta-llama/Llama-3.1-8B-Instruct...\n",
      "Tokenizer pad_token was None, set to eos_token: <|eot_id|> (ID: 128009)\n",
      "Tokenizer loaded successfully.\n",
      "Tokenizer pad token ID: 128009\n",
      "Tokenizer EOS token ID: 128009\n",
      "Tokenizer BOS token ID: 128000\n"
     ]
    }
   ],
   "source": [
    "# --- Load the Tokenizer ---\n",
    "# The tokenizer converts text into numerical IDs that the model understands, and vice-versa.\n",
    "# It's crucial that the tokenizer matches the model it was trained with.\n",
    "print(f\"Loading tokenizer for {MODEL_NAME}...\")\n",
    "tokenizer = AutoTokenizer.from_pretrained(\n",
    "    MODEL_NAME,\n",
    "    # token=HF_TOKEN # For recent versions of transformers, login() handles global auth.\n",
    "                     # You might need this for older versions or specific configurations.\n",
    "    trust_remote_code=True # Some models require this if they have custom code. Llama 2 generally doesn't, but good to be aware of.\n",
    ")\n",
    "\n",
    "# Llama models often don't have a pad token defined by default.\n",
    "# We set it to the EOS (End Of Sentence) token if it's not present.\n",
    "# This is important for batching inputs of different lengths, though for our P(Yes)\n",
    "# extraction (one prompt at a time), it's less critical but good practice.\n",
    "if tokenizer.pad_token is None:\n",
    "    tokenizer.pad_token = tokenizer.eos_token\n",
    "    print(f\"Tokenizer pad_token was None, set to eos_token: {tokenizer.eos_token} (ID: {tokenizer.eos_token_id})\")\n",
    "\n",
    "print(\"Tokenizer loaded successfully.\")\n",
    "print(f\"Tokenizer pad token ID: {tokenizer.pad_token_id}\")\n",
    "print(f\"Tokenizer EOS token ID: {tokenizer.eos_token_id}\")\n",
    "print(f\"Tokenizer BOS token ID: {tokenizer.bos_token_id}\")"
   ]
  },
  {
   "cell_type": "code",
   "execution_count": 8,
   "id": "236b8d9a-adb8-4b8f-9651-8e1501cbb6be",
   "metadata": {
    "scrolled": true
   },
   "outputs": [
    {
     "name": "stdout",
     "output_type": "stream",
     "text": [
      "Loading model: meta-llama/Llama-3.1-8B-Instruct with 4-bit quantization... This will take significant time and memory...\n"
     ]
    },
    {
     "data": {
      "application/vnd.jupyter.widget-view+json": {
       "model_id": "bdacf2b5c7094feea598369d5a30919a",
       "version_major": 2,
       "version_minor": 0
      },
      "text/plain": [
       "Loading checkpoint shards:   0%|          | 0/4 [00:00<?, ?it/s]"
      ]
     },
     "metadata": {},
     "output_type": "display_data"
    },
    {
     "name": "stdout",
     "output_type": "stream",
     "text": [
      "Time taken: 11.70 seconds.\n",
      "Model device map: {'': 6}\n",
      "Performed memory cleanup (torch.cuda.empty_cache(), gc.collect())\n",
      "\n",
      "--- Cell 5: Llama 3.1 8B Instruct Model Loading Complete ---\n",
      "Model max_position_embeddings: 131072\n",
      "Tokenizer model_max_length: 131072\n"
     ]
    }
   ],
   "source": [
    "import gc\n",
    "import time\n",
    "from transformers import AutoModelForCausalLM\n",
    "\n",
    "print(f\"Loading model: {MODEL_NAME} with 4-bit quantization... This will take significant time and memory...\")\n",
    "model_load_start_time = time.time()\n",
    "\n",
    "try:\n",
    "    model = AutoModelForCausalLM.from_pretrained(\n",
    "        MODEL_NAME,\n",
    "        quantization_config=bnb_config,       # Apply 4-bit quantization\n",
    "        torch_dtype=torch.bfloat16,           # Use bfloat16 on A100s\n",
    "        device_map={\"\": 6},                   # 🔧 Manually assign everything to GPU 1\n",
    "        trust_remote_code=True,               # Required for some models\n",
    "        cache_dir=HF_MODEL_CACHE_DIR\n",
    "    )\n",
    "    model_load_end_time = time.time()\n",
    "    # print(\"\\nModel loaded successfully on GPU 1!\")\n",
    "    print(f\"Time taken: {model_load_end_time - model_load_start_time:.2f} seconds.\")\n",
    "    print(f\"Model device map: {model.hf_device_map}\")  # Should show everything on device 1\n",
    "\n",
    "    # Optional: Clean up memory\n",
    "    torch.cuda.empty_cache()\n",
    "    gc.collect()\n",
    "    print(\"Performed memory cleanup (torch.cuda.empty_cache(), gc.collect())\")\n",
    "\n",
    "except Exception as e:\n",
    "    import traceback\n",
    "    traceback.print_exc()\n",
    "    raise RuntimeError(f\"Failed to load model {MODEL_NAME} on GPU 2: {e}. Check VRAM, CUDA setup, and Hugging Face authentication.\")\n",
    "\n",
    "print(\"\\n--- Cell 5: Llama 3.1 8B Instruct Model Loading Complete ---\")\n",
    "\n",
    "print(\"Model max_position_embeddings:\", model.config.max_position_embeddings)\n",
    "print(\"Tokenizer model_max_length:\", tokenizer.model_max_length)\n"
   ]
  },
  {
   "cell_type": "code",
   "execution_count": 9,
   "id": "14926f95-8929-4625-a7f8-32d505739420",
   "metadata": {},
   "outputs": [
    {
     "name": "stdout",
     "output_type": "stream",
     "text": [
      "Script started. Looking for zip file at: /raid/infolab/gaurav/Llama_Spider_A100_Project/spider_subset_data.zip\n",
      "Zip file found at /raid/infolab/gaurav/Llama_Spider_A100_Project/spider_subset_data.zip.\n",
      "Attempting to unzip /raid/infolab/gaurav/Llama_Spider_A100_Project/spider_subset_data.zip to /raid/infolab/gaurav/Llama_Spider_A100_Project/...\n",
      "Successfully unzipped files to /raid/infolab/gaurav/Llama_Spider_A100_Project/\n",
      "Contents of /raid/infolab/gaurav/Llama_Spider_A100_Project/:\n",
      "  - experiments_70b_llama\n",
      "  - .gitignore\n",
      "  - backup_to_github.sh\n",
      "  - Miniconda3-latest-Linux-x86_64.sh\n",
      "  - spider_subset_data.zip\n",
      "  - llm_generated_schema_examples.json\n",
      "  - randomQ_allDBs_run1\n",
      "  - .ipynb_checkpoints\n",
      "  - all_queries.txt\n",
      "  - .git\n",
      "  - miniconda3\n",
      "  - 100_queries.txt\n",
      "  - spider_subset_data\n",
      "  - __MACOSX\n",
      "\n",
      "Verifying extracted file paths...\n",
      "SUCCESS: dev.json path is valid: /raid/infolab/gaurav/Llama_Spider_A100_Project/spider_subset_data/dev.json\n",
      "SUCCESS: tables.json path is valid: /raid/infolab/gaurav/Llama_Spider_A100_Project/spider_subset_data/tables.json\n",
      "\n",
      "--- Ready to load data ---\n",
      "Path to dev.json: /raid/infolab/gaurav/Llama_Spider_A100_Project/spider_subset_data/dev.json\n",
      "Path to tables.json: /raid/infolab/gaurav/Llama_Spider_A100_Project/spider_subset_data/tables.json\n"
     ]
    }
   ],
   "source": [
    "import zipfile\n",
    "import os\n",
    "\n",
    "SERVER_ZIP_FILE_PATH = '/raid/infolab/gaurav/Llama_Spider_A100_Project/spider_subset_data.zip'\n",
    "EXTRACTION_DESTINATION_DIR_ON_SERVER = '/raid/infolab/gaurav/Llama_Spider_A100_Project/'\n",
    "\n",
    "DEV_JSON_PATH = None\n",
    "TABLES_JSON_PATH = None\n",
    "\n",
    "def unzip_data(zip_filepath, dest_dir):\n",
    "    \"\"\"\n",
    "    Unzips a zip file to a specified destination directory.\n",
    "    \"\"\"\n",
    "    print(f\"Attempting to unzip {zip_filepath} to {dest_dir}...\")\n",
    "    try:\n",
    "        \n",
    "        with zipfile.ZipFile(zip_filepath, 'r') as zip_ref:\n",
    "            zip_ref.extractall(dest_dir)\n",
    "        print(f\"Successfully unzipped files to {dest_dir}\")\n",
    "\n",
    "        print(f\"Contents of {dest_dir}:\")\n",
    "        for item in os.listdir(dest_dir):\n",
    "            print(f\"  - {item}\")\n",
    "        return True\n",
    "    except zipfile.BadZipFile:\n",
    "        print(f\"Error: {zip_filepath} is not a valid zip file or is corrupted.\")\n",
    "        return False\n",
    "    except FileNotFoundError:\n",
    "        print(f\"Error: Zip file not found at {zip_filepath}. Please ensure the path is correct.\")\n",
    "        return False\n",
    "    except PermissionError:\n",
    "        print(f\"Error: Permission denied to write to {dest_dir} or read {zip_filepath}.\")\n",
    "        return False\n",
    "    except Exception as e:\n",
    "        print(f\"An unexpected error occurred during unzipping: {e}\")\n",
    "        return False\n",
    "\n",
    "print(f\"Script started. Looking for zip file at: {SERVER_ZIP_FILE_PATH}\")\n",
    "\n",
    "if os.path.exists(SERVER_ZIP_FILE_PATH):\n",
    "    print(f\"Zip file found at {SERVER_ZIP_FILE_PATH}.\")\n",
    "    if unzip_data(SERVER_ZIP_FILE_PATH, EXTRACTION_DESTINATION_DIR_ON_SERVER):\n",
    "        \n",
    "        EXPECTED_EXTRACTED_FOLDER_NAME = 'spider_subset_data' # This is the folder INSIDE the zip\n",
    "\n",
    "        DEV_JSON_PATH = os.path.join(EXTRACTION_DESTINATION_DIR_ON_SERVER, EXPECTED_EXTRACTED_FOLDER_NAME, 'dev.json')\n",
    "        TABLES_JSON_PATH = os.path.join(EXTRACTION_DESTINATION_DIR_ON_SERVER, EXPECTED_EXTRACTED_FOLDER_NAME, 'tables.json')\n",
    "\n",
    "        print(\"\\nVerifying extracted file paths...\")\n",
    "        if os.path.exists(DEV_JSON_PATH):\n",
    "            print(f\"SUCCESS: dev.json path is valid: {DEV_JSON_PATH}\")\n",
    "        else:\n",
    "            print(f\"ERROR: dev.json NOT FOUND at expected path: {DEV_JSON_PATH}\")\n",
    "            print(f\"Please check the contents of {os.path.join(EXTRACTION_DESTINATION_DIR_ON_SERVER, EXPECTED_EXTRACTED_FOLDER_NAME)}\")\n",
    "\n",
    "\n",
    "        if os.path.exists(TABLES_JSON_PATH):\n",
    "            print(f\"SUCCESS: tables.json path is valid: {TABLES_JSON_PATH}\")\n",
    "        else:\n",
    "            print(f\"ERROR: tables.json NOT FOUND at expected path: {TABLES_JSON_PATH}\")\n",
    "            print(f\"Please check the contents of {os.path.join(EXTRACTION_DESTINATION_DIR_ON_SERVER, EXPECTED_EXTRACTED_FOLDER_NAME)}\")\n",
    "\n",
    "    else:\n",
    "        print(\"Unzipping failed on the server. Cannot define data paths.\")\n",
    "else:\n",
    "    print(f\"ERROR: Zip file NOT FOUND at {SERVER_ZIP_FILE_PATH} on the server.\")\n",
    "    print(\"Please ensure the 'scp' command was successful and the path is correct.\")\n",
    "\n",
    "\n",
    "if DEV_JSON_PATH and TABLES_JSON_PATH and os.path.exists(DEV_JSON_PATH) and os.path.exists(TABLES_JSON_PATH):\n",
    "    print(\"\\n--- Ready to load data ---\")\n",
    "    print(f\"Path to dev.json: {DEV_JSON_PATH}\")\n",
    "    print(f\"Path to tables.json: {TABLES_JSON_PATH}\")\n",
    "    \n",
    "else:\n",
    "    print(\"\\n--- Data paths are not correctly set up. Cannot proceed with data loading. ---\")"
   ]
  },
  {
   "cell_type": "code",
   "execution_count": 10,
   "id": "c9436941-4794-4d16-b686-8ab6bcb0e202",
   "metadata": {},
   "outputs": [
    {
     "name": "stdout",
     "output_type": "stream",
     "text": [
      "Loaded 1034 queries from dev.json\n",
      "Loaded 166 database schemas from tables.json\n"
     ]
    }
   ],
   "source": [
    "import json\n",
    "\n",
    "def load_json_data(file_path):\n",
    "    if os.path.exists(file_path):\n",
    "        with open(file_path, 'r') as f:\n",
    "            return json.load(f)\n",
    "    else:\n",
    "        print(f\"ERROR: File not found at {file_path}\")\n",
    "        return None\n",
    "\n",
    "dev_data = load_json_data(DEV_JSON_PATH)\n",
    "tables_data = load_json_data(TABLES_JSON_PATH)\n",
    "\n",
    "if dev_data and tables_data:\n",
    "    print(f\"Loaded {len(dev_data)} queries from dev.json\")\n",
    "    print(f\"Loaded {len(tables_data)} database schemas from tables.json\")\n",
    "else:\n",
    "    print(\"Failed to load Spider data. Please check paths and upload.\")"
   ]
  },
  {
   "cell_type": "code",
   "execution_count": 23,
   "id": "c7399408-4f5a-45f5-93e7-c44a2e7f2223",
   "metadata": {
    "scrolled": true
   },
   "outputs": [
    {
     "name": "stdout",
     "output_type": "stream",
     "text": [
      "--- Preparing Schemas from tables.json ---\n",
      "Loaded base schema data for 166 databases.\n",
      "\n",
      "Successfully populated `all_db_schemas_sql_strings` with 166 schema entries.\n",
      "\n",
      "--- Verification of Schemas ---\n",
      "Schema for 'cre_Doc_Template_Mgt':\n",
      "CREATE TABLE Ref_Template_Types (\n",
      "  Template_Type_Code TEXT PRIMARY KEY,\n",
      "  Template_Type_Description TEXT\n",
      ");\n",
      "\n",
      "CREATE TABLE Templates (\n",
      "  Template_ID INTEGER PRIMARY KEY,\n",
      "  Version_Number REAL,\n",
      "  Template_Type_Code TEXT,\n",
      "  Date_Effective_From DATETIME,\n",
      "  Date_Effective_To DATETIME,\n",
      "  Template_Details TEXT,\n",
      "  FOREIGN KEY (Template_Type_Code) REFERENCES Ref_Template_Types (Template_Type_Code)\n",
      ");\n",
      "\n",
      "CREATE TABLE Documents (\n",
      "  Document_ID INTEGER PRIMARY KEY,\n",
      "  Template_ID INTEGER,\n",
      "  Document_Name TEXT,\n",
      "  Document_Description TEXT,\n",
      "  Other_Details TEXT,\n",
      "  FOREIGN KEY (Template_ID) REFERENCES Templates (Template_ID)\n",
      ");\n",
      "\n",
      "CREATE TABLE Paragraphs (\n",
      "  Paragraph_ID INTEGER PRIMARY KEY,\n",
      "  Document_ID INTEGER,\n",
      "  Paragraph_Text TEXT,\n",
      "  Other_Details TEXT,\n",
      "  FOREIGN KEY (Document_ID) REFERENCES Documents (Document_ID)\n",
      ");\n"
     ]
    }
   ],
   "source": [
    "import json\n",
    "import os\n",
    "\n",
    "# --- Helper Functions (No changes here) ---\n",
    "def load_schemas(tables_json_path):\n",
    "    with open(tables_json_path, 'r') as f:\n",
    "        schemas_list = json.load(f)\n",
    "    return {db_info['db_id']: db_info for db_info in schemas_list}\n",
    "\n",
    "def map_spider_type_to_sql_type(spider_type, is_pk_or_fk=False):\n",
    "    spider_type = spider_type.lower()\n",
    "    if spider_type == \"text\": return \"TEXT\"\n",
    "    if spider_type == \"number\": return \"INTEGER\" if is_pk_or_fk else \"REAL\"\n",
    "    if spider_type == \"time\": return \"DATETIME\"\n",
    "    if spider_type == \"boolean\": return \"BOOLEAN\"\n",
    "    return \"TEXT\"\n",
    "\n",
    "def escape_sql_identifier(name):\n",
    "    if \" \" in name or name.lower() in {\"select\", \"from\", \"where\", \"table\", \"primary\", \"key\", \"foreign\", \"index\", \"order\", \"group\"}:\n",
    "        return f'\"{name}\"'\n",
    "    return name\n",
    "\n",
    "def generate_create_table_sql_for_db(db_id, all_schemas_data):\n",
    "    # This function is the same as your original, with corrected formatting\n",
    "    if db_id not in all_schemas_data: return f\"-- Database ID '{db_id}' not found in schemas.\"\n",
    "    db_schema = all_schemas_data[db_id]\n",
    "    sql_statements = []\n",
    "    column_info_by_index = {i: {\"original_name\": c_name, \"table_index\": t_idx, \"original_table_name\": db_schema['table_names_original'][t_idx], \"type\": db_schema['column_types'][i]} for i, (t_idx, c_name) in enumerate(db_schema['column_names_original']) if c_name != \"*\"}\n",
    "    for table_idx, table_name_original in enumerate(db_schema['table_names_original']):\n",
    "        escaped_table_name = escape_sql_identifier(table_name_original)\n",
    "        column_definitions, table_constraints = [], []\n",
    "        current_table_columns = [{\"global_idx\": c_idx, \"name\": c_name, \"type\": db_schema['column_types'][c_idx]} for c_idx, (t_idx_for_col, c_name) in enumerate(db_schema['column_names_original']) if c_name != \"*\" and t_idx_for_col == table_idx]\n",
    "        pk_column_indices = [pk_idx for pk_idx in db_schema['primary_keys'] if column_info_by_index.get(pk_idx) and column_info_by_index[pk_idx]['table_index'] == table_idx]\n",
    "        pk_column_names = [column_info_by_index[idx]['original_name'] for idx in pk_column_indices]\n",
    "        for col_data in current_table_columns:\n",
    "            is_pk, is_fk = col_data['global_idx'] in pk_column_indices, any(fk[0] == col_data['global_idx'] for fk in db_schema['foreign_keys'])\n",
    "            sql_type = map_spider_type_to_sql_type(col_data['type'], is_pk_or_fk=(is_pk or is_fk))\n",
    "            col_def_str = f\"{escape_sql_identifier(col_data['name'])} {sql_type}\"\n",
    "            if is_pk and len(pk_column_names) == 1: col_def_str += \" PRIMARY KEY\"\n",
    "            column_definitions.append(col_def_str)\n",
    "        if len(pk_column_names) > 1: table_constraints.append(f\"PRIMARY KEY ({', '.join([escape_sql_identifier(n) for n in pk_column_names])})\")\n",
    "        for fk_col_idx, ref_col_idx in db_schema['foreign_keys']:\n",
    "            if column_info_by_index.get(fk_col_idx) and column_info_by_index[fk_col_idx]['table_index'] == table_idx:\n",
    "                fk_col_name, ref_table_name, ref_col_name = column_info_by_index[fk_col_idx]['original_name'], column_info_by_index[ref_col_idx]['original_table_name'], column_info_by_index[ref_col_idx]['original_name']\n",
    "                table_constraints.append(f\"FOREIGN KEY ({escape_sql_identifier(fk_col_name)}) REFERENCES {escape_sql_identifier(ref_table_name)} ({escape_sql_identifier(ref_col_name)})\")\n",
    "        create_table_statement = f\"CREATE TABLE {escaped_table_name} (\\n  \" + \",\\n  \".join(column_definitions + table_constraints) + \"\\n);\"\n",
    "        sql_statements.append(create_table_statement)\n",
    "    return \"\\n\\n\".join(sql_statements)\n",
    "\n",
    "# --- Main Execution for this Cell ---\n",
    "print(\"--- Preparing Schemas from tables.json ---\")\n",
    "\n",
    "# Define paths for Colab\n",
    "SPIDER_DATA_DIR = '/raid/infolab/gaurav/Llama_Spider_A100_Project/spider_subset_data'\n",
    "# Path to your base schemas\n",
    "spider_tables_json_path = os.path.join(SPIDER_DATA_DIR, 'tables.json')\n",
    "\n",
    "# This is the final dictionary your experiment will use\n",
    "all_db_schemas_sql_strings = {}\n",
    "\n",
    "try:\n",
    "    # 1. Load the base schema structures from tables.json\n",
    "    all_db_schemas_data_loaded = load_schemas(spider_tables_json_path)\n",
    "    print(f\"Loaded base schema data for {len(all_db_schemas_data_loaded)} databases.\")\n",
    "\n",
    "    # 2. Iterate through each schema and generate its SQL\n",
    "    if all_db_schemas_data_loaded:\n",
    "        for db_id in all_db_schemas_data_loaded:\n",
    "            # Generate the CREATE TABLE statements\n",
    "            sql_string = generate_create_table_sql_for_db(db_id, all_db_schemas_data_loaded)\n",
    "            all_db_schemas_sql_strings[db_id] = sql_string\n",
    "\n",
    "        print(f\"\\nSuccessfully populated `all_db_schemas_sql_strings` with {len(all_db_schemas_sql_strings)} schema entries.\")\n",
    "    else:\n",
    "        print(\"No schema data loaded from tables.json, so `all_db_schemas_sql_strings` is empty.\")\n",
    "\n",
    "except FileNotFoundError:\n",
    "    print(f\"FATAL ERROR: The schema file was not found at '{spider_tables_json_path}'.\")\n",
    "    all_db_schemas_sql_strings = {}\n",
    "except Exception as e:\n",
    "    import traceback\n",
    "    print(f\"FATAL ERROR during schema preparation: {e}\")\n",
    "    traceback.print_exc()\n",
    "    all_db_schemas_sql_strings = {}\n",
    "\n",
    "# --- Verification ---\n",
    "print(f\"\\n--- Verification of Schemas ---\")\n",
    "# Check a database to verify its schema was generated correctly.\n",
    "db_to_verify = 'cre_Doc_Template_Mgt'\n",
    "if db_to_verify in all_db_schemas_sql_strings:\n",
    "    print(f\"Schema for '{db_to_verify}':\")\n",
    "    print(all_db_schemas_sql_strings[db_to_verify])\n",
    "else:\n",
    "    print(f\"Could not find schema for '{db_to_verify}' to verify.\")"
   ]
  },
  {
   "cell_type": "code",
   "execution_count": 24,
   "id": "884dc45c-f58c-4d88-9a41-26525d5f0d75",
   "metadata": {},
   "outputs": [
    {
     "name": "stdout",
     "output_type": "stream",
     "text": [
      "--- Verifying for Overlap Between Dev and Train Datasets ---\n",
      "SUCCESS: Loaded 20 unique db_ids from 'dev.json'.\n",
      "SUCCESS: Loaded 140 unique db_ids from 'train_spider.json'.\n",
      "SUCCESS: Loaded 6 unique db_ids from 'train_others.json'.\n",
      "Total unique db_ids in training sources: 146\n",
      "\n",
      "--- Analysis Report ---\n",
      "SUCCESS: No overlapping database IDs were found between the development and training sets.\n",
      "This is the expected and correct behavior for a standard Spider dataset.\n",
      "-------------------------\n"
     ]
    }
   ],
   "source": [
    "import os\n",
    "import json\n",
    "\n",
    "# --- This cell checks for overlapping db_ids between train and dev sets ---\n",
    "\n",
    "# Define the base directory for Spider data\n",
    "SPIDER_DATA_DIR = '/raid/infolab/gaurav/Llama_Spider_A100_Project/spider_subset_data/'\n",
    "\n",
    "# Define full paths to the relevant files\n",
    "dev_file = os.path.join(SPIDER_DATA_DIR, 'dev.json')\n",
    "train_spider_file = os.path.join(SPIDER_DATA_DIR, 'train_spider.json')\n",
    "train_others_file = os.path.join(SPIDER_DATA_DIR, 'train_others.json')\n",
    "\n",
    "def get_db_ids_from_file(filepath):\n",
    "    \"\"\"A helper function to load a JSON file and return a set of its db_ids.\"\"\"\n",
    "    if not os.path.exists(filepath):\n",
    "        print(f\"INFO: File not found at '{filepath}', skipping.\")\n",
    "        return set()\n",
    "    try:\n",
    "        with open(filepath, 'r') as f:\n",
    "            data = json.load(f)\n",
    "        db_ids = {item['db_id'] for item in data}\n",
    "        print(f\"SUCCESS: Loaded {len(db_ids)} unique db_ids from '{os.path.basename(filepath)}'.\")\n",
    "        return db_ids\n",
    "    except Exception as e:\n",
    "        print(f\"ERROR: Failed to read or parse '{filepath}'. Reason: {e}\")\n",
    "        return set()\n",
    "\n",
    "print(\"--- Verifying for Overlap Between Dev and Train Datasets ---\")\n",
    "\n",
    "# 1. Load the dev set IDs\n",
    "dev_db_ids = get_db_ids_from_file(dev_file)\n",
    "\n",
    "# 2. Load the training set IDs (from both files)\n",
    "train_spider_ids = get_db_ids_from_file(train_spider_file)\n",
    "train_others_ids = get_db_ids_from_file(train_others_file)\n",
    "\n",
    "# Combine the training IDs into a single set\n",
    "all_train_db_ids = train_spider_ids.union(train_others_ids)\n",
    "print(f\"Total unique db_ids in training sources: {len(all_train_db_ids)}\")\n",
    "\n",
    "print(\"\\n--- Analysis Report ---\")\n",
    "\n",
    "# 3. Find and report the intersection\n",
    "if not dev_db_ids:\n",
    "    print(\"CRITICAL: dev.json could not be loaded. Cannot perform the overlap check.\")\n",
    "elif not all_train_db_ids:\n",
    "    print(\"WARNING: No training files could be loaded. Overlap check is incomplete.\")\n",
    "else:\n",
    "    # Calculate the intersection of the two sets\n",
    "    overlapping_ids = dev_db_ids.intersection(all_train_db_ids)\n",
    "\n",
    "    if not overlapping_ids:\n",
    "        print(\"SUCCESS: No overlapping database IDs were found between the development and training sets.\")\n",
    "        print(\"This is the expected and correct behavior for a standard Spider dataset.\")\n",
    "    else:\n",
    "        print(f\"WARNING: Found {len(overlapping_ids)} overlapping database(s)!\")\n",
    "        print(\"This is not standard and can lead to data leakage in evaluation.\")\n",
    "        print(\"The following database IDs are present in BOTH your dev and training files:\")\n",
    "        # Sort for consistent, readable output\n",
    "        for db_id in sorted(list(overlapping_ids)):\n",
    "            print(f\"  - {db_id}\")\n",
    "\n",
    "print(\"-\" * 25)"
   ]
  },
  {
   "cell_type": "code",
   "execution_count": 26,
   "id": "dca38b07-cca2-42a7-91f8-72770d2cce7a",
   "metadata": {},
   "outputs": [
    {
     "name": "stdout",
     "output_type": "stream",
     "text": [
      "Loaded 1034 queries from '/raid/infolab/gaurav/Llama_Spider_A100_Project/all_queries.txt':\n",
      "  Query 1: 'Show the property type descriptions of properties belonging to that code.' (True DB: real_estate_properties)\n",
      "  Query 2: 'What are the name of the countries where there is not a single car maker?' (True DB: car_1)\n",
      "  Query 3: 'What are the date and the operating professional's first name of each treatment?' (True DB: dog_kennels)\n",
      "  Query 4: 'List each owner's first name, last name, and the size of his for her dog.' (True DB: dog_kennels)\n",
      "  Query 5: 'Find the first name and age of students who have a dog but do not have a cat as a pet.' (True DB: pets_1)\n",
      "  Query 6: 'What is the number of cars with a greater accelerate than the one with the most horsepower?' (True DB: car_1)\n",
      "  Query 7: 'What are the names of the teachers who are aged either 32 or 33?' (True DB: course_teach)\n",
      "  Query 8: 'Return the maximum final tables made across all poker players who have earnings below 200000.' (True DB: poker_player)\n",
      "  Query 9: 'Show template ids, version numbers, and template type codes for all templates.' (True DB: cre_Doc_Template_Mgt)\n",
      "  Query 10: 'What is the most common nationality of people?' (True DB: poker_player)\n",
      "  Query 11: 'find the pixel aspect ratio and nation of the tv channels that do not use English.' (True DB: tvshow)\n",
      "  Query 12: 'What is the template type code of the template used by document with the name \"Data base\"?' (True DB: cre_Doc_Template_Mgt)\n",
      "  Query 13: 'What is the maker of the carr produced in the earliest year and what year was it?' (True DB: car_1)\n",
      "  Query 14: 'Count the number of high schoolers.' (True DB: network_1)\n",
      "  Query 15: 'Find the average life expectancy and total population for each continent where the average life expectancy is shorter than 72?' (True DB: world_1)\n",
      "  Query 16: 'List the date of each treatment, together with the first name of the professional who operated it.' (True DB: dog_kennels)\n",
      "  Query 17: 'Show all template ids and number of documents using each template.' (True DB: cre_Doc_Template_Mgt)\n",
      "  Query 18: 'Who is the first student to register? List the first name, middle name and last name.' (True DB: student_transcripts_tracking)\n",
      "  Query 19: 'Show the name of the teacher for the math course.' (True DB: course_teach)\n",
      "  Query 20: 'Find the id and name of the museum that has the most staff members?' (True DB: museum_visit)\n",
      "  Query 21: 'What are flight numbers of flights departing from Airport \"APG\"?' (True DB: flight_2)\n",
      "  Query 22: 'What are the names of poker players in descending order of earnings?' (True DB: poker_player)\n",
      "  Query 23: 'What is the average earnings of poker players?' (True DB: poker_player)\n",
      "  Query 24: 'Which year had the most matches?' (True DB: wta_1)\n",
      "  Query 25: 'Find the names of stores whose number products is more than the average number of products.' (True DB: employee_hire_evaluation)\n",
      "  Query 26: 'What is the money rank of the tallest poker player?' (True DB: poker_player)\n",
      "  Query 27: 'What is the document id with least number of paragraphs?' (True DB: cre_Doc_Template_Mgt)\n",
      "  Query 28: 'How many cars have a larger accelerate than the car with the largest horsepower?' (True DB: car_1)\n",
      "  Query 29: 'What is the program id and the summary of the degree that has the most students enrolled?' (True DB: student_transcripts_tracking)\n",
      "  Query 30: 'What is the number of nations that use English and Dutch?' (True DB: world_1)\n",
      "  Query 31: 'What is the document id, template id and description for document named \"Robbin CV\"?' (True DB: cre_Doc_Template_Mgt)\n",
      "  Query 32: 'What are the codes of countries where Spanish is spoken by the largest percentage of people?' (True DB: world_1)\n",
      "  Query 33: 'What is the last name of the student who has a cat that is 3 years old?' (True DB: pets_1)\n",
      "  Query 34: 'What are the first name and last name of the professionals who have done treatment with cost below average?' (True DB: dog_kennels)\n",
      "  Query 35: 'What is average life expectancy in the countries where English is not the official language?' (True DB: world_1)\n",
      "  Query 36: 'What is the average weight of cars each year?' (True DB: car_1)\n",
      "  Query 37: 'Find the first name and age of students who have a pet.' (True DB: pets_1)\n",
      "  Query 38: 'List all singer names in concerts in year 2014.' (True DB: concert_singer)\n",
      "  Query 39: 'Return the names of cities that have a population between 160000 and 900000 .' (True DB: world_1)\n",
      "  Query 40: 'Which city and country is the Alton airport at?' (True DB: flight_2)\n",
      "  Query 41: 'find the names of museums which have more staff than the minimum staff number of all museums opened after 2010.' (True DB: museum_visit)\n",
      "  Query 42: 'Tell me the age of the oldest dog.' (True DB: dog_kennels)\n",
      "  Query 43: 'How many orchestras does each record company manage?' (True DB: orchestra)\n",
      "  Query 44: 'Which distinctive models are produced by maker with the full name General Motors or weighing more than 3500?' (True DB: car_1)\n",
      "  Query 45: 'What are the names of players who won in both 2013 and 2016?' (True DB: wta_1)\n",
      "  Query 46: 'Give the flight numbers of flights leaving from APG.' (True DB: flight_2)\n",
      "  Query 47: 'What is the average edispl for all volvos?' (True DB: car_1)\n",
      "  Query 48: 'Show the names of conductors and the orchestras they have conducted.' (True DB: orchestra)\n",
      "  Query 49: 'What is the average and maximum age for each pet type?' (True DB: pets_1)\n",
      "  Query 50: 'What are the death and injury situations caused by the ship with tonnage 't'?' (True DB: battle_death)\n",
      "  Query 51: 'List the arrival date and the departure date for all the dogs.' (True DB: dog_kennels)\n",
      "  Query 52: 'What is the average age of all the dogs?' (True DB: dog_kennels)\n",
      "  Query 53: 'What are years of founding for orchestras that have had more than a single performance?' (True DB: orchestra)\n",
      "  Query 54: 'Find the number of pets whose weight is heavier than 10.' (True DB: pets_1)\n",
      "  Query 55: 'List the email, cell phone and home phone of all the professionals.' (True DB: dog_kennels)\n",
      "  Query 56: 'What are all different template ids used for documents, and how many times were each of them used?' (True DB: cre_Doc_Template_Mgt)\n",
      "  Query 57: 'What are the regions that use English or Dutch?' (True DB: world_1)\n",
      "  Query 58: 'Return the different descriptions for templates that have been used in a document.' (True DB: cre_Doc_Template_Mgt)\n",
      "  Query 59: 'List pairs of the owner's first name and the dogs's name.' (True DB: dog_kennels)\n",
      "  Query 60: 'What is the number of cartoones written by Joseph Kuhr?' (True DB: tvshow)\n",
      "  Query 61: 'List the names of conductors in ascending order of age.' (True DB: orchestra)\n",
      "  Query 62: 'Find the first name and gender of student who have more than one pet.' (True DB: pets_1)\n",
      "  Query 63: 'Show the names of students who have a grade higher than 5 and have at least 2 friends.' (True DB: network_1)\n",
      "  Query 64: 'Count the number of distinct store locations.' (True DB: employee_hire_evaluation)\n",
      "  Query 65: 'What is the code of airport that has the highest number of flights?' (True DB: flight_2)\n",
      "  Query 66: 'What is the name of the series that has the episode \"A Love of a Lifetime\"?' (True DB: tvshow)\n",
      "  Query 67: 'Show the names of singers and the total sales of their songs.' (True DB: singer)\n",
      "  Query 68: 'Find the number of orchestras whose record format is \"CD\" or \"DVD\".' (True DB: orchestra)\n",
      "  Query 69: 'How many poker players are there?' (True DB: poker_player)\n",
      "  Query 70: 'How many matches were played in each year?' (True DB: wta_1)\n",
      "  Query 71: 'Find the first names of owners living in Virginia and the names of dogs they own.' (True DB: dog_kennels)\n",
      "  Query 72: 'Show paragraph details for paragraph with text 'Korea ' .' (True DB: cre_Doc_Template_Mgt)\n",
      "  Query 73: 'Count the number of friends Kyle has.' (True DB: network_1)\n",
      "  Query 74: 'What are the ids and names of all countries that either have more than 3 car makers or produce fiat model ?' (True DB: car_1)\n",
      "  Query 75: 'Return the names of the 3 countries with the fewest people.' (True DB: world_1)\n",
      "  Query 76: 'What are the name, population, and life expectancy of the largest Asian country by land?' (True DB: world_1)\n",
      "  Query 77: 'Which country has the most of TV Channels? List the country and number of TV Channels it has.' (True DB: tvshow)\n",
      "  Query 78: 'Find the type and weight of the youngest pet.' (True DB: pets_1)\n",
      "  Query 79: 'What are the country codes for countries that do not speak English?' (True DB: world_1)\n",
      "  Query 80: 'What are the airline names and abbreviations for airlines in the USA?' (True DB: flight_2)\n",
      "  Query 81: 'Which are the car makers which produce at least 2 models and more than 3 car makers ? List the id and the maker .' (True DB: car_1)\n",
      "  Query 82: 'How many matches were played in 2013 or 2016?' (True DB: wta_1)\n",
      "  Query 83: 'Show all template type codes and the number of documents using each type.' (True DB: cre_Doc_Template_Mgt)\n",
      "  Query 84: 'Find the make and production time of the cars that were produced in the earliest year?' (True DB: car_1)\n",
      "  Query 85: 'How many cartoons were written by \"Joseph Kuhr\"?' (True DB: tvshow)\n",
      "  Query 86: 'What are the names of countries that speak more than 2 languages, as well as how many languages they speak?' (True DB: world_1)\n",
      "  Query 87: 'Give me all the information about hiring.' (True DB: employee_hire_evaluation)\n",
      "  Query 88: 'Find the average age of students who do not have any pet .' (True DB: pets_1)\n",
      "  Query 89: 'What are the names of conductors who have conducted orchestras founded after the year 2008?' (True DB: orchestra)\n",
      "  Query 90: 'How many car models are produced by each maker ? Only list the count and the maker full name .' (True DB: car_1)\n",
      "  Query 91: 'Find the year that has the most number of matches.' (True DB: wta_1)\n",
      "  Query 92: 'What are the different models created by either the car maker General Motors or weighed more than 3500?' (True DB: car_1)\n",
      "  Query 93: 'What are the names and release years for all the songs of the youngest singer?' (True DB: concert_singer)\n",
      "  Query 94: 'Find the id of students who do not have a cat pet.' (True DB: pets_1)\n",
      "  Query 95: 'List the title of all  Cartoons showed on TV Channel with series name \"Sky Radio\".' (True DB: tvshow)\n",
      "  Query 96: 'Return the id and type code of the template that is used for the greatest number of documents.' (True DB: cre_Doc_Template_Mgt)\n",
      "  Query 97: 'Return the different names of cities that are in Asia and for which Chinese is the official language.' (True DB: world_1)\n",
      "  Query 98: 'List all document ids with at least two paragraphs.' (True DB: cre_Doc_Template_Mgt)\n",
      "  Query 99: 'Which address holds the most number of students currently? List the address id and all lines.' (True DB: student_transcripts_tracking)\n",
      "  Query 100: 'Show ids for all templates not used by any document.' (True DB: cre_Doc_Template_Mgt)\n",
      "  Query 101: 'List the vote ids, phone numbers and states of all votes.' (True DB: voter_1)\n",
      "  Query 102: 'Show the stadium names without any concert.' (True DB: concert_singer)\n",
      "  Query 103: 'find the id, name and age for visitors who visited some museums more than once.' (True DB: museum_visit)\n",
      "  Query 104: 'Show the document id with paragraph text 'Brazil' and 'Ireland'.' (True DB: cre_Doc_Template_Mgt)\n",
      "  Query 105: 'Which shops' number products is above the average? Give me the shop names.' (True DB: employee_hire_evaluation)\n",
      "  Query 106: 'What is the zip code of the address in the city Port Chelsea?' (True DB: student_transcripts_tracking)\n",
      "  Query 107: 'List the title of all cartoon directed by \"Ben Jones\" or \"Brandon Vietti\".' (True DB: tvshow)\n",
      "  Query 108: 'What are the template ids of any templates used in more than a single document?' (True DB: cre_Doc_Template_Mgt)\n",
      "  Query 109: 'What are the names and ranks of the three youngest winners across all matches?' (True DB: wta_1)\n",
      "  Query 110: 'Give the nationality that is most common across all people.' (True DB: poker_player)\n",
      "  Query 111: 'What is the name and capacity for the stadium with the highest average attendance?' (True DB: concert_singer)\n",
      "  Query 112: 'What is the total surface area of the continents Asia and Europe?' (True DB: world_1)\n",
      "  Query 113: 'What are the first names and country codes for players who won both the WTA Championships and the Australian Open?' (True DB: wta_1)\n",
      "  Query 114: 'Give me the id, role and email of the professionals who did not perform any treatment on dogs.' (True DB: dog_kennels)\n",
      "  Query 115: 'What is the average life expectancy in African countries that are republics?' (True DB: world_1)\n",
      "  Query 116: 'What is the name of country that has the shortest life expectancy in Asia?' (True DB: world_1)\n",
      "  Query 117: 'What are the ids of the students who do not own cats as pets?' (True DB: pets_1)\n",
      "  Query 118: 'What is the semester which most student registered in? Show both the name and the id.' (True DB: student_transcripts_tracking)\n",
      "  Query 119: 'What is the name of the conductor who has worked the greatest number of years?' (True DB: orchestra)\n",
      "  Query 120: 'List each language and the number of TV Channels using it.' (True DB: tvshow)\n",
      "  Query 121: 'Return the type code of the template type with the description \"Book\".' (True DB: cre_Doc_Template_Mgt)\n",
      "  Query 122: 'How many singers are from each country?' (True DB: concert_singer)\n",
      "  Query 123: 'What are the birth years and citizenships of the singers?' (True DB: singer)\n",
      "  Query 124: 'List the Episode of all  TV series showed on TV Channel with series name \"Sky Radio\".' (True DB: tvshow)\n",
      "  Query 125: 'What is the code of the country with the most players?' (True DB: wta_1)\n",
      "  Query 126: 'Which year has most number of concerts?' (True DB: concert_singer)\n",
      "  Query 127: 'Return the lowest version number, along with its corresponding template type code.' (True DB: cre_Doc_Template_Mgt)\n",
      "  Query 128: 'What is the number of continents?' (True DB: car_1)\n",
      "  Query 129: 'What is the charge amount of the most expensive charge type?' (True DB: dog_kennels)\n",
      "  Query 130: 'What are the different models for the cards produced after 1980?' (True DB: car_1)\n",
      "  Query 131: 'List top 3 highest Rating  TV series. List the TV series's Episode and Rating.' (True DB: tvshow)\n",
      "  Query 132: 'What are the names and areas of countries with the top 5 largest area?' (True DB: world_1)\n",
      "  Query 133: 'How many owners temporarily do not have any dogs?' (True DB: dog_kennels)\n",
      "  Query 134: 'Compute the average age of all the dogs.' (True DB: dog_kennels)\n",
      "  Query 135: 'Show names for all stadiums except for stadiums having a concert in year 2014.' (True DB: concert_singer)\n",
      "  Query 136: 'What is the TV Channel of TV series with Episode \"A Love of a Lifetime\"? List the TV Channel's series name.' (True DB: tvshow)\n",
      "  Query 137: 'What are the minimum and maximum number of products across all the shops?' (True DB: employee_hire_evaluation)\n",
      "  Query 138: 'what are all the addresses including line 1 and line 2?' (True DB: student_transcripts_tracking)\n",
      "  Query 139: 'What are the names and ids of all countries with at least one car maker?' (True DB: car_1)\n",
      "  Query 140: 'Find the average and maximum age for each type of pet.' (True DB: pets_1)\n",
      "  Query 141: 'What is the sname of every sing that does not have any song?' (True DB: singer)\n",
      "  Query 142: 'What are the names of all courses that have some students enrolled?' (True DB: student_transcripts_tracking)\n",
      "  Query 143: 'Please show the most common citizenship of singers.' (True DB: singer)\n",
      "  Query 144: 'List the name of teachers whose hometown is not `` Little Lever Urban District '' .' (True DB: course_teach)\n",
      "  Query 145: 'How many courses in total are listed?' (True DB: student_transcripts_tracking)\n",
      "  Query 146: 'Find the production code and channel of the most recently aired cartoon .' (True DB: tvshow)\n",
      "  Query 147: 'Which country does Airline \"JetBlue Airways\" belong to?' (True DB: flight_2)\n",
      "  Query 148: 'What is the number of the cars with horsepower more than 150?' (True DB: car_1)\n",
      "  Query 149: 'Show all distinct template type codes for all templates.' (True DB: cre_Doc_Template_Mgt)\n",
      "  Query 150: 'List the number of different series names and contents in the TV Channel table.' (True DB: tvshow)\n",
      "  Query 151: 'How many museums were opened after 2013 or before 2008?' (True DB: museum_visit)\n",
      "  Query 152: 'Return the template type description of the template type with the code AD.' (True DB: cre_Doc_Template_Mgt)\n",
      "  Query 153: 'On average, when were the transcripts printed?' (True DB: student_transcripts_tracking)\n",
      "  Query 154: 'List the record company shared by the most number of orchestras.' (True DB: orchestra)\n",
      "  Query 155: 'List the names of employees and sort in ascending order of age.' (True DB: employee_hire_evaluation)\n",
      "  Query 156: 'How many dog pets are raised by female students?' (True DB: pets_1)\n",
      "  Query 157: 'What is the number of car models created by the car maker American Motor Company?' (True DB: car_1)\n",
      "  Query 158: 'Return the names and template ids for documents that contain the letter w in their description.' (True DB: cre_Doc_Template_Mgt)\n",
      "  Query 159: 'Which template type code is used by most number of documents?' (True DB: cre_Doc_Template_Mgt)\n",
      "  Query 160: 'For model volvo, how many cylinders does the car with the least accelerate have?' (True DB: car_1)\n",
      "  Query 161: 'For students who have pets , how many pets does each student have ? list their ids instead of names .' (True DB: pets_1)\n",
      "  Query 162: 'Which student has enrolled for the most times in any program? List the id, first name, middle name, last name, the number of enrollments and student id.' (True DB: student_transcripts_tracking)\n",
      "  Query 163: 'List the area codes in which voters voted both for the contestant 'Tabatha Gehling' and the contestant 'Kelly Clauss'.' (True DB: voter_1)\n",
      "  Query 164: 'Give the airline with abbreviation 'UAL'.' (True DB: flight_2)\n",
      "  Query 165: 'Describe the section h.' (True DB: student_transcripts_tracking)\n",
      "  Query 166: 'Find the number of professionals who have ever treated dogs.' (True DB: dog_kennels)\n",
      "  Query 167: 'How many available features are there in total?' (True DB: real_estate_properties)\n",
      "  Query 168: 'What is the number of carsw ith over 6 cylinders?' (True DB: car_1)\n",
      "  Query 169: 'List the name and tonnage ordered by in descending alphaetical order for the names.' (True DB: battle_death)\n",
      "  Query 170: 'List the names of the dogs of the rarest breed and the treatment dates of them.' (True DB: dog_kennels)\n",
      "  Query 171: 'How many high schoolers are there?' (True DB: network_1)\n",
      "  Query 172: 'What is the average grade of students who have friends?' (True DB: network_1)\n",
      "  Query 173: 'How much does each charge type costs? List both charge type and amount.' (True DB: dog_kennels)\n",
      "  Query 174: 'What is the average age for all students who do not own any pets ?' (True DB: pets_1)\n",
      "  Query 175: 'How many conductors are there?' (True DB: orchestra)\n",
      "  Query 176: 'Find the highest rank of losers in all matches.' (True DB: wta_1)\n",
      "  Query 177: 'Show the student IDs and numbers of friends corresponding to each.' (True DB: network_1)\n",
      "  Query 178: 'What is the model of the car with the smallest amount of horsepower?' (True DB: car_1)\n",
      "  Query 179: 'Which regions speak Dutch or English?' (True DB: world_1)\n",
      "  Query 180: 'What are the citizenships that are shared by singers with a birth year before 1945 and after 1955?' (True DB: singer)\n",
      "  Query 181: 'Return the number of flights departing from Aberdeen.' (True DB: flight_2)\n",
      "  Query 182: 'How many concerts are there in year 2014 or 2015?' (True DB: concert_singer)\n",
      "  Query 183: 'Return the number of flights.' (True DB: flight_2)\n",
      "  Query 184: 'What are each owner's first name, last name, and the size of their dog?' (True DB: dog_kennels)\n",
      "  Query 185: 'What is the id and weight of every pet who is older than 1?' (True DB: pets_1)\n",
      "  Query 186: 'Show the names of high school students and their corresponding number of friends.' (True DB: network_1)\n",
      "  Query 187: 'What are the names of all cartoons directed by Ben Jones?' (True DB: tvshow)\n",
      "  Query 188: 'find the names of loser and winner who played in the match with greatest number of minutes.' (True DB: wta_1)\n",
      "  Query 189: 'What are the names and ids of every course with less than 2 sections?' (True DB: student_transcripts_tracking)\n",
      "  Query 190: 'Find the average age of losers and winners of all matches.' (True DB: wta_1)\n",
      "  Query 191: 'Show the names of singers that have more than one song.' (True DB: singer)\n",
      "  Query 192: 'Which semesters do not have any student enrolled? List the semester name.' (True DB: student_transcripts_tracking)\n",
      "  Query 193: 'What are the names of documents that use templates with the code BK?' (True DB: cre_Doc_Template_Mgt)\n",
      "  Query 194: 'Show the name of teachers aged either 32 or 33?' (True DB: course_teach)\n",
      "  Query 195: 'List the number of all matches who played in years of 2013 or 2016.' (True DB: wta_1)\n",
      "  Query 196: 'Find the first name of students who have cat or dog pet.' (True DB: pets_1)\n",
      "  Query 197: 'Show all template type codes and number of templates for each.' (True DB: cre_Doc_Template_Mgt)\n",
      "  Query 198: 'What are the titles of the cartoons sorted alphabetically?' (True DB: tvshow)\n",
      "  Query 199: 'What is the name of the conductor who has conducted the most orchestras?' (True DB: orchestra)\n",
      "  Query 200: 'What is the name of the shop that is hiring the largest number of employees?' (True DB: employee_hire_evaluation)\n",
      "  Query 201: 'Show all the grades of the high schoolers.' (True DB: network_1)\n",
      "  Query 202: 'What is the number of distinct continents where Chinese is spoken?' (True DB: world_1)\n",
      "  Query 203: 'What is Weekly Rank of TV series with Episode \"A Love of a Lifetime\"?' (True DB: tvshow)\n",
      "  Query 204: 'Find the name of the makers that produced some cars in the year of 1970?' (True DB: car_1)\n",
      "  Query 205: 'What are the contestant numbers and names of the contestants who had at least two votes?' (True DB: voter_1)\n",
      "  Query 206: 'For each shop, return the number of employees working there and the name of the shop.' (True DB: employee_hire_evaluation)\n",
      "  Query 207: 'What are the ids, names, and descriptions for all documents?' (True DB: cre_Doc_Template_Mgt)\n",
      "  Query 208: 'What is the most common singer citizenship ?' (True DB: singer)\n",
      "  Query 209: 'List the names and birth dates of people in ascending alphabetical order of name.' (True DB: poker_player)\n",
      "  Query 210: 'Find the id, last name and cell phone of the professionals who live in the state of Indiana or have performed more than two treatments.' (True DB: dog_kennels)\n",
      "  Query 211: 'Return the money rank of the player with the greatest earnings.' (True DB: poker_player)\n",
      "  Query 212: 'Which makers designed more than 3 car models? List full name and the id.' (True DB: car_1)\n",
      "  Query 213: 'Which continent speaks the most languages?' (True DB: world_1)\n",
      "  Query 214: 'What is the average number of injuries caused each time?' (True DB: battle_death)\n",
      "  Query 215: 'What are the different template type codes?' (True DB: cre_Doc_Template_Mgt)\n",
      "  Query 216: 'Find the name of the employee who got the highest one time bonus.' (True DB: employee_hire_evaluation)\n",
      "  Query 217: 'What is the id and type code for the template used by the most documents?' (True DB: cre_Doc_Template_Mgt)\n",
      "  Query 218: 'Find the major and age of students who do not have a cat pet.' (True DB: pets_1)\n",
      "  Query 219: 'Find the name of airports which do not have any flight in and out.' (True DB: flight_2)\n",
      "  Query 220: 'Count the number of dogs that went through a treatment.' (True DB: dog_kennels)\n",
      "  Query 221: 'How many airlines do we have?' (True DB: flight_2)\n",
      "  Query 222: 'What is the continent name which Anguilla belongs to?' (True DB: world_1)\n",
      "  Query 223: 'What is the number of car models that are produced by each maker and what is the id and full name of each maker?' (True DB: car_1)\n",
      "  Query 224: 'Show me the cost of the most recently performed treatment.' (True DB: dog_kennels)\n",
      "  Query 225: 'How many TV Channel using language English?' (True DB: tvshow)\n",
      "  Query 226: 'Show the citizenship shared by singers with birth year before 1945 and after 1955.' (True DB: singer)\n",
      "  Query 227: 'What are the names and id of courses having at most 2 sections?' (True DB: student_transcripts_tracking)\n",
      "  Query 228: 'What are names of countries with the top 3 largest population?' (True DB: world_1)\n",
      "  Query 229: 'List the first name and birth date of all players from the country with code USA.' (True DB: wta_1)\n",
      "  Query 230: 'What are the names of the singers and number of concerts for each person?' (True DB: concert_singer)\n",
      "  Query 231: 'Find the states where both owners and professionals live.' (True DB: dog_kennels)\n",
      "  Query 232: 'What is the name of the visitor who visited both a museum opened before 2009 and a museum opened after 2011?' (True DB: museum_visit)\n",
      "  Query 233: 'What are airport names at City 'Aberdeen'?' (True DB: flight_2)\n",
      "  Query 234: 'What are all the makers and models?' (True DB: car_1)\n",
      "  Query 235: 'What is the maximum number of times that a course shows up in different transcripts and what is that course's enrollment id?' (True DB: student_transcripts_tracking)\n",
      "  Query 236: 'List document IDs, document names, and document descriptions for all documents.' (True DB: cre_Doc_Template_Mgt)\n",
      "  Query 237: 'What are the names of high schoolers who have a grade of over 5 and have 2 or more friends?' (True DB: network_1)\n",
      "  Query 238: 'What is the number of employees from each city?' (True DB: employee_hire_evaluation)\n",
      "  Query 239: 'List names of conductors in descending order of years of work.' (True DB: orchestra)\n",
      "  Query 240: 'How many 'United Airlines' flights depart from Airport 'AHD'?' (True DB: flight_2)\n",
      "  Query 241: 'Which airlines have departing flights from both APG and CVO airports?' (True DB: flight_2)\n",
      "  Query 242: 'How many shops are there in each location?' (True DB: employee_hire_evaluation)\n",
      "  Query 243: 'What are the names , themes , and number of singers for every concert ?' (True DB: concert_singer)\n",
      "  Query 244: 'Of all the contestants who got voted, what is the contestant number and name of the contestant who got least votes?' (True DB: voter_1)\n",
      "  Query 245: 'What is the date and id of the transcript with at least 2 courses listed?' (True DB: student_transcripts_tracking)\n",
      "  Query 246: 'Give the names of nations that speak both English and French.' (True DB: world_1)\n",
      "  Query 247: 'Count the number of countries in Asia.' (True DB: world_1)\n",
      "  Query 248: 'Find all airlines that have flights from both airports 'APG' and 'CVO'.' (True DB: flight_2)\n",
      "  Query 249: 'Find the abbreviation and country of the airline that has fewest number of flights?' (True DB: flight_2)\n",
      "  Query 250: 'Show the hometowns shared by at least two teachers.' (True DB: course_teach)\n",
      "  Query 251: 'What are the details for the paragraph that includes the text 'Korea ' ?' (True DB: cre_Doc_Template_Mgt)\n",
      "  Query 252: 'Count the number of likes for each student id.' (True DB: network_1)\n",
      "  Query 253: 'What are the African countries that have a  population less than any country in Asia?' (True DB: world_1)\n",
      "  Query 254: 'Tell me the number of dogs that have not received any treatment .' (True DB: dog_kennels)\n",
      "  Query 255: 'Count the number of countries for which Spanish is the predominantly spoken language.' (True DB: world_1)\n",
      "  Query 256: 'Which professionals have done at least two types of treatments? List the professional id and cell phone.' (True DB: dog_kennels)\n",
      "  Query 257: 'Which grade has the most high schoolers?' (True DB: network_1)\n",
      "  Query 258: 'What are the Package Options of the TV Channels whose series names are Sky Radio?' (True DB: tvshow)\n",
      "  Query 259: 'What is the name of each teacher and what course they teach?' (True DB: course_teach)\n",
      "  Query 260: 'What is the language spoken by the largest percentage of people in each country?' (True DB: world_1)\n",
      "  Query 261: 'What are the names of the winner and loser who played in the longest match?' (True DB: wta_1)\n",
      "  Query 262: 'Count the number of different nationalities.' (True DB: poker_player)\n",
      "  Query 263: 'Show the name of the conductor that has conducted the most number of orchestras.' (True DB: orchestra)\n",
      "  Query 264: 'How many documents do we have?' (True DB: cre_Doc_Template_Mgt)\n",
      "  Query 265: 'Show the names of conductors that have conducted more than one orchestras.' (True DB: orchestra)\n",
      "  Query 266: 'Count the number of employees for each city.' (True DB: employee_hire_evaluation)\n",
      "  Query 267: 'What are the names of the teachers who teach at least two courses?' (True DB: course_teach)\n",
      "  Query 268: 'How many different templates do all document use?' (True DB: cre_Doc_Template_Mgt)\n",
      "  Query 269: 'How many total tours were there for each ranking date?' (True DB: wta_1)\n",
      "  Query 270: 'How is the math course described?' (True DB: student_transcripts_tracking)\n",
      "  Query 271: 'What is the record company used by the greatest number of orchestras?' (True DB: orchestra)\n",
      "  Query 272: 'Show ids of all students who do not have any friends.' (True DB: network_1)\n",
      "  Query 273: 'For each semester, what is the name and id of the one with the most students registered?' (True DB: student_transcripts_tracking)\n",
      "  Query 274: 'What is the name and id of the department with the most number of degrees ?' (True DB: student_transcripts_tracking)\n",
      "  Query 275: 'which countries' tv channels are not playing any cartoon written by Todd Casey?' (True DB: tvshow)\n",
      "  Query 276: 'What is the document id and name with greatest number of paragraphs?' (True DB: cre_Doc_Template_Mgt)\n",
      "  Query 277: 'What are the names of poker players, ordered ascending by the number of final tables they have made?' (True DB: poker_player)\n",
      "  Query 278: 'List the section_name in reversed lexicographical order.' (True DB: student_transcripts_tracking)\n",
      "  Query 279: 'What is the accelerate of the car make amc hornet sportabout (sw)?' (True DB: car_1)\n",
      "  Query 280: 'What is the first, middle, and last name of the first student to register?' (True DB: student_transcripts_tracking)\n",
      "  Query 281: 'How many cartoons did each director create?' (True DB: tvshow)\n",
      "  Query 282: 'What is the average rank for winners in all matches?' (True DB: wta_1)\n",
      "  Query 283: 'Show all document ids and the number of paragraphs in each document. Order by document id.' (True DB: cre_Doc_Template_Mgt)\n",
      "  Query 284: 'Find the manager name and district of the shop whose number of products is the largest.' (True DB: employee_hire_evaluation)\n",
      "  Query 285: 'Show names of teachers and the number of courses they teach.' (True DB: course_teach)\n",
      "  Query 286: 'List the emails of the professionals who live in the state of Hawaii or the state of Wisconsin.' (True DB: dog_kennels)\n",
      "  Query 287: 'what are the different names of the singers that have sales more than 300000?' (True DB: singer)\n",
      "  Query 288: 'What are the descriptions for all the math courses?' (True DB: student_transcripts_tracking)\n",
      "  Query 289: 'What are the ids of documents that have 2 or more paragraphs?' (True DB: cre_Doc_Template_Mgt)\n",
      "  Query 290: 'What major is every student who does not own a cat as a pet, and also how old are they?' (True DB: pets_1)\n",
      "  Query 291: 'What is the average attendance of shows?' (True DB: orchestra)\n",
      "  Query 292: 'Show all document names using templates with template type code BK.' (True DB: cre_Doc_Template_Mgt)\n",
      "  Query 293: 'find the number of distinct country codes of all players.' (True DB: wta_1)\n",
      "  Query 294: 'How many friends does each student have?' (True DB: network_1)\n",
      "  Query 295: 'Which distinct car models are the produced after 1980?' (True DB: car_1)\n",
      "  Query 296: 'What are the population and life expectancies in Brazil?' (True DB: world_1)\n",
      "  Query 297: 'What is the first name and country code of the oldest player?' (True DB: wta_1)\n",
      "  Query 298: 'Please show the name of the conductor that has conducted orchestras founded after 2008.' (True DB: orchestra)\n",
      "  Query 299: 'What are flight numbers of flights departing from City \"Aberdeen \"?' (True DB: flight_2)\n",
      "  Query 300: 'What are the distinct states and create time of all votes?' (True DB: voter_1)\n",
      "  Query 301: 'Which continent has the most diverse languages?' (True DB: world_1)\n",
      "  Query 302: 'How many unique languages are spoken in the world?' (True DB: world_1)\n",
      "  Query 303: 'What is the description of the department whose name has the substring the computer?' (True DB: student_transcripts_tracking)\n",
      "  Query 304: 'How many car makers are there in france?' (True DB: car_1)\n",
      "  Query 305: 'Find the package choice and series name of the TV channel that has high definition TV.' (True DB: tvshow)\n",
      "  Query 306: 'which countries' tv channels are playing some cartoon written by Todd Casey?' (True DB: tvshow)\n",
      "  Query 307: 'Find the kind of program which most number of students are enrolled in?' (True DB: student_transcripts_tracking)\n",
      "  Query 308: 'What are the country codes of countries where people use languages other than English?' (True DB: world_1)\n",
      "  Query 309: 'What are the first, middle, and last names for everybody enrolled in a Bachelors program?' (True DB: student_transcripts_tracking)\n",
      "  Query 310: 'For a volvo model, how many cylinders does the version with least accelerate have?' (True DB: car_1)\n",
      "  Query 311: 'What is the phone number of the man with the first name Timmothy and the last name Ward?' (True DB: student_transcripts_tracking)\n",
      "  Query 312: 'When did the episode \"A Love of a Lifetime\" air?' (True DB: tvshow)\n",
      "  Query 313: 'What are different nationalities of people and the corresponding number of people from each nation?' (True DB: poker_player)\n",
      "  Query 314: 'How much surface area do the countires in the Carribean cover together?' (True DB: world_1)\n",
      "  Query 315: 'List the Episode of all TV series sorted by rating.' (True DB: tvshow)\n",
      "  Query 316: 'For the countries founded before 1930, what is the total number of distinct official languages?' (True DB: world_1)\n",
      "  Query 317: 'What are the names and birth dates of people, ordered by their names in alphabetical order?' (True DB: poker_player)\n",
      "  Query 318: 'What is the total number of languages used in Aruba?' (True DB: world_1)\n",
      "  Query 319: 'What is the hometown of the youngest teacher?' (True DB: course_teach)\n",
      "  Query 320: 'Return the names of the contestants whose names contain the substring 'Al' .' (True DB: voter_1)\n",
      "  Query 321: 'Return the number of flights arriving in Aberdeen.' (True DB: flight_2)\n",
      "  Query 322: 'What is the most commmon hometowns for teachers?' (True DB: course_teach)\n",
      "  Query 323: 'Find the program which most number of students are enrolled in. List both the id and the summary.' (True DB: student_transcripts_tracking)\n",
      "  Query 324: 'What are the first names of all players, and their total ranking points?' (True DB: wta_1)\n",
      "  Query 325: 'How many different loser names are there?' (True DB: wta_1)\n",
      "  Query 326: 'For each hometown, how many teachers are there?' (True DB: course_teach)\n",
      "  Query 327: 'What model has the most different versions?' (True DB: car_1)\n",
      "  Query 328: 'How many United Airlines flights go to City 'Aberdeen'?' (True DB: flight_2)\n",
      "  Query 329: 'find the code of the country where has the greatest number of players.' (True DB: wta_1)\n",
      "  Query 330: 'What's the name of the course with most number of enrollments?' (True DB: student_transcripts_tracking)\n",
      "  Query 331: 'What are each professional's first name and description of the treatment they have performed?' (True DB: dog_kennels)\n",
      "  Query 332: 'How many continents are there?' (True DB: car_1)\n",
      "  Query 333: 'Find the number of players for each hand type.' (True DB: wta_1)\n",
      "  Query 334: 'What are the names of airports in Aberdeen?' (True DB: flight_2)\n",
      "  Query 335: 'How many people live in countries that do not speak English?' (True DB: world_1)\n",
      "  Query 336: 'What is the series name of the TV Channel that shows the cartoon \"The Rise of the Blue Beetle\"?' (True DB: tvshow)\n",
      "  Query 337: 'List the names of poker players ordered by the final tables made in ascending order.' (True DB: poker_player)\n",
      "  Query 338: 'How many official languages are spoken in Afghanistan?' (True DB: world_1)\n",
      "  Query 339: 'What are the names of the sections in reverse alphabetical order?' (True DB: student_transcripts_tracking)\n",
      "  Query 340: 'Return the average earnings across all poker players.' (True DB: poker_player)\n",
      "  Query 341: 'What are the names, countries, and ages for every singer in descending order of age?' (True DB: concert_singer)\n",
      "  Query 342: 'What is the id of the pet owned by the student whose last name is 'Smith'?' (True DB: pets_1)\n",
      "  Query 343: 'Count the number of flights departing from 'APG'.' (True DB: flight_2)\n",
      "  Query 344: 'What are the names of the high schoolers and how many friends does each have?' (True DB: network_1)\n",
      "  Query 345: 'What is the minimum weight of the car with 8 cylinders produced in 1974 ?' (True DB: car_1)\n",
      "  Query 346: 'Return the first name, last name and email of the owners living in a state whose name contains the substring 'North'.' (True DB: dog_kennels)\n",
      "  Query 347: 'How many continents speak Chinese?' (True DB: world_1)\n",
      "  Query 348: 'What are 3 most highly rated episodes in the TV series table and what were those ratings?' (True DB: tvshow)\n",
      "  Query 349: 'Show ids for all templates that are used by more than one document.' (True DB: cre_Doc_Template_Mgt)\n",
      "  Query 350: 'How many transcripts are released?' (True DB: student_transcripts_tracking)\n",
      "  Query 351: 'Which model of the car has the minimum horsepower?' (True DB: car_1)\n",
      "  Query 352: 'What are the arriving date and the departing date of the dogs who have gone through a treatment?' (True DB: dog_kennels)\n",
      "  Query 353: 'What is total bonus given in all evaluations?' (True DB: employee_hire_evaluation)\n",
      "  Query 354: 'What is the average, minimum, and maximum age of all singers from France?' (True DB: concert_singer)\n",
      "  Query 355: 'Which shop has the most employees? Give me the shop name.' (True DB: employee_hire_evaluation)\n",
      "  Query 356: 'What are the names of conductors who have conducted at more than one orchestra?' (True DB: orchestra)\n",
      "  Query 357: 'Which professionals live in a city containing the substring 'West'? List his or her role, street, city and state.' (True DB: dog_kennels)\n",
      "  Query 358: 'What is the horsepower of the car with the largest accelerate?' (True DB: car_1)\n",
      "  Query 359: 'What is the TV Channel that shows the cartoon \"The Rise of the Blue Beetle!\"? List the TV Channel's series name.' (True DB: tvshow)\n",
      "  Query 360: 'Find the average weight for each pet type.' (True DB: pets_1)\n",
      "  Query 361: 'What is the official language spoken in the country whose head of state is Beatrix?' (True DB: world_1)\n",
      "  Query 362: 'What is the total number of airlines?' (True DB: flight_2)\n",
      "  Query 363: 'List the contestant numbers and names, ordered by contestant name descending.' (True DB: voter_1)\n",
      "  Query 364: 'What is the name of the country with the most car makers?' (True DB: car_1)\n",
      "  Query 365: 'What is the maximum accelerate for all the different cylinders?' (True DB: car_1)\n",
      "  Query 366: 'What is the air date of TV series with Episode \"A Love of a Lifetime\"?' (True DB: tvshow)\n",
      "  Query 367: 'Give the name, population, and head of state for the country that has the largest area.' (True DB: world_1)\n",
      "  Query 368: 'find the id of tv channels that do not play any cartoon directed by Ben Jones.' (True DB: tvshow)\n",
      "  Query 369: 'What is the total population of Gelderland district?' (True DB: world_1)\n",
      "  Query 370: 'What are flight numbers of flights arriving at Airport \"APG\"?' (True DB: flight_2)\n",
      "  Query 371: 'Return the names of conductors that do not have the nationality \"USA\".' (True DB: orchestra)\n",
      "  Query 372: 'What are the names of nations speak both English and French?' (True DB: world_1)\n",
      "  Query 373: 'Give the name of the student with the most likes.' (True DB: network_1)\n",
      "  Query 374: 'Which languages are spoken by only one country in republic governments?' (True DB: world_1)\n",
      "  Query 375: 'How many states are there?' (True DB: voter_1)\n",
      "  Query 376: 'Which city has most number of departing flights?' (True DB: flight_2)\n",
      "  Query 377: 'What are the first names of every student who has a cat or dog as a pet?' (True DB: pets_1)\n",
      "  Query 378: 'List the names of teachers in ascending order of age.' (True DB: course_teach)\n",
      "  Query 379: 'How many degrees does the engineering department offer?' (True DB: student_transcripts_tracking)\n",
      "  Query 380: 'Return the owner id, first name and last name of the owner who has the most dogs.' (True DB: dog_kennels)\n",
      "  Query 381: 'Find the minimum grade of students who have no friends.' (True DB: network_1)\n",
      "  Query 382: 'How many flights does airline 'JetBlue Airways' have?' (True DB: flight_2)\n",
      "  Query 383: 'How many courses are there?' (True DB: student_transcripts_tracking)\n",
      "  Query 384: 'Give the language that is spoken in the most countries.' (True DB: world_1)\n",
      "  Query 385: 'Find the number of owners who do not own any dogs at this moment.' (True DB: dog_kennels)\n",
      "  Query 386: 'What is the birth date of the poker player with the lowest earnings?' (True DB: poker_player)\n",
      "  Query 387: 'Show different citizenship of singers and the number of singers of each citizenship.' (True DB: singer)\n",
      "  Query 388: 'Which cities are in European countries where English is not the official language?' (True DB: world_1)\n",
      "  Query 389: 'What is the smallest weight of the car produced with 8 cylinders on 1974 ?' (True DB: car_1)\n",
      "  Query 390: 'Which professionals live in the state of Indiana or have done treatment on more than 2 treatments? List his or her id, last name and cell phone.' (True DB: dog_kennels)\n",
      "  Query 391: 'How many airlines are from USA?' (True DB: flight_2)\n",
      "  Query 392: 'Find the name and rank of the 3 youngest winners across all matches.' (True DB: wta_1)\n",
      "  Query 393: 'What are the different government forms and what is the total population of each for government forms that have an average life expectancy greater than 72?' (True DB: world_1)\n",
      "  Query 394: 'What are the countries that are not playing cartoons written by Todd Casey?' (True DB: tvshow)\n",
      "  Query 395: 'Which professional did not operate any treatment on dogs? List the professional's id, role and email.' (True DB: dog_kennels)\n",
      "  Query 396: 'Which grades have 4 or more high schoolers?' (True DB: network_1)\n",
      "  Query 397: 'List the final tables made and the best finishes of poker players.' (True DB: poker_player)\n",
      "  Query 398: 'What are the names of poker players?' (True DB: poker_player)\n",
      "  Query 399: 'Find the first name and country code of the oldest player.' (True DB: wta_1)\n",
      "  Query 400: 'What is the first, middle, and last name of the earliest school graduate?' (True DB: student_transcripts_tracking)\n",
      "  Query 401: 'Return the ids of templates that have the code PP or PPT.' (True DB: cre_Doc_Template_Mgt)\n",
      "  Query 402: 'List the name of singers whose citizenship is not \"France\".' (True DB: singer)\n",
      "  Query 403: 'Give average earnings of poker players who are taller than 200.' (True DB: poker_player)\n",
      "  Query 404: 'What are the first names of all players, and their average rankings?' (True DB: wta_1)\n",
      "  Query 405: 'How many players are from each country?' (True DB: wta_1)\n",
      "  Query 406: 'Find the names of the visitors whose membership level is higher than 4, and order the results by the level from high to low.' (True DB: museum_visit)\n",
      "  Query 407: 'Find the name and membership level of the visitors whose membership level is higher than 4, and sort by their age from old to young.' (True DB: museum_visit)\n",
      "  Query 408: 'Find the number of pets for each student who has any pet and student id.' (True DB: pets_1)\n",
      "  Query 409: 'What is the count of singers?' (True DB: singer)\n",
      "  Query 410: 'What are the create dates, states, and phone numbers of the votes that were for the contestant named 'Tabatha Gehling'?' (True DB: voter_1)\n",
      "  Query 411: 'How many different departments offer degrees?' (True DB: student_transcripts_tracking)\n",
      "  Query 412: 'Give the airport code and airport name corresonding to the city Anthony.' (True DB: flight_2)\n",
      "  Query 413: 'What are the countries that have greater surface area than any country in Europe?' (True DB: world_1)\n",
      "  Query 414: 'What is the earliest date of a transcript release, and what details can you tell me?' (True DB: student_transcripts_tracking)\n",
      "  Query 415: 'List the last name of the owner owning the youngest dog.' (True DB: dog_kennels)\n",
      "  Query 416: 'Show the number of high schoolers for each grade.' (True DB: network_1)\n",
      "  Query 417: 'What are the names of high schoolers who have 3 or more friends?' (True DB: network_1)\n",
      "  Query 418: 'What is the full name of each car maker, along with its id and how many models it produces?' (True DB: car_1)\n",
      "  Query 419: 'What are the ids and names of each document, as well as the number of paragraphs in each?' (True DB: cre_Doc_Template_Mgt)\n",
      "  Query 420: 'What is the department description for the one whose name has the word computer?' (True DB: student_transcripts_tracking)\n",
      "  Query 421: 'How many ships ended up being 'Captured'?' (True DB: battle_death)\n",
      "  Query 422: 'How many different series and contents are listed in the TV Channel table?' (True DB: tvshow)\n",
      "  Query 423: 'Find the average number of staff working for the museums that were open before 2009.' (True DB: museum_visit)\n",
      "  Query 424: 'What is the abbreviation of the airilne has the fewest flights and what country is it in?' (True DB: flight_2)\n",
      "  Query 425: 'What is the name and directors of all the cartoons that are ordered by air date?' (True DB: tvshow)\n",
      "  Query 426: 'Give the flight numbers of flights arriving in Aberdeen.' (True DB: flight_2)\n",
      "  Query 427: 'What is the maximum mpg of the cars that had 8 cylinders or that were produced before 1980 ?' (True DB: car_1)\n",
      "  Query 428: 'Show the stadium name and the number of concerts in each stadium.' (True DB: concert_singer)\n",
      "  Query 429: 'Show all countries and the number of singers in each country.' (True DB: concert_singer)\n",
      "  Query 430: 'Which abbreviation corresponds to Jetblue Airways?' (True DB: flight_2)\n",
      "  Query 431: 'Give the mean life expectancy of countries in which English is not the official language.' (True DB: world_1)\n",
      "  Query 432: 'What is the document id with 1 to 2 paragraphs?' (True DB: cre_Doc_Template_Mgt)\n",
      "  Query 433: 'How many departments offer any degree?' (True DB: student_transcripts_tracking)\n",
      "  Query 434: 'What are the codes of the countries that do not speak English and whose government forms are not Republic?' (True DB: world_1)\n",
      "  Query 435: 'What language is predominantly spoken in Aruba?' (True DB: world_1)\n",
      "  Query 436: 'how many cars were produced in 1980?' (True DB: car_1)\n",
      "  Query 437: 'Show the years in which orchestras that have given more than one performance are founded.' (True DB: orchestra)\n",
      "  Query 438: 'Give the ids of documents that have between one and two paragraphs.' (True DB: cre_Doc_Template_Mgt)\n",
      "  Query 439: 'How many employees are there?' (True DB: employee_hire_evaluation)\n",
      "  Query 440: 'In which years cars were produced weighing no less than 3000 and no more than 4000 ?' (True DB: car_1)\n",
      "  Query 441: 'What is name of the country that speaks the largest number of languages?' (True DB: world_1)\n",
      "  Query 442: 'Show all template type codes and descriptions.' (True DB: cre_Doc_Template_Mgt)\n",
      "  Query 443: 'Count the number of conductors.' (True DB: orchestra)\n",
      "  Query 444: 'What is the name of the semester with no students enrolled?' (True DB: student_transcripts_tracking)\n",
      "  Query 445: 'What are the names and descriptions for all the sections?' (True DB: student_transcripts_tracking)\n",
      "  Query 446: 'What are the names of the singers whose birth years are either 1948 or 1949?' (True DB: singer)\n",
      "  Query 447: 'How many dogs have an age below the average?' (True DB: dog_kennels)\n",
      "  Query 448: 'How many different store locations are there?' (True DB: employee_hire_evaluation)\n",
      "  Query 449: 'Find the number of visitors who did not visit any museum opened after 2010.' (True DB: museum_visit)\n",
      "  Query 450: 'List the name, date and result of each battle.' (True DB: battle_death)\n",
      "  Query 451: 'How much does the most expensive charge type costs?' (True DB: dog_kennels)\n",
      "  Query 452: 'List all song names by singers above the average age.' (True DB: concert_singer)\n",
      "  Query 453: 'Count the number of poker players.' (True DB: poker_player)\n",
      "  Query 454: 'For each singer name, what is the total sales for their songs?' (True DB: singer)\n",
      "  Query 455: 'When is the first transcript released? List the date and details.' (True DB: student_transcripts_tracking)\n",
      "  Query 456: 'How many dogs have not gone through any treatment?' (True DB: dog_kennels)\n",
      "  Query 457: 'For the cars with 4 cylinders, which model has the largest horsepower?' (True DB: car_1)\n",
      "  Query 458: 'What are the names of poker players whose earnings is higher than 300000?' (True DB: poker_player)\n",
      "  Query 459: 'How many distinct nationalities are there?' (True DB: poker_player)\n",
      "  Query 460: 'How many dogs went through any treatments?' (True DB: dog_kennels)\n",
      "  Query 461: 'What is the first name of the student whose permanent address is different from his or her current one?' (True DB: student_transcripts_tracking)\n",
      "  Query 462: 'find id of the tv channels that from the countries where have more than two tv channels.' (True DB: tvshow)\n",
      "  Query 463: 'How many distinct countries do players come from?' (True DB: wta_1)\n",
      "  Query 464: 'Give the flight numbers of flights landing at APG.' (True DB: flight_2)\n",
      "  Query 465: 'Count the number of templates.' (True DB: cre_Doc_Template_Mgt)\n",
      "  Query 466: 'What is the code of airport that has fewest number of flights?' (True DB: flight_2)\n",
      "  Query 467: 'List the first name of all the professionals along with the description of the treatment they have done.' (True DB: dog_kennels)\n",
      "  Query 468: 'How many countries speak both English and Dutch?' (True DB: world_1)\n",
      "  Query 469: 'How many models does each car maker produce? List maker full name, id and the number.' (True DB: car_1)\n",
      "  Query 470: 'What are the first names of the students who live in Haiti permanently or have the cell phone number 09700166582 ?' (True DB: student_transcripts_tracking)\n",
      "  Query 471: 'Count the number of paragraphs.' (True DB: cre_Doc_Template_Mgt)\n",
      "  Query 472: 'What is the average horsepower for all cars produced before 1980 ?' (True DB: car_1)\n",
      "  Query 473: 'How many languages are spoken in Aruba?' (True DB: world_1)\n",
      "  Query 474: 'Find the name and age of the visitor who bought the most tickets at once.' (True DB: museum_visit)\n",
      "  Query 475: 'What are the name, independence year, and surface area of the country with the smallest population?' (True DB: world_1)\n",
      "  Query 476: 'Give the names of countries with English and French as official languages.' (True DB: world_1)\n",
      "  Query 477: 'Show all template type codes with less than three templates.' (True DB: cre_Doc_Template_Mgt)\n",
      "  Query 478: 'What are the opening year and staff number of the museum named Plaza Museum?' (True DB: museum_visit)\n",
      "  Query 479: 'What is the first name, country code, and birth date of the player with the most winner rank points across all matches?' (True DB: wta_1)\n",
      "  Query 480: 'Return the grade for the high schooler named Kyle.' (True DB: network_1)\n",
      "  Query 481: 'What are the names and descriptions of all the sections?' (True DB: student_transcripts_tracking)\n",
      "  Query 482: 'What are the first names and birth dates of players from the USA?' (True DB: wta_1)\n",
      "  Query 483: 'Which model has the most version(make) of cars?' (True DB: car_1)\n",
      "  Query 484: 'Find the id and cell phone of the professionals who operate two or more types of treatments.' (True DB: dog_kennels)\n",
      "  Query 485: 'Which airlines have at least 10 flights?' (True DB: flight_2)\n",
      "  Query 486: 'What are the emails of the professionals living in either the state of Hawaii or the state of Wisconsin?' (True DB: dog_kennels)\n",
      "  Query 487: 'What is the content of TV Channel with serial name \"Sky Radio\"?' (True DB: tvshow)\n",
      "  Query 488: 'Count the number of matches.' (True DB: wta_1)\n",
      "  Query 489: 'What is the name of the different car makers who produced a car in 1970?' (True DB: car_1)\n",
      "  Query 490: 'What is the last transcript release date?' (True DB: student_transcripts_tracking)\n",
      "  Query 491: 'What are the names of all European countries with at least 3 manufacturers?' (True DB: car_1)\n",
      "  Query 492: 'Find the number of flights landing in the city of Aberdeen or Abilene.' (True DB: flight_2)\n",
      "  Query 493: 'What are the average ages of losers and winners across matches?' (True DB: wta_1)\n",
      "  Query 494: 'Find the city with the largest population that uses English.' (True DB: world_1)\n",
      "  Query 495: 'For each citizenship, how many singers are from that country?' (True DB: singer)\n",
      "  Query 496: 'What is the ship id and name that caused most total injuries?' (True DB: battle_death)\n",
      "  Query 497: 'What is the name of the winner with the most rank points who participated in the Australian Open tournament?' (True DB: wta_1)\n",
      "  Query 498: 'Give the names of poker players who have earnings above 300000.' (True DB: poker_player)\n",
      "  Query 499: 'List singer names and number of concerts for each singer.' (True DB: concert_singer)\n",
      "  Query 500: 'How many paragraphs for the document with name 'Summer Show'?' (True DB: cre_Doc_Template_Mgt)\n",
      "  Query 501: 'Show the names of all high schoolers in grade 10.' (True DB: network_1)\n",
      "  Query 502: 'Which dogs are owned by someone who lives in Virginia? List the owner's first name and the dog's name.' (True DB: dog_kennels)\n",
      "  Query 503: 'Count the number of orchestras that have CD or DVD as their record format.' (True DB: orchestra)\n",
      "  Query 504: 'What are the names of the teachers and the courses they teach in ascending alphabetical order by the name of the teacher?' (True DB: course_teach)\n",
      "  Query 505: 'What is the total population and average area of countries in the continent of North America whose area is bigger than 3000 ?' (True DB: world_1)\n",
      "  Query 506: 'What are the name and results of the battles when the bulgarian commander is not 'Boril'' (True DB: battle_death)\n",
      "  Query 507: 'What are the ids of high school students who do not have friends?' (True DB: network_1)\n",
      "  Query 508: 'How many countries exist?' (True DB: car_1)\n",
      "  Query 509: 'List the name of singers in ascending order of net worth.' (True DB: singer)\n",
      "  Query 510: 'What are the names of conductors, ordered by age?' (True DB: orchestra)\n",
      "  Query 511: 'Which template type code has most number of templates?' (True DB: cre_Doc_Template_Mgt)\n",
      "  Query 512: 'What is the episode for the TV series named \"Sky Radio\"?' (True DB: tvshow)\n",
      "  Query 513: 'Tell me the owner id and last name of the owner who spent the most on treatments of his or her dogs.' (True DB: dog_kennels)\n",
      "  Query 514: 'Show the ids of high schoolers who have friends and are also liked by someone else.' (True DB: network_1)\n",
      "  Query 515: 'How many flights do we have?' (True DB: flight_2)\n",
      "  Query 516: 'Find the weight of the youngest dog.' (True DB: pets_1)\n",
      "  Query 517: 'Which airline has abbreviation 'UAL'?' (True DB: flight_2)\n",
      "  Query 518: 'Find the total amount of bonus given in all the evaluations.' (True DB: employee_hire_evaluation)\n",
      "  Query 519: 'What is minimum and maximum share of TV series?' (True DB: tvshow)\n",
      "  Query 520: 'Give the total surface area covered by countries in Asia or Europe.' (True DB: world_1)\n",
      "  Query 521: 'What are the arriving date and the departing date of all the dogs?' (True DB: dog_kennels)\n",
      "  Query 522: 'Give the name, year of independence, and surface area of the country that has the lowest population.' (True DB: world_1)\n",
      "  Query 523: 'Which countries have greater area than that of any country in Europe?' (True DB: world_1)\n",
      "  Query 524: 'Count the number of templates of the type CV.' (True DB: cre_Doc_Template_Mgt)\n",
      "  Query 525: 'What is the model for the car with a weight smaller than the average?' (True DB: car_1)\n",
      "  Query 526: 'List the names of teachers who have not been arranged to teach courses.' (True DB: course_teach)\n",
      "  Query 527: 'What is the description for the section named h?' (True DB: student_transcripts_tracking)\n",
      "  Query 528: 'Count the number of United Airlines flights arriving in ASY Airport.' (True DB: flight_2)\n",
      "  Query 529: 'What is the average expected life expectancy for countries in the region of Central Africa?' (True DB: world_1)\n",
      "  Query 530: 'List the most common hometown of teachers.' (True DB: course_teach)\n",
      "  Query 531: 'Count the number of documents that use the PPT template type.' (True DB: cre_Doc_Template_Mgt)\n",
      "  Query 532: 'What is the airport code of the airport with the most flights?' (True DB: flight_2)\n",
      "  Query 533: 'What are the maximum and minimum values of area codes?' (True DB: voter_1)\n",
      "  Query 534: 'What are the names of the people who teach math courses?' (True DB: course_teach)\n",
      "  Query 535: 'How many car models were produced by the maker with full name American Motor Company?' (True DB: car_1)\n",
      "  Query 536: 'Find the number of shops in each location.' (True DB: employee_hire_evaluation)\n",
      "  Query 537: 'Give the names of countries that are in Europe and have a population equal to 80000.' (True DB: world_1)\n",
      "  Query 538: 'Return the different document ids along with the number of paragraphs corresponding to each, ordered by id.' (True DB: cre_Doc_Template_Mgt)\n",
      "  Query 539: 'Give the number of Jetblue Airways flights.' (True DB: flight_2)\n",
      "  Query 540: 'What are the cities whose population is between 160000 and 900000?' (True DB: world_1)\n",
      "  Query 541: 'What are the names of conductors whose nationalities are not \"USA\"?' (True DB: orchestra)\n",
      "  Query 542: 'Return the number of United Airlines flights leaving from AHD Airport.' (True DB: flight_2)\n",
      "  Query 543: 'Which language is spoken by the largest number of countries?' (True DB: world_1)\n",
      "  Query 544: 'How many countries has more than 2 car makers ?' (True DB: car_1)\n",
      "  Query 545: 'find the package option of the tv channel that do not have any cartoon directed by Ben Jones.' (True DB: tvshow)\n",
      "  Query 546: 'What are flight numbers of Airline \"United Airlines\"?' (True DB: flight_2)\n",
      "  Query 547: 'What are airlines that have some flight departing from airport 'AHD'?' (True DB: flight_2)\n",
      "  Query 548: 'List the name of singers that do not have any song.' (True DB: singer)\n",
      "  Query 549: 'Which owner has paid for the most treatments on his or her dogs? List the owner id and last name.' (True DB: dog_kennels)\n",
      "  Query 550: 'What is the first and second line for all addresses?' (True DB: student_transcripts_tracking)\n",
      "  Query 551: 'What is the id, line 1, and line 2 of the address with the most students?' (True DB: student_transcripts_tracking)\n",
      "  Query 552: 'For all of the 4 cylinder cars, which model has the most horsepower?' (True DB: car_1)\n",
      "  Query 553: 'What are the locations and names of all stations with capacity between 5000 and 10000?' (True DB: concert_singer)\n",
      "  Query 554: 'How many different forms of governments are there in Africa?' (True DB: world_1)\n",
      "  Query 555: 'What is the pixel aspect ratio and country of origin for all TV channels that do not use English?' (True DB: tvshow)\n",
      "  Query 556: 'How many flights land in Aberdeen or Abilene?' (True DB: flight_2)\n",
      "  Query 557: 'Return the average attendance across all shows.' (True DB: orchestra)\n",
      "  Query 558: 'What are the names of all stadiums that did not have a concert in 2014?' (True DB: concert_singer)\n",
      "  Query 559: 'Find the number of cartoons directed by each of the listed directors.' (True DB: tvshow)\n",
      "  Query 560: 'Find the model of the car whose weight is below the average weight.' (True DB: car_1)\n",
      "  Query 561: 'What is the date and id of the transcript with the least number of results?' (True DB: student_transcripts_tracking)\n",
      "  Query 562: 'Which city has the most frequent destination airport?' (True DB: flight_2)\n",
      "  Query 563: 'How many high schoolers are there in grade 9 or 10?' (True DB: network_1)\n",
      "  Query 564: 'What are the names of all the countries that became independent after 1950?' (True DB: world_1)\n",
      "  Query 565: 'What is Kyle's id?' (True DB: network_1)\n",
      "  Query 566: 'What are the different template type codes, and how many documents use each type?' (True DB: cre_Doc_Template_Mgt)\n",
      "  Query 567: 'What are the names of the employees who never received any evaluation?' (True DB: employee_hire_evaluation)\n",
      "  Query 568: 'Find the number of concerts happened in the stadium with the highest capacity .' (True DB: concert_singer)\n",
      "  Query 569: 'List the names of all winners who played in both 2013 and 2016.' (True DB: wta_1)\n",
      "  Query 570: 'What is maximum and minimum death toll caused each time?' (True DB: battle_death)\n",
      "  Query 571: 'How many players are there?' (True DB: wta_1)\n",
      "  Query 572: 'What are the different template type codes, and how many templates correspond to each?' (True DB: cre_Doc_Template_Mgt)\n",
      "  Query 573: 'Which unique cities are in Asian countries where Chinese is the official language ?' (True DB: world_1)\n",
      "  Query 574: 'What are the id and names of the countries which have more than 3 car makers or produce the 'fiat' model?' (True DB: car_1)\n",
      "  Query 575: 'What is the name and country of origin of every singer who has a song with the word 'Hey' in its title?' (True DB: concert_singer)\n",
      "  Query 576: 'Show name, country, age for all singers ordered by age from the oldest to the youngest.' (True DB: concert_singer)\n",
      "  Query 577: 'Return the names of all the poker players.' (True DB: poker_player)\n",
      "  Query 578: 'How many people live in Gelderland district?' (True DB: world_1)\n",
      "  Query 579: 'What is the total surface area of the countries in the Caribbean region?' (True DB: world_1)\n",
      "  Query 580: 'Return the names of the 3 most populated countries.' (True DB: world_1)\n",
      "  Query 581: 'Find the first name of students who have both cat and dog pets .' (True DB: pets_1)\n",
      "  Query 582: 'What is the language that is used by the largest number of Asian nations?' (True DB: world_1)\n",
      "  Query 583: 'What are all distinct countries where singers above age 20 are from?' (True DB: concert_singer)\n",
      "  Query 584: 'Which airlines have a flight with source airport AHD?' (True DB: flight_2)\n",
      "  Query 585: 'Find the names of employees who never won any award in the evaluation.' (True DB: employee_hire_evaluation)\n",
      "  Query 586: 'Return the country codes for countries that do not speak English.' (True DB: world_1)\n",
      "  Query 587: 'Find the number of distinct name of losers.' (True DB: wta_1)\n",
      "  Query 588: 'Find the number of cities in each district whose population is greater than the average population of cities?' (True DB: world_1)\n",
      "  Query 589: 'How many friends does the high school student Kyle have?' (True DB: network_1)\n",
      "  Query 590: 'What are the manager name and district of the shop that sells the largest number of products?' (True DB: employee_hire_evaluation)\n",
      "  Query 591: 'List all airline names and their abbreviations in \"USA\".' (True DB: flight_2)\n",
      "  Query 592: 'Sort all the shops by number products in descending order, and return the name, location and district of each shop.' (True DB: employee_hire_evaluation)\n",
      "  Query 593: 'How many templates do we have?' (True DB: cre_Doc_Template_Mgt)\n",
      "  Query 594: 'List the name and date the battle that has lost the ship named 'Lettice' and the ship named 'HMS Atalanta'' (True DB: battle_death)\n",
      "  Query 595: 'What are the different models wthat are lighter than 3500 but were not built by the Ford Motor Company?' (True DB: car_1)\n",
      "  Query 596: 'How many people are there of each nationality?' (True DB: poker_player)\n",
      "  Query 597: 'What is the average age of the dogs who have gone through any treatments?' (True DB: dog_kennels)\n",
      "  Query 598: 'What is the zip code for Port Chelsea?' (True DB: student_transcripts_tracking)\n",
      "  Query 599: 'Which region is the city Kabul located in?' (True DB: world_1)\n",
      "  Query 600: 'What is the series name and country of all TV channels that are playing cartoons directed by Ben Jones and cartoons directed by Michael Chang?' (True DB: tvshow)\n",
      "  Query 601: 'How many different degrees are offered?' (True DB: student_transcripts_tracking)\n",
      "  Query 602: 'How many contestants did not get voted?' (True DB: voter_1)\n",
      "  Query 603: 'Show different hometown of teachers and the number of teachers from each hometown.' (True DB: course_teach)\n",
      "  Query 604: 'List the names of orchestras that have no performance.' (True DB: orchestra)\n",
      "  Query 605: 'What are the names of nations where both English and French are official languages?' (True DB: world_1)\n",
      "  Query 606: 'How many 'United Airlines' flights go to Airport 'ASY'?' (True DB: flight_2)\n",
      "  Query 607: 'How many flights depart from City Aberdeen?' (True DB: flight_2)\n",
      "  Query 608: 'How many different types of pet are there?' (True DB: pets_1)\n",
      "  Query 609: 'find the number of players for each country.' (True DB: wta_1)\n",
      "  Query 610: 'Find the codes of countries that have more than 50 players.' (True DB: wta_1)\n",
      "  Query 611: 'What are the names of all high schoolers in grade 10?' (True DB: network_1)\n",
      "  Query 612: 'What is the lowest grade of students who do not have any friends?' (True DB: network_1)\n",
      "  Query 613: 'Return the names and surface areas of the 5 largest countries.' (True DB: world_1)\n",
      "  Query 614: 'How many cities in each district have a population that is above the average population across all cities?' (True DB: world_1)\n",
      "  Query 615: 'Show distinct names of singers that have songs with sales more than 300000.' (True DB: singer)\n",
      "  Query 616: 'What are the ids of all tv channels that have more than 2 TV channels?' (True DB: tvshow)\n",
      "  Query 617: 'What are all the course names of the courses which ever have students enrolled in?' (True DB: student_transcripts_tracking)\n",
      "  Query 618: 'What are the names of students who have 2 or more likes?' (True DB: network_1)\n",
      "  Query 619: 'For each continent, list its id, name, and how many countries it has?' (True DB: car_1)\n",
      "  Query 620: 'What is the total population and maximum GNP in Asia?' (True DB: world_1)\n",
      "  Query 621: 'How many professionals have performed any treatment to dogs?' (True DB: dog_kennels)\n",
      "  Query 622: 'Find the total number of matches.' (True DB: wta_1)\n",
      "  Query 623: 'Find the name and rank points of the winner who won the most times.' (True DB: wta_1)\n",
      "  Query 624: 'What are the names of the dogs for which the owner has not spend more than 1000 for treatment ?' (True DB: dog_kennels)\n",
      "  Query 625: 'What is the count of the car models produced in the United States?' (True DB: car_1)\n",
      "  Query 626: 'How many TV Channels use the English language?' (True DB: tvshow)\n",
      "  Query 627: 'What is the official language used in the country the name of whose head of state is Beatrix.' (True DB: world_1)\n",
      "  Query 628: 'Return the template type code of the template that is used by a document named Data base.' (True DB: cre_Doc_Template_Mgt)\n",
      "  Query 629: 'What are the package options of all tv channels that are not playing any cartoons directed by Ben Jones?' (True DB: tvshow)\n",
      "  Query 630: 'How many people live in Asia, and what is the largest GNP among them?' (True DB: world_1)\n",
      "  Query 631: 'What are the number of votes from state 'NY' or 'CA'?' (True DB: voter_1)\n",
      "  Query 632: 'Who owns the youngest dog? Give me his or her last name.' (True DB: dog_kennels)\n",
      "  Query 633: 'Show all template type codes that are not used by any document.' (True DB: cre_Doc_Template_Mgt)\n",
      "  Query 634: 'What is the average miles per gallon(mpg) of the cars with 4 cylinders?' (True DB: car_1)\n",
      "  Query 635: 'What are  the different countries with singers above age 20?' (True DB: concert_singer)\n",
      "  Query 636: 'How many different winners both participated in the WTA Championships and were left handed?' (True DB: wta_1)\n",
      "  Query 637: 'What is the title of all the cartools that are on the TV Channel with the series name \"Sky Radio\"?' (True DB: tvshow)\n",
      "  Query 638: 'Which shops run with no employees? Find the shop names' (True DB: employee_hire_evaluation)\n",
      "  Query 639: 'What is the number of makers of care in France?' (True DB: car_1)\n",
      "  Query 640: 'What is the name of the breed with the most dogs?' (True DB: dog_kennels)\n",
      "  Query 641: 'What are the dog name, age and weight of the dogs that were abandoned? Note that 1 stands for yes, and 0 stands for no in the tables.' (True DB: dog_kennels)\n",
      "  Query 642: 'What are the names and ids of all makers with more than 3 models?' (True DB: car_1)\n",
      "  Query 643: 'How many countries have a republic as their form of government?' (True DB: world_1)\n",
      "  Query 644: 'How many flights depart from City 'Aberdeen' and have destination City 'Ashley'?' (True DB: flight_2)\n",
      "  Query 645: 'What are the names of students who have no friends?' (True DB: network_1)\n",
      "  Query 646: 'What is last date created of votes from the state 'CA'?' (True DB: voter_1)\n",
      "  Query 647: 'Find the first name and country code of the player who did the most number of tours.' (True DB: wta_1)\n",
      "  Query 648: 'What are each owner's first name and their dogs's name?' (True DB: dog_kennels)\n",
      "  Query 649: 'What is the produdction code and channel of the most recent cartoon ?' (True DB: tvshow)\n",
      "  Query 650: 'Count the number of documents.' (True DB: cre_Doc_Template_Mgt)\n",
      "  Query 651: 'Show the name and the release year of the song by the youngest singer.' (True DB: concert_singer)\n",
      "  Query 652: 'Find the id and weight of all pets whose age is older than 1.' (True DB: pets_1)\n",
      "  Query 653: 'Show name of all students who have some friends and also are liked by someone else.' (True DB: network_1)\n",
      "  Query 654: 'What is the number of countries with more than 2 car makers ?' (True DB: car_1)\n",
      "  Query 655: 'Which employee received the biggest bonus? Give me the employee name.' (True DB: employee_hire_evaluation)\n",
      "  Query 656: 'Find the series name and country of the tv channel that is playing some cartoons directed by Ben Jones and Michael Chang?' (True DB: tvshow)\n",
      "  Query 657: 'Count the number of United Airlines flights that arrive in Aberdeen.' (True DB: flight_2)\n",
      "  Query 658: 'What are the song titles and singer names?' (True DB: singer)\n",
      "  Query 659: 'Which airlines have departures from CVO but not from APG airports?' (True DB: flight_2)\n",
      "  Query 660: 'What are the country code and first name of the players who won in both tourney WTA Championships and Australian Open?' (True DB: wta_1)\n",
      "  Query 661: 'What are the orchestras that do not have any performances?' (True DB: orchestra)\n",
      "  Query 662: 'What are the codes of template types that have fewer than 3 templates?' (True DB: cre_Doc_Template_Mgt)\n",
      "  Query 663: 'What are the names of the singers that have more than one songs?' (True DB: singer)\n",
      "  Query 664: 'Please show the record formats of orchestras in ascending order of count.' (True DB: orchestra)\n",
      "  Query 665: 'What are the names of high schoolers who have likes, and how many likes does each have?' (True DB: network_1)\n",
      "  Query 666: 'What is the average horsepower of the cars before 1980?' (True DB: car_1)\n",
      "  Query 667: 'What is the number of distinct languages used around the world?' (True DB: world_1)\n",
      "  Query 668: 'What airline serves the most flights?' (True DB: flight_2)\n",
      "  Query 669: 'What are the maximum and minimum share of performances whose type is not \"Live final\".' (True DB: orchestra)\n",
      "  Query 670: 'List the name of the conductor with the most years of work.' (True DB: orchestra)\n",
      "  Query 671: 'Which district has both stores with less than 3000 products and stores with more than 10000 products?' (True DB: employee_hire_evaluation)\n",
      "  Query 672: 'What is the money rank of the poker player with the highest earnings?' (True DB: poker_player)\n",
      "  Query 673: 'What are the distinct template type descriptions for the templates ever used by any document?' (True DB: cre_Doc_Template_Mgt)\n",
      "  Query 674: 'Who are enrolled in 2 degree programs in one semester? List the first name, middle name and last name and the id.' (True DB: student_transcripts_tracking)\n",
      "  Query 675: 'Give the country codes for countries in which people speak langauges that are not English.' (True DB: world_1)\n",
      "  Query 676: 'Find the average rank of winners in all matches.' (True DB: wta_1)\n",
      "  Query 677: 'How many professionals did not operate any treatment on dogs?' (True DB: dog_kennels)\n",
      "  Query 678: 'What is the template type descriptions for template type code \"AD\".' (True DB: cre_Doc_Template_Mgt)\n",
      "  Query 679: 'What is the weekly rank for the episode \"A Love of a Lifetime\"?' (True DB: tvshow)\n",
      "  Query 680: 'What are the ids of students who both have friends and are liked?' (True DB: network_1)\n",
      "  Query 681: 'Return the record companies of orchestras, sorted descending by the years in which they were founded.' (True DB: orchestra)\n",
      "  Query 682: 'For each language, list the number of TV Channels that use it.' (True DB: tvshow)\n",
      "  Query 683: 'Find the first name of the students who permanently live in the country Haiti or have the cell phone number 09700166582 .' (True DB: student_transcripts_tracking)\n",
      "  Query 684: 'Find the distinct breed type and size type combinations for dogs.' (True DB: dog_kennels)\n",
      "  Query 685: 'Which language is the most popular on the Asian continent?' (True DB: world_1)\n",
      "  Query 686: 'Count the number of flights into ATO.' (True DB: flight_2)\n",
      "  Query 687: 'How many official languages does Afghanistan have?' (True DB: world_1)\n",
      "  Query 688: 'How many flights fly from Aberdeen to Ashley?' (True DB: flight_2)\n",
      "  Query 689: 'Which city has most number of arriving flights?' (True DB: flight_2)\n",
      "  Query 690: 'Among the cars that do not have the minimum horsepower , what are the make ids and names of all those with less than 4 cylinders ?' (True DB: car_1)\n",
      "  Query 691: 'What is the first name and country code of the player with the most tours?' (True DB: wta_1)\n",
      "  Query 692: 'Show different citizenships and the maximum net worth of singers of each citizenship.' (True DB: singer)\n",
      "  Query 693: 'What is the template type code for template type description \"Book\".' (True DB: cre_Doc_Template_Mgt)\n",
      "  Query 694: 'What are the paragraph texts for the document with the name 'Customer reviews'?' (True DB: cre_Doc_Template_Mgt)\n",
      "  Query 695: 'Show the names of high schoolers who have likes, and numbers of likes for each.' (True DB: network_1)\n",
      "  Query 696: 'What grade is Kyle in?' (True DB: network_1)\n",
      "  Query 697: 'Show the names of high schoolers who have at least 3 friends.' (True DB: network_1)\n",
      "  Query 698: 'What is the name and capacity of the stadium with the most concerts after 2013 ?' (True DB: concert_singer)\n",
      "  Query 699: 'Return the number of airlines in the USA.' (True DB: flight_2)\n",
      "  Query 700: 'Find all airlines that have flights from airport 'CVO' but not from 'APG'.' (True DB: flight_2)\n",
      "  Query 701: 'Return the name, location and district of all shops in descending order of number of products.' (True DB: employee_hire_evaluation)\n",
      "  Query 702: 'What other details can you tell me about students in reverse alphabetical order?' (True DB: student_transcripts_tracking)\n",
      "  Query 703: 'Where is the youngest teacher from?' (True DB: course_teach)\n",
      "  Query 704: 'Which airline has most number of flights?' (True DB: flight_2)\n",
      "  Query 705: 'Find the average age of the dogs who went through treatments.' (True DB: dog_kennels)\n",
      "  Query 706: 'What is the average age of the visitors whose membership level is not higher than 4?' (True DB: museum_visit)\n",
      "  Query 707: 'Return the maximum and minimum shares for performances that do not have the type \"Live final\".' (True DB: orchestra)\n",
      "  Query 708: 'Give me the description of the treatment type whose total cost is the lowest.' (True DB: dog_kennels)\n",
      "  Query 709: 'How many likes does Kyle have?' (True DB: network_1)\n",
      "  Query 710: 'Show me all grades that have at least 4 students.' (True DB: network_1)\n",
      "  Query 711: 'Give me Brazil’s population and life expectancies.' (True DB: world_1)\n",
      "  Query 712: 'What is the average GNP and total population in all nations whose government is US territory?' (True DB: world_1)\n",
      "  Query 713: 'Show all paragraph ids and texts for the document with name 'Welcome to NY'.' (True DB: cre_Doc_Template_Mgt)\n",
      "  Query 714: 'What are the names of conductors as well as the corresonding orchestras that they have conducted?' (True DB: orchestra)\n",
      "  Query 715: 'What is the country with the most number of TV Channels and how many does it have?' (True DB: tvshow)\n",
      "  Query 716: 'What are the age and hometown of teachers?' (True DB: course_teach)\n",
      "  Query 717: 'Find the name of the shops that do not hire any employee.' (True DB: employee_hire_evaluation)\n",
      "  Query 718: 'Which first names are used for professionals or owners but are not used as dog names?' (True DB: dog_kennels)\n",
      "  Query 719: 'Count the number of dogs of an age below the average.' (True DB: dog_kennels)\n",
      "  Query 720: 'What are the id, role, and first name of the professionals who have performed two or more treatments?' (True DB: dog_kennels)\n",
      "  Query 721: 'How many times at most can a course enrollment result show in different transcripts? Also show the course enrollment id.' (True DB: student_transcripts_tracking)\n",
      "  Query 722: 'Count the number of different nationalities of conductors.' (True DB: orchestra)\n",
      "  Query 723: 'How many flights arriving in Aberdeen city?' (True DB: flight_2)\n",
      "  Query 724: 'List the dog name, age and weight of the dogs who have been abandoned? 1 stands for yes, and 0 stands for no.' (True DB: dog_kennels)\n",
      "  Query 725: 'What is the abbreviation of Airline \"JetBlue Airways\"?' (True DB: flight_2)\n",
      "  Query 726: 'What are the final tables made and best finishes for all poker players?' (True DB: poker_player)\n",
      "  Query 727: 'What are the names of cities in Europe for which English is not the official language?' (True DB: world_1)\n",
      "  Query 728: 'List the first and last name of all players who are left / L hand in the order of birth date.' (True DB: wta_1)\n",
      "  Query 729: 'How many likes correspond to each student id?' (True DB: network_1)\n",
      "  Query 730: 'How many templates have template type code CV?' (True DB: cre_Doc_Template_Mgt)\n",
      "  Query 731: 'What the smallest version number and its template type code?' (True DB: cre_Doc_Template_Mgt)\n",
      "  Query 732: 'What is the maximum number of final tables made among poker players with earnings less than 200000?' (True DB: poker_player)\n",
      "  Query 733: 'What is the name of the museum that had no visitor yet?' (True DB: museum_visit)\n",
      "  Query 734: 'Show names of teachers and the courses they are arranged to teach.' (True DB: course_teach)\n",
      "  Query 735: 'Which airports do not have departing or arriving flights?' (True DB: flight_2)\n",
      "  Query 736: 'What are the names of the teachers ordered by ascending age?' (True DB: course_teach)\n",
      "  Query 737: 'What is the number of cars with more than 4 cylinders?' (True DB: car_1)\n",
      "  Query 738: 'list all cartoon titles and their directors ordered by their air date' (True DB: tvshow)\n",
      "  Query 739: 'Return the id and name of the document with the most paragraphs.' (True DB: cre_Doc_Template_Mgt)\n",
      "  Query 740: 'What is all the information about hiring?' (True DB: employee_hire_evaluation)\n",
      "  Query 741: 'What are the earnings of poker players, ordered descending by value?' (True DB: poker_player)\n",
      "  Query 742: 'Find the number of employees hired in each shop; show the shop name as well.' (True DB: employee_hire_evaluation)\n",
      "  Query 743: 'Show the names and grades of each high schooler.' (True DB: network_1)\n",
      "  Query 744: 'Show location and name for all stadiums with a capacity between 5000 and 10000.' (True DB: concert_singer)\n",
      "  Query 745: 'Which Asian countries have a population that is larger than any country in Africa?' (True DB: world_1)\n",
      "  Query 746: 'What is the total number of singers?' (True DB: concert_singer)\n",
      "  Query 747: 'In 1980, how many cars were made?' (True DB: car_1)\n",
      "  Query 748: 'Give the total population and average surface area corresponding to countries in North America that have a surface area greater than 3000 .' (True DB: world_1)\n",
      "  Query 749: 'List each charge type and its amount.' (True DB: dog_kennels)\n",
      "  Query 750: 'Which owner has paid the largest amount of money in total for their dogs? Show the owner id and zip code.' (True DB: dog_kennels)\n",
      "  Query 751: 'What are the ids for templates that are not used in any documents?' (True DB: cre_Doc_Template_Mgt)\n",
      "  Query 752: 'What is the name of the singer with the largest net worth?' (True DB: singer)\n",
      "  Query 753: 'What is the maximum and minimum share for the TV series?' (True DB: tvshow)\n",
      "  Query 754: 'Which breed do the most dogs have? Give me the breed name.' (True DB: dog_kennels)\n",
      "  Query 755: 'What is the average weight and year for each year?' (True DB: car_1)\n",
      "  Query 756: 'What are the names of people who do not play poker?' (True DB: poker_player)\n",
      "  Query 757: 'What is the average and maximum capacities for all stadiums ?' (True DB: concert_singer)\n",
      "  Query 758: 'List the first and last name of all players in the order of birth date.' (True DB: wta_1)\n",
      "  Query 759: 'For each stadium, how many concerts play there?' (True DB: concert_singer)\n",
      "  Query 760: 'Show names of teachers and the courses they are arranged to teach in ascending alphabetical order of the teacher's name.' (True DB: course_teach)\n",
      "  Query 761: 'Show the stadium name and capacity with most number of concerts in year 2014 or after.' (True DB: concert_singer)\n",
      "  Query 762: 'What is the name of the course with the most students enrolled?' (True DB: student_transcripts_tracking)\n",
      "  Query 763: 'Return the codes of countries that do not speak English and do not have Republics for governments.' (True DB: world_1)\n",
      "  Query 764: 'Return the name of the airport with code 'AKO'.' (True DB: flight_2)\n",
      "  Query 765: 'What are the notes of the death events which has substring 'East'?' (True DB: battle_death)\n",
      "  Query 766: 'What are the different first names and ages of the students who do have pets?' (True DB: pets_1)\n",
      "  Query 767: 'What is the mobile phone number of the student named Timmothy Ward ?' (True DB: student_transcripts_tracking)\n",
      "  Query 768: 'What are the countries where either English or Dutch is the official language ?' (True DB: world_1)\n",
      "  Query 769: 'Which owners live in the state whose name contains the substring 'North'? List his first name, last name and email.' (True DB: dog_kennels)\n",
      "  Query 770: 'What is the name and capacity for the stadium with highest average attendance?' (True DB: concert_singer)\n",
      "  Query 771: 'Find the semester when both Master students and Bachelor students got enrolled in.' (True DB: student_transcripts_tracking)\n",
      "  Query 772: 'What are the number of concerts that occurred in the stadium with the largest capacity ?' (True DB: concert_singer)\n",
      "  Query 773: 'How many different addresses do the students currently live?' (True DB: student_transcripts_tracking)\n",
      "  Query 774: 'Which department offers the most number of degrees? List department name and id.' (True DB: student_transcripts_tracking)\n",
      "  Query 775: 'What are the ids of the TV channels that do not have any cartoons directed by Ben Jones?' (True DB: tvshow)\n",
      "  Query 776: 'What is the name of each continent and how many car makers are there in each one?' (True DB: car_1)\n",
      "  Query 777: 'Show the names of students who have at least 2 likes.' (True DB: network_1)\n",
      "  Query 778: 'Which of the countries has the most car makers? List the country name.' (True DB: car_1)\n",
      "  Query 779: 'What is the first name of every student who has a dog but does not have a cat?' (True DB: pets_1)\n",
      "  Query 780: 'Which models are lighter than 3500 but not built by the 'Ford Motor Company'?' (True DB: car_1)\n",
      "  Query 781: 'Give the code of the airport with the least flights.' (True DB: flight_2)\n",
      "  Query 782: 'Return the names of poker players sorted by their earnings descending.' (True DB: poker_player)\n",
      "  Query 783: 'Return the id of the document with the fewest paragraphs.' (True DB: cre_Doc_Template_Mgt)\n",
      "  Query 784: 'What are the names of the countries that are in the continent of Europe and have a population of 80000?' (True DB: world_1)\n",
      "  Query 785: 'Which language is the most popular in Aruba?' (True DB: world_1)\n",
      "  Query 786: 'What is the id of the semester that had both Masters and Bachelors students enrolled?' (True DB: student_transcripts_tracking)\n",
      "  Query 787: 'How many concerts occurred in 2014 or 2015?' (True DB: concert_singer)\n",
      "  Query 788: 'What country is Jetblue Airways affiliated with?' (True DB: flight_2)\n",
      "  Query 789: 'What is the Package Option of TV Channel with serial name \"Sky Radio\"?' (True DB: tvshow)\n",
      "  Query 790: 'What are the countries that have cartoons on TV that were written by Todd Casey?' (True DB: tvshow)\n",
      "  Query 791: 'List the language used least number of TV Channel. List language and number of TV Channel.' (True DB: tvshow)\n",
      "  Query 792: 'What are the names of the teachers whose courses have not been arranged?' (True DB: course_teach)\n",
      "  Query 793: 'Return the number of likes that the high schooler named Kyle has.' (True DB: network_1)\n",
      "  Query 794: 'List the airport code and name in the city of Anthony.' (True DB: flight_2)\n",
      "  Query 795: 'Find the name of tourney that has more than 10 matches.' (True DB: wta_1)\n",
      "  Query 796: 'What region does Angola belong to and what is its population?' (True DB: world_1)\n",
      "  Query 797: 'What are the id, name and membership level of visitors who have spent the largest amount of money in total in all museum tickets?' (True DB: museum_visit)\n",
      "  Query 798: 'Find the government form name and total population for each government form whose average life expectancy is longer than 72.' (True DB: world_1)\n",
      "  Query 799: 'Return the names of friends of the high school student Kyle.' (True DB: network_1)\n",
      "  Query 800: 'Which countries in europe have at least 3 car manufacturers?' (True DB: car_1)\n",
      "  Query 801: 'What are the ids, version numbers, and type codes for each template?' (True DB: cre_Doc_Template_Mgt)\n",
      "  Query 802: 'What are the names of the contestants whose names are not 'Jessie Alloway'' (True DB: voter_1)\n",
      "  Query 803: 'What are the names of high schoolers who both have friends and are liked?' (True DB: network_1)\n",
      "  Query 804: 'What is the airport name for airport 'AKO'?' (True DB: flight_2)\n",
      "  Query 805: 'Find the name of the winner who has the highest rank points and participated in the Australian Open tourney.' (True DB: wta_1)\n",
      "  Query 806: 'Which countries have either English or Dutch as an official language?' (True DB: world_1)\n",
      "  Query 807: 'How many car models are produced in the usa?' (True DB: car_1)\n",
      "  Query 808: 'What is the average, minimum, and maximum age for all French singers?' (True DB: concert_singer)\n",
      "  Query 809: 'What are the Asian countries which have a population larger than that of any country in Africa?' (True DB: world_1)\n",
      "  Query 810: 'How many countries does each continent have? List the continent id, continent name and the number of countries.' (True DB: car_1)\n",
      "  Query 811: 'What are the codes of countries with more than 50 players?' (True DB: wta_1)\n",
      "  Query 812: 'What are the names of the singers who are not French citizens?' (True DB: singer)\n",
      "  Query 813: 'Which professionals have done at least two treatments? List the professional's id, role, and first name.' (True DB: dog_kennels)\n",
      "  Query 814: 'Show the record companies shared by orchestras founded before 2003 and after 2003.' (True DB: orchestra)\n",
      "  Query 815: 'Find the number of distinct type of pets.' (True DB: pets_1)\n",
      "  Query 816: 'Find the cities that have more than one employee under age 30.' (True DB: employee_hire_evaluation)\n",
      "  Query 817: 'What is the name of the high schooler who has the greatest number of likes?' (True DB: network_1)\n",
      "  Query 818: 'Show names of all high school students who do not have any friends.' (True DB: network_1)\n",
      "  Query 819: 'What languages are only used by a single country with a republic government?' (True DB: world_1)\n",
      "  Query 820: 'What is the average earnings of poker players with height higher than 200?' (True DB: poker_player)\n",
      "  Query 821: 'How much does the car accelerate that makes amc hornet sportabout (sw)?' (True DB: car_1)\n",
      "  Query 822: 'Show the date of the transcript which shows the least number of results, also list the id.' (True DB: student_transcripts_tracking)\n",
      "  Query 823: 'How many documents are using the template with type code 'PPT'?' (True DB: cre_Doc_Template_Mgt)\n",
      "  Query 824: 'Which model saves the most gasoline? That is to say, have the maximum miles per gallon.' (True DB: car_1)\n",
      "  Query 825: 'Find number of pets owned by students who are older than 20.' (True DB: pets_1)\n",
      "  Query 826: 'What are the students' first names who have both cats and dogs as pets?' (True DB: pets_1)\n",
      "  Query 827: 'Please show the different record companies and the corresponding number of orchestras.' (True DB: orchestra)\n",
      "  Query 828: 'Count the number of paragraphs in the document named 'Summer Show'.' (True DB: cre_Doc_Template_Mgt)\n",
      "  Query 829: 'What are the distinct battle names which are between bulgarian commander 'Kaloyan' and latin commander 'Baldwin I'?' (True DB: battle_death)\n",
      "  Query 830: 'What is the age and hometown of every teacher?' (True DB: course_teach)\n",
      "  Query 831: 'What is the car model with the highest mpg ?' (True DB: car_1)\n",
      "  Query 832: 'Show all paragraph texts for the document \"Customer reviews\".' (True DB: cre_Doc_Template_Mgt)\n",
      "  Query 833: 'What are airlines that have flights arriving at airport 'AHD'?' (True DB: flight_2)\n",
      "  Query 834: 'What are the ids and names of the battles that led to more than 10 people killed in total.' (True DB: battle_death)\n",
      "  Query 835: 'How many cars have more than 4 cylinders?' (True DB: car_1)\n",
      "  Query 836: 'What is the feature type name of feature AirCon?' (True DB: real_estate_properties)\n",
      "  Query 837: 'How many type of governments are in Africa?' (True DB: world_1)\n",
      "  Query 838: 'Find the id of the pet owned by student whose last name is ‘Smith’.' (True DB: pets_1)\n",
      "  Query 839: 'Find all airlines that have at least 10 flights.' (True DB: flight_2)\n",
      "  Query 840: 'Which dogs are of the rarest breed? Show their names and treatment dates.' (True DB: dog_kennels)\n",
      "  Query 841: 'How many singers do we have?' (True DB: concert_singer)\n",
      "  Query 842: 'What are the makers and models?' (True DB: car_1)\n",
      "  Query 843: 'Find the total number of tours for each ranking date.' (True DB: wta_1)\n",
      "  Query 844: 'How many degrees does the engineering department have?' (True DB: student_transcripts_tracking)\n",
      "  Query 845: 'What are the names of people who are not from Russia?' (True DB: poker_player)\n",
      "  Query 846: 'How many transcripts are listed?' (True DB: student_transcripts_tracking)\n",
      "  Query 847: 'Find the first name, country code and birth date of the winner who has the highest rank points in all matches.' (True DB: wta_1)\n",
      "  Query 848: 'find the minimum and maximum number of products of all stores.' (True DB: employee_hire_evaluation)\n",
      "  Query 849: 'How many pets have a greater weight than 10?' (True DB: pets_1)\n",
      "  Query 850: 'Show names of teachers that teach at least two courses.' (True DB: course_teach)\n",
      "  Query 851: 'What are the different ids and names of the battles that lost any 'Brig' type shipes?' (True DB: battle_death)\n",
      "  Query 852: 'Give the names of the nations that were founded after 1950.' (True DB: world_1)\n",
      "  Query 853: 'What are the full names of all left handed players, in order of birth date?' (True DB: wta_1)\n",
      "  Query 854: 'What are the region and population of Angola?' (True DB: world_1)\n",
      "  Query 855: 'How many cars has over 6 cylinders?' (True DB: car_1)\n",
      "  Query 856: 'What is the first, middle, and last name, along with the id and number of enrollments, for the student who enrolled the most in any program?' (True DB: student_transcripts_tracking)\n",
      "  Query 857: 'What are the names and grades for each high schooler?' (True DB: network_1)\n",
      "  Query 858: 'What are flight numbers of flights arriving at City \"Aberdeen\"?' (True DB: flight_2)\n",
      "  Query 859: 'Show countries where a singer above age 40 and a singer below 30 are from.' (True DB: concert_singer)\n",
      "  Query 860: 'What are the names of the nations with the 3 lowest populations?' (True DB: world_1)\n",
      "  Query 861: 'What is the document name and template id for document with description with the letter 'w' in it?' (True DB: cre_Doc_Template_Mgt)\n",
      "  Query 862: 'How many teachers are there?' (True DB: course_teach)\n",
      "  Query 863: 'How much does the most recent treatment cost?' (True DB: dog_kennels)\n",
      "  Query 864: 'List all cartoon directed by \"Ben Jones\".' (True DB: tvshow)\n",
      "  Query 865: 'Show the names of all of the high schooler Kyle's friends.' (True DB: network_1)\n",
      "  Query 866: 'What is the maximum capacity and the average of all stadiums ?' (True DB: concert_singer)\n",
      "  Query 867: 'What is the content of the series Sky Radio?' (True DB: tvshow)\n",
      "  Query 868: 'What are the names of the singers who performed in a concert in 2014?' (True DB: concert_singer)\n",
      "  Query 869: 'How many flights have destination ATO?' (True DB: flight_2)\n",
      "  Query 870: 'Which employee received the most awards in evaluations? Give me the employee name.' (True DB: employee_hire_evaluation)\n",
      "  Query 871: 'What are the major record formats of orchestras, sorted by their frequency?' (True DB: orchestra)\n",
      "  Query 872: 'What are the ids of documents that contain the paragraph text 'Brazil' and 'Ireland'?' (True DB: cre_Doc_Template_Mgt)\n",
      "  Query 873: 'Return the type code of the template type that the most templates belong to.' (True DB: cre_Doc_Template_Mgt)\n",
      "  Query 874: 'Give the name of the nation that uses the greatest amount of languages.' (True DB: world_1)\n",
      "  Query 875: 'How many paragraphs in total?' (True DB: cre_Doc_Template_Mgt)\n",
      "  Query 876: 'Return the code of the template type that is most commonly used in documents.' (True DB: cre_Doc_Template_Mgt)\n",
      "  Query 877: 'What is the year that had the most concerts?' (True DB: concert_singer)\n",
      "  Query 878: 'What are the names and locations of the stadiums that had concerts that occurred in both 2014 and 2015?' (True DB: concert_singer)\n",
      "  Query 879: 'What is the area code in which the most voters voted?' (True DB: voter_1)\n",
      "  Query 880: 'Show names, results and bulgarian commanders of the battles with no ships lost in the 'English Channel'.' (True DB: battle_death)\n",
      "  Query 881: 'What is the number of cars with a horsepower greater than 150?' (True DB: car_1)\n",
      "  Query 882: 'What are the cost and treatment type description of each treatment?' (True DB: dog_kennels)\n",
      "  Query 883: 'What are the ids and makers of all car makers that produce at least 2 models and make more than 3 cars?' (True DB: car_1)\n",
      "  Query 884: 'How many different nationalities do conductors have?' (True DB: orchestra)\n",
      "  Query 885: 'Return the codes of countries for which Spanish is the predominantly spoken language.' (True DB: world_1)\n",
      "  Query 886: 'Count the number of different templates used for documents.' (True DB: cre_Doc_Template_Mgt)\n",
      "  Query 887: 'What are the different continents and the total popuation and average life expectancy corresponding to each, for continents that have an average life expectancy less than 72?' (True DB: world_1)\n",
      "  Query 888: 'Find the total ranking points for each player and their first name.' (True DB: wta_1)\n",
      "  Query 889: 'How long is the people’s average life expectancy in Central Africa?' (True DB: world_1)\n",
      "  Query 890: 'Find the last name of the students who currently live in the state of North Carolina but have not registered in any degree program.' (True DB: student_transcripts_tracking)\n",
      "  Query 891: 'List the cost of each treatment and the corresponding treatment type description.' (True DB: dog_kennels)\n",
      "  Query 892: 'How many high schoolers are in each grade?' (True DB: network_1)\n",
      "  Query 893: 'What are the ids and texts of paragraphs in the document titled 'Welcome to NY'?' (True DB: cre_Doc_Template_Mgt)\n",
      "  Query 894: 'For each citizenship, what is the maximum net worth?' (True DB: singer)\n",
      "  Query 895: 'What is the average edispl of the cars of model volvo?' (True DB: car_1)\n",
      "  Query 896: 'How many different degree names are offered?' (True DB: student_transcripts_tracking)\n",
      "  Query 897: 'Show the name of singers whose birth year is either 1948 or 1949?' (True DB: singer)\n",
      "  Query 898: 'Which airlines have less than 200 flights?' (True DB: flight_2)\n",
      "  Query 899: 'How many singers are there?' (True DB: singer)\n",
      "  Query 900: 'What are the names of properties that are either houses or apartments with more than 1 room?' (True DB: real_estate_properties)\n",
      "  Query 901: 'What are the type codes and descriptions for all template types?' (True DB: cre_Doc_Template_Mgt)\n",
      "  Query 902: 'What is the total count of teachers?' (True DB: course_teach)\n",
      "  Query 903: 'What are the names of conductors, sorted descending by the number of years they have worked?' (True DB: orchestra)\n",
      "  Query 904: 'Find the number of left handed winners who participated in the WTA Championships.' (True DB: wta_1)\n",
      "  Query 905: 'Return the ids corresponding to templates with the description 'Presentation'.' (True DB: cre_Doc_Template_Mgt)\n",
      "  Query 906: 'What region is Kabul in?' (True DB: world_1)\n",
      "  Query 907: 'Show all document ids, names and the number of paragraphs in each document.' (True DB: cre_Doc_Template_Mgt)\n",
      "  Query 908: 'What is the best rank of losers across all matches?' (True DB: wta_1)\n",
      "  Query 909: 'How many airports do we have?' (True DB: flight_2)\n",
      "  Query 910: 'What are the ids of templates with template type code PP or PPT?' (True DB: cre_Doc_Template_Mgt)\n",
      "  Query 911: 'How many visitors below age 30 are there?' (True DB: museum_visit)\n",
      "  Query 912: 'Show the name and theme for all concerts and the number of singers in each concert.' (True DB: concert_singer)\n",
      "  Query 913: 'List the maximum weight and type for each type of pet.' (True DB: pets_1)\n",
      "  Query 914: 'Return the name of the high school student with the most friends.' (True DB: network_1)\n",
      "  Query 915: 'What is the most populace city that speaks English?' (True DB: world_1)\n",
      "  Query 916: 'Give the city and country for the Alton airport.' (True DB: flight_2)\n",
      "  Query 917: 'List the names of people that are not poker players.' (True DB: poker_player)\n",
      "  Query 918: 'Return the document id, template id, and description for the document with the name Robbin CV.' (True DB: cre_Doc_Template_Mgt)\n",
      "  Query 919: 'Show names of people whose nationality is not \"Russia\".' (True DB: poker_player)\n",
      "  Query 920: 'How much does the youngest dog weigh?' (True DB: pets_1)\n",
      "  Query 921: 'What are the template ids with template type description \"Presentation\".' (True DB: cre_Doc_Template_Mgt)\n",
      "  Query 922: 'Find the arriving date and the departing date of the dogs that received a treatment.' (True DB: dog_kennels)\n",
      "  Query 923: 'What is the description of the treatment type that costs the least money in total?' (True DB: dog_kennels)\n",
      "  Query 924: 'What are the id and name of the museum visited most times?' (True DB: museum_visit)\n",
      "  Query 925: 'Return the birth date of the poker player with the lowest earnings.' (True DB: poker_player)\n",
      "  Query 926: 'What are the record companies of orchestras in descending order of years in which they were founded?' (True DB: orchestra)\n",
      "  Query 927: 'What are the record companies that are used by both orchestras founded before 2003 and those founded after 2003?' (True DB: orchestra)\n",
      "  Query 928: 'Which owner owns the most dogs? List the owner id, first name and last name.' (True DB: dog_kennels)\n",
      "  Query 929: 'What are the package options and the name of the series for the TV Channel that supports high definition TV?' (True DB: tvshow)\n",
      "  Query 930: 'How many countries are listed?' (True DB: car_1)\n",
      "  Query 931: 'Find the name, population and expected life length of asian country with the largest area?' (True DB: world_1)\n",
      "  Query 932: 'How many players are there for each hand type?' (True DB: wta_1)\n",
      "  Query 933: 'What is the maximum miles per gallon of the car with 8 cylinders or produced before 1980 ?' (True DB: car_1)\n",
      "  Query 934: 'Show the ID of the high schooler named Kyle.' (True DB: network_1)\n",
      "  Query 935: 'What is the name of the singer who is worth the most?' (True DB: singer)\n",
      "  Query 936: 'What type of pet is the youngest animal, and how much does it weigh?' (True DB: pets_1)\n",
      "  Query 937: 'What are the names of the stadiums without any concerts?' (True DB: concert_singer)\n",
      "  Query 938: 'What is the age of the oldest dog?' (True DB: dog_kennels)\n",
      "  Query 939: 'how many countries are in Asia?' (True DB: world_1)\n",
      "  Query 940: 'What is the total number of countries where Spanish is spoken by the largest percentage of people?' (True DB: world_1)\n",
      "  Query 941: 'Return the nationalities for which there are two or more people.' (True DB: poker_player)\n",
      "  Query 942: 'Show the date and id of the transcript with at least 2 course results.' (True DB: student_transcripts_tracking)\n",
      "  Query 943: 'Find the maximum weight for each type of pet. List the maximum weight and pet type.' (True DB: pets_1)\n",
      "  Query 944: 'What is the total number of people living in the nations that do not use English?' (True DB: world_1)\n",
      "  Query 945: 'Count the number of high schoolers in grades 9 or 10.' (True DB: network_1)\n",
      "  Query 946: 'Which African countries have a smaller population than that of any country in Asia?' (True DB: world_1)\n",
      "  Query 947: 'What are the different years in which there were cars produced that weighed less than 4000 and also cars that weighted more than 3000 ?' (True DB: car_1)\n",
      "  Query 948: 'What are the towns from which at least two teachers come from?' (True DB: course_teach)\n",
      "  Query 949: 'Return the grade that has the greatest number of high schoolers.' (True DB: network_1)\n",
      "  Query 950: 'Find the districts in which there are both shops selling less than 3000 products and shops selling more than 10000 products.' (True DB: employee_hire_evaluation)\n",
      "  Query 951: 'What are the names of singers ordered by ascending net worth?' (True DB: singer)\n",
      "  Query 952: 'What are the names of tournaments that have more than 10 matches?' (True DB: wta_1)\n",
      "  Query 953: 'How many pets are owned by students that have an age greater than 20?' (True DB: pets_1)\n",
      "  Query 954: 'What are the first, middle, and last names, along with the ids, of all students who enrolled in 2 degree programs in one semester?' (True DB: student_transcripts_tracking)\n",
      "  Query 955: 'Find all airlines that have fewer than 200 flights.' (True DB: flight_2)\n",
      "  Query 956: 'What are the different addresses that have students living there?' (True DB: student_transcripts_tracking)\n",
      "  Query 957: 'What are the email, cell phone and home phone of each professional?' (True DB: dog_kennels)\n",
      "  Query 958: 'What are the names of the teachers and how many courses do they teach?' (True DB: course_teach)\n",
      "  Query 959: 'What are the languages used by the least number of TV Channels and how many channels use it?' (True DB: tvshow)\n",
      "  Query 960: 'What is the degree summary name that has the most number of students enrolled?' (True DB: student_transcripts_tracking)\n",
      "  Query 961: 'What are the population, name and leader of the country with the largest area?' (True DB: world_1)\n",
      "  Query 962: 'Find the owner id and zip code of the owner who spent the most money in total for his or her dogs.' (True DB: dog_kennels)\n",
      "  Query 963: 'Whose permanent address is different from his or her current address? List his or her first name.' (True DB: student_transcripts_tracking)\n",
      "  Query 964: 'Find the name and location of the stadiums which some concerts happened in the years of both 2014 and 2015.' (True DB: concert_singer)\n",
      "  Query 965: 'What is the maximum accelerate for different number of cylinders?' (True DB: car_1)\n",
      "  Query 966: 'What is the horsepower of the car with the greatest accelerate?' (True DB: car_1)\n",
      "  Query 967: 'Find the number of dog pets that are raised by female students (with sex F).' (True DB: pets_1)\n",
      "  Query 968: 'How many battles did not lose any ship with tonnage '225'?' (True DB: battle_death)\n",
      "  Query 969: 'Find the average grade of all students who have some friends.' (True DB: network_1)\n",
      "  Query 970: 'What are all of the episodes ordered by ratings?' (True DB: tvshow)\n",
      "  Query 971: 'Find the number of professionals who have not treated any dogs.' (True DB: dog_kennels)\n",
      "  Query 972: 'What is the largest amount of horsepower for the models with 3 cylinders and what make is it?' (True DB: car_1)\n",
      "  Query 973: 'What is the grade of each high schooler?' (True DB: network_1)\n",
      "  Query 974: 'How many different results are there for the battles?' (True DB: battle_death)\n",
      "  Query 975: 'Return the number of  airports.' (True DB: flight_2)\n",
      "  Query 976: 'Find the last name of the student who has a cat that is age 3.' (True DB: pets_1)\n",
      "  Query 977: 'List the title of all cartoons in alphabetical order.' (True DB: tvshow)\n",
      "  Query 978: 'What are all the song names by singers who are older than average?' (True DB: concert_singer)\n",
      "  Query 979: 'What is the version number and template type code for the template with version number later than 5?' (True DB: cre_Doc_Template_Mgt)\n",
      "  Query 980: 'How many car makers are there in each continents? List the continent name and the count.' (True DB: car_1)\n",
      "  Query 981: 'Which professionals have operated a treatment that costs less than the average? Give me theor first names and last names.' (True DB: dog_kennels)\n",
      "  Query 982: 'What are the codes of template types that are not used for any document?' (True DB: cre_Doc_Template_Mgt)\n",
      "  Query 983: 'How many flights depart from 'APG'?' (True DB: flight_2)\n",
      "  Query 984: 'Sort employee names by their age in ascending order.' (True DB: employee_hire_evaluation)\n",
      "  Query 985: 'Give the mean GNP and total population of nations which are considered US territory.' (True DB: world_1)\n",
      "  Query 986: 'Which continent is Anguilla in?' (True DB: world_1)\n",
      "  Query 987: 'List the earnings of poker players in descending order.' (True DB: poker_player)\n",
      "  Query 988: 'What is the maximum horsepower and the make of the car models with 3 cylinders?' (True DB: car_1)\n",
      "  Query 989: 'What are the country codes of the different countries, and what are the languages spoken by the greatest percentage of people for each?' (True DB: world_1)\n",
      "  Query 990: 'find the name of employee who was awarded the most times in the evaluation.' (True DB: employee_hire_evaluation)\n",
      "  Query 991: 'How many countries have governments that are republics?' (True DB: world_1)\n",
      "  Query 992: 'When was the last transcript released?' (True DB: student_transcripts_tracking)\n",
      "  Query 993: 'Find the role, street, city and state of the professionals living in a city that contains the substring 'West'.' (True DB: dog_kennels)\n",
      "  Query 994: 'Return the version numbers and template type codes of templates with a version number greater than 5.' (True DB: cre_Doc_Template_Mgt)\n",
      "  Query 995: 'Which flight numbers correspond to United Airlines flights?' (True DB: flight_2)\n",
      "  Query 996: 'What are the names of the teachers whose hometown is not `` Little Lever Urban District '' ?' (True DB: course_teach)\n",
      "  Query 997: 'Show titles of songs and names of singers.' (True DB: singer)\n",
      "  Query 998: 'What are the average and maximum number of tickets bought in all visits?' (True DB: museum_visit)\n",
      "  Query 999: 'What is the first name and gender of the all the students who have more than one pet?' (True DB: pets_1)\n",
      "  Query 1000: 'Count the number of employees' (True DB: employee_hire_evaluation)\n",
      "  Query 1001: 'Which dogs have not cost their owner more than 1000 for treatment ? List the dog names .' (True DB: dog_kennels)\n",
      "  Query 1002: 'Return the country name and the numbers of languages spoken for each country that speaks at least 3 languages.' (True DB: world_1)\n",
      "  Query 1003: 'Who is enrolled in a Bachelor degree program? List the first name, middle name, last name.' (True DB: student_transcripts_tracking)\n",
      "  Query 1004: 'What are all the possible breed type and size type combinations?' (True DB: dog_kennels)\n",
      "  Query 1005: 'Who is the earliest graduate of the school? List the first name, middle name and last name.' (True DB: student_transcripts_tracking)\n",
      "  Query 1006: 'What are the titles of all cartoons directed by Ben Jones or Brandon Vietti?' (True DB: tvshow)\n",
      "  Query 1007: 'What is the name of the winner who has won the most matches, and how many rank points does this player have?' (True DB: wta_1)\n",
      "  Query 1008: 'What are the countries having at least one car maker? List name and id.' (True DB: car_1)\n",
      "  Query 1009: 'Find the first names that are used for professionals or owners but are not used as dog names.' (True DB: dog_kennels)\n",
      "  Query 1010: 'Which states have both owners and professionals living there?' (True DB: dog_kennels)\n",
      "  Query 1011: 'What is the name of the high schooler who has the greatest number of friends?' (True DB: network_1)\n",
      "  Query 1012: 'What are the nationalities that are shared by at least two people?' (True DB: poker_player)\n",
      "  Query 1013: 'What is the total number of unique official languages spoken in the countries that are founded before 1930?' (True DB: world_1)\n",
      "  Query 1014: 'What is the average transcript date?' (True DB: student_transcripts_tracking)\n",
      "  Query 1015: 'Which cities do more than one employee under age 30 come from?' (True DB: employee_hire_evaluation)\n",
      "  Query 1016: 'What are the last name of the students who live in North Carolina but have not registered in any degree programs?' (True DB: student_transcripts_tracking)\n",
      "  Query 1017: 'What are the full names of all players, sorted by birth date?' (True DB: wta_1)\n",
      "  Query 1018: 'What are the birth year and citizenship of singers?' (True DB: singer)\n",
      "  Query 1019: 'Find the number of matches happened in each year.' (True DB: wta_1)\n",
      "  Query 1020: 'Which city is the most frequent source airport?' (True DB: flight_2)\n",
      "  Query 1021: 'What is the total ticket expense of the visitors whose membership level is 1?' (True DB: museum_visit)\n",
      "  Query 1022: 'what is the name and nation of the singer who have a song having 'Hey' in its name?' (True DB: concert_singer)\n",
      "  Query 1023: 'Find the average ranking for each player and their first name.' (True DB: wta_1)\n",
      "  Query 1024: 'List all the student details in reversed lexicographical order.' (True DB: student_transcripts_tracking)\n",
      "  Query 1025: 'What is the average miles per gallon of all the cards with 4 cylinders?' (True DB: car_1)\n",
      "  Query 1026: 'Which airlines have a flight with destination airport AHD?' (True DB: flight_2)\n",
      "  Query 1027: 'What are the names of the countries with no car makers?' (True DB: car_1)\n",
      "  Query 1028: 'Find the total number of players.' (True DB: wta_1)\n",
      "  Query 1029: 'What is the average weight for each type of pet?' (True DB: pets_1)\n",
      "  Query 1030: 'Give the name of the country in Asia with the lowest life expectancy.' (True DB: world_1)\n",
      "  Query 1031: 'Give the average life expectancy for countries in Africa which are republics?' (True DB: world_1)\n",
      "  Query 1032: 'Return the money rank of the poker player with the greatest height.' (True DB: poker_player)\n",
      "  Query 1033: 'Give the flight numbers of flights leaving from Aberdeen.' (True DB: flight_2)\n",
      "  Query 1034: 'Among the cars with more than lowest horsepower, which ones do not have more than 3 cylinders? List the car makeid and make name.' (True DB: car_1)\n",
      "\n",
      "Each of the 1034 selected queries will be evaluated against all 166 available Spider database schemas.\n"
     ]
    }
   ],
   "source": [
    "import re\n",
    "import os\n",
    "\n",
    "TEXT_QUERIES_FILE = \"/raid/infolab/gaurav/Llama_Spider_A100_Project/all_queries.txt\"\n",
    "\n",
    "if not os.path.exists(TEXT_QUERIES_FILE):\n",
    "    raise FileNotFoundError(f\"Cannot find '{TEXT_QUERIES_FILE}' – make sure it’s in your working directory or update the path.\")\n",
    "\n",
    "selected_nl_queries = []\n",
    "pattern = re.compile(r\"Test Query\\s+\\d+:\\s+'(.+)'\\s+\\(True DB:\\s*([^)]+)\\)\")\n",
    "\n",
    "with open(TEXT_QUERIES_FILE, \"r\") as f_in:\n",
    "    for line in f_in:\n",
    "        line = line.strip()\n",
    "        if not line.startswith(\"Test Query\"):\n",
    "            continue\n",
    "\n",
    "        m = pattern.match(line)\n",
    "        if not m:\n",
    "            print(f\"Warning: could not parse line:\\n  {line}\")\n",
    "            continue\n",
    "\n",
    "        question_text = m.group(1)\n",
    "        true_db_id    = m.group(2)\n",
    "\n",
    "        selected_nl_queries.append({\n",
    "            \"question\": question_text,\n",
    "            \"db_id\":    true_db_id\n",
    "        })\n",
    "\n",
    "if len(selected_nl_queries) == 0:\n",
    "    raise ValueError(f\"No queries were parsed from '{TEXT_QUERIES_FILE}'. Check your file’s format.\")\n",
    "\n",
    "print(f\"Loaded {len(selected_nl_queries)} queries from '{TEXT_QUERIES_FILE}':\")\n",
    "for i, q in enumerate(selected_nl_queries, 1):\n",
    "    print(f\"  Query {i}: '{q['question']}' (True DB: {q['db_id']})\")\n",
    "\n",
    "\n",
    "candidate_schemas_for_evaluation = all_db_schemas_sql_strings\n",
    "print(f\"\\nEach of the {len(selected_nl_queries)} selected queries will be evaluated against all {len(candidate_schemas_for_evaluation)} available Spider database schemas.\")\n",
    "\n",
    "if not candidate_schemas_for_evaluation:\n",
    "    raise ValueError(\"No candidate schemas available for evaluation. This indicates an issue with schema loading or conversion in Cell 1.\")"
   ]
  },
  {
   "cell_type": "code",
   "execution_count": 43,
   "id": "4ac0d7cb-81c6-487c-b796-ba1594a76912",
   "metadata": {},
   "outputs": [
    {
     "name": "stdout",
     "output_type": "stream",
     "text": [
      "Ensured experiment project directory exists: '/raid/infolab/gaurav/Llama_Spider_A100_Project/randomQ_allDBs_run1'\n",
      "Experiment results will be saved to: /raid/infolab/gaurav/Llama_Spider_A100_Project/randomQ_allDBs_run1/spider_queries_llama3.1_8B-instruct_CREATE_prompt_no_examples.json\n"
     ]
    }
   ],
   "source": [
    "import os\n",
    "import json \n",
    "LOCAL_EXPERIMENT_BASE_DIR = \"/raid/infolab/gaurav/Llama_Spider_A100_Project/\"\n",
    "\n",
    "EXPERIMENT_RUN_NAME = \"randomQ_allDBs_run1\" \n",
    "EXPERIMENT_PROJECT_DIR = os.path.join(LOCAL_EXPERIMENT_BASE_DIR, EXPERIMENT_RUN_NAME)\n",
    "\n",
    "try:\n",
    "    os.makedirs(EXPERIMENT_PROJECT_DIR, exist_ok=True)\n",
    "    print(f\"Ensured experiment project directory exists: '{EXPERIMENT_PROJECT_DIR}'\")\n",
    "except OSError as e:\n",
    "    print(f\"Error creating directory {EXPERIMENT_PROJECT_DIR}: {e}\")\n",
    "    EXPERIMENT_PROJECT_DIR = \".\" \n",
    "\n",
    "\n",
    "RESULTS_FILENAME = \"spider_queries_llama3.1_8B-instruct_CREATE_prompt_no_examples.json\"\n",
    "EXPERIMENT_RESULTS_FILE = os.path.join(EXPERIMENT_PROJECT_DIR, RESULTS_FILENAME)\n",
    "\n",
    "print(f\"Experiment results will be saved to: {EXPERIMENT_RESULTS_FILE}\")"
   ]
  },
  {
   "cell_type": "code",
   "execution_count": 28,
   "id": "e29bb982-09ab-4d61-9888-a306afab0d62",
   "metadata": {},
   "outputs": [
    {
     "name": "stdout",
     "output_type": "stream",
     "text": [
      "Helper function 'get_one_zero_token_ids' defined.\n"
     ]
    }
   ],
   "source": [
    "# Cell defining get_one_zero_token_ids\n",
    "\n",
    "def get_one_zero_token_ids(tokenizer_arg):\n",
    "    \"\"\"\n",
    "    Determines the single token IDs for the characters '1' and '0'.\n",
    "    It's crucial these are single tokens for the logit logic to work.\n",
    "    \"\"\"\n",
    "    # Llama 3 tokenizer handles single digits with leading spaces well.\n",
    "    one_token_id = tokenizer_arg.encode(\" 1\", add_special_tokens=False)\n",
    "    zero_token_id = tokenizer_arg.encode(\" 0\", add_special_tokens=False)\n",
    "\n",
    "    if len(one_token_id) == 1 and len(zero_token_id) == 1:\n",
    "        print(\"Using ' 1' and ' 0' (with leading space) for token IDs.\")\n",
    "        return one_token_id[0], zero_token_id[0]\n",
    "    \n",
    "    # Fallback in case the model prefers no space (less common for instruction models)\n",
    "    one_token_id_no_space = tokenizer_arg.encode(\"1\", add_special_tokens=False)\n",
    "    zero_token_id_no_space = tokenizer_arg.encode(\"0\", add_special_tokens=False)\n",
    "\n",
    "    if len(one_token_id_no_space) == 1 and len(zero_token_id_no_space) == 1:\n",
    "        print(\"Using '1' and '0' (no leading space) for token IDs.\")\n",
    "        return one_token_id_no_space[0], zero_token_id_no_space[0]\n",
    "        \n",
    "    else:\n",
    "        # If neither works, there's a problem with the tokenizer for this task.\n",
    "        print(f\"ERROR: Could not determine reliable single token IDs for '1' or '0'.\")\n",
    "        print(f\"Tokenization of ' 1': {one_token_id}\")\n",
    "        print(f\"Tokenization of ' 0': {zero_token_id}\")\n",
    "        print(f\"Tokenization of '1': {one_token_id_no_space}\")\n",
    "        print(f\"Tokenization of '0': {zero_token_id_no_space}\")\n",
    "        raise ValueError(\"Unstable tokenization for '1'/'0'. Cannot proceed.\")\n",
    "\n",
    "print(\"Helper function 'get_one_zero_token_ids' defined.\")"
   ]
  },
  {
   "cell_type": "code",
   "execution_count": 29,
   "id": "c3beb68b-141a-4791-a467-ab1456a8ded5",
   "metadata": {},
   "outputs": [
    {
     "name": "stdout",
     "output_type": "stream",
     "text": [
      "Using '1' and '0' (no leading space) for token IDs.\n",
      "ONE_TOKEN_ID: 16 ('1')\n",
      "ZERO_TOKEN_ID: 15 ('0')\n"
     ]
    }
   ],
   "source": [
    "# This cell defines the global token IDs for '1' and '0'\n",
    "if 'tokenizer' in globals() and tokenizer is not None:\n",
    "    try:\n",
    "        ONE_TOKEN_ID, ZERO_TOKEN_ID = get_one_zero_token_ids(tokenizer)\n",
    "        print(f\"ONE_TOKEN_ID: {ONE_TOKEN_ID} ('{tokenizer.decode([ONE_TOKEN_ID])}')\")\n",
    "        print(f\"ZERO_TOKEN_ID: {ZERO_TOKEN_ID} ('{tokenizer.decode([ZERO_TOKEN_ID])}')\")\n",
    "    except ValueError as e:\n",
    "        print(f\"Error defining 1/0 token IDs: {e}\")\n",
    "else:\n",
    "    print(\"ERROR: 'tokenizer' is not defined. Cannot define token IDs.\")"
   ]
  },
  {
   "cell_type": "code",
   "execution_count": 50,
   "id": "7608e9e0-7e71-4e2f-bd0e-85ca55dd0c0c",
   "metadata": {},
   "outputs": [
    {
     "name": "stdout",
     "output_type": "stream",
     "text": [
      "Core function 'get_schema_match_prediction' defined with per-prompt file logging.\n"
     ]
    }
   ],
   "source": [
    "import torch # Ensure torch is imported\n",
    "import os\n",
    "\n",
    "# --- Core function to get P(1) and the binary decision ---\n",
    "def get_schema_match_prediction(model_arg, tokenizer_arg, system_prompt_arg, user_prompt_content_arg, one_token_id_arg, zero_token_id_arg, query_id_for_log, db_id_for_log, max_length=model.config.max_position_embeddings):\n",
    "    \"\"\"\n",
    "    Gets the model's prediction (1 or 0) and the probability score for that decision.\n",
    "    Saves the prompt to a unique file for inspection.\n",
    "    \n",
    "    Args:\n",
    "        ... (other args) ...\n",
    "        query_id_for_log (str): A unique identifier for the user query (e.g., 'query_001').\n",
    "        db_id_for_log (str): The database ID being checked against the query.\n",
    "\n",
    "    Returns:\n",
    "        tuple: (binary_decision, probability_of_one)\n",
    "    \"\"\"\n",
    "    messages = [\n",
    "        {\"role\": \"system\", \"content\": system_prompt_arg},\n",
    "        {\"role\": \"user\", \"content\": user_prompt_content_arg}\n",
    "    ]\n",
    "\n",
    "    prompt_for_model = tokenizer_arg.apply_chat_template(messages, tokenize=False, add_generation_prompt=True)\n",
    "    \n",
    "    # --- Save the full prompt for inspection ---\n",
    "    # This approach saves each prompt to a separate file, which is useful for debugging individual cases.\n",
    "    PROMPT_LOG_DIR = \"prompt_logs_CREATE_prompt_no_examples\"\n",
    "    os.makedirs(PROMPT_LOG_DIR, exist_ok=True)\n",
    "    # Create a unique filename for this specific query-schema pair\n",
    "    filename = f\"prompt_query_{query_id_for_log}_vs_db_{db_id_for_log}.txt\"\n",
    "    filepath = os.path.join(PROMPT_LOG_DIR, filename)\n",
    "    try:\n",
    "        with open(filepath, 'w', encoding='utf-8') as f:\n",
    "            f.write(prompt_for_model)\n",
    "    except Exception as e:\n",
    "        print(f\"  WARNING: Could not write prompt to file {filepath}. Error: {e}\")\n",
    "\n",
    "    inputs = tokenizer_arg(\n",
    "        prompt_for_model,\n",
    "        return_tensors=\"pt\",\n",
    "        truncation=True,\n",
    "        max_length=max_length - 10\n",
    "    )\n",
    "    inputs = {k: v.to(model_arg.device) for k, v in inputs.items()}\n",
    "\n",
    "    if inputs['input_ids'].shape[1] >= max_length - 10:\n",
    "         print(f\"Warning: Prompt for query {query_id_for_log} vs db {db_id_for_log} was truncated. Length: {inputs['input_ids'].shape[1]}\")\n",
    "\n",
    "    with torch.no_grad():\n",
    "        outputs = model_arg(**inputs)\n",
    "        logits = outputs.logits\n",
    "        # Get the logits for the very next token to be generated\n",
    "        next_token_logits = logits[:, -1, :]\n",
    "        \n",
    "        # Get the specific logits for the '1' and '0' tokens\n",
    "        logit_one = next_token_logits[:, one_token_id_arg].item()\n",
    "        logit_zero = next_token_logits[:, zero_token_id_arg].item()\n",
    "\n",
    "    # --- Make the decision based on which logit is higher ---\n",
    "    binary_decision = 1 if logit_one > logit_zero else 0\n",
    "\n",
    "    # --- Calculate the probability using the softmax function on the two logits ---\n",
    "    # This correctly converts the logits into a probability score for '1'\n",
    "    max_logit = max(logit_one, logit_zero)\n",
    "    exp_one = torch.exp(torch.tensor(logit_one - max_logit))\n",
    "    exp_zero = torch.exp(torch.tensor(logit_zero - max_logit))\n",
    "    \n",
    "    prob_one = exp_one / (exp_one + exp_zero)\n",
    "    \n",
    "    return (binary_decision, prob_one.item())\n",
    "\n",
    "print(\"Core function 'get_schema_match_prediction' defined with per-prompt file logging.\")"
   ]
  },
  {
   "cell_type": "code",
   "execution_count": 31,
   "id": "803de059-9514-4d09-b14e-b5e21e1ae14c",
   "metadata": {},
   "outputs": [
    {
     "name": "stdout",
     "output_type": "stream",
     "text": [
      "SYSTEM_PROMPT and USER_PROMPT_TEMPLATE updated for '1' or '0' output.\n"
     ]
    }
   ],
   "source": [
    "# --- Prompt Configuration for Binary (1/0) Output ---\n",
    "\n",
    "SYSTEM_PROMPT = \"\"\"\n",
    "You are an expert system that determines if a natural language question can be answered using ONLY the provided database schema.\n",
    "Your task is to respond with a single character: '1' if the question is answerable, or '0' if it is not.\n",
    "Do not provide any explanations or other text. Just '1' or '0'.\n",
    "\"\"\"\n",
    "\n",
    "USER_PROMPT_TEMPLATE = \"\"\"\n",
    "# Task: Can the question be answered using the schema? Respond with 1 (Yes) or 0 (No).\n",
    "\n",
    "# Few-Shot Examples:\n",
    "\n",
    "[Schema:\n",
    "CREATE TABLE student (student_id INT, student_name TEXT);\n",
    "CREATE TABLE course (course_id INT, course_name TEXT);\n",
    "CREATE TABLE enrollment (student_id INT, course_id INT);\n",
    "]\n",
    "Q: List the names of all students enrolled in the 'Math' course.\n",
    "A: 1\n",
    "\n",
    "[Schema:\n",
    "CREATE TABLE orders (order_id INT, customer_id INT, amount REAL);\n",
    "CREATE TABLE customer (customer_id INT, customer_name TEXT);\n",
    "]\n",
    "Q: Find the total number of orders placed in 2019.\n",
    "A: 0\n",
    "\n",
    "# Now, evaluate the following:\n",
    "\n",
    "[Schema:\n",
    "{schema_string}\n",
    "]\n",
    "Q: {nl_query}\n",
    "A:\n",
    "\"\"\"\n",
    "\n",
    "print(\"SYSTEM_PROMPT and USER_PROMPT_TEMPLATE updated for '1' or '0' output.\")"
   ]
  },
  {
   "cell_type": "code",
   "execution_count": 51,
   "id": "37250ba8-97bf-47db-9329-2a265c5de7cf",
   "metadata": {
    "scrolled": true
   },
   "outputs": [
    {
     "name": "stdout",
     "output_type": "stream",
     "text": [
      "\n",
      "--- Starting Experiment: 1034 Queries vs. 166 Schemas ---\n"
     ]
    },
    {
     "data": {
      "application/vnd.jupyter.widget-view+json": {
       "model_id": "9ba3c1fa390a4025b8eb2602c59e10e9",
       "version_major": 2,
       "version_minor": 0
      },
      "text/plain": [
       "Processing NL Queries:   0%|          | 0/1034 [00:00<?, ?it/s]"
      ]
     },
     "metadata": {},
     "output_type": "display_data"
    },
    {
     "name": "stdout",
     "output_type": "stream",
     "text": [
      "\n",
      "Processing Query 1/1034 (ID: spider_dev_q0_idx0): 'Show the property type descriptions of properties belonging to that code.' (True DB: real_estate_properties)\n"
     ]
    },
    {
     "data": {
      "application/vnd.jupyter.widget-view+json": {
       "model_id": "8e2a3808ee8946d293f3797ac1553321",
       "version_major": 2,
       "version_minor": 0
      },
      "text/plain": [
       "  DBs for Q:spider_dev_q0_idx0:   0%|          | 0/166 [00:00<?, ?it/s]"
      ]
     },
     "metadata": {},
     "output_type": "display_data"
    },
    {
     "name": "stdout",
     "output_type": "stream",
     "text": [
      "\n",
      "Processing Query 2/1034 (ID: spider_dev_q1_idx1): 'What are the name of the countries where there is not a single car maker?' (True DB: car_1)\n"
     ]
    },
    {
     "data": {
      "application/vnd.jupyter.widget-view+json": {
       "model_id": "a203f49d1d4040ac8ae6c4faf40604ff",
       "version_major": 2,
       "version_minor": 0
      },
      "text/plain": [
       "  DBs for Q:spider_dev_q1_idx1:   0%|          | 0/166 [00:00<?, ?it/s]"
      ]
     },
     "metadata": {},
     "output_type": "display_data"
    },
    {
     "name": "stdout",
     "output_type": "stream",
     "text": [
      "\n",
      "Processing Query 3/1034 (ID: spider_dev_q2_idx2): 'What are the date and the operating professional's first name of each treatment?' (True DB: dog_kennels)\n"
     ]
    },
    {
     "data": {
      "application/vnd.jupyter.widget-view+json": {
       "model_id": "72308241bf114839beed161af6326db6",
       "version_major": 2,
       "version_minor": 0
      },
      "text/plain": [
       "  DBs for Q:spider_dev_q2_idx2:   0%|          | 0/166 [00:00<?, ?it/s]"
      ]
     },
     "metadata": {},
     "output_type": "display_data"
    },
    {
     "name": "stdout",
     "output_type": "stream",
     "text": [
      "\n",
      "Processing Query 4/1034 (ID: spider_dev_q3_idx3): 'List each owner's first name, last name, and the size of his for her dog.' (True DB: dog_kennels)\n"
     ]
    },
    {
     "data": {
      "application/vnd.jupyter.widget-view+json": {
       "model_id": "5aa80e6873d94324a64408ee38be2517",
       "version_major": 2,
       "version_minor": 0
      },
      "text/plain": [
       "  DBs for Q:spider_dev_q3_idx3:   0%|          | 0/166 [00:00<?, ?it/s]"
      ]
     },
     "metadata": {},
     "output_type": "display_data"
    },
    {
     "name": "stdout",
     "output_type": "stream",
     "text": [
      "\n",
      "Processing Query 5/1034 (ID: spider_dev_q4_idx4): 'Find the first name and age of students who have a dog but do not have a cat as a pet.' (True DB: pets_1)\n"
     ]
    },
    {
     "data": {
      "application/vnd.jupyter.widget-view+json": {
       "model_id": "364e4c3be8774f009234f9e664f87cb6",
       "version_major": 2,
       "version_minor": 0
      },
      "text/plain": [
       "  DBs for Q:spider_dev_q4_idx4:   0%|          | 0/166 [00:00<?, ?it/s]"
      ]
     },
     "metadata": {},
     "output_type": "display_data"
    },
    {
     "name": "stdout",
     "output_type": "stream",
     "text": [
      "\n",
      "Processing Query 6/1034 (ID: spider_dev_q5_idx5): 'What is the number of cars with a greater accelerate than the one with the most horsepower?' (True DB: car_1)\n"
     ]
    },
    {
     "data": {
      "application/vnd.jupyter.widget-view+json": {
       "model_id": "106c6df962d044e1afa229f354993fed",
       "version_major": 2,
       "version_minor": 0
      },
      "text/plain": [
       "  DBs for Q:spider_dev_q5_idx5:   0%|          | 0/166 [00:00<?, ?it/s]"
      ]
     },
     "metadata": {},
     "output_type": "display_data"
    },
    {
     "name": "stdout",
     "output_type": "stream",
     "text": [
      "\n",
      "Processing Query 7/1034 (ID: spider_dev_q6_idx6): 'What are the names of the teachers who are aged either 32 or 33?' (True DB: course_teach)\n"
     ]
    },
    {
     "data": {
      "application/vnd.jupyter.widget-view+json": {
       "model_id": "41dae6af593948ff9bf0a252a5f4c071",
       "version_major": 2,
       "version_minor": 0
      },
      "text/plain": [
       "  DBs for Q:spider_dev_q6_idx6:   0%|          | 0/166 [00:00<?, ?it/s]"
      ]
     },
     "metadata": {},
     "output_type": "display_data"
    },
    {
     "name": "stdout",
     "output_type": "stream",
     "text": [
      "\n",
      "Processing Query 8/1034 (ID: spider_dev_q7_idx7): 'Return the maximum final tables made across all poker players who have earnings below 200000.' (True DB: poker_player)\n"
     ]
    },
    {
     "data": {
      "application/vnd.jupyter.widget-view+json": {
       "model_id": "74c715a61ce74566bf37ec4b1b803333",
       "version_major": 2,
       "version_minor": 0
      },
      "text/plain": [
       "  DBs for Q:spider_dev_q7_idx7:   0%|          | 0/166 [00:00<?, ?it/s]"
      ]
     },
     "metadata": {},
     "output_type": "display_data"
    },
    {
     "name": "stdout",
     "output_type": "stream",
     "text": [
      "\n",
      "Processing Query 9/1034 (ID: spider_dev_q8_idx8): 'Show template ids, version numbers, and template type codes for all templates.' (True DB: cre_Doc_Template_Mgt)\n"
     ]
    },
    {
     "data": {
      "application/vnd.jupyter.widget-view+json": {
       "model_id": "e99ed333a9d040e08f348aec8f2e9ba5",
       "version_major": 2,
       "version_minor": 0
      },
      "text/plain": [
       "  DBs for Q:spider_dev_q8_idx8:   0%|          | 0/166 [00:00<?, ?it/s]"
      ]
     },
     "metadata": {},
     "output_type": "display_data"
    },
    {
     "name": "stdout",
     "output_type": "stream",
     "text": [
      "\n",
      "Processing Query 10/1034 (ID: spider_dev_q9_idx9): 'What is the most common nationality of people?' (True DB: poker_player)\n"
     ]
    },
    {
     "data": {
      "application/vnd.jupyter.widget-view+json": {
       "model_id": "c658dca5aeec4075913e9e152f8c82c6",
       "version_major": 2,
       "version_minor": 0
      },
      "text/plain": [
       "  DBs for Q:spider_dev_q9_idx9:   0%|          | 0/166 [00:00<?, ?it/s]"
      ]
     },
     "metadata": {},
     "output_type": "display_data"
    },
    {
     "name": "stdout",
     "output_type": "stream",
     "text": [
      "\n",
      "Processing Query 11/1034 (ID: spider_dev_q10_idx10): 'find the pixel aspect ratio and nation of the tv channels that do not use English.' (True DB: tvshow)\n"
     ]
    },
    {
     "data": {
      "application/vnd.jupyter.widget-view+json": {
       "model_id": "219bb3d435e4401b89af48792984d327",
       "version_major": 2,
       "version_minor": 0
      },
      "text/plain": [
       "  DBs for Q:spider_dev_q10_idx10:   0%|          | 0/166 [00:00<?, ?it/s]"
      ]
     },
     "metadata": {},
     "output_type": "display_data"
    },
    {
     "name": "stdout",
     "output_type": "stream",
     "text": [
      "\n",
      "Processing Query 12/1034 (ID: spider_dev_q11_idx11): 'What is the template type code of the template used by document with the name \"Data base\"?' (True DB: cre_Doc_Template_Mgt)\n"
     ]
    },
    {
     "data": {
      "application/vnd.jupyter.widget-view+json": {
       "model_id": "b63c873519b046f2b99538d538e5d4f9",
       "version_major": 2,
       "version_minor": 0
      },
      "text/plain": [
       "  DBs for Q:spider_dev_q11_idx11:   0%|          | 0/166 [00:00<?, ?it/s]"
      ]
     },
     "metadata": {},
     "output_type": "display_data"
    },
    {
     "name": "stdout",
     "output_type": "stream",
     "text": [
      "\n",
      "Processing Query 13/1034 (ID: spider_dev_q12_idx12): 'What is the maker of the carr produced in the earliest year and what year was it?' (True DB: car_1)\n"
     ]
    },
    {
     "data": {
      "application/vnd.jupyter.widget-view+json": {
       "model_id": "caa820137f7f421ab01353f584992bf2",
       "version_major": 2,
       "version_minor": 0
      },
      "text/plain": [
       "  DBs for Q:spider_dev_q12_idx12:   0%|          | 0/166 [00:00<?, ?it/s]"
      ]
     },
     "metadata": {},
     "output_type": "display_data"
    },
    {
     "name": "stdout",
     "output_type": "stream",
     "text": [
      "\n",
      "Processing Query 14/1034 (ID: spider_dev_q13_idx13): 'Count the number of high schoolers.' (True DB: network_1)\n"
     ]
    },
    {
     "data": {
      "application/vnd.jupyter.widget-view+json": {
       "model_id": "9f1ca92934a64cf5a296202791027ae2",
       "version_major": 2,
       "version_minor": 0
      },
      "text/plain": [
       "  DBs for Q:spider_dev_q13_idx13:   0%|          | 0/166 [00:00<?, ?it/s]"
      ]
     },
     "metadata": {},
     "output_type": "display_data"
    },
    {
     "name": "stdout",
     "output_type": "stream",
     "text": [
      "\n",
      "Processing Query 15/1034 (ID: spider_dev_q14_idx14): 'Find the average life expectancy and total population for each continent where the average life expectancy is shorter than 72?' (True DB: world_1)\n"
     ]
    },
    {
     "data": {
      "application/vnd.jupyter.widget-view+json": {
       "model_id": "a7098a42e2e64439b815cea4409475f2",
       "version_major": 2,
       "version_minor": 0
      },
      "text/plain": [
       "  DBs for Q:spider_dev_q14_idx14:   0%|          | 0/166 [00:00<?, ?it/s]"
      ]
     },
     "metadata": {},
     "output_type": "display_data"
    },
    {
     "name": "stdout",
     "output_type": "stream",
     "text": [
      "\n",
      "Processing Query 16/1034 (ID: spider_dev_q15_idx15): 'List the date of each treatment, together with the first name of the professional who operated it.' (True DB: dog_kennels)\n"
     ]
    },
    {
     "data": {
      "application/vnd.jupyter.widget-view+json": {
       "model_id": "43e9d2573b17460bb2a3830f0bd29d6d",
       "version_major": 2,
       "version_minor": 0
      },
      "text/plain": [
       "  DBs for Q:spider_dev_q15_idx15:   0%|          | 0/166 [00:00<?, ?it/s]"
      ]
     },
     "metadata": {},
     "output_type": "display_data"
    },
    {
     "name": "stdout",
     "output_type": "stream",
     "text": [
      "\n",
      "Processing Query 17/1034 (ID: spider_dev_q16_idx16): 'Show all template ids and number of documents using each template.' (True DB: cre_Doc_Template_Mgt)\n"
     ]
    },
    {
     "data": {
      "application/vnd.jupyter.widget-view+json": {
       "model_id": "1f706c918b5e463d91a24990508a0c81",
       "version_major": 2,
       "version_minor": 0
      },
      "text/plain": [
       "  DBs for Q:spider_dev_q16_idx16:   0%|          | 0/166 [00:00<?, ?it/s]"
      ]
     },
     "metadata": {},
     "output_type": "display_data"
    },
    {
     "name": "stdout",
     "output_type": "stream",
     "text": [
      "\n",
      "Processing Query 18/1034 (ID: spider_dev_q17_idx17): 'Who is the first student to register? List the first name, middle name and last name.' (True DB: student_transcripts_tracking)\n"
     ]
    },
    {
     "data": {
      "application/vnd.jupyter.widget-view+json": {
       "model_id": "3f94ddde0e6148ebb91b9326e68de130",
       "version_major": 2,
       "version_minor": 0
      },
      "text/plain": [
       "  DBs for Q:spider_dev_q17_idx17:   0%|          | 0/166 [00:00<?, ?it/s]"
      ]
     },
     "metadata": {},
     "output_type": "display_data"
    },
    {
     "name": "stdout",
     "output_type": "stream",
     "text": [
      "\n",
      "Processing Query 19/1034 (ID: spider_dev_q18_idx18): 'Show the name of the teacher for the math course.' (True DB: course_teach)\n"
     ]
    },
    {
     "data": {
      "application/vnd.jupyter.widget-view+json": {
       "model_id": "1f5ee370e89e42a0a8404e805c0a518f",
       "version_major": 2,
       "version_minor": 0
      },
      "text/plain": [
       "  DBs for Q:spider_dev_q18_idx18:   0%|          | 0/166 [00:00<?, ?it/s]"
      ]
     },
     "metadata": {},
     "output_type": "display_data"
    },
    {
     "name": "stdout",
     "output_type": "stream",
     "text": [
      "\n",
      "Processing Query 20/1034 (ID: spider_dev_q19_idx19): 'Find the id and name of the museum that has the most staff members?' (True DB: museum_visit)\n"
     ]
    },
    {
     "data": {
      "application/vnd.jupyter.widget-view+json": {
       "model_id": "2c3ce6df4c534721b6dec4e446e57f40",
       "version_major": 2,
       "version_minor": 0
      },
      "text/plain": [
       "  DBs for Q:spider_dev_q19_idx19:   0%|          | 0/166 [00:00<?, ?it/s]"
      ]
     },
     "metadata": {},
     "output_type": "display_data"
    },
    {
     "name": "stdout",
     "output_type": "stream",
     "text": [
      "\n",
      "Processing Query 21/1034 (ID: spider_dev_q20_idx20): 'What are flight numbers of flights departing from Airport \"APG\"?' (True DB: flight_2)\n"
     ]
    },
    {
     "data": {
      "application/vnd.jupyter.widget-view+json": {
       "model_id": "3f030ffda42c45f8beca6015ecac7714",
       "version_major": 2,
       "version_minor": 0
      },
      "text/plain": [
       "  DBs for Q:spider_dev_q20_idx20:   0%|          | 0/166 [00:00<?, ?it/s]"
      ]
     },
     "metadata": {},
     "output_type": "display_data"
    },
    {
     "name": "stdout",
     "output_type": "stream",
     "text": [
      "\n",
      "Processing Query 22/1034 (ID: spider_dev_q21_idx21): 'What are the names of poker players in descending order of earnings?' (True DB: poker_player)\n"
     ]
    },
    {
     "data": {
      "application/vnd.jupyter.widget-view+json": {
       "model_id": "e5e83947562e471081f2fafe8c06ad55",
       "version_major": 2,
       "version_minor": 0
      },
      "text/plain": [
       "  DBs for Q:spider_dev_q21_idx21:   0%|          | 0/166 [00:00<?, ?it/s]"
      ]
     },
     "metadata": {},
     "output_type": "display_data"
    },
    {
     "name": "stdout",
     "output_type": "stream",
     "text": [
      "\n",
      "Processing Query 23/1034 (ID: spider_dev_q22_idx22): 'What is the average earnings of poker players?' (True DB: poker_player)\n"
     ]
    },
    {
     "data": {
      "application/vnd.jupyter.widget-view+json": {
       "model_id": "47208e039cec4bb0b680d25ce3019840",
       "version_major": 2,
       "version_minor": 0
      },
      "text/plain": [
       "  DBs for Q:spider_dev_q22_idx22:   0%|          | 0/166 [00:00<?, ?it/s]"
      ]
     },
     "metadata": {},
     "output_type": "display_data"
    },
    {
     "name": "stdout",
     "output_type": "stream",
     "text": [
      "\n",
      "Processing Query 24/1034 (ID: spider_dev_q23_idx23): 'Which year had the most matches?' (True DB: wta_1)\n"
     ]
    },
    {
     "data": {
      "application/vnd.jupyter.widget-view+json": {
       "model_id": "05d34dedd3c14c49b9814248c65489cf",
       "version_major": 2,
       "version_minor": 0
      },
      "text/plain": [
       "  DBs for Q:spider_dev_q23_idx23:   0%|          | 0/166 [00:00<?, ?it/s]"
      ]
     },
     "metadata": {},
     "output_type": "display_data"
    },
    {
     "name": "stdout",
     "output_type": "stream",
     "text": [
      "\n",
      "Processing Query 25/1034 (ID: spider_dev_q24_idx24): 'Find the names of stores whose number products is more than the average number of products.' (True DB: employee_hire_evaluation)\n"
     ]
    },
    {
     "data": {
      "application/vnd.jupyter.widget-view+json": {
       "model_id": "4c62cf04531d47a8b207a1880a61fdfc",
       "version_major": 2,
       "version_minor": 0
      },
      "text/plain": [
       "  DBs for Q:spider_dev_q24_idx24:   0%|          | 0/166 [00:00<?, ?it/s]"
      ]
     },
     "metadata": {},
     "output_type": "display_data"
    },
    {
     "name": "stdout",
     "output_type": "stream",
     "text": [
      "\n",
      "Processing Query 26/1034 (ID: spider_dev_q25_idx25): 'What is the money rank of the tallest poker player?' (True DB: poker_player)\n"
     ]
    },
    {
     "data": {
      "application/vnd.jupyter.widget-view+json": {
       "model_id": "e83972c666b64c399c8d06938111f241",
       "version_major": 2,
       "version_minor": 0
      },
      "text/plain": [
       "  DBs for Q:spider_dev_q25_idx25:   0%|          | 0/166 [00:00<?, ?it/s]"
      ]
     },
     "metadata": {},
     "output_type": "display_data"
    },
    {
     "name": "stdout",
     "output_type": "stream",
     "text": [
      "\n",
      "Processing Query 27/1034 (ID: spider_dev_q26_idx26): 'What is the document id with least number of paragraphs?' (True DB: cre_Doc_Template_Mgt)\n"
     ]
    },
    {
     "data": {
      "application/vnd.jupyter.widget-view+json": {
       "model_id": "6cee1fae22194ccfb478c37b16fddf6e",
       "version_major": 2,
       "version_minor": 0
      },
      "text/plain": [
       "  DBs for Q:spider_dev_q26_idx26:   0%|          | 0/166 [00:00<?, ?it/s]"
      ]
     },
     "metadata": {},
     "output_type": "display_data"
    },
    {
     "name": "stdout",
     "output_type": "stream",
     "text": [
      "\n",
      "Processing Query 28/1034 (ID: spider_dev_q27_idx27): 'How many cars have a larger accelerate than the car with the largest horsepower?' (True DB: car_1)\n"
     ]
    },
    {
     "data": {
      "application/vnd.jupyter.widget-view+json": {
       "model_id": "80bc72b8cb914fe090372184e06a1eff",
       "version_major": 2,
       "version_minor": 0
      },
      "text/plain": [
       "  DBs for Q:spider_dev_q27_idx27:   0%|          | 0/166 [00:00<?, ?it/s]"
      ]
     },
     "metadata": {},
     "output_type": "display_data"
    },
    {
     "name": "stdout",
     "output_type": "stream",
     "text": [
      "\n",
      "Processing Query 29/1034 (ID: spider_dev_q28_idx28): 'What is the program id and the summary of the degree that has the most students enrolled?' (True DB: student_transcripts_tracking)\n"
     ]
    },
    {
     "data": {
      "application/vnd.jupyter.widget-view+json": {
       "model_id": "591c677a8ef942b4a458e952ff495f8b",
       "version_major": 2,
       "version_minor": 0
      },
      "text/plain": [
       "  DBs for Q:spider_dev_q28_idx28:   0%|          | 0/166 [00:00<?, ?it/s]"
      ]
     },
     "metadata": {},
     "output_type": "display_data"
    },
    {
     "name": "stdout",
     "output_type": "stream",
     "text": [
      "\n",
      "Processing Query 30/1034 (ID: spider_dev_q29_idx29): 'What is the number of nations that use English and Dutch?' (True DB: world_1)\n"
     ]
    },
    {
     "data": {
      "application/vnd.jupyter.widget-view+json": {
       "model_id": "b84e3e46e23b466bb20d8e6c3be47c3c",
       "version_major": 2,
       "version_minor": 0
      },
      "text/plain": [
       "  DBs for Q:spider_dev_q29_idx29:   0%|          | 0/166 [00:00<?, ?it/s]"
      ]
     },
     "metadata": {},
     "output_type": "display_data"
    },
    {
     "name": "stdout",
     "output_type": "stream",
     "text": [
      "\n",
      "Processing Query 31/1034 (ID: spider_dev_q30_idx30): 'What is the document id, template id and description for document named \"Robbin CV\"?' (True DB: cre_Doc_Template_Mgt)\n"
     ]
    },
    {
     "data": {
      "application/vnd.jupyter.widget-view+json": {
       "model_id": "5bcbffd4d3b74ee1b44331b6c4bfbb5a",
       "version_major": 2,
       "version_minor": 0
      },
      "text/plain": [
       "  DBs for Q:spider_dev_q30_idx30:   0%|          | 0/166 [00:00<?, ?it/s]"
      ]
     },
     "metadata": {},
     "output_type": "display_data"
    },
    {
     "name": "stdout",
     "output_type": "stream",
     "text": [
      "\n",
      "Processing Query 32/1034 (ID: spider_dev_q31_idx31): 'What are the codes of countries where Spanish is spoken by the largest percentage of people?' (True DB: world_1)\n"
     ]
    },
    {
     "data": {
      "application/vnd.jupyter.widget-view+json": {
       "model_id": "d43a4849718f46c1a98633a53b1eea4b",
       "version_major": 2,
       "version_minor": 0
      },
      "text/plain": [
       "  DBs for Q:spider_dev_q31_idx31:   0%|          | 0/166 [00:00<?, ?it/s]"
      ]
     },
     "metadata": {},
     "output_type": "display_data"
    },
    {
     "name": "stdout",
     "output_type": "stream",
     "text": [
      "\n",
      "Processing Query 33/1034 (ID: spider_dev_q32_idx32): 'What is the last name of the student who has a cat that is 3 years old?' (True DB: pets_1)\n"
     ]
    },
    {
     "data": {
      "application/vnd.jupyter.widget-view+json": {
       "model_id": "54a6a999e8e94f7bb3071198cb1a3e1c",
       "version_major": 2,
       "version_minor": 0
      },
      "text/plain": [
       "  DBs for Q:spider_dev_q32_idx32:   0%|          | 0/166 [00:00<?, ?it/s]"
      ]
     },
     "metadata": {},
     "output_type": "display_data"
    },
    {
     "name": "stdout",
     "output_type": "stream",
     "text": [
      "\n",
      "Processing Query 34/1034 (ID: spider_dev_q33_idx33): 'What are the first name and last name of the professionals who have done treatment with cost below average?' (True DB: dog_kennels)\n"
     ]
    },
    {
     "data": {
      "application/vnd.jupyter.widget-view+json": {
       "model_id": "bd854da2f56e444a9181ad06860fe110",
       "version_major": 2,
       "version_minor": 0
      },
      "text/plain": [
       "  DBs for Q:spider_dev_q33_idx33:   0%|          | 0/166 [00:00<?, ?it/s]"
      ]
     },
     "metadata": {},
     "output_type": "display_data"
    },
    {
     "name": "stdout",
     "output_type": "stream",
     "text": [
      "\n",
      "Processing Query 35/1034 (ID: spider_dev_q34_idx34): 'What is average life expectancy in the countries where English is not the official language?' (True DB: world_1)\n"
     ]
    },
    {
     "data": {
      "application/vnd.jupyter.widget-view+json": {
       "model_id": "31d6385fcfa74701afbba83de700b392",
       "version_major": 2,
       "version_minor": 0
      },
      "text/plain": [
       "  DBs for Q:spider_dev_q34_idx34:   0%|          | 0/166 [00:00<?, ?it/s]"
      ]
     },
     "metadata": {},
     "output_type": "display_data"
    },
    {
     "name": "stdout",
     "output_type": "stream",
     "text": [
      "\n",
      "Processing Query 36/1034 (ID: spider_dev_q35_idx35): 'What is the average weight of cars each year?' (True DB: car_1)\n"
     ]
    },
    {
     "data": {
      "application/vnd.jupyter.widget-view+json": {
       "model_id": "2f2bf4a8197f4ebfa0a7f4c901a5d78f",
       "version_major": 2,
       "version_minor": 0
      },
      "text/plain": [
       "  DBs for Q:spider_dev_q35_idx35:   0%|          | 0/166 [00:00<?, ?it/s]"
      ]
     },
     "metadata": {},
     "output_type": "display_data"
    },
    {
     "name": "stdout",
     "output_type": "stream",
     "text": [
      "\n",
      "Processing Query 37/1034 (ID: spider_dev_q36_idx36): 'Find the first name and age of students who have a pet.' (True DB: pets_1)\n"
     ]
    },
    {
     "data": {
      "application/vnd.jupyter.widget-view+json": {
       "model_id": "350304d7493442108c3a5d063de38408",
       "version_major": 2,
       "version_minor": 0
      },
      "text/plain": [
       "  DBs for Q:spider_dev_q36_idx36:   0%|          | 0/166 [00:00<?, ?it/s]"
      ]
     },
     "metadata": {},
     "output_type": "display_data"
    },
    {
     "name": "stdout",
     "output_type": "stream",
     "text": [
      "\n",
      "Processing Query 38/1034 (ID: spider_dev_q37_idx37): 'List all singer names in concerts in year 2014.' (True DB: concert_singer)\n"
     ]
    },
    {
     "data": {
      "application/vnd.jupyter.widget-view+json": {
       "model_id": "7b63cb02db0f47a0a71f40b921a24cb6",
       "version_major": 2,
       "version_minor": 0
      },
      "text/plain": [
       "  DBs for Q:spider_dev_q37_idx37:   0%|          | 0/166 [00:00<?, ?it/s]"
      ]
     },
     "metadata": {},
     "output_type": "display_data"
    },
    {
     "name": "stdout",
     "output_type": "stream",
     "text": [
      "\n",
      "Processing Query 39/1034 (ID: spider_dev_q38_idx38): 'Return the names of cities that have a population between 160000 and 900000 .' (True DB: world_1)\n"
     ]
    },
    {
     "data": {
      "application/vnd.jupyter.widget-view+json": {
       "model_id": "27a3a883ebcc41c096b9389be3371fb4",
       "version_major": 2,
       "version_minor": 0
      },
      "text/plain": [
       "  DBs for Q:spider_dev_q38_idx38:   0%|          | 0/166 [00:00<?, ?it/s]"
      ]
     },
     "metadata": {},
     "output_type": "display_data"
    },
    {
     "name": "stdout",
     "output_type": "stream",
     "text": [
      "\n",
      "Processing Query 40/1034 (ID: spider_dev_q39_idx39): 'Which city and country is the Alton airport at?' (True DB: flight_2)\n"
     ]
    },
    {
     "data": {
      "application/vnd.jupyter.widget-view+json": {
       "model_id": "6cb5706fe1a346e0999447f7bece21f6",
       "version_major": 2,
       "version_minor": 0
      },
      "text/plain": [
       "  DBs for Q:spider_dev_q39_idx39:   0%|          | 0/166 [00:00<?, ?it/s]"
      ]
     },
     "metadata": {},
     "output_type": "display_data"
    },
    {
     "name": "stdout",
     "output_type": "stream",
     "text": [
      "\n",
      "Processing Query 41/1034 (ID: spider_dev_q40_idx40): 'find the names of museums which have more staff than the minimum staff number of all museums opened after 2010.' (True DB: museum_visit)\n"
     ]
    },
    {
     "data": {
      "application/vnd.jupyter.widget-view+json": {
       "model_id": "1fcdd998f2e24745aa69feb5761dece8",
       "version_major": 2,
       "version_minor": 0
      },
      "text/plain": [
       "  DBs for Q:spider_dev_q40_idx40:   0%|          | 0/166 [00:00<?, ?it/s]"
      ]
     },
     "metadata": {},
     "output_type": "display_data"
    },
    {
     "name": "stdout",
     "output_type": "stream",
     "text": [
      "\n",
      "Processing Query 42/1034 (ID: spider_dev_q41_idx41): 'Tell me the age of the oldest dog.' (True DB: dog_kennels)\n"
     ]
    },
    {
     "data": {
      "application/vnd.jupyter.widget-view+json": {
       "model_id": "444bd304df994fd88ee0bfa869ee8185",
       "version_major": 2,
       "version_minor": 0
      },
      "text/plain": [
       "  DBs for Q:spider_dev_q41_idx41:   0%|          | 0/166 [00:00<?, ?it/s]"
      ]
     },
     "metadata": {},
     "output_type": "display_data"
    },
    {
     "name": "stdout",
     "output_type": "stream",
     "text": [
      "\n",
      "Processing Query 43/1034 (ID: spider_dev_q42_idx42): 'How many orchestras does each record company manage?' (True DB: orchestra)\n"
     ]
    },
    {
     "data": {
      "application/vnd.jupyter.widget-view+json": {
       "model_id": "1b706149de5040e59a072b3ff6f393c6",
       "version_major": 2,
       "version_minor": 0
      },
      "text/plain": [
       "  DBs for Q:spider_dev_q42_idx42:   0%|          | 0/166 [00:00<?, ?it/s]"
      ]
     },
     "metadata": {},
     "output_type": "display_data"
    },
    {
     "name": "stdout",
     "output_type": "stream",
     "text": [
      "\n",
      "Processing Query 44/1034 (ID: spider_dev_q43_idx43): 'Which distinctive models are produced by maker with the full name General Motors or weighing more than 3500?' (True DB: car_1)\n"
     ]
    },
    {
     "data": {
      "application/vnd.jupyter.widget-view+json": {
       "model_id": "430d78efc5574da6b91771962fb5dfb1",
       "version_major": 2,
       "version_minor": 0
      },
      "text/plain": [
       "  DBs for Q:spider_dev_q43_idx43:   0%|          | 0/166 [00:00<?, ?it/s]"
      ]
     },
     "metadata": {},
     "output_type": "display_data"
    },
    {
     "name": "stdout",
     "output_type": "stream",
     "text": [
      "\n",
      "Processing Query 45/1034 (ID: spider_dev_q44_idx44): 'What are the names of players who won in both 2013 and 2016?' (True DB: wta_1)\n"
     ]
    },
    {
     "data": {
      "application/vnd.jupyter.widget-view+json": {
       "model_id": "e2835e4ff2fa4803b246cab13a62f51b",
       "version_major": 2,
       "version_minor": 0
      },
      "text/plain": [
       "  DBs for Q:spider_dev_q44_idx44:   0%|          | 0/166 [00:00<?, ?it/s]"
      ]
     },
     "metadata": {},
     "output_type": "display_data"
    },
    {
     "name": "stdout",
     "output_type": "stream",
     "text": [
      "\n",
      "Processing Query 46/1034 (ID: spider_dev_q45_idx45): 'Give the flight numbers of flights leaving from APG.' (True DB: flight_2)\n"
     ]
    },
    {
     "data": {
      "application/vnd.jupyter.widget-view+json": {
       "model_id": "96145ce867d743139f732b027d0bda2a",
       "version_major": 2,
       "version_minor": 0
      },
      "text/plain": [
       "  DBs for Q:spider_dev_q45_idx45:   0%|          | 0/166 [00:00<?, ?it/s]"
      ]
     },
     "metadata": {},
     "output_type": "display_data"
    },
    {
     "name": "stdout",
     "output_type": "stream",
     "text": [
      "\n",
      "Processing Query 47/1034 (ID: spider_dev_q46_idx46): 'What is the average edispl for all volvos?' (True DB: car_1)\n"
     ]
    },
    {
     "data": {
      "application/vnd.jupyter.widget-view+json": {
       "model_id": "392781ba63494772b307ecc9ea4264bd",
       "version_major": 2,
       "version_minor": 0
      },
      "text/plain": [
       "  DBs for Q:spider_dev_q46_idx46:   0%|          | 0/166 [00:00<?, ?it/s]"
      ]
     },
     "metadata": {},
     "output_type": "display_data"
    },
    {
     "name": "stdout",
     "output_type": "stream",
     "text": [
      "\n",
      "Processing Query 48/1034 (ID: spider_dev_q47_idx47): 'Show the names of conductors and the orchestras they have conducted.' (True DB: orchestra)\n"
     ]
    },
    {
     "data": {
      "application/vnd.jupyter.widget-view+json": {
       "model_id": "9b4380cc857f44eb9464ea52860cc2e0",
       "version_major": 2,
       "version_minor": 0
      },
      "text/plain": [
       "  DBs for Q:spider_dev_q47_idx47:   0%|          | 0/166 [00:00<?, ?it/s]"
      ]
     },
     "metadata": {},
     "output_type": "display_data"
    },
    {
     "name": "stdout",
     "output_type": "stream",
     "text": [
      "\n",
      "Processing Query 49/1034 (ID: spider_dev_q48_idx48): 'What is the average and maximum age for each pet type?' (True DB: pets_1)\n"
     ]
    },
    {
     "data": {
      "application/vnd.jupyter.widget-view+json": {
       "model_id": "1f5fbe1618574b36b8801207b04d4ce2",
       "version_major": 2,
       "version_minor": 0
      },
      "text/plain": [
       "  DBs for Q:spider_dev_q48_idx48:   0%|          | 0/166 [00:00<?, ?it/s]"
      ]
     },
     "metadata": {},
     "output_type": "display_data"
    },
    {
     "name": "stdout",
     "output_type": "stream",
     "text": [
      "\n",
      "Processing Query 50/1034 (ID: spider_dev_q49_idx49): 'What are the death and injury situations caused by the ship with tonnage 't'?' (True DB: battle_death)\n"
     ]
    },
    {
     "data": {
      "application/vnd.jupyter.widget-view+json": {
       "model_id": "59525eafdc9f41808b53367d34fe3f17",
       "version_major": 2,
       "version_minor": 0
      },
      "text/plain": [
       "  DBs for Q:spider_dev_q49_idx49:   0%|          | 0/166 [00:00<?, ?it/s]"
      ]
     },
     "metadata": {},
     "output_type": "display_data"
    },
    {
     "name": "stdout",
     "output_type": "stream",
     "text": [
      "\n",
      "Processing Query 51/1034 (ID: spider_dev_q50_idx50): 'List the arrival date and the departure date for all the dogs.' (True DB: dog_kennels)\n"
     ]
    },
    {
     "data": {
      "application/vnd.jupyter.widget-view+json": {
       "model_id": "00051660a80f4f73863ab5fc2bb5ed46",
       "version_major": 2,
       "version_minor": 0
      },
      "text/plain": [
       "  DBs for Q:spider_dev_q50_idx50:   0%|          | 0/166 [00:00<?, ?it/s]"
      ]
     },
     "metadata": {},
     "output_type": "display_data"
    },
    {
     "name": "stdout",
     "output_type": "stream",
     "text": [
      "\n",
      "Processing Query 52/1034 (ID: spider_dev_q51_idx51): 'What is the average age of all the dogs?' (True DB: dog_kennels)\n"
     ]
    },
    {
     "data": {
      "application/vnd.jupyter.widget-view+json": {
       "model_id": "01e44d8bba514700b970650291b28dab",
       "version_major": 2,
       "version_minor": 0
      },
      "text/plain": [
       "  DBs for Q:spider_dev_q51_idx51:   0%|          | 0/166 [00:00<?, ?it/s]"
      ]
     },
     "metadata": {},
     "output_type": "display_data"
    },
    {
     "name": "stdout",
     "output_type": "stream",
     "text": [
      "\n",
      "Processing Query 53/1034 (ID: spider_dev_q52_idx52): 'What are years of founding for orchestras that have had more than a single performance?' (True DB: orchestra)\n"
     ]
    },
    {
     "data": {
      "application/vnd.jupyter.widget-view+json": {
       "model_id": "c3ba2e85a486498c993fd12e8007dee2",
       "version_major": 2,
       "version_minor": 0
      },
      "text/plain": [
       "  DBs for Q:spider_dev_q52_idx52:   0%|          | 0/166 [00:00<?, ?it/s]"
      ]
     },
     "metadata": {},
     "output_type": "display_data"
    },
    {
     "name": "stdout",
     "output_type": "stream",
     "text": [
      "\n",
      "Processing Query 54/1034 (ID: spider_dev_q53_idx53): 'Find the number of pets whose weight is heavier than 10.' (True DB: pets_1)\n"
     ]
    },
    {
     "data": {
      "application/vnd.jupyter.widget-view+json": {
       "model_id": "ee65ac723c0e41cabc85a595669efe47",
       "version_major": 2,
       "version_minor": 0
      },
      "text/plain": [
       "  DBs for Q:spider_dev_q53_idx53:   0%|          | 0/166 [00:00<?, ?it/s]"
      ]
     },
     "metadata": {},
     "output_type": "display_data"
    },
    {
     "name": "stdout",
     "output_type": "stream",
     "text": [
      "\n",
      "Processing Query 55/1034 (ID: spider_dev_q54_idx54): 'List the email, cell phone and home phone of all the professionals.' (True DB: dog_kennels)\n"
     ]
    },
    {
     "data": {
      "application/vnd.jupyter.widget-view+json": {
       "model_id": "64bb6f983a3a4b868c84158cc5b09d02",
       "version_major": 2,
       "version_minor": 0
      },
      "text/plain": [
       "  DBs for Q:spider_dev_q54_idx54:   0%|          | 0/166 [00:00<?, ?it/s]"
      ]
     },
     "metadata": {},
     "output_type": "display_data"
    },
    {
     "name": "stdout",
     "output_type": "stream",
     "text": [
      "\n",
      "Processing Query 56/1034 (ID: spider_dev_q55_idx55): 'What are all different template ids used for documents, and how many times were each of them used?' (True DB: cre_Doc_Template_Mgt)\n"
     ]
    },
    {
     "data": {
      "application/vnd.jupyter.widget-view+json": {
       "model_id": "03951957906e422eaa62cb9debd6d510",
       "version_major": 2,
       "version_minor": 0
      },
      "text/plain": [
       "  DBs for Q:spider_dev_q55_idx55:   0%|          | 0/166 [00:00<?, ?it/s]"
      ]
     },
     "metadata": {},
     "output_type": "display_data"
    },
    {
     "name": "stdout",
     "output_type": "stream",
     "text": [
      "\n",
      "Processing Query 57/1034 (ID: spider_dev_q56_idx56): 'What are the regions that use English or Dutch?' (True DB: world_1)\n"
     ]
    },
    {
     "data": {
      "application/vnd.jupyter.widget-view+json": {
       "model_id": "8ef1ac08dbf64fb3b71a5552ec63f3a5",
       "version_major": 2,
       "version_minor": 0
      },
      "text/plain": [
       "  DBs for Q:spider_dev_q56_idx56:   0%|          | 0/166 [00:00<?, ?it/s]"
      ]
     },
     "metadata": {},
     "output_type": "display_data"
    },
    {
     "name": "stdout",
     "output_type": "stream",
     "text": [
      "\n",
      "Processing Query 58/1034 (ID: spider_dev_q57_idx57): 'Return the different descriptions for templates that have been used in a document.' (True DB: cre_Doc_Template_Mgt)\n"
     ]
    },
    {
     "data": {
      "application/vnd.jupyter.widget-view+json": {
       "model_id": "ce8d5b51227447528c6413ad35644398",
       "version_major": 2,
       "version_minor": 0
      },
      "text/plain": [
       "  DBs for Q:spider_dev_q57_idx57:   0%|          | 0/166 [00:00<?, ?it/s]"
      ]
     },
     "metadata": {},
     "output_type": "display_data"
    },
    {
     "name": "stdout",
     "output_type": "stream",
     "text": [
      "\n",
      "Processing Query 59/1034 (ID: spider_dev_q58_idx58): 'List pairs of the owner's first name and the dogs's name.' (True DB: dog_kennels)\n"
     ]
    },
    {
     "data": {
      "application/vnd.jupyter.widget-view+json": {
       "model_id": "adda77493ff54220a62aaeee8daffc6a",
       "version_major": 2,
       "version_minor": 0
      },
      "text/plain": [
       "  DBs for Q:spider_dev_q58_idx58:   0%|          | 0/166 [00:00<?, ?it/s]"
      ]
     },
     "metadata": {},
     "output_type": "display_data"
    },
    {
     "name": "stdout",
     "output_type": "stream",
     "text": [
      "\n",
      "Processing Query 60/1034 (ID: spider_dev_q59_idx59): 'What is the number of cartoones written by Joseph Kuhr?' (True DB: tvshow)\n"
     ]
    },
    {
     "data": {
      "application/vnd.jupyter.widget-view+json": {
       "model_id": "f72f0182e73f48108a38f3abbccbef8f",
       "version_major": 2,
       "version_minor": 0
      },
      "text/plain": [
       "  DBs for Q:spider_dev_q59_idx59:   0%|          | 0/166 [00:00<?, ?it/s]"
      ]
     },
     "metadata": {},
     "output_type": "display_data"
    },
    {
     "name": "stdout",
     "output_type": "stream",
     "text": [
      "\n",
      "Processing Query 61/1034 (ID: spider_dev_q60_idx60): 'List the names of conductors in ascending order of age.' (True DB: orchestra)\n"
     ]
    },
    {
     "data": {
      "application/vnd.jupyter.widget-view+json": {
       "model_id": "16862d9c1324402eb9ec13fc1561e851",
       "version_major": 2,
       "version_minor": 0
      },
      "text/plain": [
       "  DBs for Q:spider_dev_q60_idx60:   0%|          | 0/166 [00:00<?, ?it/s]"
      ]
     },
     "metadata": {},
     "output_type": "display_data"
    },
    {
     "name": "stdout",
     "output_type": "stream",
     "text": [
      "\n",
      "Processing Query 62/1034 (ID: spider_dev_q61_idx61): 'Find the first name and gender of student who have more than one pet.' (True DB: pets_1)\n"
     ]
    },
    {
     "data": {
      "application/vnd.jupyter.widget-view+json": {
       "model_id": "9ce5cbefc3b942c9b0dfa162a03bf178",
       "version_major": 2,
       "version_minor": 0
      },
      "text/plain": [
       "  DBs for Q:spider_dev_q61_idx61:   0%|          | 0/166 [00:00<?, ?it/s]"
      ]
     },
     "metadata": {},
     "output_type": "display_data"
    },
    {
     "name": "stdout",
     "output_type": "stream",
     "text": [
      "\n",
      "Processing Query 63/1034 (ID: spider_dev_q62_idx62): 'Show the names of students who have a grade higher than 5 and have at least 2 friends.' (True DB: network_1)\n"
     ]
    },
    {
     "data": {
      "application/vnd.jupyter.widget-view+json": {
       "model_id": "3bb694f4a9c8465f89d0d43c389a13b0",
       "version_major": 2,
       "version_minor": 0
      },
      "text/plain": [
       "  DBs for Q:spider_dev_q62_idx62:   0%|          | 0/166 [00:00<?, ?it/s]"
      ]
     },
     "metadata": {},
     "output_type": "display_data"
    },
    {
     "name": "stdout",
     "output_type": "stream",
     "text": [
      "\n",
      "Processing Query 64/1034 (ID: spider_dev_q63_idx63): 'Count the number of distinct store locations.' (True DB: employee_hire_evaluation)\n"
     ]
    },
    {
     "data": {
      "application/vnd.jupyter.widget-view+json": {
       "model_id": "60406c2eb6d04c96846f39e3038e16e1",
       "version_major": 2,
       "version_minor": 0
      },
      "text/plain": [
       "  DBs for Q:spider_dev_q63_idx63:   0%|          | 0/166 [00:00<?, ?it/s]"
      ]
     },
     "metadata": {},
     "output_type": "display_data"
    },
    {
     "name": "stdout",
     "output_type": "stream",
     "text": [
      "\n",
      "Processing Query 65/1034 (ID: spider_dev_q64_idx64): 'What is the code of airport that has the highest number of flights?' (True DB: flight_2)\n"
     ]
    },
    {
     "data": {
      "application/vnd.jupyter.widget-view+json": {
       "model_id": "de0abcc5505b47dfbdcb30fcebcb2ca8",
       "version_major": 2,
       "version_minor": 0
      },
      "text/plain": [
       "  DBs for Q:spider_dev_q64_idx64:   0%|          | 0/166 [00:00<?, ?it/s]"
      ]
     },
     "metadata": {},
     "output_type": "display_data"
    },
    {
     "name": "stdout",
     "output_type": "stream",
     "text": [
      "\n",
      "Processing Query 66/1034 (ID: spider_dev_q65_idx65): 'What is the name of the series that has the episode \"A Love of a Lifetime\"?' (True DB: tvshow)\n"
     ]
    },
    {
     "data": {
      "application/vnd.jupyter.widget-view+json": {
       "model_id": "1f622d4c76f34544a640c1ebf1381e52",
       "version_major": 2,
       "version_minor": 0
      },
      "text/plain": [
       "  DBs for Q:spider_dev_q65_idx65:   0%|          | 0/166 [00:00<?, ?it/s]"
      ]
     },
     "metadata": {},
     "output_type": "display_data"
    },
    {
     "name": "stdout",
     "output_type": "stream",
     "text": [
      "\n",
      "Processing Query 67/1034 (ID: spider_dev_q66_idx66): 'Show the names of singers and the total sales of their songs.' (True DB: singer)\n"
     ]
    },
    {
     "data": {
      "application/vnd.jupyter.widget-view+json": {
       "model_id": "d6716cd734da4cdf9280cbba5052e385",
       "version_major": 2,
       "version_minor": 0
      },
      "text/plain": [
       "  DBs for Q:spider_dev_q66_idx66:   0%|          | 0/166 [00:00<?, ?it/s]"
      ]
     },
     "metadata": {},
     "output_type": "display_data"
    },
    {
     "name": "stdout",
     "output_type": "stream",
     "text": [
      "\n",
      "Processing Query 68/1034 (ID: spider_dev_q67_idx67): 'Find the number of orchestras whose record format is \"CD\" or \"DVD\".' (True DB: orchestra)\n"
     ]
    },
    {
     "data": {
      "application/vnd.jupyter.widget-view+json": {
       "model_id": "834434eef3cd4e0aae704949933300e5",
       "version_major": 2,
       "version_minor": 0
      },
      "text/plain": [
       "  DBs for Q:spider_dev_q67_idx67:   0%|          | 0/166 [00:00<?, ?it/s]"
      ]
     },
     "metadata": {},
     "output_type": "display_data"
    },
    {
     "name": "stdout",
     "output_type": "stream",
     "text": [
      "\n",
      "Processing Query 69/1034 (ID: spider_dev_q68_idx68): 'How many poker players are there?' (True DB: poker_player)\n"
     ]
    },
    {
     "data": {
      "application/vnd.jupyter.widget-view+json": {
       "model_id": "74052e59710a48d4bf72c3418fd3d8d3",
       "version_major": 2,
       "version_minor": 0
      },
      "text/plain": [
       "  DBs for Q:spider_dev_q68_idx68:   0%|          | 0/166 [00:00<?, ?it/s]"
      ]
     },
     "metadata": {},
     "output_type": "display_data"
    },
    {
     "name": "stdout",
     "output_type": "stream",
     "text": [
      "\n",
      "Processing Query 70/1034 (ID: spider_dev_q69_idx69): 'How many matches were played in each year?' (True DB: wta_1)\n"
     ]
    },
    {
     "data": {
      "application/vnd.jupyter.widget-view+json": {
       "model_id": "41190810524449d18e3dbe4003070ce2",
       "version_major": 2,
       "version_minor": 0
      },
      "text/plain": [
       "  DBs for Q:spider_dev_q69_idx69:   0%|          | 0/166 [00:00<?, ?it/s]"
      ]
     },
     "metadata": {},
     "output_type": "display_data"
    },
    {
     "name": "stdout",
     "output_type": "stream",
     "text": [
      "\n",
      "Processing Query 71/1034 (ID: spider_dev_q70_idx70): 'Find the first names of owners living in Virginia and the names of dogs they own.' (True DB: dog_kennels)\n"
     ]
    },
    {
     "data": {
      "application/vnd.jupyter.widget-view+json": {
       "model_id": "5f5deee8278847458d59b071883b5636",
       "version_major": 2,
       "version_minor": 0
      },
      "text/plain": [
       "  DBs for Q:spider_dev_q70_idx70:   0%|          | 0/166 [00:00<?, ?it/s]"
      ]
     },
     "metadata": {},
     "output_type": "display_data"
    },
    {
     "name": "stdout",
     "output_type": "stream",
     "text": [
      "\n",
      "Processing Query 72/1034 (ID: spider_dev_q71_idx71): 'Show paragraph details for paragraph with text 'Korea ' .' (True DB: cre_Doc_Template_Mgt)\n"
     ]
    },
    {
     "data": {
      "application/vnd.jupyter.widget-view+json": {
       "model_id": "90d628b0716a40089b1c7c33e7eda946",
       "version_major": 2,
       "version_minor": 0
      },
      "text/plain": [
       "  DBs for Q:spider_dev_q71_idx71:   0%|          | 0/166 [00:00<?, ?it/s]"
      ]
     },
     "metadata": {},
     "output_type": "display_data"
    },
    {
     "name": "stdout",
     "output_type": "stream",
     "text": [
      "\n",
      "Processing Query 73/1034 (ID: spider_dev_q72_idx72): 'Count the number of friends Kyle has.' (True DB: network_1)\n"
     ]
    },
    {
     "data": {
      "application/vnd.jupyter.widget-view+json": {
       "model_id": "103b2b32f80549a7bc314f0789c59ef6",
       "version_major": 2,
       "version_minor": 0
      },
      "text/plain": [
       "  DBs for Q:spider_dev_q72_idx72:   0%|          | 0/166 [00:00<?, ?it/s]"
      ]
     },
     "metadata": {},
     "output_type": "display_data"
    },
    {
     "name": "stdout",
     "output_type": "stream",
     "text": [
      "\n",
      "Processing Query 74/1034 (ID: spider_dev_q73_idx73): 'What are the ids and names of all countries that either have more than 3 car makers or produce fiat model ?' (True DB: car_1)\n"
     ]
    },
    {
     "data": {
      "application/vnd.jupyter.widget-view+json": {
       "model_id": "02cea1123c814fcbabfdfe7d7afc07a7",
       "version_major": 2,
       "version_minor": 0
      },
      "text/plain": [
       "  DBs for Q:spider_dev_q73_idx73:   0%|          | 0/166 [00:00<?, ?it/s]"
      ]
     },
     "metadata": {},
     "output_type": "display_data"
    },
    {
     "name": "stdout",
     "output_type": "stream",
     "text": [
      "\n",
      "Processing Query 75/1034 (ID: spider_dev_q74_idx74): 'Return the names of the 3 countries with the fewest people.' (True DB: world_1)\n"
     ]
    },
    {
     "data": {
      "application/vnd.jupyter.widget-view+json": {
       "model_id": "b02eb9b06747435e824603feb448c73b",
       "version_major": 2,
       "version_minor": 0
      },
      "text/plain": [
       "  DBs for Q:spider_dev_q74_idx74:   0%|          | 0/166 [00:00<?, ?it/s]"
      ]
     },
     "metadata": {},
     "output_type": "display_data"
    },
    {
     "name": "stdout",
     "output_type": "stream",
     "text": [
      "\n",
      "Processing Query 76/1034 (ID: spider_dev_q75_idx75): 'What are the name, population, and life expectancy of the largest Asian country by land?' (True DB: world_1)\n"
     ]
    },
    {
     "data": {
      "application/vnd.jupyter.widget-view+json": {
       "model_id": "28ecfe2ddeb84cf9bd36d4f14fb693d2",
       "version_major": 2,
       "version_minor": 0
      },
      "text/plain": [
       "  DBs for Q:spider_dev_q75_idx75:   0%|          | 0/166 [00:00<?, ?it/s]"
      ]
     },
     "metadata": {},
     "output_type": "display_data"
    },
    {
     "name": "stdout",
     "output_type": "stream",
     "text": [
      "\n",
      "Processing Query 77/1034 (ID: spider_dev_q76_idx76): 'Which country has the most of TV Channels? List the country and number of TV Channels it has.' (True DB: tvshow)\n"
     ]
    },
    {
     "data": {
      "application/vnd.jupyter.widget-view+json": {
       "model_id": "ee8d1d25c1664da2b4a08c7ad6530ad7",
       "version_major": 2,
       "version_minor": 0
      },
      "text/plain": [
       "  DBs for Q:spider_dev_q76_idx76:   0%|          | 0/166 [00:00<?, ?it/s]"
      ]
     },
     "metadata": {},
     "output_type": "display_data"
    },
    {
     "name": "stdout",
     "output_type": "stream",
     "text": [
      "\n",
      "Processing Query 78/1034 (ID: spider_dev_q77_idx77): 'Find the type and weight of the youngest pet.' (True DB: pets_1)\n"
     ]
    },
    {
     "data": {
      "application/vnd.jupyter.widget-view+json": {
       "model_id": "bc4c5e1b43864e8bb7ba3077dabc7711",
       "version_major": 2,
       "version_minor": 0
      },
      "text/plain": [
       "  DBs for Q:spider_dev_q77_idx77:   0%|          | 0/166 [00:00<?, ?it/s]"
      ]
     },
     "metadata": {},
     "output_type": "display_data"
    },
    {
     "name": "stdout",
     "output_type": "stream",
     "text": [
      "\n",
      "Processing Query 79/1034 (ID: spider_dev_q78_idx78): 'What are the country codes for countries that do not speak English?' (True DB: world_1)\n"
     ]
    },
    {
     "data": {
      "application/vnd.jupyter.widget-view+json": {
       "model_id": "20fdbbae5be440488db2a17c5658cc18",
       "version_major": 2,
       "version_minor": 0
      },
      "text/plain": [
       "  DBs for Q:spider_dev_q78_idx78:   0%|          | 0/166 [00:00<?, ?it/s]"
      ]
     },
     "metadata": {},
     "output_type": "display_data"
    },
    {
     "name": "stdout",
     "output_type": "stream",
     "text": [
      "\n",
      "Processing Query 80/1034 (ID: spider_dev_q79_idx79): 'What are the airline names and abbreviations for airlines in the USA?' (True DB: flight_2)\n"
     ]
    },
    {
     "data": {
      "application/vnd.jupyter.widget-view+json": {
       "model_id": "87b370968f21427882d8610e1d74a186",
       "version_major": 2,
       "version_minor": 0
      },
      "text/plain": [
       "  DBs for Q:spider_dev_q79_idx79:   0%|          | 0/166 [00:00<?, ?it/s]"
      ]
     },
     "metadata": {},
     "output_type": "display_data"
    },
    {
     "name": "stdout",
     "output_type": "stream",
     "text": [
      "\n",
      "Processing Query 81/1034 (ID: spider_dev_q80_idx80): 'Which are the car makers which produce at least 2 models and more than 3 car makers ? List the id and the maker .' (True DB: car_1)\n"
     ]
    },
    {
     "data": {
      "application/vnd.jupyter.widget-view+json": {
       "model_id": "b27a1cd5f4804e37b01b8f857d372d1c",
       "version_major": 2,
       "version_minor": 0
      },
      "text/plain": [
       "  DBs for Q:spider_dev_q80_idx80:   0%|          | 0/166 [00:00<?, ?it/s]"
      ]
     },
     "metadata": {},
     "output_type": "display_data"
    },
    {
     "name": "stdout",
     "output_type": "stream",
     "text": [
      "\n",
      "Processing Query 82/1034 (ID: spider_dev_q81_idx81): 'How many matches were played in 2013 or 2016?' (True DB: wta_1)\n"
     ]
    },
    {
     "data": {
      "application/vnd.jupyter.widget-view+json": {
       "model_id": "ca41df3961cf4554ad28bdc04bd373b7",
       "version_major": 2,
       "version_minor": 0
      },
      "text/plain": [
       "  DBs for Q:spider_dev_q81_idx81:   0%|          | 0/166 [00:00<?, ?it/s]"
      ]
     },
     "metadata": {},
     "output_type": "display_data"
    },
    {
     "name": "stdout",
     "output_type": "stream",
     "text": [
      "\n",
      "Processing Query 83/1034 (ID: spider_dev_q82_idx82): 'Show all template type codes and the number of documents using each type.' (True DB: cre_Doc_Template_Mgt)\n"
     ]
    },
    {
     "data": {
      "application/vnd.jupyter.widget-view+json": {
       "model_id": "35f4c17f488541269b02f4feb33f667c",
       "version_major": 2,
       "version_minor": 0
      },
      "text/plain": [
       "  DBs for Q:spider_dev_q82_idx82:   0%|          | 0/166 [00:00<?, ?it/s]"
      ]
     },
     "metadata": {},
     "output_type": "display_data"
    },
    {
     "name": "stdout",
     "output_type": "stream",
     "text": [
      "\n",
      "Processing Query 84/1034 (ID: spider_dev_q83_idx83): 'Find the make and production time of the cars that were produced in the earliest year?' (True DB: car_1)\n"
     ]
    },
    {
     "data": {
      "application/vnd.jupyter.widget-view+json": {
       "model_id": "26a56ec6162e413f9f39b51d37478d37",
       "version_major": 2,
       "version_minor": 0
      },
      "text/plain": [
       "  DBs for Q:spider_dev_q83_idx83:   0%|          | 0/166 [00:00<?, ?it/s]"
      ]
     },
     "metadata": {},
     "output_type": "display_data"
    },
    {
     "name": "stdout",
     "output_type": "stream",
     "text": [
      "\n",
      "Processing Query 85/1034 (ID: spider_dev_q84_idx84): 'How many cartoons were written by \"Joseph Kuhr\"?' (True DB: tvshow)\n"
     ]
    },
    {
     "data": {
      "application/vnd.jupyter.widget-view+json": {
       "model_id": "6e68157279fb408892a0d40514437063",
       "version_major": 2,
       "version_minor": 0
      },
      "text/plain": [
       "  DBs for Q:spider_dev_q84_idx84:   0%|          | 0/166 [00:00<?, ?it/s]"
      ]
     },
     "metadata": {},
     "output_type": "display_data"
    },
    {
     "name": "stdout",
     "output_type": "stream",
     "text": [
      "\n",
      "Processing Query 86/1034 (ID: spider_dev_q85_idx85): 'What are the names of countries that speak more than 2 languages, as well as how many languages they speak?' (True DB: world_1)\n"
     ]
    },
    {
     "data": {
      "application/vnd.jupyter.widget-view+json": {
       "model_id": "ced2c839a23a4c4bac1bd8ce71375f33",
       "version_major": 2,
       "version_minor": 0
      },
      "text/plain": [
       "  DBs for Q:spider_dev_q85_idx85:   0%|          | 0/166 [00:00<?, ?it/s]"
      ]
     },
     "metadata": {},
     "output_type": "display_data"
    },
    {
     "name": "stdout",
     "output_type": "stream",
     "text": [
      "\n",
      "Processing Query 87/1034 (ID: spider_dev_q86_idx86): 'Give me all the information about hiring.' (True DB: employee_hire_evaluation)\n"
     ]
    },
    {
     "data": {
      "application/vnd.jupyter.widget-view+json": {
       "model_id": "1a10d2655a8f4863966129922e70f7a3",
       "version_major": 2,
       "version_minor": 0
      },
      "text/plain": [
       "  DBs for Q:spider_dev_q86_idx86:   0%|          | 0/166 [00:00<?, ?it/s]"
      ]
     },
     "metadata": {},
     "output_type": "display_data"
    },
    {
     "name": "stdout",
     "output_type": "stream",
     "text": [
      "\n",
      "Processing Query 88/1034 (ID: spider_dev_q87_idx87): 'Find the average age of students who do not have any pet .' (True DB: pets_1)\n"
     ]
    },
    {
     "data": {
      "application/vnd.jupyter.widget-view+json": {
       "model_id": "41db90cbcd9a47d889a146e1527295f5",
       "version_major": 2,
       "version_minor": 0
      },
      "text/plain": [
       "  DBs for Q:spider_dev_q87_idx87:   0%|          | 0/166 [00:00<?, ?it/s]"
      ]
     },
     "metadata": {},
     "output_type": "display_data"
    },
    {
     "name": "stdout",
     "output_type": "stream",
     "text": [
      "\n",
      "Processing Query 89/1034 (ID: spider_dev_q88_idx88): 'What are the names of conductors who have conducted orchestras founded after the year 2008?' (True DB: orchestra)\n"
     ]
    },
    {
     "data": {
      "application/vnd.jupyter.widget-view+json": {
       "model_id": "4e9b8472f3fb4709a75cdd52695765f2",
       "version_major": 2,
       "version_minor": 0
      },
      "text/plain": [
       "  DBs for Q:spider_dev_q88_idx88:   0%|          | 0/166 [00:00<?, ?it/s]"
      ]
     },
     "metadata": {},
     "output_type": "display_data"
    },
    {
     "name": "stdout",
     "output_type": "stream",
     "text": [
      "\n",
      "Processing Query 90/1034 (ID: spider_dev_q89_idx89): 'How many car models are produced by each maker ? Only list the count and the maker full name .' (True DB: car_1)\n"
     ]
    },
    {
     "data": {
      "application/vnd.jupyter.widget-view+json": {
       "model_id": "09221f2f9ce144d588295dbe4e55a77f",
       "version_major": 2,
       "version_minor": 0
      },
      "text/plain": [
       "  DBs for Q:spider_dev_q89_idx89:   0%|          | 0/166 [00:00<?, ?it/s]"
      ]
     },
     "metadata": {},
     "output_type": "display_data"
    },
    {
     "name": "stdout",
     "output_type": "stream",
     "text": [
      "\n",
      "Processing Query 91/1034 (ID: spider_dev_q90_idx90): 'Find the year that has the most number of matches.' (True DB: wta_1)\n"
     ]
    },
    {
     "data": {
      "application/vnd.jupyter.widget-view+json": {
       "model_id": "aa904889440d40bc8a993bb5ae760335",
       "version_major": 2,
       "version_minor": 0
      },
      "text/plain": [
       "  DBs for Q:spider_dev_q90_idx90:   0%|          | 0/166 [00:00<?, ?it/s]"
      ]
     },
     "metadata": {},
     "output_type": "display_data"
    },
    {
     "name": "stdout",
     "output_type": "stream",
     "text": [
      "\n",
      "Processing Query 92/1034 (ID: spider_dev_q91_idx91): 'What are the different models created by either the car maker General Motors or weighed more than 3500?' (True DB: car_1)\n"
     ]
    },
    {
     "data": {
      "application/vnd.jupyter.widget-view+json": {
       "model_id": "89969d4719444950bbfa78ac91c676df",
       "version_major": 2,
       "version_minor": 0
      },
      "text/plain": [
       "  DBs for Q:spider_dev_q91_idx91:   0%|          | 0/166 [00:00<?, ?it/s]"
      ]
     },
     "metadata": {},
     "output_type": "display_data"
    },
    {
     "name": "stdout",
     "output_type": "stream",
     "text": [
      "\n",
      "Processing Query 93/1034 (ID: spider_dev_q92_idx92): 'What are the names and release years for all the songs of the youngest singer?' (True DB: concert_singer)\n"
     ]
    },
    {
     "data": {
      "application/vnd.jupyter.widget-view+json": {
       "model_id": "b10719d5e1234031896c9666ff7bdda1",
       "version_major": 2,
       "version_minor": 0
      },
      "text/plain": [
       "  DBs for Q:spider_dev_q92_idx92:   0%|          | 0/166 [00:00<?, ?it/s]"
      ]
     },
     "metadata": {},
     "output_type": "display_data"
    },
    {
     "name": "stdout",
     "output_type": "stream",
     "text": [
      "\n",
      "Processing Query 94/1034 (ID: spider_dev_q93_idx93): 'Find the id of students who do not have a cat pet.' (True DB: pets_1)\n"
     ]
    },
    {
     "data": {
      "application/vnd.jupyter.widget-view+json": {
       "model_id": "ed1b4ffb7bcd4aba901eace3f04f1962",
       "version_major": 2,
       "version_minor": 0
      },
      "text/plain": [
       "  DBs for Q:spider_dev_q93_idx93:   0%|          | 0/166 [00:00<?, ?it/s]"
      ]
     },
     "metadata": {},
     "output_type": "display_data"
    },
    {
     "name": "stdout",
     "output_type": "stream",
     "text": [
      "\n",
      "Processing Query 95/1034 (ID: spider_dev_q94_idx94): 'List the title of all  Cartoons showed on TV Channel with series name \"Sky Radio\".' (True DB: tvshow)\n"
     ]
    },
    {
     "data": {
      "application/vnd.jupyter.widget-view+json": {
       "model_id": "5fc4ce8d485d4249ac6234870f4c175a",
       "version_major": 2,
       "version_minor": 0
      },
      "text/plain": [
       "  DBs for Q:spider_dev_q94_idx94:   0%|          | 0/166 [00:00<?, ?it/s]"
      ]
     },
     "metadata": {},
     "output_type": "display_data"
    },
    {
     "name": "stdout",
     "output_type": "stream",
     "text": [
      "\n",
      "Processing Query 96/1034 (ID: spider_dev_q95_idx95): 'Return the id and type code of the template that is used for the greatest number of documents.' (True DB: cre_Doc_Template_Mgt)\n"
     ]
    },
    {
     "data": {
      "application/vnd.jupyter.widget-view+json": {
       "model_id": "393dbed6be5345e79646b4bc45997212",
       "version_major": 2,
       "version_minor": 0
      },
      "text/plain": [
       "  DBs for Q:spider_dev_q95_idx95:   0%|          | 0/166 [00:00<?, ?it/s]"
      ]
     },
     "metadata": {},
     "output_type": "display_data"
    },
    {
     "name": "stdout",
     "output_type": "stream",
     "text": [
      "\n",
      "Processing Query 97/1034 (ID: spider_dev_q96_idx96): 'Return the different names of cities that are in Asia and for which Chinese is the official language.' (True DB: world_1)\n"
     ]
    },
    {
     "data": {
      "application/vnd.jupyter.widget-view+json": {
       "model_id": "da119c09546242ecab63c7d3d0e67190",
       "version_major": 2,
       "version_minor": 0
      },
      "text/plain": [
       "  DBs for Q:spider_dev_q96_idx96:   0%|          | 0/166 [00:00<?, ?it/s]"
      ]
     },
     "metadata": {},
     "output_type": "display_data"
    },
    {
     "name": "stdout",
     "output_type": "stream",
     "text": [
      "\n",
      "Processing Query 98/1034 (ID: spider_dev_q97_idx97): 'List all document ids with at least two paragraphs.' (True DB: cre_Doc_Template_Mgt)\n"
     ]
    },
    {
     "data": {
      "application/vnd.jupyter.widget-view+json": {
       "model_id": "c3a1f2bc01b94d379f6fe0ef2623eea2",
       "version_major": 2,
       "version_minor": 0
      },
      "text/plain": [
       "  DBs for Q:spider_dev_q97_idx97:   0%|          | 0/166 [00:00<?, ?it/s]"
      ]
     },
     "metadata": {},
     "output_type": "display_data"
    },
    {
     "name": "stdout",
     "output_type": "stream",
     "text": [
      "\n",
      "Processing Query 99/1034 (ID: spider_dev_q98_idx98): 'Which address holds the most number of students currently? List the address id and all lines.' (True DB: student_transcripts_tracking)\n"
     ]
    },
    {
     "data": {
      "application/vnd.jupyter.widget-view+json": {
       "model_id": "e27c75fdbf3246ce937f819a757693c4",
       "version_major": 2,
       "version_minor": 0
      },
      "text/plain": [
       "  DBs for Q:spider_dev_q98_idx98:   0%|          | 0/166 [00:00<?, ?it/s]"
      ]
     },
     "metadata": {},
     "output_type": "display_data"
    },
    {
     "name": "stdout",
     "output_type": "stream",
     "text": [
      "\n",
      "Processing Query 100/1034 (ID: spider_dev_q99_idx99): 'Show ids for all templates not used by any document.' (True DB: cre_Doc_Template_Mgt)\n"
     ]
    },
    {
     "data": {
      "application/vnd.jupyter.widget-view+json": {
       "model_id": "cc29e9bb6d6f4650a4871ada79a01774",
       "version_major": 2,
       "version_minor": 0
      },
      "text/plain": [
       "  DBs for Q:spider_dev_q99_idx99:   0%|          | 0/166 [00:00<?, ?it/s]"
      ]
     },
     "metadata": {},
     "output_type": "display_data"
    },
    {
     "name": "stdout",
     "output_type": "stream",
     "text": [
      "\n",
      "Processing Query 101/1034 (ID: spider_dev_q100_idx100): 'List the vote ids, phone numbers and states of all votes.' (True DB: voter_1)\n"
     ]
    },
    {
     "data": {
      "application/vnd.jupyter.widget-view+json": {
       "model_id": "73257e4be275433aadfcb5e9b7733ad9",
       "version_major": 2,
       "version_minor": 0
      },
      "text/plain": [
       "  DBs for Q:spider_dev_q100_idx1:   0%|          | 0/166 [00:00<?, ?it/s]"
      ]
     },
     "metadata": {},
     "output_type": "display_data"
    },
    {
     "name": "stdout",
     "output_type": "stream",
     "text": [
      "\n",
      "Processing Query 102/1034 (ID: spider_dev_q101_idx101): 'Show the stadium names without any concert.' (True DB: concert_singer)\n"
     ]
    },
    {
     "data": {
      "application/vnd.jupyter.widget-view+json": {
       "model_id": "09261801c5704715a691a7a2d495d115",
       "version_major": 2,
       "version_minor": 0
      },
      "text/plain": [
       "  DBs for Q:spider_dev_q101_idx1:   0%|          | 0/166 [00:00<?, ?it/s]"
      ]
     },
     "metadata": {},
     "output_type": "display_data"
    },
    {
     "name": "stdout",
     "output_type": "stream",
     "text": [
      "\n",
      "Processing Query 103/1034 (ID: spider_dev_q102_idx102): 'find the id, name and age for visitors who visited some museums more than once.' (True DB: museum_visit)\n"
     ]
    },
    {
     "data": {
      "application/vnd.jupyter.widget-view+json": {
       "model_id": "db0c6d90851e4f6390c5f28e5eceab21",
       "version_major": 2,
       "version_minor": 0
      },
      "text/plain": [
       "  DBs for Q:spider_dev_q102_idx1:   0%|          | 0/166 [00:00<?, ?it/s]"
      ]
     },
     "metadata": {},
     "output_type": "display_data"
    },
    {
     "name": "stdout",
     "output_type": "stream",
     "text": [
      "\n",
      "Processing Query 104/1034 (ID: spider_dev_q103_idx103): 'Show the document id with paragraph text 'Brazil' and 'Ireland'.' (True DB: cre_Doc_Template_Mgt)\n"
     ]
    },
    {
     "data": {
      "application/vnd.jupyter.widget-view+json": {
       "model_id": "ddbea53680034956836f331744ed6e9e",
       "version_major": 2,
       "version_minor": 0
      },
      "text/plain": [
       "  DBs for Q:spider_dev_q103_idx1:   0%|          | 0/166 [00:00<?, ?it/s]"
      ]
     },
     "metadata": {},
     "output_type": "display_data"
    },
    {
     "name": "stdout",
     "output_type": "stream",
     "text": [
      "\n",
      "Processing Query 105/1034 (ID: spider_dev_q104_idx104): 'Which shops' number products is above the average? Give me the shop names.' (True DB: employee_hire_evaluation)\n"
     ]
    },
    {
     "data": {
      "application/vnd.jupyter.widget-view+json": {
       "model_id": "b75fc9a36dfe4da6a777f2504bf933e9",
       "version_major": 2,
       "version_minor": 0
      },
      "text/plain": [
       "  DBs for Q:spider_dev_q104_idx1:   0%|          | 0/166 [00:00<?, ?it/s]"
      ]
     },
     "metadata": {},
     "output_type": "display_data"
    },
    {
     "name": "stdout",
     "output_type": "stream",
     "text": [
      "\n",
      "Processing Query 106/1034 (ID: spider_dev_q105_idx105): 'What is the zip code of the address in the city Port Chelsea?' (True DB: student_transcripts_tracking)\n"
     ]
    },
    {
     "data": {
      "application/vnd.jupyter.widget-view+json": {
       "model_id": "e371ff218d50416283d8e14355905926",
       "version_major": 2,
       "version_minor": 0
      },
      "text/plain": [
       "  DBs for Q:spider_dev_q105_idx1:   0%|          | 0/166 [00:00<?, ?it/s]"
      ]
     },
     "metadata": {},
     "output_type": "display_data"
    },
    {
     "name": "stdout",
     "output_type": "stream",
     "text": [
      "\n",
      "Processing Query 107/1034 (ID: spider_dev_q106_idx106): 'List the title of all cartoon directed by \"Ben Jones\" or \"Brandon Vietti\".' (True DB: tvshow)\n"
     ]
    },
    {
     "data": {
      "application/vnd.jupyter.widget-view+json": {
       "model_id": "bf7ddd7fce0647fcb7c00623db3281bd",
       "version_major": 2,
       "version_minor": 0
      },
      "text/plain": [
       "  DBs for Q:spider_dev_q106_idx1:   0%|          | 0/166 [00:00<?, ?it/s]"
      ]
     },
     "metadata": {},
     "output_type": "display_data"
    },
    {
     "name": "stdout",
     "output_type": "stream",
     "text": [
      "\n",
      "Processing Query 108/1034 (ID: spider_dev_q107_idx107): 'What are the template ids of any templates used in more than a single document?' (True DB: cre_Doc_Template_Mgt)\n"
     ]
    },
    {
     "data": {
      "application/vnd.jupyter.widget-view+json": {
       "model_id": "11fdd758cbab434f9f9960be36a1be0f",
       "version_major": 2,
       "version_minor": 0
      },
      "text/plain": [
       "  DBs for Q:spider_dev_q107_idx1:   0%|          | 0/166 [00:00<?, ?it/s]"
      ]
     },
     "metadata": {},
     "output_type": "display_data"
    },
    {
     "name": "stdout",
     "output_type": "stream",
     "text": [
      "\n",
      "Processing Query 109/1034 (ID: spider_dev_q108_idx108): 'What are the names and ranks of the three youngest winners across all matches?' (True DB: wta_1)\n"
     ]
    },
    {
     "data": {
      "application/vnd.jupyter.widget-view+json": {
       "model_id": "3aa0cae8c0a6450c807514fe64b54970",
       "version_major": 2,
       "version_minor": 0
      },
      "text/plain": [
       "  DBs for Q:spider_dev_q108_idx1:   0%|          | 0/166 [00:00<?, ?it/s]"
      ]
     },
     "metadata": {},
     "output_type": "display_data"
    },
    {
     "name": "stdout",
     "output_type": "stream",
     "text": [
      "\n",
      "Processing Query 110/1034 (ID: spider_dev_q109_idx109): 'Give the nationality that is most common across all people.' (True DB: poker_player)\n"
     ]
    },
    {
     "data": {
      "application/vnd.jupyter.widget-view+json": {
       "model_id": "bca4ceede9e34e84b8bd7d6000584086",
       "version_major": 2,
       "version_minor": 0
      },
      "text/plain": [
       "  DBs for Q:spider_dev_q109_idx1:   0%|          | 0/166 [00:00<?, ?it/s]"
      ]
     },
     "metadata": {},
     "output_type": "display_data"
    },
    {
     "name": "stdout",
     "output_type": "stream",
     "text": [
      "\n",
      "Processing Query 111/1034 (ID: spider_dev_q110_idx110): 'What is the name and capacity for the stadium with the highest average attendance?' (True DB: concert_singer)\n"
     ]
    },
    {
     "data": {
      "application/vnd.jupyter.widget-view+json": {
       "model_id": "e00b7502d2a74272914555b777684354",
       "version_major": 2,
       "version_minor": 0
      },
      "text/plain": [
       "  DBs for Q:spider_dev_q110_idx1:   0%|          | 0/166 [00:00<?, ?it/s]"
      ]
     },
     "metadata": {},
     "output_type": "display_data"
    },
    {
     "name": "stdout",
     "output_type": "stream",
     "text": [
      "\n",
      "Processing Query 112/1034 (ID: spider_dev_q111_idx111): 'What is the total surface area of the continents Asia and Europe?' (True DB: world_1)\n"
     ]
    },
    {
     "data": {
      "application/vnd.jupyter.widget-view+json": {
       "model_id": "a2345c51eebb46df98f30d0da0a35bfd",
       "version_major": 2,
       "version_minor": 0
      },
      "text/plain": [
       "  DBs for Q:spider_dev_q111_idx1:   0%|          | 0/166 [00:00<?, ?it/s]"
      ]
     },
     "metadata": {},
     "output_type": "display_data"
    },
    {
     "name": "stdout",
     "output_type": "stream",
     "text": [
      "\n",
      "Processing Query 113/1034 (ID: spider_dev_q112_idx112): 'What are the first names and country codes for players who won both the WTA Championships and the Australian Open?' (True DB: wta_1)\n"
     ]
    },
    {
     "data": {
      "application/vnd.jupyter.widget-view+json": {
       "model_id": "d045842ba65d47a786c6b4ba886a708d",
       "version_major": 2,
       "version_minor": 0
      },
      "text/plain": [
       "  DBs for Q:spider_dev_q112_idx1:   0%|          | 0/166 [00:00<?, ?it/s]"
      ]
     },
     "metadata": {},
     "output_type": "display_data"
    },
    {
     "name": "stdout",
     "output_type": "stream",
     "text": [
      "\n",
      "Processing Query 114/1034 (ID: spider_dev_q113_idx113): 'Give me the id, role and email of the professionals who did not perform any treatment on dogs.' (True DB: dog_kennels)\n"
     ]
    },
    {
     "data": {
      "application/vnd.jupyter.widget-view+json": {
       "model_id": "65f2d8ac55b342ad959dbcf35956f5d1",
       "version_major": 2,
       "version_minor": 0
      },
      "text/plain": [
       "  DBs for Q:spider_dev_q113_idx1:   0%|          | 0/166 [00:00<?, ?it/s]"
      ]
     },
     "metadata": {},
     "output_type": "display_data"
    },
    {
     "name": "stdout",
     "output_type": "stream",
     "text": [
      "\n",
      "Processing Query 115/1034 (ID: spider_dev_q114_idx114): 'What is the average life expectancy in African countries that are republics?' (True DB: world_1)\n"
     ]
    },
    {
     "data": {
      "application/vnd.jupyter.widget-view+json": {
       "model_id": "f0dbdd70de2e4c149e4dc4a7752917c6",
       "version_major": 2,
       "version_minor": 0
      },
      "text/plain": [
       "  DBs for Q:spider_dev_q114_idx1:   0%|          | 0/166 [00:00<?, ?it/s]"
      ]
     },
     "metadata": {},
     "output_type": "display_data"
    },
    {
     "name": "stdout",
     "output_type": "stream",
     "text": [
      "\n",
      "Processing Query 116/1034 (ID: spider_dev_q115_idx115): 'What is the name of country that has the shortest life expectancy in Asia?' (True DB: world_1)\n"
     ]
    },
    {
     "data": {
      "application/vnd.jupyter.widget-view+json": {
       "model_id": "4621f320a46343fe9366d3d60f79d998",
       "version_major": 2,
       "version_minor": 0
      },
      "text/plain": [
       "  DBs for Q:spider_dev_q115_idx1:   0%|          | 0/166 [00:00<?, ?it/s]"
      ]
     },
     "metadata": {},
     "output_type": "display_data"
    },
    {
     "name": "stdout",
     "output_type": "stream",
     "text": [
      "\n",
      "Processing Query 117/1034 (ID: spider_dev_q116_idx116): 'What are the ids of the students who do not own cats as pets?' (True DB: pets_1)\n"
     ]
    },
    {
     "data": {
      "application/vnd.jupyter.widget-view+json": {
       "model_id": "09a1558886714e6d8cbf612a8863cda7",
       "version_major": 2,
       "version_minor": 0
      },
      "text/plain": [
       "  DBs for Q:spider_dev_q116_idx1:   0%|          | 0/166 [00:00<?, ?it/s]"
      ]
     },
     "metadata": {},
     "output_type": "display_data"
    },
    {
     "name": "stdout",
     "output_type": "stream",
     "text": [
      "\n",
      "Processing Query 118/1034 (ID: spider_dev_q117_idx117): 'What is the semester which most student registered in? Show both the name and the id.' (True DB: student_transcripts_tracking)\n"
     ]
    },
    {
     "data": {
      "application/vnd.jupyter.widget-view+json": {
       "model_id": "8f9a2e8544454134b9e43e2c788a94d1",
       "version_major": 2,
       "version_minor": 0
      },
      "text/plain": [
       "  DBs for Q:spider_dev_q117_idx1:   0%|          | 0/166 [00:00<?, ?it/s]"
      ]
     },
     "metadata": {},
     "output_type": "display_data"
    },
    {
     "name": "stdout",
     "output_type": "stream",
     "text": [
      "\n",
      "Processing Query 119/1034 (ID: spider_dev_q118_idx118): 'What is the name of the conductor who has worked the greatest number of years?' (True DB: orchestra)\n"
     ]
    },
    {
     "data": {
      "application/vnd.jupyter.widget-view+json": {
       "model_id": "4aec83bcce8e4fc69fc663dd6df3fe88",
       "version_major": 2,
       "version_minor": 0
      },
      "text/plain": [
       "  DBs for Q:spider_dev_q118_idx1:   0%|          | 0/166 [00:00<?, ?it/s]"
      ]
     },
     "metadata": {},
     "output_type": "display_data"
    },
    {
     "name": "stdout",
     "output_type": "stream",
     "text": [
      "\n",
      "Processing Query 120/1034 (ID: spider_dev_q119_idx119): 'List each language and the number of TV Channels using it.' (True DB: tvshow)\n"
     ]
    },
    {
     "data": {
      "application/vnd.jupyter.widget-view+json": {
       "model_id": "d1a18de059124e398cf68730ed5302c5",
       "version_major": 2,
       "version_minor": 0
      },
      "text/plain": [
       "  DBs for Q:spider_dev_q119_idx1:   0%|          | 0/166 [00:00<?, ?it/s]"
      ]
     },
     "metadata": {},
     "output_type": "display_data"
    },
    {
     "name": "stdout",
     "output_type": "stream",
     "text": [
      "\n",
      "Processing Query 121/1034 (ID: spider_dev_q120_idx120): 'Return the type code of the template type with the description \"Book\".' (True DB: cre_Doc_Template_Mgt)\n"
     ]
    },
    {
     "data": {
      "application/vnd.jupyter.widget-view+json": {
       "model_id": "ad76ec54acbf4859bf1e73a0411edf6b",
       "version_major": 2,
       "version_minor": 0
      },
      "text/plain": [
       "  DBs for Q:spider_dev_q120_idx1:   0%|          | 0/166 [00:00<?, ?it/s]"
      ]
     },
     "metadata": {},
     "output_type": "display_data"
    },
    {
     "name": "stdout",
     "output_type": "stream",
     "text": [
      "\n",
      "Processing Query 122/1034 (ID: spider_dev_q121_idx121): 'How many singers are from each country?' (True DB: concert_singer)\n"
     ]
    },
    {
     "data": {
      "application/vnd.jupyter.widget-view+json": {
       "model_id": "218dfdb33d6d4f439461d4df1aed61ef",
       "version_major": 2,
       "version_minor": 0
      },
      "text/plain": [
       "  DBs for Q:spider_dev_q121_idx1:   0%|          | 0/166 [00:00<?, ?it/s]"
      ]
     },
     "metadata": {},
     "output_type": "display_data"
    },
    {
     "name": "stdout",
     "output_type": "stream",
     "text": [
      "\n",
      "Processing Query 123/1034 (ID: spider_dev_q122_idx122): 'What are the birth years and citizenships of the singers?' (True DB: singer)\n"
     ]
    },
    {
     "data": {
      "application/vnd.jupyter.widget-view+json": {
       "model_id": "0fe15a087c05440d977c554cd0e7018f",
       "version_major": 2,
       "version_minor": 0
      },
      "text/plain": [
       "  DBs for Q:spider_dev_q122_idx1:   0%|          | 0/166 [00:00<?, ?it/s]"
      ]
     },
     "metadata": {},
     "output_type": "display_data"
    },
    {
     "name": "stdout",
     "output_type": "stream",
     "text": [
      "\n",
      "Processing Query 124/1034 (ID: spider_dev_q123_idx123): 'List the Episode of all  TV series showed on TV Channel with series name \"Sky Radio\".' (True DB: tvshow)\n"
     ]
    },
    {
     "data": {
      "application/vnd.jupyter.widget-view+json": {
       "model_id": "e8801a148533431abba9e2bc22607b39",
       "version_major": 2,
       "version_minor": 0
      },
      "text/plain": [
       "  DBs for Q:spider_dev_q123_idx1:   0%|          | 0/166 [00:00<?, ?it/s]"
      ]
     },
     "metadata": {},
     "output_type": "display_data"
    },
    {
     "name": "stdout",
     "output_type": "stream",
     "text": [
      "\n",
      "Processing Query 125/1034 (ID: spider_dev_q124_idx124): 'What is the code of the country with the most players?' (True DB: wta_1)\n"
     ]
    },
    {
     "data": {
      "application/vnd.jupyter.widget-view+json": {
       "model_id": "86354b60ef264f1998775d24ddcc81be",
       "version_major": 2,
       "version_minor": 0
      },
      "text/plain": [
       "  DBs for Q:spider_dev_q124_idx1:   0%|          | 0/166 [00:00<?, ?it/s]"
      ]
     },
     "metadata": {},
     "output_type": "display_data"
    },
    {
     "name": "stdout",
     "output_type": "stream",
     "text": [
      "\n",
      "Processing Query 126/1034 (ID: spider_dev_q125_idx125): 'Which year has most number of concerts?' (True DB: concert_singer)\n"
     ]
    },
    {
     "data": {
      "application/vnd.jupyter.widget-view+json": {
       "model_id": "c3a76e3c008e42e083dbb1f4184d68f5",
       "version_major": 2,
       "version_minor": 0
      },
      "text/plain": [
       "  DBs for Q:spider_dev_q125_idx1:   0%|          | 0/166 [00:00<?, ?it/s]"
      ]
     },
     "metadata": {},
     "output_type": "display_data"
    },
    {
     "name": "stdout",
     "output_type": "stream",
     "text": [
      "\n",
      "Processing Query 127/1034 (ID: spider_dev_q126_idx126): 'Return the lowest version number, along with its corresponding template type code.' (True DB: cre_Doc_Template_Mgt)\n"
     ]
    },
    {
     "data": {
      "application/vnd.jupyter.widget-view+json": {
       "model_id": "c38ae4910b034fd2b48d52fae8b613d2",
       "version_major": 2,
       "version_minor": 0
      },
      "text/plain": [
       "  DBs for Q:spider_dev_q126_idx1:   0%|          | 0/166 [00:00<?, ?it/s]"
      ]
     },
     "metadata": {},
     "output_type": "display_data"
    },
    {
     "name": "stdout",
     "output_type": "stream",
     "text": [
      "\n",
      "Processing Query 128/1034 (ID: spider_dev_q127_idx127): 'What is the number of continents?' (True DB: car_1)\n"
     ]
    },
    {
     "data": {
      "application/vnd.jupyter.widget-view+json": {
       "model_id": "394ba815e0314652aec7c7602c84bbdd",
       "version_major": 2,
       "version_minor": 0
      },
      "text/plain": [
       "  DBs for Q:spider_dev_q127_idx1:   0%|          | 0/166 [00:00<?, ?it/s]"
      ]
     },
     "metadata": {},
     "output_type": "display_data"
    },
    {
     "name": "stdout",
     "output_type": "stream",
     "text": [
      "\n",
      "Processing Query 129/1034 (ID: spider_dev_q128_idx128): 'What is the charge amount of the most expensive charge type?' (True DB: dog_kennels)\n"
     ]
    },
    {
     "data": {
      "application/vnd.jupyter.widget-view+json": {
       "model_id": "0f9a2ea19abf46ca8de34ea0cacbe06d",
       "version_major": 2,
       "version_minor": 0
      },
      "text/plain": [
       "  DBs for Q:spider_dev_q128_idx1:   0%|          | 0/166 [00:00<?, ?it/s]"
      ]
     },
     "metadata": {},
     "output_type": "display_data"
    },
    {
     "name": "stdout",
     "output_type": "stream",
     "text": [
      "\n",
      "Processing Query 130/1034 (ID: spider_dev_q129_idx129): 'What are the different models for the cards produced after 1980?' (True DB: car_1)\n"
     ]
    },
    {
     "data": {
      "application/vnd.jupyter.widget-view+json": {
       "model_id": "1557ff5986c74f86ac57e2b6be53802e",
       "version_major": 2,
       "version_minor": 0
      },
      "text/plain": [
       "  DBs for Q:spider_dev_q129_idx1:   0%|          | 0/166 [00:00<?, ?it/s]"
      ]
     },
     "metadata": {},
     "output_type": "display_data"
    },
    {
     "name": "stdout",
     "output_type": "stream",
     "text": [
      "\n",
      "Processing Query 131/1034 (ID: spider_dev_q130_idx130): 'List top 3 highest Rating  TV series. List the TV series's Episode and Rating.' (True DB: tvshow)\n"
     ]
    },
    {
     "data": {
      "application/vnd.jupyter.widget-view+json": {
       "model_id": "d0393714dcf24661b57e13402ad644b7",
       "version_major": 2,
       "version_minor": 0
      },
      "text/plain": [
       "  DBs for Q:spider_dev_q130_idx1:   0%|          | 0/166 [00:00<?, ?it/s]"
      ]
     },
     "metadata": {},
     "output_type": "display_data"
    },
    {
     "name": "stdout",
     "output_type": "stream",
     "text": [
      "\n",
      "Processing Query 132/1034 (ID: spider_dev_q131_idx131): 'What are the names and areas of countries with the top 5 largest area?' (True DB: world_1)\n"
     ]
    },
    {
     "data": {
      "application/vnd.jupyter.widget-view+json": {
       "model_id": "81e2db94339b438d98e46755a0a48aaa",
       "version_major": 2,
       "version_minor": 0
      },
      "text/plain": [
       "  DBs for Q:spider_dev_q131_idx1:   0%|          | 0/166 [00:00<?, ?it/s]"
      ]
     },
     "metadata": {},
     "output_type": "display_data"
    },
    {
     "name": "stdout",
     "output_type": "stream",
     "text": [
      "\n",
      "Processing Query 133/1034 (ID: spider_dev_q132_idx132): 'How many owners temporarily do not have any dogs?' (True DB: dog_kennels)\n"
     ]
    },
    {
     "data": {
      "application/vnd.jupyter.widget-view+json": {
       "model_id": "65b7f38ec71b465e890f0542a9ca8526",
       "version_major": 2,
       "version_minor": 0
      },
      "text/plain": [
       "  DBs for Q:spider_dev_q132_idx1:   0%|          | 0/166 [00:00<?, ?it/s]"
      ]
     },
     "metadata": {},
     "output_type": "display_data"
    },
    {
     "name": "stdout",
     "output_type": "stream",
     "text": [
      "\n",
      "Processing Query 134/1034 (ID: spider_dev_q133_idx133): 'Compute the average age of all the dogs.' (True DB: dog_kennels)\n"
     ]
    },
    {
     "data": {
      "application/vnd.jupyter.widget-view+json": {
       "model_id": "5381880c362d4e99a31543495ecce244",
       "version_major": 2,
       "version_minor": 0
      },
      "text/plain": [
       "  DBs for Q:spider_dev_q133_idx1:   0%|          | 0/166 [00:00<?, ?it/s]"
      ]
     },
     "metadata": {},
     "output_type": "display_data"
    },
    {
     "name": "stdout",
     "output_type": "stream",
     "text": [
      "\n",
      "Processing Query 135/1034 (ID: spider_dev_q134_idx134): 'Show names for all stadiums except for stadiums having a concert in year 2014.' (True DB: concert_singer)\n"
     ]
    },
    {
     "data": {
      "application/vnd.jupyter.widget-view+json": {
       "model_id": "1baaa653552243109216ee5b5d1b201b",
       "version_major": 2,
       "version_minor": 0
      },
      "text/plain": [
       "  DBs for Q:spider_dev_q134_idx1:   0%|          | 0/166 [00:00<?, ?it/s]"
      ]
     },
     "metadata": {},
     "output_type": "display_data"
    },
    {
     "name": "stdout",
     "output_type": "stream",
     "text": [
      "\n",
      "Processing Query 136/1034 (ID: spider_dev_q135_idx135): 'What is the TV Channel of TV series with Episode \"A Love of a Lifetime\"? List the TV Channel's series name.' (True DB: tvshow)\n"
     ]
    },
    {
     "data": {
      "application/vnd.jupyter.widget-view+json": {
       "model_id": "2894c125a718451da3b90305285f8e75",
       "version_major": 2,
       "version_minor": 0
      },
      "text/plain": [
       "  DBs for Q:spider_dev_q135_idx1:   0%|          | 0/166 [00:00<?, ?it/s]"
      ]
     },
     "metadata": {},
     "output_type": "display_data"
    },
    {
     "name": "stdout",
     "output_type": "stream",
     "text": [
      "\n",
      "Processing Query 137/1034 (ID: spider_dev_q136_idx136): 'What are the minimum and maximum number of products across all the shops?' (True DB: employee_hire_evaluation)\n"
     ]
    },
    {
     "data": {
      "application/vnd.jupyter.widget-view+json": {
       "model_id": "eda5716ae2744b5aa7f71b1729bd1c55",
       "version_major": 2,
       "version_minor": 0
      },
      "text/plain": [
       "  DBs for Q:spider_dev_q136_idx1:   0%|          | 0/166 [00:00<?, ?it/s]"
      ]
     },
     "metadata": {},
     "output_type": "display_data"
    },
    {
     "name": "stdout",
     "output_type": "stream",
     "text": [
      "\n",
      "Processing Query 138/1034 (ID: spider_dev_q137_idx137): 'what are all the addresses including line 1 and line 2?' (True DB: student_transcripts_tracking)\n"
     ]
    },
    {
     "data": {
      "application/vnd.jupyter.widget-view+json": {
       "model_id": "37841602c0c04dbc9bc61aa2ae9849da",
       "version_major": 2,
       "version_minor": 0
      },
      "text/plain": [
       "  DBs for Q:spider_dev_q137_idx1:   0%|          | 0/166 [00:00<?, ?it/s]"
      ]
     },
     "metadata": {},
     "output_type": "display_data"
    },
    {
     "name": "stdout",
     "output_type": "stream",
     "text": [
      "\n",
      "Processing Query 139/1034 (ID: spider_dev_q138_idx138): 'What are the names and ids of all countries with at least one car maker?' (True DB: car_1)\n"
     ]
    },
    {
     "data": {
      "application/vnd.jupyter.widget-view+json": {
       "model_id": "9cbe8197b21c431a9ac55e2511cc0a04",
       "version_major": 2,
       "version_minor": 0
      },
      "text/plain": [
       "  DBs for Q:spider_dev_q138_idx1:   0%|          | 0/166 [00:00<?, ?it/s]"
      ]
     },
     "metadata": {},
     "output_type": "display_data"
    },
    {
     "name": "stdout",
     "output_type": "stream",
     "text": [
      "\n",
      "Processing Query 140/1034 (ID: spider_dev_q139_idx139): 'Find the average and maximum age for each type of pet.' (True DB: pets_1)\n"
     ]
    },
    {
     "data": {
      "application/vnd.jupyter.widget-view+json": {
       "model_id": "77d5aa31e9e546898100905235e7ca6e",
       "version_major": 2,
       "version_minor": 0
      },
      "text/plain": [
       "  DBs for Q:spider_dev_q139_idx1:   0%|          | 0/166 [00:00<?, ?it/s]"
      ]
     },
     "metadata": {},
     "output_type": "display_data"
    },
    {
     "name": "stdout",
     "output_type": "stream",
     "text": [
      "\n",
      "Processing Query 141/1034 (ID: spider_dev_q140_idx140): 'What is the sname of every sing that does not have any song?' (True DB: singer)\n"
     ]
    },
    {
     "data": {
      "application/vnd.jupyter.widget-view+json": {
       "model_id": "550bdede2f5d40988ac1143c5563c8bb",
       "version_major": 2,
       "version_minor": 0
      },
      "text/plain": [
       "  DBs for Q:spider_dev_q140_idx1:   0%|          | 0/166 [00:00<?, ?it/s]"
      ]
     },
     "metadata": {},
     "output_type": "display_data"
    },
    {
     "name": "stdout",
     "output_type": "stream",
     "text": [
      "\n",
      "Processing Query 142/1034 (ID: spider_dev_q141_idx141): 'What are the names of all courses that have some students enrolled?' (True DB: student_transcripts_tracking)\n"
     ]
    },
    {
     "data": {
      "application/vnd.jupyter.widget-view+json": {
       "model_id": "d06d2fd5564c4c25be1021118166c726",
       "version_major": 2,
       "version_minor": 0
      },
      "text/plain": [
       "  DBs for Q:spider_dev_q141_idx1:   0%|          | 0/166 [00:00<?, ?it/s]"
      ]
     },
     "metadata": {},
     "output_type": "display_data"
    },
    {
     "name": "stdout",
     "output_type": "stream",
     "text": [
      "\n",
      "Processing Query 143/1034 (ID: spider_dev_q142_idx142): 'Please show the most common citizenship of singers.' (True DB: singer)\n"
     ]
    },
    {
     "data": {
      "application/vnd.jupyter.widget-view+json": {
       "model_id": "ad50dc509c764911a3adcd5d285d684e",
       "version_major": 2,
       "version_minor": 0
      },
      "text/plain": [
       "  DBs for Q:spider_dev_q142_idx1:   0%|          | 0/166 [00:00<?, ?it/s]"
      ]
     },
     "metadata": {},
     "output_type": "display_data"
    },
    {
     "name": "stdout",
     "output_type": "stream",
     "text": [
      "\n",
      "Processing Query 144/1034 (ID: spider_dev_q143_idx143): 'List the name of teachers whose hometown is not `` Little Lever Urban District '' .' (True DB: course_teach)\n"
     ]
    },
    {
     "data": {
      "application/vnd.jupyter.widget-view+json": {
       "model_id": "91dda1861e174aa08c78df17ba8fcce0",
       "version_major": 2,
       "version_minor": 0
      },
      "text/plain": [
       "  DBs for Q:spider_dev_q143_idx1:   0%|          | 0/166 [00:00<?, ?it/s]"
      ]
     },
     "metadata": {},
     "output_type": "display_data"
    },
    {
     "name": "stdout",
     "output_type": "stream",
     "text": [
      "\n",
      "Processing Query 145/1034 (ID: spider_dev_q144_idx144): 'How many courses in total are listed?' (True DB: student_transcripts_tracking)\n"
     ]
    },
    {
     "data": {
      "application/vnd.jupyter.widget-view+json": {
       "model_id": "7d23e7d3d8394b1b9f4be3d4afc1d195",
       "version_major": 2,
       "version_minor": 0
      },
      "text/plain": [
       "  DBs for Q:spider_dev_q144_idx1:   0%|          | 0/166 [00:00<?, ?it/s]"
      ]
     },
     "metadata": {},
     "output_type": "display_data"
    },
    {
     "name": "stdout",
     "output_type": "stream",
     "text": [
      "\n",
      "Processing Query 146/1034 (ID: spider_dev_q145_idx145): 'Find the production code and channel of the most recently aired cartoon .' (True DB: tvshow)\n"
     ]
    },
    {
     "data": {
      "application/vnd.jupyter.widget-view+json": {
       "model_id": "124e84ea1b8f4dd28941dc4fb00d99c4",
       "version_major": 2,
       "version_minor": 0
      },
      "text/plain": [
       "  DBs for Q:spider_dev_q145_idx1:   0%|          | 0/166 [00:00<?, ?it/s]"
      ]
     },
     "metadata": {},
     "output_type": "display_data"
    },
    {
     "name": "stdout",
     "output_type": "stream",
     "text": [
      "\n",
      "Processing Query 147/1034 (ID: spider_dev_q146_idx146): 'Which country does Airline \"JetBlue Airways\" belong to?' (True DB: flight_2)\n"
     ]
    },
    {
     "data": {
      "application/vnd.jupyter.widget-view+json": {
       "model_id": "97e3d5d1d04941cfbcff66078b797c6a",
       "version_major": 2,
       "version_minor": 0
      },
      "text/plain": [
       "  DBs for Q:spider_dev_q146_idx1:   0%|          | 0/166 [00:00<?, ?it/s]"
      ]
     },
     "metadata": {},
     "output_type": "display_data"
    },
    {
     "name": "stdout",
     "output_type": "stream",
     "text": [
      "\n",
      "Processing Query 148/1034 (ID: spider_dev_q147_idx147): 'What is the number of the cars with horsepower more than 150?' (True DB: car_1)\n"
     ]
    },
    {
     "data": {
      "application/vnd.jupyter.widget-view+json": {
       "model_id": "3c44a08ee3494d9ba101bb562d5503dd",
       "version_major": 2,
       "version_minor": 0
      },
      "text/plain": [
       "  DBs for Q:spider_dev_q147_idx1:   0%|          | 0/166 [00:00<?, ?it/s]"
      ]
     },
     "metadata": {},
     "output_type": "display_data"
    },
    {
     "name": "stdout",
     "output_type": "stream",
     "text": [
      "\n",
      "Processing Query 149/1034 (ID: spider_dev_q148_idx148): 'Show all distinct template type codes for all templates.' (True DB: cre_Doc_Template_Mgt)\n"
     ]
    },
    {
     "data": {
      "application/vnd.jupyter.widget-view+json": {
       "model_id": "1a74b8f88beb4510a989b8b4e603fe57",
       "version_major": 2,
       "version_minor": 0
      },
      "text/plain": [
       "  DBs for Q:spider_dev_q148_idx1:   0%|          | 0/166 [00:00<?, ?it/s]"
      ]
     },
     "metadata": {},
     "output_type": "display_data"
    },
    {
     "name": "stdout",
     "output_type": "stream",
     "text": [
      "\n",
      "Processing Query 150/1034 (ID: spider_dev_q149_idx149): 'List the number of different series names and contents in the TV Channel table.' (True DB: tvshow)\n"
     ]
    },
    {
     "data": {
      "application/vnd.jupyter.widget-view+json": {
       "model_id": "d86090a9d9494dd29a38c628ca89d28c",
       "version_major": 2,
       "version_minor": 0
      },
      "text/plain": [
       "  DBs for Q:spider_dev_q149_idx1:   0%|          | 0/166 [00:00<?, ?it/s]"
      ]
     },
     "metadata": {},
     "output_type": "display_data"
    },
    {
     "name": "stdout",
     "output_type": "stream",
     "text": [
      "\n",
      "Processing Query 151/1034 (ID: spider_dev_q150_idx150): 'How many museums were opened after 2013 or before 2008?' (True DB: museum_visit)\n"
     ]
    },
    {
     "data": {
      "application/vnd.jupyter.widget-view+json": {
       "model_id": "170075e0af5f4609a4474078ff622670",
       "version_major": 2,
       "version_minor": 0
      },
      "text/plain": [
       "  DBs for Q:spider_dev_q150_idx1:   0%|          | 0/166 [00:00<?, ?it/s]"
      ]
     },
     "metadata": {},
     "output_type": "display_data"
    },
    {
     "name": "stdout",
     "output_type": "stream",
     "text": [
      "\n",
      "Processing Query 152/1034 (ID: spider_dev_q151_idx151): 'Return the template type description of the template type with the code AD.' (True DB: cre_Doc_Template_Mgt)\n"
     ]
    },
    {
     "data": {
      "application/vnd.jupyter.widget-view+json": {
       "model_id": "107743e99f1140aa9cac6ca8284d2575",
       "version_major": 2,
       "version_minor": 0
      },
      "text/plain": [
       "  DBs for Q:spider_dev_q151_idx1:   0%|          | 0/166 [00:00<?, ?it/s]"
      ]
     },
     "metadata": {},
     "output_type": "display_data"
    },
    {
     "name": "stdout",
     "output_type": "stream",
     "text": [
      "\n",
      "Processing Query 153/1034 (ID: spider_dev_q152_idx152): 'On average, when were the transcripts printed?' (True DB: student_transcripts_tracking)\n"
     ]
    },
    {
     "data": {
      "application/vnd.jupyter.widget-view+json": {
       "model_id": "f7bac2b1a1a94fca9c01b29ca355dc33",
       "version_major": 2,
       "version_minor": 0
      },
      "text/plain": [
       "  DBs for Q:spider_dev_q152_idx1:   0%|          | 0/166 [00:00<?, ?it/s]"
      ]
     },
     "metadata": {},
     "output_type": "display_data"
    },
    {
     "name": "stdout",
     "output_type": "stream",
     "text": [
      "\n",
      "Processing Query 154/1034 (ID: spider_dev_q153_idx153): 'List the record company shared by the most number of orchestras.' (True DB: orchestra)\n"
     ]
    },
    {
     "data": {
      "application/vnd.jupyter.widget-view+json": {
       "model_id": "7735fc36a6ca4420bfce95bb44cde60f",
       "version_major": 2,
       "version_minor": 0
      },
      "text/plain": [
       "  DBs for Q:spider_dev_q153_idx1:   0%|          | 0/166 [00:00<?, ?it/s]"
      ]
     },
     "metadata": {},
     "output_type": "display_data"
    },
    {
     "name": "stdout",
     "output_type": "stream",
     "text": [
      "\n",
      "Processing Query 155/1034 (ID: spider_dev_q154_idx154): 'List the names of employees and sort in ascending order of age.' (True DB: employee_hire_evaluation)\n"
     ]
    },
    {
     "data": {
      "application/vnd.jupyter.widget-view+json": {
       "model_id": "beb08710a2f542c7a059677752f80305",
       "version_major": 2,
       "version_minor": 0
      },
      "text/plain": [
       "  DBs for Q:spider_dev_q154_idx1:   0%|          | 0/166 [00:00<?, ?it/s]"
      ]
     },
     "metadata": {},
     "output_type": "display_data"
    },
    {
     "name": "stdout",
     "output_type": "stream",
     "text": [
      "\n",
      "Processing Query 156/1034 (ID: spider_dev_q155_idx155): 'How many dog pets are raised by female students?' (True DB: pets_1)\n"
     ]
    },
    {
     "data": {
      "application/vnd.jupyter.widget-view+json": {
       "model_id": "8d102ebdc83d4323b7896224fd0a7f01",
       "version_major": 2,
       "version_minor": 0
      },
      "text/plain": [
       "  DBs for Q:spider_dev_q155_idx1:   0%|          | 0/166 [00:00<?, ?it/s]"
      ]
     },
     "metadata": {},
     "output_type": "display_data"
    },
    {
     "name": "stdout",
     "output_type": "stream",
     "text": [
      "\n",
      "Processing Query 157/1034 (ID: spider_dev_q156_idx156): 'What is the number of car models created by the car maker American Motor Company?' (True DB: car_1)\n"
     ]
    },
    {
     "data": {
      "application/vnd.jupyter.widget-view+json": {
       "model_id": "2e362741dcdd49aea355cff36fbaf2b0",
       "version_major": 2,
       "version_minor": 0
      },
      "text/plain": [
       "  DBs for Q:spider_dev_q156_idx1:   0%|          | 0/166 [00:00<?, ?it/s]"
      ]
     },
     "metadata": {},
     "output_type": "display_data"
    },
    {
     "name": "stdout",
     "output_type": "stream",
     "text": [
      "\n",
      "Processing Query 158/1034 (ID: spider_dev_q157_idx157): 'Return the names and template ids for documents that contain the letter w in their description.' (True DB: cre_Doc_Template_Mgt)\n"
     ]
    },
    {
     "data": {
      "application/vnd.jupyter.widget-view+json": {
       "model_id": "ac28e69be3fc43e892078ba9d2acaf4a",
       "version_major": 2,
       "version_minor": 0
      },
      "text/plain": [
       "  DBs for Q:spider_dev_q157_idx1:   0%|          | 0/166 [00:00<?, ?it/s]"
      ]
     },
     "metadata": {},
     "output_type": "display_data"
    },
    {
     "name": "stdout",
     "output_type": "stream",
     "text": [
      "\n",
      "Processing Query 159/1034 (ID: spider_dev_q158_idx158): 'Which template type code is used by most number of documents?' (True DB: cre_Doc_Template_Mgt)\n"
     ]
    },
    {
     "data": {
      "application/vnd.jupyter.widget-view+json": {
       "model_id": "e8f934d0e6634951b7cfddb71cd4db53",
       "version_major": 2,
       "version_minor": 0
      },
      "text/plain": [
       "  DBs for Q:spider_dev_q158_idx1:   0%|          | 0/166 [00:00<?, ?it/s]"
      ]
     },
     "metadata": {},
     "output_type": "display_data"
    },
    {
     "name": "stdout",
     "output_type": "stream",
     "text": [
      "\n",
      "Processing Query 160/1034 (ID: spider_dev_q159_idx159): 'For model volvo, how many cylinders does the car with the least accelerate have?' (True DB: car_1)\n"
     ]
    },
    {
     "data": {
      "application/vnd.jupyter.widget-view+json": {
       "model_id": "4a93bb6ef12b4150a775586e1ca12560",
       "version_major": 2,
       "version_minor": 0
      },
      "text/plain": [
       "  DBs for Q:spider_dev_q159_idx1:   0%|          | 0/166 [00:00<?, ?it/s]"
      ]
     },
     "metadata": {},
     "output_type": "display_data"
    },
    {
     "name": "stdout",
     "output_type": "stream",
     "text": [
      "\n",
      "Processing Query 161/1034 (ID: spider_dev_q160_idx160): 'For students who have pets , how many pets does each student have ? list their ids instead of names .' (True DB: pets_1)\n"
     ]
    },
    {
     "data": {
      "application/vnd.jupyter.widget-view+json": {
       "model_id": "606ebe4597a54e9cab3752d4359adc55",
       "version_major": 2,
       "version_minor": 0
      },
      "text/plain": [
       "  DBs for Q:spider_dev_q160_idx1:   0%|          | 0/166 [00:00<?, ?it/s]"
      ]
     },
     "metadata": {},
     "output_type": "display_data"
    },
    {
     "name": "stdout",
     "output_type": "stream",
     "text": [
      "\n",
      "Processing Query 162/1034 (ID: spider_dev_q161_idx161): 'Which student has enrolled for the most times in any program? List the id, first name, middle name, last name, the number of enrollments and student id.' (True DB: student_transcripts_tracking)\n"
     ]
    },
    {
     "data": {
      "application/vnd.jupyter.widget-view+json": {
       "model_id": "125657138cd24c6ab92f01c5897658de",
       "version_major": 2,
       "version_minor": 0
      },
      "text/plain": [
       "  DBs for Q:spider_dev_q161_idx1:   0%|          | 0/166 [00:00<?, ?it/s]"
      ]
     },
     "metadata": {},
     "output_type": "display_data"
    },
    {
     "name": "stdout",
     "output_type": "stream",
     "text": [
      "\n",
      "Processing Query 163/1034 (ID: spider_dev_q162_idx162): 'List the area codes in which voters voted both for the contestant 'Tabatha Gehling' and the contestant 'Kelly Clauss'.' (True DB: voter_1)\n"
     ]
    },
    {
     "data": {
      "application/vnd.jupyter.widget-view+json": {
       "model_id": "fdf4c36269e144089cc0353572ff2ec0",
       "version_major": 2,
       "version_minor": 0
      },
      "text/plain": [
       "  DBs for Q:spider_dev_q162_idx1:   0%|          | 0/166 [00:00<?, ?it/s]"
      ]
     },
     "metadata": {},
     "output_type": "display_data"
    },
    {
     "name": "stdout",
     "output_type": "stream",
     "text": [
      "\n",
      "Processing Query 164/1034 (ID: spider_dev_q163_idx163): 'Give the airline with abbreviation 'UAL'.' (True DB: flight_2)\n"
     ]
    },
    {
     "data": {
      "application/vnd.jupyter.widget-view+json": {
       "model_id": "f7a2a2803ef1486287714fb3847649f9",
       "version_major": 2,
       "version_minor": 0
      },
      "text/plain": [
       "  DBs for Q:spider_dev_q163_idx1:   0%|          | 0/166 [00:00<?, ?it/s]"
      ]
     },
     "metadata": {},
     "output_type": "display_data"
    },
    {
     "name": "stdout",
     "output_type": "stream",
     "text": [
      "\n",
      "Processing Query 165/1034 (ID: spider_dev_q164_idx164): 'Describe the section h.' (True DB: student_transcripts_tracking)\n"
     ]
    },
    {
     "data": {
      "application/vnd.jupyter.widget-view+json": {
       "model_id": "64b327adb3c24003a6cb26861e7548b7",
       "version_major": 2,
       "version_minor": 0
      },
      "text/plain": [
       "  DBs for Q:spider_dev_q164_idx1:   0%|          | 0/166 [00:00<?, ?it/s]"
      ]
     },
     "metadata": {},
     "output_type": "display_data"
    },
    {
     "name": "stdout",
     "output_type": "stream",
     "text": [
      "\n",
      "Processing Query 166/1034 (ID: spider_dev_q165_idx165): 'Find the number of professionals who have ever treated dogs.' (True DB: dog_kennels)\n"
     ]
    },
    {
     "data": {
      "application/vnd.jupyter.widget-view+json": {
       "model_id": "09d9e7d61f9c4ec099737540c8b3ecc3",
       "version_major": 2,
       "version_minor": 0
      },
      "text/plain": [
       "  DBs for Q:spider_dev_q165_idx1:   0%|          | 0/166 [00:00<?, ?it/s]"
      ]
     },
     "metadata": {},
     "output_type": "display_data"
    },
    {
     "name": "stdout",
     "output_type": "stream",
     "text": [
      "\n",
      "Processing Query 167/1034 (ID: spider_dev_q166_idx166): 'How many available features are there in total?' (True DB: real_estate_properties)\n"
     ]
    },
    {
     "data": {
      "application/vnd.jupyter.widget-view+json": {
       "model_id": "ef29e33b215f4c10a6e24c0717448698",
       "version_major": 2,
       "version_minor": 0
      },
      "text/plain": [
       "  DBs for Q:spider_dev_q166_idx1:   0%|          | 0/166 [00:00<?, ?it/s]"
      ]
     },
     "metadata": {},
     "output_type": "display_data"
    },
    {
     "name": "stdout",
     "output_type": "stream",
     "text": [
      "\n",
      "Processing Query 168/1034 (ID: spider_dev_q167_idx167): 'What is the number of carsw ith over 6 cylinders?' (True DB: car_1)\n"
     ]
    },
    {
     "data": {
      "application/vnd.jupyter.widget-view+json": {
       "model_id": "df5be8929ed94dca81aeae6d188eb659",
       "version_major": 2,
       "version_minor": 0
      },
      "text/plain": [
       "  DBs for Q:spider_dev_q167_idx1:   0%|          | 0/166 [00:00<?, ?it/s]"
      ]
     },
     "metadata": {},
     "output_type": "display_data"
    },
    {
     "name": "stdout",
     "output_type": "stream",
     "text": [
      "\n",
      "Processing Query 169/1034 (ID: spider_dev_q168_idx168): 'List the name and tonnage ordered by in descending alphaetical order for the names.' (True DB: battle_death)\n"
     ]
    },
    {
     "data": {
      "application/vnd.jupyter.widget-view+json": {
       "model_id": "f4d8cf86beb548a8a9515b8b19d02831",
       "version_major": 2,
       "version_minor": 0
      },
      "text/plain": [
       "  DBs for Q:spider_dev_q168_idx1:   0%|          | 0/166 [00:00<?, ?it/s]"
      ]
     },
     "metadata": {},
     "output_type": "display_data"
    },
    {
     "name": "stdout",
     "output_type": "stream",
     "text": [
      "\n",
      "Processing Query 170/1034 (ID: spider_dev_q169_idx169): 'List the names of the dogs of the rarest breed and the treatment dates of them.' (True DB: dog_kennels)\n"
     ]
    },
    {
     "data": {
      "application/vnd.jupyter.widget-view+json": {
       "model_id": "e8105bec14004de6b9b80e8e79adc9e7",
       "version_major": 2,
       "version_minor": 0
      },
      "text/plain": [
       "  DBs for Q:spider_dev_q169_idx1:   0%|          | 0/166 [00:00<?, ?it/s]"
      ]
     },
     "metadata": {},
     "output_type": "display_data"
    },
    {
     "name": "stdout",
     "output_type": "stream",
     "text": [
      "\n",
      "Processing Query 171/1034 (ID: spider_dev_q170_idx170): 'How many high schoolers are there?' (True DB: network_1)\n"
     ]
    },
    {
     "data": {
      "application/vnd.jupyter.widget-view+json": {
       "model_id": "3ce89190a3fc4257b4c9698d551666d9",
       "version_major": 2,
       "version_minor": 0
      },
      "text/plain": [
       "  DBs for Q:spider_dev_q170_idx1:   0%|          | 0/166 [00:00<?, ?it/s]"
      ]
     },
     "metadata": {},
     "output_type": "display_data"
    },
    {
     "name": "stdout",
     "output_type": "stream",
     "text": [
      "\n",
      "Processing Query 172/1034 (ID: spider_dev_q171_idx171): 'What is the average grade of students who have friends?' (True DB: network_1)\n"
     ]
    },
    {
     "data": {
      "application/vnd.jupyter.widget-view+json": {
       "model_id": "bed791f01bfa43f181f36438bd55a337",
       "version_major": 2,
       "version_minor": 0
      },
      "text/plain": [
       "  DBs for Q:spider_dev_q171_idx1:   0%|          | 0/166 [00:00<?, ?it/s]"
      ]
     },
     "metadata": {},
     "output_type": "display_data"
    },
    {
     "name": "stdout",
     "output_type": "stream",
     "text": [
      "\n",
      "Processing Query 173/1034 (ID: spider_dev_q172_idx172): 'How much does each charge type costs? List both charge type and amount.' (True DB: dog_kennels)\n"
     ]
    },
    {
     "data": {
      "application/vnd.jupyter.widget-view+json": {
       "model_id": "f0df22a63a7f42e1ba34a6c4000c2b4c",
       "version_major": 2,
       "version_minor": 0
      },
      "text/plain": [
       "  DBs for Q:spider_dev_q172_idx1:   0%|          | 0/166 [00:00<?, ?it/s]"
      ]
     },
     "metadata": {},
     "output_type": "display_data"
    },
    {
     "name": "stdout",
     "output_type": "stream",
     "text": [
      "\n",
      "Processing Query 174/1034 (ID: spider_dev_q173_idx173): 'What is the average age for all students who do not own any pets ?' (True DB: pets_1)\n"
     ]
    },
    {
     "data": {
      "application/vnd.jupyter.widget-view+json": {
       "model_id": "59d9e9251fb74fdaa16bc7b51d6dbe5b",
       "version_major": 2,
       "version_minor": 0
      },
      "text/plain": [
       "  DBs for Q:spider_dev_q173_idx1:   0%|          | 0/166 [00:00<?, ?it/s]"
      ]
     },
     "metadata": {},
     "output_type": "display_data"
    },
    {
     "name": "stdout",
     "output_type": "stream",
     "text": [
      "\n",
      "Processing Query 175/1034 (ID: spider_dev_q174_idx174): 'How many conductors are there?' (True DB: orchestra)\n"
     ]
    },
    {
     "data": {
      "application/vnd.jupyter.widget-view+json": {
       "model_id": "1922accd8812436bbfdf107f8881fcc3",
       "version_major": 2,
       "version_minor": 0
      },
      "text/plain": [
       "  DBs for Q:spider_dev_q174_idx1:   0%|          | 0/166 [00:00<?, ?it/s]"
      ]
     },
     "metadata": {},
     "output_type": "display_data"
    },
    {
     "name": "stdout",
     "output_type": "stream",
     "text": [
      "\n",
      "Processing Query 176/1034 (ID: spider_dev_q175_idx175): 'Find the highest rank of losers in all matches.' (True DB: wta_1)\n"
     ]
    },
    {
     "data": {
      "application/vnd.jupyter.widget-view+json": {
       "model_id": "b02ac0e73239477cad7f40a27de89f60",
       "version_major": 2,
       "version_minor": 0
      },
      "text/plain": [
       "  DBs for Q:spider_dev_q175_idx1:   0%|          | 0/166 [00:00<?, ?it/s]"
      ]
     },
     "metadata": {},
     "output_type": "display_data"
    },
    {
     "name": "stdout",
     "output_type": "stream",
     "text": [
      "\n",
      "Processing Query 177/1034 (ID: spider_dev_q176_idx176): 'Show the student IDs and numbers of friends corresponding to each.' (True DB: network_1)\n"
     ]
    },
    {
     "data": {
      "application/vnd.jupyter.widget-view+json": {
       "model_id": "5d3f5d23b5dc4d8aa7c69dfd20ac46d2",
       "version_major": 2,
       "version_minor": 0
      },
      "text/plain": [
       "  DBs for Q:spider_dev_q176_idx1:   0%|          | 0/166 [00:00<?, ?it/s]"
      ]
     },
     "metadata": {},
     "output_type": "display_data"
    },
    {
     "name": "stdout",
     "output_type": "stream",
     "text": [
      "\n",
      "Processing Query 178/1034 (ID: spider_dev_q177_idx177): 'What is the model of the car with the smallest amount of horsepower?' (True DB: car_1)\n"
     ]
    },
    {
     "data": {
      "application/vnd.jupyter.widget-view+json": {
       "model_id": "00a4972185254aeba1f0e4906ba5a29e",
       "version_major": 2,
       "version_minor": 0
      },
      "text/plain": [
       "  DBs for Q:spider_dev_q177_idx1:   0%|          | 0/166 [00:00<?, ?it/s]"
      ]
     },
     "metadata": {},
     "output_type": "display_data"
    },
    {
     "name": "stdout",
     "output_type": "stream",
     "text": [
      "\n",
      "Processing Query 179/1034 (ID: spider_dev_q178_idx178): 'Which regions speak Dutch or English?' (True DB: world_1)\n"
     ]
    },
    {
     "data": {
      "application/vnd.jupyter.widget-view+json": {
       "model_id": "9c21d57eebda497a86c2ae70826e651a",
       "version_major": 2,
       "version_minor": 0
      },
      "text/plain": [
       "  DBs for Q:spider_dev_q178_idx1:   0%|          | 0/166 [00:00<?, ?it/s]"
      ]
     },
     "metadata": {},
     "output_type": "display_data"
    },
    {
     "name": "stdout",
     "output_type": "stream",
     "text": [
      "\n",
      "Processing Query 180/1034 (ID: spider_dev_q179_idx179): 'What are the citizenships that are shared by singers with a birth year before 1945 and after 1955?' (True DB: singer)\n"
     ]
    },
    {
     "data": {
      "application/vnd.jupyter.widget-view+json": {
       "model_id": "21275040b013463e99deaf4cebc358db",
       "version_major": 2,
       "version_minor": 0
      },
      "text/plain": [
       "  DBs for Q:spider_dev_q179_idx1:   0%|          | 0/166 [00:00<?, ?it/s]"
      ]
     },
     "metadata": {},
     "output_type": "display_data"
    },
    {
     "name": "stdout",
     "output_type": "stream",
     "text": [
      "\n",
      "Processing Query 181/1034 (ID: spider_dev_q180_idx180): 'Return the number of flights departing from Aberdeen.' (True DB: flight_2)\n"
     ]
    },
    {
     "data": {
      "application/vnd.jupyter.widget-view+json": {
       "model_id": "2f04b805471f46bf974d40f261e39a8a",
       "version_major": 2,
       "version_minor": 0
      },
      "text/plain": [
       "  DBs for Q:spider_dev_q180_idx1:   0%|          | 0/166 [00:00<?, ?it/s]"
      ]
     },
     "metadata": {},
     "output_type": "display_data"
    },
    {
     "name": "stdout",
     "output_type": "stream",
     "text": [
      "\n",
      "Processing Query 182/1034 (ID: spider_dev_q181_idx181): 'How many concerts are there in year 2014 or 2015?' (True DB: concert_singer)\n"
     ]
    },
    {
     "data": {
      "application/vnd.jupyter.widget-view+json": {
       "model_id": "5c0c69348c4245babc2fc83786b7d6a6",
       "version_major": 2,
       "version_minor": 0
      },
      "text/plain": [
       "  DBs for Q:spider_dev_q181_idx1:   0%|          | 0/166 [00:00<?, ?it/s]"
      ]
     },
     "metadata": {},
     "output_type": "display_data"
    },
    {
     "name": "stdout",
     "output_type": "stream",
     "text": [
      "\n",
      "Processing Query 183/1034 (ID: spider_dev_q182_idx182): 'Return the number of flights.' (True DB: flight_2)\n"
     ]
    },
    {
     "data": {
      "application/vnd.jupyter.widget-view+json": {
       "model_id": "ba1d58a7139348b8a2ab529892e3312f",
       "version_major": 2,
       "version_minor": 0
      },
      "text/plain": [
       "  DBs for Q:spider_dev_q182_idx1:   0%|          | 0/166 [00:00<?, ?it/s]"
      ]
     },
     "metadata": {},
     "output_type": "display_data"
    },
    {
     "name": "stdout",
     "output_type": "stream",
     "text": [
      "\n",
      "Processing Query 184/1034 (ID: spider_dev_q183_idx183): 'What are each owner's first name, last name, and the size of their dog?' (True DB: dog_kennels)\n"
     ]
    },
    {
     "data": {
      "application/vnd.jupyter.widget-view+json": {
       "model_id": "80b860f627b44b2b908ed57587114224",
       "version_major": 2,
       "version_minor": 0
      },
      "text/plain": [
       "  DBs for Q:spider_dev_q183_idx1:   0%|          | 0/166 [00:00<?, ?it/s]"
      ]
     },
     "metadata": {},
     "output_type": "display_data"
    },
    {
     "name": "stdout",
     "output_type": "stream",
     "text": [
      "\n",
      "Processing Query 185/1034 (ID: spider_dev_q184_idx184): 'What is the id and weight of every pet who is older than 1?' (True DB: pets_1)\n"
     ]
    },
    {
     "data": {
      "application/vnd.jupyter.widget-view+json": {
       "model_id": "0d65a495495344ff9df2e882f0e0fc62",
       "version_major": 2,
       "version_minor": 0
      },
      "text/plain": [
       "  DBs for Q:spider_dev_q184_idx1:   0%|          | 0/166 [00:00<?, ?it/s]"
      ]
     },
     "metadata": {},
     "output_type": "display_data"
    },
    {
     "name": "stdout",
     "output_type": "stream",
     "text": [
      "\n",
      "Processing Query 186/1034 (ID: spider_dev_q185_idx185): 'Show the names of high school students and their corresponding number of friends.' (True DB: network_1)\n"
     ]
    },
    {
     "data": {
      "application/vnd.jupyter.widget-view+json": {
       "model_id": "7f5cf6dfde784332bcac02ab123419e6",
       "version_major": 2,
       "version_minor": 0
      },
      "text/plain": [
       "  DBs for Q:spider_dev_q185_idx1:   0%|          | 0/166 [00:00<?, ?it/s]"
      ]
     },
     "metadata": {},
     "output_type": "display_data"
    },
    {
     "name": "stdout",
     "output_type": "stream",
     "text": [
      "\n",
      "Processing Query 187/1034 (ID: spider_dev_q186_idx186): 'What are the names of all cartoons directed by Ben Jones?' (True DB: tvshow)\n"
     ]
    },
    {
     "data": {
      "application/vnd.jupyter.widget-view+json": {
       "model_id": "01daffa4d3404ecb8a108978acd95db2",
       "version_major": 2,
       "version_minor": 0
      },
      "text/plain": [
       "  DBs for Q:spider_dev_q186_idx1:   0%|          | 0/166 [00:00<?, ?it/s]"
      ]
     },
     "metadata": {},
     "output_type": "display_data"
    },
    {
     "name": "stdout",
     "output_type": "stream",
     "text": [
      "\n",
      "Processing Query 188/1034 (ID: spider_dev_q187_idx187): 'find the names of loser and winner who played in the match with greatest number of minutes.' (True DB: wta_1)\n"
     ]
    },
    {
     "data": {
      "application/vnd.jupyter.widget-view+json": {
       "model_id": "c61b5f70b94f428cb9f169b54c14278e",
       "version_major": 2,
       "version_minor": 0
      },
      "text/plain": [
       "  DBs for Q:spider_dev_q187_idx1:   0%|          | 0/166 [00:00<?, ?it/s]"
      ]
     },
     "metadata": {},
     "output_type": "display_data"
    },
    {
     "name": "stdout",
     "output_type": "stream",
     "text": [
      "\n",
      "Processing Query 189/1034 (ID: spider_dev_q188_idx188): 'What are the names and ids of every course with less than 2 sections?' (True DB: student_transcripts_tracking)\n"
     ]
    },
    {
     "data": {
      "application/vnd.jupyter.widget-view+json": {
       "model_id": "f06f0367fbbe4205a7c5a370f6fe3829",
       "version_major": 2,
       "version_minor": 0
      },
      "text/plain": [
       "  DBs for Q:spider_dev_q188_idx1:   0%|          | 0/166 [00:00<?, ?it/s]"
      ]
     },
     "metadata": {},
     "output_type": "display_data"
    },
    {
     "name": "stdout",
     "output_type": "stream",
     "text": [
      "\n",
      "Processing Query 190/1034 (ID: spider_dev_q189_idx189): 'Find the average age of losers and winners of all matches.' (True DB: wta_1)\n"
     ]
    },
    {
     "data": {
      "application/vnd.jupyter.widget-view+json": {
       "model_id": "49063e9046a04169be452750e0575c94",
       "version_major": 2,
       "version_minor": 0
      },
      "text/plain": [
       "  DBs for Q:spider_dev_q189_idx1:   0%|          | 0/166 [00:00<?, ?it/s]"
      ]
     },
     "metadata": {},
     "output_type": "display_data"
    },
    {
     "name": "stdout",
     "output_type": "stream",
     "text": [
      "\n",
      "Processing Query 191/1034 (ID: spider_dev_q190_idx190): 'Show the names of singers that have more than one song.' (True DB: singer)\n"
     ]
    },
    {
     "data": {
      "application/vnd.jupyter.widget-view+json": {
       "model_id": "97900ded2bb3440a85cc7b35563b51bf",
       "version_major": 2,
       "version_minor": 0
      },
      "text/plain": [
       "  DBs for Q:spider_dev_q190_idx1:   0%|          | 0/166 [00:00<?, ?it/s]"
      ]
     },
     "metadata": {},
     "output_type": "display_data"
    },
    {
     "name": "stdout",
     "output_type": "stream",
     "text": [
      "\n",
      "Processing Query 192/1034 (ID: spider_dev_q191_idx191): 'Which semesters do not have any student enrolled? List the semester name.' (True DB: student_transcripts_tracking)\n"
     ]
    },
    {
     "data": {
      "application/vnd.jupyter.widget-view+json": {
       "model_id": "75e74ec5c9004a728a6a38e60b2f75a3",
       "version_major": 2,
       "version_minor": 0
      },
      "text/plain": [
       "  DBs for Q:spider_dev_q191_idx1:   0%|          | 0/166 [00:00<?, ?it/s]"
      ]
     },
     "metadata": {},
     "output_type": "display_data"
    },
    {
     "name": "stdout",
     "output_type": "stream",
     "text": [
      "\n",
      "Processing Query 193/1034 (ID: spider_dev_q192_idx192): 'What are the names of documents that use templates with the code BK?' (True DB: cre_Doc_Template_Mgt)\n"
     ]
    },
    {
     "data": {
      "application/vnd.jupyter.widget-view+json": {
       "model_id": "a2c2fde9f764425bb63e515512ce6b18",
       "version_major": 2,
       "version_minor": 0
      },
      "text/plain": [
       "  DBs for Q:spider_dev_q192_idx1:   0%|          | 0/166 [00:00<?, ?it/s]"
      ]
     },
     "metadata": {},
     "output_type": "display_data"
    },
    {
     "name": "stdout",
     "output_type": "stream",
     "text": [
      "\n",
      "Processing Query 194/1034 (ID: spider_dev_q193_idx193): 'Show the name of teachers aged either 32 or 33?' (True DB: course_teach)\n"
     ]
    },
    {
     "data": {
      "application/vnd.jupyter.widget-view+json": {
       "model_id": "8eee1e597c4242ee8cddca40f45afa36",
       "version_major": 2,
       "version_minor": 0
      },
      "text/plain": [
       "  DBs for Q:spider_dev_q193_idx1:   0%|          | 0/166 [00:00<?, ?it/s]"
      ]
     },
     "metadata": {},
     "output_type": "display_data"
    },
    {
     "name": "stdout",
     "output_type": "stream",
     "text": [
      "\n",
      "Processing Query 195/1034 (ID: spider_dev_q194_idx194): 'List the number of all matches who played in years of 2013 or 2016.' (True DB: wta_1)\n"
     ]
    },
    {
     "data": {
      "application/vnd.jupyter.widget-view+json": {
       "model_id": "613bd6eb7bef4b78a61e7778ba3b66d4",
       "version_major": 2,
       "version_minor": 0
      },
      "text/plain": [
       "  DBs for Q:spider_dev_q194_idx1:   0%|          | 0/166 [00:00<?, ?it/s]"
      ]
     },
     "metadata": {},
     "output_type": "display_data"
    },
    {
     "name": "stdout",
     "output_type": "stream",
     "text": [
      "\n",
      "Processing Query 196/1034 (ID: spider_dev_q195_idx195): 'Find the first name of students who have cat or dog pet.' (True DB: pets_1)\n"
     ]
    },
    {
     "data": {
      "application/vnd.jupyter.widget-view+json": {
       "model_id": "d139c4e57dda4a20bffeed49e9485fc2",
       "version_major": 2,
       "version_minor": 0
      },
      "text/plain": [
       "  DBs for Q:spider_dev_q195_idx1:   0%|          | 0/166 [00:00<?, ?it/s]"
      ]
     },
     "metadata": {},
     "output_type": "display_data"
    },
    {
     "name": "stdout",
     "output_type": "stream",
     "text": [
      "\n",
      "Processing Query 197/1034 (ID: spider_dev_q196_idx196): 'Show all template type codes and number of templates for each.' (True DB: cre_Doc_Template_Mgt)\n"
     ]
    },
    {
     "data": {
      "application/vnd.jupyter.widget-view+json": {
       "model_id": "6f2027d1e2e34c2db157290f0ef092fa",
       "version_major": 2,
       "version_minor": 0
      },
      "text/plain": [
       "  DBs for Q:spider_dev_q196_idx1:   0%|          | 0/166 [00:00<?, ?it/s]"
      ]
     },
     "metadata": {},
     "output_type": "display_data"
    },
    {
     "name": "stdout",
     "output_type": "stream",
     "text": [
      "\n",
      "Processing Query 198/1034 (ID: spider_dev_q197_idx197): 'What are the titles of the cartoons sorted alphabetically?' (True DB: tvshow)\n"
     ]
    },
    {
     "data": {
      "application/vnd.jupyter.widget-view+json": {
       "model_id": "2ad9d1ae47714f7ab926276d39531dfa",
       "version_major": 2,
       "version_minor": 0
      },
      "text/plain": [
       "  DBs for Q:spider_dev_q197_idx1:   0%|          | 0/166 [00:00<?, ?it/s]"
      ]
     },
     "metadata": {},
     "output_type": "display_data"
    },
    {
     "name": "stdout",
     "output_type": "stream",
     "text": [
      "\n",
      "Processing Query 199/1034 (ID: spider_dev_q198_idx198): 'What is the name of the conductor who has conducted the most orchestras?' (True DB: orchestra)\n"
     ]
    },
    {
     "data": {
      "application/vnd.jupyter.widget-view+json": {
       "model_id": "c3a5a15c9da945fe839ddf2b484a7dae",
       "version_major": 2,
       "version_minor": 0
      },
      "text/plain": [
       "  DBs for Q:spider_dev_q198_idx1:   0%|          | 0/166 [00:00<?, ?it/s]"
      ]
     },
     "metadata": {},
     "output_type": "display_data"
    },
    {
     "name": "stdout",
     "output_type": "stream",
     "text": [
      "\n",
      "Processing Query 200/1034 (ID: spider_dev_q199_idx199): 'What is the name of the shop that is hiring the largest number of employees?' (True DB: employee_hire_evaluation)\n"
     ]
    },
    {
     "data": {
      "application/vnd.jupyter.widget-view+json": {
       "model_id": "94e9bfedc3014765887334629a2919b1",
       "version_major": 2,
       "version_minor": 0
      },
      "text/plain": [
       "  DBs for Q:spider_dev_q199_idx1:   0%|          | 0/166 [00:00<?, ?it/s]"
      ]
     },
     "metadata": {},
     "output_type": "display_data"
    },
    {
     "name": "stdout",
     "output_type": "stream",
     "text": [
      "\n",
      "Processing Query 201/1034 (ID: spider_dev_q200_idx200): 'Show all the grades of the high schoolers.' (True DB: network_1)\n"
     ]
    },
    {
     "data": {
      "application/vnd.jupyter.widget-view+json": {
       "model_id": "11775bdc91ee432b9650e1d03c69436c",
       "version_major": 2,
       "version_minor": 0
      },
      "text/plain": [
       "  DBs for Q:spider_dev_q200_idx2:   0%|          | 0/166 [00:00<?, ?it/s]"
      ]
     },
     "metadata": {},
     "output_type": "display_data"
    },
    {
     "name": "stdout",
     "output_type": "stream",
     "text": [
      "\n",
      "Processing Query 202/1034 (ID: spider_dev_q201_idx201): 'What is the number of distinct continents where Chinese is spoken?' (True DB: world_1)\n"
     ]
    },
    {
     "data": {
      "application/vnd.jupyter.widget-view+json": {
       "model_id": "bd5b1f5adaa84fc98a29a7dcde0cd21b",
       "version_major": 2,
       "version_minor": 0
      },
      "text/plain": [
       "  DBs for Q:spider_dev_q201_idx2:   0%|          | 0/166 [00:00<?, ?it/s]"
      ]
     },
     "metadata": {},
     "output_type": "display_data"
    },
    {
     "name": "stdout",
     "output_type": "stream",
     "text": [
      "\n",
      "Processing Query 203/1034 (ID: spider_dev_q202_idx202): 'What is Weekly Rank of TV series with Episode \"A Love of a Lifetime\"?' (True DB: tvshow)\n"
     ]
    },
    {
     "data": {
      "application/vnd.jupyter.widget-view+json": {
       "model_id": "b6f500c0f7084c51b0d06673c4653140",
       "version_major": 2,
       "version_minor": 0
      },
      "text/plain": [
       "  DBs for Q:spider_dev_q202_idx2:   0%|          | 0/166 [00:00<?, ?it/s]"
      ]
     },
     "metadata": {},
     "output_type": "display_data"
    },
    {
     "name": "stdout",
     "output_type": "stream",
     "text": [
      "\n",
      "Processing Query 204/1034 (ID: spider_dev_q203_idx203): 'Find the name of the makers that produced some cars in the year of 1970?' (True DB: car_1)\n"
     ]
    },
    {
     "data": {
      "application/vnd.jupyter.widget-view+json": {
       "model_id": "f8c0aab5a0784d16be937d174980bb95",
       "version_major": 2,
       "version_minor": 0
      },
      "text/plain": [
       "  DBs for Q:spider_dev_q203_idx2:   0%|          | 0/166 [00:00<?, ?it/s]"
      ]
     },
     "metadata": {},
     "output_type": "display_data"
    },
    {
     "name": "stdout",
     "output_type": "stream",
     "text": [
      "\n",
      "Processing Query 205/1034 (ID: spider_dev_q204_idx204): 'What are the contestant numbers and names of the contestants who had at least two votes?' (True DB: voter_1)\n"
     ]
    },
    {
     "data": {
      "application/vnd.jupyter.widget-view+json": {
       "model_id": "75f7f08ac4924bc6ba1241d9ffe01fd2",
       "version_major": 2,
       "version_minor": 0
      },
      "text/plain": [
       "  DBs for Q:spider_dev_q204_idx2:   0%|          | 0/166 [00:00<?, ?it/s]"
      ]
     },
     "metadata": {},
     "output_type": "display_data"
    },
    {
     "name": "stdout",
     "output_type": "stream",
     "text": [
      "\n",
      "Processing Query 206/1034 (ID: spider_dev_q205_idx205): 'For each shop, return the number of employees working there and the name of the shop.' (True DB: employee_hire_evaluation)\n"
     ]
    },
    {
     "data": {
      "application/vnd.jupyter.widget-view+json": {
       "model_id": "e10c7a5d46e64b918476408dc8c1c03d",
       "version_major": 2,
       "version_minor": 0
      },
      "text/plain": [
       "  DBs for Q:spider_dev_q205_idx2:   0%|          | 0/166 [00:00<?, ?it/s]"
      ]
     },
     "metadata": {},
     "output_type": "display_data"
    },
    {
     "name": "stdout",
     "output_type": "stream",
     "text": [
      "\n",
      "Processing Query 207/1034 (ID: spider_dev_q206_idx206): 'What are the ids, names, and descriptions for all documents?' (True DB: cre_Doc_Template_Mgt)\n"
     ]
    },
    {
     "data": {
      "application/vnd.jupyter.widget-view+json": {
       "model_id": "f1ba4ad17f1241bb9eb0d4b51d7c7fd3",
       "version_major": 2,
       "version_minor": 0
      },
      "text/plain": [
       "  DBs for Q:spider_dev_q206_idx2:   0%|          | 0/166 [00:00<?, ?it/s]"
      ]
     },
     "metadata": {},
     "output_type": "display_data"
    },
    {
     "name": "stdout",
     "output_type": "stream",
     "text": [
      "\n",
      "Processing Query 208/1034 (ID: spider_dev_q207_idx207): 'What is the most common singer citizenship ?' (True DB: singer)\n"
     ]
    },
    {
     "data": {
      "application/vnd.jupyter.widget-view+json": {
       "model_id": "b1de58ee68664dd093664efdb97bc5d3",
       "version_major": 2,
       "version_minor": 0
      },
      "text/plain": [
       "  DBs for Q:spider_dev_q207_idx2:   0%|          | 0/166 [00:00<?, ?it/s]"
      ]
     },
     "metadata": {},
     "output_type": "display_data"
    },
    {
     "name": "stdout",
     "output_type": "stream",
     "text": [
      "\n",
      "Processing Query 209/1034 (ID: spider_dev_q208_idx208): 'List the names and birth dates of people in ascending alphabetical order of name.' (True DB: poker_player)\n"
     ]
    },
    {
     "data": {
      "application/vnd.jupyter.widget-view+json": {
       "model_id": "8ea2a292002d4d88a2775d0282ff9ca3",
       "version_major": 2,
       "version_minor": 0
      },
      "text/plain": [
       "  DBs for Q:spider_dev_q208_idx2:   0%|          | 0/166 [00:00<?, ?it/s]"
      ]
     },
     "metadata": {},
     "output_type": "display_data"
    },
    {
     "name": "stdout",
     "output_type": "stream",
     "text": [
      "\n",
      "Processing Query 210/1034 (ID: spider_dev_q209_idx209): 'Find the id, last name and cell phone of the professionals who live in the state of Indiana or have performed more than two treatments.' (True DB: dog_kennels)\n"
     ]
    },
    {
     "data": {
      "application/vnd.jupyter.widget-view+json": {
       "model_id": "f112019b92384d0a917f0ab784991a72",
       "version_major": 2,
       "version_minor": 0
      },
      "text/plain": [
       "  DBs for Q:spider_dev_q209_idx2:   0%|          | 0/166 [00:00<?, ?it/s]"
      ]
     },
     "metadata": {},
     "output_type": "display_data"
    },
    {
     "name": "stdout",
     "output_type": "stream",
     "text": [
      "\n",
      "Processing Query 211/1034 (ID: spider_dev_q210_idx210): 'Return the money rank of the player with the greatest earnings.' (True DB: poker_player)\n"
     ]
    },
    {
     "data": {
      "application/vnd.jupyter.widget-view+json": {
       "model_id": "0d33c55e8c424c8b8db83ac1524a0393",
       "version_major": 2,
       "version_minor": 0
      },
      "text/plain": [
       "  DBs for Q:spider_dev_q210_idx2:   0%|          | 0/166 [00:00<?, ?it/s]"
      ]
     },
     "metadata": {},
     "output_type": "display_data"
    },
    {
     "name": "stdout",
     "output_type": "stream",
     "text": [
      "\n",
      "Processing Query 212/1034 (ID: spider_dev_q211_idx211): 'Which makers designed more than 3 car models? List full name and the id.' (True DB: car_1)\n"
     ]
    },
    {
     "data": {
      "application/vnd.jupyter.widget-view+json": {
       "model_id": "93c00d26c1084c5a98ace384be446846",
       "version_major": 2,
       "version_minor": 0
      },
      "text/plain": [
       "  DBs for Q:spider_dev_q211_idx2:   0%|          | 0/166 [00:00<?, ?it/s]"
      ]
     },
     "metadata": {},
     "output_type": "display_data"
    },
    {
     "name": "stdout",
     "output_type": "stream",
     "text": [
      "\n",
      "Processing Query 213/1034 (ID: spider_dev_q212_idx212): 'Which continent speaks the most languages?' (True DB: world_1)\n"
     ]
    },
    {
     "data": {
      "application/vnd.jupyter.widget-view+json": {
       "model_id": "3388621c6e8a48b29fe7db43291d2da4",
       "version_major": 2,
       "version_minor": 0
      },
      "text/plain": [
       "  DBs for Q:spider_dev_q212_idx2:   0%|          | 0/166 [00:00<?, ?it/s]"
      ]
     },
     "metadata": {},
     "output_type": "display_data"
    },
    {
     "name": "stdout",
     "output_type": "stream",
     "text": [
      "\n",
      "Processing Query 214/1034 (ID: spider_dev_q213_idx213): 'What is the average number of injuries caused each time?' (True DB: battle_death)\n"
     ]
    },
    {
     "data": {
      "application/vnd.jupyter.widget-view+json": {
       "model_id": "954d7371968546adbce1a6a2005203ad",
       "version_major": 2,
       "version_minor": 0
      },
      "text/plain": [
       "  DBs for Q:spider_dev_q213_idx2:   0%|          | 0/166 [00:00<?, ?it/s]"
      ]
     },
     "metadata": {},
     "output_type": "display_data"
    },
    {
     "name": "stdout",
     "output_type": "stream",
     "text": [
      "\n",
      "Processing Query 215/1034 (ID: spider_dev_q214_idx214): 'What are the different template type codes?' (True DB: cre_Doc_Template_Mgt)\n"
     ]
    },
    {
     "data": {
      "application/vnd.jupyter.widget-view+json": {
       "model_id": "35d700abb3904e2d914cf8a9acca8cf2",
       "version_major": 2,
       "version_minor": 0
      },
      "text/plain": [
       "  DBs for Q:spider_dev_q214_idx2:   0%|          | 0/166 [00:00<?, ?it/s]"
      ]
     },
     "metadata": {},
     "output_type": "display_data"
    },
    {
     "name": "stdout",
     "output_type": "stream",
     "text": [
      "\n",
      "Processing Query 216/1034 (ID: spider_dev_q215_idx215): 'Find the name of the employee who got the highest one time bonus.' (True DB: employee_hire_evaluation)\n"
     ]
    },
    {
     "data": {
      "application/vnd.jupyter.widget-view+json": {
       "model_id": "3b3e24f2854f4391893e67ac027d0490",
       "version_major": 2,
       "version_minor": 0
      },
      "text/plain": [
       "  DBs for Q:spider_dev_q215_idx2:   0%|          | 0/166 [00:00<?, ?it/s]"
      ]
     },
     "metadata": {},
     "output_type": "display_data"
    },
    {
     "name": "stdout",
     "output_type": "stream",
     "text": [
      "\n",
      "Processing Query 217/1034 (ID: spider_dev_q216_idx216): 'What is the id and type code for the template used by the most documents?' (True DB: cre_Doc_Template_Mgt)\n"
     ]
    },
    {
     "data": {
      "application/vnd.jupyter.widget-view+json": {
       "model_id": "11f143091010440e855a02966fbcbc54",
       "version_major": 2,
       "version_minor": 0
      },
      "text/plain": [
       "  DBs for Q:spider_dev_q216_idx2:   0%|          | 0/166 [00:00<?, ?it/s]"
      ]
     },
     "metadata": {},
     "output_type": "display_data"
    },
    {
     "name": "stdout",
     "output_type": "stream",
     "text": [
      "\n",
      "Processing Query 218/1034 (ID: spider_dev_q217_idx217): 'Find the major and age of students who do not have a cat pet.' (True DB: pets_1)\n"
     ]
    },
    {
     "data": {
      "application/vnd.jupyter.widget-view+json": {
       "model_id": "5e5f370ad13a49f99d6caa67613b5e48",
       "version_major": 2,
       "version_minor": 0
      },
      "text/plain": [
       "  DBs for Q:spider_dev_q217_idx2:   0%|          | 0/166 [00:00<?, ?it/s]"
      ]
     },
     "metadata": {},
     "output_type": "display_data"
    },
    {
     "name": "stdout",
     "output_type": "stream",
     "text": [
      "\n",
      "Processing Query 219/1034 (ID: spider_dev_q218_idx218): 'Find the name of airports which do not have any flight in and out.' (True DB: flight_2)\n"
     ]
    },
    {
     "data": {
      "application/vnd.jupyter.widget-view+json": {
       "model_id": "eacf31aa2af34a0a92a15b5929282dd1",
       "version_major": 2,
       "version_minor": 0
      },
      "text/plain": [
       "  DBs for Q:spider_dev_q218_idx2:   0%|          | 0/166 [00:00<?, ?it/s]"
      ]
     },
     "metadata": {},
     "output_type": "display_data"
    },
    {
     "name": "stdout",
     "output_type": "stream",
     "text": [
      "\n",
      "Processing Query 220/1034 (ID: spider_dev_q219_idx219): 'Count the number of dogs that went through a treatment.' (True DB: dog_kennels)\n"
     ]
    },
    {
     "data": {
      "application/vnd.jupyter.widget-view+json": {
       "model_id": "008c2e0d254b49f59ea91a0b16501adc",
       "version_major": 2,
       "version_minor": 0
      },
      "text/plain": [
       "  DBs for Q:spider_dev_q219_idx2:   0%|          | 0/166 [00:00<?, ?it/s]"
      ]
     },
     "metadata": {},
     "output_type": "display_data"
    },
    {
     "name": "stdout",
     "output_type": "stream",
     "text": [
      "\n",
      "Processing Query 221/1034 (ID: spider_dev_q220_idx220): 'How many airlines do we have?' (True DB: flight_2)\n"
     ]
    },
    {
     "data": {
      "application/vnd.jupyter.widget-view+json": {
       "model_id": "1536ac19f0d144c682ef400d0a0d2562",
       "version_major": 2,
       "version_minor": 0
      },
      "text/plain": [
       "  DBs for Q:spider_dev_q220_idx2:   0%|          | 0/166 [00:00<?, ?it/s]"
      ]
     },
     "metadata": {},
     "output_type": "display_data"
    },
    {
     "name": "stdout",
     "output_type": "stream",
     "text": [
      "\n",
      "Processing Query 222/1034 (ID: spider_dev_q221_idx221): 'What is the continent name which Anguilla belongs to?' (True DB: world_1)\n"
     ]
    },
    {
     "data": {
      "application/vnd.jupyter.widget-view+json": {
       "model_id": "ada2a1d3d2554963a14c8cdb48ffecaf",
       "version_major": 2,
       "version_minor": 0
      },
      "text/plain": [
       "  DBs for Q:spider_dev_q221_idx2:   0%|          | 0/166 [00:00<?, ?it/s]"
      ]
     },
     "metadata": {},
     "output_type": "display_data"
    },
    {
     "name": "stdout",
     "output_type": "stream",
     "text": [
      "\n",
      "Processing Query 223/1034 (ID: spider_dev_q222_idx222): 'What is the number of car models that are produced by each maker and what is the id and full name of each maker?' (True DB: car_1)\n"
     ]
    },
    {
     "data": {
      "application/vnd.jupyter.widget-view+json": {
       "model_id": "66382580817c49d3a86a9f32ee445fa7",
       "version_major": 2,
       "version_minor": 0
      },
      "text/plain": [
       "  DBs for Q:spider_dev_q222_idx2:   0%|          | 0/166 [00:00<?, ?it/s]"
      ]
     },
     "metadata": {},
     "output_type": "display_data"
    },
    {
     "name": "stdout",
     "output_type": "stream",
     "text": [
      "\n",
      "Processing Query 224/1034 (ID: spider_dev_q223_idx223): 'Show me the cost of the most recently performed treatment.' (True DB: dog_kennels)\n"
     ]
    },
    {
     "data": {
      "application/vnd.jupyter.widget-view+json": {
       "model_id": "25a377c822f04ee59f46684902c0ae45",
       "version_major": 2,
       "version_minor": 0
      },
      "text/plain": [
       "  DBs for Q:spider_dev_q223_idx2:   0%|          | 0/166 [00:00<?, ?it/s]"
      ]
     },
     "metadata": {},
     "output_type": "display_data"
    },
    {
     "name": "stdout",
     "output_type": "stream",
     "text": [
      "\n",
      "Processing Query 225/1034 (ID: spider_dev_q224_idx224): 'How many TV Channel using language English?' (True DB: tvshow)\n"
     ]
    },
    {
     "data": {
      "application/vnd.jupyter.widget-view+json": {
       "model_id": "d3d478c4fe8e4197aecd4b0ba347dcc9",
       "version_major": 2,
       "version_minor": 0
      },
      "text/plain": [
       "  DBs for Q:spider_dev_q224_idx2:   0%|          | 0/166 [00:00<?, ?it/s]"
      ]
     },
     "metadata": {},
     "output_type": "display_data"
    },
    {
     "name": "stdout",
     "output_type": "stream",
     "text": [
      "\n",
      "Processing Query 226/1034 (ID: spider_dev_q225_idx225): 'Show the citizenship shared by singers with birth year before 1945 and after 1955.' (True DB: singer)\n"
     ]
    },
    {
     "data": {
      "application/vnd.jupyter.widget-view+json": {
       "model_id": "253ecad2999540ae94961dc898346019",
       "version_major": 2,
       "version_minor": 0
      },
      "text/plain": [
       "  DBs for Q:spider_dev_q225_idx2:   0%|          | 0/166 [00:00<?, ?it/s]"
      ]
     },
     "metadata": {},
     "output_type": "display_data"
    },
    {
     "name": "stdout",
     "output_type": "stream",
     "text": [
      "\n",
      "Processing Query 227/1034 (ID: spider_dev_q226_idx226): 'What are the names and id of courses having at most 2 sections?' (True DB: student_transcripts_tracking)\n"
     ]
    },
    {
     "data": {
      "application/vnd.jupyter.widget-view+json": {
       "model_id": "b61493e6197e4ccc987e30b311a6bcc7",
       "version_major": 2,
       "version_minor": 0
      },
      "text/plain": [
       "  DBs for Q:spider_dev_q226_idx2:   0%|          | 0/166 [00:00<?, ?it/s]"
      ]
     },
     "metadata": {},
     "output_type": "display_data"
    },
    {
     "name": "stdout",
     "output_type": "stream",
     "text": [
      "\n",
      "Processing Query 228/1034 (ID: spider_dev_q227_idx227): 'What are names of countries with the top 3 largest population?' (True DB: world_1)\n"
     ]
    },
    {
     "data": {
      "application/vnd.jupyter.widget-view+json": {
       "model_id": "878ea01fe2b745f5a0cc23989f507f58",
       "version_major": 2,
       "version_minor": 0
      },
      "text/plain": [
       "  DBs for Q:spider_dev_q227_idx2:   0%|          | 0/166 [00:00<?, ?it/s]"
      ]
     },
     "metadata": {},
     "output_type": "display_data"
    },
    {
     "name": "stdout",
     "output_type": "stream",
     "text": [
      "\n",
      "Processing Query 229/1034 (ID: spider_dev_q228_idx228): 'List the first name and birth date of all players from the country with code USA.' (True DB: wta_1)\n"
     ]
    },
    {
     "data": {
      "application/vnd.jupyter.widget-view+json": {
       "model_id": "047a933cc0e749158c6a9f4c3fb2b039",
       "version_major": 2,
       "version_minor": 0
      },
      "text/plain": [
       "  DBs for Q:spider_dev_q228_idx2:   0%|          | 0/166 [00:00<?, ?it/s]"
      ]
     },
     "metadata": {},
     "output_type": "display_data"
    },
    {
     "name": "stdout",
     "output_type": "stream",
     "text": [
      "\n",
      "Processing Query 230/1034 (ID: spider_dev_q229_idx229): 'What are the names of the singers and number of concerts for each person?' (True DB: concert_singer)\n"
     ]
    },
    {
     "data": {
      "application/vnd.jupyter.widget-view+json": {
       "model_id": "fb85a974b8eb41c2aff559b05829daf1",
       "version_major": 2,
       "version_minor": 0
      },
      "text/plain": [
       "  DBs for Q:spider_dev_q229_idx2:   0%|          | 0/166 [00:00<?, ?it/s]"
      ]
     },
     "metadata": {},
     "output_type": "display_data"
    },
    {
     "name": "stdout",
     "output_type": "stream",
     "text": [
      "\n",
      "Processing Query 231/1034 (ID: spider_dev_q230_idx230): 'Find the states where both owners and professionals live.' (True DB: dog_kennels)\n"
     ]
    },
    {
     "data": {
      "application/vnd.jupyter.widget-view+json": {
       "model_id": "cf79f3bdfe9a4f22b5200816d9f37fcb",
       "version_major": 2,
       "version_minor": 0
      },
      "text/plain": [
       "  DBs for Q:spider_dev_q230_idx2:   0%|          | 0/166 [00:00<?, ?it/s]"
      ]
     },
     "metadata": {},
     "output_type": "display_data"
    },
    {
     "name": "stdout",
     "output_type": "stream",
     "text": [
      "\n",
      "Processing Query 232/1034 (ID: spider_dev_q231_idx231): 'What is the name of the visitor who visited both a museum opened before 2009 and a museum opened after 2011?' (True DB: museum_visit)\n"
     ]
    },
    {
     "data": {
      "application/vnd.jupyter.widget-view+json": {
       "model_id": "aa58ce5fef1f49d6890157d5d267d3ef",
       "version_major": 2,
       "version_minor": 0
      },
      "text/plain": [
       "  DBs for Q:spider_dev_q231_idx2:   0%|          | 0/166 [00:00<?, ?it/s]"
      ]
     },
     "metadata": {},
     "output_type": "display_data"
    },
    {
     "name": "stdout",
     "output_type": "stream",
     "text": [
      "\n",
      "Processing Query 233/1034 (ID: spider_dev_q232_idx232): 'What are airport names at City 'Aberdeen'?' (True DB: flight_2)\n"
     ]
    },
    {
     "data": {
      "application/vnd.jupyter.widget-view+json": {
       "model_id": "450d7750e5fb4416843055ddc87b7b7d",
       "version_major": 2,
       "version_minor": 0
      },
      "text/plain": [
       "  DBs for Q:spider_dev_q232_idx2:   0%|          | 0/166 [00:00<?, ?it/s]"
      ]
     },
     "metadata": {},
     "output_type": "display_data"
    },
    {
     "name": "stdout",
     "output_type": "stream",
     "text": [
      "\n",
      "Processing Query 234/1034 (ID: spider_dev_q233_idx233): 'What are all the makers and models?' (True DB: car_1)\n"
     ]
    },
    {
     "data": {
      "application/vnd.jupyter.widget-view+json": {
       "model_id": "bbbb5f900e2b4df8bd3c20c863ccebcc",
       "version_major": 2,
       "version_minor": 0
      },
      "text/plain": [
       "  DBs for Q:spider_dev_q233_idx2:   0%|          | 0/166 [00:00<?, ?it/s]"
      ]
     },
     "metadata": {},
     "output_type": "display_data"
    },
    {
     "name": "stdout",
     "output_type": "stream",
     "text": [
      "\n",
      "Processing Query 235/1034 (ID: spider_dev_q234_idx234): 'What is the maximum number of times that a course shows up in different transcripts and what is that course's enrollment id?' (True DB: student_transcripts_tracking)\n"
     ]
    },
    {
     "data": {
      "application/vnd.jupyter.widget-view+json": {
       "model_id": "3d335dc2a06a405fa217af70c328d0a0",
       "version_major": 2,
       "version_minor": 0
      },
      "text/plain": [
       "  DBs for Q:spider_dev_q234_idx2:   0%|          | 0/166 [00:00<?, ?it/s]"
      ]
     },
     "metadata": {},
     "output_type": "display_data"
    },
    {
     "name": "stdout",
     "output_type": "stream",
     "text": [
      "\n",
      "Processing Query 236/1034 (ID: spider_dev_q235_idx235): 'List document IDs, document names, and document descriptions for all documents.' (True DB: cre_Doc_Template_Mgt)\n"
     ]
    },
    {
     "data": {
      "application/vnd.jupyter.widget-view+json": {
       "model_id": "43a98a05420847ecaec8839e53a9226e",
       "version_major": 2,
       "version_minor": 0
      },
      "text/plain": [
       "  DBs for Q:spider_dev_q235_idx2:   0%|          | 0/166 [00:00<?, ?it/s]"
      ]
     },
     "metadata": {},
     "output_type": "display_data"
    },
    {
     "name": "stdout",
     "output_type": "stream",
     "text": [
      "\n",
      "Processing Query 237/1034 (ID: spider_dev_q236_idx236): 'What are the names of high schoolers who have a grade of over 5 and have 2 or more friends?' (True DB: network_1)\n"
     ]
    },
    {
     "data": {
      "application/vnd.jupyter.widget-view+json": {
       "model_id": "228c3778e7814ed4a5516c2b359d64c0",
       "version_major": 2,
       "version_minor": 0
      },
      "text/plain": [
       "  DBs for Q:spider_dev_q236_idx2:   0%|          | 0/166 [00:00<?, ?it/s]"
      ]
     },
     "metadata": {},
     "output_type": "display_data"
    },
    {
     "name": "stdout",
     "output_type": "stream",
     "text": [
      "\n",
      "Processing Query 238/1034 (ID: spider_dev_q237_idx237): 'What is the number of employees from each city?' (True DB: employee_hire_evaluation)\n"
     ]
    },
    {
     "data": {
      "application/vnd.jupyter.widget-view+json": {
       "model_id": "d4a86fb97a3e472e99bcd40b5ae73ec5",
       "version_major": 2,
       "version_minor": 0
      },
      "text/plain": [
       "  DBs for Q:spider_dev_q237_idx2:   0%|          | 0/166 [00:00<?, ?it/s]"
      ]
     },
     "metadata": {},
     "output_type": "display_data"
    },
    {
     "name": "stdout",
     "output_type": "stream",
     "text": [
      "\n",
      "Processing Query 239/1034 (ID: spider_dev_q238_idx238): 'List names of conductors in descending order of years of work.' (True DB: orchestra)\n"
     ]
    },
    {
     "data": {
      "application/vnd.jupyter.widget-view+json": {
       "model_id": "8b95456556a94fb0885d3e07a71e8f37",
       "version_major": 2,
       "version_minor": 0
      },
      "text/plain": [
       "  DBs for Q:spider_dev_q238_idx2:   0%|          | 0/166 [00:00<?, ?it/s]"
      ]
     },
     "metadata": {},
     "output_type": "display_data"
    },
    {
     "name": "stdout",
     "output_type": "stream",
     "text": [
      "\n",
      "Processing Query 240/1034 (ID: spider_dev_q239_idx239): 'How many 'United Airlines' flights depart from Airport 'AHD'?' (True DB: flight_2)\n"
     ]
    },
    {
     "data": {
      "application/vnd.jupyter.widget-view+json": {
       "model_id": "c3c4c26eb51f46b18025bf199fb6bd08",
       "version_major": 2,
       "version_minor": 0
      },
      "text/plain": [
       "  DBs for Q:spider_dev_q239_idx2:   0%|          | 0/166 [00:00<?, ?it/s]"
      ]
     },
     "metadata": {},
     "output_type": "display_data"
    },
    {
     "name": "stdout",
     "output_type": "stream",
     "text": [
      "\n",
      "Processing Query 241/1034 (ID: spider_dev_q240_idx240): 'Which airlines have departing flights from both APG and CVO airports?' (True DB: flight_2)\n"
     ]
    },
    {
     "data": {
      "application/vnd.jupyter.widget-view+json": {
       "model_id": "50f84fe4a07e4f47ba8ae805bcaa332f",
       "version_major": 2,
       "version_minor": 0
      },
      "text/plain": [
       "  DBs for Q:spider_dev_q240_idx2:   0%|          | 0/166 [00:00<?, ?it/s]"
      ]
     },
     "metadata": {},
     "output_type": "display_data"
    },
    {
     "name": "stdout",
     "output_type": "stream",
     "text": [
      "\n",
      "Processing Query 242/1034 (ID: spider_dev_q241_idx241): 'How many shops are there in each location?' (True DB: employee_hire_evaluation)\n"
     ]
    },
    {
     "data": {
      "application/vnd.jupyter.widget-view+json": {
       "model_id": "3318e57e11904c7cbafacb71ff262d80",
       "version_major": 2,
       "version_minor": 0
      },
      "text/plain": [
       "  DBs for Q:spider_dev_q241_idx2:   0%|          | 0/166 [00:00<?, ?it/s]"
      ]
     },
     "metadata": {},
     "output_type": "display_data"
    },
    {
     "name": "stdout",
     "output_type": "stream",
     "text": [
      "\n",
      "Processing Query 243/1034 (ID: spider_dev_q242_idx242): 'What are the names , themes , and number of singers for every concert ?' (True DB: concert_singer)\n"
     ]
    },
    {
     "data": {
      "application/vnd.jupyter.widget-view+json": {
       "model_id": "32c8c06b51ed4161b75d933a61e02869",
       "version_major": 2,
       "version_minor": 0
      },
      "text/plain": [
       "  DBs for Q:spider_dev_q242_idx2:   0%|          | 0/166 [00:00<?, ?it/s]"
      ]
     },
     "metadata": {},
     "output_type": "display_data"
    },
    {
     "name": "stdout",
     "output_type": "stream",
     "text": [
      "\n",
      "Processing Query 244/1034 (ID: spider_dev_q243_idx243): 'Of all the contestants who got voted, what is the contestant number and name of the contestant who got least votes?' (True DB: voter_1)\n"
     ]
    },
    {
     "data": {
      "application/vnd.jupyter.widget-view+json": {
       "model_id": "c96be29c413842d897e406d0a0f3e05b",
       "version_major": 2,
       "version_minor": 0
      },
      "text/plain": [
       "  DBs for Q:spider_dev_q243_idx2:   0%|          | 0/166 [00:00<?, ?it/s]"
      ]
     },
     "metadata": {},
     "output_type": "display_data"
    },
    {
     "name": "stdout",
     "output_type": "stream",
     "text": [
      "\n",
      "Processing Query 245/1034 (ID: spider_dev_q244_idx244): 'What is the date and id of the transcript with at least 2 courses listed?' (True DB: student_transcripts_tracking)\n"
     ]
    },
    {
     "data": {
      "application/vnd.jupyter.widget-view+json": {
       "model_id": "f79711e9e3d848208e2d838b4bda231d",
       "version_major": 2,
       "version_minor": 0
      },
      "text/plain": [
       "  DBs for Q:spider_dev_q244_idx2:   0%|          | 0/166 [00:00<?, ?it/s]"
      ]
     },
     "metadata": {},
     "output_type": "display_data"
    },
    {
     "name": "stdout",
     "output_type": "stream",
     "text": [
      "\n",
      "Processing Query 246/1034 (ID: spider_dev_q245_idx245): 'Give the names of nations that speak both English and French.' (True DB: world_1)\n"
     ]
    },
    {
     "data": {
      "application/vnd.jupyter.widget-view+json": {
       "model_id": "846a28592f454e69906b2c49eafc2a6d",
       "version_major": 2,
       "version_minor": 0
      },
      "text/plain": [
       "  DBs for Q:spider_dev_q245_idx2:   0%|          | 0/166 [00:00<?, ?it/s]"
      ]
     },
     "metadata": {},
     "output_type": "display_data"
    },
    {
     "name": "stdout",
     "output_type": "stream",
     "text": [
      "\n",
      "Processing Query 247/1034 (ID: spider_dev_q246_idx246): 'Count the number of countries in Asia.' (True DB: world_1)\n"
     ]
    },
    {
     "data": {
      "application/vnd.jupyter.widget-view+json": {
       "model_id": "62c10f8f3a0449d286f92c71fe6fb333",
       "version_major": 2,
       "version_minor": 0
      },
      "text/plain": [
       "  DBs for Q:spider_dev_q246_idx2:   0%|          | 0/166 [00:00<?, ?it/s]"
      ]
     },
     "metadata": {},
     "output_type": "display_data"
    },
    {
     "name": "stdout",
     "output_type": "stream",
     "text": [
      "\n",
      "Processing Query 248/1034 (ID: spider_dev_q247_idx247): 'Find all airlines that have flights from both airports 'APG' and 'CVO'.' (True DB: flight_2)\n"
     ]
    },
    {
     "data": {
      "application/vnd.jupyter.widget-view+json": {
       "model_id": "fb63f13d9486477fa33f796ca9a6ed57",
       "version_major": 2,
       "version_minor": 0
      },
      "text/plain": [
       "  DBs for Q:spider_dev_q247_idx2:   0%|          | 0/166 [00:00<?, ?it/s]"
      ]
     },
     "metadata": {},
     "output_type": "display_data"
    },
    {
     "name": "stdout",
     "output_type": "stream",
     "text": [
      "\n",
      "Processing Query 249/1034 (ID: spider_dev_q248_idx248): 'Find the abbreviation and country of the airline that has fewest number of flights?' (True DB: flight_2)\n"
     ]
    },
    {
     "data": {
      "application/vnd.jupyter.widget-view+json": {
       "model_id": "c7bc2e92b5164310b5e0d8eeef7a9197",
       "version_major": 2,
       "version_minor": 0
      },
      "text/plain": [
       "  DBs for Q:spider_dev_q248_idx2:   0%|          | 0/166 [00:00<?, ?it/s]"
      ]
     },
     "metadata": {},
     "output_type": "display_data"
    },
    {
     "name": "stdout",
     "output_type": "stream",
     "text": [
      "\n",
      "Processing Query 250/1034 (ID: spider_dev_q249_idx249): 'Show the hometowns shared by at least two teachers.' (True DB: course_teach)\n"
     ]
    },
    {
     "data": {
      "application/vnd.jupyter.widget-view+json": {
       "model_id": "33b2f1318ff84a1fa7dd7304796f1610",
       "version_major": 2,
       "version_minor": 0
      },
      "text/plain": [
       "  DBs for Q:spider_dev_q249_idx2:   0%|          | 0/166 [00:00<?, ?it/s]"
      ]
     },
     "metadata": {},
     "output_type": "display_data"
    },
    {
     "name": "stdout",
     "output_type": "stream",
     "text": [
      "\n",
      "Processing Query 251/1034 (ID: spider_dev_q250_idx250): 'What are the details for the paragraph that includes the text 'Korea ' ?' (True DB: cre_Doc_Template_Mgt)\n"
     ]
    },
    {
     "data": {
      "application/vnd.jupyter.widget-view+json": {
       "model_id": "4eba3b26cdc34abd997a117d90b6fcc2",
       "version_major": 2,
       "version_minor": 0
      },
      "text/plain": [
       "  DBs for Q:spider_dev_q250_idx2:   0%|          | 0/166 [00:00<?, ?it/s]"
      ]
     },
     "metadata": {},
     "output_type": "display_data"
    },
    {
     "name": "stdout",
     "output_type": "stream",
     "text": [
      "\n",
      "Processing Query 252/1034 (ID: spider_dev_q251_idx251): 'Count the number of likes for each student id.' (True DB: network_1)\n"
     ]
    },
    {
     "data": {
      "application/vnd.jupyter.widget-view+json": {
       "model_id": "007f595809d0401ab48d1900bb5c7808",
       "version_major": 2,
       "version_minor": 0
      },
      "text/plain": [
       "  DBs for Q:spider_dev_q251_idx2:   0%|          | 0/166 [00:00<?, ?it/s]"
      ]
     },
     "metadata": {},
     "output_type": "display_data"
    },
    {
     "name": "stdout",
     "output_type": "stream",
     "text": [
      "\n",
      "Processing Query 253/1034 (ID: spider_dev_q252_idx252): 'What are the African countries that have a  population less than any country in Asia?' (True DB: world_1)\n"
     ]
    },
    {
     "data": {
      "application/vnd.jupyter.widget-view+json": {
       "model_id": "1aa8054ca7c449b4997d36854d55314c",
       "version_major": 2,
       "version_minor": 0
      },
      "text/plain": [
       "  DBs for Q:spider_dev_q252_idx2:   0%|          | 0/166 [00:00<?, ?it/s]"
      ]
     },
     "metadata": {},
     "output_type": "display_data"
    },
    {
     "name": "stdout",
     "output_type": "stream",
     "text": [
      "\n",
      "Processing Query 254/1034 (ID: spider_dev_q253_idx253): 'Tell me the number of dogs that have not received any treatment .' (True DB: dog_kennels)\n"
     ]
    },
    {
     "data": {
      "application/vnd.jupyter.widget-view+json": {
       "model_id": "8bfe0f7d7b8a4888ba7ceb9b9eaef2f8",
       "version_major": 2,
       "version_minor": 0
      },
      "text/plain": [
       "  DBs for Q:spider_dev_q253_idx2:   0%|          | 0/166 [00:00<?, ?it/s]"
      ]
     },
     "metadata": {},
     "output_type": "display_data"
    },
    {
     "name": "stdout",
     "output_type": "stream",
     "text": [
      "\n",
      "Processing Query 255/1034 (ID: spider_dev_q254_idx254): 'Count the number of countries for which Spanish is the predominantly spoken language.' (True DB: world_1)\n"
     ]
    },
    {
     "data": {
      "application/vnd.jupyter.widget-view+json": {
       "model_id": "3bb0b51e3b154094889ef113691d9bf1",
       "version_major": 2,
       "version_minor": 0
      },
      "text/plain": [
       "  DBs for Q:spider_dev_q254_idx2:   0%|          | 0/166 [00:00<?, ?it/s]"
      ]
     },
     "metadata": {},
     "output_type": "display_data"
    },
    {
     "name": "stdout",
     "output_type": "stream",
     "text": [
      "\n",
      "Processing Query 256/1034 (ID: spider_dev_q255_idx255): 'Which professionals have done at least two types of treatments? List the professional id and cell phone.' (True DB: dog_kennels)\n"
     ]
    },
    {
     "data": {
      "application/vnd.jupyter.widget-view+json": {
       "model_id": "886f0a92746d4aab9c57c839500d90b3",
       "version_major": 2,
       "version_minor": 0
      },
      "text/plain": [
       "  DBs for Q:spider_dev_q255_idx2:   0%|          | 0/166 [00:00<?, ?it/s]"
      ]
     },
     "metadata": {},
     "output_type": "display_data"
    },
    {
     "name": "stdout",
     "output_type": "stream",
     "text": [
      "\n",
      "Processing Query 257/1034 (ID: spider_dev_q256_idx256): 'Which grade has the most high schoolers?' (True DB: network_1)\n"
     ]
    },
    {
     "data": {
      "application/vnd.jupyter.widget-view+json": {
       "model_id": "76752cf0db894bb68d76c9a0a7752e00",
       "version_major": 2,
       "version_minor": 0
      },
      "text/plain": [
       "  DBs for Q:spider_dev_q256_idx2:   0%|          | 0/166 [00:00<?, ?it/s]"
      ]
     },
     "metadata": {},
     "output_type": "display_data"
    },
    {
     "name": "stdout",
     "output_type": "stream",
     "text": [
      "\n",
      "Processing Query 258/1034 (ID: spider_dev_q257_idx257): 'What are the Package Options of the TV Channels whose series names are Sky Radio?' (True DB: tvshow)\n"
     ]
    },
    {
     "data": {
      "application/vnd.jupyter.widget-view+json": {
       "model_id": "72ee6ea3e61247edbda08336f683cbf2",
       "version_major": 2,
       "version_minor": 0
      },
      "text/plain": [
       "  DBs for Q:spider_dev_q257_idx2:   0%|          | 0/166 [00:00<?, ?it/s]"
      ]
     },
     "metadata": {},
     "output_type": "display_data"
    },
    {
     "name": "stdout",
     "output_type": "stream",
     "text": [
      "\n",
      "Processing Query 259/1034 (ID: spider_dev_q258_idx258): 'What is the name of each teacher and what course they teach?' (True DB: course_teach)\n"
     ]
    },
    {
     "data": {
      "application/vnd.jupyter.widget-view+json": {
       "model_id": "af0118a73e4e45f988b05f165041de5a",
       "version_major": 2,
       "version_minor": 0
      },
      "text/plain": [
       "  DBs for Q:spider_dev_q258_idx2:   0%|          | 0/166 [00:00<?, ?it/s]"
      ]
     },
     "metadata": {},
     "output_type": "display_data"
    },
    {
     "name": "stdout",
     "output_type": "stream",
     "text": [
      "\n",
      "Processing Query 260/1034 (ID: spider_dev_q259_idx259): 'What is the language spoken by the largest percentage of people in each country?' (True DB: world_1)\n"
     ]
    },
    {
     "data": {
      "application/vnd.jupyter.widget-view+json": {
       "model_id": "cc85186347264387916a24f619bb6c62",
       "version_major": 2,
       "version_minor": 0
      },
      "text/plain": [
       "  DBs for Q:spider_dev_q259_idx2:   0%|          | 0/166 [00:00<?, ?it/s]"
      ]
     },
     "metadata": {},
     "output_type": "display_data"
    },
    {
     "name": "stdout",
     "output_type": "stream",
     "text": [
      "\n",
      "Processing Query 261/1034 (ID: spider_dev_q260_idx260): 'What are the names of the winner and loser who played in the longest match?' (True DB: wta_1)\n"
     ]
    },
    {
     "data": {
      "application/vnd.jupyter.widget-view+json": {
       "model_id": "3aeb2286b81c402f9ca49125b0926c5b",
       "version_major": 2,
       "version_minor": 0
      },
      "text/plain": [
       "  DBs for Q:spider_dev_q260_idx2:   0%|          | 0/166 [00:00<?, ?it/s]"
      ]
     },
     "metadata": {},
     "output_type": "display_data"
    },
    {
     "name": "stdout",
     "output_type": "stream",
     "text": [
      "\n",
      "Processing Query 262/1034 (ID: spider_dev_q261_idx261): 'Count the number of different nationalities.' (True DB: poker_player)\n"
     ]
    },
    {
     "data": {
      "application/vnd.jupyter.widget-view+json": {
       "model_id": "73ab92deaeee4ca2acb99ff9ac2f092c",
       "version_major": 2,
       "version_minor": 0
      },
      "text/plain": [
       "  DBs for Q:spider_dev_q261_idx2:   0%|          | 0/166 [00:00<?, ?it/s]"
      ]
     },
     "metadata": {},
     "output_type": "display_data"
    },
    {
     "name": "stdout",
     "output_type": "stream",
     "text": [
      "\n",
      "Processing Query 263/1034 (ID: spider_dev_q262_idx262): 'Show the name of the conductor that has conducted the most number of orchestras.' (True DB: orchestra)\n"
     ]
    },
    {
     "data": {
      "application/vnd.jupyter.widget-view+json": {
       "model_id": "eb1e25c119b04e82a6c9941e05801a99",
       "version_major": 2,
       "version_minor": 0
      },
      "text/plain": [
       "  DBs for Q:spider_dev_q262_idx2:   0%|          | 0/166 [00:00<?, ?it/s]"
      ]
     },
     "metadata": {},
     "output_type": "display_data"
    },
    {
     "name": "stdout",
     "output_type": "stream",
     "text": [
      "\n",
      "Processing Query 264/1034 (ID: spider_dev_q263_idx263): 'How many documents do we have?' (True DB: cre_Doc_Template_Mgt)\n"
     ]
    },
    {
     "data": {
      "application/vnd.jupyter.widget-view+json": {
       "model_id": "f00baf21d543411dad75b3fa76e883a1",
       "version_major": 2,
       "version_minor": 0
      },
      "text/plain": [
       "  DBs for Q:spider_dev_q263_idx2:   0%|          | 0/166 [00:00<?, ?it/s]"
      ]
     },
     "metadata": {},
     "output_type": "display_data"
    },
    {
     "name": "stdout",
     "output_type": "stream",
     "text": [
      "\n",
      "Processing Query 265/1034 (ID: spider_dev_q264_idx264): 'Show the names of conductors that have conducted more than one orchestras.' (True DB: orchestra)\n"
     ]
    },
    {
     "data": {
      "application/vnd.jupyter.widget-view+json": {
       "model_id": "55bcd12661c54f23b3ab36e5e890ab54",
       "version_major": 2,
       "version_minor": 0
      },
      "text/plain": [
       "  DBs for Q:spider_dev_q264_idx2:   0%|          | 0/166 [00:00<?, ?it/s]"
      ]
     },
     "metadata": {},
     "output_type": "display_data"
    },
    {
     "name": "stdout",
     "output_type": "stream",
     "text": [
      "\n",
      "Processing Query 266/1034 (ID: spider_dev_q265_idx265): 'Count the number of employees for each city.' (True DB: employee_hire_evaluation)\n"
     ]
    },
    {
     "data": {
      "application/vnd.jupyter.widget-view+json": {
       "model_id": "77e69bd1aa74429eaf5753041a914156",
       "version_major": 2,
       "version_minor": 0
      },
      "text/plain": [
       "  DBs for Q:spider_dev_q265_idx2:   0%|          | 0/166 [00:00<?, ?it/s]"
      ]
     },
     "metadata": {},
     "output_type": "display_data"
    },
    {
     "name": "stdout",
     "output_type": "stream",
     "text": [
      "\n",
      "Processing Query 267/1034 (ID: spider_dev_q266_idx266): 'What are the names of the teachers who teach at least two courses?' (True DB: course_teach)\n"
     ]
    },
    {
     "data": {
      "application/vnd.jupyter.widget-view+json": {
       "model_id": "2a3d2466447e48748cab394fa9a2f5ca",
       "version_major": 2,
       "version_minor": 0
      },
      "text/plain": [
       "  DBs for Q:spider_dev_q266_idx2:   0%|          | 0/166 [00:00<?, ?it/s]"
      ]
     },
     "metadata": {},
     "output_type": "display_data"
    },
    {
     "name": "stdout",
     "output_type": "stream",
     "text": [
      "\n",
      "Processing Query 268/1034 (ID: spider_dev_q267_idx267): 'How many different templates do all document use?' (True DB: cre_Doc_Template_Mgt)\n"
     ]
    },
    {
     "data": {
      "application/vnd.jupyter.widget-view+json": {
       "model_id": "bae3b049c44645babacbd9364d422b5e",
       "version_major": 2,
       "version_minor": 0
      },
      "text/plain": [
       "  DBs for Q:spider_dev_q267_idx2:   0%|          | 0/166 [00:00<?, ?it/s]"
      ]
     },
     "metadata": {},
     "output_type": "display_data"
    },
    {
     "name": "stdout",
     "output_type": "stream",
     "text": [
      "\n",
      "Processing Query 269/1034 (ID: spider_dev_q268_idx268): 'How many total tours were there for each ranking date?' (True DB: wta_1)\n"
     ]
    },
    {
     "data": {
      "application/vnd.jupyter.widget-view+json": {
       "model_id": "9ba1ba5bbe294c60b3425c492dc3a094",
       "version_major": 2,
       "version_minor": 0
      },
      "text/plain": [
       "  DBs for Q:spider_dev_q268_idx2:   0%|          | 0/166 [00:00<?, ?it/s]"
      ]
     },
     "metadata": {},
     "output_type": "display_data"
    },
    {
     "name": "stdout",
     "output_type": "stream",
     "text": [
      "\n",
      "Processing Query 270/1034 (ID: spider_dev_q269_idx269): 'How is the math course described?' (True DB: student_transcripts_tracking)\n"
     ]
    },
    {
     "data": {
      "application/vnd.jupyter.widget-view+json": {
       "model_id": "8c0568999f664c10962934c7fae9b068",
       "version_major": 2,
       "version_minor": 0
      },
      "text/plain": [
       "  DBs for Q:spider_dev_q269_idx2:   0%|          | 0/166 [00:00<?, ?it/s]"
      ]
     },
     "metadata": {},
     "output_type": "display_data"
    },
    {
     "name": "stdout",
     "output_type": "stream",
     "text": [
      "\n",
      "Processing Query 271/1034 (ID: spider_dev_q270_idx270): 'What is the record company used by the greatest number of orchestras?' (True DB: orchestra)\n"
     ]
    },
    {
     "data": {
      "application/vnd.jupyter.widget-view+json": {
       "model_id": "7e79cd00b6454e8cb43f5747887ac12f",
       "version_major": 2,
       "version_minor": 0
      },
      "text/plain": [
       "  DBs for Q:spider_dev_q270_idx2:   0%|          | 0/166 [00:00<?, ?it/s]"
      ]
     },
     "metadata": {},
     "output_type": "display_data"
    },
    {
     "name": "stdout",
     "output_type": "stream",
     "text": [
      "\n",
      "Processing Query 272/1034 (ID: spider_dev_q271_idx271): 'Show ids of all students who do not have any friends.' (True DB: network_1)\n"
     ]
    },
    {
     "data": {
      "application/vnd.jupyter.widget-view+json": {
       "model_id": "12d27d9cd4504e8881764367d630db07",
       "version_major": 2,
       "version_minor": 0
      },
      "text/plain": [
       "  DBs for Q:spider_dev_q271_idx2:   0%|          | 0/166 [00:00<?, ?it/s]"
      ]
     },
     "metadata": {},
     "output_type": "display_data"
    },
    {
     "name": "stdout",
     "output_type": "stream",
     "text": [
      "\n",
      "Processing Query 273/1034 (ID: spider_dev_q272_idx272): 'For each semester, what is the name and id of the one with the most students registered?' (True DB: student_transcripts_tracking)\n"
     ]
    },
    {
     "data": {
      "application/vnd.jupyter.widget-view+json": {
       "model_id": "efd10946ffa74685be2c8ab4445af45e",
       "version_major": 2,
       "version_minor": 0
      },
      "text/plain": [
       "  DBs for Q:spider_dev_q272_idx2:   0%|          | 0/166 [00:00<?, ?it/s]"
      ]
     },
     "metadata": {},
     "output_type": "display_data"
    },
    {
     "name": "stdout",
     "output_type": "stream",
     "text": [
      "\n",
      "Processing Query 274/1034 (ID: spider_dev_q273_idx273): 'What is the name and id of the department with the most number of degrees ?' (True DB: student_transcripts_tracking)\n"
     ]
    },
    {
     "data": {
      "application/vnd.jupyter.widget-view+json": {
       "model_id": "7df051bf1da74669ae2f832ebcdb4915",
       "version_major": 2,
       "version_minor": 0
      },
      "text/plain": [
       "  DBs for Q:spider_dev_q273_idx2:   0%|          | 0/166 [00:00<?, ?it/s]"
      ]
     },
     "metadata": {},
     "output_type": "display_data"
    },
    {
     "name": "stdout",
     "output_type": "stream",
     "text": [
      "\n",
      "Processing Query 275/1034 (ID: spider_dev_q274_idx274): 'which countries' tv channels are not playing any cartoon written by Todd Casey?' (True DB: tvshow)\n"
     ]
    },
    {
     "data": {
      "application/vnd.jupyter.widget-view+json": {
       "model_id": "41d6ec3dd54745e4bf394c170e635c82",
       "version_major": 2,
       "version_minor": 0
      },
      "text/plain": [
       "  DBs for Q:spider_dev_q274_idx2:   0%|          | 0/166 [00:00<?, ?it/s]"
      ]
     },
     "metadata": {},
     "output_type": "display_data"
    },
    {
     "name": "stdout",
     "output_type": "stream",
     "text": [
      "\n",
      "Processing Query 276/1034 (ID: spider_dev_q275_idx275): 'What is the document id and name with greatest number of paragraphs?' (True DB: cre_Doc_Template_Mgt)\n"
     ]
    },
    {
     "data": {
      "application/vnd.jupyter.widget-view+json": {
       "model_id": "d03151eee97444c0b09df463d5df8e7a",
       "version_major": 2,
       "version_minor": 0
      },
      "text/plain": [
       "  DBs for Q:spider_dev_q275_idx2:   0%|          | 0/166 [00:00<?, ?it/s]"
      ]
     },
     "metadata": {},
     "output_type": "display_data"
    },
    {
     "name": "stdout",
     "output_type": "stream",
     "text": [
      "\n",
      "Processing Query 277/1034 (ID: spider_dev_q276_idx276): 'What are the names of poker players, ordered ascending by the number of final tables they have made?' (True DB: poker_player)\n"
     ]
    },
    {
     "data": {
      "application/vnd.jupyter.widget-view+json": {
       "model_id": "dee7f003e5124b18b2c14ad3cd718e3e",
       "version_major": 2,
       "version_minor": 0
      },
      "text/plain": [
       "  DBs for Q:spider_dev_q276_idx2:   0%|          | 0/166 [00:00<?, ?it/s]"
      ]
     },
     "metadata": {},
     "output_type": "display_data"
    },
    {
     "name": "stdout",
     "output_type": "stream",
     "text": [
      "\n",
      "Processing Query 278/1034 (ID: spider_dev_q277_idx277): 'List the section_name in reversed lexicographical order.' (True DB: student_transcripts_tracking)\n"
     ]
    },
    {
     "data": {
      "application/vnd.jupyter.widget-view+json": {
       "model_id": "badfa3e1b0b548f6b3bb7c9a33c2114a",
       "version_major": 2,
       "version_minor": 0
      },
      "text/plain": [
       "  DBs for Q:spider_dev_q277_idx2:   0%|          | 0/166 [00:00<?, ?it/s]"
      ]
     },
     "metadata": {},
     "output_type": "display_data"
    },
    {
     "name": "stdout",
     "output_type": "stream",
     "text": [
      "\n",
      "Processing Query 279/1034 (ID: spider_dev_q278_idx278): 'What is the accelerate of the car make amc hornet sportabout (sw)?' (True DB: car_1)\n"
     ]
    },
    {
     "data": {
      "application/vnd.jupyter.widget-view+json": {
       "model_id": "abe4dab6dd914794878cbe42be04d257",
       "version_major": 2,
       "version_minor": 0
      },
      "text/plain": [
       "  DBs for Q:spider_dev_q278_idx2:   0%|          | 0/166 [00:00<?, ?it/s]"
      ]
     },
     "metadata": {},
     "output_type": "display_data"
    },
    {
     "name": "stdout",
     "output_type": "stream",
     "text": [
      "\n",
      "Processing Query 280/1034 (ID: spider_dev_q279_idx279): 'What is the first, middle, and last name of the first student to register?' (True DB: student_transcripts_tracking)\n"
     ]
    },
    {
     "data": {
      "application/vnd.jupyter.widget-view+json": {
       "model_id": "f5e2375b47b84555935df182cc0e698c",
       "version_major": 2,
       "version_minor": 0
      },
      "text/plain": [
       "  DBs for Q:spider_dev_q279_idx2:   0%|          | 0/166 [00:00<?, ?it/s]"
      ]
     },
     "metadata": {},
     "output_type": "display_data"
    },
    {
     "name": "stdout",
     "output_type": "stream",
     "text": [
      "\n",
      "Processing Query 281/1034 (ID: spider_dev_q280_idx280): 'How many cartoons did each director create?' (True DB: tvshow)\n"
     ]
    },
    {
     "data": {
      "application/vnd.jupyter.widget-view+json": {
       "model_id": "44ddf10747e048e6b0e3fb53e2dd6cb7",
       "version_major": 2,
       "version_minor": 0
      },
      "text/plain": [
       "  DBs for Q:spider_dev_q280_idx2:   0%|          | 0/166 [00:00<?, ?it/s]"
      ]
     },
     "metadata": {},
     "output_type": "display_data"
    },
    {
     "name": "stdout",
     "output_type": "stream",
     "text": [
      "\n",
      "Processing Query 282/1034 (ID: spider_dev_q281_idx281): 'What is the average rank for winners in all matches?' (True DB: wta_1)\n"
     ]
    },
    {
     "data": {
      "application/vnd.jupyter.widget-view+json": {
       "model_id": "a7c16ffac2814a7c96626e176ca759d1",
       "version_major": 2,
       "version_minor": 0
      },
      "text/plain": [
       "  DBs for Q:spider_dev_q281_idx2:   0%|          | 0/166 [00:00<?, ?it/s]"
      ]
     },
     "metadata": {},
     "output_type": "display_data"
    },
    {
     "name": "stdout",
     "output_type": "stream",
     "text": [
      "\n",
      "Processing Query 283/1034 (ID: spider_dev_q282_idx282): 'Show all document ids and the number of paragraphs in each document. Order by document id.' (True DB: cre_Doc_Template_Mgt)\n"
     ]
    },
    {
     "data": {
      "application/vnd.jupyter.widget-view+json": {
       "model_id": "70f9bb582ae34d459744464beb5526b0",
       "version_major": 2,
       "version_minor": 0
      },
      "text/plain": [
       "  DBs for Q:spider_dev_q282_idx2:   0%|          | 0/166 [00:00<?, ?it/s]"
      ]
     },
     "metadata": {},
     "output_type": "display_data"
    },
    {
     "name": "stdout",
     "output_type": "stream",
     "text": [
      "\n",
      "Processing Query 284/1034 (ID: spider_dev_q283_idx283): 'Find the manager name and district of the shop whose number of products is the largest.' (True DB: employee_hire_evaluation)\n"
     ]
    },
    {
     "data": {
      "application/vnd.jupyter.widget-view+json": {
       "model_id": "3ce5c6126d904dfeb122d9fe8b16049f",
       "version_major": 2,
       "version_minor": 0
      },
      "text/plain": [
       "  DBs for Q:spider_dev_q283_idx2:   0%|          | 0/166 [00:00<?, ?it/s]"
      ]
     },
     "metadata": {},
     "output_type": "display_data"
    },
    {
     "name": "stdout",
     "output_type": "stream",
     "text": [
      "\n",
      "Processing Query 285/1034 (ID: spider_dev_q284_idx284): 'Show names of teachers and the number of courses they teach.' (True DB: course_teach)\n"
     ]
    },
    {
     "data": {
      "application/vnd.jupyter.widget-view+json": {
       "model_id": "efc1a4cd62554fd8914a717ef255a5f1",
       "version_major": 2,
       "version_minor": 0
      },
      "text/plain": [
       "  DBs for Q:spider_dev_q284_idx2:   0%|          | 0/166 [00:00<?, ?it/s]"
      ]
     },
     "metadata": {},
     "output_type": "display_data"
    },
    {
     "name": "stdout",
     "output_type": "stream",
     "text": [
      "\n",
      "Processing Query 286/1034 (ID: spider_dev_q285_idx285): 'List the emails of the professionals who live in the state of Hawaii or the state of Wisconsin.' (True DB: dog_kennels)\n"
     ]
    },
    {
     "data": {
      "application/vnd.jupyter.widget-view+json": {
       "model_id": "e0b0708a37384d55a809eae4d985e490",
       "version_major": 2,
       "version_minor": 0
      },
      "text/plain": [
       "  DBs for Q:spider_dev_q285_idx2:   0%|          | 0/166 [00:00<?, ?it/s]"
      ]
     },
     "metadata": {},
     "output_type": "display_data"
    },
    {
     "name": "stdout",
     "output_type": "stream",
     "text": [
      "\n",
      "Processing Query 287/1034 (ID: spider_dev_q286_idx286): 'what are the different names of the singers that have sales more than 300000?' (True DB: singer)\n"
     ]
    },
    {
     "data": {
      "application/vnd.jupyter.widget-view+json": {
       "model_id": "c007b8b3c4cd4d8b93ecc97c758af697",
       "version_major": 2,
       "version_minor": 0
      },
      "text/plain": [
       "  DBs for Q:spider_dev_q286_idx2:   0%|          | 0/166 [00:00<?, ?it/s]"
      ]
     },
     "metadata": {},
     "output_type": "display_data"
    },
    {
     "name": "stdout",
     "output_type": "stream",
     "text": [
      "\n",
      "Processing Query 288/1034 (ID: spider_dev_q287_idx287): 'What are the descriptions for all the math courses?' (True DB: student_transcripts_tracking)\n"
     ]
    },
    {
     "data": {
      "application/vnd.jupyter.widget-view+json": {
       "model_id": "2d92592b8c004224ad2abd6188cb90eb",
       "version_major": 2,
       "version_minor": 0
      },
      "text/plain": [
       "  DBs for Q:spider_dev_q287_idx2:   0%|          | 0/166 [00:00<?, ?it/s]"
      ]
     },
     "metadata": {},
     "output_type": "display_data"
    },
    {
     "name": "stdout",
     "output_type": "stream",
     "text": [
      "\n",
      "Processing Query 289/1034 (ID: spider_dev_q288_idx288): 'What are the ids of documents that have 2 or more paragraphs?' (True DB: cre_Doc_Template_Mgt)\n"
     ]
    },
    {
     "data": {
      "application/vnd.jupyter.widget-view+json": {
       "model_id": "7a284e3a97f24a00b88fc9496765d796",
       "version_major": 2,
       "version_minor": 0
      },
      "text/plain": [
       "  DBs for Q:spider_dev_q288_idx2:   0%|          | 0/166 [00:00<?, ?it/s]"
      ]
     },
     "metadata": {},
     "output_type": "display_data"
    },
    {
     "name": "stdout",
     "output_type": "stream",
     "text": [
      "\n",
      "Processing Query 290/1034 (ID: spider_dev_q289_idx289): 'What major is every student who does not own a cat as a pet, and also how old are they?' (True DB: pets_1)\n"
     ]
    },
    {
     "data": {
      "application/vnd.jupyter.widget-view+json": {
       "model_id": "6fc17f94901e429faac0b9660edf323c",
       "version_major": 2,
       "version_minor": 0
      },
      "text/plain": [
       "  DBs for Q:spider_dev_q289_idx2:   0%|          | 0/166 [00:00<?, ?it/s]"
      ]
     },
     "metadata": {},
     "output_type": "display_data"
    },
    {
     "name": "stdout",
     "output_type": "stream",
     "text": [
      "\n",
      "Processing Query 291/1034 (ID: spider_dev_q290_idx290): 'What is the average attendance of shows?' (True DB: orchestra)\n"
     ]
    },
    {
     "data": {
      "application/vnd.jupyter.widget-view+json": {
       "model_id": "9a0bcc1f609542399a4e1d9a8ef7701e",
       "version_major": 2,
       "version_minor": 0
      },
      "text/plain": [
       "  DBs for Q:spider_dev_q290_idx2:   0%|          | 0/166 [00:00<?, ?it/s]"
      ]
     },
     "metadata": {},
     "output_type": "display_data"
    },
    {
     "name": "stdout",
     "output_type": "stream",
     "text": [
      "\n",
      "Processing Query 292/1034 (ID: spider_dev_q291_idx291): 'Show all document names using templates with template type code BK.' (True DB: cre_Doc_Template_Mgt)\n"
     ]
    },
    {
     "data": {
      "application/vnd.jupyter.widget-view+json": {
       "model_id": "4fc5d6bec6144e38a8f0573538d9d39c",
       "version_major": 2,
       "version_minor": 0
      },
      "text/plain": [
       "  DBs for Q:spider_dev_q291_idx2:   0%|          | 0/166 [00:00<?, ?it/s]"
      ]
     },
     "metadata": {},
     "output_type": "display_data"
    },
    {
     "name": "stdout",
     "output_type": "stream",
     "text": [
      "\n",
      "Processing Query 293/1034 (ID: spider_dev_q292_idx292): 'find the number of distinct country codes of all players.' (True DB: wta_1)\n"
     ]
    },
    {
     "data": {
      "application/vnd.jupyter.widget-view+json": {
       "model_id": "6a30e58a8fb24739b978c884001cb69a",
       "version_major": 2,
       "version_minor": 0
      },
      "text/plain": [
       "  DBs for Q:spider_dev_q292_idx2:   0%|          | 0/166 [00:00<?, ?it/s]"
      ]
     },
     "metadata": {},
     "output_type": "display_data"
    },
    {
     "name": "stdout",
     "output_type": "stream",
     "text": [
      "\n",
      "Processing Query 294/1034 (ID: spider_dev_q293_idx293): 'How many friends does each student have?' (True DB: network_1)\n"
     ]
    },
    {
     "data": {
      "application/vnd.jupyter.widget-view+json": {
       "model_id": "b47e233b669049c69a6e6c6c686137ed",
       "version_major": 2,
       "version_minor": 0
      },
      "text/plain": [
       "  DBs for Q:spider_dev_q293_idx2:   0%|          | 0/166 [00:00<?, ?it/s]"
      ]
     },
     "metadata": {},
     "output_type": "display_data"
    },
    {
     "name": "stdout",
     "output_type": "stream",
     "text": [
      "\n",
      "Processing Query 295/1034 (ID: spider_dev_q294_idx294): 'Which distinct car models are the produced after 1980?' (True DB: car_1)\n"
     ]
    },
    {
     "data": {
      "application/vnd.jupyter.widget-view+json": {
       "model_id": "1f3be4c1e97c46b3adca486b7674c677",
       "version_major": 2,
       "version_minor": 0
      },
      "text/plain": [
       "  DBs for Q:spider_dev_q294_idx2:   0%|          | 0/166 [00:00<?, ?it/s]"
      ]
     },
     "metadata": {},
     "output_type": "display_data"
    },
    {
     "name": "stdout",
     "output_type": "stream",
     "text": [
      "\n",
      "Processing Query 296/1034 (ID: spider_dev_q295_idx295): 'What are the population and life expectancies in Brazil?' (True DB: world_1)\n"
     ]
    },
    {
     "data": {
      "application/vnd.jupyter.widget-view+json": {
       "model_id": "b9eb5c2ae7a14ef9817bf168fc7033ca",
       "version_major": 2,
       "version_minor": 0
      },
      "text/plain": [
       "  DBs for Q:spider_dev_q295_idx2:   0%|          | 0/166 [00:00<?, ?it/s]"
      ]
     },
     "metadata": {},
     "output_type": "display_data"
    },
    {
     "name": "stdout",
     "output_type": "stream",
     "text": [
      "\n",
      "Processing Query 297/1034 (ID: spider_dev_q296_idx296): 'What is the first name and country code of the oldest player?' (True DB: wta_1)\n"
     ]
    },
    {
     "data": {
      "application/vnd.jupyter.widget-view+json": {
       "model_id": "711f3a9a72954568b142beeb3d907133",
       "version_major": 2,
       "version_minor": 0
      },
      "text/plain": [
       "  DBs for Q:spider_dev_q296_idx2:   0%|          | 0/166 [00:00<?, ?it/s]"
      ]
     },
     "metadata": {},
     "output_type": "display_data"
    },
    {
     "name": "stdout",
     "output_type": "stream",
     "text": [
      "\n",
      "Processing Query 298/1034 (ID: spider_dev_q297_idx297): 'Please show the name of the conductor that has conducted orchestras founded after 2008.' (True DB: orchestra)\n"
     ]
    },
    {
     "data": {
      "application/vnd.jupyter.widget-view+json": {
       "model_id": "b30ff3f2a96c466a9a4ae03bef80aad7",
       "version_major": 2,
       "version_minor": 0
      },
      "text/plain": [
       "  DBs for Q:spider_dev_q297_idx2:   0%|          | 0/166 [00:00<?, ?it/s]"
      ]
     },
     "metadata": {},
     "output_type": "display_data"
    },
    {
     "name": "stdout",
     "output_type": "stream",
     "text": [
      "\n",
      "Processing Query 299/1034 (ID: spider_dev_q298_idx298): 'What are flight numbers of flights departing from City \"Aberdeen \"?' (True DB: flight_2)\n"
     ]
    },
    {
     "data": {
      "application/vnd.jupyter.widget-view+json": {
       "model_id": "adb7fe54e4e048d183fa7064fa4bae17",
       "version_major": 2,
       "version_minor": 0
      },
      "text/plain": [
       "  DBs for Q:spider_dev_q298_idx2:   0%|          | 0/166 [00:00<?, ?it/s]"
      ]
     },
     "metadata": {},
     "output_type": "display_data"
    },
    {
     "name": "stdout",
     "output_type": "stream",
     "text": [
      "\n",
      "Processing Query 300/1034 (ID: spider_dev_q299_idx299): 'What are the distinct states and create time of all votes?' (True DB: voter_1)\n"
     ]
    },
    {
     "data": {
      "application/vnd.jupyter.widget-view+json": {
       "model_id": "505bd6e93ff046ab9a255b9ec9989ad8",
       "version_major": 2,
       "version_minor": 0
      },
      "text/plain": [
       "  DBs for Q:spider_dev_q299_idx2:   0%|          | 0/166 [00:00<?, ?it/s]"
      ]
     },
     "metadata": {},
     "output_type": "display_data"
    },
    {
     "name": "stdout",
     "output_type": "stream",
     "text": [
      "\n",
      "Processing Query 301/1034 (ID: spider_dev_q300_idx300): 'Which continent has the most diverse languages?' (True DB: world_1)\n"
     ]
    },
    {
     "data": {
      "application/vnd.jupyter.widget-view+json": {
       "model_id": "f0e908bccace403888e89c672eec8a92",
       "version_major": 2,
       "version_minor": 0
      },
      "text/plain": [
       "  DBs for Q:spider_dev_q300_idx3:   0%|          | 0/166 [00:00<?, ?it/s]"
      ]
     },
     "metadata": {},
     "output_type": "display_data"
    },
    {
     "name": "stdout",
     "output_type": "stream",
     "text": [
      "\n",
      "Processing Query 302/1034 (ID: spider_dev_q301_idx301): 'How many unique languages are spoken in the world?' (True DB: world_1)\n"
     ]
    },
    {
     "data": {
      "application/vnd.jupyter.widget-view+json": {
       "model_id": "2d29695aaf664a03a2624196ecc7393d",
       "version_major": 2,
       "version_minor": 0
      },
      "text/plain": [
       "  DBs for Q:spider_dev_q301_idx3:   0%|          | 0/166 [00:00<?, ?it/s]"
      ]
     },
     "metadata": {},
     "output_type": "display_data"
    },
    {
     "name": "stdout",
     "output_type": "stream",
     "text": [
      "\n",
      "Processing Query 303/1034 (ID: spider_dev_q302_idx302): 'What is the description of the department whose name has the substring the computer?' (True DB: student_transcripts_tracking)\n"
     ]
    },
    {
     "data": {
      "application/vnd.jupyter.widget-view+json": {
       "model_id": "819e474eca414238b5e28d17ff4e68c3",
       "version_major": 2,
       "version_minor": 0
      },
      "text/plain": [
       "  DBs for Q:spider_dev_q302_idx3:   0%|          | 0/166 [00:00<?, ?it/s]"
      ]
     },
     "metadata": {},
     "output_type": "display_data"
    },
    {
     "name": "stdout",
     "output_type": "stream",
     "text": [
      "\n",
      "Processing Query 304/1034 (ID: spider_dev_q303_idx303): 'How many car makers are there in france?' (True DB: car_1)\n"
     ]
    },
    {
     "data": {
      "application/vnd.jupyter.widget-view+json": {
       "model_id": "7666d4a97c84495cba1803cb1b6c9ee5",
       "version_major": 2,
       "version_minor": 0
      },
      "text/plain": [
       "  DBs for Q:spider_dev_q303_idx3:   0%|          | 0/166 [00:00<?, ?it/s]"
      ]
     },
     "metadata": {},
     "output_type": "display_data"
    },
    {
     "name": "stdout",
     "output_type": "stream",
     "text": [
      "\n",
      "Processing Query 305/1034 (ID: spider_dev_q304_idx304): 'Find the package choice and series name of the TV channel that has high definition TV.' (True DB: tvshow)\n"
     ]
    },
    {
     "data": {
      "application/vnd.jupyter.widget-view+json": {
       "model_id": "16378141026d4c06b545806202238994",
       "version_major": 2,
       "version_minor": 0
      },
      "text/plain": [
       "  DBs for Q:spider_dev_q304_idx3:   0%|          | 0/166 [00:00<?, ?it/s]"
      ]
     },
     "metadata": {},
     "output_type": "display_data"
    },
    {
     "name": "stdout",
     "output_type": "stream",
     "text": [
      "\n",
      "Processing Query 306/1034 (ID: spider_dev_q305_idx305): 'which countries' tv channels are playing some cartoon written by Todd Casey?' (True DB: tvshow)\n"
     ]
    },
    {
     "data": {
      "application/vnd.jupyter.widget-view+json": {
       "model_id": "092b2b9cdae0418797107db4f9149b74",
       "version_major": 2,
       "version_minor": 0
      },
      "text/plain": [
       "  DBs for Q:spider_dev_q305_idx3:   0%|          | 0/166 [00:00<?, ?it/s]"
      ]
     },
     "metadata": {},
     "output_type": "display_data"
    },
    {
     "name": "stdout",
     "output_type": "stream",
     "text": [
      "\n",
      "Processing Query 307/1034 (ID: spider_dev_q306_idx306): 'Find the kind of program which most number of students are enrolled in?' (True DB: student_transcripts_tracking)\n"
     ]
    },
    {
     "data": {
      "application/vnd.jupyter.widget-view+json": {
       "model_id": "95c114902f3345f0bc6c7ea817248e2e",
       "version_major": 2,
       "version_minor": 0
      },
      "text/plain": [
       "  DBs for Q:spider_dev_q306_idx3:   0%|          | 0/166 [00:00<?, ?it/s]"
      ]
     },
     "metadata": {},
     "output_type": "display_data"
    },
    {
     "name": "stdout",
     "output_type": "stream",
     "text": [
      "\n",
      "Processing Query 308/1034 (ID: spider_dev_q307_idx307): 'What are the country codes of countries where people use languages other than English?' (True DB: world_1)\n"
     ]
    },
    {
     "data": {
      "application/vnd.jupyter.widget-view+json": {
       "model_id": "1110c084880f44f2909e6a34a80bba99",
       "version_major": 2,
       "version_minor": 0
      },
      "text/plain": [
       "  DBs for Q:spider_dev_q307_idx3:   0%|          | 0/166 [00:00<?, ?it/s]"
      ]
     },
     "metadata": {},
     "output_type": "display_data"
    },
    {
     "name": "stdout",
     "output_type": "stream",
     "text": [
      "\n",
      "Processing Query 309/1034 (ID: spider_dev_q308_idx308): 'What are the first, middle, and last names for everybody enrolled in a Bachelors program?' (True DB: student_transcripts_tracking)\n"
     ]
    },
    {
     "data": {
      "application/vnd.jupyter.widget-view+json": {
       "model_id": "956faf64997649fc85815597ee1a4e52",
       "version_major": 2,
       "version_minor": 0
      },
      "text/plain": [
       "  DBs for Q:spider_dev_q308_idx3:   0%|          | 0/166 [00:00<?, ?it/s]"
      ]
     },
     "metadata": {},
     "output_type": "display_data"
    },
    {
     "name": "stdout",
     "output_type": "stream",
     "text": [
      "\n",
      "Processing Query 310/1034 (ID: spider_dev_q309_idx309): 'For a volvo model, how many cylinders does the version with least accelerate have?' (True DB: car_1)\n"
     ]
    },
    {
     "data": {
      "application/vnd.jupyter.widget-view+json": {
       "model_id": "de8475bb32644a508f0dd45a18e2c045",
       "version_major": 2,
       "version_minor": 0
      },
      "text/plain": [
       "  DBs for Q:spider_dev_q309_idx3:   0%|          | 0/166 [00:00<?, ?it/s]"
      ]
     },
     "metadata": {},
     "output_type": "display_data"
    },
    {
     "name": "stdout",
     "output_type": "stream",
     "text": [
      "\n",
      "Processing Query 311/1034 (ID: spider_dev_q310_idx310): 'What is the phone number of the man with the first name Timmothy and the last name Ward?' (True DB: student_transcripts_tracking)\n"
     ]
    },
    {
     "data": {
      "application/vnd.jupyter.widget-view+json": {
       "model_id": "992dd043156544f6aecbb5c53d9ee988",
       "version_major": 2,
       "version_minor": 0
      },
      "text/plain": [
       "  DBs for Q:spider_dev_q310_idx3:   0%|          | 0/166 [00:00<?, ?it/s]"
      ]
     },
     "metadata": {},
     "output_type": "display_data"
    },
    {
     "name": "stdout",
     "output_type": "stream",
     "text": [
      "\n",
      "Processing Query 312/1034 (ID: spider_dev_q311_idx311): 'When did the episode \"A Love of a Lifetime\" air?' (True DB: tvshow)\n"
     ]
    },
    {
     "data": {
      "application/vnd.jupyter.widget-view+json": {
       "model_id": "ad29b899525547b6b5a62ab523c75c97",
       "version_major": 2,
       "version_minor": 0
      },
      "text/plain": [
       "  DBs for Q:spider_dev_q311_idx3:   0%|          | 0/166 [00:00<?, ?it/s]"
      ]
     },
     "metadata": {},
     "output_type": "display_data"
    },
    {
     "name": "stdout",
     "output_type": "stream",
     "text": [
      "\n",
      "Processing Query 313/1034 (ID: spider_dev_q312_idx312): 'What are different nationalities of people and the corresponding number of people from each nation?' (True DB: poker_player)\n"
     ]
    },
    {
     "data": {
      "application/vnd.jupyter.widget-view+json": {
       "model_id": "5ec84d35eed54e6bbc944a63573f1d74",
       "version_major": 2,
       "version_minor": 0
      },
      "text/plain": [
       "  DBs for Q:spider_dev_q312_idx3:   0%|          | 0/166 [00:00<?, ?it/s]"
      ]
     },
     "metadata": {},
     "output_type": "display_data"
    },
    {
     "name": "stdout",
     "output_type": "stream",
     "text": [
      "\n",
      "Processing Query 314/1034 (ID: spider_dev_q313_idx313): 'How much surface area do the countires in the Carribean cover together?' (True DB: world_1)\n"
     ]
    },
    {
     "data": {
      "application/vnd.jupyter.widget-view+json": {
       "model_id": "a06e16a0dd5e4184bc8e5aa7ffdf7d83",
       "version_major": 2,
       "version_minor": 0
      },
      "text/plain": [
       "  DBs for Q:spider_dev_q313_idx3:   0%|          | 0/166 [00:00<?, ?it/s]"
      ]
     },
     "metadata": {},
     "output_type": "display_data"
    },
    {
     "name": "stdout",
     "output_type": "stream",
     "text": [
      "\n",
      "Processing Query 315/1034 (ID: spider_dev_q314_idx314): 'List the Episode of all TV series sorted by rating.' (True DB: tvshow)\n"
     ]
    },
    {
     "data": {
      "application/vnd.jupyter.widget-view+json": {
       "model_id": "abc100797e07419aa843e1e4252cb394",
       "version_major": 2,
       "version_minor": 0
      },
      "text/plain": [
       "  DBs for Q:spider_dev_q314_idx3:   0%|          | 0/166 [00:00<?, ?it/s]"
      ]
     },
     "metadata": {},
     "output_type": "display_data"
    },
    {
     "name": "stdout",
     "output_type": "stream",
     "text": [
      "\n",
      "Processing Query 316/1034 (ID: spider_dev_q315_idx315): 'For the countries founded before 1930, what is the total number of distinct official languages?' (True DB: world_1)\n"
     ]
    },
    {
     "data": {
      "application/vnd.jupyter.widget-view+json": {
       "model_id": "5e15eb1c892e4026b644d054f817c92c",
       "version_major": 2,
       "version_minor": 0
      },
      "text/plain": [
       "  DBs for Q:spider_dev_q315_idx3:   0%|          | 0/166 [00:00<?, ?it/s]"
      ]
     },
     "metadata": {},
     "output_type": "display_data"
    },
    {
     "name": "stdout",
     "output_type": "stream",
     "text": [
      "\n",
      "Processing Query 317/1034 (ID: spider_dev_q316_idx316): 'What are the names and birth dates of people, ordered by their names in alphabetical order?' (True DB: poker_player)\n"
     ]
    },
    {
     "data": {
      "application/vnd.jupyter.widget-view+json": {
       "model_id": "42799381e0ff4c6db9c40358280a37e0",
       "version_major": 2,
       "version_minor": 0
      },
      "text/plain": [
       "  DBs for Q:spider_dev_q316_idx3:   0%|          | 0/166 [00:00<?, ?it/s]"
      ]
     },
     "metadata": {},
     "output_type": "display_data"
    },
    {
     "name": "stdout",
     "output_type": "stream",
     "text": [
      "\n",
      "Processing Query 318/1034 (ID: spider_dev_q317_idx317): 'What is the total number of languages used in Aruba?' (True DB: world_1)\n"
     ]
    },
    {
     "data": {
      "application/vnd.jupyter.widget-view+json": {
       "model_id": "d8ac077be6414427ae85174a35917af5",
       "version_major": 2,
       "version_minor": 0
      },
      "text/plain": [
       "  DBs for Q:spider_dev_q317_idx3:   0%|          | 0/166 [00:00<?, ?it/s]"
      ]
     },
     "metadata": {},
     "output_type": "display_data"
    },
    {
     "name": "stdout",
     "output_type": "stream",
     "text": [
      "\n",
      "Processing Query 319/1034 (ID: spider_dev_q318_idx318): 'What is the hometown of the youngest teacher?' (True DB: course_teach)\n"
     ]
    },
    {
     "data": {
      "application/vnd.jupyter.widget-view+json": {
       "model_id": "821098c26a9248e5b32136e396ca7368",
       "version_major": 2,
       "version_minor": 0
      },
      "text/plain": [
       "  DBs for Q:spider_dev_q318_idx3:   0%|          | 0/166 [00:00<?, ?it/s]"
      ]
     },
     "metadata": {},
     "output_type": "display_data"
    },
    {
     "name": "stdout",
     "output_type": "stream",
     "text": [
      "\n",
      "Processing Query 320/1034 (ID: spider_dev_q319_idx319): 'Return the names of the contestants whose names contain the substring 'Al' .' (True DB: voter_1)\n"
     ]
    },
    {
     "data": {
      "application/vnd.jupyter.widget-view+json": {
       "model_id": "b9b77ffc29d34b3199ce5bf7404954a0",
       "version_major": 2,
       "version_minor": 0
      },
      "text/plain": [
       "  DBs for Q:spider_dev_q319_idx3:   0%|          | 0/166 [00:00<?, ?it/s]"
      ]
     },
     "metadata": {},
     "output_type": "display_data"
    },
    {
     "name": "stdout",
     "output_type": "stream",
     "text": [
      "\n",
      "Processing Query 321/1034 (ID: spider_dev_q320_idx320): 'Return the number of flights arriving in Aberdeen.' (True DB: flight_2)\n"
     ]
    },
    {
     "data": {
      "application/vnd.jupyter.widget-view+json": {
       "model_id": "147c4b40d38d42ebb0453c8fde2319cd",
       "version_major": 2,
       "version_minor": 0
      },
      "text/plain": [
       "  DBs for Q:spider_dev_q320_idx3:   0%|          | 0/166 [00:00<?, ?it/s]"
      ]
     },
     "metadata": {},
     "output_type": "display_data"
    },
    {
     "name": "stdout",
     "output_type": "stream",
     "text": [
      "\n",
      "Processing Query 322/1034 (ID: spider_dev_q321_idx321): 'What is the most commmon hometowns for teachers?' (True DB: course_teach)\n"
     ]
    },
    {
     "data": {
      "application/vnd.jupyter.widget-view+json": {
       "model_id": "5af6689b244f4aac8d3109ed3367df2c",
       "version_major": 2,
       "version_minor": 0
      },
      "text/plain": [
       "  DBs for Q:spider_dev_q321_idx3:   0%|          | 0/166 [00:00<?, ?it/s]"
      ]
     },
     "metadata": {},
     "output_type": "display_data"
    },
    {
     "name": "stdout",
     "output_type": "stream",
     "text": [
      "\n",
      "Processing Query 323/1034 (ID: spider_dev_q322_idx322): 'Find the program which most number of students are enrolled in. List both the id and the summary.' (True DB: student_transcripts_tracking)\n"
     ]
    },
    {
     "data": {
      "application/vnd.jupyter.widget-view+json": {
       "model_id": "60db8700fb1f4c8a870babf9b9c1b281",
       "version_major": 2,
       "version_minor": 0
      },
      "text/plain": [
       "  DBs for Q:spider_dev_q322_idx3:   0%|          | 0/166 [00:00<?, ?it/s]"
      ]
     },
     "metadata": {},
     "output_type": "display_data"
    },
    {
     "name": "stdout",
     "output_type": "stream",
     "text": [
      "\n",
      "Processing Query 324/1034 (ID: spider_dev_q323_idx323): 'What are the first names of all players, and their total ranking points?' (True DB: wta_1)\n"
     ]
    },
    {
     "data": {
      "application/vnd.jupyter.widget-view+json": {
       "model_id": "71391986305e49d39dd6a3bf046f9720",
       "version_major": 2,
       "version_minor": 0
      },
      "text/plain": [
       "  DBs for Q:spider_dev_q323_idx3:   0%|          | 0/166 [00:00<?, ?it/s]"
      ]
     },
     "metadata": {},
     "output_type": "display_data"
    },
    {
     "name": "stdout",
     "output_type": "stream",
     "text": [
      "\n",
      "Processing Query 325/1034 (ID: spider_dev_q324_idx324): 'How many different loser names are there?' (True DB: wta_1)\n"
     ]
    },
    {
     "data": {
      "application/vnd.jupyter.widget-view+json": {
       "model_id": "01e3f91dbd284e7599f3b5da670d9896",
       "version_major": 2,
       "version_minor": 0
      },
      "text/plain": [
       "  DBs for Q:spider_dev_q324_idx3:   0%|          | 0/166 [00:00<?, ?it/s]"
      ]
     },
     "metadata": {},
     "output_type": "display_data"
    },
    {
     "name": "stdout",
     "output_type": "stream",
     "text": [
      "\n",
      "Processing Query 326/1034 (ID: spider_dev_q325_idx325): 'For each hometown, how many teachers are there?' (True DB: course_teach)\n"
     ]
    },
    {
     "data": {
      "application/vnd.jupyter.widget-view+json": {
       "model_id": "c54a30d8689f4262ad4f840de8991861",
       "version_major": 2,
       "version_minor": 0
      },
      "text/plain": [
       "  DBs for Q:spider_dev_q325_idx3:   0%|          | 0/166 [00:00<?, ?it/s]"
      ]
     },
     "metadata": {},
     "output_type": "display_data"
    },
    {
     "name": "stdout",
     "output_type": "stream",
     "text": [
      "\n",
      "Processing Query 327/1034 (ID: spider_dev_q326_idx326): 'What model has the most different versions?' (True DB: car_1)\n"
     ]
    },
    {
     "data": {
      "application/vnd.jupyter.widget-view+json": {
       "model_id": "f454e929842440ad8ea5e0fb38545e7d",
       "version_major": 2,
       "version_minor": 0
      },
      "text/plain": [
       "  DBs for Q:spider_dev_q326_idx3:   0%|          | 0/166 [00:00<?, ?it/s]"
      ]
     },
     "metadata": {},
     "output_type": "display_data"
    },
    {
     "name": "stdout",
     "output_type": "stream",
     "text": [
      "\n",
      "Processing Query 328/1034 (ID: spider_dev_q327_idx327): 'How many United Airlines flights go to City 'Aberdeen'?' (True DB: flight_2)\n"
     ]
    },
    {
     "data": {
      "application/vnd.jupyter.widget-view+json": {
       "model_id": "ab81af1895f34578a9c90fd97dc7ed07",
       "version_major": 2,
       "version_minor": 0
      },
      "text/plain": [
       "  DBs for Q:spider_dev_q327_idx3:   0%|          | 0/166 [00:00<?, ?it/s]"
      ]
     },
     "metadata": {},
     "output_type": "display_data"
    },
    {
     "name": "stdout",
     "output_type": "stream",
     "text": [
      "\n",
      "Processing Query 329/1034 (ID: spider_dev_q328_idx328): 'find the code of the country where has the greatest number of players.' (True DB: wta_1)\n"
     ]
    },
    {
     "data": {
      "application/vnd.jupyter.widget-view+json": {
       "model_id": "28688ec9a85b4924b9d9b61b1d7e2769",
       "version_major": 2,
       "version_minor": 0
      },
      "text/plain": [
       "  DBs for Q:spider_dev_q328_idx3:   0%|          | 0/166 [00:00<?, ?it/s]"
      ]
     },
     "metadata": {},
     "output_type": "display_data"
    },
    {
     "name": "stdout",
     "output_type": "stream",
     "text": [
      "\n",
      "Processing Query 330/1034 (ID: spider_dev_q329_idx329): 'What's the name of the course with most number of enrollments?' (True DB: student_transcripts_tracking)\n"
     ]
    },
    {
     "data": {
      "application/vnd.jupyter.widget-view+json": {
       "model_id": "ac37783e6fcd4b40b8e191d3e8ce246b",
       "version_major": 2,
       "version_minor": 0
      },
      "text/plain": [
       "  DBs for Q:spider_dev_q329_idx3:   0%|          | 0/166 [00:00<?, ?it/s]"
      ]
     },
     "metadata": {},
     "output_type": "display_data"
    },
    {
     "name": "stdout",
     "output_type": "stream",
     "text": [
      "\n",
      "Processing Query 331/1034 (ID: spider_dev_q330_idx330): 'What are each professional's first name and description of the treatment they have performed?' (True DB: dog_kennels)\n"
     ]
    },
    {
     "data": {
      "application/vnd.jupyter.widget-view+json": {
       "model_id": "58deb1f328754f728efc32ef80df0b5f",
       "version_major": 2,
       "version_minor": 0
      },
      "text/plain": [
       "  DBs for Q:spider_dev_q330_idx3:   0%|          | 0/166 [00:00<?, ?it/s]"
      ]
     },
     "metadata": {},
     "output_type": "display_data"
    },
    {
     "name": "stdout",
     "output_type": "stream",
     "text": [
      "\n",
      "Processing Query 332/1034 (ID: spider_dev_q331_idx331): 'How many continents are there?' (True DB: car_1)\n"
     ]
    },
    {
     "data": {
      "application/vnd.jupyter.widget-view+json": {
       "model_id": "bbdfc38f8831428987f0d20e722f285d",
       "version_major": 2,
       "version_minor": 0
      },
      "text/plain": [
       "  DBs for Q:spider_dev_q331_idx3:   0%|          | 0/166 [00:00<?, ?it/s]"
      ]
     },
     "metadata": {},
     "output_type": "display_data"
    },
    {
     "name": "stdout",
     "output_type": "stream",
     "text": [
      "\n",
      "Processing Query 333/1034 (ID: spider_dev_q332_idx332): 'Find the number of players for each hand type.' (True DB: wta_1)\n"
     ]
    },
    {
     "data": {
      "application/vnd.jupyter.widget-view+json": {
       "model_id": "1d1276b7a9d9471990b60ac5bb4c9179",
       "version_major": 2,
       "version_minor": 0
      },
      "text/plain": [
       "  DBs for Q:spider_dev_q332_idx3:   0%|          | 0/166 [00:00<?, ?it/s]"
      ]
     },
     "metadata": {},
     "output_type": "display_data"
    },
    {
     "name": "stdout",
     "output_type": "stream",
     "text": [
      "\n",
      "Processing Query 334/1034 (ID: spider_dev_q333_idx333): 'What are the names of airports in Aberdeen?' (True DB: flight_2)\n"
     ]
    },
    {
     "data": {
      "application/vnd.jupyter.widget-view+json": {
       "model_id": "6416bdefb9f94f129e6903d5dc69e08c",
       "version_major": 2,
       "version_minor": 0
      },
      "text/plain": [
       "  DBs for Q:spider_dev_q333_idx3:   0%|          | 0/166 [00:00<?, ?it/s]"
      ]
     },
     "metadata": {},
     "output_type": "display_data"
    },
    {
     "name": "stdout",
     "output_type": "stream",
     "text": [
      "\n",
      "Processing Query 335/1034 (ID: spider_dev_q334_idx334): 'How many people live in countries that do not speak English?' (True DB: world_1)\n"
     ]
    },
    {
     "data": {
      "application/vnd.jupyter.widget-view+json": {
       "model_id": "552968350e954d32a91ec87261f5188b",
       "version_major": 2,
       "version_minor": 0
      },
      "text/plain": [
       "  DBs for Q:spider_dev_q334_idx3:   0%|          | 0/166 [00:00<?, ?it/s]"
      ]
     },
     "metadata": {},
     "output_type": "display_data"
    },
    {
     "name": "stdout",
     "output_type": "stream",
     "text": [
      "\n",
      "Processing Query 336/1034 (ID: spider_dev_q335_idx335): 'What is the series name of the TV Channel that shows the cartoon \"The Rise of the Blue Beetle\"?' (True DB: tvshow)\n"
     ]
    },
    {
     "data": {
      "application/vnd.jupyter.widget-view+json": {
       "model_id": "d004cfff486c4c83bb58982bbb305f29",
       "version_major": 2,
       "version_minor": 0
      },
      "text/plain": [
       "  DBs for Q:spider_dev_q335_idx3:   0%|          | 0/166 [00:00<?, ?it/s]"
      ]
     },
     "metadata": {},
     "output_type": "display_data"
    },
    {
     "name": "stdout",
     "output_type": "stream",
     "text": [
      "\n",
      "Processing Query 337/1034 (ID: spider_dev_q336_idx336): 'List the names of poker players ordered by the final tables made in ascending order.' (True DB: poker_player)\n"
     ]
    },
    {
     "data": {
      "application/vnd.jupyter.widget-view+json": {
       "model_id": "f91d5886d6434b04b59c16b03aff36c7",
       "version_major": 2,
       "version_minor": 0
      },
      "text/plain": [
       "  DBs for Q:spider_dev_q336_idx3:   0%|          | 0/166 [00:00<?, ?it/s]"
      ]
     },
     "metadata": {},
     "output_type": "display_data"
    },
    {
     "name": "stdout",
     "output_type": "stream",
     "text": [
      "\n",
      "Processing Query 338/1034 (ID: spider_dev_q337_idx337): 'How many official languages are spoken in Afghanistan?' (True DB: world_1)\n"
     ]
    },
    {
     "data": {
      "application/vnd.jupyter.widget-view+json": {
       "model_id": "fb1840e2f3434534ba971117de258e3e",
       "version_major": 2,
       "version_minor": 0
      },
      "text/plain": [
       "  DBs for Q:spider_dev_q337_idx3:   0%|          | 0/166 [00:00<?, ?it/s]"
      ]
     },
     "metadata": {},
     "output_type": "display_data"
    },
    {
     "name": "stdout",
     "output_type": "stream",
     "text": [
      "\n",
      "Processing Query 339/1034 (ID: spider_dev_q338_idx338): 'What are the names of the sections in reverse alphabetical order?' (True DB: student_transcripts_tracking)\n"
     ]
    },
    {
     "data": {
      "application/vnd.jupyter.widget-view+json": {
       "model_id": "6c14e6fdb07f4687855ad83c4773f707",
       "version_major": 2,
       "version_minor": 0
      },
      "text/plain": [
       "  DBs for Q:spider_dev_q338_idx3:   0%|          | 0/166 [00:00<?, ?it/s]"
      ]
     },
     "metadata": {},
     "output_type": "display_data"
    },
    {
     "name": "stdout",
     "output_type": "stream",
     "text": [
      "\n",
      "Processing Query 340/1034 (ID: spider_dev_q339_idx339): 'Return the average earnings across all poker players.' (True DB: poker_player)\n"
     ]
    },
    {
     "data": {
      "application/vnd.jupyter.widget-view+json": {
       "model_id": "ff6f006a18d044558e83e5f3238730d7",
       "version_major": 2,
       "version_minor": 0
      },
      "text/plain": [
       "  DBs for Q:spider_dev_q339_idx3:   0%|          | 0/166 [00:00<?, ?it/s]"
      ]
     },
     "metadata": {},
     "output_type": "display_data"
    },
    {
     "name": "stdout",
     "output_type": "stream",
     "text": [
      "\n",
      "Processing Query 341/1034 (ID: spider_dev_q340_idx340): 'What are the names, countries, and ages for every singer in descending order of age?' (True DB: concert_singer)\n"
     ]
    },
    {
     "data": {
      "application/vnd.jupyter.widget-view+json": {
       "model_id": "81407cc16b6f406297d7ccd59707c5d6",
       "version_major": 2,
       "version_minor": 0
      },
      "text/plain": [
       "  DBs for Q:spider_dev_q340_idx3:   0%|          | 0/166 [00:00<?, ?it/s]"
      ]
     },
     "metadata": {},
     "output_type": "display_data"
    },
    {
     "name": "stdout",
     "output_type": "stream",
     "text": [
      "\n",
      "Processing Query 342/1034 (ID: spider_dev_q341_idx341): 'What is the id of the pet owned by the student whose last name is 'Smith'?' (True DB: pets_1)\n"
     ]
    },
    {
     "data": {
      "application/vnd.jupyter.widget-view+json": {
       "model_id": "8481a33183b94adcb12c1632a36a6e5d",
       "version_major": 2,
       "version_minor": 0
      },
      "text/plain": [
       "  DBs for Q:spider_dev_q341_idx3:   0%|          | 0/166 [00:00<?, ?it/s]"
      ]
     },
     "metadata": {},
     "output_type": "display_data"
    },
    {
     "name": "stdout",
     "output_type": "stream",
     "text": [
      "\n",
      "Processing Query 343/1034 (ID: spider_dev_q342_idx342): 'Count the number of flights departing from 'APG'.' (True DB: flight_2)\n"
     ]
    },
    {
     "data": {
      "application/vnd.jupyter.widget-view+json": {
       "model_id": "97fd65bbe44e4b19b524b9dea40254e0",
       "version_major": 2,
       "version_minor": 0
      },
      "text/plain": [
       "  DBs for Q:spider_dev_q342_idx3:   0%|          | 0/166 [00:00<?, ?it/s]"
      ]
     },
     "metadata": {},
     "output_type": "display_data"
    },
    {
     "name": "stdout",
     "output_type": "stream",
     "text": [
      "\n",
      "Processing Query 344/1034 (ID: spider_dev_q343_idx343): 'What are the names of the high schoolers and how many friends does each have?' (True DB: network_1)\n"
     ]
    },
    {
     "data": {
      "application/vnd.jupyter.widget-view+json": {
       "model_id": "111669cd6ddd45eaa5d04be181a27ab9",
       "version_major": 2,
       "version_minor": 0
      },
      "text/plain": [
       "  DBs for Q:spider_dev_q343_idx3:   0%|          | 0/166 [00:00<?, ?it/s]"
      ]
     },
     "metadata": {},
     "output_type": "display_data"
    },
    {
     "name": "stdout",
     "output_type": "stream",
     "text": [
      "\n",
      "Processing Query 345/1034 (ID: spider_dev_q344_idx344): 'What is the minimum weight of the car with 8 cylinders produced in 1974 ?' (True DB: car_1)\n"
     ]
    },
    {
     "data": {
      "application/vnd.jupyter.widget-view+json": {
       "model_id": "739091842d9547d4bda085ad2aceeb68",
       "version_major": 2,
       "version_minor": 0
      },
      "text/plain": [
       "  DBs for Q:spider_dev_q344_idx3:   0%|          | 0/166 [00:00<?, ?it/s]"
      ]
     },
     "metadata": {},
     "output_type": "display_data"
    },
    {
     "name": "stdout",
     "output_type": "stream",
     "text": [
      "\n",
      "Processing Query 346/1034 (ID: spider_dev_q345_idx345): 'Return the first name, last name and email of the owners living in a state whose name contains the substring 'North'.' (True DB: dog_kennels)\n"
     ]
    },
    {
     "data": {
      "application/vnd.jupyter.widget-view+json": {
       "model_id": "d9d02ead7cf847e8bda293b9856ff6a0",
       "version_major": 2,
       "version_minor": 0
      },
      "text/plain": [
       "  DBs for Q:spider_dev_q345_idx3:   0%|          | 0/166 [00:00<?, ?it/s]"
      ]
     },
     "metadata": {},
     "output_type": "display_data"
    },
    {
     "name": "stdout",
     "output_type": "stream",
     "text": [
      "\n",
      "Processing Query 347/1034 (ID: spider_dev_q346_idx346): 'How many continents speak Chinese?' (True DB: world_1)\n"
     ]
    },
    {
     "data": {
      "application/vnd.jupyter.widget-view+json": {
       "model_id": "55972b09c6de46a396b6a64e04af2802",
       "version_major": 2,
       "version_minor": 0
      },
      "text/plain": [
       "  DBs for Q:spider_dev_q346_idx3:   0%|          | 0/166 [00:00<?, ?it/s]"
      ]
     },
     "metadata": {},
     "output_type": "display_data"
    },
    {
     "name": "stdout",
     "output_type": "stream",
     "text": [
      "\n",
      "Processing Query 348/1034 (ID: spider_dev_q347_idx347): 'What are 3 most highly rated episodes in the TV series table and what were those ratings?' (True DB: tvshow)\n"
     ]
    },
    {
     "data": {
      "application/vnd.jupyter.widget-view+json": {
       "model_id": "74c3c539847b4028a5d0e4a1e43396eb",
       "version_major": 2,
       "version_minor": 0
      },
      "text/plain": [
       "  DBs for Q:spider_dev_q347_idx3:   0%|          | 0/166 [00:00<?, ?it/s]"
      ]
     },
     "metadata": {},
     "output_type": "display_data"
    },
    {
     "name": "stdout",
     "output_type": "stream",
     "text": [
      "\n",
      "Processing Query 349/1034 (ID: spider_dev_q348_idx348): 'Show ids for all templates that are used by more than one document.' (True DB: cre_Doc_Template_Mgt)\n"
     ]
    },
    {
     "data": {
      "application/vnd.jupyter.widget-view+json": {
       "model_id": "bdcdd861011f4110b76c9a92dfc2692c",
       "version_major": 2,
       "version_minor": 0
      },
      "text/plain": [
       "  DBs for Q:spider_dev_q348_idx3:   0%|          | 0/166 [00:00<?, ?it/s]"
      ]
     },
     "metadata": {},
     "output_type": "display_data"
    },
    {
     "name": "stdout",
     "output_type": "stream",
     "text": [
      "\n",
      "Processing Query 350/1034 (ID: spider_dev_q349_idx349): 'How many transcripts are released?' (True DB: student_transcripts_tracking)\n"
     ]
    },
    {
     "data": {
      "application/vnd.jupyter.widget-view+json": {
       "model_id": "f7f16956052f4eefac1e769ccd147171",
       "version_major": 2,
       "version_minor": 0
      },
      "text/plain": [
       "  DBs for Q:spider_dev_q349_idx3:   0%|          | 0/166 [00:00<?, ?it/s]"
      ]
     },
     "metadata": {},
     "output_type": "display_data"
    },
    {
     "name": "stdout",
     "output_type": "stream",
     "text": [
      "\n",
      "Processing Query 351/1034 (ID: spider_dev_q350_idx350): 'Which model of the car has the minimum horsepower?' (True DB: car_1)\n"
     ]
    },
    {
     "data": {
      "application/vnd.jupyter.widget-view+json": {
       "model_id": "a595b2fdce13425683026642a7245ee3",
       "version_major": 2,
       "version_minor": 0
      },
      "text/plain": [
       "  DBs for Q:spider_dev_q350_idx3:   0%|          | 0/166 [00:00<?, ?it/s]"
      ]
     },
     "metadata": {},
     "output_type": "display_data"
    },
    {
     "name": "stdout",
     "output_type": "stream",
     "text": [
      "\n",
      "Processing Query 352/1034 (ID: spider_dev_q351_idx351): 'What are the arriving date and the departing date of the dogs who have gone through a treatment?' (True DB: dog_kennels)\n"
     ]
    },
    {
     "data": {
      "application/vnd.jupyter.widget-view+json": {
       "model_id": "3da72363af6243c3af0ba368b61527c4",
       "version_major": 2,
       "version_minor": 0
      },
      "text/plain": [
       "  DBs for Q:spider_dev_q351_idx3:   0%|          | 0/166 [00:00<?, ?it/s]"
      ]
     },
     "metadata": {},
     "output_type": "display_data"
    },
    {
     "name": "stdout",
     "output_type": "stream",
     "text": [
      "\n",
      "Processing Query 353/1034 (ID: spider_dev_q352_idx352): 'What is total bonus given in all evaluations?' (True DB: employee_hire_evaluation)\n"
     ]
    },
    {
     "data": {
      "application/vnd.jupyter.widget-view+json": {
       "model_id": "23b6199a52304ff6923d16ba9fd357ef",
       "version_major": 2,
       "version_minor": 0
      },
      "text/plain": [
       "  DBs for Q:spider_dev_q352_idx3:   0%|          | 0/166 [00:00<?, ?it/s]"
      ]
     },
     "metadata": {},
     "output_type": "display_data"
    },
    {
     "name": "stdout",
     "output_type": "stream",
     "text": [
      "\n",
      "Processing Query 354/1034 (ID: spider_dev_q353_idx353): 'What is the average, minimum, and maximum age of all singers from France?' (True DB: concert_singer)\n"
     ]
    },
    {
     "data": {
      "application/vnd.jupyter.widget-view+json": {
       "model_id": "055e932d93274680a2fd3077efa6b0bd",
       "version_major": 2,
       "version_minor": 0
      },
      "text/plain": [
       "  DBs for Q:spider_dev_q353_idx3:   0%|          | 0/166 [00:00<?, ?it/s]"
      ]
     },
     "metadata": {},
     "output_type": "display_data"
    },
    {
     "name": "stdout",
     "output_type": "stream",
     "text": [
      "\n",
      "Processing Query 355/1034 (ID: spider_dev_q354_idx354): 'Which shop has the most employees? Give me the shop name.' (True DB: employee_hire_evaluation)\n"
     ]
    },
    {
     "data": {
      "application/vnd.jupyter.widget-view+json": {
       "model_id": "2796973616d740338c2360d5b34dbdc7",
       "version_major": 2,
       "version_minor": 0
      },
      "text/plain": [
       "  DBs for Q:spider_dev_q354_idx3:   0%|          | 0/166 [00:00<?, ?it/s]"
      ]
     },
     "metadata": {},
     "output_type": "display_data"
    },
    {
     "name": "stdout",
     "output_type": "stream",
     "text": [
      "\n",
      "Processing Query 356/1034 (ID: spider_dev_q355_idx355): 'What are the names of conductors who have conducted at more than one orchestra?' (True DB: orchestra)\n"
     ]
    },
    {
     "data": {
      "application/vnd.jupyter.widget-view+json": {
       "model_id": "95c3dee2c52e42ce87a0bff51d1559a0",
       "version_major": 2,
       "version_minor": 0
      },
      "text/plain": [
       "  DBs for Q:spider_dev_q355_idx3:   0%|          | 0/166 [00:00<?, ?it/s]"
      ]
     },
     "metadata": {},
     "output_type": "display_data"
    },
    {
     "name": "stdout",
     "output_type": "stream",
     "text": [
      "\n",
      "Processing Query 357/1034 (ID: spider_dev_q356_idx356): 'Which professionals live in a city containing the substring 'West'? List his or her role, street, city and state.' (True DB: dog_kennels)\n"
     ]
    },
    {
     "data": {
      "application/vnd.jupyter.widget-view+json": {
       "model_id": "e728c9c001e74f36a2203d303c50f913",
       "version_major": 2,
       "version_minor": 0
      },
      "text/plain": [
       "  DBs for Q:spider_dev_q356_idx3:   0%|          | 0/166 [00:00<?, ?it/s]"
      ]
     },
     "metadata": {},
     "output_type": "display_data"
    },
    {
     "name": "stdout",
     "output_type": "stream",
     "text": [
      "\n",
      "Processing Query 358/1034 (ID: spider_dev_q357_idx357): 'What is the horsepower of the car with the largest accelerate?' (True DB: car_1)\n"
     ]
    },
    {
     "data": {
      "application/vnd.jupyter.widget-view+json": {
       "model_id": "2c86467a1a4b4ecd9d3274326cd01bfb",
       "version_major": 2,
       "version_minor": 0
      },
      "text/plain": [
       "  DBs for Q:spider_dev_q357_idx3:   0%|          | 0/166 [00:00<?, ?it/s]"
      ]
     },
     "metadata": {},
     "output_type": "display_data"
    },
    {
     "name": "stdout",
     "output_type": "stream",
     "text": [
      "\n",
      "Processing Query 359/1034 (ID: spider_dev_q358_idx358): 'What is the TV Channel that shows the cartoon \"The Rise of the Blue Beetle!\"? List the TV Channel's series name.' (True DB: tvshow)\n"
     ]
    },
    {
     "data": {
      "application/vnd.jupyter.widget-view+json": {
       "model_id": "6e08c410520148e09f8a8f51c95152ca",
       "version_major": 2,
       "version_minor": 0
      },
      "text/plain": [
       "  DBs for Q:spider_dev_q358_idx3:   0%|          | 0/166 [00:00<?, ?it/s]"
      ]
     },
     "metadata": {},
     "output_type": "display_data"
    },
    {
     "name": "stdout",
     "output_type": "stream",
     "text": [
      "\n",
      "Processing Query 360/1034 (ID: spider_dev_q359_idx359): 'Find the average weight for each pet type.' (True DB: pets_1)\n"
     ]
    },
    {
     "data": {
      "application/vnd.jupyter.widget-view+json": {
       "model_id": "b1262ce9b8424b5183376622658b53ef",
       "version_major": 2,
       "version_minor": 0
      },
      "text/plain": [
       "  DBs for Q:spider_dev_q359_idx3:   0%|          | 0/166 [00:00<?, ?it/s]"
      ]
     },
     "metadata": {},
     "output_type": "display_data"
    },
    {
     "name": "stdout",
     "output_type": "stream",
     "text": [
      "\n",
      "Processing Query 361/1034 (ID: spider_dev_q360_idx360): 'What is the official language spoken in the country whose head of state is Beatrix?' (True DB: world_1)\n"
     ]
    },
    {
     "data": {
      "application/vnd.jupyter.widget-view+json": {
       "model_id": "04b3a642959947398b4532321b2083d5",
       "version_major": 2,
       "version_minor": 0
      },
      "text/plain": [
       "  DBs for Q:spider_dev_q360_idx3:   0%|          | 0/166 [00:00<?, ?it/s]"
      ]
     },
     "metadata": {},
     "output_type": "display_data"
    },
    {
     "name": "stdout",
     "output_type": "stream",
     "text": [
      "\n",
      "Processing Query 362/1034 (ID: spider_dev_q361_idx361): 'What is the total number of airlines?' (True DB: flight_2)\n"
     ]
    },
    {
     "data": {
      "application/vnd.jupyter.widget-view+json": {
       "model_id": "8425e637fdea4750a93353d868be2a98",
       "version_major": 2,
       "version_minor": 0
      },
      "text/plain": [
       "  DBs for Q:spider_dev_q361_idx3:   0%|          | 0/166 [00:00<?, ?it/s]"
      ]
     },
     "metadata": {},
     "output_type": "display_data"
    },
    {
     "name": "stdout",
     "output_type": "stream",
     "text": [
      "\n",
      "Processing Query 363/1034 (ID: spider_dev_q362_idx362): 'List the contestant numbers and names, ordered by contestant name descending.' (True DB: voter_1)\n"
     ]
    },
    {
     "data": {
      "application/vnd.jupyter.widget-view+json": {
       "model_id": "b48ef62b130844eead8cfc669d13ccd3",
       "version_major": 2,
       "version_minor": 0
      },
      "text/plain": [
       "  DBs for Q:spider_dev_q362_idx3:   0%|          | 0/166 [00:00<?, ?it/s]"
      ]
     },
     "metadata": {},
     "output_type": "display_data"
    },
    {
     "name": "stdout",
     "output_type": "stream",
     "text": [
      "\n",
      "Processing Query 364/1034 (ID: spider_dev_q363_idx363): 'What is the name of the country with the most car makers?' (True DB: car_1)\n"
     ]
    },
    {
     "data": {
      "application/vnd.jupyter.widget-view+json": {
       "model_id": "1130e277eb5b4e0585cddd0b47e131c1",
       "version_major": 2,
       "version_minor": 0
      },
      "text/plain": [
       "  DBs for Q:spider_dev_q363_idx3:   0%|          | 0/166 [00:00<?, ?it/s]"
      ]
     },
     "metadata": {},
     "output_type": "display_data"
    },
    {
     "name": "stdout",
     "output_type": "stream",
     "text": [
      "\n",
      "Processing Query 365/1034 (ID: spider_dev_q364_idx364): 'What is the maximum accelerate for all the different cylinders?' (True DB: car_1)\n"
     ]
    },
    {
     "data": {
      "application/vnd.jupyter.widget-view+json": {
       "model_id": "7483f9e3cff64a81a5e554c254442bea",
       "version_major": 2,
       "version_minor": 0
      },
      "text/plain": [
       "  DBs for Q:spider_dev_q364_idx3:   0%|          | 0/166 [00:00<?, ?it/s]"
      ]
     },
     "metadata": {},
     "output_type": "display_data"
    },
    {
     "name": "stdout",
     "output_type": "stream",
     "text": [
      "\n",
      "Processing Query 366/1034 (ID: spider_dev_q365_idx365): 'What is the air date of TV series with Episode \"A Love of a Lifetime\"?' (True DB: tvshow)\n"
     ]
    },
    {
     "data": {
      "application/vnd.jupyter.widget-view+json": {
       "model_id": "1f0dd9176a97452e8ae44236e7f4af00",
       "version_major": 2,
       "version_minor": 0
      },
      "text/plain": [
       "  DBs for Q:spider_dev_q365_idx3:   0%|          | 0/166 [00:00<?, ?it/s]"
      ]
     },
     "metadata": {},
     "output_type": "display_data"
    },
    {
     "name": "stdout",
     "output_type": "stream",
     "text": [
      "\n",
      "Processing Query 367/1034 (ID: spider_dev_q366_idx366): 'Give the name, population, and head of state for the country that has the largest area.' (True DB: world_1)\n"
     ]
    },
    {
     "data": {
      "application/vnd.jupyter.widget-view+json": {
       "model_id": "dc0d6e0f4a6347b4b808b6c4e017698c",
       "version_major": 2,
       "version_minor": 0
      },
      "text/plain": [
       "  DBs for Q:spider_dev_q366_idx3:   0%|          | 0/166 [00:00<?, ?it/s]"
      ]
     },
     "metadata": {},
     "output_type": "display_data"
    },
    {
     "name": "stdout",
     "output_type": "stream",
     "text": [
      "\n",
      "Processing Query 368/1034 (ID: spider_dev_q367_idx367): 'find the id of tv channels that do not play any cartoon directed by Ben Jones.' (True DB: tvshow)\n"
     ]
    },
    {
     "data": {
      "application/vnd.jupyter.widget-view+json": {
       "model_id": "10885bee2b5647fc8cf6fdf64b5582cf",
       "version_major": 2,
       "version_minor": 0
      },
      "text/plain": [
       "  DBs for Q:spider_dev_q367_idx3:   0%|          | 0/166 [00:00<?, ?it/s]"
      ]
     },
     "metadata": {},
     "output_type": "display_data"
    },
    {
     "name": "stdout",
     "output_type": "stream",
     "text": [
      "\n",
      "Processing Query 369/1034 (ID: spider_dev_q368_idx368): 'What is the total population of Gelderland district?' (True DB: world_1)\n"
     ]
    },
    {
     "data": {
      "application/vnd.jupyter.widget-view+json": {
       "model_id": "f1a4c0ba98da4c679b071ce8a349ed2e",
       "version_major": 2,
       "version_minor": 0
      },
      "text/plain": [
       "  DBs for Q:spider_dev_q368_idx3:   0%|          | 0/166 [00:00<?, ?it/s]"
      ]
     },
     "metadata": {},
     "output_type": "display_data"
    },
    {
     "name": "stdout",
     "output_type": "stream",
     "text": [
      "\n",
      "Processing Query 370/1034 (ID: spider_dev_q369_idx369): 'What are flight numbers of flights arriving at Airport \"APG\"?' (True DB: flight_2)\n"
     ]
    },
    {
     "data": {
      "application/vnd.jupyter.widget-view+json": {
       "model_id": "fa850c5905dc40128474b8afc8f9af4c",
       "version_major": 2,
       "version_minor": 0
      },
      "text/plain": [
       "  DBs for Q:spider_dev_q369_idx3:   0%|          | 0/166 [00:00<?, ?it/s]"
      ]
     },
     "metadata": {},
     "output_type": "display_data"
    },
    {
     "name": "stdout",
     "output_type": "stream",
     "text": [
      "\n",
      "Processing Query 371/1034 (ID: spider_dev_q370_idx370): 'Return the names of conductors that do not have the nationality \"USA\".' (True DB: orchestra)\n"
     ]
    },
    {
     "data": {
      "application/vnd.jupyter.widget-view+json": {
       "model_id": "3c376fb078f744e6969f2d3548f82a73",
       "version_major": 2,
       "version_minor": 0
      },
      "text/plain": [
       "  DBs for Q:spider_dev_q370_idx3:   0%|          | 0/166 [00:00<?, ?it/s]"
      ]
     },
     "metadata": {},
     "output_type": "display_data"
    },
    {
     "name": "stdout",
     "output_type": "stream",
     "text": [
      "\n",
      "Processing Query 372/1034 (ID: spider_dev_q371_idx371): 'What are the names of nations speak both English and French?' (True DB: world_1)\n"
     ]
    },
    {
     "data": {
      "application/vnd.jupyter.widget-view+json": {
       "model_id": "ffe5c4d3a3324849a3c788571ac0d31c",
       "version_major": 2,
       "version_minor": 0
      },
      "text/plain": [
       "  DBs for Q:spider_dev_q371_idx3:   0%|          | 0/166 [00:00<?, ?it/s]"
      ]
     },
     "metadata": {},
     "output_type": "display_data"
    },
    {
     "name": "stdout",
     "output_type": "stream",
     "text": [
      "\n",
      "Processing Query 373/1034 (ID: spider_dev_q372_idx372): 'Give the name of the student with the most likes.' (True DB: network_1)\n"
     ]
    },
    {
     "data": {
      "application/vnd.jupyter.widget-view+json": {
       "model_id": "4c1c89b4e3ff478e8a2787fde03cf7ad",
       "version_major": 2,
       "version_minor": 0
      },
      "text/plain": [
       "  DBs for Q:spider_dev_q372_idx3:   0%|          | 0/166 [00:00<?, ?it/s]"
      ]
     },
     "metadata": {},
     "output_type": "display_data"
    },
    {
     "name": "stdout",
     "output_type": "stream",
     "text": [
      "\n",
      "Processing Query 374/1034 (ID: spider_dev_q373_idx373): 'Which languages are spoken by only one country in republic governments?' (True DB: world_1)\n"
     ]
    },
    {
     "data": {
      "application/vnd.jupyter.widget-view+json": {
       "model_id": "367c9a063106472c838d7fb80d0a254b",
       "version_major": 2,
       "version_minor": 0
      },
      "text/plain": [
       "  DBs for Q:spider_dev_q373_idx3:   0%|          | 0/166 [00:00<?, ?it/s]"
      ]
     },
     "metadata": {},
     "output_type": "display_data"
    },
    {
     "name": "stdout",
     "output_type": "stream",
     "text": [
      "\n",
      "Processing Query 375/1034 (ID: spider_dev_q374_idx374): 'How many states are there?' (True DB: voter_1)\n"
     ]
    },
    {
     "data": {
      "application/vnd.jupyter.widget-view+json": {
       "model_id": "6ec37b76c4bb4edc8b2ac9968d3155cb",
       "version_major": 2,
       "version_minor": 0
      },
      "text/plain": [
       "  DBs for Q:spider_dev_q374_idx3:   0%|          | 0/166 [00:00<?, ?it/s]"
      ]
     },
     "metadata": {},
     "output_type": "display_data"
    },
    {
     "name": "stdout",
     "output_type": "stream",
     "text": [
      "\n",
      "Processing Query 376/1034 (ID: spider_dev_q375_idx375): 'Which city has most number of departing flights?' (True DB: flight_2)\n"
     ]
    },
    {
     "data": {
      "application/vnd.jupyter.widget-view+json": {
       "model_id": "e6a273c5ce6d45c6a596a0a02117e2ec",
       "version_major": 2,
       "version_minor": 0
      },
      "text/plain": [
       "  DBs for Q:spider_dev_q375_idx3:   0%|          | 0/166 [00:00<?, ?it/s]"
      ]
     },
     "metadata": {},
     "output_type": "display_data"
    },
    {
     "name": "stdout",
     "output_type": "stream",
     "text": [
      "\n",
      "Processing Query 377/1034 (ID: spider_dev_q376_idx376): 'What are the first names of every student who has a cat or dog as a pet?' (True DB: pets_1)\n"
     ]
    },
    {
     "data": {
      "application/vnd.jupyter.widget-view+json": {
       "model_id": "1ee2ebc4b8144afea24038920f9649d5",
       "version_major": 2,
       "version_minor": 0
      },
      "text/plain": [
       "  DBs for Q:spider_dev_q376_idx3:   0%|          | 0/166 [00:00<?, ?it/s]"
      ]
     },
     "metadata": {},
     "output_type": "display_data"
    },
    {
     "name": "stdout",
     "output_type": "stream",
     "text": [
      "\n",
      "Processing Query 378/1034 (ID: spider_dev_q377_idx377): 'List the names of teachers in ascending order of age.' (True DB: course_teach)\n"
     ]
    },
    {
     "data": {
      "application/vnd.jupyter.widget-view+json": {
       "model_id": "ae6f705a4c0540cba44b6bef47ed69b6",
       "version_major": 2,
       "version_minor": 0
      },
      "text/plain": [
       "  DBs for Q:spider_dev_q377_idx3:   0%|          | 0/166 [00:00<?, ?it/s]"
      ]
     },
     "metadata": {},
     "output_type": "display_data"
    },
    {
     "name": "stdout",
     "output_type": "stream",
     "text": [
      "\n",
      "Processing Query 379/1034 (ID: spider_dev_q378_idx378): 'How many degrees does the engineering department offer?' (True DB: student_transcripts_tracking)\n"
     ]
    },
    {
     "data": {
      "application/vnd.jupyter.widget-view+json": {
       "model_id": "0cf2cf8278514e8e93cf7e46e2087656",
       "version_major": 2,
       "version_minor": 0
      },
      "text/plain": [
       "  DBs for Q:spider_dev_q378_idx3:   0%|          | 0/166 [00:00<?, ?it/s]"
      ]
     },
     "metadata": {},
     "output_type": "display_data"
    },
    {
     "name": "stdout",
     "output_type": "stream",
     "text": [
      "\n",
      "Processing Query 380/1034 (ID: spider_dev_q379_idx379): 'Return the owner id, first name and last name of the owner who has the most dogs.' (True DB: dog_kennels)\n"
     ]
    },
    {
     "data": {
      "application/vnd.jupyter.widget-view+json": {
       "model_id": "0b864604c5b444d0bea118c73129b1c1",
       "version_major": 2,
       "version_minor": 0
      },
      "text/plain": [
       "  DBs for Q:spider_dev_q379_idx3:   0%|          | 0/166 [00:00<?, ?it/s]"
      ]
     },
     "metadata": {},
     "output_type": "display_data"
    },
    {
     "name": "stdout",
     "output_type": "stream",
     "text": [
      "\n",
      "Processing Query 381/1034 (ID: spider_dev_q380_idx380): 'Find the minimum grade of students who have no friends.' (True DB: network_1)\n"
     ]
    },
    {
     "data": {
      "application/vnd.jupyter.widget-view+json": {
       "model_id": "561f1c5bce4241448202ede04a34a6ed",
       "version_major": 2,
       "version_minor": 0
      },
      "text/plain": [
       "  DBs for Q:spider_dev_q380_idx3:   0%|          | 0/166 [00:00<?, ?it/s]"
      ]
     },
     "metadata": {},
     "output_type": "display_data"
    },
    {
     "name": "stdout",
     "output_type": "stream",
     "text": [
      "\n",
      "Processing Query 382/1034 (ID: spider_dev_q381_idx381): 'How many flights does airline 'JetBlue Airways' have?' (True DB: flight_2)\n"
     ]
    },
    {
     "data": {
      "application/vnd.jupyter.widget-view+json": {
       "model_id": "70484c3502d94b03a8857ca289be2ada",
       "version_major": 2,
       "version_minor": 0
      },
      "text/plain": [
       "  DBs for Q:spider_dev_q381_idx3:   0%|          | 0/166 [00:00<?, ?it/s]"
      ]
     },
     "metadata": {},
     "output_type": "display_data"
    },
    {
     "name": "stdout",
     "output_type": "stream",
     "text": [
      "\n",
      "Processing Query 383/1034 (ID: spider_dev_q382_idx382): 'How many courses are there?' (True DB: student_transcripts_tracking)\n"
     ]
    },
    {
     "data": {
      "application/vnd.jupyter.widget-view+json": {
       "model_id": "4ab419eb5fb24f8b8a9964ffabb552d3",
       "version_major": 2,
       "version_minor": 0
      },
      "text/plain": [
       "  DBs for Q:spider_dev_q382_idx3:   0%|          | 0/166 [00:00<?, ?it/s]"
      ]
     },
     "metadata": {},
     "output_type": "display_data"
    },
    {
     "name": "stdout",
     "output_type": "stream",
     "text": [
      "\n",
      "Processing Query 384/1034 (ID: spider_dev_q383_idx383): 'Give the language that is spoken in the most countries.' (True DB: world_1)\n"
     ]
    },
    {
     "data": {
      "application/vnd.jupyter.widget-view+json": {
       "model_id": "9541c79d66fd470f993b15beaf6fad2f",
       "version_major": 2,
       "version_minor": 0
      },
      "text/plain": [
       "  DBs for Q:spider_dev_q383_idx3:   0%|          | 0/166 [00:00<?, ?it/s]"
      ]
     },
     "metadata": {},
     "output_type": "display_data"
    },
    {
     "name": "stdout",
     "output_type": "stream",
     "text": [
      "\n",
      "Processing Query 385/1034 (ID: spider_dev_q384_idx384): 'Find the number of owners who do not own any dogs at this moment.' (True DB: dog_kennels)\n"
     ]
    },
    {
     "data": {
      "application/vnd.jupyter.widget-view+json": {
       "model_id": "631ef62840a84dd1a249caccd72375d9",
       "version_major": 2,
       "version_minor": 0
      },
      "text/plain": [
       "  DBs for Q:spider_dev_q384_idx3:   0%|          | 0/166 [00:00<?, ?it/s]"
      ]
     },
     "metadata": {},
     "output_type": "display_data"
    },
    {
     "name": "stdout",
     "output_type": "stream",
     "text": [
      "\n",
      "Processing Query 386/1034 (ID: spider_dev_q385_idx385): 'What is the birth date of the poker player with the lowest earnings?' (True DB: poker_player)\n"
     ]
    },
    {
     "data": {
      "application/vnd.jupyter.widget-view+json": {
       "model_id": "221ec2373d884dbab4bf2350935d73e7",
       "version_major": 2,
       "version_minor": 0
      },
      "text/plain": [
       "  DBs for Q:spider_dev_q385_idx3:   0%|          | 0/166 [00:00<?, ?it/s]"
      ]
     },
     "metadata": {},
     "output_type": "display_data"
    },
    {
     "name": "stdout",
     "output_type": "stream",
     "text": [
      "\n",
      "Processing Query 387/1034 (ID: spider_dev_q386_idx386): 'Show different citizenship of singers and the number of singers of each citizenship.' (True DB: singer)\n"
     ]
    },
    {
     "data": {
      "application/vnd.jupyter.widget-view+json": {
       "model_id": "4f31f9f1272740f5b3869b324067af89",
       "version_major": 2,
       "version_minor": 0
      },
      "text/plain": [
       "  DBs for Q:spider_dev_q386_idx3:   0%|          | 0/166 [00:00<?, ?it/s]"
      ]
     },
     "metadata": {},
     "output_type": "display_data"
    },
    {
     "name": "stdout",
     "output_type": "stream",
     "text": [
      "\n",
      "Processing Query 388/1034 (ID: spider_dev_q387_idx387): 'Which cities are in European countries where English is not the official language?' (True DB: world_1)\n"
     ]
    },
    {
     "data": {
      "application/vnd.jupyter.widget-view+json": {
       "model_id": "e97abdbf265f48bf9b1eacc00a38bd29",
       "version_major": 2,
       "version_minor": 0
      },
      "text/plain": [
       "  DBs for Q:spider_dev_q387_idx3:   0%|          | 0/166 [00:00<?, ?it/s]"
      ]
     },
     "metadata": {},
     "output_type": "display_data"
    },
    {
     "name": "stdout",
     "output_type": "stream",
     "text": [
      "\n",
      "Processing Query 389/1034 (ID: spider_dev_q388_idx388): 'What is the smallest weight of the car produced with 8 cylinders on 1974 ?' (True DB: car_1)\n"
     ]
    },
    {
     "data": {
      "application/vnd.jupyter.widget-view+json": {
       "model_id": "765673ebdec842f1880b1f63651c5c37",
       "version_major": 2,
       "version_minor": 0
      },
      "text/plain": [
       "  DBs for Q:spider_dev_q388_idx3:   0%|          | 0/166 [00:00<?, ?it/s]"
      ]
     },
     "metadata": {},
     "output_type": "display_data"
    },
    {
     "name": "stdout",
     "output_type": "stream",
     "text": [
      "\n",
      "Processing Query 390/1034 (ID: spider_dev_q389_idx389): 'Which professionals live in the state of Indiana or have done treatment on more than 2 treatments? List his or her id, last name and cell phone.' (True DB: dog_kennels)\n"
     ]
    },
    {
     "data": {
      "application/vnd.jupyter.widget-view+json": {
       "model_id": "728ebbe3f6d44490ac7cbb386be59a63",
       "version_major": 2,
       "version_minor": 0
      },
      "text/plain": [
       "  DBs for Q:spider_dev_q389_idx3:   0%|          | 0/166 [00:00<?, ?it/s]"
      ]
     },
     "metadata": {},
     "output_type": "display_data"
    },
    {
     "name": "stdout",
     "output_type": "stream",
     "text": [
      "\n",
      "Processing Query 391/1034 (ID: spider_dev_q390_idx390): 'How many airlines are from USA?' (True DB: flight_2)\n"
     ]
    },
    {
     "data": {
      "application/vnd.jupyter.widget-view+json": {
       "model_id": "db8d1162c2f54cb4a68347ac09bdc590",
       "version_major": 2,
       "version_minor": 0
      },
      "text/plain": [
       "  DBs for Q:spider_dev_q390_idx3:   0%|          | 0/166 [00:00<?, ?it/s]"
      ]
     },
     "metadata": {},
     "output_type": "display_data"
    },
    {
     "name": "stdout",
     "output_type": "stream",
     "text": [
      "\n",
      "Processing Query 392/1034 (ID: spider_dev_q391_idx391): 'Find the name and rank of the 3 youngest winners across all matches.' (True DB: wta_1)\n"
     ]
    },
    {
     "data": {
      "application/vnd.jupyter.widget-view+json": {
       "model_id": "07bba329b7e340ffa9ef11db65269624",
       "version_major": 2,
       "version_minor": 0
      },
      "text/plain": [
       "  DBs for Q:spider_dev_q391_idx3:   0%|          | 0/166 [00:00<?, ?it/s]"
      ]
     },
     "metadata": {},
     "output_type": "display_data"
    },
    {
     "name": "stdout",
     "output_type": "stream",
     "text": [
      "\n",
      "Processing Query 393/1034 (ID: spider_dev_q392_idx392): 'What are the different government forms and what is the total population of each for government forms that have an average life expectancy greater than 72?' (True DB: world_1)\n"
     ]
    },
    {
     "data": {
      "application/vnd.jupyter.widget-view+json": {
       "model_id": "f7f8ff2493614411939c6f2eb0d1f624",
       "version_major": 2,
       "version_minor": 0
      },
      "text/plain": [
       "  DBs for Q:spider_dev_q392_idx3:   0%|          | 0/166 [00:00<?, ?it/s]"
      ]
     },
     "metadata": {},
     "output_type": "display_data"
    },
    {
     "name": "stdout",
     "output_type": "stream",
     "text": [
      "\n",
      "Processing Query 394/1034 (ID: spider_dev_q393_idx393): 'What are the countries that are not playing cartoons written by Todd Casey?' (True DB: tvshow)\n"
     ]
    },
    {
     "data": {
      "application/vnd.jupyter.widget-view+json": {
       "model_id": "12530df3d6704a64b6d7567957aeabb3",
       "version_major": 2,
       "version_minor": 0
      },
      "text/plain": [
       "  DBs for Q:spider_dev_q393_idx3:   0%|          | 0/166 [00:00<?, ?it/s]"
      ]
     },
     "metadata": {},
     "output_type": "display_data"
    },
    {
     "name": "stdout",
     "output_type": "stream",
     "text": [
      "\n",
      "Processing Query 395/1034 (ID: spider_dev_q394_idx394): 'Which professional did not operate any treatment on dogs? List the professional's id, role and email.' (True DB: dog_kennels)\n"
     ]
    },
    {
     "data": {
      "application/vnd.jupyter.widget-view+json": {
       "model_id": "dc1fcd11e62f4690af33045a905d7516",
       "version_major": 2,
       "version_minor": 0
      },
      "text/plain": [
       "  DBs for Q:spider_dev_q394_idx3:   0%|          | 0/166 [00:00<?, ?it/s]"
      ]
     },
     "metadata": {},
     "output_type": "display_data"
    },
    {
     "name": "stdout",
     "output_type": "stream",
     "text": [
      "\n",
      "Processing Query 396/1034 (ID: spider_dev_q395_idx395): 'Which grades have 4 or more high schoolers?' (True DB: network_1)\n"
     ]
    },
    {
     "data": {
      "application/vnd.jupyter.widget-view+json": {
       "model_id": "1fae6e8599784eb8ab69ddbab1f2d5d9",
       "version_major": 2,
       "version_minor": 0
      },
      "text/plain": [
       "  DBs for Q:spider_dev_q395_idx3:   0%|          | 0/166 [00:00<?, ?it/s]"
      ]
     },
     "metadata": {},
     "output_type": "display_data"
    },
    {
     "name": "stdout",
     "output_type": "stream",
     "text": [
      "\n",
      "Processing Query 397/1034 (ID: spider_dev_q396_idx396): 'List the final tables made and the best finishes of poker players.' (True DB: poker_player)\n"
     ]
    },
    {
     "data": {
      "application/vnd.jupyter.widget-view+json": {
       "model_id": "8761620f47ff49da9e50c558b5bfa44b",
       "version_major": 2,
       "version_minor": 0
      },
      "text/plain": [
       "  DBs for Q:spider_dev_q396_idx3:   0%|          | 0/166 [00:00<?, ?it/s]"
      ]
     },
     "metadata": {},
     "output_type": "display_data"
    },
    {
     "name": "stdout",
     "output_type": "stream",
     "text": [
      "\n",
      "Processing Query 398/1034 (ID: spider_dev_q397_idx397): 'What are the names of poker players?' (True DB: poker_player)\n"
     ]
    },
    {
     "data": {
      "application/vnd.jupyter.widget-view+json": {
       "model_id": "2df38ef6f21e4995bb7c2b53593bb5fc",
       "version_major": 2,
       "version_minor": 0
      },
      "text/plain": [
       "  DBs for Q:spider_dev_q397_idx3:   0%|          | 0/166 [00:00<?, ?it/s]"
      ]
     },
     "metadata": {},
     "output_type": "display_data"
    },
    {
     "name": "stdout",
     "output_type": "stream",
     "text": [
      "\n",
      "Processing Query 399/1034 (ID: spider_dev_q398_idx398): 'Find the first name and country code of the oldest player.' (True DB: wta_1)\n"
     ]
    },
    {
     "data": {
      "application/vnd.jupyter.widget-view+json": {
       "model_id": "95ea6166072843d89dff8b2a56e20093",
       "version_major": 2,
       "version_minor": 0
      },
      "text/plain": [
       "  DBs for Q:spider_dev_q398_idx3:   0%|          | 0/166 [00:00<?, ?it/s]"
      ]
     },
     "metadata": {},
     "output_type": "display_data"
    },
    {
     "name": "stdout",
     "output_type": "stream",
     "text": [
      "\n",
      "Processing Query 400/1034 (ID: spider_dev_q399_idx399): 'What is the first, middle, and last name of the earliest school graduate?' (True DB: student_transcripts_tracking)\n"
     ]
    },
    {
     "data": {
      "application/vnd.jupyter.widget-view+json": {
       "model_id": "d309ee9a1785470ba01d2dbf79973077",
       "version_major": 2,
       "version_minor": 0
      },
      "text/plain": [
       "  DBs for Q:spider_dev_q399_idx3:   0%|          | 0/166 [00:00<?, ?it/s]"
      ]
     },
     "metadata": {},
     "output_type": "display_data"
    },
    {
     "name": "stdout",
     "output_type": "stream",
     "text": [
      "\n",
      "Processing Query 401/1034 (ID: spider_dev_q400_idx400): 'Return the ids of templates that have the code PP or PPT.' (True DB: cre_Doc_Template_Mgt)\n"
     ]
    },
    {
     "data": {
      "application/vnd.jupyter.widget-view+json": {
       "model_id": "618459968ec44ab4827863aa730011c5",
       "version_major": 2,
       "version_minor": 0
      },
      "text/plain": [
       "  DBs for Q:spider_dev_q400_idx4:   0%|          | 0/166 [00:00<?, ?it/s]"
      ]
     },
     "metadata": {},
     "output_type": "display_data"
    },
    {
     "name": "stdout",
     "output_type": "stream",
     "text": [
      "\n",
      "Processing Query 402/1034 (ID: spider_dev_q401_idx401): 'List the name of singers whose citizenship is not \"France\".' (True DB: singer)\n"
     ]
    },
    {
     "data": {
      "application/vnd.jupyter.widget-view+json": {
       "model_id": "2e4416d354964955bef8f9ce5f100a45",
       "version_major": 2,
       "version_minor": 0
      },
      "text/plain": [
       "  DBs for Q:spider_dev_q401_idx4:   0%|          | 0/166 [00:00<?, ?it/s]"
      ]
     },
     "metadata": {},
     "output_type": "display_data"
    },
    {
     "name": "stdout",
     "output_type": "stream",
     "text": [
      "\n",
      "Processing Query 403/1034 (ID: spider_dev_q402_idx402): 'Give average earnings of poker players who are taller than 200.' (True DB: poker_player)\n"
     ]
    },
    {
     "data": {
      "application/vnd.jupyter.widget-view+json": {
       "model_id": "b0def64a6ffe456d849d7486ac40001d",
       "version_major": 2,
       "version_minor": 0
      },
      "text/plain": [
       "  DBs for Q:spider_dev_q402_idx4:   0%|          | 0/166 [00:00<?, ?it/s]"
      ]
     },
     "metadata": {},
     "output_type": "display_data"
    },
    {
     "name": "stdout",
     "output_type": "stream",
     "text": [
      "\n",
      "Processing Query 404/1034 (ID: spider_dev_q403_idx403): 'What are the first names of all players, and their average rankings?' (True DB: wta_1)\n"
     ]
    },
    {
     "data": {
      "application/vnd.jupyter.widget-view+json": {
       "model_id": "88cb2e953f5c4e35a1e0e6ededbd446b",
       "version_major": 2,
       "version_minor": 0
      },
      "text/plain": [
       "  DBs for Q:spider_dev_q403_idx4:   0%|          | 0/166 [00:00<?, ?it/s]"
      ]
     },
     "metadata": {},
     "output_type": "display_data"
    },
    {
     "name": "stdout",
     "output_type": "stream",
     "text": [
      "\n",
      "Processing Query 405/1034 (ID: spider_dev_q404_idx404): 'How many players are from each country?' (True DB: wta_1)\n"
     ]
    },
    {
     "data": {
      "application/vnd.jupyter.widget-view+json": {
       "model_id": "dcbbe45533444f5c8e4e28ab0efeec33",
       "version_major": 2,
       "version_minor": 0
      },
      "text/plain": [
       "  DBs for Q:spider_dev_q404_idx4:   0%|          | 0/166 [00:00<?, ?it/s]"
      ]
     },
     "metadata": {},
     "output_type": "display_data"
    },
    {
     "name": "stdout",
     "output_type": "stream",
     "text": [
      "\n",
      "Processing Query 406/1034 (ID: spider_dev_q405_idx405): 'Find the names of the visitors whose membership level is higher than 4, and order the results by the level from high to low.' (True DB: museum_visit)\n"
     ]
    },
    {
     "data": {
      "application/vnd.jupyter.widget-view+json": {
       "model_id": "76f488c2be9b435fb9fc7306d7bf34a7",
       "version_major": 2,
       "version_minor": 0
      },
      "text/plain": [
       "  DBs for Q:spider_dev_q405_idx4:   0%|          | 0/166 [00:00<?, ?it/s]"
      ]
     },
     "metadata": {},
     "output_type": "display_data"
    },
    {
     "name": "stdout",
     "output_type": "stream",
     "text": [
      "\n",
      "Processing Query 407/1034 (ID: spider_dev_q406_idx406): 'Find the name and membership level of the visitors whose membership level is higher than 4, and sort by their age from old to young.' (True DB: museum_visit)\n"
     ]
    },
    {
     "data": {
      "application/vnd.jupyter.widget-view+json": {
       "model_id": "93bcc6036cf045e7ae7a04071b0108d3",
       "version_major": 2,
       "version_minor": 0
      },
      "text/plain": [
       "  DBs for Q:spider_dev_q406_idx4:   0%|          | 0/166 [00:00<?, ?it/s]"
      ]
     },
     "metadata": {},
     "output_type": "display_data"
    },
    {
     "name": "stdout",
     "output_type": "stream",
     "text": [
      "\n",
      "Processing Query 408/1034 (ID: spider_dev_q407_idx407): 'Find the number of pets for each student who has any pet and student id.' (True DB: pets_1)\n"
     ]
    },
    {
     "data": {
      "application/vnd.jupyter.widget-view+json": {
       "model_id": "6a71bed22b0d4779a79d42b4c3cb0995",
       "version_major": 2,
       "version_minor": 0
      },
      "text/plain": [
       "  DBs for Q:spider_dev_q407_idx4:   0%|          | 0/166 [00:00<?, ?it/s]"
      ]
     },
     "metadata": {},
     "output_type": "display_data"
    },
    {
     "name": "stdout",
     "output_type": "stream",
     "text": [
      "\n",
      "Processing Query 409/1034 (ID: spider_dev_q408_idx408): 'What is the count of singers?' (True DB: singer)\n"
     ]
    },
    {
     "data": {
      "application/vnd.jupyter.widget-view+json": {
       "model_id": "8dbb7d3c52544b04baddebd86348f745",
       "version_major": 2,
       "version_minor": 0
      },
      "text/plain": [
       "  DBs for Q:spider_dev_q408_idx4:   0%|          | 0/166 [00:00<?, ?it/s]"
      ]
     },
     "metadata": {},
     "output_type": "display_data"
    },
    {
     "name": "stdout",
     "output_type": "stream",
     "text": [
      "\n",
      "Processing Query 410/1034 (ID: spider_dev_q409_idx409): 'What are the create dates, states, and phone numbers of the votes that were for the contestant named 'Tabatha Gehling'?' (True DB: voter_1)\n"
     ]
    },
    {
     "data": {
      "application/vnd.jupyter.widget-view+json": {
       "model_id": "0587c1ab4e124ab59c9c660fd69a4976",
       "version_major": 2,
       "version_minor": 0
      },
      "text/plain": [
       "  DBs for Q:spider_dev_q409_idx4:   0%|          | 0/166 [00:00<?, ?it/s]"
      ]
     },
     "metadata": {},
     "output_type": "display_data"
    },
    {
     "name": "stdout",
     "output_type": "stream",
     "text": [
      "\n",
      "Processing Query 411/1034 (ID: spider_dev_q410_idx410): 'How many different departments offer degrees?' (True DB: student_transcripts_tracking)\n"
     ]
    },
    {
     "data": {
      "application/vnd.jupyter.widget-view+json": {
       "model_id": "762940a2563a436eb93d8cf7b2e9ae7b",
       "version_major": 2,
       "version_minor": 0
      },
      "text/plain": [
       "  DBs for Q:spider_dev_q410_idx4:   0%|          | 0/166 [00:00<?, ?it/s]"
      ]
     },
     "metadata": {},
     "output_type": "display_data"
    },
    {
     "name": "stdout",
     "output_type": "stream",
     "text": [
      "\n",
      "Processing Query 412/1034 (ID: spider_dev_q411_idx411): 'Give the airport code and airport name corresonding to the city Anthony.' (True DB: flight_2)\n"
     ]
    },
    {
     "data": {
      "application/vnd.jupyter.widget-view+json": {
       "model_id": "324e19679cfc409da04226eb30eb85c4",
       "version_major": 2,
       "version_minor": 0
      },
      "text/plain": [
       "  DBs for Q:spider_dev_q411_idx4:   0%|          | 0/166 [00:00<?, ?it/s]"
      ]
     },
     "metadata": {},
     "output_type": "display_data"
    },
    {
     "name": "stdout",
     "output_type": "stream",
     "text": [
      "\n",
      "Processing Query 413/1034 (ID: spider_dev_q412_idx412): 'What are the countries that have greater surface area than any country in Europe?' (True DB: world_1)\n"
     ]
    },
    {
     "data": {
      "application/vnd.jupyter.widget-view+json": {
       "model_id": "d98c2a9221cc4c26b720d31a86d11ad3",
       "version_major": 2,
       "version_minor": 0
      },
      "text/plain": [
       "  DBs for Q:spider_dev_q412_idx4:   0%|          | 0/166 [00:00<?, ?it/s]"
      ]
     },
     "metadata": {},
     "output_type": "display_data"
    },
    {
     "name": "stdout",
     "output_type": "stream",
     "text": [
      "\n",
      "Processing Query 414/1034 (ID: spider_dev_q413_idx413): 'What is the earliest date of a transcript release, and what details can you tell me?' (True DB: student_transcripts_tracking)\n"
     ]
    },
    {
     "data": {
      "application/vnd.jupyter.widget-view+json": {
       "model_id": "4034baee86084c82b20faa1d0468f886",
       "version_major": 2,
       "version_minor": 0
      },
      "text/plain": [
       "  DBs for Q:spider_dev_q413_idx4:   0%|          | 0/166 [00:00<?, ?it/s]"
      ]
     },
     "metadata": {},
     "output_type": "display_data"
    },
    {
     "name": "stdout",
     "output_type": "stream",
     "text": [
      "\n",
      "Processing Query 415/1034 (ID: spider_dev_q414_idx414): 'List the last name of the owner owning the youngest dog.' (True DB: dog_kennels)\n"
     ]
    },
    {
     "data": {
      "application/vnd.jupyter.widget-view+json": {
       "model_id": "661879ec47f74ec099979d8b17cbd371",
       "version_major": 2,
       "version_minor": 0
      },
      "text/plain": [
       "  DBs for Q:spider_dev_q414_idx4:   0%|          | 0/166 [00:00<?, ?it/s]"
      ]
     },
     "metadata": {},
     "output_type": "display_data"
    },
    {
     "name": "stdout",
     "output_type": "stream",
     "text": [
      "\n",
      "Processing Query 416/1034 (ID: spider_dev_q415_idx415): 'Show the number of high schoolers for each grade.' (True DB: network_1)\n"
     ]
    },
    {
     "data": {
      "application/vnd.jupyter.widget-view+json": {
       "model_id": "bca143df735744ba868abe115801c170",
       "version_major": 2,
       "version_minor": 0
      },
      "text/plain": [
       "  DBs for Q:spider_dev_q415_idx4:   0%|          | 0/166 [00:00<?, ?it/s]"
      ]
     },
     "metadata": {},
     "output_type": "display_data"
    },
    {
     "name": "stdout",
     "output_type": "stream",
     "text": [
      "\n",
      "Processing Query 417/1034 (ID: spider_dev_q416_idx416): 'What are the names of high schoolers who have 3 or more friends?' (True DB: network_1)\n"
     ]
    },
    {
     "data": {
      "application/vnd.jupyter.widget-view+json": {
       "model_id": "625c774c55b248d0960910491ee60f15",
       "version_major": 2,
       "version_minor": 0
      },
      "text/plain": [
       "  DBs for Q:spider_dev_q416_idx4:   0%|          | 0/166 [00:00<?, ?it/s]"
      ]
     },
     "metadata": {},
     "output_type": "display_data"
    },
    {
     "name": "stdout",
     "output_type": "stream",
     "text": [
      "\n",
      "Processing Query 418/1034 (ID: spider_dev_q417_idx417): 'What is the full name of each car maker, along with its id and how many models it produces?' (True DB: car_1)\n"
     ]
    },
    {
     "data": {
      "application/vnd.jupyter.widget-view+json": {
       "model_id": "ca406e875473442e91d8c8c9cf638a72",
       "version_major": 2,
       "version_minor": 0
      },
      "text/plain": [
       "  DBs for Q:spider_dev_q417_idx4:   0%|          | 0/166 [00:00<?, ?it/s]"
      ]
     },
     "metadata": {},
     "output_type": "display_data"
    },
    {
     "name": "stdout",
     "output_type": "stream",
     "text": [
      "\n",
      "Processing Query 419/1034 (ID: spider_dev_q418_idx418): 'What are the ids and names of each document, as well as the number of paragraphs in each?' (True DB: cre_Doc_Template_Mgt)\n"
     ]
    },
    {
     "data": {
      "application/vnd.jupyter.widget-view+json": {
       "model_id": "b8d9db6eb08c45858102375072e83375",
       "version_major": 2,
       "version_minor": 0
      },
      "text/plain": [
       "  DBs for Q:spider_dev_q418_idx4:   0%|          | 0/166 [00:00<?, ?it/s]"
      ]
     },
     "metadata": {},
     "output_type": "display_data"
    },
    {
     "name": "stdout",
     "output_type": "stream",
     "text": [
      "\n",
      "Processing Query 420/1034 (ID: spider_dev_q419_idx419): 'What is the department description for the one whose name has the word computer?' (True DB: student_transcripts_tracking)\n"
     ]
    },
    {
     "data": {
      "application/vnd.jupyter.widget-view+json": {
       "model_id": "9b81b03c3622443f89cf622805847a23",
       "version_major": 2,
       "version_minor": 0
      },
      "text/plain": [
       "  DBs for Q:spider_dev_q419_idx4:   0%|          | 0/166 [00:00<?, ?it/s]"
      ]
     },
     "metadata": {},
     "output_type": "display_data"
    },
    {
     "name": "stdout",
     "output_type": "stream",
     "text": [
      "\n",
      "Processing Query 421/1034 (ID: spider_dev_q420_idx420): 'How many ships ended up being 'Captured'?' (True DB: battle_death)\n"
     ]
    },
    {
     "data": {
      "application/vnd.jupyter.widget-view+json": {
       "model_id": "e126e6cb3d7b44eb8610ff9a27db56d3",
       "version_major": 2,
       "version_minor": 0
      },
      "text/plain": [
       "  DBs for Q:spider_dev_q420_idx4:   0%|          | 0/166 [00:00<?, ?it/s]"
      ]
     },
     "metadata": {},
     "output_type": "display_data"
    },
    {
     "name": "stdout",
     "output_type": "stream",
     "text": [
      "\n",
      "Processing Query 422/1034 (ID: spider_dev_q421_idx421): 'How many different series and contents are listed in the TV Channel table?' (True DB: tvshow)\n"
     ]
    },
    {
     "data": {
      "application/vnd.jupyter.widget-view+json": {
       "model_id": "a64e23bc9aa3419c8a6a6dbbddf16f66",
       "version_major": 2,
       "version_minor": 0
      },
      "text/plain": [
       "  DBs for Q:spider_dev_q421_idx4:   0%|          | 0/166 [00:00<?, ?it/s]"
      ]
     },
     "metadata": {},
     "output_type": "display_data"
    },
    {
     "name": "stdout",
     "output_type": "stream",
     "text": [
      "\n",
      "Processing Query 423/1034 (ID: spider_dev_q422_idx422): 'Find the average number of staff working for the museums that were open before 2009.' (True DB: museum_visit)\n"
     ]
    },
    {
     "data": {
      "application/vnd.jupyter.widget-view+json": {
       "model_id": "9459b8ace94e4f769329be8641fa14ed",
       "version_major": 2,
       "version_minor": 0
      },
      "text/plain": [
       "  DBs for Q:spider_dev_q422_idx4:   0%|          | 0/166 [00:00<?, ?it/s]"
      ]
     },
     "metadata": {},
     "output_type": "display_data"
    },
    {
     "name": "stdout",
     "output_type": "stream",
     "text": [
      "\n",
      "Processing Query 424/1034 (ID: spider_dev_q423_idx423): 'What is the abbreviation of the airilne has the fewest flights and what country is it in?' (True DB: flight_2)\n"
     ]
    },
    {
     "data": {
      "application/vnd.jupyter.widget-view+json": {
       "model_id": "e417c53f7ca045bea94105a53148d5c8",
       "version_major": 2,
       "version_minor": 0
      },
      "text/plain": [
       "  DBs for Q:spider_dev_q423_idx4:   0%|          | 0/166 [00:00<?, ?it/s]"
      ]
     },
     "metadata": {},
     "output_type": "display_data"
    },
    {
     "name": "stdout",
     "output_type": "stream",
     "text": [
      "\n",
      "Processing Query 425/1034 (ID: spider_dev_q424_idx424): 'What is the name and directors of all the cartoons that are ordered by air date?' (True DB: tvshow)\n"
     ]
    },
    {
     "data": {
      "application/vnd.jupyter.widget-view+json": {
       "model_id": "8e2ac87be4de41c2a6747c7d128dd7d1",
       "version_major": 2,
       "version_minor": 0
      },
      "text/plain": [
       "  DBs for Q:spider_dev_q424_idx4:   0%|          | 0/166 [00:00<?, ?it/s]"
      ]
     },
     "metadata": {},
     "output_type": "display_data"
    },
    {
     "name": "stdout",
     "output_type": "stream",
     "text": [
      "\n",
      "Processing Query 426/1034 (ID: spider_dev_q425_idx425): 'Give the flight numbers of flights arriving in Aberdeen.' (True DB: flight_2)\n"
     ]
    },
    {
     "data": {
      "application/vnd.jupyter.widget-view+json": {
       "model_id": "024475da4fa84a35927747539bb17027",
       "version_major": 2,
       "version_minor": 0
      },
      "text/plain": [
       "  DBs for Q:spider_dev_q425_idx4:   0%|          | 0/166 [00:00<?, ?it/s]"
      ]
     },
     "metadata": {},
     "output_type": "display_data"
    },
    {
     "name": "stdout",
     "output_type": "stream",
     "text": [
      "\n",
      "Processing Query 427/1034 (ID: spider_dev_q426_idx426): 'What is the maximum mpg of the cars that had 8 cylinders or that were produced before 1980 ?' (True DB: car_1)\n"
     ]
    },
    {
     "data": {
      "application/vnd.jupyter.widget-view+json": {
       "model_id": "5d61e8884da441e38fae177fd406cb07",
       "version_major": 2,
       "version_minor": 0
      },
      "text/plain": [
       "  DBs for Q:spider_dev_q426_idx4:   0%|          | 0/166 [00:00<?, ?it/s]"
      ]
     },
     "metadata": {},
     "output_type": "display_data"
    },
    {
     "name": "stdout",
     "output_type": "stream",
     "text": [
      "\n",
      "Processing Query 428/1034 (ID: spider_dev_q427_idx427): 'Show the stadium name and the number of concerts in each stadium.' (True DB: concert_singer)\n"
     ]
    },
    {
     "data": {
      "application/vnd.jupyter.widget-view+json": {
       "model_id": "1d1aca6c0622469ea76fd328540d8d1b",
       "version_major": 2,
       "version_minor": 0
      },
      "text/plain": [
       "  DBs for Q:spider_dev_q427_idx4:   0%|          | 0/166 [00:00<?, ?it/s]"
      ]
     },
     "metadata": {},
     "output_type": "display_data"
    },
    {
     "name": "stdout",
     "output_type": "stream",
     "text": [
      "\n",
      "Processing Query 429/1034 (ID: spider_dev_q428_idx428): 'Show all countries and the number of singers in each country.' (True DB: concert_singer)\n"
     ]
    },
    {
     "data": {
      "application/vnd.jupyter.widget-view+json": {
       "model_id": "0d0fab0c541c4ec7b41b8a226015e11f",
       "version_major": 2,
       "version_minor": 0
      },
      "text/plain": [
       "  DBs for Q:spider_dev_q428_idx4:   0%|          | 0/166 [00:00<?, ?it/s]"
      ]
     },
     "metadata": {},
     "output_type": "display_data"
    },
    {
     "name": "stdout",
     "output_type": "stream",
     "text": [
      "\n",
      "Processing Query 430/1034 (ID: spider_dev_q429_idx429): 'Which abbreviation corresponds to Jetblue Airways?' (True DB: flight_2)\n"
     ]
    },
    {
     "data": {
      "application/vnd.jupyter.widget-view+json": {
       "model_id": "74ba8f4b59404554ab62c290a569c326",
       "version_major": 2,
       "version_minor": 0
      },
      "text/plain": [
       "  DBs for Q:spider_dev_q429_idx4:   0%|          | 0/166 [00:00<?, ?it/s]"
      ]
     },
     "metadata": {},
     "output_type": "display_data"
    },
    {
     "name": "stdout",
     "output_type": "stream",
     "text": [
      "\n",
      "Processing Query 431/1034 (ID: spider_dev_q430_idx430): 'Give the mean life expectancy of countries in which English is not the official language.' (True DB: world_1)\n"
     ]
    },
    {
     "data": {
      "application/vnd.jupyter.widget-view+json": {
       "model_id": "7fe164ef40144bdb96684221bbf65c99",
       "version_major": 2,
       "version_minor": 0
      },
      "text/plain": [
       "  DBs for Q:spider_dev_q430_idx4:   0%|          | 0/166 [00:00<?, ?it/s]"
      ]
     },
     "metadata": {},
     "output_type": "display_data"
    },
    {
     "name": "stdout",
     "output_type": "stream",
     "text": [
      "\n",
      "Processing Query 432/1034 (ID: spider_dev_q431_idx431): 'What is the document id with 1 to 2 paragraphs?' (True DB: cre_Doc_Template_Mgt)\n"
     ]
    },
    {
     "data": {
      "application/vnd.jupyter.widget-view+json": {
       "model_id": "450adda75684468e9a34c1af374f2247",
       "version_major": 2,
       "version_minor": 0
      },
      "text/plain": [
       "  DBs for Q:spider_dev_q431_idx4:   0%|          | 0/166 [00:00<?, ?it/s]"
      ]
     },
     "metadata": {},
     "output_type": "display_data"
    },
    {
     "name": "stdout",
     "output_type": "stream",
     "text": [
      "\n",
      "Processing Query 433/1034 (ID: spider_dev_q432_idx432): 'How many departments offer any degree?' (True DB: student_transcripts_tracking)\n"
     ]
    },
    {
     "data": {
      "application/vnd.jupyter.widget-view+json": {
       "model_id": "e3c4263103284e449d7bf5283edc9945",
       "version_major": 2,
       "version_minor": 0
      },
      "text/plain": [
       "  DBs for Q:spider_dev_q432_idx4:   0%|          | 0/166 [00:00<?, ?it/s]"
      ]
     },
     "metadata": {},
     "output_type": "display_data"
    },
    {
     "name": "stdout",
     "output_type": "stream",
     "text": [
      "\n",
      "Processing Query 434/1034 (ID: spider_dev_q433_idx433): 'What are the codes of the countries that do not speak English and whose government forms are not Republic?' (True DB: world_1)\n"
     ]
    },
    {
     "data": {
      "application/vnd.jupyter.widget-view+json": {
       "model_id": "4e06ef1c44264360a36ea212bbe6094c",
       "version_major": 2,
       "version_minor": 0
      },
      "text/plain": [
       "  DBs for Q:spider_dev_q433_idx4:   0%|          | 0/166 [00:00<?, ?it/s]"
      ]
     },
     "metadata": {},
     "output_type": "display_data"
    },
    {
     "name": "stdout",
     "output_type": "stream",
     "text": [
      "\n",
      "Processing Query 435/1034 (ID: spider_dev_q434_idx434): 'What language is predominantly spoken in Aruba?' (True DB: world_1)\n"
     ]
    },
    {
     "data": {
      "application/vnd.jupyter.widget-view+json": {
       "model_id": "e791040d133143cdbad6f0f5f0549708",
       "version_major": 2,
       "version_minor": 0
      },
      "text/plain": [
       "  DBs for Q:spider_dev_q434_idx4:   0%|          | 0/166 [00:00<?, ?it/s]"
      ]
     },
     "metadata": {},
     "output_type": "display_data"
    },
    {
     "name": "stdout",
     "output_type": "stream",
     "text": [
      "\n",
      "Processing Query 436/1034 (ID: spider_dev_q435_idx435): 'how many cars were produced in 1980?' (True DB: car_1)\n"
     ]
    },
    {
     "data": {
      "application/vnd.jupyter.widget-view+json": {
       "model_id": "b4d60b2a4f994df4934c07a261b3ff2d",
       "version_major": 2,
       "version_minor": 0
      },
      "text/plain": [
       "  DBs for Q:spider_dev_q435_idx4:   0%|          | 0/166 [00:00<?, ?it/s]"
      ]
     },
     "metadata": {},
     "output_type": "display_data"
    },
    {
     "name": "stdout",
     "output_type": "stream",
     "text": [
      "\n",
      "Processing Query 437/1034 (ID: spider_dev_q436_idx436): 'Show the years in which orchestras that have given more than one performance are founded.' (True DB: orchestra)\n"
     ]
    },
    {
     "data": {
      "application/vnd.jupyter.widget-view+json": {
       "model_id": "b002ede5baa347edbd5ab4c8094a3315",
       "version_major": 2,
       "version_minor": 0
      },
      "text/plain": [
       "  DBs for Q:spider_dev_q436_idx4:   0%|          | 0/166 [00:00<?, ?it/s]"
      ]
     },
     "metadata": {},
     "output_type": "display_data"
    },
    {
     "name": "stdout",
     "output_type": "stream",
     "text": [
      "\n",
      "Processing Query 438/1034 (ID: spider_dev_q437_idx437): 'Give the ids of documents that have between one and two paragraphs.' (True DB: cre_Doc_Template_Mgt)\n"
     ]
    },
    {
     "data": {
      "application/vnd.jupyter.widget-view+json": {
       "model_id": "25f6f07b9fa747d682060f86962e26cd",
       "version_major": 2,
       "version_minor": 0
      },
      "text/plain": [
       "  DBs for Q:spider_dev_q437_idx4:   0%|          | 0/166 [00:00<?, ?it/s]"
      ]
     },
     "metadata": {},
     "output_type": "display_data"
    },
    {
     "name": "stdout",
     "output_type": "stream",
     "text": [
      "\n",
      "Processing Query 439/1034 (ID: spider_dev_q438_idx438): 'How many employees are there?' (True DB: employee_hire_evaluation)\n"
     ]
    },
    {
     "data": {
      "application/vnd.jupyter.widget-view+json": {
       "model_id": "2a02c39d7283404eb96972976b01a6d1",
       "version_major": 2,
       "version_minor": 0
      },
      "text/plain": [
       "  DBs for Q:spider_dev_q438_idx4:   0%|          | 0/166 [00:00<?, ?it/s]"
      ]
     },
     "metadata": {},
     "output_type": "display_data"
    },
    {
     "name": "stdout",
     "output_type": "stream",
     "text": [
      "\n",
      "Processing Query 440/1034 (ID: spider_dev_q439_idx439): 'In which years cars were produced weighing no less than 3000 and no more than 4000 ?' (True DB: car_1)\n"
     ]
    },
    {
     "data": {
      "application/vnd.jupyter.widget-view+json": {
       "model_id": "806ea2e9e3844923b228e645043d35ec",
       "version_major": 2,
       "version_minor": 0
      },
      "text/plain": [
       "  DBs for Q:spider_dev_q439_idx4:   0%|          | 0/166 [00:00<?, ?it/s]"
      ]
     },
     "metadata": {},
     "output_type": "display_data"
    },
    {
     "name": "stdout",
     "output_type": "stream",
     "text": [
      "\n",
      "Processing Query 441/1034 (ID: spider_dev_q440_idx440): 'What is name of the country that speaks the largest number of languages?' (True DB: world_1)\n"
     ]
    },
    {
     "data": {
      "application/vnd.jupyter.widget-view+json": {
       "model_id": "3580491727a44e22aff75172bda6e7b2",
       "version_major": 2,
       "version_minor": 0
      },
      "text/plain": [
       "  DBs for Q:spider_dev_q440_idx4:   0%|          | 0/166 [00:00<?, ?it/s]"
      ]
     },
     "metadata": {},
     "output_type": "display_data"
    },
    {
     "name": "stdout",
     "output_type": "stream",
     "text": [
      "\n",
      "Processing Query 442/1034 (ID: spider_dev_q441_idx441): 'Show all template type codes and descriptions.' (True DB: cre_Doc_Template_Mgt)\n"
     ]
    },
    {
     "data": {
      "application/vnd.jupyter.widget-view+json": {
       "model_id": "86f1610e6f244fc2b7ef864a8135fc72",
       "version_major": 2,
       "version_minor": 0
      },
      "text/plain": [
       "  DBs for Q:spider_dev_q441_idx4:   0%|          | 0/166 [00:00<?, ?it/s]"
      ]
     },
     "metadata": {},
     "output_type": "display_data"
    },
    {
     "name": "stdout",
     "output_type": "stream",
     "text": [
      "\n",
      "Processing Query 443/1034 (ID: spider_dev_q442_idx442): 'Count the number of conductors.' (True DB: orchestra)\n"
     ]
    },
    {
     "data": {
      "application/vnd.jupyter.widget-view+json": {
       "model_id": "b9ee07ff66da495eaeb1063619acb383",
       "version_major": 2,
       "version_minor": 0
      },
      "text/plain": [
       "  DBs for Q:spider_dev_q442_idx4:   0%|          | 0/166 [00:00<?, ?it/s]"
      ]
     },
     "metadata": {},
     "output_type": "display_data"
    },
    {
     "name": "stdout",
     "output_type": "stream",
     "text": [
      "\n",
      "Processing Query 444/1034 (ID: spider_dev_q443_idx443): 'What is the name of the semester with no students enrolled?' (True DB: student_transcripts_tracking)\n"
     ]
    },
    {
     "data": {
      "application/vnd.jupyter.widget-view+json": {
       "model_id": "1b7acf8603bf43ca85bcf8d86f07f942",
       "version_major": 2,
       "version_minor": 0
      },
      "text/plain": [
       "  DBs for Q:spider_dev_q443_idx4:   0%|          | 0/166 [00:00<?, ?it/s]"
      ]
     },
     "metadata": {},
     "output_type": "display_data"
    },
    {
     "name": "stdout",
     "output_type": "stream",
     "text": [
      "\n",
      "Processing Query 445/1034 (ID: spider_dev_q444_idx444): 'What are the names and descriptions for all the sections?' (True DB: student_transcripts_tracking)\n"
     ]
    },
    {
     "data": {
      "application/vnd.jupyter.widget-view+json": {
       "model_id": "0a0855a09aba491f9d3b8f511ed36b85",
       "version_major": 2,
       "version_minor": 0
      },
      "text/plain": [
       "  DBs for Q:spider_dev_q444_idx4:   0%|          | 0/166 [00:00<?, ?it/s]"
      ]
     },
     "metadata": {},
     "output_type": "display_data"
    },
    {
     "name": "stdout",
     "output_type": "stream",
     "text": [
      "\n",
      "Processing Query 446/1034 (ID: spider_dev_q445_idx445): 'What are the names of the singers whose birth years are either 1948 or 1949?' (True DB: singer)\n"
     ]
    },
    {
     "data": {
      "application/vnd.jupyter.widget-view+json": {
       "model_id": "91ffd502733d44078fb3cc4d39b45a1a",
       "version_major": 2,
       "version_minor": 0
      },
      "text/plain": [
       "  DBs for Q:spider_dev_q445_idx4:   0%|          | 0/166 [00:00<?, ?it/s]"
      ]
     },
     "metadata": {},
     "output_type": "display_data"
    },
    {
     "name": "stdout",
     "output_type": "stream",
     "text": [
      "\n",
      "Processing Query 447/1034 (ID: spider_dev_q446_idx446): 'How many dogs have an age below the average?' (True DB: dog_kennels)\n"
     ]
    },
    {
     "data": {
      "application/vnd.jupyter.widget-view+json": {
       "model_id": "38623e1fb72c4723b2a3ad86a4f3d0c4",
       "version_major": 2,
       "version_minor": 0
      },
      "text/plain": [
       "  DBs for Q:spider_dev_q446_idx4:   0%|          | 0/166 [00:00<?, ?it/s]"
      ]
     },
     "metadata": {},
     "output_type": "display_data"
    },
    {
     "name": "stdout",
     "output_type": "stream",
     "text": [
      "\n",
      "Processing Query 448/1034 (ID: spider_dev_q447_idx447): 'How many different store locations are there?' (True DB: employee_hire_evaluation)\n"
     ]
    },
    {
     "data": {
      "application/vnd.jupyter.widget-view+json": {
       "model_id": "7df0db767bad46efbf360cca88abef3e",
       "version_major": 2,
       "version_minor": 0
      },
      "text/plain": [
       "  DBs for Q:spider_dev_q447_idx4:   0%|          | 0/166 [00:00<?, ?it/s]"
      ]
     },
     "metadata": {},
     "output_type": "display_data"
    },
    {
     "name": "stdout",
     "output_type": "stream",
     "text": [
      "\n",
      "Processing Query 449/1034 (ID: spider_dev_q448_idx448): 'Find the number of visitors who did not visit any museum opened after 2010.' (True DB: museum_visit)\n"
     ]
    },
    {
     "data": {
      "application/vnd.jupyter.widget-view+json": {
       "model_id": "8af250db7af04138934cb1f7dc04e87d",
       "version_major": 2,
       "version_minor": 0
      },
      "text/plain": [
       "  DBs for Q:spider_dev_q448_idx4:   0%|          | 0/166 [00:00<?, ?it/s]"
      ]
     },
     "metadata": {},
     "output_type": "display_data"
    },
    {
     "name": "stdout",
     "output_type": "stream",
     "text": [
      "\n",
      "Processing Query 450/1034 (ID: spider_dev_q449_idx449): 'List the name, date and result of each battle.' (True DB: battle_death)\n"
     ]
    },
    {
     "data": {
      "application/vnd.jupyter.widget-view+json": {
       "model_id": "d8d8305bc40c46bd925d84c7e225476a",
       "version_major": 2,
       "version_minor": 0
      },
      "text/plain": [
       "  DBs for Q:spider_dev_q449_idx4:   0%|          | 0/166 [00:00<?, ?it/s]"
      ]
     },
     "metadata": {},
     "output_type": "display_data"
    },
    {
     "name": "stdout",
     "output_type": "stream",
     "text": [
      "\n",
      "Processing Query 451/1034 (ID: spider_dev_q450_idx450): 'How much does the most expensive charge type costs?' (True DB: dog_kennels)\n"
     ]
    },
    {
     "data": {
      "application/vnd.jupyter.widget-view+json": {
       "model_id": "54f5db6de3f942d794870f611b9bd426",
       "version_major": 2,
       "version_minor": 0
      },
      "text/plain": [
       "  DBs for Q:spider_dev_q450_idx4:   0%|          | 0/166 [00:00<?, ?it/s]"
      ]
     },
     "metadata": {},
     "output_type": "display_data"
    },
    {
     "name": "stdout",
     "output_type": "stream",
     "text": [
      "\n",
      "Processing Query 452/1034 (ID: spider_dev_q451_idx451): 'List all song names by singers above the average age.' (True DB: concert_singer)\n"
     ]
    },
    {
     "data": {
      "application/vnd.jupyter.widget-view+json": {
       "model_id": "8de35ac93b384fff8421544ec0f04f69",
       "version_major": 2,
       "version_minor": 0
      },
      "text/plain": [
       "  DBs for Q:spider_dev_q451_idx4:   0%|          | 0/166 [00:00<?, ?it/s]"
      ]
     },
     "metadata": {},
     "output_type": "display_data"
    },
    {
     "name": "stdout",
     "output_type": "stream",
     "text": [
      "\n",
      "Processing Query 453/1034 (ID: spider_dev_q452_idx452): 'Count the number of poker players.' (True DB: poker_player)\n"
     ]
    },
    {
     "data": {
      "application/vnd.jupyter.widget-view+json": {
       "model_id": "0a8b05d84cc64edbafb3a4fd37279adf",
       "version_major": 2,
       "version_minor": 0
      },
      "text/plain": [
       "  DBs for Q:spider_dev_q452_idx4:   0%|          | 0/166 [00:00<?, ?it/s]"
      ]
     },
     "metadata": {},
     "output_type": "display_data"
    },
    {
     "name": "stdout",
     "output_type": "stream",
     "text": [
      "\n",
      "Processing Query 454/1034 (ID: spider_dev_q453_idx453): 'For each singer name, what is the total sales for their songs?' (True DB: singer)\n"
     ]
    },
    {
     "data": {
      "application/vnd.jupyter.widget-view+json": {
       "model_id": "d60be1dd966642fb981203af5cbca8f1",
       "version_major": 2,
       "version_minor": 0
      },
      "text/plain": [
       "  DBs for Q:spider_dev_q453_idx4:   0%|          | 0/166 [00:00<?, ?it/s]"
      ]
     },
     "metadata": {},
     "output_type": "display_data"
    },
    {
     "name": "stdout",
     "output_type": "stream",
     "text": [
      "\n",
      "Processing Query 455/1034 (ID: spider_dev_q454_idx454): 'When is the first transcript released? List the date and details.' (True DB: student_transcripts_tracking)\n"
     ]
    },
    {
     "data": {
      "application/vnd.jupyter.widget-view+json": {
       "model_id": "9889ad403de748cca6d4bc772f3be08d",
       "version_major": 2,
       "version_minor": 0
      },
      "text/plain": [
       "  DBs for Q:spider_dev_q454_idx4:   0%|          | 0/166 [00:00<?, ?it/s]"
      ]
     },
     "metadata": {},
     "output_type": "display_data"
    },
    {
     "name": "stdout",
     "output_type": "stream",
     "text": [
      "\n",
      "Processing Query 456/1034 (ID: spider_dev_q455_idx455): 'How many dogs have not gone through any treatment?' (True DB: dog_kennels)\n"
     ]
    },
    {
     "data": {
      "application/vnd.jupyter.widget-view+json": {
       "model_id": "1a6bf12adbb94e989b871fd9d87c5a49",
       "version_major": 2,
       "version_minor": 0
      },
      "text/plain": [
       "  DBs for Q:spider_dev_q455_idx4:   0%|          | 0/166 [00:00<?, ?it/s]"
      ]
     },
     "metadata": {},
     "output_type": "display_data"
    },
    {
     "name": "stdout",
     "output_type": "stream",
     "text": [
      "\n",
      "Processing Query 457/1034 (ID: spider_dev_q456_idx456): 'For the cars with 4 cylinders, which model has the largest horsepower?' (True DB: car_1)\n"
     ]
    },
    {
     "data": {
      "application/vnd.jupyter.widget-view+json": {
       "model_id": "4c4e63a19d5a4e4fb1fcddd41dc424fd",
       "version_major": 2,
       "version_minor": 0
      },
      "text/plain": [
       "  DBs for Q:spider_dev_q456_idx4:   0%|          | 0/166 [00:00<?, ?it/s]"
      ]
     },
     "metadata": {},
     "output_type": "display_data"
    },
    {
     "name": "stdout",
     "output_type": "stream",
     "text": [
      "\n",
      "Processing Query 458/1034 (ID: spider_dev_q457_idx457): 'What are the names of poker players whose earnings is higher than 300000?' (True DB: poker_player)\n"
     ]
    },
    {
     "data": {
      "application/vnd.jupyter.widget-view+json": {
       "model_id": "5145566a50a34831afcff9c8ed5c733d",
       "version_major": 2,
       "version_minor": 0
      },
      "text/plain": [
       "  DBs for Q:spider_dev_q457_idx4:   0%|          | 0/166 [00:00<?, ?it/s]"
      ]
     },
     "metadata": {},
     "output_type": "display_data"
    },
    {
     "name": "stdout",
     "output_type": "stream",
     "text": [
      "\n",
      "Processing Query 459/1034 (ID: spider_dev_q458_idx458): 'How many distinct nationalities are there?' (True DB: poker_player)\n"
     ]
    },
    {
     "data": {
      "application/vnd.jupyter.widget-view+json": {
       "model_id": "c454eb36b9b747498f588d963895ec3e",
       "version_major": 2,
       "version_minor": 0
      },
      "text/plain": [
       "  DBs for Q:spider_dev_q458_idx4:   0%|          | 0/166 [00:00<?, ?it/s]"
      ]
     },
     "metadata": {},
     "output_type": "display_data"
    },
    {
     "name": "stdout",
     "output_type": "stream",
     "text": [
      "\n",
      "Processing Query 460/1034 (ID: spider_dev_q459_idx459): 'How many dogs went through any treatments?' (True DB: dog_kennels)\n"
     ]
    },
    {
     "data": {
      "application/vnd.jupyter.widget-view+json": {
       "model_id": "9d09962689704ffb8d7b6ebdbb10d939",
       "version_major": 2,
       "version_minor": 0
      },
      "text/plain": [
       "  DBs for Q:spider_dev_q459_idx4:   0%|          | 0/166 [00:00<?, ?it/s]"
      ]
     },
     "metadata": {},
     "output_type": "display_data"
    },
    {
     "name": "stdout",
     "output_type": "stream",
     "text": [
      "\n",
      "Processing Query 461/1034 (ID: spider_dev_q460_idx460): 'What is the first name of the student whose permanent address is different from his or her current one?' (True DB: student_transcripts_tracking)\n"
     ]
    },
    {
     "data": {
      "application/vnd.jupyter.widget-view+json": {
       "model_id": "ddc79772556c406e92b379622330139a",
       "version_major": 2,
       "version_minor": 0
      },
      "text/plain": [
       "  DBs for Q:spider_dev_q460_idx4:   0%|          | 0/166 [00:00<?, ?it/s]"
      ]
     },
     "metadata": {},
     "output_type": "display_data"
    },
    {
     "name": "stdout",
     "output_type": "stream",
     "text": [
      "\n",
      "Processing Query 462/1034 (ID: spider_dev_q461_idx461): 'find id of the tv channels that from the countries where have more than two tv channels.' (True DB: tvshow)\n"
     ]
    },
    {
     "data": {
      "application/vnd.jupyter.widget-view+json": {
       "model_id": "f6b5e0676b41471eb5a7eb55d44b0b12",
       "version_major": 2,
       "version_minor": 0
      },
      "text/plain": [
       "  DBs for Q:spider_dev_q461_idx4:   0%|          | 0/166 [00:00<?, ?it/s]"
      ]
     },
     "metadata": {},
     "output_type": "display_data"
    },
    {
     "name": "stdout",
     "output_type": "stream",
     "text": [
      "\n",
      "Processing Query 463/1034 (ID: spider_dev_q462_idx462): 'How many distinct countries do players come from?' (True DB: wta_1)\n"
     ]
    },
    {
     "data": {
      "application/vnd.jupyter.widget-view+json": {
       "model_id": "dbef59ec0d304a41b4a21da99f9cf9c8",
       "version_major": 2,
       "version_minor": 0
      },
      "text/plain": [
       "  DBs for Q:spider_dev_q462_idx4:   0%|          | 0/166 [00:00<?, ?it/s]"
      ]
     },
     "metadata": {},
     "output_type": "display_data"
    },
    {
     "name": "stdout",
     "output_type": "stream",
     "text": [
      "\n",
      "Processing Query 464/1034 (ID: spider_dev_q463_idx463): 'Give the flight numbers of flights landing at APG.' (True DB: flight_2)\n"
     ]
    },
    {
     "data": {
      "application/vnd.jupyter.widget-view+json": {
       "model_id": "af0f7ec2f2bd40cfb60295c126391d4d",
       "version_major": 2,
       "version_minor": 0
      },
      "text/plain": [
       "  DBs for Q:spider_dev_q463_idx4:   0%|          | 0/166 [00:00<?, ?it/s]"
      ]
     },
     "metadata": {},
     "output_type": "display_data"
    },
    {
     "name": "stdout",
     "output_type": "stream",
     "text": [
      "\n",
      "Processing Query 465/1034 (ID: spider_dev_q464_idx464): 'Count the number of templates.' (True DB: cre_Doc_Template_Mgt)\n"
     ]
    },
    {
     "data": {
      "application/vnd.jupyter.widget-view+json": {
       "model_id": "7a477f05d47e400287208e53ba539a2a",
       "version_major": 2,
       "version_minor": 0
      },
      "text/plain": [
       "  DBs for Q:spider_dev_q464_idx4:   0%|          | 0/166 [00:00<?, ?it/s]"
      ]
     },
     "metadata": {},
     "output_type": "display_data"
    },
    {
     "name": "stdout",
     "output_type": "stream",
     "text": [
      "\n",
      "Processing Query 466/1034 (ID: spider_dev_q465_idx465): 'What is the code of airport that has fewest number of flights?' (True DB: flight_2)\n"
     ]
    },
    {
     "data": {
      "application/vnd.jupyter.widget-view+json": {
       "model_id": "419d6cd433b34391bdfafcba8155bda1",
       "version_major": 2,
       "version_minor": 0
      },
      "text/plain": [
       "  DBs for Q:spider_dev_q465_idx4:   0%|          | 0/166 [00:00<?, ?it/s]"
      ]
     },
     "metadata": {},
     "output_type": "display_data"
    },
    {
     "name": "stdout",
     "output_type": "stream",
     "text": [
      "\n",
      "Processing Query 467/1034 (ID: spider_dev_q466_idx466): 'List the first name of all the professionals along with the description of the treatment they have done.' (True DB: dog_kennels)\n"
     ]
    },
    {
     "data": {
      "application/vnd.jupyter.widget-view+json": {
       "model_id": "151720c042ef4f829265dfebce474f95",
       "version_major": 2,
       "version_minor": 0
      },
      "text/plain": [
       "  DBs for Q:spider_dev_q466_idx4:   0%|          | 0/166 [00:00<?, ?it/s]"
      ]
     },
     "metadata": {},
     "output_type": "display_data"
    },
    {
     "name": "stdout",
     "output_type": "stream",
     "text": [
      "\n",
      "Processing Query 468/1034 (ID: spider_dev_q467_idx467): 'How many countries speak both English and Dutch?' (True DB: world_1)\n"
     ]
    },
    {
     "data": {
      "application/vnd.jupyter.widget-view+json": {
       "model_id": "7f3cfeb05e2345439c28e37a569f8f16",
       "version_major": 2,
       "version_minor": 0
      },
      "text/plain": [
       "  DBs for Q:spider_dev_q467_idx4:   0%|          | 0/166 [00:00<?, ?it/s]"
      ]
     },
     "metadata": {},
     "output_type": "display_data"
    },
    {
     "name": "stdout",
     "output_type": "stream",
     "text": [
      "\n",
      "Processing Query 469/1034 (ID: spider_dev_q468_idx468): 'How many models does each car maker produce? List maker full name, id and the number.' (True DB: car_1)\n"
     ]
    },
    {
     "data": {
      "application/vnd.jupyter.widget-view+json": {
       "model_id": "42068c141482422ea147cf994d28519f",
       "version_major": 2,
       "version_minor": 0
      },
      "text/plain": [
       "  DBs for Q:spider_dev_q468_idx4:   0%|          | 0/166 [00:00<?, ?it/s]"
      ]
     },
     "metadata": {},
     "output_type": "display_data"
    },
    {
     "name": "stdout",
     "output_type": "stream",
     "text": [
      "\n",
      "Processing Query 470/1034 (ID: spider_dev_q469_idx469): 'What are the first names of the students who live in Haiti permanently or have the cell phone number 09700166582 ?' (True DB: student_transcripts_tracking)\n"
     ]
    },
    {
     "data": {
      "application/vnd.jupyter.widget-view+json": {
       "model_id": "4f01adc0167c4ff5ad8f982bf293905b",
       "version_major": 2,
       "version_minor": 0
      },
      "text/plain": [
       "  DBs for Q:spider_dev_q469_idx4:   0%|          | 0/166 [00:00<?, ?it/s]"
      ]
     },
     "metadata": {},
     "output_type": "display_data"
    },
    {
     "name": "stdout",
     "output_type": "stream",
     "text": [
      "\n",
      "Processing Query 471/1034 (ID: spider_dev_q470_idx470): 'Count the number of paragraphs.' (True DB: cre_Doc_Template_Mgt)\n"
     ]
    },
    {
     "data": {
      "application/vnd.jupyter.widget-view+json": {
       "model_id": "c5a76145e12b494183f58def009c48f0",
       "version_major": 2,
       "version_minor": 0
      },
      "text/plain": [
       "  DBs for Q:spider_dev_q470_idx4:   0%|          | 0/166 [00:00<?, ?it/s]"
      ]
     },
     "metadata": {},
     "output_type": "display_data"
    },
    {
     "name": "stdout",
     "output_type": "stream",
     "text": [
      "\n",
      "Processing Query 472/1034 (ID: spider_dev_q471_idx471): 'What is the average horsepower for all cars produced before 1980 ?' (True DB: car_1)\n"
     ]
    },
    {
     "data": {
      "application/vnd.jupyter.widget-view+json": {
       "model_id": "7974db7fb8c64cdda254188072a09b40",
       "version_major": 2,
       "version_minor": 0
      },
      "text/plain": [
       "  DBs for Q:spider_dev_q471_idx4:   0%|          | 0/166 [00:00<?, ?it/s]"
      ]
     },
     "metadata": {},
     "output_type": "display_data"
    },
    {
     "name": "stdout",
     "output_type": "stream",
     "text": [
      "\n",
      "Processing Query 473/1034 (ID: spider_dev_q472_idx472): 'How many languages are spoken in Aruba?' (True DB: world_1)\n"
     ]
    },
    {
     "data": {
      "application/vnd.jupyter.widget-view+json": {
       "model_id": "bcd5a82a6887438e9226e767dffc8d39",
       "version_major": 2,
       "version_minor": 0
      },
      "text/plain": [
       "  DBs for Q:spider_dev_q472_idx4:   0%|          | 0/166 [00:00<?, ?it/s]"
      ]
     },
     "metadata": {},
     "output_type": "display_data"
    },
    {
     "name": "stdout",
     "output_type": "stream",
     "text": [
      "\n",
      "Processing Query 474/1034 (ID: spider_dev_q473_idx473): 'Find the name and age of the visitor who bought the most tickets at once.' (True DB: museum_visit)\n"
     ]
    },
    {
     "data": {
      "application/vnd.jupyter.widget-view+json": {
       "model_id": "e5fbd668bf9343b399c8ad71ea24dd27",
       "version_major": 2,
       "version_minor": 0
      },
      "text/plain": [
       "  DBs for Q:spider_dev_q473_idx4:   0%|          | 0/166 [00:00<?, ?it/s]"
      ]
     },
     "metadata": {},
     "output_type": "display_data"
    },
    {
     "name": "stdout",
     "output_type": "stream",
     "text": [
      "\n",
      "Processing Query 475/1034 (ID: spider_dev_q474_idx474): 'What are the name, independence year, and surface area of the country with the smallest population?' (True DB: world_1)\n"
     ]
    },
    {
     "data": {
      "application/vnd.jupyter.widget-view+json": {
       "model_id": "568fd3e15e944562b26532b7dd7a9d1b",
       "version_major": 2,
       "version_minor": 0
      },
      "text/plain": [
       "  DBs for Q:spider_dev_q474_idx4:   0%|          | 0/166 [00:00<?, ?it/s]"
      ]
     },
     "metadata": {},
     "output_type": "display_data"
    },
    {
     "name": "stdout",
     "output_type": "stream",
     "text": [
      "\n",
      "Processing Query 476/1034 (ID: spider_dev_q475_idx475): 'Give the names of countries with English and French as official languages.' (True DB: world_1)\n"
     ]
    },
    {
     "data": {
      "application/vnd.jupyter.widget-view+json": {
       "model_id": "c006d0763c384056a1b408b414f32d09",
       "version_major": 2,
       "version_minor": 0
      },
      "text/plain": [
       "  DBs for Q:spider_dev_q475_idx4:   0%|          | 0/166 [00:00<?, ?it/s]"
      ]
     },
     "metadata": {},
     "output_type": "display_data"
    },
    {
     "name": "stdout",
     "output_type": "stream",
     "text": [
      "\n",
      "Processing Query 477/1034 (ID: spider_dev_q476_idx476): 'Show all template type codes with less than three templates.' (True DB: cre_Doc_Template_Mgt)\n"
     ]
    },
    {
     "data": {
      "application/vnd.jupyter.widget-view+json": {
       "model_id": "8b36719a4e504335839dd5961559c75d",
       "version_major": 2,
       "version_minor": 0
      },
      "text/plain": [
       "  DBs for Q:spider_dev_q476_idx4:   0%|          | 0/166 [00:00<?, ?it/s]"
      ]
     },
     "metadata": {},
     "output_type": "display_data"
    },
    {
     "name": "stdout",
     "output_type": "stream",
     "text": [
      "\n",
      "Processing Query 478/1034 (ID: spider_dev_q477_idx477): 'What are the opening year and staff number of the museum named Plaza Museum?' (True DB: museum_visit)\n"
     ]
    },
    {
     "data": {
      "application/vnd.jupyter.widget-view+json": {
       "model_id": "d7fd2c1568784c6e91182dd60af15776",
       "version_major": 2,
       "version_minor": 0
      },
      "text/plain": [
       "  DBs for Q:spider_dev_q477_idx4:   0%|          | 0/166 [00:00<?, ?it/s]"
      ]
     },
     "metadata": {},
     "output_type": "display_data"
    },
    {
     "name": "stdout",
     "output_type": "stream",
     "text": [
      "\n",
      "Processing Query 479/1034 (ID: spider_dev_q478_idx478): 'What is the first name, country code, and birth date of the player with the most winner rank points across all matches?' (True DB: wta_1)\n"
     ]
    },
    {
     "data": {
      "application/vnd.jupyter.widget-view+json": {
       "model_id": "d0fd38b523ae4c348240c5037ece167b",
       "version_major": 2,
       "version_minor": 0
      },
      "text/plain": [
       "  DBs for Q:spider_dev_q478_idx4:   0%|          | 0/166 [00:00<?, ?it/s]"
      ]
     },
     "metadata": {},
     "output_type": "display_data"
    },
    {
     "name": "stdout",
     "output_type": "stream",
     "text": [
      "\n",
      "Processing Query 480/1034 (ID: spider_dev_q479_idx479): 'Return the grade for the high schooler named Kyle.' (True DB: network_1)\n"
     ]
    },
    {
     "data": {
      "application/vnd.jupyter.widget-view+json": {
       "model_id": "cceb04cdfb114724a8c846b29f7fa2a9",
       "version_major": 2,
       "version_minor": 0
      },
      "text/plain": [
       "  DBs for Q:spider_dev_q479_idx4:   0%|          | 0/166 [00:00<?, ?it/s]"
      ]
     },
     "metadata": {},
     "output_type": "display_data"
    },
    {
     "name": "stdout",
     "output_type": "stream",
     "text": [
      "\n",
      "Processing Query 481/1034 (ID: spider_dev_q480_idx480): 'What are the names and descriptions of all the sections?' (True DB: student_transcripts_tracking)\n"
     ]
    },
    {
     "data": {
      "application/vnd.jupyter.widget-view+json": {
       "model_id": "c8f45fc0fd6e43f5a2bd24b5eb7be312",
       "version_major": 2,
       "version_minor": 0
      },
      "text/plain": [
       "  DBs for Q:spider_dev_q480_idx4:   0%|          | 0/166 [00:00<?, ?it/s]"
      ]
     },
     "metadata": {},
     "output_type": "display_data"
    },
    {
     "name": "stdout",
     "output_type": "stream",
     "text": [
      "\n",
      "Processing Query 482/1034 (ID: spider_dev_q481_idx481): 'What are the first names and birth dates of players from the USA?' (True DB: wta_1)\n"
     ]
    },
    {
     "data": {
      "application/vnd.jupyter.widget-view+json": {
       "model_id": "70d2457825414782a0ea4bd848e10b13",
       "version_major": 2,
       "version_minor": 0
      },
      "text/plain": [
       "  DBs for Q:spider_dev_q481_idx4:   0%|          | 0/166 [00:00<?, ?it/s]"
      ]
     },
     "metadata": {},
     "output_type": "display_data"
    },
    {
     "name": "stdout",
     "output_type": "stream",
     "text": [
      "\n",
      "Processing Query 483/1034 (ID: spider_dev_q482_idx482): 'Which model has the most version(make) of cars?' (True DB: car_1)\n"
     ]
    },
    {
     "data": {
      "application/vnd.jupyter.widget-view+json": {
       "model_id": "2f20cc828e6d42bf8b5ef9e02e82372d",
       "version_major": 2,
       "version_minor": 0
      },
      "text/plain": [
       "  DBs for Q:spider_dev_q482_idx4:   0%|          | 0/166 [00:00<?, ?it/s]"
      ]
     },
     "metadata": {},
     "output_type": "display_data"
    },
    {
     "name": "stdout",
     "output_type": "stream",
     "text": [
      "\n",
      "Processing Query 484/1034 (ID: spider_dev_q483_idx483): 'Find the id and cell phone of the professionals who operate two or more types of treatments.' (True DB: dog_kennels)\n"
     ]
    },
    {
     "data": {
      "application/vnd.jupyter.widget-view+json": {
       "model_id": "828c49de8ace48eb87ce8f58bbb391f7",
       "version_major": 2,
       "version_minor": 0
      },
      "text/plain": [
       "  DBs for Q:spider_dev_q483_idx4:   0%|          | 0/166 [00:00<?, ?it/s]"
      ]
     },
     "metadata": {},
     "output_type": "display_data"
    },
    {
     "name": "stdout",
     "output_type": "stream",
     "text": [
      "\n",
      "Processing Query 485/1034 (ID: spider_dev_q484_idx484): 'Which airlines have at least 10 flights?' (True DB: flight_2)\n"
     ]
    },
    {
     "data": {
      "application/vnd.jupyter.widget-view+json": {
       "model_id": "2922234840924e16bff6a337f2dd603d",
       "version_major": 2,
       "version_minor": 0
      },
      "text/plain": [
       "  DBs for Q:spider_dev_q484_idx4:   0%|          | 0/166 [00:00<?, ?it/s]"
      ]
     },
     "metadata": {},
     "output_type": "display_data"
    },
    {
     "name": "stdout",
     "output_type": "stream",
     "text": [
      "\n",
      "Processing Query 486/1034 (ID: spider_dev_q485_idx485): 'What are the emails of the professionals living in either the state of Hawaii or the state of Wisconsin?' (True DB: dog_kennels)\n"
     ]
    },
    {
     "data": {
      "application/vnd.jupyter.widget-view+json": {
       "model_id": "6bf8545d8f4f43f5886b64c3f052dcde",
       "version_major": 2,
       "version_minor": 0
      },
      "text/plain": [
       "  DBs for Q:spider_dev_q485_idx4:   0%|          | 0/166 [00:00<?, ?it/s]"
      ]
     },
     "metadata": {},
     "output_type": "display_data"
    },
    {
     "name": "stdout",
     "output_type": "stream",
     "text": [
      "\n",
      "Processing Query 487/1034 (ID: spider_dev_q486_idx486): 'What is the content of TV Channel with serial name \"Sky Radio\"?' (True DB: tvshow)\n"
     ]
    },
    {
     "data": {
      "application/vnd.jupyter.widget-view+json": {
       "model_id": "121dc45d3db343bab649d0040bfb746f",
       "version_major": 2,
       "version_minor": 0
      },
      "text/plain": [
       "  DBs for Q:spider_dev_q486_idx4:   0%|          | 0/166 [00:00<?, ?it/s]"
      ]
     },
     "metadata": {},
     "output_type": "display_data"
    },
    {
     "name": "stdout",
     "output_type": "stream",
     "text": [
      "\n",
      "Processing Query 488/1034 (ID: spider_dev_q487_idx487): 'Count the number of matches.' (True DB: wta_1)\n"
     ]
    },
    {
     "data": {
      "application/vnd.jupyter.widget-view+json": {
       "model_id": "6aa6761317b94a7488745b376aa106de",
       "version_major": 2,
       "version_minor": 0
      },
      "text/plain": [
       "  DBs for Q:spider_dev_q487_idx4:   0%|          | 0/166 [00:00<?, ?it/s]"
      ]
     },
     "metadata": {},
     "output_type": "display_data"
    },
    {
     "name": "stdout",
     "output_type": "stream",
     "text": [
      "\n",
      "Processing Query 489/1034 (ID: spider_dev_q488_idx488): 'What is the name of the different car makers who produced a car in 1970?' (True DB: car_1)\n"
     ]
    },
    {
     "data": {
      "application/vnd.jupyter.widget-view+json": {
       "model_id": "0ad005bceabb4a1e882e80050a5b3abf",
       "version_major": 2,
       "version_minor": 0
      },
      "text/plain": [
       "  DBs for Q:spider_dev_q488_idx4:   0%|          | 0/166 [00:00<?, ?it/s]"
      ]
     },
     "metadata": {},
     "output_type": "display_data"
    },
    {
     "name": "stdout",
     "output_type": "stream",
     "text": [
      "\n",
      "Processing Query 490/1034 (ID: spider_dev_q489_idx489): 'What is the last transcript release date?' (True DB: student_transcripts_tracking)\n"
     ]
    },
    {
     "data": {
      "application/vnd.jupyter.widget-view+json": {
       "model_id": "5656656a16ff4efa84b59064cc963600",
       "version_major": 2,
       "version_minor": 0
      },
      "text/plain": [
       "  DBs for Q:spider_dev_q489_idx4:   0%|          | 0/166 [00:00<?, ?it/s]"
      ]
     },
     "metadata": {},
     "output_type": "display_data"
    },
    {
     "name": "stdout",
     "output_type": "stream",
     "text": [
      "\n",
      "Processing Query 491/1034 (ID: spider_dev_q490_idx490): 'What are the names of all European countries with at least 3 manufacturers?' (True DB: car_1)\n"
     ]
    },
    {
     "data": {
      "application/vnd.jupyter.widget-view+json": {
       "model_id": "db2c19ebb0304994ba17d2f3a6827961",
       "version_major": 2,
       "version_minor": 0
      },
      "text/plain": [
       "  DBs for Q:spider_dev_q490_idx4:   0%|          | 0/166 [00:00<?, ?it/s]"
      ]
     },
     "metadata": {},
     "output_type": "display_data"
    },
    {
     "name": "stdout",
     "output_type": "stream",
     "text": [
      "\n",
      "Processing Query 492/1034 (ID: spider_dev_q491_idx491): 'Find the number of flights landing in the city of Aberdeen or Abilene.' (True DB: flight_2)\n"
     ]
    },
    {
     "data": {
      "application/vnd.jupyter.widget-view+json": {
       "model_id": "aaa6979e673e4ccfa03478a899c97dfc",
       "version_major": 2,
       "version_minor": 0
      },
      "text/plain": [
       "  DBs for Q:spider_dev_q491_idx4:   0%|          | 0/166 [00:00<?, ?it/s]"
      ]
     },
     "metadata": {},
     "output_type": "display_data"
    },
    {
     "name": "stdout",
     "output_type": "stream",
     "text": [
      "\n",
      "Processing Query 493/1034 (ID: spider_dev_q492_idx492): 'What are the average ages of losers and winners across matches?' (True DB: wta_1)\n"
     ]
    },
    {
     "data": {
      "application/vnd.jupyter.widget-view+json": {
       "model_id": "ed1cf1f4255b46c296ef41818b250e6c",
       "version_major": 2,
       "version_minor": 0
      },
      "text/plain": [
       "  DBs for Q:spider_dev_q492_idx4:   0%|          | 0/166 [00:00<?, ?it/s]"
      ]
     },
     "metadata": {},
     "output_type": "display_data"
    },
    {
     "name": "stdout",
     "output_type": "stream",
     "text": [
      "\n",
      "Processing Query 494/1034 (ID: spider_dev_q493_idx493): 'Find the city with the largest population that uses English.' (True DB: world_1)\n"
     ]
    },
    {
     "data": {
      "application/vnd.jupyter.widget-view+json": {
       "model_id": "53d40162297042bc8095ce0109d22838",
       "version_major": 2,
       "version_minor": 0
      },
      "text/plain": [
       "  DBs for Q:spider_dev_q493_idx4:   0%|          | 0/166 [00:00<?, ?it/s]"
      ]
     },
     "metadata": {},
     "output_type": "display_data"
    },
    {
     "name": "stdout",
     "output_type": "stream",
     "text": [
      "\n",
      "Processing Query 495/1034 (ID: spider_dev_q494_idx494): 'For each citizenship, how many singers are from that country?' (True DB: singer)\n"
     ]
    },
    {
     "data": {
      "application/vnd.jupyter.widget-view+json": {
       "model_id": "c73907529cc7483b9554d24f97da49f2",
       "version_major": 2,
       "version_minor": 0
      },
      "text/plain": [
       "  DBs for Q:spider_dev_q494_idx4:   0%|          | 0/166 [00:00<?, ?it/s]"
      ]
     },
     "metadata": {},
     "output_type": "display_data"
    },
    {
     "name": "stdout",
     "output_type": "stream",
     "text": [
      "\n",
      "Processing Query 496/1034 (ID: spider_dev_q495_idx495): 'What is the ship id and name that caused most total injuries?' (True DB: battle_death)\n"
     ]
    },
    {
     "data": {
      "application/vnd.jupyter.widget-view+json": {
       "model_id": "3070720293304e06a793f81f6c32b050",
       "version_major": 2,
       "version_minor": 0
      },
      "text/plain": [
       "  DBs for Q:spider_dev_q495_idx4:   0%|          | 0/166 [00:00<?, ?it/s]"
      ]
     },
     "metadata": {},
     "output_type": "display_data"
    },
    {
     "name": "stdout",
     "output_type": "stream",
     "text": [
      "\n",
      "Processing Query 497/1034 (ID: spider_dev_q496_idx496): 'What is the name of the winner with the most rank points who participated in the Australian Open tournament?' (True DB: wta_1)\n"
     ]
    },
    {
     "data": {
      "application/vnd.jupyter.widget-view+json": {
       "model_id": "4b4a86eae9ff4f1a9d1395781b0d3344",
       "version_major": 2,
       "version_minor": 0
      },
      "text/plain": [
       "  DBs for Q:spider_dev_q496_idx4:   0%|          | 0/166 [00:00<?, ?it/s]"
      ]
     },
     "metadata": {},
     "output_type": "display_data"
    },
    {
     "name": "stdout",
     "output_type": "stream",
     "text": [
      "\n",
      "Processing Query 498/1034 (ID: spider_dev_q497_idx497): 'Give the names of poker players who have earnings above 300000.' (True DB: poker_player)\n"
     ]
    },
    {
     "data": {
      "application/vnd.jupyter.widget-view+json": {
       "model_id": "9473a3563ff241dabeff2100af2b0404",
       "version_major": 2,
       "version_minor": 0
      },
      "text/plain": [
       "  DBs for Q:spider_dev_q497_idx4:   0%|          | 0/166 [00:00<?, ?it/s]"
      ]
     },
     "metadata": {},
     "output_type": "display_data"
    },
    {
     "name": "stdout",
     "output_type": "stream",
     "text": [
      "\n",
      "Processing Query 499/1034 (ID: spider_dev_q498_idx498): 'List singer names and number of concerts for each singer.' (True DB: concert_singer)\n"
     ]
    },
    {
     "data": {
      "application/vnd.jupyter.widget-view+json": {
       "model_id": "2e9bf9d4a5fe4e16ae43276deb7c557d",
       "version_major": 2,
       "version_minor": 0
      },
      "text/plain": [
       "  DBs for Q:spider_dev_q498_idx4:   0%|          | 0/166 [00:00<?, ?it/s]"
      ]
     },
     "metadata": {},
     "output_type": "display_data"
    },
    {
     "name": "stdout",
     "output_type": "stream",
     "text": [
      "\n",
      "Processing Query 500/1034 (ID: spider_dev_q499_idx499): 'How many paragraphs for the document with name 'Summer Show'?' (True DB: cre_Doc_Template_Mgt)\n"
     ]
    },
    {
     "data": {
      "application/vnd.jupyter.widget-view+json": {
       "model_id": "4c1eea7b1528425d93a1299bc551b172",
       "version_major": 2,
       "version_minor": 0
      },
      "text/plain": [
       "  DBs for Q:spider_dev_q499_idx4:   0%|          | 0/166 [00:00<?, ?it/s]"
      ]
     },
     "metadata": {},
     "output_type": "display_data"
    },
    {
     "name": "stdout",
     "output_type": "stream",
     "text": [
      "\n",
      "Processing Query 501/1034 (ID: spider_dev_q500_idx500): 'Show the names of all high schoolers in grade 10.' (True DB: network_1)\n"
     ]
    },
    {
     "data": {
      "application/vnd.jupyter.widget-view+json": {
       "model_id": "54793aa3e4094308b3f94790841d541b",
       "version_major": 2,
       "version_minor": 0
      },
      "text/plain": [
       "  DBs for Q:spider_dev_q500_idx5:   0%|          | 0/166 [00:00<?, ?it/s]"
      ]
     },
     "metadata": {},
     "output_type": "display_data"
    },
    {
     "name": "stdout",
     "output_type": "stream",
     "text": [
      "\n",
      "Processing Query 502/1034 (ID: spider_dev_q501_idx501): 'Which dogs are owned by someone who lives in Virginia? List the owner's first name and the dog's name.' (True DB: dog_kennels)\n"
     ]
    },
    {
     "data": {
      "application/vnd.jupyter.widget-view+json": {
       "model_id": "d572d4ceb16d44349ba1f73d707478e9",
       "version_major": 2,
       "version_minor": 0
      },
      "text/plain": [
       "  DBs for Q:spider_dev_q501_idx5:   0%|          | 0/166 [00:00<?, ?it/s]"
      ]
     },
     "metadata": {},
     "output_type": "display_data"
    },
    {
     "name": "stdout",
     "output_type": "stream",
     "text": [
      "\n",
      "Processing Query 503/1034 (ID: spider_dev_q502_idx502): 'Count the number of orchestras that have CD or DVD as their record format.' (True DB: orchestra)\n"
     ]
    },
    {
     "data": {
      "application/vnd.jupyter.widget-view+json": {
       "model_id": "aa657aa06a9c40e4968e2fb9db6330bd",
       "version_major": 2,
       "version_minor": 0
      },
      "text/plain": [
       "  DBs for Q:spider_dev_q502_idx5:   0%|          | 0/166 [00:00<?, ?it/s]"
      ]
     },
     "metadata": {},
     "output_type": "display_data"
    },
    {
     "name": "stdout",
     "output_type": "stream",
     "text": [
      "\n",
      "Processing Query 504/1034 (ID: spider_dev_q503_idx503): 'What are the names of the teachers and the courses they teach in ascending alphabetical order by the name of the teacher?' (True DB: course_teach)\n"
     ]
    },
    {
     "data": {
      "application/vnd.jupyter.widget-view+json": {
       "model_id": "a5b72a2fb5d349aa8a8544ac29e83bea",
       "version_major": 2,
       "version_minor": 0
      },
      "text/plain": [
       "  DBs for Q:spider_dev_q503_idx5:   0%|          | 0/166 [00:00<?, ?it/s]"
      ]
     },
     "metadata": {},
     "output_type": "display_data"
    },
    {
     "name": "stdout",
     "output_type": "stream",
     "text": [
      "\n",
      "Processing Query 505/1034 (ID: spider_dev_q504_idx504): 'What is the total population and average area of countries in the continent of North America whose area is bigger than 3000 ?' (True DB: world_1)\n"
     ]
    },
    {
     "data": {
      "application/vnd.jupyter.widget-view+json": {
       "model_id": "c9266842bcd04356a5655cfdb475d1db",
       "version_major": 2,
       "version_minor": 0
      },
      "text/plain": [
       "  DBs for Q:spider_dev_q504_idx5:   0%|          | 0/166 [00:00<?, ?it/s]"
      ]
     },
     "metadata": {},
     "output_type": "display_data"
    },
    {
     "name": "stdout",
     "output_type": "stream",
     "text": [
      "\n",
      "Processing Query 506/1034 (ID: spider_dev_q505_idx505): 'What are the name and results of the battles when the bulgarian commander is not 'Boril'' (True DB: battle_death)\n"
     ]
    },
    {
     "data": {
      "application/vnd.jupyter.widget-view+json": {
       "model_id": "47cbf2cbf9e64b43a872b142030df64b",
       "version_major": 2,
       "version_minor": 0
      },
      "text/plain": [
       "  DBs for Q:spider_dev_q505_idx5:   0%|          | 0/166 [00:00<?, ?it/s]"
      ]
     },
     "metadata": {},
     "output_type": "display_data"
    },
    {
     "name": "stdout",
     "output_type": "stream",
     "text": [
      "\n",
      "Processing Query 507/1034 (ID: spider_dev_q506_idx506): 'What are the ids of high school students who do not have friends?' (True DB: network_1)\n"
     ]
    },
    {
     "data": {
      "application/vnd.jupyter.widget-view+json": {
       "model_id": "b0d9bab42248401ea7ef2f64d3a3e2a2",
       "version_major": 2,
       "version_minor": 0
      },
      "text/plain": [
       "  DBs for Q:spider_dev_q506_idx5:   0%|          | 0/166 [00:00<?, ?it/s]"
      ]
     },
     "metadata": {},
     "output_type": "display_data"
    },
    {
     "name": "stdout",
     "output_type": "stream",
     "text": [
      "\n",
      "Processing Query 508/1034 (ID: spider_dev_q507_idx507): 'How many countries exist?' (True DB: car_1)\n"
     ]
    },
    {
     "data": {
      "application/vnd.jupyter.widget-view+json": {
       "model_id": "b291d73a9dab4d218a1d61ae5953a997",
       "version_major": 2,
       "version_minor": 0
      },
      "text/plain": [
       "  DBs for Q:spider_dev_q507_idx5:   0%|          | 0/166 [00:00<?, ?it/s]"
      ]
     },
     "metadata": {},
     "output_type": "display_data"
    },
    {
     "name": "stdout",
     "output_type": "stream",
     "text": [
      "\n",
      "Processing Query 509/1034 (ID: spider_dev_q508_idx508): 'List the name of singers in ascending order of net worth.' (True DB: singer)\n"
     ]
    },
    {
     "data": {
      "application/vnd.jupyter.widget-view+json": {
       "model_id": "4bd0ee6b3840465088291873ae5fa429",
       "version_major": 2,
       "version_minor": 0
      },
      "text/plain": [
       "  DBs for Q:spider_dev_q508_idx5:   0%|          | 0/166 [00:00<?, ?it/s]"
      ]
     },
     "metadata": {},
     "output_type": "display_data"
    },
    {
     "name": "stdout",
     "output_type": "stream",
     "text": [
      "\n",
      "Processing Query 510/1034 (ID: spider_dev_q509_idx509): 'What are the names of conductors, ordered by age?' (True DB: orchestra)\n"
     ]
    },
    {
     "data": {
      "application/vnd.jupyter.widget-view+json": {
       "model_id": "b16f4d4a80764f94a3abbe68cc47003f",
       "version_major": 2,
       "version_minor": 0
      },
      "text/plain": [
       "  DBs for Q:spider_dev_q509_idx5:   0%|          | 0/166 [00:00<?, ?it/s]"
      ]
     },
     "metadata": {},
     "output_type": "display_data"
    },
    {
     "name": "stdout",
     "output_type": "stream",
     "text": [
      "\n",
      "Processing Query 511/1034 (ID: spider_dev_q510_idx510): 'Which template type code has most number of templates?' (True DB: cre_Doc_Template_Mgt)\n"
     ]
    },
    {
     "data": {
      "application/vnd.jupyter.widget-view+json": {
       "model_id": "4165be28cc1b4d1699454a701c711687",
       "version_major": 2,
       "version_minor": 0
      },
      "text/plain": [
       "  DBs for Q:spider_dev_q510_idx5:   0%|          | 0/166 [00:00<?, ?it/s]"
      ]
     },
     "metadata": {},
     "output_type": "display_data"
    },
    {
     "name": "stdout",
     "output_type": "stream",
     "text": [
      "\n",
      "Processing Query 512/1034 (ID: spider_dev_q511_idx511): 'What is the episode for the TV series named \"Sky Radio\"?' (True DB: tvshow)\n"
     ]
    },
    {
     "data": {
      "application/vnd.jupyter.widget-view+json": {
       "model_id": "5bd3b47464954853b40299bc4fcdf1bb",
       "version_major": 2,
       "version_minor": 0
      },
      "text/plain": [
       "  DBs for Q:spider_dev_q511_idx5:   0%|          | 0/166 [00:00<?, ?it/s]"
      ]
     },
     "metadata": {},
     "output_type": "display_data"
    },
    {
     "name": "stdout",
     "output_type": "stream",
     "text": [
      "\n",
      "Processing Query 513/1034 (ID: spider_dev_q512_idx512): 'Tell me the owner id and last name of the owner who spent the most on treatments of his or her dogs.' (True DB: dog_kennels)\n"
     ]
    },
    {
     "data": {
      "application/vnd.jupyter.widget-view+json": {
       "model_id": "0c8fd34b1baf4f74967e99739c7e7f29",
       "version_major": 2,
       "version_minor": 0
      },
      "text/plain": [
       "  DBs for Q:spider_dev_q512_idx5:   0%|          | 0/166 [00:00<?, ?it/s]"
      ]
     },
     "metadata": {},
     "output_type": "display_data"
    },
    {
     "name": "stdout",
     "output_type": "stream",
     "text": [
      "\n",
      "Processing Query 514/1034 (ID: spider_dev_q513_idx513): 'Show the ids of high schoolers who have friends and are also liked by someone else.' (True DB: network_1)\n"
     ]
    },
    {
     "data": {
      "application/vnd.jupyter.widget-view+json": {
       "model_id": "55ed945e521a4fc2b1f7a332b2d187c9",
       "version_major": 2,
       "version_minor": 0
      },
      "text/plain": [
       "  DBs for Q:spider_dev_q513_idx5:   0%|          | 0/166 [00:00<?, ?it/s]"
      ]
     },
     "metadata": {},
     "output_type": "display_data"
    },
    {
     "name": "stdout",
     "output_type": "stream",
     "text": [
      "\n",
      "Processing Query 515/1034 (ID: spider_dev_q514_idx514): 'How many flights do we have?' (True DB: flight_2)\n"
     ]
    },
    {
     "data": {
      "application/vnd.jupyter.widget-view+json": {
       "model_id": "fd5bc2915d264b3681b5e6597a4fd5c8",
       "version_major": 2,
       "version_minor": 0
      },
      "text/plain": [
       "  DBs for Q:spider_dev_q514_idx5:   0%|          | 0/166 [00:00<?, ?it/s]"
      ]
     },
     "metadata": {},
     "output_type": "display_data"
    },
    {
     "name": "stdout",
     "output_type": "stream",
     "text": [
      "\n",
      "Processing Query 516/1034 (ID: spider_dev_q515_idx515): 'Find the weight of the youngest dog.' (True DB: pets_1)\n"
     ]
    },
    {
     "data": {
      "application/vnd.jupyter.widget-view+json": {
       "model_id": "4bba6d9eb23f44bc835bf047365b4bfb",
       "version_major": 2,
       "version_minor": 0
      },
      "text/plain": [
       "  DBs for Q:spider_dev_q515_idx5:   0%|          | 0/166 [00:00<?, ?it/s]"
      ]
     },
     "metadata": {},
     "output_type": "display_data"
    },
    {
     "name": "stdout",
     "output_type": "stream",
     "text": [
      "\n",
      "Processing Query 517/1034 (ID: spider_dev_q516_idx516): 'Which airline has abbreviation 'UAL'?' (True DB: flight_2)\n"
     ]
    },
    {
     "data": {
      "application/vnd.jupyter.widget-view+json": {
       "model_id": "cb3d4d8e41564bdfa5e79146f9aa5905",
       "version_major": 2,
       "version_minor": 0
      },
      "text/plain": [
       "  DBs for Q:spider_dev_q516_idx5:   0%|          | 0/166 [00:00<?, ?it/s]"
      ]
     },
     "metadata": {},
     "output_type": "display_data"
    },
    {
     "name": "stdout",
     "output_type": "stream",
     "text": [
      "\n",
      "Processing Query 518/1034 (ID: spider_dev_q517_idx517): 'Find the total amount of bonus given in all the evaluations.' (True DB: employee_hire_evaluation)\n"
     ]
    },
    {
     "data": {
      "application/vnd.jupyter.widget-view+json": {
       "model_id": "5f92731f61514c43ad08626e59ec52f6",
       "version_major": 2,
       "version_minor": 0
      },
      "text/plain": [
       "  DBs for Q:spider_dev_q517_idx5:   0%|          | 0/166 [00:00<?, ?it/s]"
      ]
     },
     "metadata": {},
     "output_type": "display_data"
    },
    {
     "name": "stdout",
     "output_type": "stream",
     "text": [
      "\n",
      "Processing Query 519/1034 (ID: spider_dev_q518_idx518): 'What is minimum and maximum share of TV series?' (True DB: tvshow)\n"
     ]
    },
    {
     "data": {
      "application/vnd.jupyter.widget-view+json": {
       "model_id": "4b95f1c37a8c4a8392e159b79fe545f8",
       "version_major": 2,
       "version_minor": 0
      },
      "text/plain": [
       "  DBs for Q:spider_dev_q518_idx5:   0%|          | 0/166 [00:00<?, ?it/s]"
      ]
     },
     "metadata": {},
     "output_type": "display_data"
    },
    {
     "name": "stdout",
     "output_type": "stream",
     "text": [
      "\n",
      "Processing Query 520/1034 (ID: spider_dev_q519_idx519): 'Give the total surface area covered by countries in Asia or Europe.' (True DB: world_1)\n"
     ]
    },
    {
     "data": {
      "application/vnd.jupyter.widget-view+json": {
       "model_id": "e89542c075364c67905249fbba895680",
       "version_major": 2,
       "version_minor": 0
      },
      "text/plain": [
       "  DBs for Q:spider_dev_q519_idx5:   0%|          | 0/166 [00:00<?, ?it/s]"
      ]
     },
     "metadata": {},
     "output_type": "display_data"
    },
    {
     "name": "stdout",
     "output_type": "stream",
     "text": [
      "\n",
      "Processing Query 521/1034 (ID: spider_dev_q520_idx520): 'What are the arriving date and the departing date of all the dogs?' (True DB: dog_kennels)\n"
     ]
    },
    {
     "data": {
      "application/vnd.jupyter.widget-view+json": {
       "model_id": "ecf950c9c7ca4161a99981bff90534dd",
       "version_major": 2,
       "version_minor": 0
      },
      "text/plain": [
       "  DBs for Q:spider_dev_q520_idx5:   0%|          | 0/166 [00:00<?, ?it/s]"
      ]
     },
     "metadata": {},
     "output_type": "display_data"
    },
    {
     "name": "stdout",
     "output_type": "stream",
     "text": [
      "\n",
      "Processing Query 522/1034 (ID: spider_dev_q521_idx521): 'Give the name, year of independence, and surface area of the country that has the lowest population.' (True DB: world_1)\n"
     ]
    },
    {
     "data": {
      "application/vnd.jupyter.widget-view+json": {
       "model_id": "66781926245a4d859ce0c2b6ec6672f5",
       "version_major": 2,
       "version_minor": 0
      },
      "text/plain": [
       "  DBs for Q:spider_dev_q521_idx5:   0%|          | 0/166 [00:00<?, ?it/s]"
      ]
     },
     "metadata": {},
     "output_type": "display_data"
    },
    {
     "name": "stdout",
     "output_type": "stream",
     "text": [
      "\n",
      "Processing Query 523/1034 (ID: spider_dev_q522_idx522): 'Which countries have greater area than that of any country in Europe?' (True DB: world_1)\n"
     ]
    },
    {
     "data": {
      "application/vnd.jupyter.widget-view+json": {
       "model_id": "2a635b1a24c54046939cfeb791c01593",
       "version_major": 2,
       "version_minor": 0
      },
      "text/plain": [
       "  DBs for Q:spider_dev_q522_idx5:   0%|          | 0/166 [00:00<?, ?it/s]"
      ]
     },
     "metadata": {},
     "output_type": "display_data"
    },
    {
     "name": "stdout",
     "output_type": "stream",
     "text": [
      "\n",
      "Processing Query 524/1034 (ID: spider_dev_q523_idx523): 'Count the number of templates of the type CV.' (True DB: cre_Doc_Template_Mgt)\n"
     ]
    },
    {
     "data": {
      "application/vnd.jupyter.widget-view+json": {
       "model_id": "0923c1f3d3a94cc6b505c07e7a540d23",
       "version_major": 2,
       "version_minor": 0
      },
      "text/plain": [
       "  DBs for Q:spider_dev_q523_idx5:   0%|          | 0/166 [00:00<?, ?it/s]"
      ]
     },
     "metadata": {},
     "output_type": "display_data"
    },
    {
     "name": "stdout",
     "output_type": "stream",
     "text": [
      "\n",
      "Processing Query 525/1034 (ID: spider_dev_q524_idx524): 'What is the model for the car with a weight smaller than the average?' (True DB: car_1)\n"
     ]
    },
    {
     "data": {
      "application/vnd.jupyter.widget-view+json": {
       "model_id": "e64f7e40ccb741c49a76f231ea8e920d",
       "version_major": 2,
       "version_minor": 0
      },
      "text/plain": [
       "  DBs for Q:spider_dev_q524_idx5:   0%|          | 0/166 [00:00<?, ?it/s]"
      ]
     },
     "metadata": {},
     "output_type": "display_data"
    },
    {
     "name": "stdout",
     "output_type": "stream",
     "text": [
      "\n",
      "Processing Query 526/1034 (ID: spider_dev_q525_idx525): 'List the names of teachers who have not been arranged to teach courses.' (True DB: course_teach)\n"
     ]
    },
    {
     "data": {
      "application/vnd.jupyter.widget-view+json": {
       "model_id": "0bd27e666ee047f1999ffdca7b293eff",
       "version_major": 2,
       "version_minor": 0
      },
      "text/plain": [
       "  DBs for Q:spider_dev_q525_idx5:   0%|          | 0/166 [00:00<?, ?it/s]"
      ]
     },
     "metadata": {},
     "output_type": "display_data"
    },
    {
     "name": "stdout",
     "output_type": "stream",
     "text": [
      "\n",
      "Processing Query 527/1034 (ID: spider_dev_q526_idx526): 'What is the description for the section named h?' (True DB: student_transcripts_tracking)\n"
     ]
    },
    {
     "data": {
      "application/vnd.jupyter.widget-view+json": {
       "model_id": "856ccbbd8eaf4deb8112be2c24dfab69",
       "version_major": 2,
       "version_minor": 0
      },
      "text/plain": [
       "  DBs for Q:spider_dev_q526_idx5:   0%|          | 0/166 [00:00<?, ?it/s]"
      ]
     },
     "metadata": {},
     "output_type": "display_data"
    },
    {
     "name": "stdout",
     "output_type": "stream",
     "text": [
      "\n",
      "Processing Query 528/1034 (ID: spider_dev_q527_idx527): 'Count the number of United Airlines flights arriving in ASY Airport.' (True DB: flight_2)\n"
     ]
    },
    {
     "data": {
      "application/vnd.jupyter.widget-view+json": {
       "model_id": "c4a1a6f5dc2d4c0ab7d5dde9aa8ac09a",
       "version_major": 2,
       "version_minor": 0
      },
      "text/plain": [
       "  DBs for Q:spider_dev_q527_idx5:   0%|          | 0/166 [00:00<?, ?it/s]"
      ]
     },
     "metadata": {},
     "output_type": "display_data"
    },
    {
     "name": "stdout",
     "output_type": "stream",
     "text": [
      "\n",
      "Processing Query 529/1034 (ID: spider_dev_q528_idx528): 'What is the average expected life expectancy for countries in the region of Central Africa?' (True DB: world_1)\n"
     ]
    },
    {
     "data": {
      "application/vnd.jupyter.widget-view+json": {
       "model_id": "a0d2a372c9674a45a19c300f4167e82b",
       "version_major": 2,
       "version_minor": 0
      },
      "text/plain": [
       "  DBs for Q:spider_dev_q528_idx5:   0%|          | 0/166 [00:00<?, ?it/s]"
      ]
     },
     "metadata": {},
     "output_type": "display_data"
    },
    {
     "name": "stdout",
     "output_type": "stream",
     "text": [
      "\n",
      "Processing Query 530/1034 (ID: spider_dev_q529_idx529): 'List the most common hometown of teachers.' (True DB: course_teach)\n"
     ]
    },
    {
     "data": {
      "application/vnd.jupyter.widget-view+json": {
       "model_id": "14db61d1618941e2b41949b1e89f34a9",
       "version_major": 2,
       "version_minor": 0
      },
      "text/plain": [
       "  DBs for Q:spider_dev_q529_idx5:   0%|          | 0/166 [00:00<?, ?it/s]"
      ]
     },
     "metadata": {},
     "output_type": "display_data"
    },
    {
     "name": "stdout",
     "output_type": "stream",
     "text": [
      "\n",
      "Processing Query 531/1034 (ID: spider_dev_q530_idx530): 'Count the number of documents that use the PPT template type.' (True DB: cre_Doc_Template_Mgt)\n"
     ]
    },
    {
     "data": {
      "application/vnd.jupyter.widget-view+json": {
       "model_id": "380e439429764cfe806b02a0eeaf41f8",
       "version_major": 2,
       "version_minor": 0
      },
      "text/plain": [
       "  DBs for Q:spider_dev_q530_idx5:   0%|          | 0/166 [00:00<?, ?it/s]"
      ]
     },
     "metadata": {},
     "output_type": "display_data"
    },
    {
     "name": "stdout",
     "output_type": "stream",
     "text": [
      "\n",
      "Processing Query 532/1034 (ID: spider_dev_q531_idx531): 'What is the airport code of the airport with the most flights?' (True DB: flight_2)\n"
     ]
    },
    {
     "data": {
      "application/vnd.jupyter.widget-view+json": {
       "model_id": "f169994e07df4c169ff1797043f49af7",
       "version_major": 2,
       "version_minor": 0
      },
      "text/plain": [
       "  DBs for Q:spider_dev_q531_idx5:   0%|          | 0/166 [00:00<?, ?it/s]"
      ]
     },
     "metadata": {},
     "output_type": "display_data"
    },
    {
     "name": "stdout",
     "output_type": "stream",
     "text": [
      "\n",
      "Processing Query 533/1034 (ID: spider_dev_q532_idx532): 'What are the maximum and minimum values of area codes?' (True DB: voter_1)\n"
     ]
    },
    {
     "data": {
      "application/vnd.jupyter.widget-view+json": {
       "model_id": "de73a04a3add40da9660a70acd932573",
       "version_major": 2,
       "version_minor": 0
      },
      "text/plain": [
       "  DBs for Q:spider_dev_q532_idx5:   0%|          | 0/166 [00:00<?, ?it/s]"
      ]
     },
     "metadata": {},
     "output_type": "display_data"
    },
    {
     "name": "stdout",
     "output_type": "stream",
     "text": [
      "\n",
      "Processing Query 534/1034 (ID: spider_dev_q533_idx533): 'What are the names of the people who teach math courses?' (True DB: course_teach)\n"
     ]
    },
    {
     "data": {
      "application/vnd.jupyter.widget-view+json": {
       "model_id": "d3fa35792a1444969443f8fbf3ce8625",
       "version_major": 2,
       "version_minor": 0
      },
      "text/plain": [
       "  DBs for Q:spider_dev_q533_idx5:   0%|          | 0/166 [00:00<?, ?it/s]"
      ]
     },
     "metadata": {},
     "output_type": "display_data"
    },
    {
     "name": "stdout",
     "output_type": "stream",
     "text": [
      "\n",
      "Processing Query 535/1034 (ID: spider_dev_q534_idx534): 'How many car models were produced by the maker with full name American Motor Company?' (True DB: car_1)\n"
     ]
    },
    {
     "data": {
      "application/vnd.jupyter.widget-view+json": {
       "model_id": "ba41062d2d284333b1e6e9ea460bf6fa",
       "version_major": 2,
       "version_minor": 0
      },
      "text/plain": [
       "  DBs for Q:spider_dev_q534_idx5:   0%|          | 0/166 [00:00<?, ?it/s]"
      ]
     },
     "metadata": {},
     "output_type": "display_data"
    },
    {
     "name": "stdout",
     "output_type": "stream",
     "text": [
      "\n",
      "Processing Query 536/1034 (ID: spider_dev_q535_idx535): 'Find the number of shops in each location.' (True DB: employee_hire_evaluation)\n"
     ]
    },
    {
     "data": {
      "application/vnd.jupyter.widget-view+json": {
       "model_id": "19ad9f1dd96e4f5186a5ace1391c05fd",
       "version_major": 2,
       "version_minor": 0
      },
      "text/plain": [
       "  DBs for Q:spider_dev_q535_idx5:   0%|          | 0/166 [00:00<?, ?it/s]"
      ]
     },
     "metadata": {},
     "output_type": "display_data"
    },
    {
     "name": "stdout",
     "output_type": "stream",
     "text": [
      "\n",
      "Processing Query 537/1034 (ID: spider_dev_q536_idx536): 'Give the names of countries that are in Europe and have a population equal to 80000.' (True DB: world_1)\n"
     ]
    },
    {
     "data": {
      "application/vnd.jupyter.widget-view+json": {
       "model_id": "5cd10f0cbefa41b296a4f4f93711dc6f",
       "version_major": 2,
       "version_minor": 0
      },
      "text/plain": [
       "  DBs for Q:spider_dev_q536_idx5:   0%|          | 0/166 [00:00<?, ?it/s]"
      ]
     },
     "metadata": {},
     "output_type": "display_data"
    },
    {
     "name": "stdout",
     "output_type": "stream",
     "text": [
      "\n",
      "Processing Query 538/1034 (ID: spider_dev_q537_idx537): 'Return the different document ids along with the number of paragraphs corresponding to each, ordered by id.' (True DB: cre_Doc_Template_Mgt)\n"
     ]
    },
    {
     "data": {
      "application/vnd.jupyter.widget-view+json": {
       "model_id": "32af0e20c2cf49048bc81f42925c4f38",
       "version_major": 2,
       "version_minor": 0
      },
      "text/plain": [
       "  DBs for Q:spider_dev_q537_idx5:   0%|          | 0/166 [00:00<?, ?it/s]"
      ]
     },
     "metadata": {},
     "output_type": "display_data"
    },
    {
     "name": "stdout",
     "output_type": "stream",
     "text": [
      "\n",
      "Processing Query 539/1034 (ID: spider_dev_q538_idx538): 'Give the number of Jetblue Airways flights.' (True DB: flight_2)\n"
     ]
    },
    {
     "data": {
      "application/vnd.jupyter.widget-view+json": {
       "model_id": "1390af97146a4a929edb9e6f5e4935c8",
       "version_major": 2,
       "version_minor": 0
      },
      "text/plain": [
       "  DBs for Q:spider_dev_q538_idx5:   0%|          | 0/166 [00:00<?, ?it/s]"
      ]
     },
     "metadata": {},
     "output_type": "display_data"
    },
    {
     "name": "stdout",
     "output_type": "stream",
     "text": [
      "\n",
      "Processing Query 540/1034 (ID: spider_dev_q539_idx539): 'What are the cities whose population is between 160000 and 900000?' (True DB: world_1)\n"
     ]
    },
    {
     "data": {
      "application/vnd.jupyter.widget-view+json": {
       "model_id": "6f8e3e85a3634149bd596ab9260dcfac",
       "version_major": 2,
       "version_minor": 0
      },
      "text/plain": [
       "  DBs for Q:spider_dev_q539_idx5:   0%|          | 0/166 [00:00<?, ?it/s]"
      ]
     },
     "metadata": {},
     "output_type": "display_data"
    },
    {
     "name": "stdout",
     "output_type": "stream",
     "text": [
      "\n",
      "Processing Query 541/1034 (ID: spider_dev_q540_idx540): 'What are the names of conductors whose nationalities are not \"USA\"?' (True DB: orchestra)\n"
     ]
    },
    {
     "data": {
      "application/vnd.jupyter.widget-view+json": {
       "model_id": "00138d181af54311952dd7bdc303e9bd",
       "version_major": 2,
       "version_minor": 0
      },
      "text/plain": [
       "  DBs for Q:spider_dev_q540_idx5:   0%|          | 0/166 [00:00<?, ?it/s]"
      ]
     },
     "metadata": {},
     "output_type": "display_data"
    },
    {
     "name": "stdout",
     "output_type": "stream",
     "text": [
      "\n",
      "Processing Query 542/1034 (ID: spider_dev_q541_idx541): 'Return the number of United Airlines flights leaving from AHD Airport.' (True DB: flight_2)\n"
     ]
    },
    {
     "data": {
      "application/vnd.jupyter.widget-view+json": {
       "model_id": "d6fe8023fce049679cb82b3275d1aef4",
       "version_major": 2,
       "version_minor": 0
      },
      "text/plain": [
       "  DBs for Q:spider_dev_q541_idx5:   0%|          | 0/166 [00:00<?, ?it/s]"
      ]
     },
     "metadata": {},
     "output_type": "display_data"
    },
    {
     "name": "stdout",
     "output_type": "stream",
     "text": [
      "\n",
      "Processing Query 543/1034 (ID: spider_dev_q542_idx542): 'Which language is spoken by the largest number of countries?' (True DB: world_1)\n"
     ]
    },
    {
     "data": {
      "application/vnd.jupyter.widget-view+json": {
       "model_id": "16935d961bb542d0811377be56ddf5bc",
       "version_major": 2,
       "version_minor": 0
      },
      "text/plain": [
       "  DBs for Q:spider_dev_q542_idx5:   0%|          | 0/166 [00:00<?, ?it/s]"
      ]
     },
     "metadata": {},
     "output_type": "display_data"
    },
    {
     "name": "stdout",
     "output_type": "stream",
     "text": [
      "\n",
      "Processing Query 544/1034 (ID: spider_dev_q543_idx543): 'How many countries has more than 2 car makers ?' (True DB: car_1)\n"
     ]
    },
    {
     "data": {
      "application/vnd.jupyter.widget-view+json": {
       "model_id": "390d1d9452e448dcb56b651bd30b6403",
       "version_major": 2,
       "version_minor": 0
      },
      "text/plain": [
       "  DBs for Q:spider_dev_q543_idx5:   0%|          | 0/166 [00:00<?, ?it/s]"
      ]
     },
     "metadata": {},
     "output_type": "display_data"
    },
    {
     "name": "stdout",
     "output_type": "stream",
     "text": [
      "\n",
      "Processing Query 545/1034 (ID: spider_dev_q544_idx544): 'find the package option of the tv channel that do not have any cartoon directed by Ben Jones.' (True DB: tvshow)\n"
     ]
    },
    {
     "data": {
      "application/vnd.jupyter.widget-view+json": {
       "model_id": "44cd4fccf69a4e9589a7d87f1c822932",
       "version_major": 2,
       "version_minor": 0
      },
      "text/plain": [
       "  DBs for Q:spider_dev_q544_idx5:   0%|          | 0/166 [00:00<?, ?it/s]"
      ]
     },
     "metadata": {},
     "output_type": "display_data"
    },
    {
     "name": "stdout",
     "output_type": "stream",
     "text": [
      "\n",
      "Processing Query 546/1034 (ID: spider_dev_q545_idx545): 'What are flight numbers of Airline \"United Airlines\"?' (True DB: flight_2)\n"
     ]
    },
    {
     "data": {
      "application/vnd.jupyter.widget-view+json": {
       "model_id": "713d7903042c4e668cd166de0daf80c3",
       "version_major": 2,
       "version_minor": 0
      },
      "text/plain": [
       "  DBs for Q:spider_dev_q545_idx5:   0%|          | 0/166 [00:00<?, ?it/s]"
      ]
     },
     "metadata": {},
     "output_type": "display_data"
    },
    {
     "name": "stdout",
     "output_type": "stream",
     "text": [
      "\n",
      "Processing Query 547/1034 (ID: spider_dev_q546_idx546): 'What are airlines that have some flight departing from airport 'AHD'?' (True DB: flight_2)\n"
     ]
    },
    {
     "data": {
      "application/vnd.jupyter.widget-view+json": {
       "model_id": "579a11b6576344f2b9eda551255e9e1a",
       "version_major": 2,
       "version_minor": 0
      },
      "text/plain": [
       "  DBs for Q:spider_dev_q546_idx5:   0%|          | 0/166 [00:00<?, ?it/s]"
      ]
     },
     "metadata": {},
     "output_type": "display_data"
    },
    {
     "name": "stdout",
     "output_type": "stream",
     "text": [
      "\n",
      "Processing Query 548/1034 (ID: spider_dev_q547_idx547): 'List the name of singers that do not have any song.' (True DB: singer)\n"
     ]
    },
    {
     "data": {
      "application/vnd.jupyter.widget-view+json": {
       "model_id": "9341bd8e1dd64456a4de8f29ec33bac1",
       "version_major": 2,
       "version_minor": 0
      },
      "text/plain": [
       "  DBs for Q:spider_dev_q547_idx5:   0%|          | 0/166 [00:00<?, ?it/s]"
      ]
     },
     "metadata": {},
     "output_type": "display_data"
    },
    {
     "name": "stdout",
     "output_type": "stream",
     "text": [
      "\n",
      "Processing Query 549/1034 (ID: spider_dev_q548_idx548): 'Which owner has paid for the most treatments on his or her dogs? List the owner id and last name.' (True DB: dog_kennels)\n"
     ]
    },
    {
     "data": {
      "application/vnd.jupyter.widget-view+json": {
       "model_id": "7239732fa38542b4a70c113569cf7b5b",
       "version_major": 2,
       "version_minor": 0
      },
      "text/plain": [
       "  DBs for Q:spider_dev_q548_idx5:   0%|          | 0/166 [00:00<?, ?it/s]"
      ]
     },
     "metadata": {},
     "output_type": "display_data"
    },
    {
     "name": "stdout",
     "output_type": "stream",
     "text": [
      "\n",
      "Processing Query 550/1034 (ID: spider_dev_q549_idx549): 'What is the first and second line for all addresses?' (True DB: student_transcripts_tracking)\n"
     ]
    },
    {
     "data": {
      "application/vnd.jupyter.widget-view+json": {
       "model_id": "70f5b5d9ccae4312a08ef715fd13a788",
       "version_major": 2,
       "version_minor": 0
      },
      "text/plain": [
       "  DBs for Q:spider_dev_q549_idx5:   0%|          | 0/166 [00:00<?, ?it/s]"
      ]
     },
     "metadata": {},
     "output_type": "display_data"
    },
    {
     "name": "stdout",
     "output_type": "stream",
     "text": [
      "\n",
      "Processing Query 551/1034 (ID: spider_dev_q550_idx550): 'What is the id, line 1, and line 2 of the address with the most students?' (True DB: student_transcripts_tracking)\n"
     ]
    },
    {
     "data": {
      "application/vnd.jupyter.widget-view+json": {
       "model_id": "c37030c5c4084255b5572ff791742a91",
       "version_major": 2,
       "version_minor": 0
      },
      "text/plain": [
       "  DBs for Q:spider_dev_q550_idx5:   0%|          | 0/166 [00:00<?, ?it/s]"
      ]
     },
     "metadata": {},
     "output_type": "display_data"
    },
    {
     "name": "stdout",
     "output_type": "stream",
     "text": [
      "\n",
      "Processing Query 552/1034 (ID: spider_dev_q551_idx551): 'For all of the 4 cylinder cars, which model has the most horsepower?' (True DB: car_1)\n"
     ]
    },
    {
     "data": {
      "application/vnd.jupyter.widget-view+json": {
       "model_id": "b4c1e471a4ae448581ffc3cfe81cca5b",
       "version_major": 2,
       "version_minor": 0
      },
      "text/plain": [
       "  DBs for Q:spider_dev_q551_idx5:   0%|          | 0/166 [00:00<?, ?it/s]"
      ]
     },
     "metadata": {},
     "output_type": "display_data"
    },
    {
     "name": "stdout",
     "output_type": "stream",
     "text": [
      "\n",
      "Processing Query 553/1034 (ID: spider_dev_q552_idx552): 'What are the locations and names of all stations with capacity between 5000 and 10000?' (True DB: concert_singer)\n"
     ]
    },
    {
     "data": {
      "application/vnd.jupyter.widget-view+json": {
       "model_id": "6fa70ed816ce4d749ade07d6a7eb190c",
       "version_major": 2,
       "version_minor": 0
      },
      "text/plain": [
       "  DBs for Q:spider_dev_q552_idx5:   0%|          | 0/166 [00:00<?, ?it/s]"
      ]
     },
     "metadata": {},
     "output_type": "display_data"
    },
    {
     "name": "stdout",
     "output_type": "stream",
     "text": [
      "\n",
      "Processing Query 554/1034 (ID: spider_dev_q553_idx553): 'How many different forms of governments are there in Africa?' (True DB: world_1)\n"
     ]
    },
    {
     "data": {
      "application/vnd.jupyter.widget-view+json": {
       "model_id": "04c5fb98711c4b4ca241539e7306b267",
       "version_major": 2,
       "version_minor": 0
      },
      "text/plain": [
       "  DBs for Q:spider_dev_q553_idx5:   0%|          | 0/166 [00:00<?, ?it/s]"
      ]
     },
     "metadata": {},
     "output_type": "display_data"
    },
    {
     "name": "stdout",
     "output_type": "stream",
     "text": [
      "\n",
      "Processing Query 555/1034 (ID: spider_dev_q554_idx554): 'What is the pixel aspect ratio and country of origin for all TV channels that do not use English?' (True DB: tvshow)\n"
     ]
    },
    {
     "data": {
      "application/vnd.jupyter.widget-view+json": {
       "model_id": "af9eca9e56f44e6eb231219b80ec672a",
       "version_major": 2,
       "version_minor": 0
      },
      "text/plain": [
       "  DBs for Q:spider_dev_q554_idx5:   0%|          | 0/166 [00:00<?, ?it/s]"
      ]
     },
     "metadata": {},
     "output_type": "display_data"
    },
    {
     "name": "stdout",
     "output_type": "stream",
     "text": [
      "\n",
      "Processing Query 556/1034 (ID: spider_dev_q555_idx555): 'How many flights land in Aberdeen or Abilene?' (True DB: flight_2)\n"
     ]
    },
    {
     "data": {
      "application/vnd.jupyter.widget-view+json": {
       "model_id": "71e0a8f0c7c44c2f9bd23db907024540",
       "version_major": 2,
       "version_minor": 0
      },
      "text/plain": [
       "  DBs for Q:spider_dev_q555_idx5:   0%|          | 0/166 [00:00<?, ?it/s]"
      ]
     },
     "metadata": {},
     "output_type": "display_data"
    },
    {
     "name": "stdout",
     "output_type": "stream",
     "text": [
      "\n",
      "Processing Query 557/1034 (ID: spider_dev_q556_idx556): 'Return the average attendance across all shows.' (True DB: orchestra)\n"
     ]
    },
    {
     "data": {
      "application/vnd.jupyter.widget-view+json": {
       "model_id": "b95b94caaac34e489602e082566b9ca7",
       "version_major": 2,
       "version_minor": 0
      },
      "text/plain": [
       "  DBs for Q:spider_dev_q556_idx5:   0%|          | 0/166 [00:00<?, ?it/s]"
      ]
     },
     "metadata": {},
     "output_type": "display_data"
    },
    {
     "name": "stdout",
     "output_type": "stream",
     "text": [
      "\n",
      "Processing Query 558/1034 (ID: spider_dev_q557_idx557): 'What are the names of all stadiums that did not have a concert in 2014?' (True DB: concert_singer)\n"
     ]
    },
    {
     "data": {
      "application/vnd.jupyter.widget-view+json": {
       "model_id": "ff897c1b0ec84c40a93e5e442dca35a8",
       "version_major": 2,
       "version_minor": 0
      },
      "text/plain": [
       "  DBs for Q:spider_dev_q557_idx5:   0%|          | 0/166 [00:00<?, ?it/s]"
      ]
     },
     "metadata": {},
     "output_type": "display_data"
    },
    {
     "name": "stdout",
     "output_type": "stream",
     "text": [
      "\n",
      "Processing Query 559/1034 (ID: spider_dev_q558_idx558): 'Find the number of cartoons directed by each of the listed directors.' (True DB: tvshow)\n"
     ]
    },
    {
     "data": {
      "application/vnd.jupyter.widget-view+json": {
       "model_id": "8cbe35e4fef24975a90ffba43d47992d",
       "version_major": 2,
       "version_minor": 0
      },
      "text/plain": [
       "  DBs for Q:spider_dev_q558_idx5:   0%|          | 0/166 [00:00<?, ?it/s]"
      ]
     },
     "metadata": {},
     "output_type": "display_data"
    },
    {
     "name": "stdout",
     "output_type": "stream",
     "text": [
      "\n",
      "Processing Query 560/1034 (ID: spider_dev_q559_idx559): 'Find the model of the car whose weight is below the average weight.' (True DB: car_1)\n"
     ]
    },
    {
     "data": {
      "application/vnd.jupyter.widget-view+json": {
       "model_id": "e706474038de45c3b97ff1d3232fbd2f",
       "version_major": 2,
       "version_minor": 0
      },
      "text/plain": [
       "  DBs for Q:spider_dev_q559_idx5:   0%|          | 0/166 [00:00<?, ?it/s]"
      ]
     },
     "metadata": {},
     "output_type": "display_data"
    },
    {
     "name": "stdout",
     "output_type": "stream",
     "text": [
      "\n",
      "Processing Query 561/1034 (ID: spider_dev_q560_idx560): 'What is the date and id of the transcript with the least number of results?' (True DB: student_transcripts_tracking)\n"
     ]
    },
    {
     "data": {
      "application/vnd.jupyter.widget-view+json": {
       "model_id": "5f1492b6f819451fa341e9b080cf6c1c",
       "version_major": 2,
       "version_minor": 0
      },
      "text/plain": [
       "  DBs for Q:spider_dev_q560_idx5:   0%|          | 0/166 [00:00<?, ?it/s]"
      ]
     },
     "metadata": {},
     "output_type": "display_data"
    },
    {
     "name": "stdout",
     "output_type": "stream",
     "text": [
      "\n",
      "Processing Query 562/1034 (ID: spider_dev_q561_idx561): 'Which city has the most frequent destination airport?' (True DB: flight_2)\n"
     ]
    },
    {
     "data": {
      "application/vnd.jupyter.widget-view+json": {
       "model_id": "7784cddc749345db9d7de2562b947500",
       "version_major": 2,
       "version_minor": 0
      },
      "text/plain": [
       "  DBs for Q:spider_dev_q561_idx5:   0%|          | 0/166 [00:00<?, ?it/s]"
      ]
     },
     "metadata": {},
     "output_type": "display_data"
    },
    {
     "name": "stdout",
     "output_type": "stream",
     "text": [
      "\n",
      "Processing Query 563/1034 (ID: spider_dev_q562_idx562): 'How many high schoolers are there in grade 9 or 10?' (True DB: network_1)\n"
     ]
    },
    {
     "data": {
      "application/vnd.jupyter.widget-view+json": {
       "model_id": "e27cb566568749dcaf9fe8f42f6b560e",
       "version_major": 2,
       "version_minor": 0
      },
      "text/plain": [
       "  DBs for Q:spider_dev_q562_idx5:   0%|          | 0/166 [00:00<?, ?it/s]"
      ]
     },
     "metadata": {},
     "output_type": "display_data"
    },
    {
     "name": "stdout",
     "output_type": "stream",
     "text": [
      "\n",
      "Processing Query 564/1034 (ID: spider_dev_q563_idx563): 'What are the names of all the countries that became independent after 1950?' (True DB: world_1)\n"
     ]
    },
    {
     "data": {
      "application/vnd.jupyter.widget-view+json": {
       "model_id": "63afab5abdd847b9abb75fa98970bf1d",
       "version_major": 2,
       "version_minor": 0
      },
      "text/plain": [
       "  DBs for Q:spider_dev_q563_idx5:   0%|          | 0/166 [00:00<?, ?it/s]"
      ]
     },
     "metadata": {},
     "output_type": "display_data"
    },
    {
     "name": "stdout",
     "output_type": "stream",
     "text": [
      "\n",
      "Processing Query 565/1034 (ID: spider_dev_q564_idx564): 'What is Kyle's id?' (True DB: network_1)\n"
     ]
    },
    {
     "data": {
      "application/vnd.jupyter.widget-view+json": {
       "model_id": "b53dc09c8dd141debda01e3acd59de8d",
       "version_major": 2,
       "version_minor": 0
      },
      "text/plain": [
       "  DBs for Q:spider_dev_q564_idx5:   0%|          | 0/166 [00:00<?, ?it/s]"
      ]
     },
     "metadata": {},
     "output_type": "display_data"
    },
    {
     "name": "stdout",
     "output_type": "stream",
     "text": [
      "\n",
      "Processing Query 566/1034 (ID: spider_dev_q565_idx565): 'What are the different template type codes, and how many documents use each type?' (True DB: cre_Doc_Template_Mgt)\n"
     ]
    },
    {
     "data": {
      "application/vnd.jupyter.widget-view+json": {
       "model_id": "149949fb30df4a4cb7afe230cefec826",
       "version_major": 2,
       "version_minor": 0
      },
      "text/plain": [
       "  DBs for Q:spider_dev_q565_idx5:   0%|          | 0/166 [00:00<?, ?it/s]"
      ]
     },
     "metadata": {},
     "output_type": "display_data"
    },
    {
     "name": "stdout",
     "output_type": "stream",
     "text": [
      "\n",
      "Processing Query 567/1034 (ID: spider_dev_q566_idx566): 'What are the names of the employees who never received any evaluation?' (True DB: employee_hire_evaluation)\n"
     ]
    },
    {
     "data": {
      "application/vnd.jupyter.widget-view+json": {
       "model_id": "7026859e15624fd4be1255d47349caa5",
       "version_major": 2,
       "version_minor": 0
      },
      "text/plain": [
       "  DBs for Q:spider_dev_q566_idx5:   0%|          | 0/166 [00:00<?, ?it/s]"
      ]
     },
     "metadata": {},
     "output_type": "display_data"
    },
    {
     "name": "stdout",
     "output_type": "stream",
     "text": [
      "\n",
      "Processing Query 568/1034 (ID: spider_dev_q567_idx567): 'Find the number of concerts happened in the stadium with the highest capacity .' (True DB: concert_singer)\n"
     ]
    },
    {
     "data": {
      "application/vnd.jupyter.widget-view+json": {
       "model_id": "3ce419aa86d7454399153bb95a158ef3",
       "version_major": 2,
       "version_minor": 0
      },
      "text/plain": [
       "  DBs for Q:spider_dev_q567_idx5:   0%|          | 0/166 [00:00<?, ?it/s]"
      ]
     },
     "metadata": {},
     "output_type": "display_data"
    },
    {
     "name": "stdout",
     "output_type": "stream",
     "text": [
      "\n",
      "Processing Query 569/1034 (ID: spider_dev_q568_idx568): 'List the names of all winners who played in both 2013 and 2016.' (True DB: wta_1)\n"
     ]
    },
    {
     "data": {
      "application/vnd.jupyter.widget-view+json": {
       "model_id": "8581e6e86e0c4574a6823284075779d5",
       "version_major": 2,
       "version_minor": 0
      },
      "text/plain": [
       "  DBs for Q:spider_dev_q568_idx5:   0%|          | 0/166 [00:00<?, ?it/s]"
      ]
     },
     "metadata": {},
     "output_type": "display_data"
    },
    {
     "name": "stdout",
     "output_type": "stream",
     "text": [
      "\n",
      "Processing Query 570/1034 (ID: spider_dev_q569_idx569): 'What is maximum and minimum death toll caused each time?' (True DB: battle_death)\n"
     ]
    },
    {
     "data": {
      "application/vnd.jupyter.widget-view+json": {
       "model_id": "5b74a18e7efe47499d4e2a302434145a",
       "version_major": 2,
       "version_minor": 0
      },
      "text/plain": [
       "  DBs for Q:spider_dev_q569_idx5:   0%|          | 0/166 [00:00<?, ?it/s]"
      ]
     },
     "metadata": {},
     "output_type": "display_data"
    },
    {
     "name": "stdout",
     "output_type": "stream",
     "text": [
      "\n",
      "Processing Query 571/1034 (ID: spider_dev_q570_idx570): 'How many players are there?' (True DB: wta_1)\n"
     ]
    },
    {
     "data": {
      "application/vnd.jupyter.widget-view+json": {
       "model_id": "3a8ea47cf9df40d791315cf0c8bf18e5",
       "version_major": 2,
       "version_minor": 0
      },
      "text/plain": [
       "  DBs for Q:spider_dev_q570_idx5:   0%|          | 0/166 [00:00<?, ?it/s]"
      ]
     },
     "metadata": {},
     "output_type": "display_data"
    },
    {
     "name": "stdout",
     "output_type": "stream",
     "text": [
      "\n",
      "Processing Query 572/1034 (ID: spider_dev_q571_idx571): 'What are the different template type codes, and how many templates correspond to each?' (True DB: cre_Doc_Template_Mgt)\n"
     ]
    },
    {
     "data": {
      "application/vnd.jupyter.widget-view+json": {
       "model_id": "297a9bf62fbd4721b4834bef080ffefb",
       "version_major": 2,
       "version_minor": 0
      },
      "text/plain": [
       "  DBs for Q:spider_dev_q571_idx5:   0%|          | 0/166 [00:00<?, ?it/s]"
      ]
     },
     "metadata": {},
     "output_type": "display_data"
    },
    {
     "name": "stdout",
     "output_type": "stream",
     "text": [
      "\n",
      "Processing Query 573/1034 (ID: spider_dev_q572_idx572): 'Which unique cities are in Asian countries where Chinese is the official language ?' (True DB: world_1)\n"
     ]
    },
    {
     "data": {
      "application/vnd.jupyter.widget-view+json": {
       "model_id": "2c2e5402162b4a33841b83c9e67c068d",
       "version_major": 2,
       "version_minor": 0
      },
      "text/plain": [
       "  DBs for Q:spider_dev_q572_idx5:   0%|          | 0/166 [00:00<?, ?it/s]"
      ]
     },
     "metadata": {},
     "output_type": "display_data"
    },
    {
     "name": "stdout",
     "output_type": "stream",
     "text": [
      "\n",
      "Processing Query 574/1034 (ID: spider_dev_q573_idx573): 'What are the id and names of the countries which have more than 3 car makers or produce the 'fiat' model?' (True DB: car_1)\n"
     ]
    },
    {
     "data": {
      "application/vnd.jupyter.widget-view+json": {
       "model_id": "4f9a8a33a2714cfa8da03594221f5b92",
       "version_major": 2,
       "version_minor": 0
      },
      "text/plain": [
       "  DBs for Q:spider_dev_q573_idx5:   0%|          | 0/166 [00:00<?, ?it/s]"
      ]
     },
     "metadata": {},
     "output_type": "display_data"
    },
    {
     "name": "stdout",
     "output_type": "stream",
     "text": [
      "\n",
      "Processing Query 575/1034 (ID: spider_dev_q574_idx574): 'What is the name and country of origin of every singer who has a song with the word 'Hey' in its title?' (True DB: concert_singer)\n"
     ]
    },
    {
     "data": {
      "application/vnd.jupyter.widget-view+json": {
       "model_id": "c2a3c0bea2b040e5b87b485c1ab566b9",
       "version_major": 2,
       "version_minor": 0
      },
      "text/plain": [
       "  DBs for Q:spider_dev_q574_idx5:   0%|          | 0/166 [00:00<?, ?it/s]"
      ]
     },
     "metadata": {},
     "output_type": "display_data"
    },
    {
     "name": "stdout",
     "output_type": "stream",
     "text": [
      "\n",
      "Processing Query 576/1034 (ID: spider_dev_q575_idx575): 'Show name, country, age for all singers ordered by age from the oldest to the youngest.' (True DB: concert_singer)\n"
     ]
    },
    {
     "data": {
      "application/vnd.jupyter.widget-view+json": {
       "model_id": "b48c2aa4a59f4854a11c9f485572e406",
       "version_major": 2,
       "version_minor": 0
      },
      "text/plain": [
       "  DBs for Q:spider_dev_q575_idx5:   0%|          | 0/166 [00:00<?, ?it/s]"
      ]
     },
     "metadata": {},
     "output_type": "display_data"
    },
    {
     "name": "stdout",
     "output_type": "stream",
     "text": [
      "\n",
      "Processing Query 577/1034 (ID: spider_dev_q576_idx576): 'Return the names of all the poker players.' (True DB: poker_player)\n"
     ]
    },
    {
     "data": {
      "application/vnd.jupyter.widget-view+json": {
       "model_id": "9951a49e59bc4c399653868959197968",
       "version_major": 2,
       "version_minor": 0
      },
      "text/plain": [
       "  DBs for Q:spider_dev_q576_idx5:   0%|          | 0/166 [00:00<?, ?it/s]"
      ]
     },
     "metadata": {},
     "output_type": "display_data"
    },
    {
     "name": "stdout",
     "output_type": "stream",
     "text": [
      "\n",
      "Processing Query 578/1034 (ID: spider_dev_q577_idx577): 'How many people live in Gelderland district?' (True DB: world_1)\n"
     ]
    },
    {
     "data": {
      "application/vnd.jupyter.widget-view+json": {
       "model_id": "3e8c00bdcf1249239277a8a07b3d9ab6",
       "version_major": 2,
       "version_minor": 0
      },
      "text/plain": [
       "  DBs for Q:spider_dev_q577_idx5:   0%|          | 0/166 [00:00<?, ?it/s]"
      ]
     },
     "metadata": {},
     "output_type": "display_data"
    },
    {
     "name": "stdout",
     "output_type": "stream",
     "text": [
      "\n",
      "Processing Query 579/1034 (ID: spider_dev_q578_idx578): 'What is the total surface area of the countries in the Caribbean region?' (True DB: world_1)\n"
     ]
    },
    {
     "data": {
      "application/vnd.jupyter.widget-view+json": {
       "model_id": "b5608a3d3f7a4ceab63b47956045074c",
       "version_major": 2,
       "version_minor": 0
      },
      "text/plain": [
       "  DBs for Q:spider_dev_q578_idx5:   0%|          | 0/166 [00:00<?, ?it/s]"
      ]
     },
     "metadata": {},
     "output_type": "display_data"
    },
    {
     "name": "stdout",
     "output_type": "stream",
     "text": [
      "\n",
      "Processing Query 580/1034 (ID: spider_dev_q579_idx579): 'Return the names of the 3 most populated countries.' (True DB: world_1)\n"
     ]
    },
    {
     "data": {
      "application/vnd.jupyter.widget-view+json": {
       "model_id": "cbd233bb357b4d6ab11f8207ed73d30a",
       "version_major": 2,
       "version_minor": 0
      },
      "text/plain": [
       "  DBs for Q:spider_dev_q579_idx5:   0%|          | 0/166 [00:00<?, ?it/s]"
      ]
     },
     "metadata": {},
     "output_type": "display_data"
    },
    {
     "name": "stdout",
     "output_type": "stream",
     "text": [
      "\n",
      "Processing Query 581/1034 (ID: spider_dev_q580_idx580): 'Find the first name of students who have both cat and dog pets .' (True DB: pets_1)\n"
     ]
    },
    {
     "data": {
      "application/vnd.jupyter.widget-view+json": {
       "model_id": "918cc6e77a2c4048be3e5a757b8bb881",
       "version_major": 2,
       "version_minor": 0
      },
      "text/plain": [
       "  DBs for Q:spider_dev_q580_idx5:   0%|          | 0/166 [00:00<?, ?it/s]"
      ]
     },
     "metadata": {},
     "output_type": "display_data"
    },
    {
     "name": "stdout",
     "output_type": "stream",
     "text": [
      "\n",
      "Processing Query 582/1034 (ID: spider_dev_q581_idx581): 'What is the language that is used by the largest number of Asian nations?' (True DB: world_1)\n"
     ]
    },
    {
     "data": {
      "application/vnd.jupyter.widget-view+json": {
       "model_id": "08fa0e82d58d479d82fdbbd296a5a58c",
       "version_major": 2,
       "version_minor": 0
      },
      "text/plain": [
       "  DBs for Q:spider_dev_q581_idx5:   0%|          | 0/166 [00:00<?, ?it/s]"
      ]
     },
     "metadata": {},
     "output_type": "display_data"
    },
    {
     "name": "stdout",
     "output_type": "stream",
     "text": [
      "\n",
      "Processing Query 583/1034 (ID: spider_dev_q582_idx582): 'What are all distinct countries where singers above age 20 are from?' (True DB: concert_singer)\n"
     ]
    },
    {
     "data": {
      "application/vnd.jupyter.widget-view+json": {
       "model_id": "554fa4e645d1485193500a9e0d3192a5",
       "version_major": 2,
       "version_minor": 0
      },
      "text/plain": [
       "  DBs for Q:spider_dev_q582_idx5:   0%|          | 0/166 [00:00<?, ?it/s]"
      ]
     },
     "metadata": {},
     "output_type": "display_data"
    },
    {
     "name": "stdout",
     "output_type": "stream",
     "text": [
      "\n",
      "Processing Query 584/1034 (ID: spider_dev_q583_idx583): 'Which airlines have a flight with source airport AHD?' (True DB: flight_2)\n"
     ]
    },
    {
     "data": {
      "application/vnd.jupyter.widget-view+json": {
       "model_id": "ca9cf97937794186aa595b06f6a06b04",
       "version_major": 2,
       "version_minor": 0
      },
      "text/plain": [
       "  DBs for Q:spider_dev_q583_idx5:   0%|          | 0/166 [00:00<?, ?it/s]"
      ]
     },
     "metadata": {},
     "output_type": "display_data"
    },
    {
     "name": "stdout",
     "output_type": "stream",
     "text": [
      "\n",
      "Processing Query 585/1034 (ID: spider_dev_q584_idx584): 'Find the names of employees who never won any award in the evaluation.' (True DB: employee_hire_evaluation)\n"
     ]
    },
    {
     "data": {
      "application/vnd.jupyter.widget-view+json": {
       "model_id": "46f964c30a814a5f96764842a6e64fd8",
       "version_major": 2,
       "version_minor": 0
      },
      "text/plain": [
       "  DBs for Q:spider_dev_q584_idx5:   0%|          | 0/166 [00:00<?, ?it/s]"
      ]
     },
     "metadata": {},
     "output_type": "display_data"
    },
    {
     "name": "stdout",
     "output_type": "stream",
     "text": [
      "\n",
      "Processing Query 586/1034 (ID: spider_dev_q585_idx585): 'Return the country codes for countries that do not speak English.' (True DB: world_1)\n"
     ]
    },
    {
     "data": {
      "application/vnd.jupyter.widget-view+json": {
       "model_id": "d3d8600c1d0c4a92a33df37f387c4792",
       "version_major": 2,
       "version_minor": 0
      },
      "text/plain": [
       "  DBs for Q:spider_dev_q585_idx5:   0%|          | 0/166 [00:00<?, ?it/s]"
      ]
     },
     "metadata": {},
     "output_type": "display_data"
    },
    {
     "name": "stdout",
     "output_type": "stream",
     "text": [
      "\n",
      "Processing Query 587/1034 (ID: spider_dev_q586_idx586): 'Find the number of distinct name of losers.' (True DB: wta_1)\n"
     ]
    },
    {
     "data": {
      "application/vnd.jupyter.widget-view+json": {
       "model_id": "e73f5da119534801ab91cd8fd77c033c",
       "version_major": 2,
       "version_minor": 0
      },
      "text/plain": [
       "  DBs for Q:spider_dev_q586_idx5:   0%|          | 0/166 [00:00<?, ?it/s]"
      ]
     },
     "metadata": {},
     "output_type": "display_data"
    },
    {
     "name": "stdout",
     "output_type": "stream",
     "text": [
      "\n",
      "Processing Query 588/1034 (ID: spider_dev_q587_idx587): 'Find the number of cities in each district whose population is greater than the average population of cities?' (True DB: world_1)\n"
     ]
    },
    {
     "data": {
      "application/vnd.jupyter.widget-view+json": {
       "model_id": "dc0f0e6e6ae74bfa9bfc96fe775d9734",
       "version_major": 2,
       "version_minor": 0
      },
      "text/plain": [
       "  DBs for Q:spider_dev_q587_idx5:   0%|          | 0/166 [00:00<?, ?it/s]"
      ]
     },
     "metadata": {},
     "output_type": "display_data"
    },
    {
     "name": "stdout",
     "output_type": "stream",
     "text": [
      "\n",
      "Processing Query 589/1034 (ID: spider_dev_q588_idx588): 'How many friends does the high school student Kyle have?' (True DB: network_1)\n"
     ]
    },
    {
     "data": {
      "application/vnd.jupyter.widget-view+json": {
       "model_id": "2d5d33eddcbc4d8eaef1c0728696b8da",
       "version_major": 2,
       "version_minor": 0
      },
      "text/plain": [
       "  DBs for Q:spider_dev_q588_idx5:   0%|          | 0/166 [00:00<?, ?it/s]"
      ]
     },
     "metadata": {},
     "output_type": "display_data"
    },
    {
     "name": "stdout",
     "output_type": "stream",
     "text": [
      "\n",
      "Processing Query 590/1034 (ID: spider_dev_q589_idx589): 'What are the manager name and district of the shop that sells the largest number of products?' (True DB: employee_hire_evaluation)\n"
     ]
    },
    {
     "data": {
      "application/vnd.jupyter.widget-view+json": {
       "model_id": "0eda21bc00834faeadb0063d039aa684",
       "version_major": 2,
       "version_minor": 0
      },
      "text/plain": [
       "  DBs for Q:spider_dev_q589_idx5:   0%|          | 0/166 [00:00<?, ?it/s]"
      ]
     },
     "metadata": {},
     "output_type": "display_data"
    },
    {
     "name": "stdout",
     "output_type": "stream",
     "text": [
      "\n",
      "Processing Query 591/1034 (ID: spider_dev_q590_idx590): 'List all airline names and their abbreviations in \"USA\".' (True DB: flight_2)\n"
     ]
    },
    {
     "data": {
      "application/vnd.jupyter.widget-view+json": {
       "model_id": "ea290cb1b0414b48a4bac80f8395d35b",
       "version_major": 2,
       "version_minor": 0
      },
      "text/plain": [
       "  DBs for Q:spider_dev_q590_idx5:   0%|          | 0/166 [00:00<?, ?it/s]"
      ]
     },
     "metadata": {},
     "output_type": "display_data"
    },
    {
     "name": "stdout",
     "output_type": "stream",
     "text": [
      "\n",
      "Processing Query 592/1034 (ID: spider_dev_q591_idx591): 'Sort all the shops by number products in descending order, and return the name, location and district of each shop.' (True DB: employee_hire_evaluation)\n"
     ]
    },
    {
     "data": {
      "application/vnd.jupyter.widget-view+json": {
       "model_id": "38a535cb811b4aa88d7c63c350cc0b13",
       "version_major": 2,
       "version_minor": 0
      },
      "text/plain": [
       "  DBs for Q:spider_dev_q591_idx5:   0%|          | 0/166 [00:00<?, ?it/s]"
      ]
     },
     "metadata": {},
     "output_type": "display_data"
    },
    {
     "name": "stdout",
     "output_type": "stream",
     "text": [
      "\n",
      "Processing Query 593/1034 (ID: spider_dev_q592_idx592): 'How many templates do we have?' (True DB: cre_Doc_Template_Mgt)\n"
     ]
    },
    {
     "data": {
      "application/vnd.jupyter.widget-view+json": {
       "model_id": "bb7ba0a1fb6045cea1d450d85db78876",
       "version_major": 2,
       "version_minor": 0
      },
      "text/plain": [
       "  DBs for Q:spider_dev_q592_idx5:   0%|          | 0/166 [00:00<?, ?it/s]"
      ]
     },
     "metadata": {},
     "output_type": "display_data"
    },
    {
     "name": "stdout",
     "output_type": "stream",
     "text": [
      "\n",
      "Processing Query 594/1034 (ID: spider_dev_q593_idx593): 'List the name and date the battle that has lost the ship named 'Lettice' and the ship named 'HMS Atalanta'' (True DB: battle_death)\n"
     ]
    },
    {
     "data": {
      "application/vnd.jupyter.widget-view+json": {
       "model_id": "97dc02705c684cc4b4b7d65d2728541f",
       "version_major": 2,
       "version_minor": 0
      },
      "text/plain": [
       "  DBs for Q:spider_dev_q593_idx5:   0%|          | 0/166 [00:00<?, ?it/s]"
      ]
     },
     "metadata": {},
     "output_type": "display_data"
    },
    {
     "name": "stdout",
     "output_type": "stream",
     "text": [
      "\n",
      "Processing Query 595/1034 (ID: spider_dev_q594_idx594): 'What are the different models wthat are lighter than 3500 but were not built by the Ford Motor Company?' (True DB: car_1)\n"
     ]
    },
    {
     "data": {
      "application/vnd.jupyter.widget-view+json": {
       "model_id": "a676531da0d344dea936a5d2cb08340d",
       "version_major": 2,
       "version_minor": 0
      },
      "text/plain": [
       "  DBs for Q:spider_dev_q594_idx5:   0%|          | 0/166 [00:00<?, ?it/s]"
      ]
     },
     "metadata": {},
     "output_type": "display_data"
    },
    {
     "name": "stdout",
     "output_type": "stream",
     "text": [
      "\n",
      "Processing Query 596/1034 (ID: spider_dev_q595_idx595): 'How many people are there of each nationality?' (True DB: poker_player)\n"
     ]
    },
    {
     "data": {
      "application/vnd.jupyter.widget-view+json": {
       "model_id": "20f0f9c41a664801869c811cfd755796",
       "version_major": 2,
       "version_minor": 0
      },
      "text/plain": [
       "  DBs for Q:spider_dev_q595_idx5:   0%|          | 0/166 [00:00<?, ?it/s]"
      ]
     },
     "metadata": {},
     "output_type": "display_data"
    },
    {
     "name": "stdout",
     "output_type": "stream",
     "text": [
      "\n",
      "Processing Query 597/1034 (ID: spider_dev_q596_idx596): 'What is the average age of the dogs who have gone through any treatments?' (True DB: dog_kennels)\n"
     ]
    },
    {
     "data": {
      "application/vnd.jupyter.widget-view+json": {
       "model_id": "4e3b35085fb54666a56aa4baf7354289",
       "version_major": 2,
       "version_minor": 0
      },
      "text/plain": [
       "  DBs for Q:spider_dev_q596_idx5:   0%|          | 0/166 [00:00<?, ?it/s]"
      ]
     },
     "metadata": {},
     "output_type": "display_data"
    },
    {
     "name": "stdout",
     "output_type": "stream",
     "text": [
      "\n",
      "Processing Query 598/1034 (ID: spider_dev_q597_idx597): 'What is the zip code for Port Chelsea?' (True DB: student_transcripts_tracking)\n"
     ]
    },
    {
     "data": {
      "application/vnd.jupyter.widget-view+json": {
       "model_id": "3e32e6c6ab46477d80be851241cf5daa",
       "version_major": 2,
       "version_minor": 0
      },
      "text/plain": [
       "  DBs for Q:spider_dev_q597_idx5:   0%|          | 0/166 [00:00<?, ?it/s]"
      ]
     },
     "metadata": {},
     "output_type": "display_data"
    },
    {
     "name": "stdout",
     "output_type": "stream",
     "text": [
      "\n",
      "Processing Query 599/1034 (ID: spider_dev_q598_idx598): 'Which region is the city Kabul located in?' (True DB: world_1)\n"
     ]
    },
    {
     "data": {
      "application/vnd.jupyter.widget-view+json": {
       "model_id": "229e3554f2104139897ce6fffafe9d25",
       "version_major": 2,
       "version_minor": 0
      },
      "text/plain": [
       "  DBs for Q:spider_dev_q598_idx5:   0%|          | 0/166 [00:00<?, ?it/s]"
      ]
     },
     "metadata": {},
     "output_type": "display_data"
    },
    {
     "name": "stdout",
     "output_type": "stream",
     "text": [
      "\n",
      "Processing Query 600/1034 (ID: spider_dev_q599_idx599): 'What is the series name and country of all TV channels that are playing cartoons directed by Ben Jones and cartoons directed by Michael Chang?' (True DB: tvshow)\n"
     ]
    },
    {
     "data": {
      "application/vnd.jupyter.widget-view+json": {
       "model_id": "57a8db9b8d854eed8d3395b1291a2525",
       "version_major": 2,
       "version_minor": 0
      },
      "text/plain": [
       "  DBs for Q:spider_dev_q599_idx5:   0%|          | 0/166 [00:00<?, ?it/s]"
      ]
     },
     "metadata": {},
     "output_type": "display_data"
    },
    {
     "name": "stdout",
     "output_type": "stream",
     "text": [
      "\n",
      "Processing Query 601/1034 (ID: spider_dev_q600_idx600): 'How many different degrees are offered?' (True DB: student_transcripts_tracking)\n"
     ]
    },
    {
     "data": {
      "application/vnd.jupyter.widget-view+json": {
       "model_id": "c0cb3072823c4cf08219159c759b345c",
       "version_major": 2,
       "version_minor": 0
      },
      "text/plain": [
       "  DBs for Q:spider_dev_q600_idx6:   0%|          | 0/166 [00:00<?, ?it/s]"
      ]
     },
     "metadata": {},
     "output_type": "display_data"
    },
    {
     "name": "stdout",
     "output_type": "stream",
     "text": [
      "\n",
      "Processing Query 602/1034 (ID: spider_dev_q601_idx601): 'How many contestants did not get voted?' (True DB: voter_1)\n"
     ]
    },
    {
     "data": {
      "application/vnd.jupyter.widget-view+json": {
       "model_id": "09fbe8e329054279b6b152cb4de72e01",
       "version_major": 2,
       "version_minor": 0
      },
      "text/plain": [
       "  DBs for Q:spider_dev_q601_idx6:   0%|          | 0/166 [00:00<?, ?it/s]"
      ]
     },
     "metadata": {},
     "output_type": "display_data"
    },
    {
     "name": "stdout",
     "output_type": "stream",
     "text": [
      "\n",
      "Processing Query 603/1034 (ID: spider_dev_q602_idx602): 'Show different hometown of teachers and the number of teachers from each hometown.' (True DB: course_teach)\n"
     ]
    },
    {
     "data": {
      "application/vnd.jupyter.widget-view+json": {
       "model_id": "d3cc20a139ac4858958dd65ad0a09e23",
       "version_major": 2,
       "version_minor": 0
      },
      "text/plain": [
       "  DBs for Q:spider_dev_q602_idx6:   0%|          | 0/166 [00:00<?, ?it/s]"
      ]
     },
     "metadata": {},
     "output_type": "display_data"
    },
    {
     "name": "stdout",
     "output_type": "stream",
     "text": [
      "\n",
      "Processing Query 604/1034 (ID: spider_dev_q603_idx603): 'List the names of orchestras that have no performance.' (True DB: orchestra)\n"
     ]
    },
    {
     "data": {
      "application/vnd.jupyter.widget-view+json": {
       "model_id": "d98d68fe75844742a6647ddc624e3c4c",
       "version_major": 2,
       "version_minor": 0
      },
      "text/plain": [
       "  DBs for Q:spider_dev_q603_idx6:   0%|          | 0/166 [00:00<?, ?it/s]"
      ]
     },
     "metadata": {},
     "output_type": "display_data"
    },
    {
     "name": "stdout",
     "output_type": "stream",
     "text": [
      "\n",
      "Processing Query 605/1034 (ID: spider_dev_q604_idx604): 'What are the names of nations where both English and French are official languages?' (True DB: world_1)\n"
     ]
    },
    {
     "data": {
      "application/vnd.jupyter.widget-view+json": {
       "model_id": "351b5a0b3a2a40dfa630be8f6804f6da",
       "version_major": 2,
       "version_minor": 0
      },
      "text/plain": [
       "  DBs for Q:spider_dev_q604_idx6:   0%|          | 0/166 [00:00<?, ?it/s]"
      ]
     },
     "metadata": {},
     "output_type": "display_data"
    },
    {
     "name": "stdout",
     "output_type": "stream",
     "text": [
      "\n",
      "Processing Query 606/1034 (ID: spider_dev_q605_idx605): 'How many 'United Airlines' flights go to Airport 'ASY'?' (True DB: flight_2)\n"
     ]
    },
    {
     "data": {
      "application/vnd.jupyter.widget-view+json": {
       "model_id": "e96b45d45d1244bb9d49d5aa5521c5b9",
       "version_major": 2,
       "version_minor": 0
      },
      "text/plain": [
       "  DBs for Q:spider_dev_q605_idx6:   0%|          | 0/166 [00:00<?, ?it/s]"
      ]
     },
     "metadata": {},
     "output_type": "display_data"
    },
    {
     "name": "stdout",
     "output_type": "stream",
     "text": [
      "\n",
      "Processing Query 607/1034 (ID: spider_dev_q606_idx606): 'How many flights depart from City Aberdeen?' (True DB: flight_2)\n"
     ]
    },
    {
     "data": {
      "application/vnd.jupyter.widget-view+json": {
       "model_id": "6460858fa98f45df9363c4a81885640d",
       "version_major": 2,
       "version_minor": 0
      },
      "text/plain": [
       "  DBs for Q:spider_dev_q606_idx6:   0%|          | 0/166 [00:00<?, ?it/s]"
      ]
     },
     "metadata": {},
     "output_type": "display_data"
    },
    {
     "name": "stdout",
     "output_type": "stream",
     "text": [
      "\n",
      "Processing Query 608/1034 (ID: spider_dev_q607_idx607): 'How many different types of pet are there?' (True DB: pets_1)\n"
     ]
    },
    {
     "data": {
      "application/vnd.jupyter.widget-view+json": {
       "model_id": "eb8008f8fffd44398fd7a751d7987a7d",
       "version_major": 2,
       "version_minor": 0
      },
      "text/plain": [
       "  DBs for Q:spider_dev_q607_idx6:   0%|          | 0/166 [00:00<?, ?it/s]"
      ]
     },
     "metadata": {},
     "output_type": "display_data"
    },
    {
     "name": "stdout",
     "output_type": "stream",
     "text": [
      "\n",
      "Processing Query 609/1034 (ID: spider_dev_q608_idx608): 'find the number of players for each country.' (True DB: wta_1)\n"
     ]
    },
    {
     "data": {
      "application/vnd.jupyter.widget-view+json": {
       "model_id": "6f8be53b0e1c408d966bf55e94349b98",
       "version_major": 2,
       "version_minor": 0
      },
      "text/plain": [
       "  DBs for Q:spider_dev_q608_idx6:   0%|          | 0/166 [00:00<?, ?it/s]"
      ]
     },
     "metadata": {},
     "output_type": "display_data"
    },
    {
     "name": "stdout",
     "output_type": "stream",
     "text": [
      "\n",
      "Processing Query 610/1034 (ID: spider_dev_q609_idx609): 'Find the codes of countries that have more than 50 players.' (True DB: wta_1)\n"
     ]
    },
    {
     "data": {
      "application/vnd.jupyter.widget-view+json": {
       "model_id": "7c5256cf486d40f29559247032f24466",
       "version_major": 2,
       "version_minor": 0
      },
      "text/plain": [
       "  DBs for Q:spider_dev_q609_idx6:   0%|          | 0/166 [00:00<?, ?it/s]"
      ]
     },
     "metadata": {},
     "output_type": "display_data"
    },
    {
     "name": "stdout",
     "output_type": "stream",
     "text": [
      "\n",
      "Processing Query 611/1034 (ID: spider_dev_q610_idx610): 'What are the names of all high schoolers in grade 10?' (True DB: network_1)\n"
     ]
    },
    {
     "data": {
      "application/vnd.jupyter.widget-view+json": {
       "model_id": "4045cac5ff264f89862bc6afeae636ee",
       "version_major": 2,
       "version_minor": 0
      },
      "text/plain": [
       "  DBs for Q:spider_dev_q610_idx6:   0%|          | 0/166 [00:00<?, ?it/s]"
      ]
     },
     "metadata": {},
     "output_type": "display_data"
    },
    {
     "name": "stdout",
     "output_type": "stream",
     "text": [
      "\n",
      "Processing Query 612/1034 (ID: spider_dev_q611_idx611): 'What is the lowest grade of students who do not have any friends?' (True DB: network_1)\n"
     ]
    },
    {
     "data": {
      "application/vnd.jupyter.widget-view+json": {
       "model_id": "8f53d40ca6dd43cda61bdfaa6ef5e425",
       "version_major": 2,
       "version_minor": 0
      },
      "text/plain": [
       "  DBs for Q:spider_dev_q611_idx6:   0%|          | 0/166 [00:00<?, ?it/s]"
      ]
     },
     "metadata": {},
     "output_type": "display_data"
    },
    {
     "name": "stdout",
     "output_type": "stream",
     "text": [
      "\n",
      "Processing Query 613/1034 (ID: spider_dev_q612_idx612): 'Return the names and surface areas of the 5 largest countries.' (True DB: world_1)\n"
     ]
    },
    {
     "data": {
      "application/vnd.jupyter.widget-view+json": {
       "model_id": "1b0d433c7daa43399c761d60b50e010b",
       "version_major": 2,
       "version_minor": 0
      },
      "text/plain": [
       "  DBs for Q:spider_dev_q612_idx6:   0%|          | 0/166 [00:00<?, ?it/s]"
      ]
     },
     "metadata": {},
     "output_type": "display_data"
    },
    {
     "name": "stdout",
     "output_type": "stream",
     "text": [
      "\n",
      "Processing Query 614/1034 (ID: spider_dev_q613_idx613): 'How many cities in each district have a population that is above the average population across all cities?' (True DB: world_1)\n"
     ]
    },
    {
     "data": {
      "application/vnd.jupyter.widget-view+json": {
       "model_id": "2c99745cc7764a9680263b68c96ec9d8",
       "version_major": 2,
       "version_minor": 0
      },
      "text/plain": [
       "  DBs for Q:spider_dev_q613_idx6:   0%|          | 0/166 [00:00<?, ?it/s]"
      ]
     },
     "metadata": {},
     "output_type": "display_data"
    },
    {
     "name": "stdout",
     "output_type": "stream",
     "text": [
      "\n",
      "Processing Query 615/1034 (ID: spider_dev_q614_idx614): 'Show distinct names of singers that have songs with sales more than 300000.' (True DB: singer)\n"
     ]
    },
    {
     "data": {
      "application/vnd.jupyter.widget-view+json": {
       "model_id": "6c4440f2f0404effb85ff9adcd905124",
       "version_major": 2,
       "version_minor": 0
      },
      "text/plain": [
       "  DBs for Q:spider_dev_q614_idx6:   0%|          | 0/166 [00:00<?, ?it/s]"
      ]
     },
     "metadata": {},
     "output_type": "display_data"
    },
    {
     "name": "stdout",
     "output_type": "stream",
     "text": [
      "\n",
      "Processing Query 616/1034 (ID: spider_dev_q615_idx615): 'What are the ids of all tv channels that have more than 2 TV channels?' (True DB: tvshow)\n"
     ]
    },
    {
     "data": {
      "application/vnd.jupyter.widget-view+json": {
       "model_id": "0bfb34504e954a62abfcf4e6277a633e",
       "version_major": 2,
       "version_minor": 0
      },
      "text/plain": [
       "  DBs for Q:spider_dev_q615_idx6:   0%|          | 0/166 [00:00<?, ?it/s]"
      ]
     },
     "metadata": {},
     "output_type": "display_data"
    },
    {
     "name": "stdout",
     "output_type": "stream",
     "text": [
      "\n",
      "Processing Query 617/1034 (ID: spider_dev_q616_idx616): 'What are all the course names of the courses which ever have students enrolled in?' (True DB: student_transcripts_tracking)\n"
     ]
    },
    {
     "data": {
      "application/vnd.jupyter.widget-view+json": {
       "model_id": "b2764ba6b6dc4bc7b0ea1da83461829b",
       "version_major": 2,
       "version_minor": 0
      },
      "text/plain": [
       "  DBs for Q:spider_dev_q616_idx6:   0%|          | 0/166 [00:00<?, ?it/s]"
      ]
     },
     "metadata": {},
     "output_type": "display_data"
    },
    {
     "name": "stdout",
     "output_type": "stream",
     "text": [
      "\n",
      "Processing Query 618/1034 (ID: spider_dev_q617_idx617): 'What are the names of students who have 2 or more likes?' (True DB: network_1)\n"
     ]
    },
    {
     "data": {
      "application/vnd.jupyter.widget-view+json": {
       "model_id": "448a099460f745cbacb54b610ab825b0",
       "version_major": 2,
       "version_minor": 0
      },
      "text/plain": [
       "  DBs for Q:spider_dev_q617_idx6:   0%|          | 0/166 [00:00<?, ?it/s]"
      ]
     },
     "metadata": {},
     "output_type": "display_data"
    },
    {
     "name": "stdout",
     "output_type": "stream",
     "text": [
      "\n",
      "Processing Query 619/1034 (ID: spider_dev_q618_idx618): 'For each continent, list its id, name, and how many countries it has?' (True DB: car_1)\n"
     ]
    },
    {
     "data": {
      "application/vnd.jupyter.widget-view+json": {
       "model_id": "dd77659ffc2f46f8a05d1901fd17fb98",
       "version_major": 2,
       "version_minor": 0
      },
      "text/plain": [
       "  DBs for Q:spider_dev_q618_idx6:   0%|          | 0/166 [00:00<?, ?it/s]"
      ]
     },
     "metadata": {},
     "output_type": "display_data"
    },
    {
     "name": "stdout",
     "output_type": "stream",
     "text": [
      "\n",
      "Processing Query 620/1034 (ID: spider_dev_q619_idx619): 'What is the total population and maximum GNP in Asia?' (True DB: world_1)\n"
     ]
    },
    {
     "data": {
      "application/vnd.jupyter.widget-view+json": {
       "model_id": "f8cbfecdfcaf43b094ccb1c31ccfc1d2",
       "version_major": 2,
       "version_minor": 0
      },
      "text/plain": [
       "  DBs for Q:spider_dev_q619_idx6:   0%|          | 0/166 [00:00<?, ?it/s]"
      ]
     },
     "metadata": {},
     "output_type": "display_data"
    },
    {
     "name": "stdout",
     "output_type": "stream",
     "text": [
      "\n",
      "Processing Query 621/1034 (ID: spider_dev_q620_idx620): 'How many professionals have performed any treatment to dogs?' (True DB: dog_kennels)\n"
     ]
    },
    {
     "data": {
      "application/vnd.jupyter.widget-view+json": {
       "model_id": "0a368e24736f49a6b4e86148cd469ce3",
       "version_major": 2,
       "version_minor": 0
      },
      "text/plain": [
       "  DBs for Q:spider_dev_q620_idx6:   0%|          | 0/166 [00:00<?, ?it/s]"
      ]
     },
     "metadata": {},
     "output_type": "display_data"
    },
    {
     "name": "stdout",
     "output_type": "stream",
     "text": [
      "\n",
      "Processing Query 622/1034 (ID: spider_dev_q621_idx621): 'Find the total number of matches.' (True DB: wta_1)\n"
     ]
    },
    {
     "data": {
      "application/vnd.jupyter.widget-view+json": {
       "model_id": "e3a9d3575967497bbf1d23a56d91bc71",
       "version_major": 2,
       "version_minor": 0
      },
      "text/plain": [
       "  DBs for Q:spider_dev_q621_idx6:   0%|          | 0/166 [00:00<?, ?it/s]"
      ]
     },
     "metadata": {},
     "output_type": "display_data"
    },
    {
     "name": "stdout",
     "output_type": "stream",
     "text": [
      "\n",
      "Processing Query 623/1034 (ID: spider_dev_q622_idx622): 'Find the name and rank points of the winner who won the most times.' (True DB: wta_1)\n"
     ]
    },
    {
     "data": {
      "application/vnd.jupyter.widget-view+json": {
       "model_id": "3064b0b8556748d58a3cd0b72ef88d74",
       "version_major": 2,
       "version_minor": 0
      },
      "text/plain": [
       "  DBs for Q:spider_dev_q622_idx6:   0%|          | 0/166 [00:00<?, ?it/s]"
      ]
     },
     "metadata": {},
     "output_type": "display_data"
    },
    {
     "name": "stdout",
     "output_type": "stream",
     "text": [
      "\n",
      "Processing Query 624/1034 (ID: spider_dev_q623_idx623): 'What are the names of the dogs for which the owner has not spend more than 1000 for treatment ?' (True DB: dog_kennels)\n"
     ]
    },
    {
     "data": {
      "application/vnd.jupyter.widget-view+json": {
       "model_id": "4c65f274c12b4ae594803c9868271376",
       "version_major": 2,
       "version_minor": 0
      },
      "text/plain": [
       "  DBs for Q:spider_dev_q623_idx6:   0%|          | 0/166 [00:00<?, ?it/s]"
      ]
     },
     "metadata": {},
     "output_type": "display_data"
    },
    {
     "name": "stdout",
     "output_type": "stream",
     "text": [
      "\n",
      "Processing Query 625/1034 (ID: spider_dev_q624_idx624): 'What is the count of the car models produced in the United States?' (True DB: car_1)\n"
     ]
    },
    {
     "data": {
      "application/vnd.jupyter.widget-view+json": {
       "model_id": "1e3d699de6e6436db5828088dc1f18f2",
       "version_major": 2,
       "version_minor": 0
      },
      "text/plain": [
       "  DBs for Q:spider_dev_q624_idx6:   0%|          | 0/166 [00:00<?, ?it/s]"
      ]
     },
     "metadata": {},
     "output_type": "display_data"
    },
    {
     "name": "stdout",
     "output_type": "stream",
     "text": [
      "\n",
      "Processing Query 626/1034 (ID: spider_dev_q625_idx625): 'How many TV Channels use the English language?' (True DB: tvshow)\n"
     ]
    },
    {
     "data": {
      "application/vnd.jupyter.widget-view+json": {
       "model_id": "3c938a13e5134da18eef9102cb17739b",
       "version_major": 2,
       "version_minor": 0
      },
      "text/plain": [
       "  DBs for Q:spider_dev_q625_idx6:   0%|          | 0/166 [00:00<?, ?it/s]"
      ]
     },
     "metadata": {},
     "output_type": "display_data"
    },
    {
     "name": "stdout",
     "output_type": "stream",
     "text": [
      "\n",
      "Processing Query 627/1034 (ID: spider_dev_q626_idx626): 'What is the official language used in the country the name of whose head of state is Beatrix.' (True DB: world_1)\n"
     ]
    },
    {
     "data": {
      "application/vnd.jupyter.widget-view+json": {
       "model_id": "789da4720f7949f9bb0f9bde813b808d",
       "version_major": 2,
       "version_minor": 0
      },
      "text/plain": [
       "  DBs for Q:spider_dev_q626_idx6:   0%|          | 0/166 [00:00<?, ?it/s]"
      ]
     },
     "metadata": {},
     "output_type": "display_data"
    },
    {
     "name": "stdout",
     "output_type": "stream",
     "text": [
      "\n",
      "Processing Query 628/1034 (ID: spider_dev_q627_idx627): 'Return the template type code of the template that is used by a document named Data base.' (True DB: cre_Doc_Template_Mgt)\n"
     ]
    },
    {
     "data": {
      "application/vnd.jupyter.widget-view+json": {
       "model_id": "437f5b9f388d4136b6e11a6b8a377a21",
       "version_major": 2,
       "version_minor": 0
      },
      "text/plain": [
       "  DBs for Q:spider_dev_q627_idx6:   0%|          | 0/166 [00:00<?, ?it/s]"
      ]
     },
     "metadata": {},
     "output_type": "display_data"
    },
    {
     "name": "stdout",
     "output_type": "stream",
     "text": [
      "\n",
      "Processing Query 629/1034 (ID: spider_dev_q628_idx628): 'What are the package options of all tv channels that are not playing any cartoons directed by Ben Jones?' (True DB: tvshow)\n"
     ]
    },
    {
     "data": {
      "application/vnd.jupyter.widget-view+json": {
       "model_id": "40b2a21546d1432aa8cf353623f674b4",
       "version_major": 2,
       "version_minor": 0
      },
      "text/plain": [
       "  DBs for Q:spider_dev_q628_idx6:   0%|          | 0/166 [00:00<?, ?it/s]"
      ]
     },
     "metadata": {},
     "output_type": "display_data"
    },
    {
     "name": "stdout",
     "output_type": "stream",
     "text": [
      "\n",
      "Processing Query 630/1034 (ID: spider_dev_q629_idx629): 'How many people live in Asia, and what is the largest GNP among them?' (True DB: world_1)\n"
     ]
    },
    {
     "data": {
      "application/vnd.jupyter.widget-view+json": {
       "model_id": "daa3a930b27d41d0829e929822a5d111",
       "version_major": 2,
       "version_minor": 0
      },
      "text/plain": [
       "  DBs for Q:spider_dev_q629_idx6:   0%|          | 0/166 [00:00<?, ?it/s]"
      ]
     },
     "metadata": {},
     "output_type": "display_data"
    },
    {
     "name": "stdout",
     "output_type": "stream",
     "text": [
      "\n",
      "Processing Query 631/1034 (ID: spider_dev_q630_idx630): 'What are the number of votes from state 'NY' or 'CA'?' (True DB: voter_1)\n"
     ]
    },
    {
     "data": {
      "application/vnd.jupyter.widget-view+json": {
       "model_id": "03d86993ef234036abc0835f5d5aa9a1",
       "version_major": 2,
       "version_minor": 0
      },
      "text/plain": [
       "  DBs for Q:spider_dev_q630_idx6:   0%|          | 0/166 [00:00<?, ?it/s]"
      ]
     },
     "metadata": {},
     "output_type": "display_data"
    },
    {
     "name": "stdout",
     "output_type": "stream",
     "text": [
      "\n",
      "Processing Query 632/1034 (ID: spider_dev_q631_idx631): 'Who owns the youngest dog? Give me his or her last name.' (True DB: dog_kennels)\n"
     ]
    },
    {
     "data": {
      "application/vnd.jupyter.widget-view+json": {
       "model_id": "775105d24b6742ee8ab7ce6b6122ab9c",
       "version_major": 2,
       "version_minor": 0
      },
      "text/plain": [
       "  DBs for Q:spider_dev_q631_idx6:   0%|          | 0/166 [00:00<?, ?it/s]"
      ]
     },
     "metadata": {},
     "output_type": "display_data"
    },
    {
     "name": "stdout",
     "output_type": "stream",
     "text": [
      "\n",
      "Processing Query 633/1034 (ID: spider_dev_q632_idx632): 'Show all template type codes that are not used by any document.' (True DB: cre_Doc_Template_Mgt)\n"
     ]
    },
    {
     "data": {
      "application/vnd.jupyter.widget-view+json": {
       "model_id": "19c73e5a9f734d0793f77d92ece3ee97",
       "version_major": 2,
       "version_minor": 0
      },
      "text/plain": [
       "  DBs for Q:spider_dev_q632_idx6:   0%|          | 0/166 [00:00<?, ?it/s]"
      ]
     },
     "metadata": {},
     "output_type": "display_data"
    },
    {
     "name": "stdout",
     "output_type": "stream",
     "text": [
      "\n",
      "Processing Query 634/1034 (ID: spider_dev_q633_idx633): 'What is the average miles per gallon(mpg) of the cars with 4 cylinders?' (True DB: car_1)\n"
     ]
    },
    {
     "data": {
      "application/vnd.jupyter.widget-view+json": {
       "model_id": "b7b0dec4e0d243b98114379de5760763",
       "version_major": 2,
       "version_minor": 0
      },
      "text/plain": [
       "  DBs for Q:spider_dev_q633_idx6:   0%|          | 0/166 [00:00<?, ?it/s]"
      ]
     },
     "metadata": {},
     "output_type": "display_data"
    },
    {
     "name": "stdout",
     "output_type": "stream",
     "text": [
      "\n",
      "Processing Query 635/1034 (ID: spider_dev_q634_idx634): 'What are  the different countries with singers above age 20?' (True DB: concert_singer)\n"
     ]
    },
    {
     "data": {
      "application/vnd.jupyter.widget-view+json": {
       "model_id": "5736d476c1ca4967be3d2b9f446e4256",
       "version_major": 2,
       "version_minor": 0
      },
      "text/plain": [
       "  DBs for Q:spider_dev_q634_idx6:   0%|          | 0/166 [00:00<?, ?it/s]"
      ]
     },
     "metadata": {},
     "output_type": "display_data"
    },
    {
     "name": "stdout",
     "output_type": "stream",
     "text": [
      "\n",
      "Processing Query 636/1034 (ID: spider_dev_q635_idx635): 'How many different winners both participated in the WTA Championships and were left handed?' (True DB: wta_1)\n"
     ]
    },
    {
     "data": {
      "application/vnd.jupyter.widget-view+json": {
       "model_id": "efb70bfca1e34e4b9d909903f4eac5ff",
       "version_major": 2,
       "version_minor": 0
      },
      "text/plain": [
       "  DBs for Q:spider_dev_q635_idx6:   0%|          | 0/166 [00:00<?, ?it/s]"
      ]
     },
     "metadata": {},
     "output_type": "display_data"
    },
    {
     "name": "stdout",
     "output_type": "stream",
     "text": [
      "\n",
      "Processing Query 637/1034 (ID: spider_dev_q636_idx636): 'What is the title of all the cartools that are on the TV Channel with the series name \"Sky Radio\"?' (True DB: tvshow)\n"
     ]
    },
    {
     "data": {
      "application/vnd.jupyter.widget-view+json": {
       "model_id": "8070dd51fc3b43f48b5aae2028719e23",
       "version_major": 2,
       "version_minor": 0
      },
      "text/plain": [
       "  DBs for Q:spider_dev_q636_idx6:   0%|          | 0/166 [00:00<?, ?it/s]"
      ]
     },
     "metadata": {},
     "output_type": "display_data"
    },
    {
     "name": "stdout",
     "output_type": "stream",
     "text": [
      "\n",
      "Processing Query 638/1034 (ID: spider_dev_q637_idx637): 'Which shops run with no employees? Find the shop names' (True DB: employee_hire_evaluation)\n"
     ]
    },
    {
     "data": {
      "application/vnd.jupyter.widget-view+json": {
       "model_id": "6a8b3dba253645609d14a77bb529e89d",
       "version_major": 2,
       "version_minor": 0
      },
      "text/plain": [
       "  DBs for Q:spider_dev_q637_idx6:   0%|          | 0/166 [00:00<?, ?it/s]"
      ]
     },
     "metadata": {},
     "output_type": "display_data"
    },
    {
     "name": "stdout",
     "output_type": "stream",
     "text": [
      "\n",
      "Processing Query 639/1034 (ID: spider_dev_q638_idx638): 'What is the number of makers of care in France?' (True DB: car_1)\n"
     ]
    },
    {
     "data": {
      "application/vnd.jupyter.widget-view+json": {
       "model_id": "ac0c6449d9b94cbe94e79afa33208a6b",
       "version_major": 2,
       "version_minor": 0
      },
      "text/plain": [
       "  DBs for Q:spider_dev_q638_idx6:   0%|          | 0/166 [00:00<?, ?it/s]"
      ]
     },
     "metadata": {},
     "output_type": "display_data"
    },
    {
     "name": "stdout",
     "output_type": "stream",
     "text": [
      "\n",
      "Processing Query 640/1034 (ID: spider_dev_q639_idx639): 'What is the name of the breed with the most dogs?' (True DB: dog_kennels)\n"
     ]
    },
    {
     "data": {
      "application/vnd.jupyter.widget-view+json": {
       "model_id": "ef405eac84664d96b7e32f08fe4f3b5d",
       "version_major": 2,
       "version_minor": 0
      },
      "text/plain": [
       "  DBs for Q:spider_dev_q639_idx6:   0%|          | 0/166 [00:00<?, ?it/s]"
      ]
     },
     "metadata": {},
     "output_type": "display_data"
    },
    {
     "name": "stdout",
     "output_type": "stream",
     "text": [
      "\n",
      "Processing Query 641/1034 (ID: spider_dev_q640_idx640): 'What are the dog name, age and weight of the dogs that were abandoned? Note that 1 stands for yes, and 0 stands for no in the tables.' (True DB: dog_kennels)\n"
     ]
    },
    {
     "data": {
      "application/vnd.jupyter.widget-view+json": {
       "model_id": "13d1f3861c0449d8b112abfa34b75bdf",
       "version_major": 2,
       "version_minor": 0
      },
      "text/plain": [
       "  DBs for Q:spider_dev_q640_idx6:   0%|          | 0/166 [00:00<?, ?it/s]"
      ]
     },
     "metadata": {},
     "output_type": "display_data"
    },
    {
     "name": "stdout",
     "output_type": "stream",
     "text": [
      "\n",
      "Processing Query 642/1034 (ID: spider_dev_q641_idx641): 'What are the names and ids of all makers with more than 3 models?' (True DB: car_1)\n"
     ]
    },
    {
     "data": {
      "application/vnd.jupyter.widget-view+json": {
       "model_id": "d809d49582ac4336be59c764b75ac9b7",
       "version_major": 2,
       "version_minor": 0
      },
      "text/plain": [
       "  DBs for Q:spider_dev_q641_idx6:   0%|          | 0/166 [00:00<?, ?it/s]"
      ]
     },
     "metadata": {},
     "output_type": "display_data"
    },
    {
     "name": "stdout",
     "output_type": "stream",
     "text": [
      "\n",
      "Processing Query 643/1034 (ID: spider_dev_q642_idx642): 'How many countries have a republic as their form of government?' (True DB: world_1)\n"
     ]
    },
    {
     "data": {
      "application/vnd.jupyter.widget-view+json": {
       "model_id": "ccf09a0fab2348ecaecd21897d7de285",
       "version_major": 2,
       "version_minor": 0
      },
      "text/plain": [
       "  DBs for Q:spider_dev_q642_idx6:   0%|          | 0/166 [00:00<?, ?it/s]"
      ]
     },
     "metadata": {},
     "output_type": "display_data"
    },
    {
     "name": "stdout",
     "output_type": "stream",
     "text": [
      "\n",
      "Processing Query 644/1034 (ID: spider_dev_q643_idx643): 'How many flights depart from City 'Aberdeen' and have destination City 'Ashley'?' (True DB: flight_2)\n"
     ]
    },
    {
     "data": {
      "application/vnd.jupyter.widget-view+json": {
       "model_id": "0ccf3525e74f4f10a7607ef61d1118c2",
       "version_major": 2,
       "version_minor": 0
      },
      "text/plain": [
       "  DBs for Q:spider_dev_q643_idx6:   0%|          | 0/166 [00:00<?, ?it/s]"
      ]
     },
     "metadata": {},
     "output_type": "display_data"
    },
    {
     "name": "stdout",
     "output_type": "stream",
     "text": [
      "\n",
      "Processing Query 645/1034 (ID: spider_dev_q644_idx644): 'What are the names of students who have no friends?' (True DB: network_1)\n"
     ]
    },
    {
     "data": {
      "application/vnd.jupyter.widget-view+json": {
       "model_id": "ca7ae54acc194ea59729d552bc69670a",
       "version_major": 2,
       "version_minor": 0
      },
      "text/plain": [
       "  DBs for Q:spider_dev_q644_idx6:   0%|          | 0/166 [00:00<?, ?it/s]"
      ]
     },
     "metadata": {},
     "output_type": "display_data"
    },
    {
     "name": "stdout",
     "output_type": "stream",
     "text": [
      "\n",
      "Processing Query 646/1034 (ID: spider_dev_q645_idx645): 'What is last date created of votes from the state 'CA'?' (True DB: voter_1)\n"
     ]
    },
    {
     "data": {
      "application/vnd.jupyter.widget-view+json": {
       "model_id": "6db0554cffb34613b6b8eeba6ceddb1c",
       "version_major": 2,
       "version_minor": 0
      },
      "text/plain": [
       "  DBs for Q:spider_dev_q645_idx6:   0%|          | 0/166 [00:00<?, ?it/s]"
      ]
     },
     "metadata": {},
     "output_type": "display_data"
    },
    {
     "name": "stdout",
     "output_type": "stream",
     "text": [
      "\n",
      "Processing Query 647/1034 (ID: spider_dev_q646_idx646): 'Find the first name and country code of the player who did the most number of tours.' (True DB: wta_1)\n"
     ]
    },
    {
     "data": {
      "application/vnd.jupyter.widget-view+json": {
       "model_id": "d523d59422e04f8185b58158ac1559ae",
       "version_major": 2,
       "version_minor": 0
      },
      "text/plain": [
       "  DBs for Q:spider_dev_q646_idx6:   0%|          | 0/166 [00:00<?, ?it/s]"
      ]
     },
     "metadata": {},
     "output_type": "display_data"
    },
    {
     "name": "stdout",
     "output_type": "stream",
     "text": [
      "\n",
      "Processing Query 648/1034 (ID: spider_dev_q647_idx647): 'What are each owner's first name and their dogs's name?' (True DB: dog_kennels)\n"
     ]
    },
    {
     "data": {
      "application/vnd.jupyter.widget-view+json": {
       "model_id": "ca6b384b7d07422698826648383eefad",
       "version_major": 2,
       "version_minor": 0
      },
      "text/plain": [
       "  DBs for Q:spider_dev_q647_idx6:   0%|          | 0/166 [00:00<?, ?it/s]"
      ]
     },
     "metadata": {},
     "output_type": "display_data"
    },
    {
     "name": "stdout",
     "output_type": "stream",
     "text": [
      "\n",
      "Processing Query 649/1034 (ID: spider_dev_q648_idx648): 'What is the produdction code and channel of the most recent cartoon ?' (True DB: tvshow)\n"
     ]
    },
    {
     "data": {
      "application/vnd.jupyter.widget-view+json": {
       "model_id": "2b9c6caa5cd64148bc0a37765e47fe91",
       "version_major": 2,
       "version_minor": 0
      },
      "text/plain": [
       "  DBs for Q:spider_dev_q648_idx6:   0%|          | 0/166 [00:00<?, ?it/s]"
      ]
     },
     "metadata": {},
     "output_type": "display_data"
    },
    {
     "name": "stdout",
     "output_type": "stream",
     "text": [
      "\n",
      "Processing Query 650/1034 (ID: spider_dev_q649_idx649): 'Count the number of documents.' (True DB: cre_Doc_Template_Mgt)\n"
     ]
    },
    {
     "data": {
      "application/vnd.jupyter.widget-view+json": {
       "model_id": "9c01f74f69144a0093fbe8331f26cf8e",
       "version_major": 2,
       "version_minor": 0
      },
      "text/plain": [
       "  DBs for Q:spider_dev_q649_idx6:   0%|          | 0/166 [00:00<?, ?it/s]"
      ]
     },
     "metadata": {},
     "output_type": "display_data"
    },
    {
     "name": "stdout",
     "output_type": "stream",
     "text": [
      "\n",
      "Processing Query 651/1034 (ID: spider_dev_q650_idx650): 'Show the name and the release year of the song by the youngest singer.' (True DB: concert_singer)\n"
     ]
    },
    {
     "data": {
      "application/vnd.jupyter.widget-view+json": {
       "model_id": "d49a237dba1a43c68670848982a2d12e",
       "version_major": 2,
       "version_minor": 0
      },
      "text/plain": [
       "  DBs for Q:spider_dev_q650_idx6:   0%|          | 0/166 [00:00<?, ?it/s]"
      ]
     },
     "metadata": {},
     "output_type": "display_data"
    },
    {
     "name": "stdout",
     "output_type": "stream",
     "text": [
      "\n",
      "Processing Query 652/1034 (ID: spider_dev_q651_idx651): 'Find the id and weight of all pets whose age is older than 1.' (True DB: pets_1)\n"
     ]
    },
    {
     "data": {
      "application/vnd.jupyter.widget-view+json": {
       "model_id": "e70f1b762e264896bde53d70905817d7",
       "version_major": 2,
       "version_minor": 0
      },
      "text/plain": [
       "  DBs for Q:spider_dev_q651_idx6:   0%|          | 0/166 [00:00<?, ?it/s]"
      ]
     },
     "metadata": {},
     "output_type": "display_data"
    },
    {
     "name": "stdout",
     "output_type": "stream",
     "text": [
      "\n",
      "Processing Query 653/1034 (ID: spider_dev_q652_idx652): 'Show name of all students who have some friends and also are liked by someone else.' (True DB: network_1)\n"
     ]
    },
    {
     "data": {
      "application/vnd.jupyter.widget-view+json": {
       "model_id": "97c57b47e5b54246bc439ecdbc80650d",
       "version_major": 2,
       "version_minor": 0
      },
      "text/plain": [
       "  DBs for Q:spider_dev_q652_idx6:   0%|          | 0/166 [00:00<?, ?it/s]"
      ]
     },
     "metadata": {},
     "output_type": "display_data"
    },
    {
     "name": "stdout",
     "output_type": "stream",
     "text": [
      "\n",
      "Processing Query 654/1034 (ID: spider_dev_q653_idx653): 'What is the number of countries with more than 2 car makers ?' (True DB: car_1)\n"
     ]
    },
    {
     "data": {
      "application/vnd.jupyter.widget-view+json": {
       "model_id": "e86dd2233fce463fb2105712337f18d6",
       "version_major": 2,
       "version_minor": 0
      },
      "text/plain": [
       "  DBs for Q:spider_dev_q653_idx6:   0%|          | 0/166 [00:00<?, ?it/s]"
      ]
     },
     "metadata": {},
     "output_type": "display_data"
    },
    {
     "name": "stdout",
     "output_type": "stream",
     "text": [
      "\n",
      "Processing Query 655/1034 (ID: spider_dev_q654_idx654): 'Which employee received the biggest bonus? Give me the employee name.' (True DB: employee_hire_evaluation)\n"
     ]
    },
    {
     "data": {
      "application/vnd.jupyter.widget-view+json": {
       "model_id": "f2dc6cec3df34a848af7f9d5ff69dde5",
       "version_major": 2,
       "version_minor": 0
      },
      "text/plain": [
       "  DBs for Q:spider_dev_q654_idx6:   0%|          | 0/166 [00:00<?, ?it/s]"
      ]
     },
     "metadata": {},
     "output_type": "display_data"
    },
    {
     "name": "stdout",
     "output_type": "stream",
     "text": [
      "\n",
      "Processing Query 656/1034 (ID: spider_dev_q655_idx655): 'Find the series name and country of the tv channel that is playing some cartoons directed by Ben Jones and Michael Chang?' (True DB: tvshow)\n"
     ]
    },
    {
     "data": {
      "application/vnd.jupyter.widget-view+json": {
       "model_id": "8f5cfde513f24ff4bbc07ff483c95741",
       "version_major": 2,
       "version_minor": 0
      },
      "text/plain": [
       "  DBs for Q:spider_dev_q655_idx6:   0%|          | 0/166 [00:00<?, ?it/s]"
      ]
     },
     "metadata": {},
     "output_type": "display_data"
    },
    {
     "name": "stdout",
     "output_type": "stream",
     "text": [
      "\n",
      "Processing Query 657/1034 (ID: spider_dev_q656_idx656): 'Count the number of United Airlines flights that arrive in Aberdeen.' (True DB: flight_2)\n"
     ]
    },
    {
     "data": {
      "application/vnd.jupyter.widget-view+json": {
       "model_id": "0e6a9b1c2d394f379d3a65762243f0b2",
       "version_major": 2,
       "version_minor": 0
      },
      "text/plain": [
       "  DBs for Q:spider_dev_q656_idx6:   0%|          | 0/166 [00:00<?, ?it/s]"
      ]
     },
     "metadata": {},
     "output_type": "display_data"
    },
    {
     "name": "stdout",
     "output_type": "stream",
     "text": [
      "\n",
      "Processing Query 658/1034 (ID: spider_dev_q657_idx657): 'What are the song titles and singer names?' (True DB: singer)\n"
     ]
    },
    {
     "data": {
      "application/vnd.jupyter.widget-view+json": {
       "model_id": "a3d67049c6ec4526a8c057ce49d0b5e6",
       "version_major": 2,
       "version_minor": 0
      },
      "text/plain": [
       "  DBs for Q:spider_dev_q657_idx6:   0%|          | 0/166 [00:00<?, ?it/s]"
      ]
     },
     "metadata": {},
     "output_type": "display_data"
    },
    {
     "name": "stdout",
     "output_type": "stream",
     "text": [
      "\n",
      "Processing Query 659/1034 (ID: spider_dev_q658_idx658): 'Which airlines have departures from CVO but not from APG airports?' (True DB: flight_2)\n"
     ]
    },
    {
     "data": {
      "application/vnd.jupyter.widget-view+json": {
       "model_id": "f85f405b87e64fe69746bd46347636ac",
       "version_major": 2,
       "version_minor": 0
      },
      "text/plain": [
       "  DBs for Q:spider_dev_q658_idx6:   0%|          | 0/166 [00:00<?, ?it/s]"
      ]
     },
     "metadata": {},
     "output_type": "display_data"
    },
    {
     "name": "stdout",
     "output_type": "stream",
     "text": [
      "\n",
      "Processing Query 660/1034 (ID: spider_dev_q659_idx659): 'What are the country code and first name of the players who won in both tourney WTA Championships and Australian Open?' (True DB: wta_1)\n"
     ]
    },
    {
     "data": {
      "application/vnd.jupyter.widget-view+json": {
       "model_id": "868ffc371ee7477a9b6916698f906973",
       "version_major": 2,
       "version_minor": 0
      },
      "text/plain": [
       "  DBs for Q:spider_dev_q659_idx6:   0%|          | 0/166 [00:00<?, ?it/s]"
      ]
     },
     "metadata": {},
     "output_type": "display_data"
    },
    {
     "name": "stdout",
     "output_type": "stream",
     "text": [
      "\n",
      "Processing Query 661/1034 (ID: spider_dev_q660_idx660): 'What are the orchestras that do not have any performances?' (True DB: orchestra)\n"
     ]
    },
    {
     "data": {
      "application/vnd.jupyter.widget-view+json": {
       "model_id": "7d6be6dce42c4a96ad47c9c6f256d5ea",
       "version_major": 2,
       "version_minor": 0
      },
      "text/plain": [
       "  DBs for Q:spider_dev_q660_idx6:   0%|          | 0/166 [00:00<?, ?it/s]"
      ]
     },
     "metadata": {},
     "output_type": "display_data"
    },
    {
     "name": "stdout",
     "output_type": "stream",
     "text": [
      "\n",
      "Processing Query 662/1034 (ID: spider_dev_q661_idx661): 'What are the codes of template types that have fewer than 3 templates?' (True DB: cre_Doc_Template_Mgt)\n"
     ]
    },
    {
     "data": {
      "application/vnd.jupyter.widget-view+json": {
       "model_id": "7f0b95ec7cf64227b91a0d610e08a740",
       "version_major": 2,
       "version_minor": 0
      },
      "text/plain": [
       "  DBs for Q:spider_dev_q661_idx6:   0%|          | 0/166 [00:00<?, ?it/s]"
      ]
     },
     "metadata": {},
     "output_type": "display_data"
    },
    {
     "name": "stdout",
     "output_type": "stream",
     "text": [
      "\n",
      "Processing Query 663/1034 (ID: spider_dev_q662_idx662): 'What are the names of the singers that have more than one songs?' (True DB: singer)\n"
     ]
    },
    {
     "data": {
      "application/vnd.jupyter.widget-view+json": {
       "model_id": "31cdf036ea83471b8194ba8219a18662",
       "version_major": 2,
       "version_minor": 0
      },
      "text/plain": [
       "  DBs for Q:spider_dev_q662_idx6:   0%|          | 0/166 [00:00<?, ?it/s]"
      ]
     },
     "metadata": {},
     "output_type": "display_data"
    },
    {
     "name": "stdout",
     "output_type": "stream",
     "text": [
      "\n",
      "Processing Query 664/1034 (ID: spider_dev_q663_idx663): 'Please show the record formats of orchestras in ascending order of count.' (True DB: orchestra)\n"
     ]
    },
    {
     "data": {
      "application/vnd.jupyter.widget-view+json": {
       "model_id": "f1cd22d17e4d40478e02699af8148a8d",
       "version_major": 2,
       "version_minor": 0
      },
      "text/plain": [
       "  DBs for Q:spider_dev_q663_idx6:   0%|          | 0/166 [00:00<?, ?it/s]"
      ]
     },
     "metadata": {},
     "output_type": "display_data"
    },
    {
     "name": "stdout",
     "output_type": "stream",
     "text": [
      "\n",
      "Processing Query 665/1034 (ID: spider_dev_q664_idx664): 'What are the names of high schoolers who have likes, and how many likes does each have?' (True DB: network_1)\n"
     ]
    },
    {
     "data": {
      "application/vnd.jupyter.widget-view+json": {
       "model_id": "3eeddb3e03e34e73a00b65235778e949",
       "version_major": 2,
       "version_minor": 0
      },
      "text/plain": [
       "  DBs for Q:spider_dev_q664_idx6:   0%|          | 0/166 [00:00<?, ?it/s]"
      ]
     },
     "metadata": {},
     "output_type": "display_data"
    },
    {
     "name": "stdout",
     "output_type": "stream",
     "text": [
      "\n",
      "Processing Query 666/1034 (ID: spider_dev_q665_idx665): 'What is the average horsepower of the cars before 1980?' (True DB: car_1)\n"
     ]
    },
    {
     "data": {
      "application/vnd.jupyter.widget-view+json": {
       "model_id": "e8660df220cd45a7be8f2025bf2ff6e2",
       "version_major": 2,
       "version_minor": 0
      },
      "text/plain": [
       "  DBs for Q:spider_dev_q665_idx6:   0%|          | 0/166 [00:00<?, ?it/s]"
      ]
     },
     "metadata": {},
     "output_type": "display_data"
    },
    {
     "name": "stdout",
     "output_type": "stream",
     "text": [
      "\n",
      "Processing Query 667/1034 (ID: spider_dev_q666_idx666): 'What is the number of distinct languages used around the world?' (True DB: world_1)\n"
     ]
    },
    {
     "data": {
      "application/vnd.jupyter.widget-view+json": {
       "model_id": "26f00658a5944bbdb0628abd5a746207",
       "version_major": 2,
       "version_minor": 0
      },
      "text/plain": [
       "  DBs for Q:spider_dev_q666_idx6:   0%|          | 0/166 [00:00<?, ?it/s]"
      ]
     },
     "metadata": {},
     "output_type": "display_data"
    },
    {
     "name": "stdout",
     "output_type": "stream",
     "text": [
      "\n",
      "Processing Query 668/1034 (ID: spider_dev_q667_idx667): 'What airline serves the most flights?' (True DB: flight_2)\n"
     ]
    },
    {
     "data": {
      "application/vnd.jupyter.widget-view+json": {
       "model_id": "19e906c85944462493383fce97f6aa7e",
       "version_major": 2,
       "version_minor": 0
      },
      "text/plain": [
       "  DBs for Q:spider_dev_q667_idx6:   0%|          | 0/166 [00:00<?, ?it/s]"
      ]
     },
     "metadata": {},
     "output_type": "display_data"
    },
    {
     "name": "stdout",
     "output_type": "stream",
     "text": [
      "\n",
      "Processing Query 669/1034 (ID: spider_dev_q668_idx668): 'What are the maximum and minimum share of performances whose type is not \"Live final\".' (True DB: orchestra)\n"
     ]
    },
    {
     "data": {
      "application/vnd.jupyter.widget-view+json": {
       "model_id": "94e601bd5fe8440f89219519db83a210",
       "version_major": 2,
       "version_minor": 0
      },
      "text/plain": [
       "  DBs for Q:spider_dev_q668_idx6:   0%|          | 0/166 [00:00<?, ?it/s]"
      ]
     },
     "metadata": {},
     "output_type": "display_data"
    },
    {
     "name": "stdout",
     "output_type": "stream",
     "text": [
      "\n",
      "Processing Query 670/1034 (ID: spider_dev_q669_idx669): 'List the name of the conductor with the most years of work.' (True DB: orchestra)\n"
     ]
    },
    {
     "data": {
      "application/vnd.jupyter.widget-view+json": {
       "model_id": "d1d5008942264000b712fe885cd53983",
       "version_major": 2,
       "version_minor": 0
      },
      "text/plain": [
       "  DBs for Q:spider_dev_q669_idx6:   0%|          | 0/166 [00:00<?, ?it/s]"
      ]
     },
     "metadata": {},
     "output_type": "display_data"
    },
    {
     "name": "stdout",
     "output_type": "stream",
     "text": [
      "\n",
      "Processing Query 671/1034 (ID: spider_dev_q670_idx670): 'Which district has both stores with less than 3000 products and stores with more than 10000 products?' (True DB: employee_hire_evaluation)\n"
     ]
    },
    {
     "data": {
      "application/vnd.jupyter.widget-view+json": {
       "model_id": "3bac03545816445fb03e33d9d1cd92bc",
       "version_major": 2,
       "version_minor": 0
      },
      "text/plain": [
       "  DBs for Q:spider_dev_q670_idx6:   0%|          | 0/166 [00:00<?, ?it/s]"
      ]
     },
     "metadata": {},
     "output_type": "display_data"
    },
    {
     "name": "stdout",
     "output_type": "stream",
     "text": [
      "\n",
      "Processing Query 672/1034 (ID: spider_dev_q671_idx671): 'What is the money rank of the poker player with the highest earnings?' (True DB: poker_player)\n"
     ]
    },
    {
     "data": {
      "application/vnd.jupyter.widget-view+json": {
       "model_id": "cc9b67847a0d4844960f69dc10124931",
       "version_major": 2,
       "version_minor": 0
      },
      "text/plain": [
       "  DBs for Q:spider_dev_q671_idx6:   0%|          | 0/166 [00:00<?, ?it/s]"
      ]
     },
     "metadata": {},
     "output_type": "display_data"
    },
    {
     "name": "stdout",
     "output_type": "stream",
     "text": [
      "\n",
      "Processing Query 673/1034 (ID: spider_dev_q672_idx672): 'What are the distinct template type descriptions for the templates ever used by any document?' (True DB: cre_Doc_Template_Mgt)\n"
     ]
    },
    {
     "data": {
      "application/vnd.jupyter.widget-view+json": {
       "model_id": "0d90c099ed18463abe0a4fbb46393cd3",
       "version_major": 2,
       "version_minor": 0
      },
      "text/plain": [
       "  DBs for Q:spider_dev_q672_idx6:   0%|          | 0/166 [00:00<?, ?it/s]"
      ]
     },
     "metadata": {},
     "output_type": "display_data"
    },
    {
     "name": "stdout",
     "output_type": "stream",
     "text": [
      "\n",
      "Processing Query 674/1034 (ID: spider_dev_q673_idx673): 'Who are enrolled in 2 degree programs in one semester? List the first name, middle name and last name and the id.' (True DB: student_transcripts_tracking)\n"
     ]
    },
    {
     "data": {
      "application/vnd.jupyter.widget-view+json": {
       "model_id": "a7eb96a776ec41e581178d5412c28691",
       "version_major": 2,
       "version_minor": 0
      },
      "text/plain": [
       "  DBs for Q:spider_dev_q673_idx6:   0%|          | 0/166 [00:00<?, ?it/s]"
      ]
     },
     "metadata": {},
     "output_type": "display_data"
    },
    {
     "name": "stdout",
     "output_type": "stream",
     "text": [
      "\n",
      "Processing Query 675/1034 (ID: spider_dev_q674_idx674): 'Give the country codes for countries in which people speak langauges that are not English.' (True DB: world_1)\n"
     ]
    },
    {
     "data": {
      "application/vnd.jupyter.widget-view+json": {
       "model_id": "f3adc58a6bfe43a085fb84a3530876bb",
       "version_major": 2,
       "version_minor": 0
      },
      "text/plain": [
       "  DBs for Q:spider_dev_q674_idx6:   0%|          | 0/166 [00:00<?, ?it/s]"
      ]
     },
     "metadata": {},
     "output_type": "display_data"
    },
    {
     "name": "stdout",
     "output_type": "stream",
     "text": [
      "\n",
      "Processing Query 676/1034 (ID: spider_dev_q675_idx675): 'Find the average rank of winners in all matches.' (True DB: wta_1)\n"
     ]
    },
    {
     "data": {
      "application/vnd.jupyter.widget-view+json": {
       "model_id": "81c6946ae5524dcdb11b15a3de190937",
       "version_major": 2,
       "version_minor": 0
      },
      "text/plain": [
       "  DBs for Q:spider_dev_q675_idx6:   0%|          | 0/166 [00:00<?, ?it/s]"
      ]
     },
     "metadata": {},
     "output_type": "display_data"
    },
    {
     "name": "stdout",
     "output_type": "stream",
     "text": [
      "\n",
      "Processing Query 677/1034 (ID: spider_dev_q676_idx676): 'How many professionals did not operate any treatment on dogs?' (True DB: dog_kennels)\n"
     ]
    },
    {
     "data": {
      "application/vnd.jupyter.widget-view+json": {
       "model_id": "5c0eb2fc34da4e479492e10a94003bce",
       "version_major": 2,
       "version_minor": 0
      },
      "text/plain": [
       "  DBs for Q:spider_dev_q676_idx6:   0%|          | 0/166 [00:00<?, ?it/s]"
      ]
     },
     "metadata": {},
     "output_type": "display_data"
    },
    {
     "name": "stdout",
     "output_type": "stream",
     "text": [
      "\n",
      "Processing Query 678/1034 (ID: spider_dev_q677_idx677): 'What is the template type descriptions for template type code \"AD\".' (True DB: cre_Doc_Template_Mgt)\n"
     ]
    },
    {
     "data": {
      "application/vnd.jupyter.widget-view+json": {
       "model_id": "8639434540b44ec39e7fbc6883e01d40",
       "version_major": 2,
       "version_minor": 0
      },
      "text/plain": [
       "  DBs for Q:spider_dev_q677_idx6:   0%|          | 0/166 [00:00<?, ?it/s]"
      ]
     },
     "metadata": {},
     "output_type": "display_data"
    },
    {
     "name": "stdout",
     "output_type": "stream",
     "text": [
      "\n",
      "Processing Query 679/1034 (ID: spider_dev_q678_idx678): 'What is the weekly rank for the episode \"A Love of a Lifetime\"?' (True DB: tvshow)\n"
     ]
    },
    {
     "data": {
      "application/vnd.jupyter.widget-view+json": {
       "model_id": "816da8e39fe74da1b4bc9801cc3f960a",
       "version_major": 2,
       "version_minor": 0
      },
      "text/plain": [
       "  DBs for Q:spider_dev_q678_idx6:   0%|          | 0/166 [00:00<?, ?it/s]"
      ]
     },
     "metadata": {},
     "output_type": "display_data"
    },
    {
     "name": "stdout",
     "output_type": "stream",
     "text": [
      "\n",
      "Processing Query 680/1034 (ID: spider_dev_q679_idx679): 'What are the ids of students who both have friends and are liked?' (True DB: network_1)\n"
     ]
    },
    {
     "data": {
      "application/vnd.jupyter.widget-view+json": {
       "model_id": "50bd430d59474e608d66676777845d4f",
       "version_major": 2,
       "version_minor": 0
      },
      "text/plain": [
       "  DBs for Q:spider_dev_q679_idx6:   0%|          | 0/166 [00:00<?, ?it/s]"
      ]
     },
     "metadata": {},
     "output_type": "display_data"
    },
    {
     "name": "stdout",
     "output_type": "stream",
     "text": [
      "\n",
      "Processing Query 681/1034 (ID: spider_dev_q680_idx680): 'Return the record companies of orchestras, sorted descending by the years in which they were founded.' (True DB: orchestra)\n"
     ]
    },
    {
     "data": {
      "application/vnd.jupyter.widget-view+json": {
       "model_id": "9c6152b50e424c3796483de72795443d",
       "version_major": 2,
       "version_minor": 0
      },
      "text/plain": [
       "  DBs for Q:spider_dev_q680_idx6:   0%|          | 0/166 [00:00<?, ?it/s]"
      ]
     },
     "metadata": {},
     "output_type": "display_data"
    },
    {
     "name": "stdout",
     "output_type": "stream",
     "text": [
      "\n",
      "Processing Query 682/1034 (ID: spider_dev_q681_idx681): 'For each language, list the number of TV Channels that use it.' (True DB: tvshow)\n"
     ]
    },
    {
     "data": {
      "application/vnd.jupyter.widget-view+json": {
       "model_id": "a1883b096cee4bb79747e9b7ea040b86",
       "version_major": 2,
       "version_minor": 0
      },
      "text/plain": [
       "  DBs for Q:spider_dev_q681_idx6:   0%|          | 0/166 [00:00<?, ?it/s]"
      ]
     },
     "metadata": {},
     "output_type": "display_data"
    },
    {
     "name": "stdout",
     "output_type": "stream",
     "text": [
      "\n",
      "Processing Query 683/1034 (ID: spider_dev_q682_idx682): 'Find the first name of the students who permanently live in the country Haiti or have the cell phone number 09700166582 .' (True DB: student_transcripts_tracking)\n"
     ]
    },
    {
     "data": {
      "application/vnd.jupyter.widget-view+json": {
       "model_id": "ef5b9381d2234560bc38fb79f105f5ae",
       "version_major": 2,
       "version_minor": 0
      },
      "text/plain": [
       "  DBs for Q:spider_dev_q682_idx6:   0%|          | 0/166 [00:00<?, ?it/s]"
      ]
     },
     "metadata": {},
     "output_type": "display_data"
    },
    {
     "name": "stdout",
     "output_type": "stream",
     "text": [
      "\n",
      "Processing Query 684/1034 (ID: spider_dev_q683_idx683): 'Find the distinct breed type and size type combinations for dogs.' (True DB: dog_kennels)\n"
     ]
    },
    {
     "data": {
      "application/vnd.jupyter.widget-view+json": {
       "model_id": "74f1a4587b854d2cb916bf8aa7a3205b",
       "version_major": 2,
       "version_minor": 0
      },
      "text/plain": [
       "  DBs for Q:spider_dev_q683_idx6:   0%|          | 0/166 [00:00<?, ?it/s]"
      ]
     },
     "metadata": {},
     "output_type": "display_data"
    },
    {
     "name": "stdout",
     "output_type": "stream",
     "text": [
      "\n",
      "Processing Query 685/1034 (ID: spider_dev_q684_idx684): 'Which language is the most popular on the Asian continent?' (True DB: world_1)\n"
     ]
    },
    {
     "data": {
      "application/vnd.jupyter.widget-view+json": {
       "model_id": "045fc46ad93a4729824487320e169401",
       "version_major": 2,
       "version_minor": 0
      },
      "text/plain": [
       "  DBs for Q:spider_dev_q684_idx6:   0%|          | 0/166 [00:00<?, ?it/s]"
      ]
     },
     "metadata": {},
     "output_type": "display_data"
    },
    {
     "name": "stdout",
     "output_type": "stream",
     "text": [
      "\n",
      "Processing Query 686/1034 (ID: spider_dev_q685_idx685): 'Count the number of flights into ATO.' (True DB: flight_2)\n"
     ]
    },
    {
     "data": {
      "application/vnd.jupyter.widget-view+json": {
       "model_id": "32deb9d979a9417a93d0de0345cb5f19",
       "version_major": 2,
       "version_minor": 0
      },
      "text/plain": [
       "  DBs for Q:spider_dev_q685_idx6:   0%|          | 0/166 [00:00<?, ?it/s]"
      ]
     },
     "metadata": {},
     "output_type": "display_data"
    },
    {
     "name": "stdout",
     "output_type": "stream",
     "text": [
      "\n",
      "Processing Query 687/1034 (ID: spider_dev_q686_idx686): 'How many official languages does Afghanistan have?' (True DB: world_1)\n"
     ]
    },
    {
     "data": {
      "application/vnd.jupyter.widget-view+json": {
       "model_id": "39ce76e891af4032942c779bc7db92b1",
       "version_major": 2,
       "version_minor": 0
      },
      "text/plain": [
       "  DBs for Q:spider_dev_q686_idx6:   0%|          | 0/166 [00:00<?, ?it/s]"
      ]
     },
     "metadata": {},
     "output_type": "display_data"
    },
    {
     "name": "stdout",
     "output_type": "stream",
     "text": [
      "\n",
      "Processing Query 688/1034 (ID: spider_dev_q687_idx687): 'How many flights fly from Aberdeen to Ashley?' (True DB: flight_2)\n"
     ]
    },
    {
     "data": {
      "application/vnd.jupyter.widget-view+json": {
       "model_id": "426bb3adb7f440ffb300043c6287b986",
       "version_major": 2,
       "version_minor": 0
      },
      "text/plain": [
       "  DBs for Q:spider_dev_q687_idx6:   0%|          | 0/166 [00:00<?, ?it/s]"
      ]
     },
     "metadata": {},
     "output_type": "display_data"
    },
    {
     "name": "stdout",
     "output_type": "stream",
     "text": [
      "\n",
      "Processing Query 689/1034 (ID: spider_dev_q688_idx688): 'Which city has most number of arriving flights?' (True DB: flight_2)\n"
     ]
    },
    {
     "data": {
      "application/vnd.jupyter.widget-view+json": {
       "model_id": "618350bfcc56418baa210bf070f831db",
       "version_major": 2,
       "version_minor": 0
      },
      "text/plain": [
       "  DBs for Q:spider_dev_q688_idx6:   0%|          | 0/166 [00:00<?, ?it/s]"
      ]
     },
     "metadata": {},
     "output_type": "display_data"
    },
    {
     "name": "stdout",
     "output_type": "stream",
     "text": [
      "\n",
      "Processing Query 690/1034 (ID: spider_dev_q689_idx689): 'Among the cars that do not have the minimum horsepower , what are the make ids and names of all those with less than 4 cylinders ?' (True DB: car_1)\n"
     ]
    },
    {
     "data": {
      "application/vnd.jupyter.widget-view+json": {
       "model_id": "9a1cd494495a41a8b0c4416a76e603dd",
       "version_major": 2,
       "version_minor": 0
      },
      "text/plain": [
       "  DBs for Q:spider_dev_q689_idx6:   0%|          | 0/166 [00:00<?, ?it/s]"
      ]
     },
     "metadata": {},
     "output_type": "display_data"
    },
    {
     "name": "stdout",
     "output_type": "stream",
     "text": [
      "\n",
      "Processing Query 691/1034 (ID: spider_dev_q690_idx690): 'What is the first name and country code of the player with the most tours?' (True DB: wta_1)\n"
     ]
    },
    {
     "data": {
      "application/vnd.jupyter.widget-view+json": {
       "model_id": "189fb3642c28471ebd1ea6edf6866c3f",
       "version_major": 2,
       "version_minor": 0
      },
      "text/plain": [
       "  DBs for Q:spider_dev_q690_idx6:   0%|          | 0/166 [00:00<?, ?it/s]"
      ]
     },
     "metadata": {},
     "output_type": "display_data"
    },
    {
     "name": "stdout",
     "output_type": "stream",
     "text": [
      "\n",
      "Processing Query 692/1034 (ID: spider_dev_q691_idx691): 'Show different citizenships and the maximum net worth of singers of each citizenship.' (True DB: singer)\n"
     ]
    },
    {
     "data": {
      "application/vnd.jupyter.widget-view+json": {
       "model_id": "f50c77c54b4f4727bcc822ae400b554d",
       "version_major": 2,
       "version_minor": 0
      },
      "text/plain": [
       "  DBs for Q:spider_dev_q691_idx6:   0%|          | 0/166 [00:00<?, ?it/s]"
      ]
     },
     "metadata": {},
     "output_type": "display_data"
    },
    {
     "name": "stdout",
     "output_type": "stream",
     "text": [
      "\n",
      "Processing Query 693/1034 (ID: spider_dev_q692_idx692): 'What is the template type code for template type description \"Book\".' (True DB: cre_Doc_Template_Mgt)\n"
     ]
    },
    {
     "data": {
      "application/vnd.jupyter.widget-view+json": {
       "model_id": "4374f7a3826247a19c6c4854a73d9a3b",
       "version_major": 2,
       "version_minor": 0
      },
      "text/plain": [
       "  DBs for Q:spider_dev_q692_idx6:   0%|          | 0/166 [00:00<?, ?it/s]"
      ]
     },
     "metadata": {},
     "output_type": "display_data"
    },
    {
     "name": "stdout",
     "output_type": "stream",
     "text": [
      "\n",
      "Processing Query 694/1034 (ID: spider_dev_q693_idx693): 'What are the paragraph texts for the document with the name 'Customer reviews'?' (True DB: cre_Doc_Template_Mgt)\n"
     ]
    },
    {
     "data": {
      "application/vnd.jupyter.widget-view+json": {
       "model_id": "d0c468b2f2d54449a4ca6ba447ff30dd",
       "version_major": 2,
       "version_minor": 0
      },
      "text/plain": [
       "  DBs for Q:spider_dev_q693_idx6:   0%|          | 0/166 [00:00<?, ?it/s]"
      ]
     },
     "metadata": {},
     "output_type": "display_data"
    },
    {
     "name": "stdout",
     "output_type": "stream",
     "text": [
      "\n",
      "Processing Query 695/1034 (ID: spider_dev_q694_idx694): 'Show the names of high schoolers who have likes, and numbers of likes for each.' (True DB: network_1)\n"
     ]
    },
    {
     "data": {
      "application/vnd.jupyter.widget-view+json": {
       "model_id": "2616860ec5cd48a1b5a893d670fb67bf",
       "version_major": 2,
       "version_minor": 0
      },
      "text/plain": [
       "  DBs for Q:spider_dev_q694_idx6:   0%|          | 0/166 [00:00<?, ?it/s]"
      ]
     },
     "metadata": {},
     "output_type": "display_data"
    },
    {
     "name": "stdout",
     "output_type": "stream",
     "text": [
      "\n",
      "Processing Query 696/1034 (ID: spider_dev_q695_idx695): 'What grade is Kyle in?' (True DB: network_1)\n"
     ]
    },
    {
     "data": {
      "application/vnd.jupyter.widget-view+json": {
       "model_id": "7e6e8bb52b544799a86e4e4018038843",
       "version_major": 2,
       "version_minor": 0
      },
      "text/plain": [
       "  DBs for Q:spider_dev_q695_idx6:   0%|          | 0/166 [00:00<?, ?it/s]"
      ]
     },
     "metadata": {},
     "output_type": "display_data"
    },
    {
     "name": "stdout",
     "output_type": "stream",
     "text": [
      "\n",
      "Processing Query 697/1034 (ID: spider_dev_q696_idx696): 'Show the names of high schoolers who have at least 3 friends.' (True DB: network_1)\n"
     ]
    },
    {
     "data": {
      "application/vnd.jupyter.widget-view+json": {
       "model_id": "347572393e764f65a1b9dd30a1ea3af3",
       "version_major": 2,
       "version_minor": 0
      },
      "text/plain": [
       "  DBs for Q:spider_dev_q696_idx6:   0%|          | 0/166 [00:00<?, ?it/s]"
      ]
     },
     "metadata": {},
     "output_type": "display_data"
    },
    {
     "name": "stdout",
     "output_type": "stream",
     "text": [
      "\n",
      "Processing Query 698/1034 (ID: spider_dev_q697_idx697): 'What is the name and capacity of the stadium with the most concerts after 2013 ?' (True DB: concert_singer)\n"
     ]
    },
    {
     "data": {
      "application/vnd.jupyter.widget-view+json": {
       "model_id": "cbf844de574946548cd351bf4c56bc3d",
       "version_major": 2,
       "version_minor": 0
      },
      "text/plain": [
       "  DBs for Q:spider_dev_q697_idx6:   0%|          | 0/166 [00:00<?, ?it/s]"
      ]
     },
     "metadata": {},
     "output_type": "display_data"
    },
    {
     "name": "stdout",
     "output_type": "stream",
     "text": [
      "\n",
      "Processing Query 699/1034 (ID: spider_dev_q698_idx698): 'Return the number of airlines in the USA.' (True DB: flight_2)\n"
     ]
    },
    {
     "data": {
      "application/vnd.jupyter.widget-view+json": {
       "model_id": "b187376c838748a487644e1cfab9a061",
       "version_major": 2,
       "version_minor": 0
      },
      "text/plain": [
       "  DBs for Q:spider_dev_q698_idx6:   0%|          | 0/166 [00:00<?, ?it/s]"
      ]
     },
     "metadata": {},
     "output_type": "display_data"
    },
    {
     "name": "stdout",
     "output_type": "stream",
     "text": [
      "\n",
      "Processing Query 700/1034 (ID: spider_dev_q699_idx699): 'Find all airlines that have flights from airport 'CVO' but not from 'APG'.' (True DB: flight_2)\n"
     ]
    },
    {
     "data": {
      "application/vnd.jupyter.widget-view+json": {
       "model_id": "1be965b916824ff89cdb56f8dabc0ced",
       "version_major": 2,
       "version_minor": 0
      },
      "text/plain": [
       "  DBs for Q:spider_dev_q699_idx6:   0%|          | 0/166 [00:00<?, ?it/s]"
      ]
     },
     "metadata": {},
     "output_type": "display_data"
    },
    {
     "name": "stdout",
     "output_type": "stream",
     "text": [
      "\n",
      "Processing Query 701/1034 (ID: spider_dev_q700_idx700): 'Return the name, location and district of all shops in descending order of number of products.' (True DB: employee_hire_evaluation)\n"
     ]
    },
    {
     "data": {
      "application/vnd.jupyter.widget-view+json": {
       "model_id": "7ca20e7dd5324d19994f6f9d228db32e",
       "version_major": 2,
       "version_minor": 0
      },
      "text/plain": [
       "  DBs for Q:spider_dev_q700_idx7:   0%|          | 0/166 [00:00<?, ?it/s]"
      ]
     },
     "metadata": {},
     "output_type": "display_data"
    },
    {
     "name": "stdout",
     "output_type": "stream",
     "text": [
      "\n",
      "Processing Query 702/1034 (ID: spider_dev_q701_idx701): 'What other details can you tell me about students in reverse alphabetical order?' (True DB: student_transcripts_tracking)\n"
     ]
    },
    {
     "data": {
      "application/vnd.jupyter.widget-view+json": {
       "model_id": "c08229cde2a74901b4d98df60b6104c4",
       "version_major": 2,
       "version_minor": 0
      },
      "text/plain": [
       "  DBs for Q:spider_dev_q701_idx7:   0%|          | 0/166 [00:00<?, ?it/s]"
      ]
     },
     "metadata": {},
     "output_type": "display_data"
    },
    {
     "name": "stdout",
     "output_type": "stream",
     "text": [
      "\n",
      "Processing Query 703/1034 (ID: spider_dev_q702_idx702): 'Where is the youngest teacher from?' (True DB: course_teach)\n"
     ]
    },
    {
     "data": {
      "application/vnd.jupyter.widget-view+json": {
       "model_id": "3bfc2d8781eb4cd3ace4de49ea1bbd4f",
       "version_major": 2,
       "version_minor": 0
      },
      "text/plain": [
       "  DBs for Q:spider_dev_q702_idx7:   0%|          | 0/166 [00:00<?, ?it/s]"
      ]
     },
     "metadata": {},
     "output_type": "display_data"
    },
    {
     "name": "stdout",
     "output_type": "stream",
     "text": [
      "\n",
      "Processing Query 704/1034 (ID: spider_dev_q703_idx703): 'Which airline has most number of flights?' (True DB: flight_2)\n"
     ]
    },
    {
     "data": {
      "application/vnd.jupyter.widget-view+json": {
       "model_id": "15d973095c844ab684ea59946846a964",
       "version_major": 2,
       "version_minor": 0
      },
      "text/plain": [
       "  DBs for Q:spider_dev_q703_idx7:   0%|          | 0/166 [00:00<?, ?it/s]"
      ]
     },
     "metadata": {},
     "output_type": "display_data"
    },
    {
     "name": "stdout",
     "output_type": "stream",
     "text": [
      "\n",
      "Processing Query 705/1034 (ID: spider_dev_q704_idx704): 'Find the average age of the dogs who went through treatments.' (True DB: dog_kennels)\n"
     ]
    },
    {
     "data": {
      "application/vnd.jupyter.widget-view+json": {
       "model_id": "0e8e0be696ba415aa65d44234d148551",
       "version_major": 2,
       "version_minor": 0
      },
      "text/plain": [
       "  DBs for Q:spider_dev_q704_idx7:   0%|          | 0/166 [00:00<?, ?it/s]"
      ]
     },
     "metadata": {},
     "output_type": "display_data"
    },
    {
     "name": "stdout",
     "output_type": "stream",
     "text": [
      "\n",
      "Processing Query 706/1034 (ID: spider_dev_q705_idx705): 'What is the average age of the visitors whose membership level is not higher than 4?' (True DB: museum_visit)\n"
     ]
    },
    {
     "data": {
      "application/vnd.jupyter.widget-view+json": {
       "model_id": "d2b2e14f85c94214a80f470b124bee1f",
       "version_major": 2,
       "version_minor": 0
      },
      "text/plain": [
       "  DBs for Q:spider_dev_q705_idx7:   0%|          | 0/166 [00:00<?, ?it/s]"
      ]
     },
     "metadata": {},
     "output_type": "display_data"
    },
    {
     "name": "stdout",
     "output_type": "stream",
     "text": [
      "\n",
      "Processing Query 707/1034 (ID: spider_dev_q706_idx706): 'Return the maximum and minimum shares for performances that do not have the type \"Live final\".' (True DB: orchestra)\n"
     ]
    },
    {
     "data": {
      "application/vnd.jupyter.widget-view+json": {
       "model_id": "7fa668f202a74881b43aa72a9d93f1dd",
       "version_major": 2,
       "version_minor": 0
      },
      "text/plain": [
       "  DBs for Q:spider_dev_q706_idx7:   0%|          | 0/166 [00:00<?, ?it/s]"
      ]
     },
     "metadata": {},
     "output_type": "display_data"
    },
    {
     "name": "stdout",
     "output_type": "stream",
     "text": [
      "\n",
      "Processing Query 708/1034 (ID: spider_dev_q707_idx707): 'Give me the description of the treatment type whose total cost is the lowest.' (True DB: dog_kennels)\n"
     ]
    },
    {
     "data": {
      "application/vnd.jupyter.widget-view+json": {
       "model_id": "fab127759ab94d3db54446b68e55c0e3",
       "version_major": 2,
       "version_minor": 0
      },
      "text/plain": [
       "  DBs for Q:spider_dev_q707_idx7:   0%|          | 0/166 [00:00<?, ?it/s]"
      ]
     },
     "metadata": {},
     "output_type": "display_data"
    },
    {
     "name": "stdout",
     "output_type": "stream",
     "text": [
      "\n",
      "Processing Query 709/1034 (ID: spider_dev_q708_idx708): 'How many likes does Kyle have?' (True DB: network_1)\n"
     ]
    },
    {
     "data": {
      "application/vnd.jupyter.widget-view+json": {
       "model_id": "c5d518c297114d2d8aadfab8f8a71232",
       "version_major": 2,
       "version_minor": 0
      },
      "text/plain": [
       "  DBs for Q:spider_dev_q708_idx7:   0%|          | 0/166 [00:00<?, ?it/s]"
      ]
     },
     "metadata": {},
     "output_type": "display_data"
    },
    {
     "name": "stdout",
     "output_type": "stream",
     "text": [
      "\n",
      "Processing Query 710/1034 (ID: spider_dev_q709_idx709): 'Show me all grades that have at least 4 students.' (True DB: network_1)\n"
     ]
    },
    {
     "data": {
      "application/vnd.jupyter.widget-view+json": {
       "model_id": "903a66bb98634c82a38a89ac03caac37",
       "version_major": 2,
       "version_minor": 0
      },
      "text/plain": [
       "  DBs for Q:spider_dev_q709_idx7:   0%|          | 0/166 [00:00<?, ?it/s]"
      ]
     },
     "metadata": {},
     "output_type": "display_data"
    },
    {
     "name": "stdout",
     "output_type": "stream",
     "text": [
      "\n",
      "Processing Query 711/1034 (ID: spider_dev_q710_idx710): 'Give me Brazil’s population and life expectancies.' (True DB: world_1)\n"
     ]
    },
    {
     "data": {
      "application/vnd.jupyter.widget-view+json": {
       "model_id": "f29884016ee34e8e832623b48141a141",
       "version_major": 2,
       "version_minor": 0
      },
      "text/plain": [
       "  DBs for Q:spider_dev_q710_idx7:   0%|          | 0/166 [00:00<?, ?it/s]"
      ]
     },
     "metadata": {},
     "output_type": "display_data"
    },
    {
     "name": "stdout",
     "output_type": "stream",
     "text": [
      "\n",
      "Processing Query 712/1034 (ID: spider_dev_q711_idx711): 'What is the average GNP and total population in all nations whose government is US territory?' (True DB: world_1)\n"
     ]
    },
    {
     "data": {
      "application/vnd.jupyter.widget-view+json": {
       "model_id": "7d87de56898640019d543d2723737789",
       "version_major": 2,
       "version_minor": 0
      },
      "text/plain": [
       "  DBs for Q:spider_dev_q711_idx7:   0%|          | 0/166 [00:00<?, ?it/s]"
      ]
     },
     "metadata": {},
     "output_type": "display_data"
    },
    {
     "name": "stdout",
     "output_type": "stream",
     "text": [
      "\n",
      "Processing Query 713/1034 (ID: spider_dev_q712_idx712): 'Show all paragraph ids and texts for the document with name 'Welcome to NY'.' (True DB: cre_Doc_Template_Mgt)\n"
     ]
    },
    {
     "data": {
      "application/vnd.jupyter.widget-view+json": {
       "model_id": "aad02042d1ba46bba0aaca899c480902",
       "version_major": 2,
       "version_minor": 0
      },
      "text/plain": [
       "  DBs for Q:spider_dev_q712_idx7:   0%|          | 0/166 [00:00<?, ?it/s]"
      ]
     },
     "metadata": {},
     "output_type": "display_data"
    },
    {
     "name": "stdout",
     "output_type": "stream",
     "text": [
      "\n",
      "Processing Query 714/1034 (ID: spider_dev_q713_idx713): 'What are the names of conductors as well as the corresonding orchestras that they have conducted?' (True DB: orchestra)\n"
     ]
    },
    {
     "data": {
      "application/vnd.jupyter.widget-view+json": {
       "model_id": "9df865b143c14c91b607ca74f6fbd577",
       "version_major": 2,
       "version_minor": 0
      },
      "text/plain": [
       "  DBs for Q:spider_dev_q713_idx7:   0%|          | 0/166 [00:00<?, ?it/s]"
      ]
     },
     "metadata": {},
     "output_type": "display_data"
    },
    {
     "name": "stdout",
     "output_type": "stream",
     "text": [
      "\n",
      "Processing Query 715/1034 (ID: spider_dev_q714_idx714): 'What is the country with the most number of TV Channels and how many does it have?' (True DB: tvshow)\n"
     ]
    },
    {
     "data": {
      "application/vnd.jupyter.widget-view+json": {
       "model_id": "31db5baf658a4fb39b92d0dc1510dbbe",
       "version_major": 2,
       "version_minor": 0
      },
      "text/plain": [
       "  DBs for Q:spider_dev_q714_idx7:   0%|          | 0/166 [00:00<?, ?it/s]"
      ]
     },
     "metadata": {},
     "output_type": "display_data"
    },
    {
     "name": "stdout",
     "output_type": "stream",
     "text": [
      "\n",
      "Processing Query 716/1034 (ID: spider_dev_q715_idx715): 'What are the age and hometown of teachers?' (True DB: course_teach)\n"
     ]
    },
    {
     "data": {
      "application/vnd.jupyter.widget-view+json": {
       "model_id": "8e03e64990954b4d86bc7545d00a0a5d",
       "version_major": 2,
       "version_minor": 0
      },
      "text/plain": [
       "  DBs for Q:spider_dev_q715_idx7:   0%|          | 0/166 [00:00<?, ?it/s]"
      ]
     },
     "metadata": {},
     "output_type": "display_data"
    },
    {
     "name": "stdout",
     "output_type": "stream",
     "text": [
      "\n",
      "Processing Query 717/1034 (ID: spider_dev_q716_idx716): 'Find the name of the shops that do not hire any employee.' (True DB: employee_hire_evaluation)\n"
     ]
    },
    {
     "data": {
      "application/vnd.jupyter.widget-view+json": {
       "model_id": "c0bd93a82d4e43c0a98bdc03de0f73a6",
       "version_major": 2,
       "version_minor": 0
      },
      "text/plain": [
       "  DBs for Q:spider_dev_q716_idx7:   0%|          | 0/166 [00:00<?, ?it/s]"
      ]
     },
     "metadata": {},
     "output_type": "display_data"
    },
    {
     "name": "stdout",
     "output_type": "stream",
     "text": [
      "\n",
      "Processing Query 718/1034 (ID: spider_dev_q717_idx717): 'Which first names are used for professionals or owners but are not used as dog names?' (True DB: dog_kennels)\n"
     ]
    },
    {
     "data": {
      "application/vnd.jupyter.widget-view+json": {
       "model_id": "98f9f196f0c64fb5ac731faa9facbcc5",
       "version_major": 2,
       "version_minor": 0
      },
      "text/plain": [
       "  DBs for Q:spider_dev_q717_idx7:   0%|          | 0/166 [00:00<?, ?it/s]"
      ]
     },
     "metadata": {},
     "output_type": "display_data"
    },
    {
     "name": "stdout",
     "output_type": "stream",
     "text": [
      "\n",
      "Processing Query 719/1034 (ID: spider_dev_q718_idx718): 'Count the number of dogs of an age below the average.' (True DB: dog_kennels)\n"
     ]
    },
    {
     "data": {
      "application/vnd.jupyter.widget-view+json": {
       "model_id": "93f199ee69bb45f787e25eeba14f97ac",
       "version_major": 2,
       "version_minor": 0
      },
      "text/plain": [
       "  DBs for Q:spider_dev_q718_idx7:   0%|          | 0/166 [00:00<?, ?it/s]"
      ]
     },
     "metadata": {},
     "output_type": "display_data"
    },
    {
     "name": "stdout",
     "output_type": "stream",
     "text": [
      "\n",
      "Processing Query 720/1034 (ID: spider_dev_q719_idx719): 'What are the id, role, and first name of the professionals who have performed two or more treatments?' (True DB: dog_kennels)\n"
     ]
    },
    {
     "data": {
      "application/vnd.jupyter.widget-view+json": {
       "model_id": "67b727116d4c48e1b4aceefb8540b152",
       "version_major": 2,
       "version_minor": 0
      },
      "text/plain": [
       "  DBs for Q:spider_dev_q719_idx7:   0%|          | 0/166 [00:00<?, ?it/s]"
      ]
     },
     "metadata": {},
     "output_type": "display_data"
    },
    {
     "name": "stdout",
     "output_type": "stream",
     "text": [
      "\n",
      "Processing Query 721/1034 (ID: spider_dev_q720_idx720): 'How many times at most can a course enrollment result show in different transcripts? Also show the course enrollment id.' (True DB: student_transcripts_tracking)\n"
     ]
    },
    {
     "data": {
      "application/vnd.jupyter.widget-view+json": {
       "model_id": "f77e8d2c5f504319bd195934e1015219",
       "version_major": 2,
       "version_minor": 0
      },
      "text/plain": [
       "  DBs for Q:spider_dev_q720_idx7:   0%|          | 0/166 [00:00<?, ?it/s]"
      ]
     },
     "metadata": {},
     "output_type": "display_data"
    },
    {
     "name": "stdout",
     "output_type": "stream",
     "text": [
      "\n",
      "Processing Query 722/1034 (ID: spider_dev_q721_idx721): 'Count the number of different nationalities of conductors.' (True DB: orchestra)\n"
     ]
    },
    {
     "data": {
      "application/vnd.jupyter.widget-view+json": {
       "model_id": "7e8cfc93edef46e98b48ff8a53e59a36",
       "version_major": 2,
       "version_minor": 0
      },
      "text/plain": [
       "  DBs for Q:spider_dev_q721_idx7:   0%|          | 0/166 [00:00<?, ?it/s]"
      ]
     },
     "metadata": {},
     "output_type": "display_data"
    },
    {
     "name": "stdout",
     "output_type": "stream",
     "text": [
      "\n",
      "Processing Query 723/1034 (ID: spider_dev_q722_idx722): 'How many flights arriving in Aberdeen city?' (True DB: flight_2)\n"
     ]
    },
    {
     "data": {
      "application/vnd.jupyter.widget-view+json": {
       "model_id": "eeb566f1905e45329f12a0711364f1c3",
       "version_major": 2,
       "version_minor": 0
      },
      "text/plain": [
       "  DBs for Q:spider_dev_q722_idx7:   0%|          | 0/166 [00:00<?, ?it/s]"
      ]
     },
     "metadata": {},
     "output_type": "display_data"
    },
    {
     "name": "stdout",
     "output_type": "stream",
     "text": [
      "\n",
      "Processing Query 724/1034 (ID: spider_dev_q723_idx723): 'List the dog name, age and weight of the dogs who have been abandoned? 1 stands for yes, and 0 stands for no.' (True DB: dog_kennels)\n"
     ]
    },
    {
     "data": {
      "application/vnd.jupyter.widget-view+json": {
       "model_id": "d4101f220fdf49c887b6c1af0cfee8a8",
       "version_major": 2,
       "version_minor": 0
      },
      "text/plain": [
       "  DBs for Q:spider_dev_q723_idx7:   0%|          | 0/166 [00:00<?, ?it/s]"
      ]
     },
     "metadata": {},
     "output_type": "display_data"
    },
    {
     "name": "stdout",
     "output_type": "stream",
     "text": [
      "\n",
      "Processing Query 725/1034 (ID: spider_dev_q724_idx724): 'What is the abbreviation of Airline \"JetBlue Airways\"?' (True DB: flight_2)\n"
     ]
    },
    {
     "data": {
      "application/vnd.jupyter.widget-view+json": {
       "model_id": "67cfb3f36ae04553a3df272ff09a8e64",
       "version_major": 2,
       "version_minor": 0
      },
      "text/plain": [
       "  DBs for Q:spider_dev_q724_idx7:   0%|          | 0/166 [00:00<?, ?it/s]"
      ]
     },
     "metadata": {},
     "output_type": "display_data"
    },
    {
     "name": "stdout",
     "output_type": "stream",
     "text": [
      "\n",
      "Processing Query 726/1034 (ID: spider_dev_q725_idx725): 'What are the final tables made and best finishes for all poker players?' (True DB: poker_player)\n"
     ]
    },
    {
     "data": {
      "application/vnd.jupyter.widget-view+json": {
       "model_id": "d915a5ed26e941e3a864ed46073eea55",
       "version_major": 2,
       "version_minor": 0
      },
      "text/plain": [
       "  DBs for Q:spider_dev_q725_idx7:   0%|          | 0/166 [00:00<?, ?it/s]"
      ]
     },
     "metadata": {},
     "output_type": "display_data"
    },
    {
     "name": "stdout",
     "output_type": "stream",
     "text": [
      "\n",
      "Processing Query 727/1034 (ID: spider_dev_q726_idx726): 'What are the names of cities in Europe for which English is not the official language?' (True DB: world_1)\n"
     ]
    },
    {
     "data": {
      "application/vnd.jupyter.widget-view+json": {
       "model_id": "74da257f845f40daa30cccc8ea38220a",
       "version_major": 2,
       "version_minor": 0
      },
      "text/plain": [
       "  DBs for Q:spider_dev_q726_idx7:   0%|          | 0/166 [00:00<?, ?it/s]"
      ]
     },
     "metadata": {},
     "output_type": "display_data"
    },
    {
     "name": "stdout",
     "output_type": "stream",
     "text": [
      "\n",
      "Processing Query 728/1034 (ID: spider_dev_q727_idx727): 'List the first and last name of all players who are left / L hand in the order of birth date.' (True DB: wta_1)\n"
     ]
    },
    {
     "data": {
      "application/vnd.jupyter.widget-view+json": {
       "model_id": "49a73d5a5db347aca2b583c279a9de61",
       "version_major": 2,
       "version_minor": 0
      },
      "text/plain": [
       "  DBs for Q:spider_dev_q727_idx7:   0%|          | 0/166 [00:00<?, ?it/s]"
      ]
     },
     "metadata": {},
     "output_type": "display_data"
    },
    {
     "name": "stdout",
     "output_type": "stream",
     "text": [
      "\n",
      "Processing Query 729/1034 (ID: spider_dev_q728_idx728): 'How many likes correspond to each student id?' (True DB: network_1)\n"
     ]
    },
    {
     "data": {
      "application/vnd.jupyter.widget-view+json": {
       "model_id": "e5bc930dcf644657b713ed57fd80b0cb",
       "version_major": 2,
       "version_minor": 0
      },
      "text/plain": [
       "  DBs for Q:spider_dev_q728_idx7:   0%|          | 0/166 [00:00<?, ?it/s]"
      ]
     },
     "metadata": {},
     "output_type": "display_data"
    },
    {
     "name": "stdout",
     "output_type": "stream",
     "text": [
      "\n",
      "Processing Query 730/1034 (ID: spider_dev_q729_idx729): 'How many templates have template type code CV?' (True DB: cre_Doc_Template_Mgt)\n"
     ]
    },
    {
     "data": {
      "application/vnd.jupyter.widget-view+json": {
       "model_id": "5eb7d29b542f41eb8168d72d94c38923",
       "version_major": 2,
       "version_minor": 0
      },
      "text/plain": [
       "  DBs for Q:spider_dev_q729_idx7:   0%|          | 0/166 [00:00<?, ?it/s]"
      ]
     },
     "metadata": {},
     "output_type": "display_data"
    },
    {
     "name": "stdout",
     "output_type": "stream",
     "text": [
      "\n",
      "Processing Query 731/1034 (ID: spider_dev_q730_idx730): 'What the smallest version number and its template type code?' (True DB: cre_Doc_Template_Mgt)\n"
     ]
    },
    {
     "data": {
      "application/vnd.jupyter.widget-view+json": {
       "model_id": "3e668165008c433ca63f99d37d3a2dd6",
       "version_major": 2,
       "version_minor": 0
      },
      "text/plain": [
       "  DBs for Q:spider_dev_q730_idx7:   0%|          | 0/166 [00:00<?, ?it/s]"
      ]
     },
     "metadata": {},
     "output_type": "display_data"
    },
    {
     "name": "stdout",
     "output_type": "stream",
     "text": [
      "\n",
      "Processing Query 732/1034 (ID: spider_dev_q731_idx731): 'What is the maximum number of final tables made among poker players with earnings less than 200000?' (True DB: poker_player)\n"
     ]
    },
    {
     "data": {
      "application/vnd.jupyter.widget-view+json": {
       "model_id": "29f3bd1889534e32b108d4154d1f36cf",
       "version_major": 2,
       "version_minor": 0
      },
      "text/plain": [
       "  DBs for Q:spider_dev_q731_idx7:   0%|          | 0/166 [00:00<?, ?it/s]"
      ]
     },
     "metadata": {},
     "output_type": "display_data"
    },
    {
     "name": "stdout",
     "output_type": "stream",
     "text": [
      "\n",
      "Processing Query 733/1034 (ID: spider_dev_q732_idx732): 'What is the name of the museum that had no visitor yet?' (True DB: museum_visit)\n"
     ]
    },
    {
     "data": {
      "application/vnd.jupyter.widget-view+json": {
       "model_id": "2b68ac1d75f341e2ad6853c37c197eff",
       "version_major": 2,
       "version_minor": 0
      },
      "text/plain": [
       "  DBs for Q:spider_dev_q732_idx7:   0%|          | 0/166 [00:00<?, ?it/s]"
      ]
     },
     "metadata": {},
     "output_type": "display_data"
    },
    {
     "name": "stdout",
     "output_type": "stream",
     "text": [
      "\n",
      "Processing Query 734/1034 (ID: spider_dev_q733_idx733): 'Show names of teachers and the courses they are arranged to teach.' (True DB: course_teach)\n"
     ]
    },
    {
     "data": {
      "application/vnd.jupyter.widget-view+json": {
       "model_id": "c93ad27fc7d04f069ca99abdb2a9f1c0",
       "version_major": 2,
       "version_minor": 0
      },
      "text/plain": [
       "  DBs for Q:spider_dev_q733_idx7:   0%|          | 0/166 [00:00<?, ?it/s]"
      ]
     },
     "metadata": {},
     "output_type": "display_data"
    },
    {
     "name": "stdout",
     "output_type": "stream",
     "text": [
      "\n",
      "Processing Query 735/1034 (ID: spider_dev_q734_idx734): 'Which airports do not have departing or arriving flights?' (True DB: flight_2)\n"
     ]
    },
    {
     "data": {
      "application/vnd.jupyter.widget-view+json": {
       "model_id": "03a332724b3e4f0894b3d4e4ee1966dd",
       "version_major": 2,
       "version_minor": 0
      },
      "text/plain": [
       "  DBs for Q:spider_dev_q734_idx7:   0%|          | 0/166 [00:00<?, ?it/s]"
      ]
     },
     "metadata": {},
     "output_type": "display_data"
    },
    {
     "name": "stdout",
     "output_type": "stream",
     "text": [
      "\n",
      "Processing Query 736/1034 (ID: spider_dev_q735_idx735): 'What are the names of the teachers ordered by ascending age?' (True DB: course_teach)\n"
     ]
    },
    {
     "data": {
      "application/vnd.jupyter.widget-view+json": {
       "model_id": "8cb2494cdbf540dabf88a08ecb961ea4",
       "version_major": 2,
       "version_minor": 0
      },
      "text/plain": [
       "  DBs for Q:spider_dev_q735_idx7:   0%|          | 0/166 [00:00<?, ?it/s]"
      ]
     },
     "metadata": {},
     "output_type": "display_data"
    },
    {
     "name": "stdout",
     "output_type": "stream",
     "text": [
      "\n",
      "Processing Query 737/1034 (ID: spider_dev_q736_idx736): 'What is the number of cars with more than 4 cylinders?' (True DB: car_1)\n"
     ]
    },
    {
     "data": {
      "application/vnd.jupyter.widget-view+json": {
       "model_id": "38e525de537446c59a472d31924e4a0c",
       "version_major": 2,
       "version_minor": 0
      },
      "text/plain": [
       "  DBs for Q:spider_dev_q736_idx7:   0%|          | 0/166 [00:00<?, ?it/s]"
      ]
     },
     "metadata": {},
     "output_type": "display_data"
    },
    {
     "name": "stdout",
     "output_type": "stream",
     "text": [
      "\n",
      "Processing Query 738/1034 (ID: spider_dev_q737_idx737): 'list all cartoon titles and their directors ordered by their air date' (True DB: tvshow)\n"
     ]
    },
    {
     "data": {
      "application/vnd.jupyter.widget-view+json": {
       "model_id": "f522f5869d844ec786c4c90531b21176",
       "version_major": 2,
       "version_minor": 0
      },
      "text/plain": [
       "  DBs for Q:spider_dev_q737_idx7:   0%|          | 0/166 [00:00<?, ?it/s]"
      ]
     },
     "metadata": {},
     "output_type": "display_data"
    },
    {
     "name": "stdout",
     "output_type": "stream",
     "text": [
      "\n",
      "Processing Query 739/1034 (ID: spider_dev_q738_idx738): 'Return the id and name of the document with the most paragraphs.' (True DB: cre_Doc_Template_Mgt)\n"
     ]
    },
    {
     "data": {
      "application/vnd.jupyter.widget-view+json": {
       "model_id": "cd4fc2b5e6364ac5bc1bd260ac22cc70",
       "version_major": 2,
       "version_minor": 0
      },
      "text/plain": [
       "  DBs for Q:spider_dev_q738_idx7:   0%|          | 0/166 [00:00<?, ?it/s]"
      ]
     },
     "metadata": {},
     "output_type": "display_data"
    },
    {
     "name": "stdout",
     "output_type": "stream",
     "text": [
      "\n",
      "Processing Query 740/1034 (ID: spider_dev_q739_idx739): 'What is all the information about hiring?' (True DB: employee_hire_evaluation)\n"
     ]
    },
    {
     "data": {
      "application/vnd.jupyter.widget-view+json": {
       "model_id": "1bfa826eeea1463c85ab78cdeb2f5ecf",
       "version_major": 2,
       "version_minor": 0
      },
      "text/plain": [
       "  DBs for Q:spider_dev_q739_idx7:   0%|          | 0/166 [00:00<?, ?it/s]"
      ]
     },
     "metadata": {},
     "output_type": "display_data"
    },
    {
     "name": "stdout",
     "output_type": "stream",
     "text": [
      "\n",
      "Processing Query 741/1034 (ID: spider_dev_q740_idx740): 'What are the earnings of poker players, ordered descending by value?' (True DB: poker_player)\n"
     ]
    },
    {
     "data": {
      "application/vnd.jupyter.widget-view+json": {
       "model_id": "311df563b07d469f9d768c9194d0b026",
       "version_major": 2,
       "version_minor": 0
      },
      "text/plain": [
       "  DBs for Q:spider_dev_q740_idx7:   0%|          | 0/166 [00:00<?, ?it/s]"
      ]
     },
     "metadata": {},
     "output_type": "display_data"
    },
    {
     "name": "stdout",
     "output_type": "stream",
     "text": [
      "\n",
      "Processing Query 742/1034 (ID: spider_dev_q741_idx741): 'Find the number of employees hired in each shop; show the shop name as well.' (True DB: employee_hire_evaluation)\n"
     ]
    },
    {
     "data": {
      "application/vnd.jupyter.widget-view+json": {
       "model_id": "b6672d25aa784057a1883ceb8e37013e",
       "version_major": 2,
       "version_minor": 0
      },
      "text/plain": [
       "  DBs for Q:spider_dev_q741_idx7:   0%|          | 0/166 [00:00<?, ?it/s]"
      ]
     },
     "metadata": {},
     "output_type": "display_data"
    },
    {
     "name": "stdout",
     "output_type": "stream",
     "text": [
      "\n",
      "Processing Query 743/1034 (ID: spider_dev_q742_idx742): 'Show the names and grades of each high schooler.' (True DB: network_1)\n"
     ]
    },
    {
     "data": {
      "application/vnd.jupyter.widget-view+json": {
       "model_id": "fc678287e890460686805aca08936b3e",
       "version_major": 2,
       "version_minor": 0
      },
      "text/plain": [
       "  DBs for Q:spider_dev_q742_idx7:   0%|          | 0/166 [00:00<?, ?it/s]"
      ]
     },
     "metadata": {},
     "output_type": "display_data"
    },
    {
     "name": "stdout",
     "output_type": "stream",
     "text": [
      "\n",
      "Processing Query 744/1034 (ID: spider_dev_q743_idx743): 'Show location and name for all stadiums with a capacity between 5000 and 10000.' (True DB: concert_singer)\n"
     ]
    },
    {
     "data": {
      "application/vnd.jupyter.widget-view+json": {
       "model_id": "d1bb375c40334cd790779d016701fab3",
       "version_major": 2,
       "version_minor": 0
      },
      "text/plain": [
       "  DBs for Q:spider_dev_q743_idx7:   0%|          | 0/166 [00:00<?, ?it/s]"
      ]
     },
     "metadata": {},
     "output_type": "display_data"
    },
    {
     "name": "stdout",
     "output_type": "stream",
     "text": [
      "\n",
      "Processing Query 745/1034 (ID: spider_dev_q744_idx744): 'Which Asian countries have a population that is larger than any country in Africa?' (True DB: world_1)\n"
     ]
    },
    {
     "data": {
      "application/vnd.jupyter.widget-view+json": {
       "model_id": "2a814aad3dac4c5a93cd490ef734ecb9",
       "version_major": 2,
       "version_minor": 0
      },
      "text/plain": [
       "  DBs for Q:spider_dev_q744_idx7:   0%|          | 0/166 [00:00<?, ?it/s]"
      ]
     },
     "metadata": {},
     "output_type": "display_data"
    },
    {
     "name": "stdout",
     "output_type": "stream",
     "text": [
      "\n",
      "Processing Query 746/1034 (ID: spider_dev_q745_idx745): 'What is the total number of singers?' (True DB: concert_singer)\n"
     ]
    },
    {
     "data": {
      "application/vnd.jupyter.widget-view+json": {
       "model_id": "c01d3f25219d4c4db0c9d264ccdb4a6f",
       "version_major": 2,
       "version_minor": 0
      },
      "text/plain": [
       "  DBs for Q:spider_dev_q745_idx7:   0%|          | 0/166 [00:00<?, ?it/s]"
      ]
     },
     "metadata": {},
     "output_type": "display_data"
    },
    {
     "name": "stdout",
     "output_type": "stream",
     "text": [
      "\n",
      "Processing Query 747/1034 (ID: spider_dev_q746_idx746): 'In 1980, how many cars were made?' (True DB: car_1)\n"
     ]
    },
    {
     "data": {
      "application/vnd.jupyter.widget-view+json": {
       "model_id": "d7594402aae74d179627254ec09cdafc",
       "version_major": 2,
       "version_minor": 0
      },
      "text/plain": [
       "  DBs for Q:spider_dev_q746_idx7:   0%|          | 0/166 [00:00<?, ?it/s]"
      ]
     },
     "metadata": {},
     "output_type": "display_data"
    },
    {
     "name": "stdout",
     "output_type": "stream",
     "text": [
      "\n",
      "Processing Query 748/1034 (ID: spider_dev_q747_idx747): 'Give the total population and average surface area corresponding to countries in North America that have a surface area greater than 3000 .' (True DB: world_1)\n"
     ]
    },
    {
     "data": {
      "application/vnd.jupyter.widget-view+json": {
       "model_id": "36fa3ab0f8394252979bdd74064dea40",
       "version_major": 2,
       "version_minor": 0
      },
      "text/plain": [
       "  DBs for Q:spider_dev_q747_idx7:   0%|          | 0/166 [00:00<?, ?it/s]"
      ]
     },
     "metadata": {},
     "output_type": "display_data"
    },
    {
     "name": "stdout",
     "output_type": "stream",
     "text": [
      "\n",
      "Processing Query 749/1034 (ID: spider_dev_q748_idx748): 'List each charge type and its amount.' (True DB: dog_kennels)\n"
     ]
    },
    {
     "data": {
      "application/vnd.jupyter.widget-view+json": {
       "model_id": "a8067bac775947abb1831a30160b8c05",
       "version_major": 2,
       "version_minor": 0
      },
      "text/plain": [
       "  DBs for Q:spider_dev_q748_idx7:   0%|          | 0/166 [00:00<?, ?it/s]"
      ]
     },
     "metadata": {},
     "output_type": "display_data"
    },
    {
     "name": "stdout",
     "output_type": "stream",
     "text": [
      "\n",
      "Processing Query 750/1034 (ID: spider_dev_q749_idx749): 'Which owner has paid the largest amount of money in total for their dogs? Show the owner id and zip code.' (True DB: dog_kennels)\n"
     ]
    },
    {
     "data": {
      "application/vnd.jupyter.widget-view+json": {
       "model_id": "40b7c1e2abc74916924c6ddef969d15b",
       "version_major": 2,
       "version_minor": 0
      },
      "text/plain": [
       "  DBs for Q:spider_dev_q749_idx7:   0%|          | 0/166 [00:00<?, ?it/s]"
      ]
     },
     "metadata": {},
     "output_type": "display_data"
    },
    {
     "name": "stdout",
     "output_type": "stream",
     "text": [
      "\n",
      "Processing Query 751/1034 (ID: spider_dev_q750_idx750): 'What are the ids for templates that are not used in any documents?' (True DB: cre_Doc_Template_Mgt)\n"
     ]
    },
    {
     "data": {
      "application/vnd.jupyter.widget-view+json": {
       "model_id": "abc212e3a9a34a00b2c3122bbf67c973",
       "version_major": 2,
       "version_minor": 0
      },
      "text/plain": [
       "  DBs for Q:spider_dev_q750_idx7:   0%|          | 0/166 [00:00<?, ?it/s]"
      ]
     },
     "metadata": {},
     "output_type": "display_data"
    },
    {
     "name": "stdout",
     "output_type": "stream",
     "text": [
      "\n",
      "Processing Query 752/1034 (ID: spider_dev_q751_idx751): 'What is the name of the singer with the largest net worth?' (True DB: singer)\n"
     ]
    },
    {
     "data": {
      "application/vnd.jupyter.widget-view+json": {
       "model_id": "feab866ccf704f13afe79733771adfa9",
       "version_major": 2,
       "version_minor": 0
      },
      "text/plain": [
       "  DBs for Q:spider_dev_q751_idx7:   0%|          | 0/166 [00:00<?, ?it/s]"
      ]
     },
     "metadata": {},
     "output_type": "display_data"
    },
    {
     "name": "stdout",
     "output_type": "stream",
     "text": [
      "\n",
      "Processing Query 753/1034 (ID: spider_dev_q752_idx752): 'What is the maximum and minimum share for the TV series?' (True DB: tvshow)\n"
     ]
    },
    {
     "data": {
      "application/vnd.jupyter.widget-view+json": {
       "model_id": "b56b44396b6b45df9ba9604a9c01689e",
       "version_major": 2,
       "version_minor": 0
      },
      "text/plain": [
       "  DBs for Q:spider_dev_q752_idx7:   0%|          | 0/166 [00:00<?, ?it/s]"
      ]
     },
     "metadata": {},
     "output_type": "display_data"
    },
    {
     "name": "stdout",
     "output_type": "stream",
     "text": [
      "\n",
      "Processing Query 754/1034 (ID: spider_dev_q753_idx753): 'Which breed do the most dogs have? Give me the breed name.' (True DB: dog_kennels)\n"
     ]
    },
    {
     "data": {
      "application/vnd.jupyter.widget-view+json": {
       "model_id": "787ca1aa38a940eb9c7ee42fff9bd6d5",
       "version_major": 2,
       "version_minor": 0
      },
      "text/plain": [
       "  DBs for Q:spider_dev_q753_idx7:   0%|          | 0/166 [00:00<?, ?it/s]"
      ]
     },
     "metadata": {},
     "output_type": "display_data"
    },
    {
     "name": "stdout",
     "output_type": "stream",
     "text": [
      "\n",
      "Processing Query 755/1034 (ID: spider_dev_q754_idx754): 'What is the average weight and year for each year?' (True DB: car_1)\n"
     ]
    },
    {
     "data": {
      "application/vnd.jupyter.widget-view+json": {
       "model_id": "8369d5560c214609babbf98775962ddf",
       "version_major": 2,
       "version_minor": 0
      },
      "text/plain": [
       "  DBs for Q:spider_dev_q754_idx7:   0%|          | 0/166 [00:00<?, ?it/s]"
      ]
     },
     "metadata": {},
     "output_type": "display_data"
    },
    {
     "name": "stdout",
     "output_type": "stream",
     "text": [
      "\n",
      "Processing Query 756/1034 (ID: spider_dev_q755_idx755): 'What are the names of people who do not play poker?' (True DB: poker_player)\n"
     ]
    },
    {
     "data": {
      "application/vnd.jupyter.widget-view+json": {
       "model_id": "11cd7438610c48d6aa9afbc2b1332ab8",
       "version_major": 2,
       "version_minor": 0
      },
      "text/plain": [
       "  DBs for Q:spider_dev_q755_idx7:   0%|          | 0/166 [00:00<?, ?it/s]"
      ]
     },
     "metadata": {},
     "output_type": "display_data"
    },
    {
     "name": "stdout",
     "output_type": "stream",
     "text": [
      "\n",
      "Processing Query 757/1034 (ID: spider_dev_q756_idx756): 'What is the average and maximum capacities for all stadiums ?' (True DB: concert_singer)\n"
     ]
    },
    {
     "data": {
      "application/vnd.jupyter.widget-view+json": {
       "model_id": "10ea76ec957c409980a1a2034795a9dc",
       "version_major": 2,
       "version_minor": 0
      },
      "text/plain": [
       "  DBs for Q:spider_dev_q756_idx7:   0%|          | 0/166 [00:00<?, ?it/s]"
      ]
     },
     "metadata": {},
     "output_type": "display_data"
    },
    {
     "name": "stdout",
     "output_type": "stream",
     "text": [
      "\n",
      "Processing Query 758/1034 (ID: spider_dev_q757_idx757): 'List the first and last name of all players in the order of birth date.' (True DB: wta_1)\n"
     ]
    },
    {
     "data": {
      "application/vnd.jupyter.widget-view+json": {
       "model_id": "576f46f04ef841898c8d4b68801d8b4a",
       "version_major": 2,
       "version_minor": 0
      },
      "text/plain": [
       "  DBs for Q:spider_dev_q757_idx7:   0%|          | 0/166 [00:00<?, ?it/s]"
      ]
     },
     "metadata": {},
     "output_type": "display_data"
    },
    {
     "name": "stdout",
     "output_type": "stream",
     "text": [
      "\n",
      "Processing Query 759/1034 (ID: spider_dev_q758_idx758): 'For each stadium, how many concerts play there?' (True DB: concert_singer)\n"
     ]
    },
    {
     "data": {
      "application/vnd.jupyter.widget-view+json": {
       "model_id": "072a355f3be94148945deb44eb70fe08",
       "version_major": 2,
       "version_minor": 0
      },
      "text/plain": [
       "  DBs for Q:spider_dev_q758_idx7:   0%|          | 0/166 [00:00<?, ?it/s]"
      ]
     },
     "metadata": {},
     "output_type": "display_data"
    },
    {
     "name": "stdout",
     "output_type": "stream",
     "text": [
      "\n",
      "Processing Query 760/1034 (ID: spider_dev_q759_idx759): 'Show names of teachers and the courses they are arranged to teach in ascending alphabetical order of the teacher's name.' (True DB: course_teach)\n"
     ]
    },
    {
     "data": {
      "application/vnd.jupyter.widget-view+json": {
       "model_id": "7072b0f067144f1b831c0b49ab9a0aa6",
       "version_major": 2,
       "version_minor": 0
      },
      "text/plain": [
       "  DBs for Q:spider_dev_q759_idx7:   0%|          | 0/166 [00:00<?, ?it/s]"
      ]
     },
     "metadata": {},
     "output_type": "display_data"
    },
    {
     "name": "stdout",
     "output_type": "stream",
     "text": [
      "\n",
      "Processing Query 761/1034 (ID: spider_dev_q760_idx760): 'Show the stadium name and capacity with most number of concerts in year 2014 or after.' (True DB: concert_singer)\n"
     ]
    },
    {
     "data": {
      "application/vnd.jupyter.widget-view+json": {
       "model_id": "97b31a997bf84083a17141a42149d587",
       "version_major": 2,
       "version_minor": 0
      },
      "text/plain": [
       "  DBs for Q:spider_dev_q760_idx7:   0%|          | 0/166 [00:00<?, ?it/s]"
      ]
     },
     "metadata": {},
     "output_type": "display_data"
    },
    {
     "name": "stdout",
     "output_type": "stream",
     "text": [
      "\n",
      "Processing Query 762/1034 (ID: spider_dev_q761_idx761): 'What is the name of the course with the most students enrolled?' (True DB: student_transcripts_tracking)\n"
     ]
    },
    {
     "data": {
      "application/vnd.jupyter.widget-view+json": {
       "model_id": "e92d0038a1ff44f79324c65e23a4df4e",
       "version_major": 2,
       "version_minor": 0
      },
      "text/plain": [
       "  DBs for Q:spider_dev_q761_idx7:   0%|          | 0/166 [00:00<?, ?it/s]"
      ]
     },
     "metadata": {},
     "output_type": "display_data"
    },
    {
     "name": "stdout",
     "output_type": "stream",
     "text": [
      "\n",
      "Processing Query 763/1034 (ID: spider_dev_q762_idx762): 'Return the codes of countries that do not speak English and do not have Republics for governments.' (True DB: world_1)\n"
     ]
    },
    {
     "data": {
      "application/vnd.jupyter.widget-view+json": {
       "model_id": "8b7ab3658aef4d16a7c87a2076377db7",
       "version_major": 2,
       "version_minor": 0
      },
      "text/plain": [
       "  DBs for Q:spider_dev_q762_idx7:   0%|          | 0/166 [00:00<?, ?it/s]"
      ]
     },
     "metadata": {},
     "output_type": "display_data"
    },
    {
     "name": "stdout",
     "output_type": "stream",
     "text": [
      "\n",
      "Processing Query 764/1034 (ID: spider_dev_q763_idx763): 'Return the name of the airport with code 'AKO'.' (True DB: flight_2)\n"
     ]
    },
    {
     "data": {
      "application/vnd.jupyter.widget-view+json": {
       "model_id": "486fd4cab6114b51b83e6f0e4a11f641",
       "version_major": 2,
       "version_minor": 0
      },
      "text/plain": [
       "  DBs for Q:spider_dev_q763_idx7:   0%|          | 0/166 [00:00<?, ?it/s]"
      ]
     },
     "metadata": {},
     "output_type": "display_data"
    },
    {
     "name": "stdout",
     "output_type": "stream",
     "text": [
      "\n",
      "Processing Query 765/1034 (ID: spider_dev_q764_idx764): 'What are the notes of the death events which has substring 'East'?' (True DB: battle_death)\n"
     ]
    },
    {
     "data": {
      "application/vnd.jupyter.widget-view+json": {
       "model_id": "8cef55e9c06b4cf0a6c426b8e331cb5a",
       "version_major": 2,
       "version_minor": 0
      },
      "text/plain": [
       "  DBs for Q:spider_dev_q764_idx7:   0%|          | 0/166 [00:00<?, ?it/s]"
      ]
     },
     "metadata": {},
     "output_type": "display_data"
    },
    {
     "name": "stdout",
     "output_type": "stream",
     "text": [
      "\n",
      "Processing Query 766/1034 (ID: spider_dev_q765_idx765): 'What are the different first names and ages of the students who do have pets?' (True DB: pets_1)\n"
     ]
    },
    {
     "data": {
      "application/vnd.jupyter.widget-view+json": {
       "model_id": "7459338ffd8b4ed69f26d12608027e93",
       "version_major": 2,
       "version_minor": 0
      },
      "text/plain": [
       "  DBs for Q:spider_dev_q765_idx7:   0%|          | 0/166 [00:00<?, ?it/s]"
      ]
     },
     "metadata": {},
     "output_type": "display_data"
    },
    {
     "name": "stdout",
     "output_type": "stream",
     "text": [
      "\n",
      "Processing Query 767/1034 (ID: spider_dev_q766_idx766): 'What is the mobile phone number of the student named Timmothy Ward ?' (True DB: student_transcripts_tracking)\n"
     ]
    },
    {
     "data": {
      "application/vnd.jupyter.widget-view+json": {
       "model_id": "431fb1e974c54119a8d0aedaec3b8b4f",
       "version_major": 2,
       "version_minor": 0
      },
      "text/plain": [
       "  DBs for Q:spider_dev_q766_idx7:   0%|          | 0/166 [00:00<?, ?it/s]"
      ]
     },
     "metadata": {},
     "output_type": "display_data"
    },
    {
     "name": "stdout",
     "output_type": "stream",
     "text": [
      "\n",
      "Processing Query 768/1034 (ID: spider_dev_q767_idx767): 'What are the countries where either English or Dutch is the official language ?' (True DB: world_1)\n"
     ]
    },
    {
     "data": {
      "application/vnd.jupyter.widget-view+json": {
       "model_id": "79e83eccaeb547cea7c27bb3ed122b44",
       "version_major": 2,
       "version_minor": 0
      },
      "text/plain": [
       "  DBs for Q:spider_dev_q767_idx7:   0%|          | 0/166 [00:00<?, ?it/s]"
      ]
     },
     "metadata": {},
     "output_type": "display_data"
    },
    {
     "name": "stdout",
     "output_type": "stream",
     "text": [
      "\n",
      "Processing Query 769/1034 (ID: spider_dev_q768_idx768): 'Which owners live in the state whose name contains the substring 'North'? List his first name, last name and email.' (True DB: dog_kennels)\n"
     ]
    },
    {
     "data": {
      "application/vnd.jupyter.widget-view+json": {
       "model_id": "a37ac43a171e4a1abac88e08507c2316",
       "version_major": 2,
       "version_minor": 0
      },
      "text/plain": [
       "  DBs for Q:spider_dev_q768_idx7:   0%|          | 0/166 [00:00<?, ?it/s]"
      ]
     },
     "metadata": {},
     "output_type": "display_data"
    },
    {
     "name": "stdout",
     "output_type": "stream",
     "text": [
      "\n",
      "Processing Query 770/1034 (ID: spider_dev_q769_idx769): 'What is the name and capacity for the stadium with highest average attendance?' (True DB: concert_singer)\n"
     ]
    },
    {
     "data": {
      "application/vnd.jupyter.widget-view+json": {
       "model_id": "a97fc4552df24c72abe4bd382a36d0a6",
       "version_major": 2,
       "version_minor": 0
      },
      "text/plain": [
       "  DBs for Q:spider_dev_q769_idx7:   0%|          | 0/166 [00:00<?, ?it/s]"
      ]
     },
     "metadata": {},
     "output_type": "display_data"
    },
    {
     "name": "stdout",
     "output_type": "stream",
     "text": [
      "\n",
      "Processing Query 771/1034 (ID: spider_dev_q770_idx770): 'Find the semester when both Master students and Bachelor students got enrolled in.' (True DB: student_transcripts_tracking)\n"
     ]
    },
    {
     "data": {
      "application/vnd.jupyter.widget-view+json": {
       "model_id": "df93f1fb08614eb9a5000e0aa004510e",
       "version_major": 2,
       "version_minor": 0
      },
      "text/plain": [
       "  DBs for Q:spider_dev_q770_idx7:   0%|          | 0/166 [00:00<?, ?it/s]"
      ]
     },
     "metadata": {},
     "output_type": "display_data"
    },
    {
     "name": "stdout",
     "output_type": "stream",
     "text": [
      "\n",
      "Processing Query 772/1034 (ID: spider_dev_q771_idx771): 'What are the number of concerts that occurred in the stadium with the largest capacity ?' (True DB: concert_singer)\n"
     ]
    },
    {
     "data": {
      "application/vnd.jupyter.widget-view+json": {
       "model_id": "b058c68944934f1a99cd35463ab1e909",
       "version_major": 2,
       "version_minor": 0
      },
      "text/plain": [
       "  DBs for Q:spider_dev_q771_idx7:   0%|          | 0/166 [00:00<?, ?it/s]"
      ]
     },
     "metadata": {},
     "output_type": "display_data"
    },
    {
     "name": "stdout",
     "output_type": "stream",
     "text": [
      "\n",
      "Processing Query 773/1034 (ID: spider_dev_q772_idx772): 'How many different addresses do the students currently live?' (True DB: student_transcripts_tracking)\n"
     ]
    },
    {
     "data": {
      "application/vnd.jupyter.widget-view+json": {
       "model_id": "058cfb452abe4d54a2dae9f31071413d",
       "version_major": 2,
       "version_minor": 0
      },
      "text/plain": [
       "  DBs for Q:spider_dev_q772_idx7:   0%|          | 0/166 [00:00<?, ?it/s]"
      ]
     },
     "metadata": {},
     "output_type": "display_data"
    },
    {
     "name": "stdout",
     "output_type": "stream",
     "text": [
      "\n",
      "Processing Query 774/1034 (ID: spider_dev_q773_idx773): 'Which department offers the most number of degrees? List department name and id.' (True DB: student_transcripts_tracking)\n"
     ]
    },
    {
     "data": {
      "application/vnd.jupyter.widget-view+json": {
       "model_id": "42e8c2b6e1d24c398d8b5bda6cf29d0e",
       "version_major": 2,
       "version_minor": 0
      },
      "text/plain": [
       "  DBs for Q:spider_dev_q773_idx7:   0%|          | 0/166 [00:00<?, ?it/s]"
      ]
     },
     "metadata": {},
     "output_type": "display_data"
    },
    {
     "name": "stdout",
     "output_type": "stream",
     "text": [
      "\n",
      "Processing Query 775/1034 (ID: spider_dev_q774_idx774): 'What are the ids of the TV channels that do not have any cartoons directed by Ben Jones?' (True DB: tvshow)\n"
     ]
    },
    {
     "data": {
      "application/vnd.jupyter.widget-view+json": {
       "model_id": "08969dcdb82e4780ba3a14b812c7fbdb",
       "version_major": 2,
       "version_minor": 0
      },
      "text/plain": [
       "  DBs for Q:spider_dev_q774_idx7:   0%|          | 0/166 [00:00<?, ?it/s]"
      ]
     },
     "metadata": {},
     "output_type": "display_data"
    },
    {
     "name": "stdout",
     "output_type": "stream",
     "text": [
      "\n",
      "Processing Query 776/1034 (ID: spider_dev_q775_idx775): 'What is the name of each continent and how many car makers are there in each one?' (True DB: car_1)\n"
     ]
    },
    {
     "data": {
      "application/vnd.jupyter.widget-view+json": {
       "model_id": "700849bf9597439ab62fd6364e8c6480",
       "version_major": 2,
       "version_minor": 0
      },
      "text/plain": [
       "  DBs for Q:spider_dev_q775_idx7:   0%|          | 0/166 [00:00<?, ?it/s]"
      ]
     },
     "metadata": {},
     "output_type": "display_data"
    },
    {
     "name": "stdout",
     "output_type": "stream",
     "text": [
      "\n",
      "Processing Query 777/1034 (ID: spider_dev_q776_idx776): 'Show the names of students who have at least 2 likes.' (True DB: network_1)\n"
     ]
    },
    {
     "data": {
      "application/vnd.jupyter.widget-view+json": {
       "model_id": "7c51beca7b2046c19e1cfe256dd23316",
       "version_major": 2,
       "version_minor": 0
      },
      "text/plain": [
       "  DBs for Q:spider_dev_q776_idx7:   0%|          | 0/166 [00:00<?, ?it/s]"
      ]
     },
     "metadata": {},
     "output_type": "display_data"
    },
    {
     "name": "stdout",
     "output_type": "stream",
     "text": [
      "\n",
      "Processing Query 778/1034 (ID: spider_dev_q777_idx777): 'Which of the countries has the most car makers? List the country name.' (True DB: car_1)\n"
     ]
    },
    {
     "data": {
      "application/vnd.jupyter.widget-view+json": {
       "model_id": "25a92f18011e4fb6bb08e935355eaffc",
       "version_major": 2,
       "version_minor": 0
      },
      "text/plain": [
       "  DBs for Q:spider_dev_q777_idx7:   0%|          | 0/166 [00:00<?, ?it/s]"
      ]
     },
     "metadata": {},
     "output_type": "display_data"
    },
    {
     "name": "stdout",
     "output_type": "stream",
     "text": [
      "\n",
      "Processing Query 779/1034 (ID: spider_dev_q778_idx778): 'What is the first name of every student who has a dog but does not have a cat?' (True DB: pets_1)\n"
     ]
    },
    {
     "data": {
      "application/vnd.jupyter.widget-view+json": {
       "model_id": "fc12225cbf384791bfa66380b99e251a",
       "version_major": 2,
       "version_minor": 0
      },
      "text/plain": [
       "  DBs for Q:spider_dev_q778_idx7:   0%|          | 0/166 [00:00<?, ?it/s]"
      ]
     },
     "metadata": {},
     "output_type": "display_data"
    },
    {
     "name": "stdout",
     "output_type": "stream",
     "text": [
      "\n",
      "Processing Query 780/1034 (ID: spider_dev_q779_idx779): 'Which models are lighter than 3500 but not built by the 'Ford Motor Company'?' (True DB: car_1)\n"
     ]
    },
    {
     "data": {
      "application/vnd.jupyter.widget-view+json": {
       "model_id": "ba3c120af8ea4e83a6fd5f01d2402ef6",
       "version_major": 2,
       "version_minor": 0
      },
      "text/plain": [
       "  DBs for Q:spider_dev_q779_idx7:   0%|          | 0/166 [00:00<?, ?it/s]"
      ]
     },
     "metadata": {},
     "output_type": "display_data"
    },
    {
     "name": "stdout",
     "output_type": "stream",
     "text": [
      "\n",
      "Processing Query 781/1034 (ID: spider_dev_q780_idx780): 'Give the code of the airport with the least flights.' (True DB: flight_2)\n"
     ]
    },
    {
     "data": {
      "application/vnd.jupyter.widget-view+json": {
       "model_id": "0fff77101fcf4a68866afe0d6e6e6648",
       "version_major": 2,
       "version_minor": 0
      },
      "text/plain": [
       "  DBs for Q:spider_dev_q780_idx7:   0%|          | 0/166 [00:00<?, ?it/s]"
      ]
     },
     "metadata": {},
     "output_type": "display_data"
    },
    {
     "name": "stdout",
     "output_type": "stream",
     "text": [
      "\n",
      "Processing Query 782/1034 (ID: spider_dev_q781_idx781): 'Return the names of poker players sorted by their earnings descending.' (True DB: poker_player)\n"
     ]
    },
    {
     "data": {
      "application/vnd.jupyter.widget-view+json": {
       "model_id": "feed981772fd4db1bd5daf8d3e0df4bf",
       "version_major": 2,
       "version_minor": 0
      },
      "text/plain": [
       "  DBs for Q:spider_dev_q781_idx7:   0%|          | 0/166 [00:00<?, ?it/s]"
      ]
     },
     "metadata": {},
     "output_type": "display_data"
    },
    {
     "name": "stdout",
     "output_type": "stream",
     "text": [
      "\n",
      "Processing Query 783/1034 (ID: spider_dev_q782_idx782): 'Return the id of the document with the fewest paragraphs.' (True DB: cre_Doc_Template_Mgt)\n"
     ]
    },
    {
     "data": {
      "application/vnd.jupyter.widget-view+json": {
       "model_id": "861ab0bcc20647f0a7a851e7023b7e6f",
       "version_major": 2,
       "version_minor": 0
      },
      "text/plain": [
       "  DBs for Q:spider_dev_q782_idx7:   0%|          | 0/166 [00:00<?, ?it/s]"
      ]
     },
     "metadata": {},
     "output_type": "display_data"
    },
    {
     "name": "stdout",
     "output_type": "stream",
     "text": [
      "\n",
      "Processing Query 784/1034 (ID: spider_dev_q783_idx783): 'What are the names of the countries that are in the continent of Europe and have a population of 80000?' (True DB: world_1)\n"
     ]
    },
    {
     "data": {
      "application/vnd.jupyter.widget-view+json": {
       "model_id": "fbdac996a58e4d88b60f89ff998acf60",
       "version_major": 2,
       "version_minor": 0
      },
      "text/plain": [
       "  DBs for Q:spider_dev_q783_idx7:   0%|          | 0/166 [00:00<?, ?it/s]"
      ]
     },
     "metadata": {},
     "output_type": "display_data"
    },
    {
     "name": "stdout",
     "output_type": "stream",
     "text": [
      "\n",
      "Processing Query 785/1034 (ID: spider_dev_q784_idx784): 'Which language is the most popular in Aruba?' (True DB: world_1)\n"
     ]
    },
    {
     "data": {
      "application/vnd.jupyter.widget-view+json": {
       "model_id": "5561ebff2a564a188a7dcf0d40598135",
       "version_major": 2,
       "version_minor": 0
      },
      "text/plain": [
       "  DBs for Q:spider_dev_q784_idx7:   0%|          | 0/166 [00:00<?, ?it/s]"
      ]
     },
     "metadata": {},
     "output_type": "display_data"
    },
    {
     "name": "stdout",
     "output_type": "stream",
     "text": [
      "\n",
      "Processing Query 786/1034 (ID: spider_dev_q785_idx785): 'What is the id of the semester that had both Masters and Bachelors students enrolled?' (True DB: student_transcripts_tracking)\n"
     ]
    },
    {
     "data": {
      "application/vnd.jupyter.widget-view+json": {
       "model_id": "19f8f33c8a5543b08e0fb337096f714e",
       "version_major": 2,
       "version_minor": 0
      },
      "text/plain": [
       "  DBs for Q:spider_dev_q785_idx7:   0%|          | 0/166 [00:00<?, ?it/s]"
      ]
     },
     "metadata": {},
     "output_type": "display_data"
    },
    {
     "name": "stdout",
     "output_type": "stream",
     "text": [
      "\n",
      "Processing Query 787/1034 (ID: spider_dev_q786_idx786): 'How many concerts occurred in 2014 or 2015?' (True DB: concert_singer)\n"
     ]
    },
    {
     "data": {
      "application/vnd.jupyter.widget-view+json": {
       "model_id": "5fc1e09efcba47d7ac082ddd25f76037",
       "version_major": 2,
       "version_minor": 0
      },
      "text/plain": [
       "  DBs for Q:spider_dev_q786_idx7:   0%|          | 0/166 [00:00<?, ?it/s]"
      ]
     },
     "metadata": {},
     "output_type": "display_data"
    },
    {
     "name": "stdout",
     "output_type": "stream",
     "text": [
      "\n",
      "Processing Query 788/1034 (ID: spider_dev_q787_idx787): 'What country is Jetblue Airways affiliated with?' (True DB: flight_2)\n"
     ]
    },
    {
     "data": {
      "application/vnd.jupyter.widget-view+json": {
       "model_id": "b0f303790dc7415889506b05dbf32904",
       "version_major": 2,
       "version_minor": 0
      },
      "text/plain": [
       "  DBs for Q:spider_dev_q787_idx7:   0%|          | 0/166 [00:00<?, ?it/s]"
      ]
     },
     "metadata": {},
     "output_type": "display_data"
    },
    {
     "name": "stdout",
     "output_type": "stream",
     "text": [
      "\n",
      "Processing Query 789/1034 (ID: spider_dev_q788_idx788): 'What is the Package Option of TV Channel with serial name \"Sky Radio\"?' (True DB: tvshow)\n"
     ]
    },
    {
     "data": {
      "application/vnd.jupyter.widget-view+json": {
       "model_id": "897956914a3f41868d65cd2f977735e7",
       "version_major": 2,
       "version_minor": 0
      },
      "text/plain": [
       "  DBs for Q:spider_dev_q788_idx7:   0%|          | 0/166 [00:00<?, ?it/s]"
      ]
     },
     "metadata": {},
     "output_type": "display_data"
    },
    {
     "name": "stdout",
     "output_type": "stream",
     "text": [
      "\n",
      "Processing Query 790/1034 (ID: spider_dev_q789_idx789): 'What are the countries that have cartoons on TV that were written by Todd Casey?' (True DB: tvshow)\n"
     ]
    },
    {
     "data": {
      "application/vnd.jupyter.widget-view+json": {
       "model_id": "c7983e96950846fe9d5ae53a75a58251",
       "version_major": 2,
       "version_minor": 0
      },
      "text/plain": [
       "  DBs for Q:spider_dev_q789_idx7:   0%|          | 0/166 [00:00<?, ?it/s]"
      ]
     },
     "metadata": {},
     "output_type": "display_data"
    },
    {
     "name": "stdout",
     "output_type": "stream",
     "text": [
      "\n",
      "Processing Query 791/1034 (ID: spider_dev_q790_idx790): 'List the language used least number of TV Channel. List language and number of TV Channel.' (True DB: tvshow)\n"
     ]
    },
    {
     "data": {
      "application/vnd.jupyter.widget-view+json": {
       "model_id": "37dd7ea355084905911261f1aabd52eb",
       "version_major": 2,
       "version_minor": 0
      },
      "text/plain": [
       "  DBs for Q:spider_dev_q790_idx7:   0%|          | 0/166 [00:00<?, ?it/s]"
      ]
     },
     "metadata": {},
     "output_type": "display_data"
    },
    {
     "name": "stdout",
     "output_type": "stream",
     "text": [
      "\n",
      "Processing Query 792/1034 (ID: spider_dev_q791_idx791): 'What are the names of the teachers whose courses have not been arranged?' (True DB: course_teach)\n"
     ]
    },
    {
     "data": {
      "application/vnd.jupyter.widget-view+json": {
       "model_id": "2b4e57ac86f14daca1875cf9725d20ab",
       "version_major": 2,
       "version_minor": 0
      },
      "text/plain": [
       "  DBs for Q:spider_dev_q791_idx7:   0%|          | 0/166 [00:00<?, ?it/s]"
      ]
     },
     "metadata": {},
     "output_type": "display_data"
    },
    {
     "name": "stdout",
     "output_type": "stream",
     "text": [
      "\n",
      "Processing Query 793/1034 (ID: spider_dev_q792_idx792): 'Return the number of likes that the high schooler named Kyle has.' (True DB: network_1)\n"
     ]
    },
    {
     "data": {
      "application/vnd.jupyter.widget-view+json": {
       "model_id": "caa09f4ab0954c0e85e0934ca88ed61e",
       "version_major": 2,
       "version_minor": 0
      },
      "text/plain": [
       "  DBs for Q:spider_dev_q792_idx7:   0%|          | 0/166 [00:00<?, ?it/s]"
      ]
     },
     "metadata": {},
     "output_type": "display_data"
    },
    {
     "name": "stdout",
     "output_type": "stream",
     "text": [
      "\n",
      "Processing Query 794/1034 (ID: spider_dev_q793_idx793): 'List the airport code and name in the city of Anthony.' (True DB: flight_2)\n"
     ]
    },
    {
     "data": {
      "application/vnd.jupyter.widget-view+json": {
       "model_id": "efd547f9d40d48308fbf3521836e3535",
       "version_major": 2,
       "version_minor": 0
      },
      "text/plain": [
       "  DBs for Q:spider_dev_q793_idx7:   0%|          | 0/166 [00:00<?, ?it/s]"
      ]
     },
     "metadata": {},
     "output_type": "display_data"
    },
    {
     "name": "stdout",
     "output_type": "stream",
     "text": [
      "\n",
      "Processing Query 795/1034 (ID: spider_dev_q794_idx794): 'Find the name of tourney that has more than 10 matches.' (True DB: wta_1)\n"
     ]
    },
    {
     "data": {
      "application/vnd.jupyter.widget-view+json": {
       "model_id": "2e9eb0227c5f464a945afe83adcf4a43",
       "version_major": 2,
       "version_minor": 0
      },
      "text/plain": [
       "  DBs for Q:spider_dev_q794_idx7:   0%|          | 0/166 [00:00<?, ?it/s]"
      ]
     },
     "metadata": {},
     "output_type": "display_data"
    },
    {
     "name": "stdout",
     "output_type": "stream",
     "text": [
      "\n",
      "Processing Query 796/1034 (ID: spider_dev_q795_idx795): 'What region does Angola belong to and what is its population?' (True DB: world_1)\n"
     ]
    },
    {
     "data": {
      "application/vnd.jupyter.widget-view+json": {
       "model_id": "c52e4609e07a4a508dc791cd371a8680",
       "version_major": 2,
       "version_minor": 0
      },
      "text/plain": [
       "  DBs for Q:spider_dev_q795_idx7:   0%|          | 0/166 [00:00<?, ?it/s]"
      ]
     },
     "metadata": {},
     "output_type": "display_data"
    },
    {
     "name": "stdout",
     "output_type": "stream",
     "text": [
      "\n",
      "Processing Query 797/1034 (ID: spider_dev_q796_idx796): 'What are the id, name and membership level of visitors who have spent the largest amount of money in total in all museum tickets?' (True DB: museum_visit)\n"
     ]
    },
    {
     "data": {
      "application/vnd.jupyter.widget-view+json": {
       "model_id": "d8a2b85d97ce432897f31e763ff6366a",
       "version_major": 2,
       "version_minor": 0
      },
      "text/plain": [
       "  DBs for Q:spider_dev_q796_idx7:   0%|          | 0/166 [00:00<?, ?it/s]"
      ]
     },
     "metadata": {},
     "output_type": "display_data"
    },
    {
     "name": "stdout",
     "output_type": "stream",
     "text": [
      "\n",
      "Processing Query 798/1034 (ID: spider_dev_q797_idx797): 'Find the government form name and total population for each government form whose average life expectancy is longer than 72.' (True DB: world_1)\n"
     ]
    },
    {
     "data": {
      "application/vnd.jupyter.widget-view+json": {
       "model_id": "ca87e9ed37934b32ab2170a4d42b4218",
       "version_major": 2,
       "version_minor": 0
      },
      "text/plain": [
       "  DBs for Q:spider_dev_q797_idx7:   0%|          | 0/166 [00:00<?, ?it/s]"
      ]
     },
     "metadata": {},
     "output_type": "display_data"
    },
    {
     "name": "stdout",
     "output_type": "stream",
     "text": [
      "\n",
      "Processing Query 799/1034 (ID: spider_dev_q798_idx798): 'Return the names of friends of the high school student Kyle.' (True DB: network_1)\n"
     ]
    },
    {
     "data": {
      "application/vnd.jupyter.widget-view+json": {
       "model_id": "c810fdd23d824079a8991f16e6d89977",
       "version_major": 2,
       "version_minor": 0
      },
      "text/plain": [
       "  DBs for Q:spider_dev_q798_idx7:   0%|          | 0/166 [00:00<?, ?it/s]"
      ]
     },
     "metadata": {},
     "output_type": "display_data"
    },
    {
     "name": "stdout",
     "output_type": "stream",
     "text": [
      "\n",
      "Processing Query 800/1034 (ID: spider_dev_q799_idx799): 'Which countries in europe have at least 3 car manufacturers?' (True DB: car_1)\n"
     ]
    },
    {
     "data": {
      "application/vnd.jupyter.widget-view+json": {
       "model_id": "3726d449bf594dfcb754651e171303e7",
       "version_major": 2,
       "version_minor": 0
      },
      "text/plain": [
       "  DBs for Q:spider_dev_q799_idx7:   0%|          | 0/166 [00:00<?, ?it/s]"
      ]
     },
     "metadata": {},
     "output_type": "display_data"
    },
    {
     "name": "stdout",
     "output_type": "stream",
     "text": [
      "\n",
      "Processing Query 801/1034 (ID: spider_dev_q800_idx800): 'What are the ids, version numbers, and type codes for each template?' (True DB: cre_Doc_Template_Mgt)\n"
     ]
    },
    {
     "data": {
      "application/vnd.jupyter.widget-view+json": {
       "model_id": "a9fcab4d078c4c6f9b28c81f112181b8",
       "version_major": 2,
       "version_minor": 0
      },
      "text/plain": [
       "  DBs for Q:spider_dev_q800_idx8:   0%|          | 0/166 [00:00<?, ?it/s]"
      ]
     },
     "metadata": {},
     "output_type": "display_data"
    },
    {
     "name": "stdout",
     "output_type": "stream",
     "text": [
      "\n",
      "Processing Query 802/1034 (ID: spider_dev_q801_idx801): 'What are the names of the contestants whose names are not 'Jessie Alloway'' (True DB: voter_1)\n"
     ]
    },
    {
     "data": {
      "application/vnd.jupyter.widget-view+json": {
       "model_id": "7886793a893d4b15a16a835c4af948b7",
       "version_major": 2,
       "version_minor": 0
      },
      "text/plain": [
       "  DBs for Q:spider_dev_q801_idx8:   0%|          | 0/166 [00:00<?, ?it/s]"
      ]
     },
     "metadata": {},
     "output_type": "display_data"
    },
    {
     "name": "stdout",
     "output_type": "stream",
     "text": [
      "\n",
      "Processing Query 803/1034 (ID: spider_dev_q802_idx802): 'What are the names of high schoolers who both have friends and are liked?' (True DB: network_1)\n"
     ]
    },
    {
     "data": {
      "application/vnd.jupyter.widget-view+json": {
       "model_id": "2af807327d804565976f25b7f4fe524a",
       "version_major": 2,
       "version_minor": 0
      },
      "text/plain": [
       "  DBs for Q:spider_dev_q802_idx8:   0%|          | 0/166 [00:00<?, ?it/s]"
      ]
     },
     "metadata": {},
     "output_type": "display_data"
    },
    {
     "name": "stdout",
     "output_type": "stream",
     "text": [
      "\n",
      "Processing Query 804/1034 (ID: spider_dev_q803_idx803): 'What is the airport name for airport 'AKO'?' (True DB: flight_2)\n"
     ]
    },
    {
     "data": {
      "application/vnd.jupyter.widget-view+json": {
       "model_id": "521736dad08a45e3adeb886f26829cf3",
       "version_major": 2,
       "version_minor": 0
      },
      "text/plain": [
       "  DBs for Q:spider_dev_q803_idx8:   0%|          | 0/166 [00:00<?, ?it/s]"
      ]
     },
     "metadata": {},
     "output_type": "display_data"
    },
    {
     "name": "stdout",
     "output_type": "stream",
     "text": [
      "\n",
      "Processing Query 805/1034 (ID: spider_dev_q804_idx804): 'Find the name of the winner who has the highest rank points and participated in the Australian Open tourney.' (True DB: wta_1)\n"
     ]
    },
    {
     "data": {
      "application/vnd.jupyter.widget-view+json": {
       "model_id": "b164333a1a904222afb66ee581b7d9cf",
       "version_major": 2,
       "version_minor": 0
      },
      "text/plain": [
       "  DBs for Q:spider_dev_q804_idx8:   0%|          | 0/166 [00:00<?, ?it/s]"
      ]
     },
     "metadata": {},
     "output_type": "display_data"
    },
    {
     "name": "stdout",
     "output_type": "stream",
     "text": [
      "\n",
      "Processing Query 806/1034 (ID: spider_dev_q805_idx805): 'Which countries have either English or Dutch as an official language?' (True DB: world_1)\n"
     ]
    },
    {
     "data": {
      "application/vnd.jupyter.widget-view+json": {
       "model_id": "0705d83eb68441c9a35af23ae5c23b2e",
       "version_major": 2,
       "version_minor": 0
      },
      "text/plain": [
       "  DBs for Q:spider_dev_q805_idx8:   0%|          | 0/166 [00:00<?, ?it/s]"
      ]
     },
     "metadata": {},
     "output_type": "display_data"
    },
    {
     "name": "stdout",
     "output_type": "stream",
     "text": [
      "\n",
      "Processing Query 807/1034 (ID: spider_dev_q806_idx806): 'How many car models are produced in the usa?' (True DB: car_1)\n"
     ]
    },
    {
     "data": {
      "application/vnd.jupyter.widget-view+json": {
       "model_id": "a640dcdf03cd4d5eae2bfe7c3f46a33a",
       "version_major": 2,
       "version_minor": 0
      },
      "text/plain": [
       "  DBs for Q:spider_dev_q806_idx8:   0%|          | 0/166 [00:00<?, ?it/s]"
      ]
     },
     "metadata": {},
     "output_type": "display_data"
    },
    {
     "name": "stdout",
     "output_type": "stream",
     "text": [
      "\n",
      "Processing Query 808/1034 (ID: spider_dev_q807_idx807): 'What is the average, minimum, and maximum age for all French singers?' (True DB: concert_singer)\n"
     ]
    },
    {
     "data": {
      "application/vnd.jupyter.widget-view+json": {
       "model_id": "bb1e0d2484524ce78d7fb6cc26061c91",
       "version_major": 2,
       "version_minor": 0
      },
      "text/plain": [
       "  DBs for Q:spider_dev_q807_idx8:   0%|          | 0/166 [00:00<?, ?it/s]"
      ]
     },
     "metadata": {},
     "output_type": "display_data"
    },
    {
     "name": "stdout",
     "output_type": "stream",
     "text": [
      "\n",
      "Processing Query 809/1034 (ID: spider_dev_q808_idx808): 'What are the Asian countries which have a population larger than that of any country in Africa?' (True DB: world_1)\n"
     ]
    },
    {
     "data": {
      "application/vnd.jupyter.widget-view+json": {
       "model_id": "422c779a7a8a455e9d95dae1ef3f7503",
       "version_major": 2,
       "version_minor": 0
      },
      "text/plain": [
       "  DBs for Q:spider_dev_q808_idx8:   0%|          | 0/166 [00:00<?, ?it/s]"
      ]
     },
     "metadata": {},
     "output_type": "display_data"
    },
    {
     "name": "stdout",
     "output_type": "stream",
     "text": [
      "\n",
      "Processing Query 810/1034 (ID: spider_dev_q809_idx809): 'How many countries does each continent have? List the continent id, continent name and the number of countries.' (True DB: car_1)\n"
     ]
    },
    {
     "data": {
      "application/vnd.jupyter.widget-view+json": {
       "model_id": "89ce4f570d334b7092f65cf3dee50bcd",
       "version_major": 2,
       "version_minor": 0
      },
      "text/plain": [
       "  DBs for Q:spider_dev_q809_idx8:   0%|          | 0/166 [00:00<?, ?it/s]"
      ]
     },
     "metadata": {},
     "output_type": "display_data"
    },
    {
     "name": "stdout",
     "output_type": "stream",
     "text": [
      "\n",
      "Processing Query 811/1034 (ID: spider_dev_q810_idx810): 'What are the codes of countries with more than 50 players?' (True DB: wta_1)\n"
     ]
    },
    {
     "data": {
      "application/vnd.jupyter.widget-view+json": {
       "model_id": "4c39eda1d9ca4378956590fa0742e7b9",
       "version_major": 2,
       "version_minor": 0
      },
      "text/plain": [
       "  DBs for Q:spider_dev_q810_idx8:   0%|          | 0/166 [00:00<?, ?it/s]"
      ]
     },
     "metadata": {},
     "output_type": "display_data"
    },
    {
     "name": "stdout",
     "output_type": "stream",
     "text": [
      "\n",
      "Processing Query 812/1034 (ID: spider_dev_q811_idx811): 'What are the names of the singers who are not French citizens?' (True DB: singer)\n"
     ]
    },
    {
     "data": {
      "application/vnd.jupyter.widget-view+json": {
       "model_id": "2b6000974bbb44c4ae5c09f72d062a70",
       "version_major": 2,
       "version_minor": 0
      },
      "text/plain": [
       "  DBs for Q:spider_dev_q811_idx8:   0%|          | 0/166 [00:00<?, ?it/s]"
      ]
     },
     "metadata": {},
     "output_type": "display_data"
    },
    {
     "name": "stdout",
     "output_type": "stream",
     "text": [
      "\n",
      "Processing Query 813/1034 (ID: spider_dev_q812_idx812): 'Which professionals have done at least two treatments? List the professional's id, role, and first name.' (True DB: dog_kennels)\n"
     ]
    },
    {
     "data": {
      "application/vnd.jupyter.widget-view+json": {
       "model_id": "a0bdca64e76e4ee285139e9c87f25e45",
       "version_major": 2,
       "version_minor": 0
      },
      "text/plain": [
       "  DBs for Q:spider_dev_q812_idx8:   0%|          | 0/166 [00:00<?, ?it/s]"
      ]
     },
     "metadata": {},
     "output_type": "display_data"
    },
    {
     "name": "stdout",
     "output_type": "stream",
     "text": [
      "\n",
      "Processing Query 814/1034 (ID: spider_dev_q813_idx813): 'Show the record companies shared by orchestras founded before 2003 and after 2003.' (True DB: orchestra)\n"
     ]
    },
    {
     "data": {
      "application/vnd.jupyter.widget-view+json": {
       "model_id": "27e738db2b02497890989b18b79aadd0",
       "version_major": 2,
       "version_minor": 0
      },
      "text/plain": [
       "  DBs for Q:spider_dev_q813_idx8:   0%|          | 0/166 [00:00<?, ?it/s]"
      ]
     },
     "metadata": {},
     "output_type": "display_data"
    },
    {
     "name": "stdout",
     "output_type": "stream",
     "text": [
      "\n",
      "Processing Query 815/1034 (ID: spider_dev_q814_idx814): 'Find the number of distinct type of pets.' (True DB: pets_1)\n"
     ]
    },
    {
     "data": {
      "application/vnd.jupyter.widget-view+json": {
       "model_id": "b134defb79434170bc2ea958f220c685",
       "version_major": 2,
       "version_minor": 0
      },
      "text/plain": [
       "  DBs for Q:spider_dev_q814_idx8:   0%|          | 0/166 [00:00<?, ?it/s]"
      ]
     },
     "metadata": {},
     "output_type": "display_data"
    },
    {
     "name": "stdout",
     "output_type": "stream",
     "text": [
      "\n",
      "Processing Query 816/1034 (ID: spider_dev_q815_idx815): 'Find the cities that have more than one employee under age 30.' (True DB: employee_hire_evaluation)\n"
     ]
    },
    {
     "data": {
      "application/vnd.jupyter.widget-view+json": {
       "model_id": "78799535bb754659918a5b637cbef6ed",
       "version_major": 2,
       "version_minor": 0
      },
      "text/plain": [
       "  DBs for Q:spider_dev_q815_idx8:   0%|          | 0/166 [00:00<?, ?it/s]"
      ]
     },
     "metadata": {},
     "output_type": "display_data"
    },
    {
     "name": "stdout",
     "output_type": "stream",
     "text": [
      "\n",
      "Processing Query 817/1034 (ID: spider_dev_q816_idx816): 'What is the name of the high schooler who has the greatest number of likes?' (True DB: network_1)\n"
     ]
    },
    {
     "data": {
      "application/vnd.jupyter.widget-view+json": {
       "model_id": "09f1021f0df84d95a6eefe3e513b7b9e",
       "version_major": 2,
       "version_minor": 0
      },
      "text/plain": [
       "  DBs for Q:spider_dev_q816_idx8:   0%|          | 0/166 [00:00<?, ?it/s]"
      ]
     },
     "metadata": {},
     "output_type": "display_data"
    },
    {
     "name": "stdout",
     "output_type": "stream",
     "text": [
      "\n",
      "Processing Query 818/1034 (ID: spider_dev_q817_idx817): 'Show names of all high school students who do not have any friends.' (True DB: network_1)\n"
     ]
    },
    {
     "data": {
      "application/vnd.jupyter.widget-view+json": {
       "model_id": "3c310c0890d644b19d813a357943b1ca",
       "version_major": 2,
       "version_minor": 0
      },
      "text/plain": [
       "  DBs for Q:spider_dev_q817_idx8:   0%|          | 0/166 [00:00<?, ?it/s]"
      ]
     },
     "metadata": {},
     "output_type": "display_data"
    },
    {
     "name": "stdout",
     "output_type": "stream",
     "text": [
      "\n",
      "Processing Query 819/1034 (ID: spider_dev_q818_idx818): 'What languages are only used by a single country with a republic government?' (True DB: world_1)\n"
     ]
    },
    {
     "data": {
      "application/vnd.jupyter.widget-view+json": {
       "model_id": "a647c9c6b1724968b958f4a5f52f13ce",
       "version_major": 2,
       "version_minor": 0
      },
      "text/plain": [
       "  DBs for Q:spider_dev_q818_idx8:   0%|          | 0/166 [00:00<?, ?it/s]"
      ]
     },
     "metadata": {},
     "output_type": "display_data"
    },
    {
     "name": "stdout",
     "output_type": "stream",
     "text": [
      "\n",
      "Processing Query 820/1034 (ID: spider_dev_q819_idx819): 'What is the average earnings of poker players with height higher than 200?' (True DB: poker_player)\n"
     ]
    },
    {
     "data": {
      "application/vnd.jupyter.widget-view+json": {
       "model_id": "425ca137b461443a8903093ef0589e7f",
       "version_major": 2,
       "version_minor": 0
      },
      "text/plain": [
       "  DBs for Q:spider_dev_q819_idx8:   0%|          | 0/166 [00:00<?, ?it/s]"
      ]
     },
     "metadata": {},
     "output_type": "display_data"
    },
    {
     "name": "stdout",
     "output_type": "stream",
     "text": [
      "\n",
      "Processing Query 821/1034 (ID: spider_dev_q820_idx820): 'How much does the car accelerate that makes amc hornet sportabout (sw)?' (True DB: car_1)\n"
     ]
    },
    {
     "data": {
      "application/vnd.jupyter.widget-view+json": {
       "model_id": "06f75891db514c78b6ff43c3184cae30",
       "version_major": 2,
       "version_minor": 0
      },
      "text/plain": [
       "  DBs for Q:spider_dev_q820_idx8:   0%|          | 0/166 [00:00<?, ?it/s]"
      ]
     },
     "metadata": {},
     "output_type": "display_data"
    },
    {
     "name": "stdout",
     "output_type": "stream",
     "text": [
      "\n",
      "Processing Query 822/1034 (ID: spider_dev_q821_idx821): 'Show the date of the transcript which shows the least number of results, also list the id.' (True DB: student_transcripts_tracking)\n"
     ]
    },
    {
     "data": {
      "application/vnd.jupyter.widget-view+json": {
       "model_id": "dd1ec84d0f2b412e8666145fd4d0e868",
       "version_major": 2,
       "version_minor": 0
      },
      "text/plain": [
       "  DBs for Q:spider_dev_q821_idx8:   0%|          | 0/166 [00:00<?, ?it/s]"
      ]
     },
     "metadata": {},
     "output_type": "display_data"
    },
    {
     "name": "stdout",
     "output_type": "stream",
     "text": [
      "\n",
      "Processing Query 823/1034 (ID: spider_dev_q822_idx822): 'How many documents are using the template with type code 'PPT'?' (True DB: cre_Doc_Template_Mgt)\n"
     ]
    },
    {
     "data": {
      "application/vnd.jupyter.widget-view+json": {
       "model_id": "c46bfa9103964bec8b72c7d6e00c3147",
       "version_major": 2,
       "version_minor": 0
      },
      "text/plain": [
       "  DBs for Q:spider_dev_q822_idx8:   0%|          | 0/166 [00:00<?, ?it/s]"
      ]
     },
     "metadata": {},
     "output_type": "display_data"
    },
    {
     "name": "stdout",
     "output_type": "stream",
     "text": [
      "\n",
      "Processing Query 824/1034 (ID: spider_dev_q823_idx823): 'Which model saves the most gasoline? That is to say, have the maximum miles per gallon.' (True DB: car_1)\n"
     ]
    },
    {
     "data": {
      "application/vnd.jupyter.widget-view+json": {
       "model_id": "95c6f528cc5e4c079e340cc2500ccc1e",
       "version_major": 2,
       "version_minor": 0
      },
      "text/plain": [
       "  DBs for Q:spider_dev_q823_idx8:   0%|          | 0/166 [00:00<?, ?it/s]"
      ]
     },
     "metadata": {},
     "output_type": "display_data"
    },
    {
     "name": "stdout",
     "output_type": "stream",
     "text": [
      "\n",
      "Processing Query 825/1034 (ID: spider_dev_q824_idx824): 'Find number of pets owned by students who are older than 20.' (True DB: pets_1)\n"
     ]
    },
    {
     "data": {
      "application/vnd.jupyter.widget-view+json": {
       "model_id": "ea23110b797c4b4099061b86ed153c30",
       "version_major": 2,
       "version_minor": 0
      },
      "text/plain": [
       "  DBs for Q:spider_dev_q824_idx8:   0%|          | 0/166 [00:00<?, ?it/s]"
      ]
     },
     "metadata": {},
     "output_type": "display_data"
    },
    {
     "name": "stdout",
     "output_type": "stream",
     "text": [
      "\n",
      "Processing Query 826/1034 (ID: spider_dev_q825_idx825): 'What are the students' first names who have both cats and dogs as pets?' (True DB: pets_1)\n"
     ]
    },
    {
     "data": {
      "application/vnd.jupyter.widget-view+json": {
       "model_id": "67cb131ff9594f39a27b49e42af88032",
       "version_major": 2,
       "version_minor": 0
      },
      "text/plain": [
       "  DBs for Q:spider_dev_q825_idx8:   0%|          | 0/166 [00:00<?, ?it/s]"
      ]
     },
     "metadata": {},
     "output_type": "display_data"
    },
    {
     "name": "stdout",
     "output_type": "stream",
     "text": [
      "\n",
      "Processing Query 827/1034 (ID: spider_dev_q826_idx826): 'Please show the different record companies and the corresponding number of orchestras.' (True DB: orchestra)\n"
     ]
    },
    {
     "data": {
      "application/vnd.jupyter.widget-view+json": {
       "model_id": "62942401e0c84d39b25def170be90363",
       "version_major": 2,
       "version_minor": 0
      },
      "text/plain": [
       "  DBs for Q:spider_dev_q826_idx8:   0%|          | 0/166 [00:00<?, ?it/s]"
      ]
     },
     "metadata": {},
     "output_type": "display_data"
    },
    {
     "name": "stdout",
     "output_type": "stream",
     "text": [
      "\n",
      "Processing Query 828/1034 (ID: spider_dev_q827_idx827): 'Count the number of paragraphs in the document named 'Summer Show'.' (True DB: cre_Doc_Template_Mgt)\n"
     ]
    },
    {
     "data": {
      "application/vnd.jupyter.widget-view+json": {
       "model_id": "be54956d2f7f427aa0ee07dcd484563d",
       "version_major": 2,
       "version_minor": 0
      },
      "text/plain": [
       "  DBs for Q:spider_dev_q827_idx8:   0%|          | 0/166 [00:00<?, ?it/s]"
      ]
     },
     "metadata": {},
     "output_type": "display_data"
    },
    {
     "name": "stdout",
     "output_type": "stream",
     "text": [
      "\n",
      "Processing Query 829/1034 (ID: spider_dev_q828_idx828): 'What are the distinct battle names which are between bulgarian commander 'Kaloyan' and latin commander 'Baldwin I'?' (True DB: battle_death)\n"
     ]
    },
    {
     "data": {
      "application/vnd.jupyter.widget-view+json": {
       "model_id": "4a4c02233d27434f884c9fb65e53123c",
       "version_major": 2,
       "version_minor": 0
      },
      "text/plain": [
       "  DBs for Q:spider_dev_q828_idx8:   0%|          | 0/166 [00:00<?, ?it/s]"
      ]
     },
     "metadata": {},
     "output_type": "display_data"
    },
    {
     "name": "stdout",
     "output_type": "stream",
     "text": [
      "\n",
      "Processing Query 830/1034 (ID: spider_dev_q829_idx829): 'What is the age and hometown of every teacher?' (True DB: course_teach)\n"
     ]
    },
    {
     "data": {
      "application/vnd.jupyter.widget-view+json": {
       "model_id": "24fd7939463c46858ba6f154fcc59299",
       "version_major": 2,
       "version_minor": 0
      },
      "text/plain": [
       "  DBs for Q:spider_dev_q829_idx8:   0%|          | 0/166 [00:00<?, ?it/s]"
      ]
     },
     "metadata": {},
     "output_type": "display_data"
    },
    {
     "name": "stdout",
     "output_type": "stream",
     "text": [
      "\n",
      "Processing Query 831/1034 (ID: spider_dev_q830_idx830): 'What is the car model with the highest mpg ?' (True DB: car_1)\n"
     ]
    },
    {
     "data": {
      "application/vnd.jupyter.widget-view+json": {
       "model_id": "434447ff6afc4ee2b2d66866e6a9be23",
       "version_major": 2,
       "version_minor": 0
      },
      "text/plain": [
       "  DBs for Q:spider_dev_q830_idx8:   0%|          | 0/166 [00:00<?, ?it/s]"
      ]
     },
     "metadata": {},
     "output_type": "display_data"
    },
    {
     "name": "stdout",
     "output_type": "stream",
     "text": [
      "\n",
      "Processing Query 832/1034 (ID: spider_dev_q831_idx831): 'Show all paragraph texts for the document \"Customer reviews\".' (True DB: cre_Doc_Template_Mgt)\n"
     ]
    },
    {
     "data": {
      "application/vnd.jupyter.widget-view+json": {
       "model_id": "fbf7b7b534524745a6cd09f5be4b28a4",
       "version_major": 2,
       "version_minor": 0
      },
      "text/plain": [
       "  DBs for Q:spider_dev_q831_idx8:   0%|          | 0/166 [00:00<?, ?it/s]"
      ]
     },
     "metadata": {},
     "output_type": "display_data"
    },
    {
     "name": "stdout",
     "output_type": "stream",
     "text": [
      "\n",
      "Processing Query 833/1034 (ID: spider_dev_q832_idx832): 'What are airlines that have flights arriving at airport 'AHD'?' (True DB: flight_2)\n"
     ]
    },
    {
     "data": {
      "application/vnd.jupyter.widget-view+json": {
       "model_id": "32e170387f9d498ca7ec4b547b8c1a45",
       "version_major": 2,
       "version_minor": 0
      },
      "text/plain": [
       "  DBs for Q:spider_dev_q832_idx8:   0%|          | 0/166 [00:00<?, ?it/s]"
      ]
     },
     "metadata": {},
     "output_type": "display_data"
    },
    {
     "name": "stdout",
     "output_type": "stream",
     "text": [
      "\n",
      "Processing Query 834/1034 (ID: spider_dev_q833_idx833): 'What are the ids and names of the battles that led to more than 10 people killed in total.' (True DB: battle_death)\n"
     ]
    },
    {
     "data": {
      "application/vnd.jupyter.widget-view+json": {
       "model_id": "fd78164d302145cbb3e0f6252577763a",
       "version_major": 2,
       "version_minor": 0
      },
      "text/plain": [
       "  DBs for Q:spider_dev_q833_idx8:   0%|          | 0/166 [00:00<?, ?it/s]"
      ]
     },
     "metadata": {},
     "output_type": "display_data"
    },
    {
     "name": "stdout",
     "output_type": "stream",
     "text": [
      "\n",
      "Processing Query 835/1034 (ID: spider_dev_q834_idx834): 'How many cars have more than 4 cylinders?' (True DB: car_1)\n"
     ]
    },
    {
     "data": {
      "application/vnd.jupyter.widget-view+json": {
       "model_id": "c14344c8a1314d34ab67bba0c8f310c4",
       "version_major": 2,
       "version_minor": 0
      },
      "text/plain": [
       "  DBs for Q:spider_dev_q834_idx8:   0%|          | 0/166 [00:00<?, ?it/s]"
      ]
     },
     "metadata": {},
     "output_type": "display_data"
    },
    {
     "name": "stdout",
     "output_type": "stream",
     "text": [
      "\n",
      "Processing Query 836/1034 (ID: spider_dev_q835_idx835): 'What is the feature type name of feature AirCon?' (True DB: real_estate_properties)\n"
     ]
    },
    {
     "data": {
      "application/vnd.jupyter.widget-view+json": {
       "model_id": "755d71a78dd545888f63172d86dc5caf",
       "version_major": 2,
       "version_minor": 0
      },
      "text/plain": [
       "  DBs for Q:spider_dev_q835_idx8:   0%|          | 0/166 [00:00<?, ?it/s]"
      ]
     },
     "metadata": {},
     "output_type": "display_data"
    },
    {
     "name": "stdout",
     "output_type": "stream",
     "text": [
      "\n",
      "Processing Query 837/1034 (ID: spider_dev_q836_idx836): 'How many type of governments are in Africa?' (True DB: world_1)\n"
     ]
    },
    {
     "data": {
      "application/vnd.jupyter.widget-view+json": {
       "model_id": "56e2e3a431314e098757f0691812390a",
       "version_major": 2,
       "version_minor": 0
      },
      "text/plain": [
       "  DBs for Q:spider_dev_q836_idx8:   0%|          | 0/166 [00:00<?, ?it/s]"
      ]
     },
     "metadata": {},
     "output_type": "display_data"
    },
    {
     "name": "stdout",
     "output_type": "stream",
     "text": [
      "\n",
      "Processing Query 838/1034 (ID: spider_dev_q837_idx837): 'Find the id of the pet owned by student whose last name is ‘Smith’.' (True DB: pets_1)\n"
     ]
    },
    {
     "data": {
      "application/vnd.jupyter.widget-view+json": {
       "model_id": "c96ab55ba3ca423c80cfef227cb057e8",
       "version_major": 2,
       "version_minor": 0
      },
      "text/plain": [
       "  DBs for Q:spider_dev_q837_idx8:   0%|          | 0/166 [00:00<?, ?it/s]"
      ]
     },
     "metadata": {},
     "output_type": "display_data"
    },
    {
     "name": "stdout",
     "output_type": "stream",
     "text": [
      "\n",
      "Processing Query 839/1034 (ID: spider_dev_q838_idx838): 'Find all airlines that have at least 10 flights.' (True DB: flight_2)\n"
     ]
    },
    {
     "data": {
      "application/vnd.jupyter.widget-view+json": {
       "model_id": "6af521b758e94610895a9cf8710ce4fa",
       "version_major": 2,
       "version_minor": 0
      },
      "text/plain": [
       "  DBs for Q:spider_dev_q838_idx8:   0%|          | 0/166 [00:00<?, ?it/s]"
      ]
     },
     "metadata": {},
     "output_type": "display_data"
    },
    {
     "name": "stdout",
     "output_type": "stream",
     "text": [
      "\n",
      "Processing Query 840/1034 (ID: spider_dev_q839_idx839): 'Which dogs are of the rarest breed? Show their names and treatment dates.' (True DB: dog_kennels)\n"
     ]
    },
    {
     "data": {
      "application/vnd.jupyter.widget-view+json": {
       "model_id": "140ce929e40446ed8a95e2b22ed87c3f",
       "version_major": 2,
       "version_minor": 0
      },
      "text/plain": [
       "  DBs for Q:spider_dev_q839_idx8:   0%|          | 0/166 [00:00<?, ?it/s]"
      ]
     },
     "metadata": {},
     "output_type": "display_data"
    },
    {
     "name": "stdout",
     "output_type": "stream",
     "text": [
      "\n",
      "Processing Query 841/1034 (ID: spider_dev_q840_idx840): 'How many singers do we have?' (True DB: concert_singer)\n"
     ]
    },
    {
     "data": {
      "application/vnd.jupyter.widget-view+json": {
       "model_id": "b765db638d434f1896ca72a8fd68183b",
       "version_major": 2,
       "version_minor": 0
      },
      "text/plain": [
       "  DBs for Q:spider_dev_q840_idx8:   0%|          | 0/166 [00:00<?, ?it/s]"
      ]
     },
     "metadata": {},
     "output_type": "display_data"
    },
    {
     "name": "stdout",
     "output_type": "stream",
     "text": [
      "\n",
      "Processing Query 842/1034 (ID: spider_dev_q841_idx841): 'What are the makers and models?' (True DB: car_1)\n"
     ]
    },
    {
     "data": {
      "application/vnd.jupyter.widget-view+json": {
       "model_id": "85f241f407cb428bbc57bc7c4676a4af",
       "version_major": 2,
       "version_minor": 0
      },
      "text/plain": [
       "  DBs for Q:spider_dev_q841_idx8:   0%|          | 0/166 [00:00<?, ?it/s]"
      ]
     },
     "metadata": {},
     "output_type": "display_data"
    },
    {
     "name": "stdout",
     "output_type": "stream",
     "text": [
      "\n",
      "Processing Query 843/1034 (ID: spider_dev_q842_idx842): 'Find the total number of tours for each ranking date.' (True DB: wta_1)\n"
     ]
    },
    {
     "data": {
      "application/vnd.jupyter.widget-view+json": {
       "model_id": "34092c0fa42b421ba2fda94ce91bce4c",
       "version_major": 2,
       "version_minor": 0
      },
      "text/plain": [
       "  DBs for Q:spider_dev_q842_idx8:   0%|          | 0/166 [00:00<?, ?it/s]"
      ]
     },
     "metadata": {},
     "output_type": "display_data"
    },
    {
     "name": "stdout",
     "output_type": "stream",
     "text": [
      "\n",
      "Processing Query 844/1034 (ID: spider_dev_q843_idx843): 'How many degrees does the engineering department have?' (True DB: student_transcripts_tracking)\n"
     ]
    },
    {
     "data": {
      "application/vnd.jupyter.widget-view+json": {
       "model_id": "745e6a036b66413da12904c086dec52d",
       "version_major": 2,
       "version_minor": 0
      },
      "text/plain": [
       "  DBs for Q:spider_dev_q843_idx8:   0%|          | 0/166 [00:00<?, ?it/s]"
      ]
     },
     "metadata": {},
     "output_type": "display_data"
    },
    {
     "name": "stdout",
     "output_type": "stream",
     "text": [
      "\n",
      "Processing Query 845/1034 (ID: spider_dev_q844_idx844): 'What are the names of people who are not from Russia?' (True DB: poker_player)\n"
     ]
    },
    {
     "data": {
      "application/vnd.jupyter.widget-view+json": {
       "model_id": "48089dc2ad994b56ac8417d6dc39a75e",
       "version_major": 2,
       "version_minor": 0
      },
      "text/plain": [
       "  DBs for Q:spider_dev_q844_idx8:   0%|          | 0/166 [00:00<?, ?it/s]"
      ]
     },
     "metadata": {},
     "output_type": "display_data"
    },
    {
     "name": "stdout",
     "output_type": "stream",
     "text": [
      "\n",
      "Processing Query 846/1034 (ID: spider_dev_q845_idx845): 'How many transcripts are listed?' (True DB: student_transcripts_tracking)\n"
     ]
    },
    {
     "data": {
      "application/vnd.jupyter.widget-view+json": {
       "model_id": "045e44a6250543f48e4ba9bc1be9e461",
       "version_major": 2,
       "version_minor": 0
      },
      "text/plain": [
       "  DBs for Q:spider_dev_q845_idx8:   0%|          | 0/166 [00:00<?, ?it/s]"
      ]
     },
     "metadata": {},
     "output_type": "display_data"
    },
    {
     "name": "stdout",
     "output_type": "stream",
     "text": [
      "\n",
      "Processing Query 847/1034 (ID: spider_dev_q846_idx846): 'Find the first name, country code and birth date of the winner who has the highest rank points in all matches.' (True DB: wta_1)\n"
     ]
    },
    {
     "data": {
      "application/vnd.jupyter.widget-view+json": {
       "model_id": "467920b153d94c12bc38ef00266cacff",
       "version_major": 2,
       "version_minor": 0
      },
      "text/plain": [
       "  DBs for Q:spider_dev_q846_idx8:   0%|          | 0/166 [00:00<?, ?it/s]"
      ]
     },
     "metadata": {},
     "output_type": "display_data"
    },
    {
     "name": "stdout",
     "output_type": "stream",
     "text": [
      "\n",
      "Processing Query 848/1034 (ID: spider_dev_q847_idx847): 'find the minimum and maximum number of products of all stores.' (True DB: employee_hire_evaluation)\n"
     ]
    },
    {
     "data": {
      "application/vnd.jupyter.widget-view+json": {
       "model_id": "8972b54226fb4e3aabf369c18c8072a5",
       "version_major": 2,
       "version_minor": 0
      },
      "text/plain": [
       "  DBs for Q:spider_dev_q847_idx8:   0%|          | 0/166 [00:00<?, ?it/s]"
      ]
     },
     "metadata": {},
     "output_type": "display_data"
    },
    {
     "name": "stdout",
     "output_type": "stream",
     "text": [
      "\n",
      "Processing Query 849/1034 (ID: spider_dev_q848_idx848): 'How many pets have a greater weight than 10?' (True DB: pets_1)\n"
     ]
    },
    {
     "data": {
      "application/vnd.jupyter.widget-view+json": {
       "model_id": "21b5c490d5144d0c931d09a0fc4f8deb",
       "version_major": 2,
       "version_minor": 0
      },
      "text/plain": [
       "  DBs for Q:spider_dev_q848_idx8:   0%|          | 0/166 [00:00<?, ?it/s]"
      ]
     },
     "metadata": {},
     "output_type": "display_data"
    },
    {
     "name": "stdout",
     "output_type": "stream",
     "text": [
      "\n",
      "Processing Query 850/1034 (ID: spider_dev_q849_idx849): 'Show names of teachers that teach at least two courses.' (True DB: course_teach)\n"
     ]
    },
    {
     "data": {
      "application/vnd.jupyter.widget-view+json": {
       "model_id": "50e2dcd1a75a4bcba4881ada357d4913",
       "version_major": 2,
       "version_minor": 0
      },
      "text/plain": [
       "  DBs for Q:spider_dev_q849_idx8:   0%|          | 0/166 [00:00<?, ?it/s]"
      ]
     },
     "metadata": {},
     "output_type": "display_data"
    },
    {
     "name": "stdout",
     "output_type": "stream",
     "text": [
      "\n",
      "Processing Query 851/1034 (ID: spider_dev_q850_idx850): 'What are the different ids and names of the battles that lost any 'Brig' type shipes?' (True DB: battle_death)\n"
     ]
    },
    {
     "data": {
      "application/vnd.jupyter.widget-view+json": {
       "model_id": "7f1b010f3a75404982ec38367f703381",
       "version_major": 2,
       "version_minor": 0
      },
      "text/plain": [
       "  DBs for Q:spider_dev_q850_idx8:   0%|          | 0/166 [00:00<?, ?it/s]"
      ]
     },
     "metadata": {},
     "output_type": "display_data"
    },
    {
     "name": "stdout",
     "output_type": "stream",
     "text": [
      "\n",
      "Processing Query 852/1034 (ID: spider_dev_q851_idx851): 'Give the names of the nations that were founded after 1950.' (True DB: world_1)\n"
     ]
    },
    {
     "data": {
      "application/vnd.jupyter.widget-view+json": {
       "model_id": "aa37bee9f1894ba7822287a2fbe7624c",
       "version_major": 2,
       "version_minor": 0
      },
      "text/plain": [
       "  DBs for Q:spider_dev_q851_idx8:   0%|          | 0/166 [00:00<?, ?it/s]"
      ]
     },
     "metadata": {},
     "output_type": "display_data"
    },
    {
     "name": "stdout",
     "output_type": "stream",
     "text": [
      "\n",
      "Processing Query 853/1034 (ID: spider_dev_q852_idx852): 'What are the full names of all left handed players, in order of birth date?' (True DB: wta_1)\n"
     ]
    },
    {
     "data": {
      "application/vnd.jupyter.widget-view+json": {
       "model_id": "1be175477f8e4d648db410de8f888eb1",
       "version_major": 2,
       "version_minor": 0
      },
      "text/plain": [
       "  DBs for Q:spider_dev_q852_idx8:   0%|          | 0/166 [00:00<?, ?it/s]"
      ]
     },
     "metadata": {},
     "output_type": "display_data"
    },
    {
     "name": "stdout",
     "output_type": "stream",
     "text": [
      "\n",
      "Processing Query 854/1034 (ID: spider_dev_q853_idx853): 'What are the region and population of Angola?' (True DB: world_1)\n"
     ]
    },
    {
     "data": {
      "application/vnd.jupyter.widget-view+json": {
       "model_id": "fdd3bb16ed31436d8f049f766ad77f4e",
       "version_major": 2,
       "version_minor": 0
      },
      "text/plain": [
       "  DBs for Q:spider_dev_q853_idx8:   0%|          | 0/166 [00:00<?, ?it/s]"
      ]
     },
     "metadata": {},
     "output_type": "display_data"
    },
    {
     "name": "stdout",
     "output_type": "stream",
     "text": [
      "\n",
      "Processing Query 855/1034 (ID: spider_dev_q854_idx854): 'How many cars has over 6 cylinders?' (True DB: car_1)\n"
     ]
    },
    {
     "data": {
      "application/vnd.jupyter.widget-view+json": {
       "model_id": "70413c7e1559461dac0eb54585b5bb17",
       "version_major": 2,
       "version_minor": 0
      },
      "text/plain": [
       "  DBs for Q:spider_dev_q854_idx8:   0%|          | 0/166 [00:00<?, ?it/s]"
      ]
     },
     "metadata": {},
     "output_type": "display_data"
    },
    {
     "name": "stdout",
     "output_type": "stream",
     "text": [
      "\n",
      "Processing Query 856/1034 (ID: spider_dev_q855_idx855): 'What is the first, middle, and last name, along with the id and number of enrollments, for the student who enrolled the most in any program?' (True DB: student_transcripts_tracking)\n"
     ]
    },
    {
     "data": {
      "application/vnd.jupyter.widget-view+json": {
       "model_id": "77d60022bbda46d3af5f41059debf1b1",
       "version_major": 2,
       "version_minor": 0
      },
      "text/plain": [
       "  DBs for Q:spider_dev_q855_idx8:   0%|          | 0/166 [00:00<?, ?it/s]"
      ]
     },
     "metadata": {},
     "output_type": "display_data"
    },
    {
     "name": "stdout",
     "output_type": "stream",
     "text": [
      "\n",
      "Processing Query 857/1034 (ID: spider_dev_q856_idx856): 'What are the names and grades for each high schooler?' (True DB: network_1)\n"
     ]
    },
    {
     "data": {
      "application/vnd.jupyter.widget-view+json": {
       "model_id": "441599a2a9c849278b1a43cc5d118c3b",
       "version_major": 2,
       "version_minor": 0
      },
      "text/plain": [
       "  DBs for Q:spider_dev_q856_idx8:   0%|          | 0/166 [00:00<?, ?it/s]"
      ]
     },
     "metadata": {},
     "output_type": "display_data"
    },
    {
     "name": "stdout",
     "output_type": "stream",
     "text": [
      "\n",
      "Processing Query 858/1034 (ID: spider_dev_q857_idx857): 'What are flight numbers of flights arriving at City \"Aberdeen\"?' (True DB: flight_2)\n"
     ]
    },
    {
     "data": {
      "application/vnd.jupyter.widget-view+json": {
       "model_id": "71cd43908aea4c3aa349294816efa524",
       "version_major": 2,
       "version_minor": 0
      },
      "text/plain": [
       "  DBs for Q:spider_dev_q857_idx8:   0%|          | 0/166 [00:00<?, ?it/s]"
      ]
     },
     "metadata": {},
     "output_type": "display_data"
    },
    {
     "name": "stdout",
     "output_type": "stream",
     "text": [
      "\n",
      "Processing Query 859/1034 (ID: spider_dev_q858_idx858): 'Show countries where a singer above age 40 and a singer below 30 are from.' (True DB: concert_singer)\n"
     ]
    },
    {
     "data": {
      "application/vnd.jupyter.widget-view+json": {
       "model_id": "5279a2fed4df4a0ea7cff214c4e4aeb6",
       "version_major": 2,
       "version_minor": 0
      },
      "text/plain": [
       "  DBs for Q:spider_dev_q858_idx8:   0%|          | 0/166 [00:00<?, ?it/s]"
      ]
     },
     "metadata": {},
     "output_type": "display_data"
    },
    {
     "name": "stdout",
     "output_type": "stream",
     "text": [
      "\n",
      "Processing Query 860/1034 (ID: spider_dev_q859_idx859): 'What are the names of the nations with the 3 lowest populations?' (True DB: world_1)\n"
     ]
    },
    {
     "data": {
      "application/vnd.jupyter.widget-view+json": {
       "model_id": "f41fe896db1e4578b4cf10fa21f19d19",
       "version_major": 2,
       "version_minor": 0
      },
      "text/plain": [
       "  DBs for Q:spider_dev_q859_idx8:   0%|          | 0/166 [00:00<?, ?it/s]"
      ]
     },
     "metadata": {},
     "output_type": "display_data"
    },
    {
     "name": "stdout",
     "output_type": "stream",
     "text": [
      "\n",
      "Processing Query 861/1034 (ID: spider_dev_q860_idx860): 'What is the document name and template id for document with description with the letter 'w' in it?' (True DB: cre_Doc_Template_Mgt)\n"
     ]
    },
    {
     "data": {
      "application/vnd.jupyter.widget-view+json": {
       "model_id": "15cf3b0937d14cd79c245e128b2fdcf6",
       "version_major": 2,
       "version_minor": 0
      },
      "text/plain": [
       "  DBs for Q:spider_dev_q860_idx8:   0%|          | 0/166 [00:00<?, ?it/s]"
      ]
     },
     "metadata": {},
     "output_type": "display_data"
    },
    {
     "name": "stdout",
     "output_type": "stream",
     "text": [
      "\n",
      "Processing Query 862/1034 (ID: spider_dev_q861_idx861): 'How many teachers are there?' (True DB: course_teach)\n"
     ]
    },
    {
     "data": {
      "application/vnd.jupyter.widget-view+json": {
       "model_id": "8a4ed2ffbdd347e3ac48e411030a6778",
       "version_major": 2,
       "version_minor": 0
      },
      "text/plain": [
       "  DBs for Q:spider_dev_q861_idx8:   0%|          | 0/166 [00:00<?, ?it/s]"
      ]
     },
     "metadata": {},
     "output_type": "display_data"
    },
    {
     "name": "stdout",
     "output_type": "stream",
     "text": [
      "\n",
      "Processing Query 863/1034 (ID: spider_dev_q862_idx862): 'How much does the most recent treatment cost?' (True DB: dog_kennels)\n"
     ]
    },
    {
     "data": {
      "application/vnd.jupyter.widget-view+json": {
       "model_id": "a08e820b829e42dc858cf77540d28369",
       "version_major": 2,
       "version_minor": 0
      },
      "text/plain": [
       "  DBs for Q:spider_dev_q862_idx8:   0%|          | 0/166 [00:00<?, ?it/s]"
      ]
     },
     "metadata": {},
     "output_type": "display_data"
    },
    {
     "name": "stdout",
     "output_type": "stream",
     "text": [
      "\n",
      "Processing Query 864/1034 (ID: spider_dev_q863_idx863): 'List all cartoon directed by \"Ben Jones\".' (True DB: tvshow)\n"
     ]
    },
    {
     "data": {
      "application/vnd.jupyter.widget-view+json": {
       "model_id": "fae3a525811b46579d114175791108d8",
       "version_major": 2,
       "version_minor": 0
      },
      "text/plain": [
       "  DBs for Q:spider_dev_q863_idx8:   0%|          | 0/166 [00:00<?, ?it/s]"
      ]
     },
     "metadata": {},
     "output_type": "display_data"
    },
    {
     "name": "stdout",
     "output_type": "stream",
     "text": [
      "\n",
      "Processing Query 865/1034 (ID: spider_dev_q864_idx864): 'Show the names of all of the high schooler Kyle's friends.' (True DB: network_1)\n"
     ]
    },
    {
     "data": {
      "application/vnd.jupyter.widget-view+json": {
       "model_id": "e4b96aec70214c7a834e943103d9902c",
       "version_major": 2,
       "version_minor": 0
      },
      "text/plain": [
       "  DBs for Q:spider_dev_q864_idx8:   0%|          | 0/166 [00:00<?, ?it/s]"
      ]
     },
     "metadata": {},
     "output_type": "display_data"
    },
    {
     "name": "stdout",
     "output_type": "stream",
     "text": [
      "\n",
      "Processing Query 866/1034 (ID: spider_dev_q865_idx865): 'What is the maximum capacity and the average of all stadiums ?' (True DB: concert_singer)\n"
     ]
    },
    {
     "data": {
      "application/vnd.jupyter.widget-view+json": {
       "model_id": "bad0614f517f421694b9045ae800bd51",
       "version_major": 2,
       "version_minor": 0
      },
      "text/plain": [
       "  DBs for Q:spider_dev_q865_idx8:   0%|          | 0/166 [00:00<?, ?it/s]"
      ]
     },
     "metadata": {},
     "output_type": "display_data"
    },
    {
     "name": "stdout",
     "output_type": "stream",
     "text": [
      "\n",
      "Processing Query 867/1034 (ID: spider_dev_q866_idx866): 'What is the content of the series Sky Radio?' (True DB: tvshow)\n"
     ]
    },
    {
     "data": {
      "application/vnd.jupyter.widget-view+json": {
       "model_id": "b72fe297a8e84060908fc7df20c9f9d0",
       "version_major": 2,
       "version_minor": 0
      },
      "text/plain": [
       "  DBs for Q:spider_dev_q866_idx8:   0%|          | 0/166 [00:00<?, ?it/s]"
      ]
     },
     "metadata": {},
     "output_type": "display_data"
    },
    {
     "name": "stdout",
     "output_type": "stream",
     "text": [
      "\n",
      "Processing Query 868/1034 (ID: spider_dev_q867_idx867): 'What are the names of the singers who performed in a concert in 2014?' (True DB: concert_singer)\n"
     ]
    },
    {
     "data": {
      "application/vnd.jupyter.widget-view+json": {
       "model_id": "61e133f860c0435a9558af09fa097f18",
       "version_major": 2,
       "version_minor": 0
      },
      "text/plain": [
       "  DBs for Q:spider_dev_q867_idx8:   0%|          | 0/166 [00:00<?, ?it/s]"
      ]
     },
     "metadata": {},
     "output_type": "display_data"
    },
    {
     "name": "stdout",
     "output_type": "stream",
     "text": [
      "\n",
      "Processing Query 869/1034 (ID: spider_dev_q868_idx868): 'How many flights have destination ATO?' (True DB: flight_2)\n"
     ]
    },
    {
     "data": {
      "application/vnd.jupyter.widget-view+json": {
       "model_id": "cc31415dee85455c8d9b588c0f04e5f2",
       "version_major": 2,
       "version_minor": 0
      },
      "text/plain": [
       "  DBs for Q:spider_dev_q868_idx8:   0%|          | 0/166 [00:00<?, ?it/s]"
      ]
     },
     "metadata": {},
     "output_type": "display_data"
    },
    {
     "name": "stdout",
     "output_type": "stream",
     "text": [
      "\n",
      "Processing Query 870/1034 (ID: spider_dev_q869_idx869): 'Which employee received the most awards in evaluations? Give me the employee name.' (True DB: employee_hire_evaluation)\n"
     ]
    },
    {
     "data": {
      "application/vnd.jupyter.widget-view+json": {
       "model_id": "72b5161fabfe47a8aa5f17afa99b872e",
       "version_major": 2,
       "version_minor": 0
      },
      "text/plain": [
       "  DBs for Q:spider_dev_q869_idx8:   0%|          | 0/166 [00:00<?, ?it/s]"
      ]
     },
     "metadata": {},
     "output_type": "display_data"
    },
    {
     "name": "stdout",
     "output_type": "stream",
     "text": [
      "\n",
      "Processing Query 871/1034 (ID: spider_dev_q870_idx870): 'What are the major record formats of orchestras, sorted by their frequency?' (True DB: orchestra)\n"
     ]
    },
    {
     "data": {
      "application/vnd.jupyter.widget-view+json": {
       "model_id": "276f573bc1c44307aeaed8dfd88273f6",
       "version_major": 2,
       "version_minor": 0
      },
      "text/plain": [
       "  DBs for Q:spider_dev_q870_idx8:   0%|          | 0/166 [00:00<?, ?it/s]"
      ]
     },
     "metadata": {},
     "output_type": "display_data"
    },
    {
     "name": "stdout",
     "output_type": "stream",
     "text": [
      "\n",
      "Processing Query 872/1034 (ID: spider_dev_q871_idx871): 'What are the ids of documents that contain the paragraph text 'Brazil' and 'Ireland'?' (True DB: cre_Doc_Template_Mgt)\n"
     ]
    },
    {
     "data": {
      "application/vnd.jupyter.widget-view+json": {
       "model_id": "056019da8a6a4e75be4b2e88b0c9a766",
       "version_major": 2,
       "version_minor": 0
      },
      "text/plain": [
       "  DBs for Q:spider_dev_q871_idx8:   0%|          | 0/166 [00:00<?, ?it/s]"
      ]
     },
     "metadata": {},
     "output_type": "display_data"
    },
    {
     "name": "stdout",
     "output_type": "stream",
     "text": [
      "\n",
      "Processing Query 873/1034 (ID: spider_dev_q872_idx872): 'Return the type code of the template type that the most templates belong to.' (True DB: cre_Doc_Template_Mgt)\n"
     ]
    },
    {
     "data": {
      "application/vnd.jupyter.widget-view+json": {
       "model_id": "c9fc3d24227b412e9b3cf28e9a95eed1",
       "version_major": 2,
       "version_minor": 0
      },
      "text/plain": [
       "  DBs for Q:spider_dev_q872_idx8:   0%|          | 0/166 [00:00<?, ?it/s]"
      ]
     },
     "metadata": {},
     "output_type": "display_data"
    },
    {
     "name": "stdout",
     "output_type": "stream",
     "text": [
      "\n",
      "Processing Query 874/1034 (ID: spider_dev_q873_idx873): 'Give the name of the nation that uses the greatest amount of languages.' (True DB: world_1)\n"
     ]
    },
    {
     "data": {
      "application/vnd.jupyter.widget-view+json": {
       "model_id": "f8be25f5b976430a976d031335f7e950",
       "version_major": 2,
       "version_minor": 0
      },
      "text/plain": [
       "  DBs for Q:spider_dev_q873_idx8:   0%|          | 0/166 [00:00<?, ?it/s]"
      ]
     },
     "metadata": {},
     "output_type": "display_data"
    },
    {
     "name": "stdout",
     "output_type": "stream",
     "text": [
      "\n",
      "Processing Query 875/1034 (ID: spider_dev_q874_idx874): 'How many paragraphs in total?' (True DB: cre_Doc_Template_Mgt)\n"
     ]
    },
    {
     "data": {
      "application/vnd.jupyter.widget-view+json": {
       "model_id": "6cf3b0550e2f40bf906207c8798e934f",
       "version_major": 2,
       "version_minor": 0
      },
      "text/plain": [
       "  DBs for Q:spider_dev_q874_idx8:   0%|          | 0/166 [00:00<?, ?it/s]"
      ]
     },
     "metadata": {},
     "output_type": "display_data"
    },
    {
     "name": "stdout",
     "output_type": "stream",
     "text": [
      "\n",
      "Processing Query 876/1034 (ID: spider_dev_q875_idx875): 'Return the code of the template type that is most commonly used in documents.' (True DB: cre_Doc_Template_Mgt)\n"
     ]
    },
    {
     "data": {
      "application/vnd.jupyter.widget-view+json": {
       "model_id": "93bc09942cdb46e4a83e60bedea56025",
       "version_major": 2,
       "version_minor": 0
      },
      "text/plain": [
       "  DBs for Q:spider_dev_q875_idx8:   0%|          | 0/166 [00:00<?, ?it/s]"
      ]
     },
     "metadata": {},
     "output_type": "display_data"
    },
    {
     "name": "stdout",
     "output_type": "stream",
     "text": [
      "\n",
      "Processing Query 877/1034 (ID: spider_dev_q876_idx876): 'What is the year that had the most concerts?' (True DB: concert_singer)\n"
     ]
    },
    {
     "data": {
      "application/vnd.jupyter.widget-view+json": {
       "model_id": "d439cf19c7de402693ebde13ada33b60",
       "version_major": 2,
       "version_minor": 0
      },
      "text/plain": [
       "  DBs for Q:spider_dev_q876_idx8:   0%|          | 0/166 [00:00<?, ?it/s]"
      ]
     },
     "metadata": {},
     "output_type": "display_data"
    },
    {
     "name": "stdout",
     "output_type": "stream",
     "text": [
      "\n",
      "Processing Query 878/1034 (ID: spider_dev_q877_idx877): 'What are the names and locations of the stadiums that had concerts that occurred in both 2014 and 2015?' (True DB: concert_singer)\n"
     ]
    },
    {
     "data": {
      "application/vnd.jupyter.widget-view+json": {
       "model_id": "4259d1764f9a41078685f6e89ad5de8f",
       "version_major": 2,
       "version_minor": 0
      },
      "text/plain": [
       "  DBs for Q:spider_dev_q877_idx8:   0%|          | 0/166 [00:00<?, ?it/s]"
      ]
     },
     "metadata": {},
     "output_type": "display_data"
    },
    {
     "name": "stdout",
     "output_type": "stream",
     "text": [
      "\n",
      "Processing Query 879/1034 (ID: spider_dev_q878_idx878): 'What is the area code in which the most voters voted?' (True DB: voter_1)\n"
     ]
    },
    {
     "data": {
      "application/vnd.jupyter.widget-view+json": {
       "model_id": "dfca0c45cb844040ab34749dcfa40681",
       "version_major": 2,
       "version_minor": 0
      },
      "text/plain": [
       "  DBs for Q:spider_dev_q878_idx8:   0%|          | 0/166 [00:00<?, ?it/s]"
      ]
     },
     "metadata": {},
     "output_type": "display_data"
    },
    {
     "name": "stdout",
     "output_type": "stream",
     "text": [
      "\n",
      "Processing Query 880/1034 (ID: spider_dev_q879_idx879): 'Show names, results and bulgarian commanders of the battles with no ships lost in the 'English Channel'.' (True DB: battle_death)\n"
     ]
    },
    {
     "data": {
      "application/vnd.jupyter.widget-view+json": {
       "model_id": "0487798ad00a45ca98c944ffde69ff96",
       "version_major": 2,
       "version_minor": 0
      },
      "text/plain": [
       "  DBs for Q:spider_dev_q879_idx8:   0%|          | 0/166 [00:00<?, ?it/s]"
      ]
     },
     "metadata": {},
     "output_type": "display_data"
    },
    {
     "name": "stdout",
     "output_type": "stream",
     "text": [
      "\n",
      "Processing Query 881/1034 (ID: spider_dev_q880_idx880): 'What is the number of cars with a horsepower greater than 150?' (True DB: car_1)\n"
     ]
    },
    {
     "data": {
      "application/vnd.jupyter.widget-view+json": {
       "model_id": "6007e5a3e87c472d86cae15a2aaa904c",
       "version_major": 2,
       "version_minor": 0
      },
      "text/plain": [
       "  DBs for Q:spider_dev_q880_idx8:   0%|          | 0/166 [00:00<?, ?it/s]"
      ]
     },
     "metadata": {},
     "output_type": "display_data"
    },
    {
     "name": "stdout",
     "output_type": "stream",
     "text": [
      "\n",
      "Processing Query 882/1034 (ID: spider_dev_q881_idx881): 'What are the cost and treatment type description of each treatment?' (True DB: dog_kennels)\n"
     ]
    },
    {
     "data": {
      "application/vnd.jupyter.widget-view+json": {
       "model_id": "d4b64d2a39964ace8c0671ec9a61f317",
       "version_major": 2,
       "version_minor": 0
      },
      "text/plain": [
       "  DBs for Q:spider_dev_q881_idx8:   0%|          | 0/166 [00:00<?, ?it/s]"
      ]
     },
     "metadata": {},
     "output_type": "display_data"
    },
    {
     "name": "stdout",
     "output_type": "stream",
     "text": [
      "\n",
      "Processing Query 883/1034 (ID: spider_dev_q882_idx882): 'What are the ids and makers of all car makers that produce at least 2 models and make more than 3 cars?' (True DB: car_1)\n"
     ]
    },
    {
     "data": {
      "application/vnd.jupyter.widget-view+json": {
       "model_id": "707791e859ed42c1bb26dbed503e91ca",
       "version_major": 2,
       "version_minor": 0
      },
      "text/plain": [
       "  DBs for Q:spider_dev_q882_idx8:   0%|          | 0/166 [00:00<?, ?it/s]"
      ]
     },
     "metadata": {},
     "output_type": "display_data"
    },
    {
     "name": "stdout",
     "output_type": "stream",
     "text": [
      "\n",
      "Processing Query 884/1034 (ID: spider_dev_q883_idx883): 'How many different nationalities do conductors have?' (True DB: orchestra)\n"
     ]
    },
    {
     "data": {
      "application/vnd.jupyter.widget-view+json": {
       "model_id": "f3f96d77f96447fea79361dabbe0c5fc",
       "version_major": 2,
       "version_minor": 0
      },
      "text/plain": [
       "  DBs for Q:spider_dev_q883_idx8:   0%|          | 0/166 [00:00<?, ?it/s]"
      ]
     },
     "metadata": {},
     "output_type": "display_data"
    },
    {
     "name": "stdout",
     "output_type": "stream",
     "text": [
      "\n",
      "Processing Query 885/1034 (ID: spider_dev_q884_idx884): 'Return the codes of countries for which Spanish is the predominantly spoken language.' (True DB: world_1)\n"
     ]
    },
    {
     "data": {
      "application/vnd.jupyter.widget-view+json": {
       "model_id": "719788d6f7d34bb98494d38f9a18480c",
       "version_major": 2,
       "version_minor": 0
      },
      "text/plain": [
       "  DBs for Q:spider_dev_q884_idx8:   0%|          | 0/166 [00:00<?, ?it/s]"
      ]
     },
     "metadata": {},
     "output_type": "display_data"
    },
    {
     "name": "stdout",
     "output_type": "stream",
     "text": [
      "\n",
      "Processing Query 886/1034 (ID: spider_dev_q885_idx885): 'Count the number of different templates used for documents.' (True DB: cre_Doc_Template_Mgt)\n"
     ]
    },
    {
     "data": {
      "application/vnd.jupyter.widget-view+json": {
       "model_id": "1390d1186eb842fa82011c0631b0e8d4",
       "version_major": 2,
       "version_minor": 0
      },
      "text/plain": [
       "  DBs for Q:spider_dev_q885_idx8:   0%|          | 0/166 [00:00<?, ?it/s]"
      ]
     },
     "metadata": {},
     "output_type": "display_data"
    },
    {
     "name": "stdout",
     "output_type": "stream",
     "text": [
      "\n",
      "Processing Query 887/1034 (ID: spider_dev_q886_idx886): 'What are the different continents and the total popuation and average life expectancy corresponding to each, for continents that have an average life expectancy less than 72?' (True DB: world_1)\n"
     ]
    },
    {
     "data": {
      "application/vnd.jupyter.widget-view+json": {
       "model_id": "5d929b46baae41c098e560bee1cab3de",
       "version_major": 2,
       "version_minor": 0
      },
      "text/plain": [
       "  DBs for Q:spider_dev_q886_idx8:   0%|          | 0/166 [00:00<?, ?it/s]"
      ]
     },
     "metadata": {},
     "output_type": "display_data"
    },
    {
     "name": "stdout",
     "output_type": "stream",
     "text": [
      "\n",
      "Processing Query 888/1034 (ID: spider_dev_q887_idx887): 'Find the total ranking points for each player and their first name.' (True DB: wta_1)\n"
     ]
    },
    {
     "data": {
      "application/vnd.jupyter.widget-view+json": {
       "model_id": "80ebcf8cd80246f882d7dbeac2b35f9a",
       "version_major": 2,
       "version_minor": 0
      },
      "text/plain": [
       "  DBs for Q:spider_dev_q887_idx8:   0%|          | 0/166 [00:00<?, ?it/s]"
      ]
     },
     "metadata": {},
     "output_type": "display_data"
    },
    {
     "name": "stdout",
     "output_type": "stream",
     "text": [
      "\n",
      "Processing Query 889/1034 (ID: spider_dev_q888_idx888): 'How long is the people’s average life expectancy in Central Africa?' (True DB: world_1)\n"
     ]
    },
    {
     "data": {
      "application/vnd.jupyter.widget-view+json": {
       "model_id": "60c7ac5182b14e4384beddd903c63f59",
       "version_major": 2,
       "version_minor": 0
      },
      "text/plain": [
       "  DBs for Q:spider_dev_q888_idx8:   0%|          | 0/166 [00:00<?, ?it/s]"
      ]
     },
     "metadata": {},
     "output_type": "display_data"
    },
    {
     "name": "stdout",
     "output_type": "stream",
     "text": [
      "\n",
      "Processing Query 890/1034 (ID: spider_dev_q889_idx889): 'Find the last name of the students who currently live in the state of North Carolina but have not registered in any degree program.' (True DB: student_transcripts_tracking)\n"
     ]
    },
    {
     "data": {
      "application/vnd.jupyter.widget-view+json": {
       "model_id": "ee2d341a9c204fc3af2e198f8a4b9b47",
       "version_major": 2,
       "version_minor": 0
      },
      "text/plain": [
       "  DBs for Q:spider_dev_q889_idx8:   0%|          | 0/166 [00:00<?, ?it/s]"
      ]
     },
     "metadata": {},
     "output_type": "display_data"
    },
    {
     "name": "stdout",
     "output_type": "stream",
     "text": [
      "\n",
      "Processing Query 891/1034 (ID: spider_dev_q890_idx890): 'List the cost of each treatment and the corresponding treatment type description.' (True DB: dog_kennels)\n"
     ]
    },
    {
     "data": {
      "application/vnd.jupyter.widget-view+json": {
       "model_id": "aba62a18b7dd488597876a0a0a4eca24",
       "version_major": 2,
       "version_minor": 0
      },
      "text/plain": [
       "  DBs for Q:spider_dev_q890_idx8:   0%|          | 0/166 [00:00<?, ?it/s]"
      ]
     },
     "metadata": {},
     "output_type": "display_data"
    },
    {
     "name": "stdout",
     "output_type": "stream",
     "text": [
      "\n",
      "Processing Query 892/1034 (ID: spider_dev_q891_idx891): 'How many high schoolers are in each grade?' (True DB: network_1)\n"
     ]
    },
    {
     "data": {
      "application/vnd.jupyter.widget-view+json": {
       "model_id": "265ea69762d04b599f23cce2eb16da5c",
       "version_major": 2,
       "version_minor": 0
      },
      "text/plain": [
       "  DBs for Q:spider_dev_q891_idx8:   0%|          | 0/166 [00:00<?, ?it/s]"
      ]
     },
     "metadata": {},
     "output_type": "display_data"
    },
    {
     "name": "stdout",
     "output_type": "stream",
     "text": [
      "\n",
      "Processing Query 893/1034 (ID: spider_dev_q892_idx892): 'What are the ids and texts of paragraphs in the document titled 'Welcome to NY'?' (True DB: cre_Doc_Template_Mgt)\n"
     ]
    },
    {
     "data": {
      "application/vnd.jupyter.widget-view+json": {
       "model_id": "ec3c28e966a640148a5e06a6057b2163",
       "version_major": 2,
       "version_minor": 0
      },
      "text/plain": [
       "  DBs for Q:spider_dev_q892_idx8:   0%|          | 0/166 [00:00<?, ?it/s]"
      ]
     },
     "metadata": {},
     "output_type": "display_data"
    },
    {
     "name": "stdout",
     "output_type": "stream",
     "text": [
      "\n",
      "Processing Query 894/1034 (ID: spider_dev_q893_idx893): 'For each citizenship, what is the maximum net worth?' (True DB: singer)\n"
     ]
    },
    {
     "data": {
      "application/vnd.jupyter.widget-view+json": {
       "model_id": "ce885e1e75ef494094622b3ea0727eda",
       "version_major": 2,
       "version_minor": 0
      },
      "text/plain": [
       "  DBs for Q:spider_dev_q893_idx8:   0%|          | 0/166 [00:00<?, ?it/s]"
      ]
     },
     "metadata": {},
     "output_type": "display_data"
    },
    {
     "name": "stdout",
     "output_type": "stream",
     "text": [
      "\n",
      "Processing Query 895/1034 (ID: spider_dev_q894_idx894): 'What is the average edispl of the cars of model volvo?' (True DB: car_1)\n"
     ]
    },
    {
     "data": {
      "application/vnd.jupyter.widget-view+json": {
       "model_id": "b2de40a0b32d43b9b6e9c25ea9d52065",
       "version_major": 2,
       "version_minor": 0
      },
      "text/plain": [
       "  DBs for Q:spider_dev_q894_idx8:   0%|          | 0/166 [00:00<?, ?it/s]"
      ]
     },
     "metadata": {},
     "output_type": "display_data"
    },
    {
     "name": "stdout",
     "output_type": "stream",
     "text": [
      "\n",
      "Processing Query 896/1034 (ID: spider_dev_q895_idx895): 'How many different degree names are offered?' (True DB: student_transcripts_tracking)\n"
     ]
    },
    {
     "data": {
      "application/vnd.jupyter.widget-view+json": {
       "model_id": "2987465da10247f7b24d48936fa322aa",
       "version_major": 2,
       "version_minor": 0
      },
      "text/plain": [
       "  DBs for Q:spider_dev_q895_idx8:   0%|          | 0/166 [00:00<?, ?it/s]"
      ]
     },
     "metadata": {},
     "output_type": "display_data"
    },
    {
     "name": "stdout",
     "output_type": "stream",
     "text": [
      "\n",
      "Processing Query 897/1034 (ID: spider_dev_q896_idx896): 'Show the name of singers whose birth year is either 1948 or 1949?' (True DB: singer)\n"
     ]
    },
    {
     "data": {
      "application/vnd.jupyter.widget-view+json": {
       "model_id": "29495d55cf694d87980c7938e8a4da60",
       "version_major": 2,
       "version_minor": 0
      },
      "text/plain": [
       "  DBs for Q:spider_dev_q896_idx8:   0%|          | 0/166 [00:00<?, ?it/s]"
      ]
     },
     "metadata": {},
     "output_type": "display_data"
    },
    {
     "name": "stdout",
     "output_type": "stream",
     "text": [
      "\n",
      "Processing Query 898/1034 (ID: spider_dev_q897_idx897): 'Which airlines have less than 200 flights?' (True DB: flight_2)\n"
     ]
    },
    {
     "data": {
      "application/vnd.jupyter.widget-view+json": {
       "model_id": "fd5b3cc31b604d91bca12532570444cb",
       "version_major": 2,
       "version_minor": 0
      },
      "text/plain": [
       "  DBs for Q:spider_dev_q897_idx8:   0%|          | 0/166 [00:00<?, ?it/s]"
      ]
     },
     "metadata": {},
     "output_type": "display_data"
    },
    {
     "name": "stdout",
     "output_type": "stream",
     "text": [
      "\n",
      "Processing Query 899/1034 (ID: spider_dev_q898_idx898): 'How many singers are there?' (True DB: singer)\n"
     ]
    },
    {
     "data": {
      "application/vnd.jupyter.widget-view+json": {
       "model_id": "c4bd137d1f29402e9214c00fe9f4e33f",
       "version_major": 2,
       "version_minor": 0
      },
      "text/plain": [
       "  DBs for Q:spider_dev_q898_idx8:   0%|          | 0/166 [00:00<?, ?it/s]"
      ]
     },
     "metadata": {},
     "output_type": "display_data"
    },
    {
     "name": "stdout",
     "output_type": "stream",
     "text": [
      "\n",
      "Processing Query 900/1034 (ID: spider_dev_q899_idx899): 'What are the names of properties that are either houses or apartments with more than 1 room?' (True DB: real_estate_properties)\n"
     ]
    },
    {
     "data": {
      "application/vnd.jupyter.widget-view+json": {
       "model_id": "9c4737def9144de6a083ce88a8c23fbd",
       "version_major": 2,
       "version_minor": 0
      },
      "text/plain": [
       "  DBs for Q:spider_dev_q899_idx8:   0%|          | 0/166 [00:00<?, ?it/s]"
      ]
     },
     "metadata": {},
     "output_type": "display_data"
    },
    {
     "name": "stdout",
     "output_type": "stream",
     "text": [
      "\n",
      "Processing Query 901/1034 (ID: spider_dev_q900_idx900): 'What are the type codes and descriptions for all template types?' (True DB: cre_Doc_Template_Mgt)\n"
     ]
    },
    {
     "data": {
      "application/vnd.jupyter.widget-view+json": {
       "model_id": "f5c2647d78b44ef9bd92294abefc8764",
       "version_major": 2,
       "version_minor": 0
      },
      "text/plain": [
       "  DBs for Q:spider_dev_q900_idx9:   0%|          | 0/166 [00:00<?, ?it/s]"
      ]
     },
     "metadata": {},
     "output_type": "display_data"
    },
    {
     "name": "stdout",
     "output_type": "stream",
     "text": [
      "\n",
      "Processing Query 902/1034 (ID: spider_dev_q901_idx901): 'What is the total count of teachers?' (True DB: course_teach)\n"
     ]
    },
    {
     "data": {
      "application/vnd.jupyter.widget-view+json": {
       "model_id": "1f9f046aa67f4d0a84333ae61e40578d",
       "version_major": 2,
       "version_minor": 0
      },
      "text/plain": [
       "  DBs for Q:spider_dev_q901_idx9:   0%|          | 0/166 [00:00<?, ?it/s]"
      ]
     },
     "metadata": {},
     "output_type": "display_data"
    },
    {
     "name": "stdout",
     "output_type": "stream",
     "text": [
      "\n",
      "Processing Query 903/1034 (ID: spider_dev_q902_idx902): 'What are the names of conductors, sorted descending by the number of years they have worked?' (True DB: orchestra)\n"
     ]
    },
    {
     "data": {
      "application/vnd.jupyter.widget-view+json": {
       "model_id": "35b6becde8ee450ea5a06b317c445e8f",
       "version_major": 2,
       "version_minor": 0
      },
      "text/plain": [
       "  DBs for Q:spider_dev_q902_idx9:   0%|          | 0/166 [00:00<?, ?it/s]"
      ]
     },
     "metadata": {},
     "output_type": "display_data"
    },
    {
     "name": "stdout",
     "output_type": "stream",
     "text": [
      "\n",
      "Processing Query 904/1034 (ID: spider_dev_q903_idx903): 'Find the number of left handed winners who participated in the WTA Championships.' (True DB: wta_1)\n"
     ]
    },
    {
     "data": {
      "application/vnd.jupyter.widget-view+json": {
       "model_id": "e7770f0433c140b89e366012866260c2",
       "version_major": 2,
       "version_minor": 0
      },
      "text/plain": [
       "  DBs for Q:spider_dev_q903_idx9:   0%|          | 0/166 [00:00<?, ?it/s]"
      ]
     },
     "metadata": {},
     "output_type": "display_data"
    },
    {
     "name": "stdout",
     "output_type": "stream",
     "text": [
      "\n",
      "Processing Query 905/1034 (ID: spider_dev_q904_idx904): 'Return the ids corresponding to templates with the description 'Presentation'.' (True DB: cre_Doc_Template_Mgt)\n"
     ]
    },
    {
     "data": {
      "application/vnd.jupyter.widget-view+json": {
       "model_id": "d520a2fe7324483b99d8bccc31a867b6",
       "version_major": 2,
       "version_minor": 0
      },
      "text/plain": [
       "  DBs for Q:spider_dev_q904_idx9:   0%|          | 0/166 [00:00<?, ?it/s]"
      ]
     },
     "metadata": {},
     "output_type": "display_data"
    },
    {
     "name": "stdout",
     "output_type": "stream",
     "text": [
      "\n",
      "Processing Query 906/1034 (ID: spider_dev_q905_idx905): 'What region is Kabul in?' (True DB: world_1)\n"
     ]
    },
    {
     "data": {
      "application/vnd.jupyter.widget-view+json": {
       "model_id": "e0e0656375ae446e94fa04c24d190a4b",
       "version_major": 2,
       "version_minor": 0
      },
      "text/plain": [
       "  DBs for Q:spider_dev_q905_idx9:   0%|          | 0/166 [00:00<?, ?it/s]"
      ]
     },
     "metadata": {},
     "output_type": "display_data"
    },
    {
     "name": "stdout",
     "output_type": "stream",
     "text": [
      "\n",
      "Processing Query 907/1034 (ID: spider_dev_q906_idx906): 'Show all document ids, names and the number of paragraphs in each document.' (True DB: cre_Doc_Template_Mgt)\n"
     ]
    },
    {
     "data": {
      "application/vnd.jupyter.widget-view+json": {
       "model_id": "17b7f1ad276a421dae82d7468659f4c5",
       "version_major": 2,
       "version_minor": 0
      },
      "text/plain": [
       "  DBs for Q:spider_dev_q906_idx9:   0%|          | 0/166 [00:00<?, ?it/s]"
      ]
     },
     "metadata": {},
     "output_type": "display_data"
    },
    {
     "name": "stdout",
     "output_type": "stream",
     "text": [
      "\n",
      "Processing Query 908/1034 (ID: spider_dev_q907_idx907): 'What is the best rank of losers across all matches?' (True DB: wta_1)\n"
     ]
    },
    {
     "data": {
      "application/vnd.jupyter.widget-view+json": {
       "model_id": "cd4f559e15194002bff8892335dd2b76",
       "version_major": 2,
       "version_minor": 0
      },
      "text/plain": [
       "  DBs for Q:spider_dev_q907_idx9:   0%|          | 0/166 [00:00<?, ?it/s]"
      ]
     },
     "metadata": {},
     "output_type": "display_data"
    },
    {
     "name": "stdout",
     "output_type": "stream",
     "text": [
      "\n",
      "Processing Query 909/1034 (ID: spider_dev_q908_idx908): 'How many airports do we have?' (True DB: flight_2)\n"
     ]
    },
    {
     "data": {
      "application/vnd.jupyter.widget-view+json": {
       "model_id": "75027ead5ee44830bf66cced11add69f",
       "version_major": 2,
       "version_minor": 0
      },
      "text/plain": [
       "  DBs for Q:spider_dev_q908_idx9:   0%|          | 0/166 [00:00<?, ?it/s]"
      ]
     },
     "metadata": {},
     "output_type": "display_data"
    },
    {
     "name": "stdout",
     "output_type": "stream",
     "text": [
      "\n",
      "Processing Query 910/1034 (ID: spider_dev_q909_idx909): 'What are the ids of templates with template type code PP or PPT?' (True DB: cre_Doc_Template_Mgt)\n"
     ]
    },
    {
     "data": {
      "application/vnd.jupyter.widget-view+json": {
       "model_id": "0f94a5fcab8c4a74afb62fbe5fb033d9",
       "version_major": 2,
       "version_minor": 0
      },
      "text/plain": [
       "  DBs for Q:spider_dev_q909_idx9:   0%|          | 0/166 [00:00<?, ?it/s]"
      ]
     },
     "metadata": {},
     "output_type": "display_data"
    },
    {
     "name": "stdout",
     "output_type": "stream",
     "text": [
      "\n",
      "Processing Query 911/1034 (ID: spider_dev_q910_idx910): 'How many visitors below age 30 are there?' (True DB: museum_visit)\n"
     ]
    },
    {
     "data": {
      "application/vnd.jupyter.widget-view+json": {
       "model_id": "39529c6f8dd64a3aa49a7c9fb1fcd7f0",
       "version_major": 2,
       "version_minor": 0
      },
      "text/plain": [
       "  DBs for Q:spider_dev_q910_idx9:   0%|          | 0/166 [00:00<?, ?it/s]"
      ]
     },
     "metadata": {},
     "output_type": "display_data"
    },
    {
     "name": "stdout",
     "output_type": "stream",
     "text": [
      "\n",
      "Processing Query 912/1034 (ID: spider_dev_q911_idx911): 'Show the name and theme for all concerts and the number of singers in each concert.' (True DB: concert_singer)\n"
     ]
    },
    {
     "data": {
      "application/vnd.jupyter.widget-view+json": {
       "model_id": "93067e042c9e4f1095820942d4542470",
       "version_major": 2,
       "version_minor": 0
      },
      "text/plain": [
       "  DBs for Q:spider_dev_q911_idx9:   0%|          | 0/166 [00:00<?, ?it/s]"
      ]
     },
     "metadata": {},
     "output_type": "display_data"
    },
    {
     "name": "stdout",
     "output_type": "stream",
     "text": [
      "\n",
      "Processing Query 913/1034 (ID: spider_dev_q912_idx912): 'List the maximum weight and type for each type of pet.' (True DB: pets_1)\n"
     ]
    },
    {
     "data": {
      "application/vnd.jupyter.widget-view+json": {
       "model_id": "3e36577af8184c5091d6c492b6afd72c",
       "version_major": 2,
       "version_minor": 0
      },
      "text/plain": [
       "  DBs for Q:spider_dev_q912_idx9:   0%|          | 0/166 [00:00<?, ?it/s]"
      ]
     },
     "metadata": {},
     "output_type": "display_data"
    },
    {
     "name": "stdout",
     "output_type": "stream",
     "text": [
      "\n",
      "Processing Query 914/1034 (ID: spider_dev_q913_idx913): 'Return the name of the high school student with the most friends.' (True DB: network_1)\n"
     ]
    },
    {
     "data": {
      "application/vnd.jupyter.widget-view+json": {
       "model_id": "a6c6bdd54d374e03b502ddc8ac315911",
       "version_major": 2,
       "version_minor": 0
      },
      "text/plain": [
       "  DBs for Q:spider_dev_q913_idx9:   0%|          | 0/166 [00:00<?, ?it/s]"
      ]
     },
     "metadata": {},
     "output_type": "display_data"
    },
    {
     "name": "stdout",
     "output_type": "stream",
     "text": [
      "\n",
      "Processing Query 915/1034 (ID: spider_dev_q914_idx914): 'What is the most populace city that speaks English?' (True DB: world_1)\n"
     ]
    },
    {
     "data": {
      "application/vnd.jupyter.widget-view+json": {
       "model_id": "642f0e8366aa46a190ead2c0fbb8b47a",
       "version_major": 2,
       "version_minor": 0
      },
      "text/plain": [
       "  DBs for Q:spider_dev_q914_idx9:   0%|          | 0/166 [00:00<?, ?it/s]"
      ]
     },
     "metadata": {},
     "output_type": "display_data"
    },
    {
     "name": "stdout",
     "output_type": "stream",
     "text": [
      "\n",
      "Processing Query 916/1034 (ID: spider_dev_q915_idx915): 'Give the city and country for the Alton airport.' (True DB: flight_2)\n"
     ]
    },
    {
     "data": {
      "application/vnd.jupyter.widget-view+json": {
       "model_id": "65a3c03405c845b6a498d530237cc129",
       "version_major": 2,
       "version_minor": 0
      },
      "text/plain": [
       "  DBs for Q:spider_dev_q915_idx9:   0%|          | 0/166 [00:00<?, ?it/s]"
      ]
     },
     "metadata": {},
     "output_type": "display_data"
    },
    {
     "name": "stdout",
     "output_type": "stream",
     "text": [
      "\n",
      "Processing Query 917/1034 (ID: spider_dev_q916_idx916): 'List the names of people that are not poker players.' (True DB: poker_player)\n"
     ]
    },
    {
     "data": {
      "application/vnd.jupyter.widget-view+json": {
       "model_id": "b348d9afb387495a8951d2cf7a2961bc",
       "version_major": 2,
       "version_minor": 0
      },
      "text/plain": [
       "  DBs for Q:spider_dev_q916_idx9:   0%|          | 0/166 [00:00<?, ?it/s]"
      ]
     },
     "metadata": {},
     "output_type": "display_data"
    },
    {
     "name": "stdout",
     "output_type": "stream",
     "text": [
      "\n",
      "Processing Query 918/1034 (ID: spider_dev_q917_idx917): 'Return the document id, template id, and description for the document with the name Robbin CV.' (True DB: cre_Doc_Template_Mgt)\n"
     ]
    },
    {
     "data": {
      "application/vnd.jupyter.widget-view+json": {
       "model_id": "af603a28f6de426ab8d1176868600543",
       "version_major": 2,
       "version_minor": 0
      },
      "text/plain": [
       "  DBs for Q:spider_dev_q917_idx9:   0%|          | 0/166 [00:00<?, ?it/s]"
      ]
     },
     "metadata": {},
     "output_type": "display_data"
    },
    {
     "name": "stdout",
     "output_type": "stream",
     "text": [
      "\n",
      "Processing Query 919/1034 (ID: spider_dev_q918_idx918): 'Show names of people whose nationality is not \"Russia\".' (True DB: poker_player)\n"
     ]
    },
    {
     "data": {
      "application/vnd.jupyter.widget-view+json": {
       "model_id": "f1b96ab1a36541fa8f1cb49fe938463c",
       "version_major": 2,
       "version_minor": 0
      },
      "text/plain": [
       "  DBs for Q:spider_dev_q918_idx9:   0%|          | 0/166 [00:00<?, ?it/s]"
      ]
     },
     "metadata": {},
     "output_type": "display_data"
    },
    {
     "name": "stdout",
     "output_type": "stream",
     "text": [
      "\n",
      "Processing Query 920/1034 (ID: spider_dev_q919_idx919): 'How much does the youngest dog weigh?' (True DB: pets_1)\n"
     ]
    },
    {
     "data": {
      "application/vnd.jupyter.widget-view+json": {
       "model_id": "e1ca9fb25a3a46fdbfa9bae8fcfcfb40",
       "version_major": 2,
       "version_minor": 0
      },
      "text/plain": [
       "  DBs for Q:spider_dev_q919_idx9:   0%|          | 0/166 [00:00<?, ?it/s]"
      ]
     },
     "metadata": {},
     "output_type": "display_data"
    },
    {
     "name": "stdout",
     "output_type": "stream",
     "text": [
      "\n",
      "Processing Query 921/1034 (ID: spider_dev_q920_idx920): 'What are the template ids with template type description \"Presentation\".' (True DB: cre_Doc_Template_Mgt)\n"
     ]
    },
    {
     "data": {
      "application/vnd.jupyter.widget-view+json": {
       "model_id": "32640279752842d8ab6ab3acba900eff",
       "version_major": 2,
       "version_minor": 0
      },
      "text/plain": [
       "  DBs for Q:spider_dev_q920_idx9:   0%|          | 0/166 [00:00<?, ?it/s]"
      ]
     },
     "metadata": {},
     "output_type": "display_data"
    },
    {
     "name": "stdout",
     "output_type": "stream",
     "text": [
      "\n",
      "Processing Query 922/1034 (ID: spider_dev_q921_idx921): 'Find the arriving date and the departing date of the dogs that received a treatment.' (True DB: dog_kennels)\n"
     ]
    },
    {
     "data": {
      "application/vnd.jupyter.widget-view+json": {
       "model_id": "b7d7a90e0f8f4661a68dbe4c046c9aa3",
       "version_major": 2,
       "version_minor": 0
      },
      "text/plain": [
       "  DBs for Q:spider_dev_q921_idx9:   0%|          | 0/166 [00:00<?, ?it/s]"
      ]
     },
     "metadata": {},
     "output_type": "display_data"
    },
    {
     "name": "stdout",
     "output_type": "stream",
     "text": [
      "\n",
      "Processing Query 923/1034 (ID: spider_dev_q922_idx922): 'What is the description of the treatment type that costs the least money in total?' (True DB: dog_kennels)\n"
     ]
    },
    {
     "data": {
      "application/vnd.jupyter.widget-view+json": {
       "model_id": "9ecc5a54691d429298626f6afa37a872",
       "version_major": 2,
       "version_minor": 0
      },
      "text/plain": [
       "  DBs for Q:spider_dev_q922_idx9:   0%|          | 0/166 [00:00<?, ?it/s]"
      ]
     },
     "metadata": {},
     "output_type": "display_data"
    },
    {
     "name": "stdout",
     "output_type": "stream",
     "text": [
      "\n",
      "Processing Query 924/1034 (ID: spider_dev_q923_idx923): 'What are the id and name of the museum visited most times?' (True DB: museum_visit)\n"
     ]
    },
    {
     "data": {
      "application/vnd.jupyter.widget-view+json": {
       "model_id": "331d26edf29d43a1ab814b52a208176d",
       "version_major": 2,
       "version_minor": 0
      },
      "text/plain": [
       "  DBs for Q:spider_dev_q923_idx9:   0%|          | 0/166 [00:00<?, ?it/s]"
      ]
     },
     "metadata": {},
     "output_type": "display_data"
    },
    {
     "name": "stdout",
     "output_type": "stream",
     "text": [
      "\n",
      "Processing Query 925/1034 (ID: spider_dev_q924_idx924): 'Return the birth date of the poker player with the lowest earnings.' (True DB: poker_player)\n"
     ]
    },
    {
     "data": {
      "application/vnd.jupyter.widget-view+json": {
       "model_id": "e362c35597e34908ae1a0346cdd5b713",
       "version_major": 2,
       "version_minor": 0
      },
      "text/plain": [
       "  DBs for Q:spider_dev_q924_idx9:   0%|          | 0/166 [00:00<?, ?it/s]"
      ]
     },
     "metadata": {},
     "output_type": "display_data"
    },
    {
     "name": "stdout",
     "output_type": "stream",
     "text": [
      "\n",
      "Processing Query 926/1034 (ID: spider_dev_q925_idx925): 'What are the record companies of orchestras in descending order of years in which they were founded?' (True DB: orchestra)\n"
     ]
    },
    {
     "data": {
      "application/vnd.jupyter.widget-view+json": {
       "model_id": "09b262c87d9d41f2add7401360cae590",
       "version_major": 2,
       "version_minor": 0
      },
      "text/plain": [
       "  DBs for Q:spider_dev_q925_idx9:   0%|          | 0/166 [00:00<?, ?it/s]"
      ]
     },
     "metadata": {},
     "output_type": "display_data"
    },
    {
     "name": "stdout",
     "output_type": "stream",
     "text": [
      "\n",
      "Processing Query 927/1034 (ID: spider_dev_q926_idx926): 'What are the record companies that are used by both orchestras founded before 2003 and those founded after 2003?' (True DB: orchestra)\n"
     ]
    },
    {
     "data": {
      "application/vnd.jupyter.widget-view+json": {
       "model_id": "5c022fb278674d8bab34ed531199b430",
       "version_major": 2,
       "version_minor": 0
      },
      "text/plain": [
       "  DBs for Q:spider_dev_q926_idx9:   0%|          | 0/166 [00:00<?, ?it/s]"
      ]
     },
     "metadata": {},
     "output_type": "display_data"
    },
    {
     "name": "stdout",
     "output_type": "stream",
     "text": [
      "\n",
      "Processing Query 928/1034 (ID: spider_dev_q927_idx927): 'Which owner owns the most dogs? List the owner id, first name and last name.' (True DB: dog_kennels)\n"
     ]
    },
    {
     "data": {
      "application/vnd.jupyter.widget-view+json": {
       "model_id": "8f168ec824f540ce8db70dab7c0644bf",
       "version_major": 2,
       "version_minor": 0
      },
      "text/plain": [
       "  DBs for Q:spider_dev_q927_idx9:   0%|          | 0/166 [00:00<?, ?it/s]"
      ]
     },
     "metadata": {},
     "output_type": "display_data"
    },
    {
     "name": "stdout",
     "output_type": "stream",
     "text": [
      "\n",
      "Processing Query 929/1034 (ID: spider_dev_q928_idx928): 'What are the package options and the name of the series for the TV Channel that supports high definition TV?' (True DB: tvshow)\n"
     ]
    },
    {
     "data": {
      "application/vnd.jupyter.widget-view+json": {
       "model_id": "7c6900b699be4c739042e084d229ffc1",
       "version_major": 2,
       "version_minor": 0
      },
      "text/plain": [
       "  DBs for Q:spider_dev_q928_idx9:   0%|          | 0/166 [00:00<?, ?it/s]"
      ]
     },
     "metadata": {},
     "output_type": "display_data"
    },
    {
     "name": "stdout",
     "output_type": "stream",
     "text": [
      "\n",
      "Processing Query 930/1034 (ID: spider_dev_q929_idx929): 'How many countries are listed?' (True DB: car_1)\n"
     ]
    },
    {
     "data": {
      "application/vnd.jupyter.widget-view+json": {
       "model_id": "f2c440e947284ec0aa9c098f1a5c8c0a",
       "version_major": 2,
       "version_minor": 0
      },
      "text/plain": [
       "  DBs for Q:spider_dev_q929_idx9:   0%|          | 0/166 [00:00<?, ?it/s]"
      ]
     },
     "metadata": {},
     "output_type": "display_data"
    },
    {
     "name": "stdout",
     "output_type": "stream",
     "text": [
      "\n",
      "Processing Query 931/1034 (ID: spider_dev_q930_idx930): 'Find the name, population and expected life length of asian country with the largest area?' (True DB: world_1)\n"
     ]
    },
    {
     "data": {
      "application/vnd.jupyter.widget-view+json": {
       "model_id": "78bd2cb6da8245b48341d8033ed5d0b6",
       "version_major": 2,
       "version_minor": 0
      },
      "text/plain": [
       "  DBs for Q:spider_dev_q930_idx9:   0%|          | 0/166 [00:00<?, ?it/s]"
      ]
     },
     "metadata": {},
     "output_type": "display_data"
    },
    {
     "name": "stdout",
     "output_type": "stream",
     "text": [
      "\n",
      "Processing Query 932/1034 (ID: spider_dev_q931_idx931): 'How many players are there for each hand type?' (True DB: wta_1)\n"
     ]
    },
    {
     "data": {
      "application/vnd.jupyter.widget-view+json": {
       "model_id": "367a0489272c4bf4a25ca2d62e6c4769",
       "version_major": 2,
       "version_minor": 0
      },
      "text/plain": [
       "  DBs for Q:spider_dev_q931_idx9:   0%|          | 0/166 [00:00<?, ?it/s]"
      ]
     },
     "metadata": {},
     "output_type": "display_data"
    },
    {
     "name": "stdout",
     "output_type": "stream",
     "text": [
      "\n",
      "Processing Query 933/1034 (ID: spider_dev_q932_idx932): 'What is the maximum miles per gallon of the car with 8 cylinders or produced before 1980 ?' (True DB: car_1)\n"
     ]
    },
    {
     "data": {
      "application/vnd.jupyter.widget-view+json": {
       "model_id": "793a0b0bd8ef4e338756b73efe9b8156",
       "version_major": 2,
       "version_minor": 0
      },
      "text/plain": [
       "  DBs for Q:spider_dev_q932_idx9:   0%|          | 0/166 [00:00<?, ?it/s]"
      ]
     },
     "metadata": {},
     "output_type": "display_data"
    },
    {
     "name": "stdout",
     "output_type": "stream",
     "text": [
      "\n",
      "Processing Query 934/1034 (ID: spider_dev_q933_idx933): 'Show the ID of the high schooler named Kyle.' (True DB: network_1)\n"
     ]
    },
    {
     "data": {
      "application/vnd.jupyter.widget-view+json": {
       "model_id": "e0b8551671344b2790a71a22f18af1c6",
       "version_major": 2,
       "version_minor": 0
      },
      "text/plain": [
       "  DBs for Q:spider_dev_q933_idx9:   0%|          | 0/166 [00:00<?, ?it/s]"
      ]
     },
     "metadata": {},
     "output_type": "display_data"
    },
    {
     "name": "stdout",
     "output_type": "stream",
     "text": [
      "\n",
      "Processing Query 935/1034 (ID: spider_dev_q934_idx934): 'What is the name of the singer who is worth the most?' (True DB: singer)\n"
     ]
    },
    {
     "data": {
      "application/vnd.jupyter.widget-view+json": {
       "model_id": "a2b02fa6cee34cbd872e5014f9dcf8ad",
       "version_major": 2,
       "version_minor": 0
      },
      "text/plain": [
       "  DBs for Q:spider_dev_q934_idx9:   0%|          | 0/166 [00:00<?, ?it/s]"
      ]
     },
     "metadata": {},
     "output_type": "display_data"
    },
    {
     "name": "stdout",
     "output_type": "stream",
     "text": [
      "\n",
      "Processing Query 936/1034 (ID: spider_dev_q935_idx935): 'What type of pet is the youngest animal, and how much does it weigh?' (True DB: pets_1)\n"
     ]
    },
    {
     "data": {
      "application/vnd.jupyter.widget-view+json": {
       "model_id": "fc9d7d9ad6774b388f35c5d5a90f2947",
       "version_major": 2,
       "version_minor": 0
      },
      "text/plain": [
       "  DBs for Q:spider_dev_q935_idx9:   0%|          | 0/166 [00:00<?, ?it/s]"
      ]
     },
     "metadata": {},
     "output_type": "display_data"
    },
    {
     "name": "stdout",
     "output_type": "stream",
     "text": [
      "\n",
      "Processing Query 937/1034 (ID: spider_dev_q936_idx936): 'What are the names of the stadiums without any concerts?' (True DB: concert_singer)\n"
     ]
    },
    {
     "data": {
      "application/vnd.jupyter.widget-view+json": {
       "model_id": "523f79c350f84db0b80df537e0f8ab80",
       "version_major": 2,
       "version_minor": 0
      },
      "text/plain": [
       "  DBs for Q:spider_dev_q936_idx9:   0%|          | 0/166 [00:00<?, ?it/s]"
      ]
     },
     "metadata": {},
     "output_type": "display_data"
    },
    {
     "name": "stdout",
     "output_type": "stream",
     "text": [
      "\n",
      "Processing Query 938/1034 (ID: spider_dev_q937_idx937): 'What is the age of the oldest dog?' (True DB: dog_kennels)\n"
     ]
    },
    {
     "data": {
      "application/vnd.jupyter.widget-view+json": {
       "model_id": "f9d16befe5f741719b57d2a87a0d1f29",
       "version_major": 2,
       "version_minor": 0
      },
      "text/plain": [
       "  DBs for Q:spider_dev_q937_idx9:   0%|          | 0/166 [00:00<?, ?it/s]"
      ]
     },
     "metadata": {},
     "output_type": "display_data"
    },
    {
     "name": "stdout",
     "output_type": "stream",
     "text": [
      "\n",
      "Processing Query 939/1034 (ID: spider_dev_q938_idx938): 'how many countries are in Asia?' (True DB: world_1)\n"
     ]
    },
    {
     "data": {
      "application/vnd.jupyter.widget-view+json": {
       "model_id": "fd28000fc2c64d22b933d374475a20e4",
       "version_major": 2,
       "version_minor": 0
      },
      "text/plain": [
       "  DBs for Q:spider_dev_q938_idx9:   0%|          | 0/166 [00:00<?, ?it/s]"
      ]
     },
     "metadata": {},
     "output_type": "display_data"
    },
    {
     "name": "stdout",
     "output_type": "stream",
     "text": [
      "\n",
      "Processing Query 940/1034 (ID: spider_dev_q939_idx939): 'What is the total number of countries where Spanish is spoken by the largest percentage of people?' (True DB: world_1)\n"
     ]
    },
    {
     "data": {
      "application/vnd.jupyter.widget-view+json": {
       "model_id": "54de68d5b1e5426e84033e160153ff33",
       "version_major": 2,
       "version_minor": 0
      },
      "text/plain": [
       "  DBs for Q:spider_dev_q939_idx9:   0%|          | 0/166 [00:00<?, ?it/s]"
      ]
     },
     "metadata": {},
     "output_type": "display_data"
    },
    {
     "name": "stdout",
     "output_type": "stream",
     "text": [
      "\n",
      "Processing Query 941/1034 (ID: spider_dev_q940_idx940): 'Return the nationalities for which there are two or more people.' (True DB: poker_player)\n"
     ]
    },
    {
     "data": {
      "application/vnd.jupyter.widget-view+json": {
       "model_id": "be702f0edac2441f80fbe7a0ecae7bbe",
       "version_major": 2,
       "version_minor": 0
      },
      "text/plain": [
       "  DBs for Q:spider_dev_q940_idx9:   0%|          | 0/166 [00:00<?, ?it/s]"
      ]
     },
     "metadata": {},
     "output_type": "display_data"
    },
    {
     "name": "stdout",
     "output_type": "stream",
     "text": [
      "\n",
      "Processing Query 942/1034 (ID: spider_dev_q941_idx941): 'Show the date and id of the transcript with at least 2 course results.' (True DB: student_transcripts_tracking)\n"
     ]
    },
    {
     "data": {
      "application/vnd.jupyter.widget-view+json": {
       "model_id": "329d445939ff41c49ce8df3537fe349a",
       "version_major": 2,
       "version_minor": 0
      },
      "text/plain": [
       "  DBs for Q:spider_dev_q941_idx9:   0%|          | 0/166 [00:00<?, ?it/s]"
      ]
     },
     "metadata": {},
     "output_type": "display_data"
    },
    {
     "name": "stdout",
     "output_type": "stream",
     "text": [
      "\n",
      "Processing Query 943/1034 (ID: spider_dev_q942_idx942): 'Find the maximum weight for each type of pet. List the maximum weight and pet type.' (True DB: pets_1)\n"
     ]
    },
    {
     "data": {
      "application/vnd.jupyter.widget-view+json": {
       "model_id": "2d8f1e2d4fbb448c95ade74b4d05e68f",
       "version_major": 2,
       "version_minor": 0
      },
      "text/plain": [
       "  DBs for Q:spider_dev_q942_idx9:   0%|          | 0/166 [00:00<?, ?it/s]"
      ]
     },
     "metadata": {},
     "output_type": "display_data"
    },
    {
     "name": "stdout",
     "output_type": "stream",
     "text": [
      "\n",
      "Processing Query 944/1034 (ID: spider_dev_q943_idx943): 'What is the total number of people living in the nations that do not use English?' (True DB: world_1)\n"
     ]
    },
    {
     "data": {
      "application/vnd.jupyter.widget-view+json": {
       "model_id": "d4454e8ab63e4d5380ce95d317503773",
       "version_major": 2,
       "version_minor": 0
      },
      "text/plain": [
       "  DBs for Q:spider_dev_q943_idx9:   0%|          | 0/166 [00:00<?, ?it/s]"
      ]
     },
     "metadata": {},
     "output_type": "display_data"
    },
    {
     "name": "stdout",
     "output_type": "stream",
     "text": [
      "\n",
      "Processing Query 945/1034 (ID: spider_dev_q944_idx944): 'Count the number of high schoolers in grades 9 or 10.' (True DB: network_1)\n"
     ]
    },
    {
     "data": {
      "application/vnd.jupyter.widget-view+json": {
       "model_id": "06ac25e09a7b470087d5fce9980fb2bf",
       "version_major": 2,
       "version_minor": 0
      },
      "text/plain": [
       "  DBs for Q:spider_dev_q944_idx9:   0%|          | 0/166 [00:00<?, ?it/s]"
      ]
     },
     "metadata": {},
     "output_type": "display_data"
    },
    {
     "name": "stdout",
     "output_type": "stream",
     "text": [
      "\n",
      "Processing Query 946/1034 (ID: spider_dev_q945_idx945): 'Which African countries have a smaller population than that of any country in Asia?' (True DB: world_1)\n"
     ]
    },
    {
     "data": {
      "application/vnd.jupyter.widget-view+json": {
       "model_id": "3c82799288024174afd486f7d1dc1f33",
       "version_major": 2,
       "version_minor": 0
      },
      "text/plain": [
       "  DBs for Q:spider_dev_q945_idx9:   0%|          | 0/166 [00:00<?, ?it/s]"
      ]
     },
     "metadata": {},
     "output_type": "display_data"
    },
    {
     "name": "stdout",
     "output_type": "stream",
     "text": [
      "\n",
      "Processing Query 947/1034 (ID: spider_dev_q946_idx946): 'What are the different years in which there were cars produced that weighed less than 4000 and also cars that weighted more than 3000 ?' (True DB: car_1)\n"
     ]
    },
    {
     "data": {
      "application/vnd.jupyter.widget-view+json": {
       "model_id": "c6f87526899b49bc8abaffaaf8cd78c3",
       "version_major": 2,
       "version_minor": 0
      },
      "text/plain": [
       "  DBs for Q:spider_dev_q946_idx9:   0%|          | 0/166 [00:00<?, ?it/s]"
      ]
     },
     "metadata": {},
     "output_type": "display_data"
    },
    {
     "name": "stdout",
     "output_type": "stream",
     "text": [
      "\n",
      "Processing Query 948/1034 (ID: spider_dev_q947_idx947): 'What are the towns from which at least two teachers come from?' (True DB: course_teach)\n"
     ]
    },
    {
     "data": {
      "application/vnd.jupyter.widget-view+json": {
       "model_id": "b27097e1406e43fe8267df1d69d19a4d",
       "version_major": 2,
       "version_minor": 0
      },
      "text/plain": [
       "  DBs for Q:spider_dev_q947_idx9:   0%|          | 0/166 [00:00<?, ?it/s]"
      ]
     },
     "metadata": {},
     "output_type": "display_data"
    },
    {
     "name": "stdout",
     "output_type": "stream",
     "text": [
      "\n",
      "Processing Query 949/1034 (ID: spider_dev_q948_idx948): 'Return the grade that has the greatest number of high schoolers.' (True DB: network_1)\n"
     ]
    },
    {
     "data": {
      "application/vnd.jupyter.widget-view+json": {
       "model_id": "fad800280c04494daad5d3db2e41237f",
       "version_major": 2,
       "version_minor": 0
      },
      "text/plain": [
       "  DBs for Q:spider_dev_q948_idx9:   0%|          | 0/166 [00:00<?, ?it/s]"
      ]
     },
     "metadata": {},
     "output_type": "display_data"
    },
    {
     "name": "stdout",
     "output_type": "stream",
     "text": [
      "\n",
      "Processing Query 950/1034 (ID: spider_dev_q949_idx949): 'Find the districts in which there are both shops selling less than 3000 products and shops selling more than 10000 products.' (True DB: employee_hire_evaluation)\n"
     ]
    },
    {
     "data": {
      "application/vnd.jupyter.widget-view+json": {
       "model_id": "62074f137562455198c6fba4285d8356",
       "version_major": 2,
       "version_minor": 0
      },
      "text/plain": [
       "  DBs for Q:spider_dev_q949_idx9:   0%|          | 0/166 [00:00<?, ?it/s]"
      ]
     },
     "metadata": {},
     "output_type": "display_data"
    },
    {
     "name": "stdout",
     "output_type": "stream",
     "text": [
      "\n",
      "Processing Query 951/1034 (ID: spider_dev_q950_idx950): 'What are the names of singers ordered by ascending net worth?' (True DB: singer)\n"
     ]
    },
    {
     "data": {
      "application/vnd.jupyter.widget-view+json": {
       "model_id": "9169b181c74748a09daa0f143d3fd8c4",
       "version_major": 2,
       "version_minor": 0
      },
      "text/plain": [
       "  DBs for Q:spider_dev_q950_idx9:   0%|          | 0/166 [00:00<?, ?it/s]"
      ]
     },
     "metadata": {},
     "output_type": "display_data"
    },
    {
     "name": "stdout",
     "output_type": "stream",
     "text": [
      "\n",
      "Processing Query 952/1034 (ID: spider_dev_q951_idx951): 'What are the names of tournaments that have more than 10 matches?' (True DB: wta_1)\n"
     ]
    },
    {
     "data": {
      "application/vnd.jupyter.widget-view+json": {
       "model_id": "b6b122ec197d427991b30ad672095416",
       "version_major": 2,
       "version_minor": 0
      },
      "text/plain": [
       "  DBs for Q:spider_dev_q951_idx9:   0%|          | 0/166 [00:00<?, ?it/s]"
      ]
     },
     "metadata": {},
     "output_type": "display_data"
    },
    {
     "name": "stdout",
     "output_type": "stream",
     "text": [
      "\n",
      "Processing Query 953/1034 (ID: spider_dev_q952_idx952): 'How many pets are owned by students that have an age greater than 20?' (True DB: pets_1)\n"
     ]
    },
    {
     "data": {
      "application/vnd.jupyter.widget-view+json": {
       "model_id": "d28dc0aeccf1453e8856b05dbe2e76ff",
       "version_major": 2,
       "version_minor": 0
      },
      "text/plain": [
       "  DBs for Q:spider_dev_q952_idx9:   0%|          | 0/166 [00:00<?, ?it/s]"
      ]
     },
     "metadata": {},
     "output_type": "display_data"
    },
    {
     "name": "stdout",
     "output_type": "stream",
     "text": [
      "\n",
      "Processing Query 954/1034 (ID: spider_dev_q953_idx953): 'What are the first, middle, and last names, along with the ids, of all students who enrolled in 2 degree programs in one semester?' (True DB: student_transcripts_tracking)\n"
     ]
    },
    {
     "data": {
      "application/vnd.jupyter.widget-view+json": {
       "model_id": "918aace90c9b4e79b093273478be25fb",
       "version_major": 2,
       "version_minor": 0
      },
      "text/plain": [
       "  DBs for Q:spider_dev_q953_idx9:   0%|          | 0/166 [00:00<?, ?it/s]"
      ]
     },
     "metadata": {},
     "output_type": "display_data"
    },
    {
     "name": "stdout",
     "output_type": "stream",
     "text": [
      "\n",
      "Processing Query 955/1034 (ID: spider_dev_q954_idx954): 'Find all airlines that have fewer than 200 flights.' (True DB: flight_2)\n"
     ]
    },
    {
     "data": {
      "application/vnd.jupyter.widget-view+json": {
       "model_id": "3b98105c169d474386a4ab95aeeca669",
       "version_major": 2,
       "version_minor": 0
      },
      "text/plain": [
       "  DBs for Q:spider_dev_q954_idx9:   0%|          | 0/166 [00:00<?, ?it/s]"
      ]
     },
     "metadata": {},
     "output_type": "display_data"
    },
    {
     "name": "stdout",
     "output_type": "stream",
     "text": [
      "\n",
      "Processing Query 956/1034 (ID: spider_dev_q955_idx955): 'What are the different addresses that have students living there?' (True DB: student_transcripts_tracking)\n"
     ]
    },
    {
     "data": {
      "application/vnd.jupyter.widget-view+json": {
       "model_id": "22182353908247719bf73725ef89ddd3",
       "version_major": 2,
       "version_minor": 0
      },
      "text/plain": [
       "  DBs for Q:spider_dev_q955_idx9:   0%|          | 0/166 [00:00<?, ?it/s]"
      ]
     },
     "metadata": {},
     "output_type": "display_data"
    },
    {
     "name": "stdout",
     "output_type": "stream",
     "text": [
      "\n",
      "Processing Query 957/1034 (ID: spider_dev_q956_idx956): 'What are the email, cell phone and home phone of each professional?' (True DB: dog_kennels)\n"
     ]
    },
    {
     "data": {
      "application/vnd.jupyter.widget-view+json": {
       "model_id": "7cf26c84441d443e9f3318eb74700237",
       "version_major": 2,
       "version_minor": 0
      },
      "text/plain": [
       "  DBs for Q:spider_dev_q956_idx9:   0%|          | 0/166 [00:00<?, ?it/s]"
      ]
     },
     "metadata": {},
     "output_type": "display_data"
    },
    {
     "name": "stdout",
     "output_type": "stream",
     "text": [
      "\n",
      "Processing Query 958/1034 (ID: spider_dev_q957_idx957): 'What are the names of the teachers and how many courses do they teach?' (True DB: course_teach)\n"
     ]
    },
    {
     "data": {
      "application/vnd.jupyter.widget-view+json": {
       "model_id": "c083af3fde3d4f02aa4db8094b4e513a",
       "version_major": 2,
       "version_minor": 0
      },
      "text/plain": [
       "  DBs for Q:spider_dev_q957_idx9:   0%|          | 0/166 [00:00<?, ?it/s]"
      ]
     },
     "metadata": {},
     "output_type": "display_data"
    },
    {
     "name": "stdout",
     "output_type": "stream",
     "text": [
      "\n",
      "Processing Query 959/1034 (ID: spider_dev_q958_idx958): 'What are the languages used by the least number of TV Channels and how many channels use it?' (True DB: tvshow)\n"
     ]
    },
    {
     "data": {
      "application/vnd.jupyter.widget-view+json": {
       "model_id": "5654ba623b2041aabc0ef23259462d7b",
       "version_major": 2,
       "version_minor": 0
      },
      "text/plain": [
       "  DBs for Q:spider_dev_q958_idx9:   0%|          | 0/166 [00:00<?, ?it/s]"
      ]
     },
     "metadata": {},
     "output_type": "display_data"
    },
    {
     "name": "stdout",
     "output_type": "stream",
     "text": [
      "\n",
      "Processing Query 960/1034 (ID: spider_dev_q959_idx959): 'What is the degree summary name that has the most number of students enrolled?' (True DB: student_transcripts_tracking)\n"
     ]
    },
    {
     "data": {
      "application/vnd.jupyter.widget-view+json": {
       "model_id": "f4b90dc197494cbe9a19f46c81effa9e",
       "version_major": 2,
       "version_minor": 0
      },
      "text/plain": [
       "  DBs for Q:spider_dev_q959_idx9:   0%|          | 0/166 [00:00<?, ?it/s]"
      ]
     },
     "metadata": {},
     "output_type": "display_data"
    },
    {
     "name": "stdout",
     "output_type": "stream",
     "text": [
      "\n",
      "Processing Query 961/1034 (ID: spider_dev_q960_idx960): 'What are the population, name and leader of the country with the largest area?' (True DB: world_1)\n"
     ]
    },
    {
     "data": {
      "application/vnd.jupyter.widget-view+json": {
       "model_id": "af41f0e9d40d41c0be2afa0ef2ca8780",
       "version_major": 2,
       "version_minor": 0
      },
      "text/plain": [
       "  DBs for Q:spider_dev_q960_idx9:   0%|          | 0/166 [00:00<?, ?it/s]"
      ]
     },
     "metadata": {},
     "output_type": "display_data"
    },
    {
     "name": "stdout",
     "output_type": "stream",
     "text": [
      "\n",
      "Processing Query 962/1034 (ID: spider_dev_q961_idx961): 'Find the owner id and zip code of the owner who spent the most money in total for his or her dogs.' (True DB: dog_kennels)\n"
     ]
    },
    {
     "data": {
      "application/vnd.jupyter.widget-view+json": {
       "model_id": "00ffb7c9248b4666a82101f9e33de6c7",
       "version_major": 2,
       "version_minor": 0
      },
      "text/plain": [
       "  DBs for Q:spider_dev_q961_idx9:   0%|          | 0/166 [00:00<?, ?it/s]"
      ]
     },
     "metadata": {},
     "output_type": "display_data"
    },
    {
     "name": "stdout",
     "output_type": "stream",
     "text": [
      "\n",
      "Processing Query 963/1034 (ID: spider_dev_q962_idx962): 'Whose permanent address is different from his or her current address? List his or her first name.' (True DB: student_transcripts_tracking)\n"
     ]
    },
    {
     "data": {
      "application/vnd.jupyter.widget-view+json": {
       "model_id": "906c3c2dc61a4f31afb0bbb88bb53a14",
       "version_major": 2,
       "version_minor": 0
      },
      "text/plain": [
       "  DBs for Q:spider_dev_q962_idx9:   0%|          | 0/166 [00:00<?, ?it/s]"
      ]
     },
     "metadata": {},
     "output_type": "display_data"
    },
    {
     "name": "stdout",
     "output_type": "stream",
     "text": [
      "\n",
      "Processing Query 964/1034 (ID: spider_dev_q963_idx963): 'Find the name and location of the stadiums which some concerts happened in the years of both 2014 and 2015.' (True DB: concert_singer)\n"
     ]
    },
    {
     "data": {
      "application/vnd.jupyter.widget-view+json": {
       "model_id": "bf00ab0a9051477895be9cad3329f8c9",
       "version_major": 2,
       "version_minor": 0
      },
      "text/plain": [
       "  DBs for Q:spider_dev_q963_idx9:   0%|          | 0/166 [00:00<?, ?it/s]"
      ]
     },
     "metadata": {},
     "output_type": "display_data"
    },
    {
     "name": "stdout",
     "output_type": "stream",
     "text": [
      "\n",
      "Processing Query 965/1034 (ID: spider_dev_q964_idx964): 'What is the maximum accelerate for different number of cylinders?' (True DB: car_1)\n"
     ]
    },
    {
     "data": {
      "application/vnd.jupyter.widget-view+json": {
       "model_id": "9b71988d7a6e43fa8cd35d889e4af86e",
       "version_major": 2,
       "version_minor": 0
      },
      "text/plain": [
       "  DBs for Q:spider_dev_q964_idx9:   0%|          | 0/166 [00:00<?, ?it/s]"
      ]
     },
     "metadata": {},
     "output_type": "display_data"
    },
    {
     "name": "stdout",
     "output_type": "stream",
     "text": [
      "\n",
      "Processing Query 966/1034 (ID: spider_dev_q965_idx965): 'What is the horsepower of the car with the greatest accelerate?' (True DB: car_1)\n"
     ]
    },
    {
     "data": {
      "application/vnd.jupyter.widget-view+json": {
       "model_id": "a1ac5a26a5b74068994172f55450a0e1",
       "version_major": 2,
       "version_minor": 0
      },
      "text/plain": [
       "  DBs for Q:spider_dev_q965_idx9:   0%|          | 0/166 [00:00<?, ?it/s]"
      ]
     },
     "metadata": {},
     "output_type": "display_data"
    },
    {
     "name": "stdout",
     "output_type": "stream",
     "text": [
      "\n",
      "Processing Query 967/1034 (ID: spider_dev_q966_idx966): 'Find the number of dog pets that are raised by female students (with sex F).' (True DB: pets_1)\n"
     ]
    },
    {
     "data": {
      "application/vnd.jupyter.widget-view+json": {
       "model_id": "3b55edae850f4d4ab2400bfd8b3caebb",
       "version_major": 2,
       "version_minor": 0
      },
      "text/plain": [
       "  DBs for Q:spider_dev_q966_idx9:   0%|          | 0/166 [00:00<?, ?it/s]"
      ]
     },
     "metadata": {},
     "output_type": "display_data"
    },
    {
     "name": "stdout",
     "output_type": "stream",
     "text": [
      "\n",
      "Processing Query 968/1034 (ID: spider_dev_q967_idx967): 'How many battles did not lose any ship with tonnage '225'?' (True DB: battle_death)\n"
     ]
    },
    {
     "data": {
      "application/vnd.jupyter.widget-view+json": {
       "model_id": "135dcf53fff4424a8d3553d15ac4db68",
       "version_major": 2,
       "version_minor": 0
      },
      "text/plain": [
       "  DBs for Q:spider_dev_q967_idx9:   0%|          | 0/166 [00:00<?, ?it/s]"
      ]
     },
     "metadata": {},
     "output_type": "display_data"
    },
    {
     "name": "stdout",
     "output_type": "stream",
     "text": [
      "\n",
      "Processing Query 969/1034 (ID: spider_dev_q968_idx968): 'Find the average grade of all students who have some friends.' (True DB: network_1)\n"
     ]
    },
    {
     "data": {
      "application/vnd.jupyter.widget-view+json": {
       "model_id": "8047a9555c254adf9488c13f3d0e78f9",
       "version_major": 2,
       "version_minor": 0
      },
      "text/plain": [
       "  DBs for Q:spider_dev_q968_idx9:   0%|          | 0/166 [00:00<?, ?it/s]"
      ]
     },
     "metadata": {},
     "output_type": "display_data"
    },
    {
     "name": "stdout",
     "output_type": "stream",
     "text": [
      "\n",
      "Processing Query 970/1034 (ID: spider_dev_q969_idx969): 'What are all of the episodes ordered by ratings?' (True DB: tvshow)\n"
     ]
    },
    {
     "data": {
      "application/vnd.jupyter.widget-view+json": {
       "model_id": "12cc0ab121c649b0b68ba29d97d7253f",
       "version_major": 2,
       "version_minor": 0
      },
      "text/plain": [
       "  DBs for Q:spider_dev_q969_idx9:   0%|          | 0/166 [00:00<?, ?it/s]"
      ]
     },
     "metadata": {},
     "output_type": "display_data"
    },
    {
     "name": "stdout",
     "output_type": "stream",
     "text": [
      "\n",
      "Processing Query 971/1034 (ID: spider_dev_q970_idx970): 'Find the number of professionals who have not treated any dogs.' (True DB: dog_kennels)\n"
     ]
    },
    {
     "data": {
      "application/vnd.jupyter.widget-view+json": {
       "model_id": "637edca9e90e4cc48a3d06c24353e45d",
       "version_major": 2,
       "version_minor": 0
      },
      "text/plain": [
       "  DBs for Q:spider_dev_q970_idx9:   0%|          | 0/166 [00:00<?, ?it/s]"
      ]
     },
     "metadata": {},
     "output_type": "display_data"
    },
    {
     "name": "stdout",
     "output_type": "stream",
     "text": [
      "\n",
      "Processing Query 972/1034 (ID: spider_dev_q971_idx971): 'What is the largest amount of horsepower for the models with 3 cylinders and what make is it?' (True DB: car_1)\n"
     ]
    },
    {
     "data": {
      "application/vnd.jupyter.widget-view+json": {
       "model_id": "5c971ee8d6ee471ca4f470c6fc57d6ed",
       "version_major": 2,
       "version_minor": 0
      },
      "text/plain": [
       "  DBs for Q:spider_dev_q971_idx9:   0%|          | 0/166 [00:00<?, ?it/s]"
      ]
     },
     "metadata": {},
     "output_type": "display_data"
    },
    {
     "name": "stdout",
     "output_type": "stream",
     "text": [
      "\n",
      "Processing Query 973/1034 (ID: spider_dev_q972_idx972): 'What is the grade of each high schooler?' (True DB: network_1)\n"
     ]
    },
    {
     "data": {
      "application/vnd.jupyter.widget-view+json": {
       "model_id": "878d5de64be04c8bad29f6f6a225c726",
       "version_major": 2,
       "version_minor": 0
      },
      "text/plain": [
       "  DBs for Q:spider_dev_q972_idx9:   0%|          | 0/166 [00:00<?, ?it/s]"
      ]
     },
     "metadata": {},
     "output_type": "display_data"
    },
    {
     "name": "stdout",
     "output_type": "stream",
     "text": [
      "\n",
      "Processing Query 974/1034 (ID: spider_dev_q973_idx973): 'How many different results are there for the battles?' (True DB: battle_death)\n"
     ]
    },
    {
     "data": {
      "application/vnd.jupyter.widget-view+json": {
       "model_id": "6a0330b25ebc4df6bae9ab761c656ef9",
       "version_major": 2,
       "version_minor": 0
      },
      "text/plain": [
       "  DBs for Q:spider_dev_q973_idx9:   0%|          | 0/166 [00:00<?, ?it/s]"
      ]
     },
     "metadata": {},
     "output_type": "display_data"
    },
    {
     "name": "stdout",
     "output_type": "stream",
     "text": [
      "\n",
      "Processing Query 975/1034 (ID: spider_dev_q974_idx974): 'Return the number of  airports.' (True DB: flight_2)\n"
     ]
    },
    {
     "data": {
      "application/vnd.jupyter.widget-view+json": {
       "model_id": "7554b505ceb644d6b1cae3ba401a4b6d",
       "version_major": 2,
       "version_minor": 0
      },
      "text/plain": [
       "  DBs for Q:spider_dev_q974_idx9:   0%|          | 0/166 [00:00<?, ?it/s]"
      ]
     },
     "metadata": {},
     "output_type": "display_data"
    },
    {
     "name": "stdout",
     "output_type": "stream",
     "text": [
      "\n",
      "Processing Query 976/1034 (ID: spider_dev_q975_idx975): 'Find the last name of the student who has a cat that is age 3.' (True DB: pets_1)\n"
     ]
    },
    {
     "data": {
      "application/vnd.jupyter.widget-view+json": {
       "model_id": "82a5c89d36d84258b58790ead07fd933",
       "version_major": 2,
       "version_minor": 0
      },
      "text/plain": [
       "  DBs for Q:spider_dev_q975_idx9:   0%|          | 0/166 [00:00<?, ?it/s]"
      ]
     },
     "metadata": {},
     "output_type": "display_data"
    },
    {
     "name": "stdout",
     "output_type": "stream",
     "text": [
      "\n",
      "Processing Query 977/1034 (ID: spider_dev_q976_idx976): 'List the title of all cartoons in alphabetical order.' (True DB: tvshow)\n"
     ]
    },
    {
     "data": {
      "application/vnd.jupyter.widget-view+json": {
       "model_id": "bee6656613d04269a786f8f94f041e50",
       "version_major": 2,
       "version_minor": 0
      },
      "text/plain": [
       "  DBs for Q:spider_dev_q976_idx9:   0%|          | 0/166 [00:00<?, ?it/s]"
      ]
     },
     "metadata": {},
     "output_type": "display_data"
    },
    {
     "name": "stdout",
     "output_type": "stream",
     "text": [
      "\n",
      "Processing Query 978/1034 (ID: spider_dev_q977_idx977): 'What are all the song names by singers who are older than average?' (True DB: concert_singer)\n"
     ]
    },
    {
     "data": {
      "application/vnd.jupyter.widget-view+json": {
       "model_id": "aae18c0b7cd34f01be8c1b1838ea24f1",
       "version_major": 2,
       "version_minor": 0
      },
      "text/plain": [
       "  DBs for Q:spider_dev_q977_idx9:   0%|          | 0/166 [00:00<?, ?it/s]"
      ]
     },
     "metadata": {},
     "output_type": "display_data"
    },
    {
     "name": "stdout",
     "output_type": "stream",
     "text": [
      "\n",
      "Processing Query 979/1034 (ID: spider_dev_q978_idx978): 'What is the version number and template type code for the template with version number later than 5?' (True DB: cre_Doc_Template_Mgt)\n"
     ]
    },
    {
     "data": {
      "application/vnd.jupyter.widget-view+json": {
       "model_id": "0d143c160f3042e2bf899fdd2da31fb9",
       "version_major": 2,
       "version_minor": 0
      },
      "text/plain": [
       "  DBs for Q:spider_dev_q978_idx9:   0%|          | 0/166 [00:00<?, ?it/s]"
      ]
     },
     "metadata": {},
     "output_type": "display_data"
    },
    {
     "name": "stdout",
     "output_type": "stream",
     "text": [
      "\n",
      "Processing Query 980/1034 (ID: spider_dev_q979_idx979): 'How many car makers are there in each continents? List the continent name and the count.' (True DB: car_1)\n"
     ]
    },
    {
     "data": {
      "application/vnd.jupyter.widget-view+json": {
       "model_id": "228c887f40164e8bbd988c166f130fef",
       "version_major": 2,
       "version_minor": 0
      },
      "text/plain": [
       "  DBs for Q:spider_dev_q979_idx9:   0%|          | 0/166 [00:00<?, ?it/s]"
      ]
     },
     "metadata": {},
     "output_type": "display_data"
    },
    {
     "name": "stdout",
     "output_type": "stream",
     "text": [
      "\n",
      "Processing Query 981/1034 (ID: spider_dev_q980_idx980): 'Which professionals have operated a treatment that costs less than the average? Give me theor first names and last names.' (True DB: dog_kennels)\n"
     ]
    },
    {
     "data": {
      "application/vnd.jupyter.widget-view+json": {
       "model_id": "4a3e0723af2746168e30a6cf1ade4738",
       "version_major": 2,
       "version_minor": 0
      },
      "text/plain": [
       "  DBs for Q:spider_dev_q980_idx9:   0%|          | 0/166 [00:00<?, ?it/s]"
      ]
     },
     "metadata": {},
     "output_type": "display_data"
    },
    {
     "name": "stdout",
     "output_type": "stream",
     "text": [
      "\n",
      "Processing Query 982/1034 (ID: spider_dev_q981_idx981): 'What are the codes of template types that are not used for any document?' (True DB: cre_Doc_Template_Mgt)\n"
     ]
    },
    {
     "data": {
      "application/vnd.jupyter.widget-view+json": {
       "model_id": "e542f1c50d6c4143b8687f5e720b2a7c",
       "version_major": 2,
       "version_minor": 0
      },
      "text/plain": [
       "  DBs for Q:spider_dev_q981_idx9:   0%|          | 0/166 [00:00<?, ?it/s]"
      ]
     },
     "metadata": {},
     "output_type": "display_data"
    },
    {
     "name": "stdout",
     "output_type": "stream",
     "text": [
      "\n",
      "Processing Query 983/1034 (ID: spider_dev_q982_idx982): 'How many flights depart from 'APG'?' (True DB: flight_2)\n"
     ]
    },
    {
     "data": {
      "application/vnd.jupyter.widget-view+json": {
       "model_id": "f5b3b16217a6435a8bd98ba1743c0deb",
       "version_major": 2,
       "version_minor": 0
      },
      "text/plain": [
       "  DBs for Q:spider_dev_q982_idx9:   0%|          | 0/166 [00:00<?, ?it/s]"
      ]
     },
     "metadata": {},
     "output_type": "display_data"
    },
    {
     "name": "stdout",
     "output_type": "stream",
     "text": [
      "\n",
      "Processing Query 984/1034 (ID: spider_dev_q983_idx983): 'Sort employee names by their age in ascending order.' (True DB: employee_hire_evaluation)\n"
     ]
    },
    {
     "data": {
      "application/vnd.jupyter.widget-view+json": {
       "model_id": "2cad698c41584032868c8957017ba369",
       "version_major": 2,
       "version_minor": 0
      },
      "text/plain": [
       "  DBs for Q:spider_dev_q983_idx9:   0%|          | 0/166 [00:00<?, ?it/s]"
      ]
     },
     "metadata": {},
     "output_type": "display_data"
    },
    {
     "name": "stdout",
     "output_type": "stream",
     "text": [
      "\n",
      "Processing Query 985/1034 (ID: spider_dev_q984_idx984): 'Give the mean GNP and total population of nations which are considered US territory.' (True DB: world_1)\n"
     ]
    },
    {
     "data": {
      "application/vnd.jupyter.widget-view+json": {
       "model_id": "bc0fc1d629414e3b9a088796bf2ee518",
       "version_major": 2,
       "version_minor": 0
      },
      "text/plain": [
       "  DBs for Q:spider_dev_q984_idx9:   0%|          | 0/166 [00:00<?, ?it/s]"
      ]
     },
     "metadata": {},
     "output_type": "display_data"
    },
    {
     "name": "stdout",
     "output_type": "stream",
     "text": [
      "\n",
      "Processing Query 986/1034 (ID: spider_dev_q985_idx985): 'Which continent is Anguilla in?' (True DB: world_1)\n"
     ]
    },
    {
     "data": {
      "application/vnd.jupyter.widget-view+json": {
       "model_id": "4611416a5cb44ce6ae093b4bbde3b6cd",
       "version_major": 2,
       "version_minor": 0
      },
      "text/plain": [
       "  DBs for Q:spider_dev_q985_idx9:   0%|          | 0/166 [00:00<?, ?it/s]"
      ]
     },
     "metadata": {},
     "output_type": "display_data"
    },
    {
     "name": "stdout",
     "output_type": "stream",
     "text": [
      "\n",
      "Processing Query 987/1034 (ID: spider_dev_q986_idx986): 'List the earnings of poker players in descending order.' (True DB: poker_player)\n"
     ]
    },
    {
     "data": {
      "application/vnd.jupyter.widget-view+json": {
       "model_id": "6f6d2e46dc3c4c85a4b49bc6e5186965",
       "version_major": 2,
       "version_minor": 0
      },
      "text/plain": [
       "  DBs for Q:spider_dev_q986_idx9:   0%|          | 0/166 [00:00<?, ?it/s]"
      ]
     },
     "metadata": {},
     "output_type": "display_data"
    },
    {
     "name": "stdout",
     "output_type": "stream",
     "text": [
      "\n",
      "Processing Query 988/1034 (ID: spider_dev_q987_idx987): 'What is the maximum horsepower and the make of the car models with 3 cylinders?' (True DB: car_1)\n"
     ]
    },
    {
     "data": {
      "application/vnd.jupyter.widget-view+json": {
       "model_id": "8849331ef2934491913205a16246a496",
       "version_major": 2,
       "version_minor": 0
      },
      "text/plain": [
       "  DBs for Q:spider_dev_q987_idx9:   0%|          | 0/166 [00:00<?, ?it/s]"
      ]
     },
     "metadata": {},
     "output_type": "display_data"
    },
    {
     "name": "stdout",
     "output_type": "stream",
     "text": [
      "\n",
      "Processing Query 989/1034 (ID: spider_dev_q988_idx988): 'What are the country codes of the different countries, and what are the languages spoken by the greatest percentage of people for each?' (True DB: world_1)\n"
     ]
    },
    {
     "data": {
      "application/vnd.jupyter.widget-view+json": {
       "model_id": "9fc8a9c7ef0847169a78f8a69528fdfc",
       "version_major": 2,
       "version_minor": 0
      },
      "text/plain": [
       "  DBs for Q:spider_dev_q988_idx9:   0%|          | 0/166 [00:00<?, ?it/s]"
      ]
     },
     "metadata": {},
     "output_type": "display_data"
    },
    {
     "name": "stdout",
     "output_type": "stream",
     "text": [
      "\n",
      "Processing Query 990/1034 (ID: spider_dev_q989_idx989): 'find the name of employee who was awarded the most times in the evaluation.' (True DB: employee_hire_evaluation)\n"
     ]
    },
    {
     "data": {
      "application/vnd.jupyter.widget-view+json": {
       "model_id": "de95c70d59014e55ad699a6803e561cb",
       "version_major": 2,
       "version_minor": 0
      },
      "text/plain": [
       "  DBs for Q:spider_dev_q989_idx9:   0%|          | 0/166 [00:00<?, ?it/s]"
      ]
     },
     "metadata": {},
     "output_type": "display_data"
    },
    {
     "name": "stdout",
     "output_type": "stream",
     "text": [
      "\n",
      "Processing Query 991/1034 (ID: spider_dev_q990_idx990): 'How many countries have governments that are republics?' (True DB: world_1)\n"
     ]
    },
    {
     "data": {
      "application/vnd.jupyter.widget-view+json": {
       "model_id": "5afd3ad663a04e98b30436771cfd3fd0",
       "version_major": 2,
       "version_minor": 0
      },
      "text/plain": [
       "  DBs for Q:spider_dev_q990_idx9:   0%|          | 0/166 [00:00<?, ?it/s]"
      ]
     },
     "metadata": {},
     "output_type": "display_data"
    },
    {
     "name": "stdout",
     "output_type": "stream",
     "text": [
      "\n",
      "Processing Query 992/1034 (ID: spider_dev_q991_idx991): 'When was the last transcript released?' (True DB: student_transcripts_tracking)\n"
     ]
    },
    {
     "data": {
      "application/vnd.jupyter.widget-view+json": {
       "model_id": "2b37266239404bfb93197f2dc977b1ff",
       "version_major": 2,
       "version_minor": 0
      },
      "text/plain": [
       "  DBs for Q:spider_dev_q991_idx9:   0%|          | 0/166 [00:00<?, ?it/s]"
      ]
     },
     "metadata": {},
     "output_type": "display_data"
    },
    {
     "name": "stdout",
     "output_type": "stream",
     "text": [
      "\n",
      "Processing Query 993/1034 (ID: spider_dev_q992_idx992): 'Find the role, street, city and state of the professionals living in a city that contains the substring 'West'.' (True DB: dog_kennels)\n"
     ]
    },
    {
     "data": {
      "application/vnd.jupyter.widget-view+json": {
       "model_id": "54ec36e9861846d8800391106e6df7f5",
       "version_major": 2,
       "version_minor": 0
      },
      "text/plain": [
       "  DBs for Q:spider_dev_q992_idx9:   0%|          | 0/166 [00:00<?, ?it/s]"
      ]
     },
     "metadata": {},
     "output_type": "display_data"
    },
    {
     "name": "stdout",
     "output_type": "stream",
     "text": [
      "\n",
      "Processing Query 994/1034 (ID: spider_dev_q993_idx993): 'Return the version numbers and template type codes of templates with a version number greater than 5.' (True DB: cre_Doc_Template_Mgt)\n"
     ]
    },
    {
     "data": {
      "application/vnd.jupyter.widget-view+json": {
       "model_id": "852d69fd3a924576b7c226102485a536",
       "version_major": 2,
       "version_minor": 0
      },
      "text/plain": [
       "  DBs for Q:spider_dev_q993_idx9:   0%|          | 0/166 [00:00<?, ?it/s]"
      ]
     },
     "metadata": {},
     "output_type": "display_data"
    },
    {
     "name": "stdout",
     "output_type": "stream",
     "text": [
      "\n",
      "Processing Query 995/1034 (ID: spider_dev_q994_idx994): 'Which flight numbers correspond to United Airlines flights?' (True DB: flight_2)\n"
     ]
    },
    {
     "data": {
      "application/vnd.jupyter.widget-view+json": {
       "model_id": "7bc37f8dde70466c9a718012511cd3a7",
       "version_major": 2,
       "version_minor": 0
      },
      "text/plain": [
       "  DBs for Q:spider_dev_q994_idx9:   0%|          | 0/166 [00:00<?, ?it/s]"
      ]
     },
     "metadata": {},
     "output_type": "display_data"
    },
    {
     "name": "stdout",
     "output_type": "stream",
     "text": [
      "\n",
      "Processing Query 996/1034 (ID: spider_dev_q995_idx995): 'What are the names of the teachers whose hometown is not `` Little Lever Urban District '' ?' (True DB: course_teach)\n"
     ]
    },
    {
     "data": {
      "application/vnd.jupyter.widget-view+json": {
       "model_id": "c12c34ec0d9a464ba676d830bbdc827e",
       "version_major": 2,
       "version_minor": 0
      },
      "text/plain": [
       "  DBs for Q:spider_dev_q995_idx9:   0%|          | 0/166 [00:00<?, ?it/s]"
      ]
     },
     "metadata": {},
     "output_type": "display_data"
    },
    {
     "name": "stdout",
     "output_type": "stream",
     "text": [
      "\n",
      "Processing Query 997/1034 (ID: spider_dev_q996_idx996): 'Show titles of songs and names of singers.' (True DB: singer)\n"
     ]
    },
    {
     "data": {
      "application/vnd.jupyter.widget-view+json": {
       "model_id": "d9282190cda742afa4bfbcc367e0cd3f",
       "version_major": 2,
       "version_minor": 0
      },
      "text/plain": [
       "  DBs for Q:spider_dev_q996_idx9:   0%|          | 0/166 [00:00<?, ?it/s]"
      ]
     },
     "metadata": {},
     "output_type": "display_data"
    },
    {
     "name": "stdout",
     "output_type": "stream",
     "text": [
      "\n",
      "Processing Query 998/1034 (ID: spider_dev_q997_idx997): 'What are the average and maximum number of tickets bought in all visits?' (True DB: museum_visit)\n"
     ]
    },
    {
     "data": {
      "application/vnd.jupyter.widget-view+json": {
       "model_id": "0d34a594685448449acf1f83940c3e1c",
       "version_major": 2,
       "version_minor": 0
      },
      "text/plain": [
       "  DBs for Q:spider_dev_q997_idx9:   0%|          | 0/166 [00:00<?, ?it/s]"
      ]
     },
     "metadata": {},
     "output_type": "display_data"
    },
    {
     "name": "stdout",
     "output_type": "stream",
     "text": [
      "\n",
      "Processing Query 999/1034 (ID: spider_dev_q998_idx998): 'What is the first name and gender of the all the students who have more than one pet?' (True DB: pets_1)\n"
     ]
    },
    {
     "data": {
      "application/vnd.jupyter.widget-view+json": {
       "model_id": "1c47250d87f04a72b7a34d10f904df64",
       "version_major": 2,
       "version_minor": 0
      },
      "text/plain": [
       "  DBs for Q:spider_dev_q998_idx9:   0%|          | 0/166 [00:00<?, ?it/s]"
      ]
     },
     "metadata": {},
     "output_type": "display_data"
    },
    {
     "name": "stdout",
     "output_type": "stream",
     "text": [
      "\n",
      "Processing Query 1000/1034 (ID: spider_dev_q999_idx999): 'Count the number of employees' (True DB: employee_hire_evaluation)\n"
     ]
    },
    {
     "data": {
      "application/vnd.jupyter.widget-view+json": {
       "model_id": "cbff2fb709ad40a0a59987b570b5b075",
       "version_major": 2,
       "version_minor": 0
      },
      "text/plain": [
       "  DBs for Q:spider_dev_q999_idx9:   0%|          | 0/166 [00:00<?, ?it/s]"
      ]
     },
     "metadata": {},
     "output_type": "display_data"
    },
    {
     "name": "stdout",
     "output_type": "stream",
     "text": [
      "\n",
      "Processing Query 1001/1034 (ID: spider_dev_q1000_idx1000): 'Which dogs have not cost their owner more than 1000 for treatment ? List the dog names .' (True DB: dog_kennels)\n"
     ]
    },
    {
     "data": {
      "application/vnd.jupyter.widget-view+json": {
       "model_id": "cd6683bf501c451fb6fbdfc2af413cd0",
       "version_major": 2,
       "version_minor": 0
      },
      "text/plain": [
       "  DBs for Q:spider_dev_q1000_idx:   0%|          | 0/166 [00:00<?, ?it/s]"
      ]
     },
     "metadata": {},
     "output_type": "display_data"
    },
    {
     "name": "stdout",
     "output_type": "stream",
     "text": [
      "\n",
      "Processing Query 1002/1034 (ID: spider_dev_q1001_idx1001): 'Return the country name and the numbers of languages spoken for each country that speaks at least 3 languages.' (True DB: world_1)\n"
     ]
    },
    {
     "data": {
      "application/vnd.jupyter.widget-view+json": {
       "model_id": "5c55ba6ef02d473cbddc3c9cd1858610",
       "version_major": 2,
       "version_minor": 0
      },
      "text/plain": [
       "  DBs for Q:spider_dev_q1001_idx:   0%|          | 0/166 [00:00<?, ?it/s]"
      ]
     },
     "metadata": {},
     "output_type": "display_data"
    },
    {
     "name": "stdout",
     "output_type": "stream",
     "text": [
      "\n",
      "Processing Query 1003/1034 (ID: spider_dev_q1002_idx1002): 'Who is enrolled in a Bachelor degree program? List the first name, middle name, last name.' (True DB: student_transcripts_tracking)\n"
     ]
    },
    {
     "data": {
      "application/vnd.jupyter.widget-view+json": {
       "model_id": "fd39ba5b19784720bbdb76801ffce1c4",
       "version_major": 2,
       "version_minor": 0
      },
      "text/plain": [
       "  DBs for Q:spider_dev_q1002_idx:   0%|          | 0/166 [00:00<?, ?it/s]"
      ]
     },
     "metadata": {},
     "output_type": "display_data"
    },
    {
     "name": "stdout",
     "output_type": "stream",
     "text": [
      "\n",
      "Processing Query 1004/1034 (ID: spider_dev_q1003_idx1003): 'What are all the possible breed type and size type combinations?' (True DB: dog_kennels)\n"
     ]
    },
    {
     "data": {
      "application/vnd.jupyter.widget-view+json": {
       "model_id": "e143a71df0f942988b8e109f43b25ae6",
       "version_major": 2,
       "version_minor": 0
      },
      "text/plain": [
       "  DBs for Q:spider_dev_q1003_idx:   0%|          | 0/166 [00:00<?, ?it/s]"
      ]
     },
     "metadata": {},
     "output_type": "display_data"
    },
    {
     "name": "stdout",
     "output_type": "stream",
     "text": [
      "\n",
      "Processing Query 1005/1034 (ID: spider_dev_q1004_idx1004): 'Who is the earliest graduate of the school? List the first name, middle name and last name.' (True DB: student_transcripts_tracking)\n"
     ]
    },
    {
     "data": {
      "application/vnd.jupyter.widget-view+json": {
       "model_id": "891da175e2aa4d5ea8d4f7e34fe8ebb9",
       "version_major": 2,
       "version_minor": 0
      },
      "text/plain": [
       "  DBs for Q:spider_dev_q1004_idx:   0%|          | 0/166 [00:00<?, ?it/s]"
      ]
     },
     "metadata": {},
     "output_type": "display_data"
    },
    {
     "name": "stdout",
     "output_type": "stream",
     "text": [
      "\n",
      "Processing Query 1006/1034 (ID: spider_dev_q1005_idx1005): 'What are the titles of all cartoons directed by Ben Jones or Brandon Vietti?' (True DB: tvshow)\n"
     ]
    },
    {
     "data": {
      "application/vnd.jupyter.widget-view+json": {
       "model_id": "337df63dd45343cebf8f621d388ed292",
       "version_major": 2,
       "version_minor": 0
      },
      "text/plain": [
       "  DBs for Q:spider_dev_q1005_idx:   0%|          | 0/166 [00:00<?, ?it/s]"
      ]
     },
     "metadata": {},
     "output_type": "display_data"
    },
    {
     "name": "stdout",
     "output_type": "stream",
     "text": [
      "\n",
      "Processing Query 1007/1034 (ID: spider_dev_q1006_idx1006): 'What is the name of the winner who has won the most matches, and how many rank points does this player have?' (True DB: wta_1)\n"
     ]
    },
    {
     "data": {
      "application/vnd.jupyter.widget-view+json": {
       "model_id": "449e0a322cb541409c308bcf93ac7c20",
       "version_major": 2,
       "version_minor": 0
      },
      "text/plain": [
       "  DBs for Q:spider_dev_q1006_idx:   0%|          | 0/166 [00:00<?, ?it/s]"
      ]
     },
     "metadata": {},
     "output_type": "display_data"
    },
    {
     "name": "stdout",
     "output_type": "stream",
     "text": [
      "\n",
      "Processing Query 1008/1034 (ID: spider_dev_q1007_idx1007): 'What are the countries having at least one car maker? List name and id.' (True DB: car_1)\n"
     ]
    },
    {
     "data": {
      "application/vnd.jupyter.widget-view+json": {
       "model_id": "ca1cc1576f544d5f85a305f6c6eb5386",
       "version_major": 2,
       "version_minor": 0
      },
      "text/plain": [
       "  DBs for Q:spider_dev_q1007_idx:   0%|          | 0/166 [00:00<?, ?it/s]"
      ]
     },
     "metadata": {},
     "output_type": "display_data"
    },
    {
     "name": "stdout",
     "output_type": "stream",
     "text": [
      "\n",
      "Processing Query 1009/1034 (ID: spider_dev_q1008_idx1008): 'Find the first names that are used for professionals or owners but are not used as dog names.' (True DB: dog_kennels)\n"
     ]
    },
    {
     "data": {
      "application/vnd.jupyter.widget-view+json": {
       "model_id": "6fabaabd89ef440c99eb5215cb315724",
       "version_major": 2,
       "version_minor": 0
      },
      "text/plain": [
       "  DBs for Q:spider_dev_q1008_idx:   0%|          | 0/166 [00:00<?, ?it/s]"
      ]
     },
     "metadata": {},
     "output_type": "display_data"
    },
    {
     "name": "stdout",
     "output_type": "stream",
     "text": [
      "\n",
      "Processing Query 1010/1034 (ID: spider_dev_q1009_idx1009): 'Which states have both owners and professionals living there?' (True DB: dog_kennels)\n"
     ]
    },
    {
     "data": {
      "application/vnd.jupyter.widget-view+json": {
       "model_id": "6740407d790a478ca7109f37dfed0fda",
       "version_major": 2,
       "version_minor": 0
      },
      "text/plain": [
       "  DBs for Q:spider_dev_q1009_idx:   0%|          | 0/166 [00:00<?, ?it/s]"
      ]
     },
     "metadata": {},
     "output_type": "display_data"
    },
    {
     "name": "stdout",
     "output_type": "stream",
     "text": [
      "\n",
      "Processing Query 1011/1034 (ID: spider_dev_q1010_idx1010): 'What is the name of the high schooler who has the greatest number of friends?' (True DB: network_1)\n"
     ]
    },
    {
     "data": {
      "application/vnd.jupyter.widget-view+json": {
       "model_id": "ac5d660a73404ac092aae663a3499ff0",
       "version_major": 2,
       "version_minor": 0
      },
      "text/plain": [
       "  DBs for Q:spider_dev_q1010_idx:   0%|          | 0/166 [00:00<?, ?it/s]"
      ]
     },
     "metadata": {},
     "output_type": "display_data"
    },
    {
     "name": "stdout",
     "output_type": "stream",
     "text": [
      "\n",
      "Processing Query 1012/1034 (ID: spider_dev_q1011_idx1011): 'What are the nationalities that are shared by at least two people?' (True DB: poker_player)\n"
     ]
    },
    {
     "data": {
      "application/vnd.jupyter.widget-view+json": {
       "model_id": "0e213213fc4d4f00bc8a04ca4a00fd39",
       "version_major": 2,
       "version_minor": 0
      },
      "text/plain": [
       "  DBs for Q:spider_dev_q1011_idx:   0%|          | 0/166 [00:00<?, ?it/s]"
      ]
     },
     "metadata": {},
     "output_type": "display_data"
    },
    {
     "name": "stdout",
     "output_type": "stream",
     "text": [
      "\n",
      "Processing Query 1013/1034 (ID: spider_dev_q1012_idx1012): 'What is the total number of unique official languages spoken in the countries that are founded before 1930?' (True DB: world_1)\n"
     ]
    },
    {
     "data": {
      "application/vnd.jupyter.widget-view+json": {
       "model_id": "b0dd0c53104b4d31a7d590470a68eae4",
       "version_major": 2,
       "version_minor": 0
      },
      "text/plain": [
       "  DBs for Q:spider_dev_q1012_idx:   0%|          | 0/166 [00:00<?, ?it/s]"
      ]
     },
     "metadata": {},
     "output_type": "display_data"
    },
    {
     "name": "stdout",
     "output_type": "stream",
     "text": [
      "\n",
      "Processing Query 1014/1034 (ID: spider_dev_q1013_idx1013): 'What is the average transcript date?' (True DB: student_transcripts_tracking)\n"
     ]
    },
    {
     "data": {
      "application/vnd.jupyter.widget-view+json": {
       "model_id": "0520d521ad224a0aaffd6c38cb064608",
       "version_major": 2,
       "version_minor": 0
      },
      "text/plain": [
       "  DBs for Q:spider_dev_q1013_idx:   0%|          | 0/166 [00:00<?, ?it/s]"
      ]
     },
     "metadata": {},
     "output_type": "display_data"
    },
    {
     "name": "stdout",
     "output_type": "stream",
     "text": [
      "\n",
      "Processing Query 1015/1034 (ID: spider_dev_q1014_idx1014): 'Which cities do more than one employee under age 30 come from?' (True DB: employee_hire_evaluation)\n"
     ]
    },
    {
     "data": {
      "application/vnd.jupyter.widget-view+json": {
       "model_id": "63062ec1036a4799beb42e52cbb8de34",
       "version_major": 2,
       "version_minor": 0
      },
      "text/plain": [
       "  DBs for Q:spider_dev_q1014_idx:   0%|          | 0/166 [00:00<?, ?it/s]"
      ]
     },
     "metadata": {},
     "output_type": "display_data"
    },
    {
     "name": "stdout",
     "output_type": "stream",
     "text": [
      "\n",
      "Processing Query 1016/1034 (ID: spider_dev_q1015_idx1015): 'What are the last name of the students who live in North Carolina but have not registered in any degree programs?' (True DB: student_transcripts_tracking)\n"
     ]
    },
    {
     "data": {
      "application/vnd.jupyter.widget-view+json": {
       "model_id": "1ce7ef9aa136414391954f5b6d200703",
       "version_major": 2,
       "version_minor": 0
      },
      "text/plain": [
       "  DBs for Q:spider_dev_q1015_idx:   0%|          | 0/166 [00:00<?, ?it/s]"
      ]
     },
     "metadata": {},
     "output_type": "display_data"
    },
    {
     "name": "stdout",
     "output_type": "stream",
     "text": [
      "\n",
      "Processing Query 1017/1034 (ID: spider_dev_q1016_idx1016): 'What are the full names of all players, sorted by birth date?' (True DB: wta_1)\n"
     ]
    },
    {
     "data": {
      "application/vnd.jupyter.widget-view+json": {
       "model_id": "ca72064817fe48858b3d0a8e6a4e051f",
       "version_major": 2,
       "version_minor": 0
      },
      "text/plain": [
       "  DBs for Q:spider_dev_q1016_idx:   0%|          | 0/166 [00:00<?, ?it/s]"
      ]
     },
     "metadata": {},
     "output_type": "display_data"
    },
    {
     "name": "stdout",
     "output_type": "stream",
     "text": [
      "\n",
      "Processing Query 1018/1034 (ID: spider_dev_q1017_idx1017): 'What are the birth year and citizenship of singers?' (True DB: singer)\n"
     ]
    },
    {
     "data": {
      "application/vnd.jupyter.widget-view+json": {
       "model_id": "a01ff696c6464daea080fa7faf2e4e85",
       "version_major": 2,
       "version_minor": 0
      },
      "text/plain": [
       "  DBs for Q:spider_dev_q1017_idx:   0%|          | 0/166 [00:00<?, ?it/s]"
      ]
     },
     "metadata": {},
     "output_type": "display_data"
    },
    {
     "name": "stdout",
     "output_type": "stream",
     "text": [
      "\n",
      "Processing Query 1019/1034 (ID: spider_dev_q1018_idx1018): 'Find the number of matches happened in each year.' (True DB: wta_1)\n"
     ]
    },
    {
     "data": {
      "application/vnd.jupyter.widget-view+json": {
       "model_id": "1b8ff0bd114f4fa389f24853871ce21f",
       "version_major": 2,
       "version_minor": 0
      },
      "text/plain": [
       "  DBs for Q:spider_dev_q1018_idx:   0%|          | 0/166 [00:00<?, ?it/s]"
      ]
     },
     "metadata": {},
     "output_type": "display_data"
    },
    {
     "name": "stdout",
     "output_type": "stream",
     "text": [
      "\n",
      "Processing Query 1020/1034 (ID: spider_dev_q1019_idx1019): 'Which city is the most frequent source airport?' (True DB: flight_2)\n"
     ]
    },
    {
     "data": {
      "application/vnd.jupyter.widget-view+json": {
       "model_id": "51759a99588b471bb2b2a82f62db1bb4",
       "version_major": 2,
       "version_minor": 0
      },
      "text/plain": [
       "  DBs for Q:spider_dev_q1019_idx:   0%|          | 0/166 [00:00<?, ?it/s]"
      ]
     },
     "metadata": {},
     "output_type": "display_data"
    },
    {
     "name": "stdout",
     "output_type": "stream",
     "text": [
      "\n",
      "Processing Query 1021/1034 (ID: spider_dev_q1020_idx1020): 'What is the total ticket expense of the visitors whose membership level is 1?' (True DB: museum_visit)\n"
     ]
    },
    {
     "data": {
      "application/vnd.jupyter.widget-view+json": {
       "model_id": "fa9635afa3f04b62803120128ba8946f",
       "version_major": 2,
       "version_minor": 0
      },
      "text/plain": [
       "  DBs for Q:spider_dev_q1020_idx:   0%|          | 0/166 [00:00<?, ?it/s]"
      ]
     },
     "metadata": {},
     "output_type": "display_data"
    },
    {
     "name": "stdout",
     "output_type": "stream",
     "text": [
      "\n",
      "Processing Query 1022/1034 (ID: spider_dev_q1021_idx1021): 'what is the name and nation of the singer who have a song having 'Hey' in its name?' (True DB: concert_singer)\n"
     ]
    },
    {
     "data": {
      "application/vnd.jupyter.widget-view+json": {
       "model_id": "3bebf080ec0d4c168c0d1fd17ecf8d5e",
       "version_major": 2,
       "version_minor": 0
      },
      "text/plain": [
       "  DBs for Q:spider_dev_q1021_idx:   0%|          | 0/166 [00:00<?, ?it/s]"
      ]
     },
     "metadata": {},
     "output_type": "display_data"
    },
    {
     "name": "stdout",
     "output_type": "stream",
     "text": [
      "\n",
      "Processing Query 1023/1034 (ID: spider_dev_q1022_idx1022): 'Find the average ranking for each player and their first name.' (True DB: wta_1)\n"
     ]
    },
    {
     "data": {
      "application/vnd.jupyter.widget-view+json": {
       "model_id": "01122e2fa6684b398736c0540cdc2992",
       "version_major": 2,
       "version_minor": 0
      },
      "text/plain": [
       "  DBs for Q:spider_dev_q1022_idx:   0%|          | 0/166 [00:00<?, ?it/s]"
      ]
     },
     "metadata": {},
     "output_type": "display_data"
    },
    {
     "name": "stdout",
     "output_type": "stream",
     "text": [
      "\n",
      "Processing Query 1024/1034 (ID: spider_dev_q1023_idx1023): 'List all the student details in reversed lexicographical order.' (True DB: student_transcripts_tracking)\n"
     ]
    },
    {
     "data": {
      "application/vnd.jupyter.widget-view+json": {
       "model_id": "176e26979c7c4907a505e3aaeaf5ce28",
       "version_major": 2,
       "version_minor": 0
      },
      "text/plain": [
       "  DBs for Q:spider_dev_q1023_idx:   0%|          | 0/166 [00:00<?, ?it/s]"
      ]
     },
     "metadata": {},
     "output_type": "display_data"
    },
    {
     "name": "stdout",
     "output_type": "stream",
     "text": [
      "\n",
      "Processing Query 1025/1034 (ID: spider_dev_q1024_idx1024): 'What is the average miles per gallon of all the cards with 4 cylinders?' (True DB: car_1)\n"
     ]
    },
    {
     "data": {
      "application/vnd.jupyter.widget-view+json": {
       "model_id": "8ad05472d86344f5b129a209b4ba7089",
       "version_major": 2,
       "version_minor": 0
      },
      "text/plain": [
       "  DBs for Q:spider_dev_q1024_idx:   0%|          | 0/166 [00:00<?, ?it/s]"
      ]
     },
     "metadata": {},
     "output_type": "display_data"
    },
    {
     "name": "stdout",
     "output_type": "stream",
     "text": [
      "\n",
      "Processing Query 1026/1034 (ID: spider_dev_q1025_idx1025): 'Which airlines have a flight with destination airport AHD?' (True DB: flight_2)\n"
     ]
    },
    {
     "data": {
      "application/vnd.jupyter.widget-view+json": {
       "model_id": "06297d0edbf347429652e7c7de85ed69",
       "version_major": 2,
       "version_minor": 0
      },
      "text/plain": [
       "  DBs for Q:spider_dev_q1025_idx:   0%|          | 0/166 [00:00<?, ?it/s]"
      ]
     },
     "metadata": {},
     "output_type": "display_data"
    },
    {
     "name": "stdout",
     "output_type": "stream",
     "text": [
      "\n",
      "Processing Query 1027/1034 (ID: spider_dev_q1026_idx1026): 'What are the names of the countries with no car makers?' (True DB: car_1)\n"
     ]
    },
    {
     "data": {
      "application/vnd.jupyter.widget-view+json": {
       "model_id": "0a824b7b1bca4470a3448e357a0f6fcd",
       "version_major": 2,
       "version_minor": 0
      },
      "text/plain": [
       "  DBs for Q:spider_dev_q1026_idx:   0%|          | 0/166 [00:00<?, ?it/s]"
      ]
     },
     "metadata": {},
     "output_type": "display_data"
    },
    {
     "name": "stdout",
     "output_type": "stream",
     "text": [
      "\n",
      "Processing Query 1028/1034 (ID: spider_dev_q1027_idx1027): 'Find the total number of players.' (True DB: wta_1)\n"
     ]
    },
    {
     "data": {
      "application/vnd.jupyter.widget-view+json": {
       "model_id": "ed0365da12504a9683dc17984fb471b3",
       "version_major": 2,
       "version_minor": 0
      },
      "text/plain": [
       "  DBs for Q:spider_dev_q1027_idx:   0%|          | 0/166 [00:00<?, ?it/s]"
      ]
     },
     "metadata": {},
     "output_type": "display_data"
    },
    {
     "name": "stdout",
     "output_type": "stream",
     "text": [
      "\n",
      "Processing Query 1029/1034 (ID: spider_dev_q1028_idx1028): 'What is the average weight for each type of pet?' (True DB: pets_1)\n"
     ]
    },
    {
     "data": {
      "application/vnd.jupyter.widget-view+json": {
       "model_id": "f9b8531fe52144b89b49704497f5cbd3",
       "version_major": 2,
       "version_minor": 0
      },
      "text/plain": [
       "  DBs for Q:spider_dev_q1028_idx:   0%|          | 0/166 [00:00<?, ?it/s]"
      ]
     },
     "metadata": {},
     "output_type": "display_data"
    },
    {
     "name": "stdout",
     "output_type": "stream",
     "text": [
      "\n",
      "Processing Query 1030/1034 (ID: spider_dev_q1029_idx1029): 'Give the name of the country in Asia with the lowest life expectancy.' (True DB: world_1)\n"
     ]
    },
    {
     "data": {
      "application/vnd.jupyter.widget-view+json": {
       "model_id": "ed361b4b0fd9420697e3e7a0bdf8bc07",
       "version_major": 2,
       "version_minor": 0
      },
      "text/plain": [
       "  DBs for Q:spider_dev_q1029_idx:   0%|          | 0/166 [00:00<?, ?it/s]"
      ]
     },
     "metadata": {},
     "output_type": "display_data"
    },
    {
     "name": "stdout",
     "output_type": "stream",
     "text": [
      "\n",
      "Processing Query 1031/1034 (ID: spider_dev_q1030_idx1030): 'Give the average life expectancy for countries in Africa which are republics?' (True DB: world_1)\n"
     ]
    },
    {
     "data": {
      "application/vnd.jupyter.widget-view+json": {
       "model_id": "9b26f8aa448f471eb9b92b43763150ba",
       "version_major": 2,
       "version_minor": 0
      },
      "text/plain": [
       "  DBs for Q:spider_dev_q1030_idx:   0%|          | 0/166 [00:00<?, ?it/s]"
      ]
     },
     "metadata": {},
     "output_type": "display_data"
    },
    {
     "name": "stdout",
     "output_type": "stream",
     "text": [
      "\n",
      "Processing Query 1032/1034 (ID: spider_dev_q1031_idx1031): 'Return the money rank of the poker player with the greatest height.' (True DB: poker_player)\n"
     ]
    },
    {
     "data": {
      "application/vnd.jupyter.widget-view+json": {
       "model_id": "8b781fecaa674945a5b95d59a81c423a",
       "version_major": 2,
       "version_minor": 0
      },
      "text/plain": [
       "  DBs for Q:spider_dev_q1031_idx:   0%|          | 0/166 [00:00<?, ?it/s]"
      ]
     },
     "metadata": {},
     "output_type": "display_data"
    },
    {
     "name": "stdout",
     "output_type": "stream",
     "text": [
      "\n",
      "Processing Query 1033/1034 (ID: spider_dev_q1032_idx1032): 'Give the flight numbers of flights leaving from Aberdeen.' (True DB: flight_2)\n"
     ]
    },
    {
     "data": {
      "application/vnd.jupyter.widget-view+json": {
       "model_id": "25dfd08126f741daaa797128189b5fa0",
       "version_major": 2,
       "version_minor": 0
      },
      "text/plain": [
       "  DBs for Q:spider_dev_q1032_idx:   0%|          | 0/166 [00:00<?, ?it/s]"
      ]
     },
     "metadata": {},
     "output_type": "display_data"
    },
    {
     "name": "stdout",
     "output_type": "stream",
     "text": [
      "\n",
      "Processing Query 1034/1034 (ID: spider_dev_q1033_idx1033): 'Among the cars with more than lowest horsepower, which ones do not have more than 3 cylinders? List the car makeid and make name.' (True DB: car_1)\n"
     ]
    },
    {
     "data": {
      "application/vnd.jupyter.widget-view+json": {
       "model_id": "1a0acae3e877425fa1527a2b25316d2c",
       "version_major": 2,
       "version_minor": 0
      },
      "text/plain": [
       "  DBs for Q:spider_dev_q1033_idx:   0%|          | 0/166 [00:00<?, ?it/s]"
      ]
     },
     "metadata": {},
     "output_type": "display_data"
    },
    {
     "name": "stdout",
     "output_type": "stream",
     "text": [
      "\n",
      "--- Experiment Loop Finished ---\n",
      "Processed 1034 queries in total.\n",
      "Final results comprehensively saved to /raid/infolab/gaurav/Llama_Spider_A100_Project/randomQ_allDBs_run1/spider_queries_llama3.1_8B-instruct_CREATE_prompt_no_examples.json\n"
     ]
    }
   ],
   "source": [
    "experiment_all_query_results = []\n",
    "\n",
    "# This allows you to resume an interrupted run.\n",
    "if os.path.exists(EXPERIMENT_RESULTS_FILE):\n",
    "    print(f\"INFO: Found existing results file. Loading progress from '{EXPERIMENT_RESULTS_FILE}'\")\n",
    "    try:\n",
    "        with open(EXPERIMENT_RESULTS_FILE, 'r') as f:\n",
    "            experiment_all_query_results = json.load(f)\n",
    "        print(f\"Loaded results for {len(experiment_all_query_results)} queries. Resuming...\")\n",
    "    except json.JSONDecodeError:\n",
    "        print(f\"WARNING: Results file is corrupted. Starting from scratch.\")\n",
    "        experiment_all_query_results = []\n",
    "\n",
    "# Create a set of already completed query IDs for quick checking\n",
    "completed_query_ids = {res['experiment_query_id'] for res in experiment_all_query_results}\n",
    "\n",
    "\n",
    "# --- 2. Start the Loop ---\n",
    "print(f\"\\n--- Starting Experiment: {len(selected_nl_queries)} Queries vs. {len(candidate_schemas_for_evaluation)} Schemas ---\")\n",
    "\n",
    "# Outer loop: Iterate through each NL query\n",
    "for query_idx, nl_query_info in enumerate(tqdm(selected_nl_queries, desc=\"Processing NL Queries\")):\n",
    "    current_nl_query_text = nl_query_info['question']\n",
    "    true_db_id_for_query = nl_query_info['db_id']\n",
    "    # Create a unique ID for this query instance\n",
    "    experiment_query_id = f\"spider_dev_q{query_idx}_{nl_query_info.get('query_id', 'idx'+str(query_idx))}\"\n",
    "\n",
    "    # Skip if this query has already been processed in a previous run\n",
    "    if experiment_query_id in completed_query_ids:\n",
    "        continue\n",
    "\n",
    "    print(f\"\\nProcessing Query {query_idx + 1}/{len(selected_nl_queries)} (ID: {experiment_query_id}): '{current_nl_query_text}' (True DB: {true_db_id_for_query})\")\n",
    "\n",
    "    # This list will store the results for the current query\n",
    "    predictions_for_current_query = []\n",
    "\n",
    "    # Inner loop: Iterate through each candidate database schema\n",
    "    for candidate_db_id, candidate_schema_sql in tqdm(candidate_schemas_for_evaluation.items(), desc=f\"  DBs for Q:{experiment_query_id[:20]}\", leave=False):\n",
    "        user_prompt_content = USER_PROMPT_TEMPLATE.format(\n",
    "            schema_string=candidate_schema_sql,\n",
    "            nl_query=current_nl_query_text\n",
    "        )\n",
    "        \n",
    "        # Default values in case of an error\n",
    "        binary_decision = -1 \n",
    "        p_one_score = -1.0\n",
    "\n",
    "        try:\n",
    "            # *** THIS IS THE KEY CHANGE: Pass the logging IDs to the function ***\n",
    "            binary_decision, p_one_score = get_schema_match_prediction(\n",
    "                model_arg=model,\n",
    "                tokenizer_arg=tokenizer,\n",
    "                system_prompt_arg=SYSTEM_PROMPT,\n",
    "                user_prompt_content_arg=user_prompt_content,\n",
    "                one_token_id_arg=ONE_TOKEN_ID,\n",
    "                zero_token_id_arg=ZERO_TOKEN_ID,\n",
    "                query_id_for_log=experiment_query_id,  # Pass the unique query ID for logging\n",
    "                db_id_for_log=candidate_db_id          # Pass the candidate DB ID for logging\n",
    "            )\n",
    "        except Exception as e:\n",
    "            import traceback\n",
    "            print(f\"    ERROR: Exception in get_schema_match_prediction for Query ID '{experiment_query_id}' with DB '{candidate_db_id}'.\")\n",
    "            print(f\"    Exception type: {type(e).__name__}, Message: {e}\")\n",
    "\n",
    "        # Store the results for this query-schema pair\n",
    "        predictions_for_current_query.append({\n",
    "            'candidate_db_id': candidate_db_id,\n",
    "            'decision': binary_decision,\n",
    "            'p_one_score': p_one_score\n",
    "        })\n",
    "\n",
    "    # After scoring all candidates, sort them by the probability of being answerable (p_one_score)\n",
    "    ranked_databases_for_query = sorted(predictions_for_current_query, key=lambda x: x['p_one_score'], reverse=True)\n",
    "\n",
    "    # Store the comprehensive result for this NL query\n",
    "    experiment_all_query_results.append({\n",
    "        'experiment_query_id': experiment_query_id,\n",
    "        'nl_query_text': current_nl_query_text,\n",
    "        'true_db_id': true_db_id_for_query,\n",
    "        # The key name is updated for clarity\n",
    "        'ranked_databases_with_predictions': ranked_databases_for_query \n",
    "    })\n",
    "\n",
    "    # --- 3. Periodic Saving of Results ---\n",
    "    # Save intermediate results to avoid data loss on long runs\n",
    "    try:\n",
    "        with open(EXPERIMENT_RESULTS_FILE, 'w') as f_out:\n",
    "            json.dump(experiment_all_query_results, f_out, indent=2)\n",
    "        # Optional: uncomment the line below for more verbose saving confirmation\n",
    "        # print(f\"  Successfully saved intermediate results for {len(experiment_all_query_results)} queries.\")\n",
    "    except Exception as e:\n",
    "        print(f\"  ERROR: Could not save intermediate results: {e}\")\n",
    "\n",
    "# --- 4. Experiment Loop Completion ---\n",
    "print(\"\\n--- Experiment Loop Finished ---\")\n",
    "if experiment_all_query_results:\n",
    "    print(f\"Processed {len(experiment_all_query_results)} queries in total.\")\n",
    "    # Final save to ensure the very last entry is written\n",
    "    try:\n",
    "        with open(EXPERIMENT_RESULTS_FILE, 'w') as f_out:\n",
    "            json.dump(experiment_all_query_results, f_out, indent=2)\n",
    "        print(f\"Final results comprehensively saved to {EXPERIMENT_RESULTS_FILE}\")\n",
    "    except Exception as e:\n",
    "        print(f\"ERROR: Could not save final results: {e}\")\n",
    "else:\n",
    "    print(\"No results were generated. Check logs for errors.\")"
   ]
  },
  {
   "cell_type": "code",
   "execution_count": 23,
   "id": "8262e333-9885-4932-b1fe-3de3dbd0d56c",
   "metadata": {},
   "outputs": [
    {
     "name": "stdout",
     "output_type": "stream",
     "text": [
      "Using in-memory experiment_all_query_results for evaluation.\n",
      "\n",
      "--- Evaluation: Recall@K ---\n",
      "Evaluated on 1034 queries.\n",
      "Recall@1: 75.92%\n",
      "Recall@3: 90.52%\n",
      "Recall@5: 96.03%\n",
      "Recall@10: 98.65%\n",
      "Saved evaluation results to 'recall_k_results_context_lamma-3.1-8B-instruct_CREATE_prompt_synthetic_data_all_DB.json'\n",
      "\n",
      "--- Sample Detailed Query Results (Top 5 Queries) ---\n",
      "\n",
      "Query 1: 'How many 'United Airlines' flights go to Airport 'ASY'?' (True DB: flight_2)\n",
      "  Top Ranked Databases (with P(Yes) scores):\n",
      "\n",
      "Query 2: 'What are the name of the countries where there is not a single car maker?' (True DB: car_1)\n",
      "  Top Ranked Databases (with P(Yes) scores):\n",
      "\n",
      "Query 3: 'What are the date and the operating professional's first name of each treatment?' (True DB: dog_kennels)\n",
      "  Top Ranked Databases (with P(Yes) scores):\n",
      "\n",
      "Query 4: 'List each owner's first name, last name, and the size of his for her dog.' (True DB: dog_kennels)\n",
      "  Top Ranked Databases (with P(Yes) scores):\n",
      "\n",
      "Query 5: 'Find the first name and age of students who have a dog but do not have a cat as a pet.' (True DB: pets_1)\n",
      "  Top Ranked Databases (with P(Yes) scores):\n"
     ]
    }
   ],
   "source": [
    "import os\n",
    "import json\n",
    "\n",
    "# Path where the evaluation summary (Recall@K results) will be saved\n",
    "EVAL_RESULTS_SAVE_PATH = \"recall_k_results_context_lamma-3.1-8B-instruct_CREATE_prompt_no_examples.json\"\n",
    "\n",
    "# --- 4.1. Define Recall@K Calculation Function ---\n",
    "def calculate_recall_at_k_metric(all_query_results_list, k_values_list):\n",
    "    \"\"\"\n",
    "    Calculates Recall@K for a list of K values.\n",
    "    Each item in all_query_results_list should be a dictionary with:\n",
    "        'true_db_id': The ground truth database ID for the query.\n",
    "        'ranked_databases_with_scores': A list of {'candidate_db_id': id, 'p_yes_score': score},\n",
    "                                         sorted by score in descending order.\n",
    "    \"\"\"\n",
    "    recall_counts = {k: 0 for k in k_values_list}  # Stores how many times true_db was in top K\n",
    "    total_valid_queries = 0  # Queries for which we have a true_db_id\n",
    "\n",
    "    if not all_query_results_list:\n",
    "        return {k: 0.0 for k in k_values_list}, 0\n",
    "\n",
    "    for query_result in all_query_results_list:\n",
    "        true_db = query_result.get('true_db_id')\n",
    "        ranked_dbs_info = query_result.get('ranked_databases_with_predictions')\n",
    "\n",
    "        if true_db is None or ranked_dbs_info is None:\n",
    "            print(f\"Warning: Skipping query result due to missing 'true_db_id' or 'ranked_databases_with_scores': \"\n",
    "                  f\"{query_result.get('experiment_query_id', 'Unknown Query')}\")\n",
    "            continue  # Skip if essential information is missing\n",
    "\n",
    "        total_valid_queries += 1\n",
    "        # Extract just the DB IDs from the ranked list\n",
    "        ranked_db_ids_only = [item['candidate_db_id'] for item in ranked_dbs_info]\n",
    "\n",
    "        for k in k_values_list:\n",
    "            # Get the top K predicted database IDs\n",
    "            top_k_predicted_dbs = ranked_db_ids_only[:k]\n",
    "            if true_db in top_k_predicted_dbs:\n",
    "                recall_counts[k] += 1\n",
    "\n",
    "    # Calculate final recall percentages\n",
    "    recall_percentages = {}\n",
    "    if total_valid_queries > 0:\n",
    "        for k in k_values_list:\n",
    "            recall_percentages[k] = (recall_counts[k] / total_valid_queries) * 100.0  # As percentage\n",
    "    else:\n",
    "        recall_percentages = {k: 0.0 for k in k_values_list}\n",
    "\n",
    "    return recall_percentages, total_valid_queries\n",
    "\n",
    "\n",
    "# --- 4.2. Perform Evaluation ---\n",
    "# Load results if this cell is run in a new session and experiment_all_query_results isn't in memory\n",
    "# (assuming results were saved to EXPERIMENT_RESULTS_FILE)\n",
    "loaded_results_for_eval = None\n",
    "if 'experiment_all_query_results' in globals() and experiment_all_query_results:\n",
    "    print(\"Using in-memory experiment_all_query_results for evaluation.\")\n",
    "    loaded_results_for_eval = experiment_all_query_results\n",
    "elif os.path.exists(EXPERIMENT_RESULTS_FILE):\n",
    "    print(f\"Loading results from {EXPERIMENT_RESULTS_FILE} for evaluation...\")\n",
    "    try:\n",
    "        with open(EXPERIMENT_RESULTS_FILE, 'r') as f_in:\n",
    "            loaded_results_for_eval = json.load(f_in)\n",
    "        print(f\"Successfully loaded {len(loaded_results_for_eval)} results from file.\")\n",
    "    except Exception as e:\n",
    "        print(f\"Error loading results from file for evaluation: {e}\")\n",
    "else:\n",
    "    print(\"No results available in memory or in the specified results file for evaluation.\")\n",
    "\n",
    "if loaded_results_for_eval:\n",
    "    K_VALUES_TO_EVALUATE = [1, 3, 5, 10]  # Define the K values you care about\n",
    "    recall_scores_map, num_queries_evaluated = calculate_recall_at_k_metric(\n",
    "        loaded_results_for_eval, K_VALUES_TO_EVALUATE\n",
    "    )\n",
    "\n",
    "    print(\"\\n--- Evaluation: Recall@K ---\")\n",
    "    print(f\"Evaluated on {num_queries_evaluated} queries.\")\n",
    "    for k_val, recall_val in recall_scores_map.items():\n",
    "        print(f\"Recall@{k_val}: {recall_val:.2f}%\")\n",
    "\n",
    "    # --- 4.2.1. Save evaluation results to a JSON file ---\n",
    "    try:\n",
    "        eval_summary = {\n",
    "            \"num_queries_evaluated\": num_queries_evaluated,\n",
    "            \"recall_scores\": recall_scores_map\n",
    "        }\n",
    "        with open(EVAL_RESULTS_SAVE_PATH, 'w') as fout:\n",
    "            json.dump(eval_summary, fout, indent=2)\n",
    "        print(f\"Saved evaluation results to '{EVAL_RESULTS_SAVE_PATH}'\")\n",
    "    except Exception as save_err:\n",
    "        print(f\"Error saving evaluation results: {save_err}\")\n",
    "\n",
    "    # --- 4.3. Optional: Print Detailed Results for a Few Queries ---\n",
    "    print(\"\\n--- Sample Detailed Query Results (Top 5 Queries) ---\")\n",
    "    for i, res in enumerate(loaded_results_for_eval[:5]):  # Show for first 5 queries\n",
    "        print(f\"\\nQuery {i+1}: '{res.get('nl_query_text', '<no text>')}' (True DB: {res.get('true_db_id')})\")\n",
    "        print(\"  Top Ranked Databases (with P(Yes) scores):\")\n",
    "        for rank, db_info in enumerate(res.get('ranked_databases_with_scores', [])[:5]):  # Show top 5 ranked DBs\n",
    "            is_true_db_char = \"*\" if db_info['candidate_db_id'] == res['true_db_id'] else \" \"\n",
    "            print(f\"    {rank+1}. {db_info['candidate_db_id']}{is_true_db_char} \"\n",
    "                  f\"(Score: {db_info['p_yes_score']:.4f})\")\n",
    "else:\n",
    "    print(\"Cannot perform evaluation as no results were loaded or generated.\")\n"
   ]
  }
 ],
 "metadata": {
  "kernelspec": {
   "display_name": "Python (llama_spider_env)",
   "language": "python",
   "name": "llama_spider_env"
  },
  "language_info": {
   "codemirror_mode": {
    "name": "ipython",
    "version": 3
   },
   "file_extension": ".py",
   "mimetype": "text/x-python",
   "name": "python",
   "nbconvert_exporter": "python",
   "pygments_lexer": "ipython3",
   "version": "3.10.16"
  }
 },
 "nbformat": 4,
 "nbformat_minor": 5
}
