{
 "cells": [
  {
   "cell_type": "code",
   "execution_count": 1,
   "id": "68760dd7-f0dc-4eba-abd9-199f3a70cfa3",
   "metadata": {
    "scrolled": true
   },
   "outputs": [
    {
     "name": "stdout",
     "output_type": "stream",
     "text": [
      "Requirement already satisfied: transformers in /raid/infolab/gaurav/Llama_Spider_A100_Project/miniconda3/envs/llama_spider_env/lib/python3.10/site-packages (4.52.4)\n",
      "Requirement already satisfied: accelerate in /raid/infolab/gaurav/Llama_Spider_A100_Project/miniconda3/envs/llama_spider_env/lib/python3.10/site-packages (1.7.0)\n",
      "Requirement already satisfied: bitsandbytes in /raid/infolab/gaurav/Llama_Spider_A100_Project/miniconda3/envs/llama_spider_env/lib/python3.10/site-packages (0.46.0)\n",
      "Requirement already satisfied: sentencepiece in /raid/infolab/gaurav/Llama_Spider_A100_Project/miniconda3/envs/llama_spider_env/lib/python3.10/site-packages (0.2.0)\n",
      "Requirement already satisfied: pandas in /raid/infolab/gaurav/Llama_Spider_A100_Project/miniconda3/envs/llama_spider_env/lib/python3.10/site-packages (2.2.3)\n",
      "Requirement already satisfied: datasets in /raid/infolab/gaurav/Llama_Spider_A100_Project/miniconda3/envs/llama_spider_env/lib/python3.10/site-packages (3.6.0)\n",
      "Requirement already satisfied: huggingface_hub in /raid/infolab/gaurav/Llama_Spider_A100_Project/miniconda3/envs/llama_spider_env/lib/python3.10/site-packages (0.32.3)\n",
      "Requirement already satisfied: tqdm in /raid/infolab/gaurav/Llama_Spider_A100_Project/miniconda3/envs/llama_spider_env/lib/python3.10/site-packages (4.67.1)\n",
      "Requirement already satisfied: filelock in /raid/infolab/gaurav/Llama_Spider_A100_Project/miniconda3/envs/llama_spider_env/lib/python3.10/site-packages (from transformers) (3.17.0)\n",
      "Requirement already satisfied: numpy>=1.17 in /raid/infolab/gaurav/Llama_Spider_A100_Project/miniconda3/envs/llama_spider_env/lib/python3.10/site-packages (from transformers) (2.0.1)\n",
      "Requirement already satisfied: packaging>=20.0 in /raid/infolab/gaurav/Llama_Spider_A100_Project/miniconda3/envs/llama_spider_env/lib/python3.10/site-packages (from transformers) (24.2)\n",
      "Requirement already satisfied: pyyaml>=5.1 in /raid/infolab/gaurav/Llama_Spider_A100_Project/miniconda3/envs/llama_spider_env/lib/python3.10/site-packages (from transformers) (6.0.2)\n",
      "Requirement already satisfied: regex!=2019.12.17 in /raid/infolab/gaurav/Llama_Spider_A100_Project/miniconda3/envs/llama_spider_env/lib/python3.10/site-packages (from transformers) (2024.11.6)\n",
      "Requirement already satisfied: requests in /raid/infolab/gaurav/Llama_Spider_A100_Project/miniconda3/envs/llama_spider_env/lib/python3.10/site-packages (from transformers) (2.32.3)\n",
      "Requirement already satisfied: tokenizers<0.22,>=0.21 in /raid/infolab/gaurav/Llama_Spider_A100_Project/miniconda3/envs/llama_spider_env/lib/python3.10/site-packages (from transformers) (0.21.1)\n",
      "Requirement already satisfied: safetensors>=0.4.3 in /raid/infolab/gaurav/Llama_Spider_A100_Project/miniconda3/envs/llama_spider_env/lib/python3.10/site-packages (from transformers) (0.5.3)\n",
      "Requirement already satisfied: fsspec>=2023.5.0 in /raid/infolab/gaurav/Llama_Spider_A100_Project/miniconda3/envs/llama_spider_env/lib/python3.10/site-packages (from huggingface_hub) (2025.3.0)\n",
      "Requirement already satisfied: typing-extensions>=3.7.4.3 in /raid/infolab/gaurav/Llama_Spider_A100_Project/miniconda3/envs/llama_spider_env/lib/python3.10/site-packages (from huggingface_hub) (4.12.2)\n",
      "Requirement already satisfied: hf-xet<2.0.0,>=1.1.2 in /raid/infolab/gaurav/Llama_Spider_A100_Project/miniconda3/envs/llama_spider_env/lib/python3.10/site-packages (from huggingface_hub) (1.1.2)\n",
      "Requirement already satisfied: psutil in /raid/infolab/gaurav/Llama_Spider_A100_Project/miniconda3/envs/llama_spider_env/lib/python3.10/site-packages (from accelerate) (5.9.0)\n",
      "Requirement already satisfied: torch>=2.0.0 in /raid/infolab/gaurav/Llama_Spider_A100_Project/miniconda3/envs/llama_spider_env/lib/python3.10/site-packages (from accelerate) (2.2.0)\n",
      "Requirement already satisfied: sympy in /raid/infolab/gaurav/Llama_Spider_A100_Project/miniconda3/envs/llama_spider_env/lib/python3.10/site-packages (from torch>=2.0.0->accelerate) (1.13.3)\n",
      "Requirement already satisfied: networkx in /raid/infolab/gaurav/Llama_Spider_A100_Project/miniconda3/envs/llama_spider_env/lib/python3.10/site-packages (from torch>=2.0.0->accelerate) (3.4.2)\n",
      "Requirement already satisfied: jinja2 in /raid/infolab/gaurav/Llama_Spider_A100_Project/miniconda3/envs/llama_spider_env/lib/python3.10/site-packages (from torch>=2.0.0->accelerate) (3.1.6)\n",
      "Requirement already satisfied: python-dateutil>=2.8.2 in /raid/infolab/gaurav/Llama_Spider_A100_Project/miniconda3/envs/llama_spider_env/lib/python3.10/site-packages (from pandas) (2.9.0.post0)\n",
      "Requirement already satisfied: pytz>=2020.1 in /raid/infolab/gaurav/Llama_Spider_A100_Project/miniconda3/envs/llama_spider_env/lib/python3.10/site-packages (from pandas) (2025.2)\n",
      "Requirement already satisfied: tzdata>=2022.7 in /raid/infolab/gaurav/Llama_Spider_A100_Project/miniconda3/envs/llama_spider_env/lib/python3.10/site-packages (from pandas) (2025.2)\n",
      "Requirement already satisfied: pyarrow>=15.0.0 in /raid/infolab/gaurav/Llama_Spider_A100_Project/miniconda3/envs/llama_spider_env/lib/python3.10/site-packages (from datasets) (20.0.0)\n",
      "Requirement already satisfied: dill<0.3.9,>=0.3.0 in /raid/infolab/gaurav/Llama_Spider_A100_Project/miniconda3/envs/llama_spider_env/lib/python3.10/site-packages (from datasets) (0.3.8)\n",
      "Requirement already satisfied: xxhash in /raid/infolab/gaurav/Llama_Spider_A100_Project/miniconda3/envs/llama_spider_env/lib/python3.10/site-packages (from datasets) (3.5.0)\n",
      "Requirement already satisfied: multiprocess<0.70.17 in /raid/infolab/gaurav/Llama_Spider_A100_Project/miniconda3/envs/llama_spider_env/lib/python3.10/site-packages (from datasets) (0.70.16)\n",
      "Requirement already satisfied: aiohttp!=4.0.0a0,!=4.0.0a1 in /raid/infolab/gaurav/Llama_Spider_A100_Project/miniconda3/envs/llama_spider_env/lib/python3.10/site-packages (from fsspec[http]<=2025.3.0,>=2023.1.0->datasets) (3.12.6)\n",
      "Requirement already satisfied: aiohappyeyeballs>=2.5.0 in /raid/infolab/gaurav/Llama_Spider_A100_Project/miniconda3/envs/llama_spider_env/lib/python3.10/site-packages (from aiohttp!=4.0.0a0,!=4.0.0a1->fsspec[http]<=2025.3.0,>=2023.1.0->datasets) (2.6.1)\n",
      "Requirement already satisfied: aiosignal>=1.1.2 in /raid/infolab/gaurav/Llama_Spider_A100_Project/miniconda3/envs/llama_spider_env/lib/python3.10/site-packages (from aiohttp!=4.0.0a0,!=4.0.0a1->fsspec[http]<=2025.3.0,>=2023.1.0->datasets) (1.3.2)\n",
      "Requirement already satisfied: async-timeout<6.0,>=4.0 in /raid/infolab/gaurav/Llama_Spider_A100_Project/miniconda3/envs/llama_spider_env/lib/python3.10/site-packages (from aiohttp!=4.0.0a0,!=4.0.0a1->fsspec[http]<=2025.3.0,>=2023.1.0->datasets) (5.0.1)\n",
      "Requirement already satisfied: attrs>=17.3.0 in /raid/infolab/gaurav/Llama_Spider_A100_Project/miniconda3/envs/llama_spider_env/lib/python3.10/site-packages (from aiohttp!=4.0.0a0,!=4.0.0a1->fsspec[http]<=2025.3.0,>=2023.1.0->datasets) (24.3.0)\n",
      "Requirement already satisfied: frozenlist>=1.1.1 in /raid/infolab/gaurav/Llama_Spider_A100_Project/miniconda3/envs/llama_spider_env/lib/python3.10/site-packages (from aiohttp!=4.0.0a0,!=4.0.0a1->fsspec[http]<=2025.3.0,>=2023.1.0->datasets) (1.6.0)\n",
      "Requirement already satisfied: multidict<7.0,>=4.5 in /raid/infolab/gaurav/Llama_Spider_A100_Project/miniconda3/envs/llama_spider_env/lib/python3.10/site-packages (from aiohttp!=4.0.0a0,!=4.0.0a1->fsspec[http]<=2025.3.0,>=2023.1.0->datasets) (6.4.4)\n",
      "Requirement already satisfied: propcache>=0.2.0 in /raid/infolab/gaurav/Llama_Spider_A100_Project/miniconda3/envs/llama_spider_env/lib/python3.10/site-packages (from aiohttp!=4.0.0a0,!=4.0.0a1->fsspec[http]<=2025.3.0,>=2023.1.0->datasets) (0.3.1)\n",
      "Requirement already satisfied: yarl<2.0,>=1.17.0 in /raid/infolab/gaurav/Llama_Spider_A100_Project/miniconda3/envs/llama_spider_env/lib/python3.10/site-packages (from aiohttp!=4.0.0a0,!=4.0.0a1->fsspec[http]<=2025.3.0,>=2023.1.0->datasets) (1.20.0)\n",
      "Requirement already satisfied: idna>=2.0 in /raid/infolab/gaurav/Llama_Spider_A100_Project/miniconda3/envs/llama_spider_env/lib/python3.10/site-packages (from yarl<2.0,>=1.17.0->aiohttp!=4.0.0a0,!=4.0.0a1->fsspec[http]<=2025.3.0,>=2023.1.0->datasets) (3.7)\n",
      "Requirement already satisfied: six>=1.5 in /raid/infolab/gaurav/Llama_Spider_A100_Project/miniconda3/envs/llama_spider_env/lib/python3.10/site-packages (from python-dateutil>=2.8.2->pandas) (1.17.0)\n",
      "Requirement already satisfied: charset-normalizer<4,>=2 in /raid/infolab/gaurav/Llama_Spider_A100_Project/miniconda3/envs/llama_spider_env/lib/python3.10/site-packages (from requests->transformers) (3.3.2)\n",
      "Requirement already satisfied: urllib3<3,>=1.21.1 in /raid/infolab/gaurav/Llama_Spider_A100_Project/miniconda3/envs/llama_spider_env/lib/python3.10/site-packages (from requests->transformers) (2.3.0)\n",
      "Requirement already satisfied: certifi>=2017.4.17 in /raid/infolab/gaurav/Llama_Spider_A100_Project/miniconda3/envs/llama_spider_env/lib/python3.10/site-packages (from requests->transformers) (2025.4.26)\n",
      "Requirement already satisfied: MarkupSafe>=2.0 in /raid/infolab/gaurav/Llama_Spider_A100_Project/miniconda3/envs/llama_spider_env/lib/python3.10/site-packages (from jinja2->torch>=2.0.0->accelerate) (3.0.2)\n",
      "Requirement already satisfied: mpmath<1.4,>=1.1.0 in /raid/infolab/gaurav/Llama_Spider_A100_Project/miniconda3/envs/llama_spider_env/lib/python3.10/site-packages (from sympy->torch>=2.0.0->accelerate) (1.3.0)\n",
      "Note: you may need to restart the kernel to use updated packages.\n"
     ]
    }
   ],
   "source": [
    "pip install transformers accelerate bitsandbytes sentencepiece pandas datasets huggingface_hub tqdm"
   ]
  },
  {
   "cell_type": "code",
   "execution_count": 3,
   "id": "f6015af9-e860-4e27-af56-95091e424a3a",
   "metadata": {},
   "outputs": [
    {
     "name": "stdout",
     "output_type": "stream",
     "text": [
      "--- Cell 1: Imports and Initial Configuration Complete ---\n",
      "PyTorch Version: 2.2.0\n",
      "Transformers Version: 4.52.4\n"
     ]
    }
   ],
   "source": [
    "# --- Standard Library Imports ---\n",
    "# --- Third-party Library Imports ---\n",
    "# --- Third-party Library Imports ---\n",
    "import torch\n",
    "\n",
    "from tqdm.auto import tqdm\n",
    "import time\n",
    "from huggingface_hub import login\n",
    "import transformers # <--- ADD THIS LINE\n",
    "from transformers import AutoModelForCausalLM, AutoTokenizer, BitsAndBytesConfig\n",
    "\n",
    "# --- Third-party Library Imports ---\n",
    "import torch\n",
    "from tqdm.auto import tqdm # For progress bars\n",
    "from huggingface_hub import login # For Hugging Face Hub authentication\n",
    "from transformers import AutoModelForCausalLM, AutoTokenizer, BitsAndBytesConfig\n",
    "\n",
    "print(\"--- Cell 1: Imports and Initial Configuration Complete ---\")\n",
    "print(f\"PyTorch Version: {torch.__version__}\")\n",
    "print(f\"Transformers Version: {transformers.__version__}\")"
   ]
  },
  {
   "cell_type": "code",
   "execution_count": 4,
   "id": "1206593a-e64c-4fe4-9e07-8dfd5c80d2c5",
   "metadata": {},
   "outputs": [
    {
     "name": "stdout",
     "output_type": "stream",
     "text": [
      "PyTorch version: 2.2.0\n",
      "CUDA available: True\n",
      "CUDA version PyTorch compiled with: 11.8\n",
      "Number of GPUs available to PyTorch: 8\n",
      "  GPU 0: NVIDIA A100-SXM4-80GB\n",
      "  GPU 1: NVIDIA A100-SXM4-80GB\n",
      "  GPU 2: NVIDIA A100-SXM4-80GB\n",
      "  GPU 3: NVIDIA A100-SXM4-80GB\n",
      "  GPU 4: NVIDIA A100-SXM4-80GB\n",
      "  GPU 5: NVIDIA A100-SXM4-80GB\n",
      "  GPU 6: NVIDIA A100-SXM4-80GB\n",
      "  GPU 7: NVIDIA A100-SXM4-80GB\n"
     ]
    }
   ],
   "source": [
    "import torch\n",
    "print(f\"PyTorch version: {torch.__version__}\")\n",
    "print(f\"CUDA available: {torch.cuda.is_available()}\")\n",
    "if torch.cuda.is_available():\n",
    "    print(f\"CUDA version PyTorch compiled with: {torch.version.cuda}\")\n",
    "    print(f\"Number of GPUs available to PyTorch: {torch.cuda.device_count()}\")\n",
    "    for i in range(torch.cuda.device_count()):\n",
    "        print(f\"  GPU {i}: {torch.cuda.get_device_name(i)}\")\n",
    "else:\n",
    "    print(\"ERROR: PyTorch cannot see the GPUs! Check installation and CUDA compatibility.\")"
   ]
  },
  {
   "cell_type": "code",
   "execution_count": 5,
   "id": "6c6c79c7-ffaf-414f-a4a5-e646aadf5869",
   "metadata": {},
   "outputs": [
    {
     "name": "stdout",
     "output_type": "stream",
     "text": [
      "--- Cell 1: Imports and Initial Configuration Complete ---\n",
      "PyTorch Version: 2.2.0\n",
      "Transformers Version: 4.52.4\n"
     ]
    }
   ],
   "source": [
    "# --- Standard Library Imports ---\n",
    "# --- Third-party Library Imports ---\n",
    "# --- Third-party Library Imports ---\n",
    "import torch\n",
    "from tqdm.auto import tqdm\n",
    "import time\n",
    "from huggingface_hub import login\n",
    "import transformers # <--- ADD THIS LINE\n",
    "from transformers import AutoModelForCausalLM, AutoTokenizer, BitsAndBytesConfig\n",
    "\n",
    "# --- Third-party Library Imports ---\n",
    "import torch\n",
    "from tqdm.auto import tqdm # For progress bars\n",
    "from huggingface_hub import login # For Hugging Face Hub authentication\n",
    "from transformers import AutoModelForCausalLM, AutoTokenizer, BitsAndBytesConfig\n",
    "\n",
    "print(\"--- Cell 1: Imports and Initial Configuration Complete ---\")\n",
    "print(f\"PyTorch Version: {torch.__version__}\")\n",
    "print(f\"Transformers Version: {transformers.__version__}\")"
   ]
  },
  {
   "cell_type": "code",
   "execution_count": 6,
   "id": "82706e9d-a125-4315-ae90-94faee8d6464",
   "metadata": {},
   "outputs": [
    {
     "name": "stdout",
     "output_type": "stream",
     "text": [
      "Target Model: meta-llama/Llama-3.1-8B-Instruct\n",
      "BitsAndBytesConfig: load_in_4bit=True, compute_dtype=torch.bfloat16\n",
      "Hugging Face model cache directory set to: /raid/infolab/gaurav/Llama_Spider_A100_Project/experiments_70b_llama/.hf_model_cache_70b\n",
      "\n",
      "--- Cell 3: Model and Prompt Configuration Complete ---\n"
     ]
    }
   ],
   "source": [
    "# --- Model and Tokenizer Configuration ---\n",
    "import os\n",
    "\n",
    "# 3.1. Specify the Llama 2 70B Chat Model\n",
    "MODEL_NAME = \"meta-llama/Llama-3.1-8B-Instruct\"\n",
    "print(f\"Target Model: {MODEL_NAME}\")\n",
    "\n",
    "# 3.2. Configure 4-bit Quantization (essential for 70B, even on A100s for single/few GPU use)\n",
    "# A100s support bfloat16, which is excellent for mixed-precision.\n",
    "bnb_config = BitsAndBytesConfig(\n",
    "    load_in_4bit=True,\n",
    "    bnb_4bit_quant_type=\"nf4\",        # nf4 is a good default\n",
    "    bnb_4bit_compute_dtype=torch.bfloat16, # Use bfloat16 for computation on A100s\n",
    "    bnb_4bit_use_double_quant=True,   # Can save a bit more memory\n",
    ")\n",
    "print(f\"BitsAndBytesConfig: load_in_4bit={bnb_config.load_in_4bit}, compute_dtype={bnb_config.bnb_4bit_compute_dtype}\")\n",
    "\n",
    "# 3.4. Define Cache Directory for Hugging Face downloads (optional, but good for managing large models)\n",
    "# Create it within your project directory on the A100 server.\n",
    "HF_MODEL_CACHE_DIR = os.path.join(os.getcwd(), \".hf_model_cache_70b\") # Assumes current dir is project root\n",
    "os.makedirs(HF_MODEL_CACHE_DIR, exist_ok=True)\n",
    "print(f\"Hugging Face model cache directory set to: {HF_MODEL_CACHE_DIR}\")\n",
    "\n",
    "print(\"\\n--- Cell 3: Model and Prompt Configuration Complete ---\")"
   ]
  },
  {
   "cell_type": "code",
   "execution_count": 7,
   "id": "9ee56445-c515-496d-8611-12b685e7088a",
   "metadata": {},
   "outputs": [
    {
     "name": "stdout",
     "output_type": "stream",
     "text": [
      "Loading tokenizer for meta-llama/Llama-3.1-8B-Instruct...\n",
      "Tokenizer pad_token was None, set to eos_token: <|eot_id|> (ID: 128009)\n",
      "Tokenizer loaded successfully.\n",
      "Tokenizer pad token ID: 128009\n",
      "Tokenizer EOS token ID: 128009\n",
      "Tokenizer BOS token ID: 128000\n"
     ]
    }
   ],
   "source": [
    "# --- Load the Tokenizer ---\n",
    "# The tokenizer converts text into numerical IDs that the model understands, and vice-versa.\n",
    "# It's crucial that the tokenizer matches the model it was trained with.\n",
    "print(f\"Loading tokenizer for {MODEL_NAME}...\")\n",
    "tokenizer = AutoTokenizer.from_pretrained(\n",
    "    MODEL_NAME,\n",
    "    # token=HF_TOKEN # For recent versions of transformers, login() handles global auth.\n",
    "                     # You might need this for older versions or specific configurations.\n",
    "    trust_remote_code=True # Some models require this if they have custom code. Llama 2 generally doesn't, but good to be aware of.\n",
    ")\n",
    "\n",
    "# Llama models often don't have a pad token defined by default.\n",
    "# We set it to the EOS (End Of Sentence) token if it's not present.\n",
    "# This is important for batching inputs of different lengths, though for our P(Yes)\n",
    "# extraction (one prompt at a time), it's less critical but good practice.\n",
    "if tokenizer.pad_token is None:\n",
    "    tokenizer.pad_token = tokenizer.eos_token\n",
    "    print(f\"Tokenizer pad_token was None, set to eos_token: {tokenizer.eos_token} (ID: {tokenizer.eos_token_id})\")\n",
    "\n",
    "print(\"Tokenizer loaded successfully.\")\n",
    "print(f\"Tokenizer pad token ID: {tokenizer.pad_token_id}\")\n",
    "print(f\"Tokenizer EOS token ID: {tokenizer.eos_token_id}\")\n",
    "print(f\"Tokenizer BOS token ID: {tokenizer.bos_token_id}\")"
   ]
  },
  {
   "cell_type": "code",
   "execution_count": 8,
   "id": "236b8d9a-adb8-4b8f-9651-8e1501cbb6be",
   "metadata": {
    "scrolled": true
   },
   "outputs": [
    {
     "name": "stdout",
     "output_type": "stream",
     "text": [
      "Loading model: meta-llama/Llama-3.1-8B-Instruct with 4-bit quantization on GPU 1... This will take significant time and memory...\n"
     ]
    },
    {
     "data": {
      "application/vnd.jupyter.widget-view+json": {
       "model_id": "e850bca80f3944129aa3da84acfda302",
       "version_major": 2,
       "version_minor": 0
      },
      "text/plain": [
       "Loading checkpoint shards:   0%|          | 0/4 [00:00<?, ?it/s]"
      ]
     },
     "metadata": {},
     "output_type": "display_data"
    },
    {
     "name": "stdout",
     "output_type": "stream",
     "text": [
      "\n",
      "Model loaded successfully on GPU 1!\n",
      "Time taken: 13.74 seconds.\n",
      "Model device map: {'': 1}\n",
      "Performed memory cleanup (torch.cuda.empty_cache(), gc.collect())\n",
      "\n",
      "--- Cell 5: Llama 3.1 8B Instruct Model Loading Complete ---\n",
      "Model max_position_embeddings: 131072\n",
      "Tokenizer model_max_length: 131072\n"
     ]
    }
   ],
   "source": [
    "import gc\n",
    "import time\n",
    "from transformers import AutoModelForCausalLM\n",
    "\n",
    "print(f\"Loading model: {MODEL_NAME} with 4-bit quantization on GPU 1... This will take significant time and memory...\")\n",
    "model_load_start_time = time.time()\n",
    "\n",
    "try:\n",
    "    model = AutoModelForCausalLM.from_pretrained(\n",
    "        MODEL_NAME,\n",
    "        quantization_config=bnb_config,       # Apply 4-bit quantization\n",
    "        torch_dtype=torch.bfloat16,           # Use bfloat16 on A100s\n",
    "        device_map={\"\": 1},                   # 🔧 Manually assign everything to GPU 1\n",
    "        trust_remote_code=True,               # Required for some models\n",
    "        cache_dir=HF_MODEL_CACHE_DIR\n",
    "    )\n",
    "    model_load_end_time = time.time()\n",
    "    print(\"\\nModel loaded successfully on GPU 1!\")\n",
    "    print(f\"Time taken: {model_load_end_time - model_load_start_time:.2f} seconds.\")\n",
    "    print(f\"Model device map: {model.hf_device_map}\")  # Should show everything on device 1\n",
    "\n",
    "    # Optional: Clean up memory\n",
    "    torch.cuda.empty_cache()\n",
    "    gc.collect()\n",
    "    print(\"Performed memory cleanup (torch.cuda.empty_cache(), gc.collect())\")\n",
    "\n",
    "except Exception as e:\n",
    "    import traceback\n",
    "    traceback.print_exc()\n",
    "    raise RuntimeError(f\"Failed to load model {MODEL_NAME} on GPU 1: {e}. Check VRAM, CUDA setup, and Hugging Face authentication.\")\n",
    "\n",
    "print(\"\\n--- Cell 5: Llama 3.1 8B Instruct Model Loading Complete ---\")\n",
    "\n",
    "print(\"Model max_position_embeddings:\", model.config.max_position_embeddings)\n",
    "print(\"Tokenizer model_max_length:\", tokenizer.model_max_length)\n"
   ]
  },
  {
   "cell_type": "code",
   "execution_count": 120,
   "id": "14926f95-8929-4625-a7f8-32d505739420",
   "metadata": {},
   "outputs": [
    {
     "name": "stdout",
     "output_type": "stream",
     "text": [
      "Script started. Looking for zip file at: /raid/infolab/gaurav/Llama_Spider_A100_Project/spider_subset_data.zip\n",
      "Zip file found at /raid/infolab/gaurav/Llama_Spider_A100_Project/spider_subset_data.zip.\n",
      "Attempting to unzip /raid/infolab/gaurav/Llama_Spider_A100_Project/spider_subset_data.zip to /raid/infolab/gaurav/Llama_Spider_A100_Project/...\n",
      "Successfully unzipped files to /raid/infolab/gaurav/Llama_Spider_A100_Project/\n",
      "Contents of /raid/infolab/gaurav/Llama_Spider_A100_Project/:\n",
      "  - experiments_70b_llama\n",
      "  - .gitignore\n",
      "  - backup_to_github.sh\n",
      "  - Miniconda3-latest-Linux-x86_64.sh\n",
      "  - spider_subset_data.zip\n",
      "  - llm_generated_schema_examples.json\n",
      "  - randomQ_allDBs_run1\n",
      "  - .ipynb_checkpoints\n",
      "  - all_queries.txt\n",
      "  - .git\n",
      "  - miniconda3\n",
      "  - 100_queries.txt\n",
      "  - spider_subset_data\n",
      "  - __MACOSX\n",
      "\n",
      "Verifying extracted file paths...\n",
      "SUCCESS: dev.json path is valid: /raid/infolab/gaurav/Llama_Spider_A100_Project/spider_subset_data/dev.json\n",
      "SUCCESS: tables.json path is valid: /raid/infolab/gaurav/Llama_Spider_A100_Project/spider_subset_data/tables.json\n",
      "\n",
      "--- Ready to load data ---\n",
      "Path to dev.json: /raid/infolab/gaurav/Llama_Spider_A100_Project/spider_subset_data/dev.json\n",
      "Path to tables.json: /raid/infolab/gaurav/Llama_Spider_A100_Project/spider_subset_data/tables.json\n"
     ]
    }
   ],
   "source": [
    "import zipfile\n",
    "import os\n",
    "\n",
    "SERVER_ZIP_FILE_PATH = '/raid/infolab/gaurav/Llama_Spider_A100_Project/spider_subset_data.zip'\n",
    "EXTRACTION_DESTINATION_DIR_ON_SERVER = '/raid/infolab/gaurav/Llama_Spider_A100_Project/'\n",
    "\n",
    "DEV_JSON_PATH = None\n",
    "TABLES_JSON_PATH = None\n",
    "\n",
    "def unzip_data(zip_filepath, dest_dir):\n",
    "    \"\"\"\n",
    "    Unzips a zip file to a specified destination directory.\n",
    "    \"\"\"\n",
    "    print(f\"Attempting to unzip {zip_filepath} to {dest_dir}...\")\n",
    "    try:\n",
    "        \n",
    "        with zipfile.ZipFile(zip_filepath, 'r') as zip_ref:\n",
    "            zip_ref.extractall(dest_dir)\n",
    "        print(f\"Successfully unzipped files to {dest_dir}\")\n",
    "\n",
    "        print(f\"Contents of {dest_dir}:\")\n",
    "        for item in os.listdir(dest_dir):\n",
    "            print(f\"  - {item}\")\n",
    "        return True\n",
    "    except zipfile.BadZipFile:\n",
    "        print(f\"Error: {zip_filepath} is not a valid zip file or is corrupted.\")\n",
    "        return False\n",
    "    except FileNotFoundError:\n",
    "        print(f\"Error: Zip file not found at {zip_filepath}. Please ensure the path is correct.\")\n",
    "        return False\n",
    "    except PermissionError:\n",
    "        print(f\"Error: Permission denied to write to {dest_dir} or read {zip_filepath}.\")\n",
    "        return False\n",
    "    except Exception as e:\n",
    "        print(f\"An unexpected error occurred during unzipping: {e}\")\n",
    "        return False\n",
    "\n",
    "print(f\"Script started. Looking for zip file at: {SERVER_ZIP_FILE_PATH}\")\n",
    "\n",
    "if os.path.exists(SERVER_ZIP_FILE_PATH):\n",
    "    print(f\"Zip file found at {SERVER_ZIP_FILE_PATH}.\")\n",
    "    if unzip_data(SERVER_ZIP_FILE_PATH, EXTRACTION_DESTINATION_DIR_ON_SERVER):\n",
    "        \n",
    "        EXPECTED_EXTRACTED_FOLDER_NAME = 'spider_subset_data' # This is the folder INSIDE the zip\n",
    "\n",
    "        DEV_JSON_PATH = os.path.join(EXTRACTION_DESTINATION_DIR_ON_SERVER, EXPECTED_EXTRACTED_FOLDER_NAME, 'dev.json')\n",
    "        TABLES_JSON_PATH = os.path.join(EXTRACTION_DESTINATION_DIR_ON_SERVER, EXPECTED_EXTRACTED_FOLDER_NAME, 'tables.json')\n",
    "\n",
    "        print(\"\\nVerifying extracted file paths...\")\n",
    "        if os.path.exists(DEV_JSON_PATH):\n",
    "            print(f\"SUCCESS: dev.json path is valid: {DEV_JSON_PATH}\")\n",
    "        else:\n",
    "            print(f\"ERROR: dev.json NOT FOUND at expected path: {DEV_JSON_PATH}\")\n",
    "            print(f\"Please check the contents of {os.path.join(EXTRACTION_DESTINATION_DIR_ON_SERVER, EXPECTED_EXTRACTED_FOLDER_NAME)}\")\n",
    "\n",
    "\n",
    "        if os.path.exists(TABLES_JSON_PATH):\n",
    "            print(f\"SUCCESS: tables.json path is valid: {TABLES_JSON_PATH}\")\n",
    "        else:\n",
    "            print(f\"ERROR: tables.json NOT FOUND at expected path: {TABLES_JSON_PATH}\")\n",
    "            print(f\"Please check the contents of {os.path.join(EXTRACTION_DESTINATION_DIR_ON_SERVER, EXPECTED_EXTRACTED_FOLDER_NAME)}\")\n",
    "\n",
    "    else:\n",
    "        print(\"Unzipping failed on the server. Cannot define data paths.\")\n",
    "else:\n",
    "    print(f\"ERROR: Zip file NOT FOUND at {SERVER_ZIP_FILE_PATH} on the server.\")\n",
    "    print(\"Please ensure the 'scp' command was successful and the path is correct.\")\n",
    "\n",
    "\n",
    "if DEV_JSON_PATH and TABLES_JSON_PATH and os.path.exists(DEV_JSON_PATH) and os.path.exists(TABLES_JSON_PATH):\n",
    "    print(\"\\n--- Ready to load data ---\")\n",
    "    print(f\"Path to dev.json: {DEV_JSON_PATH}\")\n",
    "    print(f\"Path to tables.json: {TABLES_JSON_PATH}\")\n",
    "    \n",
    "else:\n",
    "    print(\"\\n--- Data paths are not correctly set up. Cannot proceed with data loading. ---\")"
   ]
  },
  {
   "cell_type": "code",
   "execution_count": 121,
   "id": "7ae54c4b-4ec4-4e42-af4c-de6d5ccd8ef1",
   "metadata": {},
   "outputs": [
    {
     "name": "stdout",
     "output_type": "stream",
     "text": [
      "Warning: could not parse line:\\n  Randomly selected 1034 NL queries for the experiment:\n",
      "Loaded 1034 queries from '/raid/infolab/gaurav/Llama_Spider_A100_Project/all_queries.txt':\n",
      "  Query 1: 'Show the property type descriptions of properties belonging to that code.' (True DB: real_estate_properties)\n",
      "  Query 2: 'What are the name of the countries where there is not a single car maker?' (True DB: car_1)\n",
      "  Query 3: 'What are the date and the operating professional's first name of each treatment?' (True DB: dog_kennels)\n",
      "  Query 4: 'List each owner's first name, last name, and the size of his for her dog.' (True DB: dog_kennels)\n",
      "  Query 5: 'Find the first name and age of students who have a dog but do not have a cat as a pet.' (True DB: pets_1)\n",
      "\n",
      "Created a mapping for 20 DB IDs to their corresponding real questions.\n",
      "Example: DB 'dog_kennels' now has 0 associated real questions.\n"
     ]
    }
   ],
   "source": [
    "import re\n",
    "import os\n",
    "\n",
    "TEXT_QUERIES_FILE = \"/raid/infolab/gaurav/Llama_Spider_A100_Project/all_queries.txt\"\n",
    "\n",
    "if not os.path.exists(TEXT_QUERIES_FILE):\n",
    "    raise FileNotFoundError(f\"Cannot find '{TEXT_QUERIES_FILE}' – make sure it’s in your working directory or update the path.\")\n",
    "\n",
    "selected_nl_queries = []\n",
    "\n",
    "# --- CORRECTED REGEX PATTERN ---\n",
    "# Using a raw string (r\"...\") with single backslashes for special sequences like \\s and \\d.\n",
    "# The parenthesis are also escaped with a single backslash.\n",
    "pattern = re.compile(r\"Test Query\\s+(\\d+):\\s+'(.+)'\\s+\\(True DB:\\s*([^)]+)\\)\")\n",
    "\n",
    "with open(TEXT_QUERIES_FILE, \"r\") as f_in:\n",
    "    for line in f_in:\n",
    "        line = line.strip()\n",
    "        # We don't need the startswith check, the regex will handle it.\n",
    "        m = pattern.match(line)\n",
    "        if not m:\n",
    "            # This warning will now only trigger for genuinely malformed lines.\n",
    "            print(f\"Warning: could not parse line:\\\\n  {line}\")\n",
    "            continue\n",
    "\n",
    "        # Groups are now: 1: number, 2: question, 3: db_id\n",
    "        question_text = m.group(2)\n",
    "        true_db_id    = m.group(3)\n",
    "\n",
    "        selected_nl_queries.append({\n",
    "            \"question\": question_text,\n",
    "            \"db_id\":    true_db_id\n",
    "        })\n",
    "\n",
    "if len(selected_nl_queries) == 0:\n",
    "    raise ValueError(f\"No queries were parsed from '{TEXT_QUERIES_FILE}'. Check your file’s format and the regex pattern.\")\n",
    "\n",
    "print(f\"Loaded {len(selected_nl_queries)} queries from '{TEXT_QUERIES_FILE}':\")\n",
    "for i, q in enumerate(selected_nl_queries[:5], 1): # Print first 5 as a sample\n",
    "    print(f\"  Query {i}: '{q['question']}' (True DB: {q['db_id']})\")\n",
    "\n",
    "\n",
    "# --- Create a map from DB ID to a list of its real questions ---\n",
    "# This will be used for dynamic few-shot example selection.\n",
    "db_id_to_all_real_questions_map = {}\n",
    "for query_info in selected_nl_queries:\n",
    "    db_id = query_info['db_id']\n",
    "    question = query_info['question']\n",
    "    if db_id not in db_id_to_all_real_questions_map:\n",
    "        db_id_to_all_real_questions_map[db_id] = []\n",
    "    db_id_to_all_real_questions_map[db_id].append(question)\n",
    "\n",
    "print(f\"\\nCreated a mapping for {len(db_id_to_all_real_questions_map)} DB IDs to their corresponding real questions.\")\n",
    "print(f\"Example: DB 'dog_kennels' now has {len(db_id_to_all_real_questions_map.get('academic', []))} associated real questions.\")"
   ]
  },
  {
   "cell_type": "code",
   "execution_count": 122,
   "id": "30e6f481-8ee2-40ce-9896-417e5c82845a",
   "metadata": {
    "scrolled": true
   },
   "outputs": [
    {
     "name": "stdout",
     "output_type": "stream",
     "text": [
      "\n",
      "--- Listing All Questions Associated with Each Database ---\n",
      "['battle_death', 'car_1', 'concert_singer', 'course_teach', 'cre_Doc_Template_Mgt', 'dog_kennels', 'employee_hire_evaluation', 'flight_2', 'museum_visit', 'network_1', 'orchestra', 'pets_1', 'poker_player', 'real_estate_properties', 'singer', 'student_transcripts_tracking', 'tvshow', 'voter_1', 'world_1', 'wta_1']\n",
      "\n",
      "Database: battle_death (16 questions)\n",
      "  1. What are the death and injury situations caused by the ship with tonnage 't'?\n",
      "  2. List the name and tonnage ordered by in descending alphaetical order for the names.\n",
      "  3. What is the average number of injuries caused each time?\n",
      "  4. How many ships ended up being 'Captured'?\n",
      "  5. List the name, date and result of each battle.\n",
      "  6. What is the ship id and name that caused most total injuries?\n",
      "  7. What are the name and results of the battles when the bulgarian commander is not 'Boril'\n",
      "  8. What is maximum and minimum death toll caused each time?\n",
      "  9. List the name and date the battle that has lost the ship named 'Lettice' and the ship named 'HMS Atalanta'\n",
      "  10. What are the notes of the death events which has substring 'East'?\n",
      "  11. What are the distinct battle names which are between bulgarian commander 'Kaloyan' and latin commander 'Baldwin I'?\n",
      "  12. What are the ids and names of the battles that led to more than 10 people killed in total.\n",
      "  13. What are the different ids and names of the battles that lost any 'Brig' type shipes?\n",
      "  14. Show names, results and bulgarian commanders of the battles with no ships lost in the 'English Channel'.\n",
      "  15. How many battles did not lose any ship with tonnage '225'?\n",
      "  16. How many different results are there for the battles?\n",
      "\n",
      "Database: car_1 (92 questions)\n",
      "  1. What are the name of the countries where there is not a single car maker?\n",
      "  2. What is the number of cars with a greater accelerate than the one with the most horsepower?\n",
      "  3. What is the maker of the carr produced in the earliest year and what year was it?\n",
      "  4. How many cars have a larger accelerate than the car with the largest horsepower?\n",
      "  5. What is the average weight of cars each year?\n",
      "  6. Which distinctive models are produced by maker with the full name General Motors or weighing more than 3500?\n",
      "  7. What is the average edispl for all volvos?\n",
      "  8. What are the ids and names of all countries that either have more than 3 car makers or produce fiat model ?\n",
      "  9. Which are the car makers which produce at least 2 models and more than 3 car makers ? List the id and the maker .\n",
      "  10. Find the make and production time of the cars that were produced in the earliest year?\n",
      "  11. How many car models are produced by each maker ? Only list the count and the maker full name .\n",
      "  12. What are the different models created by either the car maker General Motors or weighed more than 3500?\n",
      "  13. What is the number of continents?\n",
      "  14. What are the different models for the cards produced after 1980?\n",
      "  15. What are the names and ids of all countries with at least one car maker?\n",
      "  16. What is the number of the cars with horsepower more than 150?\n",
      "  17. What is the number of car models created by the car maker American Motor Company?\n",
      "  18. For model volvo, how many cylinders does the car with the least accelerate have?\n",
      "  19. What is the number of carsw ith over 6 cylinders?\n",
      "  20. What is the model of the car with the smallest amount of horsepower?\n",
      "  21. Find the name of the makers that produced some cars in the year of 1970?\n",
      "  22. Which makers designed more than 3 car models? List full name and the id.\n",
      "  23. What is the number of car models that are produced by each maker and what is the id and full name of each maker?\n",
      "  24. What are all the makers and models?\n",
      "  25. What is the accelerate of the car make amc hornet sportabout (sw)?\n",
      "  26. Which distinct car models are the produced after 1980?\n",
      "  27. How many car makers are there in france?\n",
      "  28. For a volvo model, how many cylinders does the version with least accelerate have?\n",
      "  29. What model has the most different versions?\n",
      "  30. How many continents are there?\n",
      "  31. What is the minimum weight of the car with 8 cylinders produced in 1974 ?\n",
      "  32. Which model of the car has the minimum horsepower?\n",
      "  33. What is the horsepower of the car with the largest accelerate?\n",
      "  34. What is the name of the country with the most car makers?\n",
      "  35. What is the maximum accelerate for all the different cylinders?\n",
      "  36. What is the smallest weight of the car produced with 8 cylinders on 1974 ?\n",
      "  37. What is the full name of each car maker, along with its id and how many models it produces?\n",
      "  38. What is the maximum mpg of the cars that had 8 cylinders or that were produced before 1980 ?\n",
      "  39. how many cars were produced in 1980?\n",
      "  40. In which years cars were produced weighing no less than 3000 and no more than 4000 ?\n",
      "  41. For the cars with 4 cylinders, which model has the largest horsepower?\n",
      "  42. How many models does each car maker produce? List maker full name, id and the number.\n",
      "  43. What is the average horsepower for all cars produced before 1980 ?\n",
      "  44. Which model has the most version(make) of cars?\n",
      "  45. What is the name of the different car makers who produced a car in 1970?\n",
      "  46. What are the names of all European countries with at least 3 manufacturers?\n",
      "  47. How many countries exist?\n",
      "  48. What is the model for the car with a weight smaller than the average?\n",
      "  49. How many car models were produced by the maker with full name American Motor Company?\n",
      "  50. How many countries has more than 2 car makers ?\n",
      "  51. For all of the 4 cylinder cars, which model has the most horsepower?\n",
      "  52. Find the model of the car whose weight is below the average weight.\n",
      "  53. What are the id and names of the countries which have more than 3 car makers or produce the 'fiat' model?\n",
      "  54. What are the different models wthat are lighter than 3500 but were not built by the Ford Motor Company?\n",
      "  55. For each continent, list its id, name, and how many countries it has?\n",
      "  56. What is the count of the car models produced in the United States?\n",
      "  57. What is the average miles per gallon(mpg) of the cars with 4 cylinders?\n",
      "  58. What is the number of makers of care in France?\n",
      "  59. What are the names and ids of all makers with more than 3 models?\n",
      "  60. What is the number of countries with more than 2 car makers ?\n",
      "  61. What is the average horsepower of the cars before 1980?\n",
      "  62. Among the cars that do not have the minimum horsepower , what are the make ids and names of all those with less than 4 cylinders ?\n",
      "  63. What is the number of cars with more than 4 cylinders?\n",
      "  64. In 1980, how many cars were made?\n",
      "  65. What is the average weight and year for each year?\n",
      "  66. What is the name of each continent and how many car makers are there in each one?\n",
      "  67. Which of the countries has the most car makers? List the country name.\n",
      "  68. Which models are lighter than 3500 but not built by the 'Ford Motor Company'?\n",
      "  69. Which countries in europe have at least 3 car manufacturers?\n",
      "  70. How many car models are produced in the usa?\n",
      "  71. How many countries does each continent have? List the continent id, continent name and the number of countries.\n",
      "  72. How much does the car accelerate that makes amc hornet sportabout (sw)?\n",
      "  73. Which model saves the most gasoline? That is to say, have the maximum miles per gallon.\n",
      "  74. What is the car model with the highest mpg ?\n",
      "  75. How many cars have more than 4 cylinders?\n",
      "  76. What are the makers and models?\n",
      "  77. How many cars has over 6 cylinders?\n",
      "  78. What is the number of cars with a horsepower greater than 150?\n",
      "  79. What are the ids and makers of all car makers that produce at least 2 models and make more than 3 cars?\n",
      "  80. What is the average edispl of the cars of model volvo?\n",
      "  81. How many countries are listed?\n",
      "  82. What is the maximum miles per gallon of the car with 8 cylinders or produced before 1980 ?\n",
      "  83. What are the different years in which there were cars produced that weighed less than 4000 and also cars that weighted more than 3000 ?\n",
      "  84. What is the maximum accelerate for different number of cylinders?\n",
      "  85. What is the horsepower of the car with the greatest accelerate?\n",
      "  86. What is the largest amount of horsepower for the models with 3 cylinders and what make is it?\n",
      "  87. How many car makers are there in each continents? List the continent name and the count.\n",
      "  88. What is the maximum horsepower and the make of the car models with 3 cylinders?\n",
      "  89. What are the countries having at least one car maker? List name and id.\n",
      "  90. What is the average miles per gallon of all the cards with 4 cylinders?\n",
      "  91. What are the names of the countries with no car makers?\n",
      "  92. Among the cars with more than lowest horsepower, which ones do not have more than 3 cylinders? List the car makeid and make name.\n",
      "\n",
      "Database: concert_singer (45 questions)\n",
      "  1. List all singer names in concerts in year 2014.\n",
      "  2. What are the names and release years for all the songs of the youngest singer?\n",
      "  3. Show the stadium names without any concert.\n",
      "  4. What is the name and capacity for the stadium with the highest average attendance?\n",
      "  5. How many singers are from each country?\n",
      "  6. Which year has most number of concerts?\n",
      "  7. Show names for all stadiums except for stadiums having a concert in year 2014.\n",
      "  8. How many concerts are there in year 2014 or 2015?\n",
      "  9. What are the names of the singers and number of concerts for each person?\n",
      "  10. What are the names , themes , and number of singers for every concert ?\n",
      "  11. What are the names, countries, and ages for every singer in descending order of age?\n",
      "  12. What is the average, minimum, and maximum age of all singers from France?\n",
      "  13. Show the stadium name and the number of concerts in each stadium.\n",
      "  14. Show all countries and the number of singers in each country.\n",
      "  15. List all song names by singers above the average age.\n",
      "  16. List singer names and number of concerts for each singer.\n",
      "  17. What are the locations and names of all stations with capacity between 5000 and 10000?\n",
      "  18. What are the names of all stadiums that did not have a concert in 2014?\n",
      "  19. Find the number of concerts happened in the stadium with the highest capacity .\n",
      "  20. What is the name and country of origin of every singer who has a song with the word 'Hey' in its title?\n",
      "  21. Show name, country, age for all singers ordered by age from the oldest to the youngest.\n",
      "  22. What are all distinct countries where singers above age 20 are from?\n",
      "  23. What are  the different countries with singers above age 20?\n",
      "  24. Show the name and the release year of the song by the youngest singer.\n",
      "  25. What is the name and capacity of the stadium with the most concerts after 2013 ?\n",
      "  26. Show location and name for all stadiums with a capacity between 5000 and 10000.\n",
      "  27. What is the total number of singers?\n",
      "  28. What is the average and maximum capacities for all stadiums ?\n",
      "  29. For each stadium, how many concerts play there?\n",
      "  30. Show the stadium name and capacity with most number of concerts in year 2014 or after.\n",
      "  31. What is the name and capacity for the stadium with highest average attendance?\n",
      "  32. What are the number of concerts that occurred in the stadium with the largest capacity ?\n",
      "  33. How many concerts occurred in 2014 or 2015?\n",
      "  34. What is the average, minimum, and maximum age for all French singers?\n",
      "  35. How many singers do we have?\n",
      "  36. Show countries where a singer above age 40 and a singer below 30 are from.\n",
      "  37. What is the maximum capacity and the average of all stadiums ?\n",
      "  38. What are the names of the singers who performed in a concert in 2014?\n",
      "  39. What is the year that had the most concerts?\n",
      "  40. What are the names and locations of the stadiums that had concerts that occurred in both 2014 and 2015?\n",
      "  41. Show the name and theme for all concerts and the number of singers in each concert.\n",
      "  42. What are the names of the stadiums without any concerts?\n",
      "  43. Find the name and location of the stadiums which some concerts happened in the years of both 2014 and 2015.\n",
      "  44. What are all the song names by singers who are older than average?\n",
      "  45. what is the name and nation of the singer who have a song having 'Hey' in its name?\n",
      "\n",
      "Database: course_teach (30 questions)\n",
      "  1. What are the names of the teachers who are aged either 32 or 33?\n",
      "  2. Show the name of the teacher for the math course.\n",
      "  3. List the name of teachers whose hometown is not `` Little Lever Urban District '' .\n",
      "  4. Show the name of teachers aged either 32 or 33?\n",
      "  5. Show the hometowns shared by at least two teachers.\n",
      "  6. What is the name of each teacher and what course they teach?\n",
      "  7. What are the names of the teachers who teach at least two courses?\n",
      "  8. Show names of teachers and the number of courses they teach.\n",
      "  9. What is the hometown of the youngest teacher?\n",
      "  10. What is the most commmon hometowns for teachers?\n",
      "  11. For each hometown, how many teachers are there?\n",
      "  12. List the names of teachers in ascending order of age.\n",
      "  13. What are the names of the teachers and the courses they teach in ascending alphabetical order by the name of the teacher?\n",
      "  14. List the names of teachers who have not been arranged to teach courses.\n",
      "  15. List the most common hometown of teachers.\n",
      "  16. What are the names of the people who teach math courses?\n",
      "  17. Show different hometown of teachers and the number of teachers from each hometown.\n",
      "  18. Where is the youngest teacher from?\n",
      "  19. What are the age and hometown of teachers?\n",
      "  20. Show names of teachers and the courses they are arranged to teach.\n",
      "  21. What are the names of the teachers ordered by ascending age?\n",
      "  22. Show names of teachers and the courses they are arranged to teach in ascending alphabetical order of the teacher's name.\n",
      "  23. What are the names of the teachers whose courses have not been arranged?\n",
      "  24. What is the age and hometown of every teacher?\n",
      "  25. Show names of teachers that teach at least two courses.\n",
      "  26. How many teachers are there?\n",
      "  27. What is the total count of teachers?\n",
      "  28. What are the towns from which at least two teachers come from?\n",
      "  29. What are the names of the teachers and how many courses do they teach?\n",
      "  30. What are the names of the teachers whose hometown is not `` Little Lever Urban District '' ?\n",
      "\n",
      "Database: cre_Doc_Template_Mgt (84 questions)\n",
      "  1. Show template ids, version numbers, and template type codes for all templates.\n",
      "  2. What is the template type code of the template used by document with the name \"Data base\"?\n",
      "  3. Show all template ids and number of documents using each template.\n",
      "  4. What is the document id with least number of paragraphs?\n",
      "  5. What is the document id, template id and description for document named \"Robbin CV\"?\n",
      "  6. What are all different template ids used for documents, and how many times were each of them used?\n",
      "  7. Return the different descriptions for templates that have been used in a document.\n",
      "  8. Show paragraph details for paragraph with text 'Korea ' .\n",
      "  9. Show all template type codes and the number of documents using each type.\n",
      "  10. Return the id and type code of the template that is used for the greatest number of documents.\n",
      "  11. List all document ids with at least two paragraphs.\n",
      "  12. Show ids for all templates not used by any document.\n",
      "  13. Show the document id with paragraph text 'Brazil' and 'Ireland'.\n",
      "  14. What are the template ids of any templates used in more than a single document?\n",
      "  15. Return the type code of the template type with the description \"Book\".\n",
      "  16. Return the lowest version number, along with its corresponding template type code.\n",
      "  17. Show all distinct template type codes for all templates.\n",
      "  18. Return the template type description of the template type with the code AD.\n",
      "  19. Return the names and template ids for documents that contain the letter w in their description.\n",
      "  20. Which template type code is used by most number of documents?\n",
      "  21. What are the names of documents that use templates with the code BK?\n",
      "  22. Show all template type codes and number of templates for each.\n",
      "  23. What are the ids, names, and descriptions for all documents?\n",
      "  24. What are the different template type codes?\n",
      "  25. What is the id and type code for the template used by the most documents?\n",
      "  26. List document IDs, document names, and document descriptions for all documents.\n",
      "  27. What are the details for the paragraph that includes the text 'Korea ' ?\n",
      "  28. How many documents do we have?\n",
      "  29. How many different templates do all document use?\n",
      "  30. What is the document id and name with greatest number of paragraphs?\n",
      "  31. Show all document ids and the number of paragraphs in each document. Order by document id.\n",
      "  32. What are the ids of documents that have 2 or more paragraphs?\n",
      "  33. Show all document names using templates with template type code BK.\n",
      "  34. Show ids for all templates that are used by more than one document.\n",
      "  35. Return the ids of templates that have the code PP or PPT.\n",
      "  36. What are the ids and names of each document, as well as the number of paragraphs in each?\n",
      "  37. What is the document id with 1 to 2 paragraphs?\n",
      "  38. Give the ids of documents that have between one and two paragraphs.\n",
      "  39. Show all template type codes and descriptions.\n",
      "  40. Count the number of templates.\n",
      "  41. Count the number of paragraphs.\n",
      "  42. Show all template type codes with less than three templates.\n",
      "  43. How many paragraphs for the document with name 'Summer Show'?\n",
      "  44. Which template type code has most number of templates?\n",
      "  45. Count the number of templates of the type CV.\n",
      "  46. Count the number of documents that use the PPT template type.\n",
      "  47. Return the different document ids along with the number of paragraphs corresponding to each, ordered by id.\n",
      "  48. What are the different template type codes, and how many documents use each type?\n",
      "  49. What are the different template type codes, and how many templates correspond to each?\n",
      "  50. How many templates do we have?\n",
      "  51. Return the template type code of the template that is used by a document named Data base.\n",
      "  52. Show all template type codes that are not used by any document.\n",
      "  53. Count the number of documents.\n",
      "  54. What are the codes of template types that have fewer than 3 templates?\n",
      "  55. What are the distinct template type descriptions for the templates ever used by any document?\n",
      "  56. What is the template type descriptions for template type code \"AD\".\n",
      "  57. What is the template type code for template type description \"Book\".\n",
      "  58. What are the paragraph texts for the document with the name 'Customer reviews'?\n",
      "  59. Show all paragraph ids and texts for the document with name 'Welcome to NY'.\n",
      "  60. How many templates have template type code CV?\n",
      "  61. What the smallest version number and its template type code?\n",
      "  62. Return the id and name of the document with the most paragraphs.\n",
      "  63. What are the ids for templates that are not used in any documents?\n",
      "  64. Return the id of the document with the fewest paragraphs.\n",
      "  65. What are the ids, version numbers, and type codes for each template?\n",
      "  66. How many documents are using the template with type code 'PPT'?\n",
      "  67. Count the number of paragraphs in the document named 'Summer Show'.\n",
      "  68. Show all paragraph texts for the document \"Customer reviews\".\n",
      "  69. What is the document name and template id for document with description with the letter 'w' in it?\n",
      "  70. What are the ids of documents that contain the paragraph text 'Brazil' and 'Ireland'?\n",
      "  71. Return the type code of the template type that the most templates belong to.\n",
      "  72. How many paragraphs in total?\n",
      "  73. Return the code of the template type that is most commonly used in documents.\n",
      "  74. Count the number of different templates used for documents.\n",
      "  75. What are the ids and texts of paragraphs in the document titled 'Welcome to NY'?\n",
      "  76. What are the type codes and descriptions for all template types?\n",
      "  77. Return the ids corresponding to templates with the description 'Presentation'.\n",
      "  78. Show all document ids, names and the number of paragraphs in each document.\n",
      "  79. What are the ids of templates with template type code PP or PPT?\n",
      "  80. Return the document id, template id, and description for the document with the name Robbin CV.\n",
      "  81. What are the template ids with template type description \"Presentation\".\n",
      "  82. What is the version number and template type code for the template with version number later than 5?\n",
      "  83. What are the codes of template types that are not used for any document?\n",
      "  84. Return the version numbers and template type codes of templates with a version number greater than 5.\n",
      "\n",
      "Database: dog_kennels (82 questions)\n",
      "  1. What are the date and the operating professional's first name of each treatment?\n",
      "  2. List each owner's first name, last name, and the size of his for her dog.\n",
      "  3. List the date of each treatment, together with the first name of the professional who operated it.\n",
      "  4. What are the first name and last name of the professionals who have done treatment with cost below average?\n",
      "  5. Tell me the age of the oldest dog.\n",
      "  6. List the arrival date and the departure date for all the dogs.\n",
      "  7. What is the average age of all the dogs?\n",
      "  8. List the email, cell phone and home phone of all the professionals.\n",
      "  9. List pairs of the owner's first name and the dogs's name.\n",
      "  10. Find the first names of owners living in Virginia and the names of dogs they own.\n",
      "  11. Give me the id, role and email of the professionals who did not perform any treatment on dogs.\n",
      "  12. What is the charge amount of the most expensive charge type?\n",
      "  13. How many owners temporarily do not have any dogs?\n",
      "  14. Compute the average age of all the dogs.\n",
      "  15. Find the number of professionals who have ever treated dogs.\n",
      "  16. List the names of the dogs of the rarest breed and the treatment dates of them.\n",
      "  17. How much does each charge type costs? List both charge type and amount.\n",
      "  18. What are each owner's first name, last name, and the size of their dog?\n",
      "  19. Find the id, last name and cell phone of the professionals who live in the state of Indiana or have performed more than two treatments.\n",
      "  20. Count the number of dogs that went through a treatment.\n",
      "  21. Show me the cost of the most recently performed treatment.\n",
      "  22. Find the states where both owners and professionals live.\n",
      "  23. Tell me the number of dogs that have not received any treatment .\n",
      "  24. Which professionals have done at least two types of treatments? List the professional id and cell phone.\n",
      "  25. List the emails of the professionals who live in the state of Hawaii or the state of Wisconsin.\n",
      "  26. What are each professional's first name and description of the treatment they have performed?\n",
      "  27. Return the first name, last name and email of the owners living in a state whose name contains the substring 'North'.\n",
      "  28. What are the arriving date and the departing date of the dogs who have gone through a treatment?\n",
      "  29. Which professionals live in a city containing the substring 'West'? List his or her role, street, city and state.\n",
      "  30. Return the owner id, first name and last name of the owner who has the most dogs.\n",
      "  31. Find the number of owners who do not own any dogs at this moment.\n",
      "  32. Which professionals live in the state of Indiana or have done treatment on more than 2 treatments? List his or her id, last name and cell phone.\n",
      "  33. Which professional did not operate any treatment on dogs? List the professional's id, role and email.\n",
      "  34. List the last name of the owner owning the youngest dog.\n",
      "  35. How many dogs have an age below the average?\n",
      "  36. How much does the most expensive charge type costs?\n",
      "  37. How many dogs have not gone through any treatment?\n",
      "  38. How many dogs went through any treatments?\n",
      "  39. List the first name of all the professionals along with the description of the treatment they have done.\n",
      "  40. Find the id and cell phone of the professionals who operate two or more types of treatments.\n",
      "  41. What are the emails of the professionals living in either the state of Hawaii or the state of Wisconsin?\n",
      "  42. Which dogs are owned by someone who lives in Virginia? List the owner's first name and the dog's name.\n",
      "  43. Tell me the owner id and last name of the owner who spent the most on treatments of his or her dogs.\n",
      "  44. What are the arriving date and the departing date of all the dogs?\n",
      "  45. Which owner has paid for the most treatments on his or her dogs? List the owner id and last name.\n",
      "  46. What is the average age of the dogs who have gone through any treatments?\n",
      "  47. How many professionals have performed any treatment to dogs?\n",
      "  48. What are the names of the dogs for which the owner has not spend more than 1000 for treatment ?\n",
      "  49. Who owns the youngest dog? Give me his or her last name.\n",
      "  50. What is the name of the breed with the most dogs?\n",
      "  51. What are the dog name, age and weight of the dogs that were abandoned? Note that 1 stands for yes, and 0 stands for no in the tables.\n",
      "  52. What are each owner's first name and their dogs's name?\n",
      "  53. How many professionals did not operate any treatment on dogs?\n",
      "  54. Find the distinct breed type and size type combinations for dogs.\n",
      "  55. Find the average age of the dogs who went through treatments.\n",
      "  56. Give me the description of the treatment type whose total cost is the lowest.\n",
      "  57. Which first names are used for professionals or owners but are not used as dog names?\n",
      "  58. Count the number of dogs of an age below the average.\n",
      "  59. What are the id, role, and first name of the professionals who have performed two or more treatments?\n",
      "  60. List the dog name, age and weight of the dogs who have been abandoned? 1 stands for yes, and 0 stands for no.\n",
      "  61. List each charge type and its amount.\n",
      "  62. Which owner has paid the largest amount of money in total for their dogs? Show the owner id and zip code.\n",
      "  63. Which breed do the most dogs have? Give me the breed name.\n",
      "  64. Which owners live in the state whose name contains the substring 'North'? List his first name, last name and email.\n",
      "  65. Which professionals have done at least two treatments? List the professional's id, role, and first name.\n",
      "  66. Which dogs are of the rarest breed? Show their names and treatment dates.\n",
      "  67. How much does the most recent treatment cost?\n",
      "  68. What are the cost and treatment type description of each treatment?\n",
      "  69. List the cost of each treatment and the corresponding treatment type description.\n",
      "  70. Find the arriving date and the departing date of the dogs that received a treatment.\n",
      "  71. What is the description of the treatment type that costs the least money in total?\n",
      "  72. Which owner owns the most dogs? List the owner id, first name and last name.\n",
      "  73. What is the age of the oldest dog?\n",
      "  74. What are the email, cell phone and home phone of each professional?\n",
      "  75. Find the owner id and zip code of the owner who spent the most money in total for his or her dogs.\n",
      "  76. Find the number of professionals who have not treated any dogs.\n",
      "  77. Which professionals have operated a treatment that costs less than the average? Give me theor first names and last names.\n",
      "  78. Find the role, street, city and state of the professionals living in a city that contains the substring 'West'.\n",
      "  79. Which dogs have not cost their owner more than 1000 for treatment ? List the dog names .\n",
      "  80. What are all the possible breed type and size type combinations?\n",
      "  81. Find the first names that are used for professionals or owners but are not used as dog names.\n",
      "  82. Which states have both owners and professionals living there?\n",
      "\n",
      "Database: employee_hire_evaluation (38 questions)\n",
      "  1. Find the names of stores whose number products is more than the average number of products.\n",
      "  2. Count the number of distinct store locations.\n",
      "  3. Give me all the information about hiring.\n",
      "  4. Which shops' number products is above the average? Give me the shop names.\n",
      "  5. What are the minimum and maximum number of products across all the shops?\n",
      "  6. List the names of employees and sort in ascending order of age.\n",
      "  7. What is the name of the shop that is hiring the largest number of employees?\n",
      "  8. For each shop, return the number of employees working there and the name of the shop.\n",
      "  9. Find the name of the employee who got the highest one time bonus.\n",
      "  10. What is the number of employees from each city?\n",
      "  11. How many shops are there in each location?\n",
      "  12. Count the number of employees for each city.\n",
      "  13. Find the manager name and district of the shop whose number of products is the largest.\n",
      "  14. What is total bonus given in all evaluations?\n",
      "  15. Which shop has the most employees? Give me the shop name.\n",
      "  16. How many employees are there?\n",
      "  17. How many different store locations are there?\n",
      "  18. Find the total amount of bonus given in all the evaluations.\n",
      "  19. Find the number of shops in each location.\n",
      "  20. What are the names of the employees who never received any evaluation?\n",
      "  21. Find the names of employees who never won any award in the evaluation.\n",
      "  22. What are the manager name and district of the shop that sells the largest number of products?\n",
      "  23. Sort all the shops by number products in descending order, and return the name, location and district of each shop.\n",
      "  24. Which shops run with no employees? Find the shop names\n",
      "  25. Which employee received the biggest bonus? Give me the employee name.\n",
      "  26. Which district has both stores with less than 3000 products and stores with more than 10000 products?\n",
      "  27. Return the name, location and district of all shops in descending order of number of products.\n",
      "  28. Find the name of the shops that do not hire any employee.\n",
      "  29. What is all the information about hiring?\n",
      "  30. Find the number of employees hired in each shop; show the shop name as well.\n",
      "  31. Find the cities that have more than one employee under age 30.\n",
      "  32. find the minimum and maximum number of products of all stores.\n",
      "  33. Which employee received the most awards in evaluations? Give me the employee name.\n",
      "  34. Find the districts in which there are both shops selling less than 3000 products and shops selling more than 10000 products.\n",
      "  35. Sort employee names by their age in ascending order.\n",
      "  36. find the name of employee who was awarded the most times in the evaluation.\n",
      "  37. Count the number of employees\n",
      "  38. Which cities do more than one employee under age 30 come from?\n",
      "\n",
      "Database: flight_2 (80 questions)\n",
      "  1. What are flight numbers of flights departing from Airport \"APG\"?\n",
      "  2. Which city and country is the Alton airport at?\n",
      "  3. Give the flight numbers of flights leaving from APG.\n",
      "  4. What is the code of airport that has the highest number of flights?\n",
      "  5. What are the airline names and abbreviations for airlines in the USA?\n",
      "  6. Which country does Airline \"JetBlue Airways\" belong to?\n",
      "  7. Give the airline with abbreviation 'UAL'.\n",
      "  8. Return the number of flights departing from Aberdeen.\n",
      "  9. Return the number of flights.\n",
      "  10. Find the name of airports which do not have any flight in and out.\n",
      "  11. How many airlines do we have?\n",
      "  12. What are airport names at City 'Aberdeen'?\n",
      "  13. How many 'United Airlines' flights depart from Airport 'AHD'?\n",
      "  14. Which airlines have departing flights from both APG and CVO airports?\n",
      "  15. Find all airlines that have flights from both airports 'APG' and 'CVO'.\n",
      "  16. Find the abbreviation and country of the airline that has fewest number of flights?\n",
      "  17. What are flight numbers of flights departing from City \"Aberdeen \"?\n",
      "  18. Return the number of flights arriving in Aberdeen.\n",
      "  19. How many United Airlines flights go to City 'Aberdeen'?\n",
      "  20. What are the names of airports in Aberdeen?\n",
      "  21. Count the number of flights departing from 'APG'.\n",
      "  22. What is the total number of airlines?\n",
      "  23. What are flight numbers of flights arriving at Airport \"APG\"?\n",
      "  24. Which city has most number of departing flights?\n",
      "  25. How many flights does airline 'JetBlue Airways' have?\n",
      "  26. How many airlines are from USA?\n",
      "  27. Give the airport code and airport name corresonding to the city Anthony.\n",
      "  28. What is the abbreviation of the airilne has the fewest flights and what country is it in?\n",
      "  29. Give the flight numbers of flights arriving in Aberdeen.\n",
      "  30. Which abbreviation corresponds to Jetblue Airways?\n",
      "  31. Give the flight numbers of flights landing at APG.\n",
      "  32. What is the code of airport that has fewest number of flights?\n",
      "  33. Which airlines have at least 10 flights?\n",
      "  34. Find the number of flights landing in the city of Aberdeen or Abilene.\n",
      "  35. How many flights do we have?\n",
      "  36. Which airline has abbreviation 'UAL'?\n",
      "  37. Count the number of United Airlines flights arriving in ASY Airport.\n",
      "  38. What is the airport code of the airport with the most flights?\n",
      "  39. Give the number of Jetblue Airways flights.\n",
      "  40. Return the number of United Airlines flights leaving from AHD Airport.\n",
      "  41. What are flight numbers of Airline \"United Airlines\"?\n",
      "  42. What are airlines that have some flight departing from airport 'AHD'?\n",
      "  43. How many flights land in Aberdeen or Abilene?\n",
      "  44. Which city has the most frequent destination airport?\n",
      "  45. Which airlines have a flight with source airport AHD?\n",
      "  46. List all airline names and their abbreviations in \"USA\".\n",
      "  47. How many 'United Airlines' flights go to Airport 'ASY'?\n",
      "  48. How many flights depart from City Aberdeen?\n",
      "  49. How many flights depart from City 'Aberdeen' and have destination City 'Ashley'?\n",
      "  50. Count the number of United Airlines flights that arrive in Aberdeen.\n",
      "  51. Which airlines have departures from CVO but not from APG airports?\n",
      "  52. What airline serves the most flights?\n",
      "  53. Count the number of flights into ATO.\n",
      "  54. How many flights fly from Aberdeen to Ashley?\n",
      "  55. Which city has most number of arriving flights?\n",
      "  56. Return the number of airlines in the USA.\n",
      "  57. Find all airlines that have flights from airport 'CVO' but not from 'APG'.\n",
      "  58. Which airline has most number of flights?\n",
      "  59. How many flights arriving in Aberdeen city?\n",
      "  60. What is the abbreviation of Airline \"JetBlue Airways\"?\n",
      "  61. Which airports do not have departing or arriving flights?\n",
      "  62. Return the name of the airport with code 'AKO'.\n",
      "  63. Give the code of the airport with the least flights.\n",
      "  64. What country is Jetblue Airways affiliated with?\n",
      "  65. List the airport code and name in the city of Anthony.\n",
      "  66. What is the airport name for airport 'AKO'?\n",
      "  67. What are airlines that have flights arriving at airport 'AHD'?\n",
      "  68. Find all airlines that have at least 10 flights.\n",
      "  69. What are flight numbers of flights arriving at City \"Aberdeen\"?\n",
      "  70. How many flights have destination ATO?\n",
      "  71. Which airlines have less than 200 flights?\n",
      "  72. How many airports do we have?\n",
      "  73. Give the city and country for the Alton airport.\n",
      "  74. Find all airlines that have fewer than 200 flights.\n",
      "  75. Return the number of  airports.\n",
      "  76. How many flights depart from 'APG'?\n",
      "  77. Which flight numbers correspond to United Airlines flights?\n",
      "  78. Which city is the most frequent source airport?\n",
      "  79. Which airlines have a flight with destination airport AHD?\n",
      "  80. Give the flight numbers of flights leaving from Aberdeen.\n",
      "\n",
      "Database: museum_visit (18 questions)\n",
      "  1. Find the id and name of the museum that has the most staff members?\n",
      "  2. find the names of museums which have more staff than the minimum staff number of all museums opened after 2010.\n",
      "  3. find the id, name and age for visitors who visited some museums more than once.\n",
      "  4. How many museums were opened after 2013 or before 2008?\n",
      "  5. What is the name of the visitor who visited both a museum opened before 2009 and a museum opened after 2011?\n",
      "  6. Find the names of the visitors whose membership level is higher than 4, and order the results by the level from high to low.\n",
      "  7. Find the name and membership level of the visitors whose membership level is higher than 4, and sort by their age from old to young.\n",
      "  8. Find the average number of staff working for the museums that were open before 2009.\n",
      "  9. Find the number of visitors who did not visit any museum opened after 2010.\n",
      "  10. Find the name and age of the visitor who bought the most tickets at once.\n",
      "  11. What are the opening year and staff number of the museum named Plaza Museum?\n",
      "  12. What is the average age of the visitors whose membership level is not higher than 4?\n",
      "  13. What is the name of the museum that had no visitor yet?\n",
      "  14. What are the id, name and membership level of visitors who have spent the largest amount of money in total in all museum tickets?\n",
      "  15. How many visitors below age 30 are there?\n",
      "  16. What are the id and name of the museum visited most times?\n",
      "  17. What are the average and maximum number of tickets bought in all visits?\n",
      "  18. What is the total ticket expense of the visitors whose membership level is 1?\n",
      "\n",
      "Database: network_1 (56 questions)\n",
      "  1. Count the number of high schoolers.\n",
      "  2. Show the names of students who have a grade higher than 5 and have at least 2 friends.\n",
      "  3. Count the number of friends Kyle has.\n",
      "  4. How many high schoolers are there?\n",
      "  5. What is the average grade of students who have friends?\n",
      "  6. Show the student IDs and numbers of friends corresponding to each.\n",
      "  7. Show the names of high school students and their corresponding number of friends.\n",
      "  8. Show all the grades of the high schoolers.\n",
      "  9. What are the names of high schoolers who have a grade of over 5 and have 2 or more friends?\n",
      "  10. Count the number of likes for each student id.\n",
      "  11. Which grade has the most high schoolers?\n",
      "  12. Show ids of all students who do not have any friends.\n",
      "  13. How many friends does each student have?\n",
      "  14. What are the names of the high schoolers and how many friends does each have?\n",
      "  15. Give the name of the student with the most likes.\n",
      "  16. Find the minimum grade of students who have no friends.\n",
      "  17. Which grades have 4 or more high schoolers?\n",
      "  18. Show the number of high schoolers for each grade.\n",
      "  19. What are the names of high schoolers who have 3 or more friends?\n",
      "  20. Return the grade for the high schooler named Kyle.\n",
      "  21. Show the names of all high schoolers in grade 10.\n",
      "  22. What are the ids of high school students who do not have friends?\n",
      "  23. Show the ids of high schoolers who have friends and are also liked by someone else.\n",
      "  24. How many high schoolers are there in grade 9 or 10?\n",
      "  25. What is Kyle's id?\n",
      "  26. How many friends does the high school student Kyle have?\n",
      "  27. What are the names of all high schoolers in grade 10?\n",
      "  28. What is the lowest grade of students who do not have any friends?\n",
      "  29. What are the names of students who have 2 or more likes?\n",
      "  30. What are the names of students who have no friends?\n",
      "  31. Show name of all students who have some friends and also are liked by someone else.\n",
      "  32. What are the names of high schoolers who have likes, and how many likes does each have?\n",
      "  33. What are the ids of students who both have friends and are liked?\n",
      "  34. Show the names of high schoolers who have likes, and numbers of likes for each.\n",
      "  35. What grade is Kyle in?\n",
      "  36. Show the names of high schoolers who have at least 3 friends.\n",
      "  37. How many likes does Kyle have?\n",
      "  38. Show me all grades that have at least 4 students.\n",
      "  39. How many likes correspond to each student id?\n",
      "  40. Show the names and grades of each high schooler.\n",
      "  41. Show the names of students who have at least 2 likes.\n",
      "  42. Return the number of likes that the high schooler named Kyle has.\n",
      "  43. Return the names of friends of the high school student Kyle.\n",
      "  44. What are the names of high schoolers who both have friends and are liked?\n",
      "  45. What is the name of the high schooler who has the greatest number of likes?\n",
      "  46. Show names of all high school students who do not have any friends.\n",
      "  47. What are the names and grades for each high schooler?\n",
      "  48. Show the names of all of the high schooler Kyle's friends.\n",
      "  49. How many high schoolers are in each grade?\n",
      "  50. Return the name of the high school student with the most friends.\n",
      "  51. Show the ID of the high schooler named Kyle.\n",
      "  52. Count the number of high schoolers in grades 9 or 10.\n",
      "  53. Return the grade that has the greatest number of high schoolers.\n",
      "  54. Find the average grade of all students who have some friends.\n",
      "  55. What is the grade of each high schooler?\n",
      "  56. What is the name of the high schooler who has the greatest number of friends?\n",
      "\n",
      "Database: orchestra (40 questions)\n",
      "  1. How many orchestras does each record company manage?\n",
      "  2. Show the names of conductors and the orchestras they have conducted.\n",
      "  3. What are years of founding for orchestras that have had more than a single performance?\n",
      "  4. List the names of conductors in ascending order of age.\n",
      "  5. Find the number of orchestras whose record format is \"CD\" or \"DVD\".\n",
      "  6. What are the names of conductors who have conducted orchestras founded after the year 2008?\n",
      "  7. What is the name of the conductor who has worked the greatest number of years?\n",
      "  8. List the record company shared by the most number of orchestras.\n",
      "  9. How many conductors are there?\n",
      "  10. What is the name of the conductor who has conducted the most orchestras?\n",
      "  11. List names of conductors in descending order of years of work.\n",
      "  12. Show the name of the conductor that has conducted the most number of orchestras.\n",
      "  13. Show the names of conductors that have conducted more than one orchestras.\n",
      "  14. What is the record company used by the greatest number of orchestras?\n",
      "  15. What is the average attendance of shows?\n",
      "  16. Please show the name of the conductor that has conducted orchestras founded after 2008.\n",
      "  17. What are the names of conductors who have conducted at more than one orchestra?\n",
      "  18. Return the names of conductors that do not have the nationality \"USA\".\n",
      "  19. Show the years in which orchestras that have given more than one performance are founded.\n",
      "  20. Count the number of conductors.\n",
      "  21. Count the number of orchestras that have CD or DVD as their record format.\n",
      "  22. What are the names of conductors, ordered by age?\n",
      "  23. What are the names of conductors whose nationalities are not \"USA\"?\n",
      "  24. Return the average attendance across all shows.\n",
      "  25. List the names of orchestras that have no performance.\n",
      "  26. What are the orchestras that do not have any performances?\n",
      "  27. Please show the record formats of orchestras in ascending order of count.\n",
      "  28. What are the maximum and minimum share of performances whose type is not \"Live final\".\n",
      "  29. List the name of the conductor with the most years of work.\n",
      "  30. Return the record companies of orchestras, sorted descending by the years in which they were founded.\n",
      "  31. Return the maximum and minimum shares for performances that do not have the type \"Live final\".\n",
      "  32. What are the names of conductors as well as the corresonding orchestras that they have conducted?\n",
      "  33. Count the number of different nationalities of conductors.\n",
      "  34. Show the record companies shared by orchestras founded before 2003 and after 2003.\n",
      "  35. Please show the different record companies and the corresponding number of orchestras.\n",
      "  36. What are the major record formats of orchestras, sorted by their frequency?\n",
      "  37. How many different nationalities do conductors have?\n",
      "  38. What are the names of conductors, sorted descending by the number of years they have worked?\n",
      "  39. What are the record companies of orchestras in descending order of years in which they were founded?\n",
      "  40. What are the record companies that are used by both orchestras founded before 2003 and those founded after 2003?\n",
      "\n",
      "Database: pets_1 (42 questions)\n",
      "  1. Find the first name and age of students who have a dog but do not have a cat as a pet.\n",
      "  2. What is the last name of the student who has a cat that is 3 years old?\n",
      "  3. Find the first name and age of students who have a pet.\n",
      "  4. What is the average and maximum age for each pet type?\n",
      "  5. Find the number of pets whose weight is heavier than 10.\n",
      "  6. Find the first name and gender of student who have more than one pet.\n",
      "  7. Find the type and weight of the youngest pet.\n",
      "  8. Find the average age of students who do not have any pet .\n",
      "  9. Find the id of students who do not have a cat pet.\n",
      "  10. What are the ids of the students who do not own cats as pets?\n",
      "  11. Find the average and maximum age for each type of pet.\n",
      "  12. How many dog pets are raised by female students?\n",
      "  13. For students who have pets , how many pets does each student have ? list their ids instead of names .\n",
      "  14. What is the average age for all students who do not own any pets ?\n",
      "  15. What is the id and weight of every pet who is older than 1?\n",
      "  16. Find the first name of students who have cat or dog pet.\n",
      "  17. Find the major and age of students who do not have a cat pet.\n",
      "  18. What major is every student who does not own a cat as a pet, and also how old are they?\n",
      "  19. What is the id of the pet owned by the student whose last name is 'Smith'?\n",
      "  20. Find the average weight for each pet type.\n",
      "  21. What are the first names of every student who has a cat or dog as a pet?\n",
      "  22. Find the number of pets for each student who has any pet and student id.\n",
      "  23. Find the weight of the youngest dog.\n",
      "  24. Find the first name of students who have both cat and dog pets .\n",
      "  25. How many different types of pet are there?\n",
      "  26. Find the id and weight of all pets whose age is older than 1.\n",
      "  27. What are the different first names and ages of the students who do have pets?\n",
      "  28. What is the first name of every student who has a dog but does not have a cat?\n",
      "  29. Find the number of distinct type of pets.\n",
      "  30. Find number of pets owned by students who are older than 20.\n",
      "  31. What are the students' first names who have both cats and dogs as pets?\n",
      "  32. Find the id of the pet owned by student whose last name is ‘Smith’.\n",
      "  33. How many pets have a greater weight than 10?\n",
      "  34. List the maximum weight and type for each type of pet.\n",
      "  35. How much does the youngest dog weigh?\n",
      "  36. What type of pet is the youngest animal, and how much does it weigh?\n",
      "  37. Find the maximum weight for each type of pet. List the maximum weight and pet type.\n",
      "  38. How many pets are owned by students that have an age greater than 20?\n",
      "  39. Find the number of dog pets that are raised by female students (with sex F).\n",
      "  40. Find the last name of the student who has a cat that is age 3.\n",
      "  41. What is the first name and gender of the all the students who have more than one pet?\n",
      "  42. What is the average weight for each type of pet?\n",
      "\n",
      "Database: poker_player (40 questions)\n",
      "  1. Return the maximum final tables made across all poker players who have earnings below 200000.\n",
      "  2. What is the most common nationality of people?\n",
      "  3. What are the names of poker players in descending order of earnings?\n",
      "  4. What is the average earnings of poker players?\n",
      "  5. What is the money rank of the tallest poker player?\n",
      "  6. How many poker players are there?\n",
      "  7. Give the nationality that is most common across all people.\n",
      "  8. List the names and birth dates of people in ascending alphabetical order of name.\n",
      "  9. Return the money rank of the player with the greatest earnings.\n",
      "  10. Count the number of different nationalities.\n",
      "  11. What are the names of poker players, ordered ascending by the number of final tables they have made?\n",
      "  12. What are different nationalities of people and the corresponding number of people from each nation?\n",
      "  13. What are the names and birth dates of people, ordered by their names in alphabetical order?\n",
      "  14. List the names of poker players ordered by the final tables made in ascending order.\n",
      "  15. Return the average earnings across all poker players.\n",
      "  16. What is the birth date of the poker player with the lowest earnings?\n",
      "  17. List the final tables made and the best finishes of poker players.\n",
      "  18. What are the names of poker players?\n",
      "  19. Give average earnings of poker players who are taller than 200.\n",
      "  20. Count the number of poker players.\n",
      "  21. What are the names of poker players whose earnings is higher than 300000?\n",
      "  22. How many distinct nationalities are there?\n",
      "  23. Give the names of poker players who have earnings above 300000.\n",
      "  24. Return the names of all the poker players.\n",
      "  25. How many people are there of each nationality?\n",
      "  26. What is the money rank of the poker player with the highest earnings?\n",
      "  27. What are the final tables made and best finishes for all poker players?\n",
      "  28. What is the maximum number of final tables made among poker players with earnings less than 200000?\n",
      "  29. What are the earnings of poker players, ordered descending by value?\n",
      "  30. What are the names of people who do not play poker?\n",
      "  31. Return the names of poker players sorted by their earnings descending.\n",
      "  32. What is the average earnings of poker players with height higher than 200?\n",
      "  33. What are the names of people who are not from Russia?\n",
      "  34. List the names of people that are not poker players.\n",
      "  35. Show names of people whose nationality is not \"Russia\".\n",
      "  36. Return the birth date of the poker player with the lowest earnings.\n",
      "  37. Return the nationalities for which there are two or more people.\n",
      "  38. List the earnings of poker players in descending order.\n",
      "  39. What are the nationalities that are shared by at least two people?\n",
      "  40. Return the money rank of the poker player with the greatest height.\n",
      "\n",
      "Database: real_estate_properties (4 questions)\n",
      "  1. Show the property type descriptions of properties belonging to that code.\n",
      "  2. How many available features are there in total?\n",
      "  3. What is the feature type name of feature AirCon?\n",
      "  4. What are the names of properties that are either houses or apartments with more than 1 room?\n",
      "\n",
      "Database: singer (30 questions)\n",
      "  1. Show the names of singers and the total sales of their songs.\n",
      "  2. What are the birth years and citizenships of the singers?\n",
      "  3. What is the sname of every sing that does not have any song?\n",
      "  4. Please show the most common citizenship of singers.\n",
      "  5. What are the citizenships that are shared by singers with a birth year before 1945 and after 1955?\n",
      "  6. Show the names of singers that have more than one song.\n",
      "  7. What is the most common singer citizenship ?\n",
      "  8. Show the citizenship shared by singers with birth year before 1945 and after 1955.\n",
      "  9. what are the different names of the singers that have sales more than 300000?\n",
      "  10. Show different citizenship of singers and the number of singers of each citizenship.\n",
      "  11. List the name of singers whose citizenship is not \"France\".\n",
      "  12. What is the count of singers?\n",
      "  13. What are the names of the singers whose birth years are either 1948 or 1949?\n",
      "  14. For each singer name, what is the total sales for their songs?\n",
      "  15. For each citizenship, how many singers are from that country?\n",
      "  16. List the name of singers in ascending order of net worth.\n",
      "  17. List the name of singers that do not have any song.\n",
      "  18. Show distinct names of singers that have songs with sales more than 300000.\n",
      "  19. What are the song titles and singer names?\n",
      "  20. What are the names of the singers that have more than one songs?\n",
      "  21. Show different citizenships and the maximum net worth of singers of each citizenship.\n",
      "  22. What is the name of the singer with the largest net worth?\n",
      "  23. What are the names of the singers who are not French citizens?\n",
      "  24. For each citizenship, what is the maximum net worth?\n",
      "  25. Show the name of singers whose birth year is either 1948 or 1949?\n",
      "  26. How many singers are there?\n",
      "  27. What is the name of the singer who is worth the most?\n",
      "  28. What are the names of singers ordered by ascending net worth?\n",
      "  29. Show titles of songs and names of singers.\n",
      "  30. What are the birth year and citizenship of singers?\n",
      "\n",
      "Database: student_transcripts_tracking (78 questions)\n",
      "  1. Who is the first student to register? List the first name, middle name and last name.\n",
      "  2. What is the program id and the summary of the degree that has the most students enrolled?\n",
      "  3. Which address holds the most number of students currently? List the address id and all lines.\n",
      "  4. What is the zip code of the address in the city Port Chelsea?\n",
      "  5. What is the semester which most student registered in? Show both the name and the id.\n",
      "  6. what are all the addresses including line 1 and line 2?\n",
      "  7. What are the names of all courses that have some students enrolled?\n",
      "  8. How many courses in total are listed?\n",
      "  9. On average, when were the transcripts printed?\n",
      "  10. Which student has enrolled for the most times in any program? List the id, first name, middle name, last name, the number of enrollments and student id.\n",
      "  11. Describe the section h.\n",
      "  12. What are the names and ids of every course with less than 2 sections?\n",
      "  13. Which semesters do not have any student enrolled? List the semester name.\n",
      "  14. What are the names and id of courses having at most 2 sections?\n",
      "  15. What is the maximum number of times that a course shows up in different transcripts and what is that course's enrollment id?\n",
      "  16. What is the date and id of the transcript with at least 2 courses listed?\n",
      "  17. How is the math course described?\n",
      "  18. For each semester, what is the name and id of the one with the most students registered?\n",
      "  19. What is the name and id of the department with the most number of degrees ?\n",
      "  20. List the section_name in reversed lexicographical order.\n",
      "  21. What is the first, middle, and last name of the first student to register?\n",
      "  22. What are the descriptions for all the math courses?\n",
      "  23. What is the description of the department whose name has the substring the computer?\n",
      "  24. Find the kind of program which most number of students are enrolled in?\n",
      "  25. What are the first, middle, and last names for everybody enrolled in a Bachelors program?\n",
      "  26. What is the phone number of the man with the first name Timmothy and the last name Ward?\n",
      "  27. Find the program which most number of students are enrolled in. List both the id and the summary.\n",
      "  28. What's the name of the course with most number of enrollments?\n",
      "  29. What are the names of the sections in reverse alphabetical order?\n",
      "  30. How many transcripts are released?\n",
      "  31. How many degrees does the engineering department offer?\n",
      "  32. How many courses are there?\n",
      "  33. What is the first, middle, and last name of the earliest school graduate?\n",
      "  34. How many different departments offer degrees?\n",
      "  35. What is the earliest date of a transcript release, and what details can you tell me?\n",
      "  36. What is the department description for the one whose name has the word computer?\n",
      "  37. How many departments offer any degree?\n",
      "  38. What is the name of the semester with no students enrolled?\n",
      "  39. What are the names and descriptions for all the sections?\n",
      "  40. When is the first transcript released? List the date and details.\n",
      "  41. What is the first name of the student whose permanent address is different from his or her current one?\n",
      "  42. What are the first names of the students who live in Haiti permanently or have the cell phone number 09700166582 ?\n",
      "  43. What are the names and descriptions of all the sections?\n",
      "  44. What is the last transcript release date?\n",
      "  45. What is the description for the section named h?\n",
      "  46. What is the first and second line for all addresses?\n",
      "  47. What is the id, line 1, and line 2 of the address with the most students?\n",
      "  48. What is the date and id of the transcript with the least number of results?\n",
      "  49. What is the zip code for Port Chelsea?\n",
      "  50. How many different degrees are offered?\n",
      "  51. What are all the course names of the courses which ever have students enrolled in?\n",
      "  52. Who are enrolled in 2 degree programs in one semester? List the first name, middle name and last name and the id.\n",
      "  53. Find the first name of the students who permanently live in the country Haiti or have the cell phone number 09700166582 .\n",
      "  54. What other details can you tell me about students in reverse alphabetical order?\n",
      "  55. How many times at most can a course enrollment result show in different transcripts? Also show the course enrollment id.\n",
      "  56. What is the name of the course with the most students enrolled?\n",
      "  57. What is the mobile phone number of the student named Timmothy Ward ?\n",
      "  58. Find the semester when both Master students and Bachelor students got enrolled in.\n",
      "  59. How many different addresses do the students currently live?\n",
      "  60. Which department offers the most number of degrees? List department name and id.\n",
      "  61. What is the id of the semester that had both Masters and Bachelors students enrolled?\n",
      "  62. Show the date of the transcript which shows the least number of results, also list the id.\n",
      "  63. How many degrees does the engineering department have?\n",
      "  64. How many transcripts are listed?\n",
      "  65. What is the first, middle, and last name, along with the id and number of enrollments, for the student who enrolled the most in any program?\n",
      "  66. Find the last name of the students who currently live in the state of North Carolina but have not registered in any degree program.\n",
      "  67. How many different degree names are offered?\n",
      "  68. Show the date and id of the transcript with at least 2 course results.\n",
      "  69. What are the first, middle, and last names, along with the ids, of all students who enrolled in 2 degree programs in one semester?\n",
      "  70. What are the different addresses that have students living there?\n",
      "  71. What is the degree summary name that has the most number of students enrolled?\n",
      "  72. Whose permanent address is different from his or her current address? List his or her first name.\n",
      "  73. When was the last transcript released?\n",
      "  74. Who is enrolled in a Bachelor degree program? List the first name, middle name, last name.\n",
      "  75. Who is the earliest graduate of the school? List the first name, middle name and last name.\n",
      "  76. What is the average transcript date?\n",
      "  77. What are the last name of the students who live in North Carolina but have not registered in any degree programs?\n",
      "  78. List all the student details in reversed lexicographical order.\n",
      "\n",
      "Database: tvshow (62 questions)\n",
      "  1. find the pixel aspect ratio and nation of the tv channels that do not use English.\n",
      "  2. What is the number of cartoones written by Joseph Kuhr?\n",
      "  3. What is the name of the series that has the episode \"A Love of a Lifetime\"?\n",
      "  4. Which country has the most of TV Channels? List the country and number of TV Channels it has.\n",
      "  5. How many cartoons were written by \"Joseph Kuhr\"?\n",
      "  6. List the title of all  Cartoons showed on TV Channel with series name \"Sky Radio\".\n",
      "  7. List the title of all cartoon directed by \"Ben Jones\" or \"Brandon Vietti\".\n",
      "  8. List each language and the number of TV Channels using it.\n",
      "  9. List the Episode of all  TV series showed on TV Channel with series name \"Sky Radio\".\n",
      "  10. List top 3 highest Rating  TV series. List the TV series's Episode and Rating.\n",
      "  11. What is the TV Channel of TV series with Episode \"A Love of a Lifetime\"? List the TV Channel's series name.\n",
      "  12. Find the production code and channel of the most recently aired cartoon .\n",
      "  13. List the number of different series names and contents in the TV Channel table.\n",
      "  14. What are the names of all cartoons directed by Ben Jones?\n",
      "  15. What are the titles of the cartoons sorted alphabetically?\n",
      "  16. What is Weekly Rank of TV series with Episode \"A Love of a Lifetime\"?\n",
      "  17. How many TV Channel using language English?\n",
      "  18. What are the Package Options of the TV Channels whose series names are Sky Radio?\n",
      "  19. which countries' tv channels are not playing any cartoon written by Todd Casey?\n",
      "  20. How many cartoons did each director create?\n",
      "  21. Find the package choice and series name of the TV channel that has high definition TV.\n",
      "  22. which countries' tv channels are playing some cartoon written by Todd Casey?\n",
      "  23. When did the episode \"A Love of a Lifetime\" air?\n",
      "  24. List the Episode of all TV series sorted by rating.\n",
      "  25. What is the series name of the TV Channel that shows the cartoon \"The Rise of the Blue Beetle\"?\n",
      "  26. What are 3 most highly rated episodes in the TV series table and what were those ratings?\n",
      "  27. What is the TV Channel that shows the cartoon \"The Rise of the Blue Beetle!\"? List the TV Channel's series name.\n",
      "  28. What is the air date of TV series with Episode \"A Love of a Lifetime\"?\n",
      "  29. find the id of tv channels that do not play any cartoon directed by Ben Jones.\n",
      "  30. What are the countries that are not playing cartoons written by Todd Casey?\n",
      "  31. How many different series and contents are listed in the TV Channel table?\n",
      "  32. What is the name and directors of all the cartoons that are ordered by air date?\n",
      "  33. find id of the tv channels that from the countries where have more than two tv channels.\n",
      "  34. What is the content of TV Channel with serial name \"Sky Radio\"?\n",
      "  35. What is the episode for the TV series named \"Sky Radio\"?\n",
      "  36. What is minimum and maximum share of TV series?\n",
      "  37. find the package option of the tv channel that do not have any cartoon directed by Ben Jones.\n",
      "  38. What is the pixel aspect ratio and country of origin for all TV channels that do not use English?\n",
      "  39. Find the number of cartoons directed by each of the listed directors.\n",
      "  40. What is the series name and country of all TV channels that are playing cartoons directed by Ben Jones and cartoons directed by Michael Chang?\n",
      "  41. What are the ids of all tv channels that have more than 2 TV channels?\n",
      "  42. How many TV Channels use the English language?\n",
      "  43. What are the package options of all tv channels that are not playing any cartoons directed by Ben Jones?\n",
      "  44. What is the title of all the cartools that are on the TV Channel with the series name \"Sky Radio\"?\n",
      "  45. What is the produdction code and channel of the most recent cartoon ?\n",
      "  46. Find the series name and country of the tv channel that is playing some cartoons directed by Ben Jones and Michael Chang?\n",
      "  47. What is the weekly rank for the episode \"A Love of a Lifetime\"?\n",
      "  48. For each language, list the number of TV Channels that use it.\n",
      "  49. What is the country with the most number of TV Channels and how many does it have?\n",
      "  50. list all cartoon titles and their directors ordered by their air date\n",
      "  51. What is the maximum and minimum share for the TV series?\n",
      "  52. What are the ids of the TV channels that do not have any cartoons directed by Ben Jones?\n",
      "  53. What is the Package Option of TV Channel with serial name \"Sky Radio\"?\n",
      "  54. What are the countries that have cartoons on TV that were written by Todd Casey?\n",
      "  55. List the language used least number of TV Channel. List language and number of TV Channel.\n",
      "  56. List all cartoon directed by \"Ben Jones\".\n",
      "  57. What is the content of the series Sky Radio?\n",
      "  58. What are the package options and the name of the series for the TV Channel that supports high definition TV?\n",
      "  59. What are the languages used by the least number of TV Channels and how many channels use it?\n",
      "  60. What are all of the episodes ordered by ratings?\n",
      "  61. List the title of all cartoons in alphabetical order.\n",
      "  62. What are the titles of all cartoons directed by Ben Jones or Brandon Vietti?\n",
      "\n",
      "Database: voter_1 (15 questions)\n",
      "  1. List the vote ids, phone numbers and states of all votes.\n",
      "  2. List the area codes in which voters voted both for the contestant 'Tabatha Gehling' and the contestant 'Kelly Clauss'.\n",
      "  3. What are the contestant numbers and names of the contestants who had at least two votes?\n",
      "  4. Of all the contestants who got voted, what is the contestant number and name of the contestant who got least votes?\n",
      "  5. What are the distinct states and create time of all votes?\n",
      "  6. Return the names of the contestants whose names contain the substring 'Al' .\n",
      "  7. List the contestant numbers and names, ordered by contestant name descending.\n",
      "  8. How many states are there?\n",
      "  9. What are the create dates, states, and phone numbers of the votes that were for the contestant named 'Tabatha Gehling'?\n",
      "  10. What are the maximum and minimum values of area codes?\n",
      "  11. How many contestants did not get voted?\n",
      "  12. What are the number of votes from state 'NY' or 'CA'?\n",
      "  13. What is last date created of votes from the state 'CA'?\n",
      "  14. What are the names of the contestants whose names are not 'Jessie Alloway'\n",
      "  15. What is the area code in which the most voters voted?\n",
      "\n",
      "Database: world_1 (120 questions)\n",
      "  1. Find the average life expectancy and total population for each continent where the average life expectancy is shorter than 72?\n",
      "  2. What is the number of nations that use English and Dutch?\n",
      "  3. What are the codes of countries where Spanish is spoken by the largest percentage of people?\n",
      "  4. What is average life expectancy in the countries where English is not the official language?\n",
      "  5. Return the names of cities that have a population between 160000 and 900000 .\n",
      "  6. What are the regions that use English or Dutch?\n",
      "  7. Return the names of the 3 countries with the fewest people.\n",
      "  8. What are the name, population, and life expectancy of the largest Asian country by land?\n",
      "  9. What are the country codes for countries that do not speak English?\n",
      "  10. What are the names of countries that speak more than 2 languages, as well as how many languages they speak?\n",
      "  11. Return the different names of cities that are in Asia and for which Chinese is the official language.\n",
      "  12. What is the total surface area of the continents Asia and Europe?\n",
      "  13. What is the average life expectancy in African countries that are republics?\n",
      "  14. What is the name of country that has the shortest life expectancy in Asia?\n",
      "  15. What are the names and areas of countries with the top 5 largest area?\n",
      "  16. Which regions speak Dutch or English?\n",
      "  17. What is the number of distinct continents where Chinese is spoken?\n",
      "  18. Which continent speaks the most languages?\n",
      "  19. What is the continent name which Anguilla belongs to?\n",
      "  20. What are names of countries with the top 3 largest population?\n",
      "  21. Give the names of nations that speak both English and French.\n",
      "  22. Count the number of countries in Asia.\n",
      "  23. What are the African countries that have a  population less than any country in Asia?\n",
      "  24. Count the number of countries for which Spanish is the predominantly spoken language.\n",
      "  25. What is the language spoken by the largest percentage of people in each country?\n",
      "  26. What are the population and life expectancies in Brazil?\n",
      "  27. Which continent has the most diverse languages?\n",
      "  28. How many unique languages are spoken in the world?\n",
      "  29. What are the country codes of countries where people use languages other than English?\n",
      "  30. How much surface area do the countires in the Carribean cover together?\n",
      "  31. For the countries founded before 1930, what is the total number of distinct official languages?\n",
      "  32. What is the total number of languages used in Aruba?\n",
      "  33. How many people live in countries that do not speak English?\n",
      "  34. How many official languages are spoken in Afghanistan?\n",
      "  35. How many continents speak Chinese?\n",
      "  36. What is the official language spoken in the country whose head of state is Beatrix?\n",
      "  37. Give the name, population, and head of state for the country that has the largest area.\n",
      "  38. What is the total population of Gelderland district?\n",
      "  39. What are the names of nations speak both English and French?\n",
      "  40. Which languages are spoken by only one country in republic governments?\n",
      "  41. Give the language that is spoken in the most countries.\n",
      "  42. Which cities are in European countries where English is not the official language?\n",
      "  43. What are the different government forms and what is the total population of each for government forms that have an average life expectancy greater than 72?\n",
      "  44. What are the countries that have greater surface area than any country in Europe?\n",
      "  45. Give the mean life expectancy of countries in which English is not the official language.\n",
      "  46. What are the codes of the countries that do not speak English and whose government forms are not Republic?\n",
      "  47. What language is predominantly spoken in Aruba?\n",
      "  48. What is name of the country that speaks the largest number of languages?\n",
      "  49. How many countries speak both English and Dutch?\n",
      "  50. How many languages are spoken in Aruba?\n",
      "  51. What are the name, independence year, and surface area of the country with the smallest population?\n",
      "  52. Give the names of countries with English and French as official languages.\n",
      "  53. Find the city with the largest population that uses English.\n",
      "  54. What is the total population and average area of countries in the continent of North America whose area is bigger than 3000 ?\n",
      "  55. Give the total surface area covered by countries in Asia or Europe.\n",
      "  56. Give the name, year of independence, and surface area of the country that has the lowest population.\n",
      "  57. Which countries have greater area than that of any country in Europe?\n",
      "  58. What is the average expected life expectancy for countries in the region of Central Africa?\n",
      "  59. Give the names of countries that are in Europe and have a population equal to 80000.\n",
      "  60. What are the cities whose population is between 160000 and 900000?\n",
      "  61. Which language is spoken by the largest number of countries?\n",
      "  62. How many different forms of governments are there in Africa?\n",
      "  63. What are the names of all the countries that became independent after 1950?\n",
      "  64. Which unique cities are in Asian countries where Chinese is the official language ?\n",
      "  65. How many people live in Gelderland district?\n",
      "  66. What is the total surface area of the countries in the Caribbean region?\n",
      "  67. Return the names of the 3 most populated countries.\n",
      "  68. What is the language that is used by the largest number of Asian nations?\n",
      "  69. Return the country codes for countries that do not speak English.\n",
      "  70. Find the number of cities in each district whose population is greater than the average population of cities?\n",
      "  71. Which region is the city Kabul located in?\n",
      "  72. What are the names of nations where both English and French are official languages?\n",
      "  73. Return the names and surface areas of the 5 largest countries.\n",
      "  74. How many cities in each district have a population that is above the average population across all cities?\n",
      "  75. What is the total population and maximum GNP in Asia?\n",
      "  76. What is the official language used in the country the name of whose head of state is Beatrix.\n",
      "  77. How many people live in Asia, and what is the largest GNP among them?\n",
      "  78. How many countries have a republic as their form of government?\n",
      "  79. What is the number of distinct languages used around the world?\n",
      "  80. Give the country codes for countries in which people speak langauges that are not English.\n",
      "  81. Which language is the most popular on the Asian continent?\n",
      "  82. How many official languages does Afghanistan have?\n",
      "  83. Give me Brazil’s population and life expectancies.\n",
      "  84. What is the average GNP and total population in all nations whose government is US territory?\n",
      "  85. What are the names of cities in Europe for which English is not the official language?\n",
      "  86. Which Asian countries have a population that is larger than any country in Africa?\n",
      "  87. Give the total population and average surface area corresponding to countries in North America that have a surface area greater than 3000 .\n",
      "  88. Return the codes of countries that do not speak English and do not have Republics for governments.\n",
      "  89. What are the countries where either English or Dutch is the official language ?\n",
      "  90. What are the names of the countries that are in the continent of Europe and have a population of 80000?\n",
      "  91. Which language is the most popular in Aruba?\n",
      "  92. What region does Angola belong to and what is its population?\n",
      "  93. Find the government form name and total population for each government form whose average life expectancy is longer than 72.\n",
      "  94. Which countries have either English or Dutch as an official language?\n",
      "  95. What are the Asian countries which have a population larger than that of any country in Africa?\n",
      "  96. What languages are only used by a single country with a republic government?\n",
      "  97. How many type of governments are in Africa?\n",
      "  98. Give the names of the nations that were founded after 1950.\n",
      "  99. What are the region and population of Angola?\n",
      "  100. What are the names of the nations with the 3 lowest populations?\n",
      "  101. Give the name of the nation that uses the greatest amount of languages.\n",
      "  102. Return the codes of countries for which Spanish is the predominantly spoken language.\n",
      "  103. What are the different continents and the total popuation and average life expectancy corresponding to each, for continents that have an average life expectancy less than 72?\n",
      "  104. How long is the people’s average life expectancy in Central Africa?\n",
      "  105. What region is Kabul in?\n",
      "  106. What is the most populace city that speaks English?\n",
      "  107. Find the name, population and expected life length of asian country with the largest area?\n",
      "  108. how many countries are in Asia?\n",
      "  109. What is the total number of countries where Spanish is spoken by the largest percentage of people?\n",
      "  110. What is the total number of people living in the nations that do not use English?\n",
      "  111. Which African countries have a smaller population than that of any country in Asia?\n",
      "  112. What are the population, name and leader of the country with the largest area?\n",
      "  113. Give the mean GNP and total population of nations which are considered US territory.\n",
      "  114. Which continent is Anguilla in?\n",
      "  115. What are the country codes of the different countries, and what are the languages spoken by the greatest percentage of people for each?\n",
      "  116. How many countries have governments that are republics?\n",
      "  117. Return the country name and the numbers of languages spoken for each country that speaks at least 3 languages.\n",
      "  118. What is the total number of unique official languages spoken in the countries that are founded before 1930?\n",
      "  119. Give the name of the country in Asia with the lowest life expectancy.\n",
      "  120. Give the average life expectancy for countries in Africa which are republics?\n",
      "\n",
      "Database: wta_1 (62 questions)\n",
      "  1. Which year had the most matches?\n",
      "  2. What are the names of players who won in both 2013 and 2016?\n",
      "  3. How many matches were played in each year?\n",
      "  4. How many matches were played in 2013 or 2016?\n",
      "  5. Find the year that has the most number of matches.\n",
      "  6. What are the names and ranks of the three youngest winners across all matches?\n",
      "  7. What are the first names and country codes for players who won both the WTA Championships and the Australian Open?\n",
      "  8. What is the code of the country with the most players?\n",
      "  9. Find the highest rank of losers in all matches.\n",
      "  10. find the names of loser and winner who played in the match with greatest number of minutes.\n",
      "  11. Find the average age of losers and winners of all matches.\n",
      "  12. List the number of all matches who played in years of 2013 or 2016.\n",
      "  13. List the first name and birth date of all players from the country with code USA.\n",
      "  14. What are the names of the winner and loser who played in the longest match?\n",
      "  15. How many total tours were there for each ranking date?\n",
      "  16. What is the average rank for winners in all matches?\n",
      "  17. find the number of distinct country codes of all players.\n",
      "  18. What is the first name and country code of the oldest player?\n",
      "  19. What are the first names of all players, and their total ranking points?\n",
      "  20. How many different loser names are there?\n",
      "  21. find the code of the country where has the greatest number of players.\n",
      "  22. Find the number of players for each hand type.\n",
      "  23. Find the name and rank of the 3 youngest winners across all matches.\n",
      "  24. Find the first name and country code of the oldest player.\n",
      "  25. What are the first names of all players, and their average rankings?\n",
      "  26. How many players are from each country?\n",
      "  27. How many distinct countries do players come from?\n",
      "  28. What is the first name, country code, and birth date of the player with the most winner rank points across all matches?\n",
      "  29. What are the first names and birth dates of players from the USA?\n",
      "  30. Count the number of matches.\n",
      "  31. What are the average ages of losers and winners across matches?\n",
      "  32. What is the name of the winner with the most rank points who participated in the Australian Open tournament?\n",
      "  33. List the names of all winners who played in both 2013 and 2016.\n",
      "  34. How many players are there?\n",
      "  35. Find the number of distinct name of losers.\n",
      "  36. find the number of players for each country.\n",
      "  37. Find the codes of countries that have more than 50 players.\n",
      "  38. Find the total number of matches.\n",
      "  39. Find the name and rank points of the winner who won the most times.\n",
      "  40. How many different winners both participated in the WTA Championships and were left handed?\n",
      "  41. Find the first name and country code of the player who did the most number of tours.\n",
      "  42. What are the country code and first name of the players who won in both tourney WTA Championships and Australian Open?\n",
      "  43. Find the average rank of winners in all matches.\n",
      "  44. What is the first name and country code of the player with the most tours?\n",
      "  45. List the first and last name of all players who are left / L hand in the order of birth date.\n",
      "  46. List the first and last name of all players in the order of birth date.\n",
      "  47. Find the name of tourney that has more than 10 matches.\n",
      "  48. Find the name of the winner who has the highest rank points and participated in the Australian Open tourney.\n",
      "  49. What are the codes of countries with more than 50 players?\n",
      "  50. Find the total number of tours for each ranking date.\n",
      "  51. Find the first name, country code and birth date of the winner who has the highest rank points in all matches.\n",
      "  52. What are the full names of all left handed players, in order of birth date?\n",
      "  53. Find the total ranking points for each player and their first name.\n",
      "  54. Find the number of left handed winners who participated in the WTA Championships.\n",
      "  55. What is the best rank of losers across all matches?\n",
      "  56. How many players are there for each hand type?\n",
      "  57. What are the names of tournaments that have more than 10 matches?\n",
      "  58. What is the name of the winner who has won the most matches, and how many rank points does this player have?\n",
      "  59. What are the full names of all players, sorted by birth date?\n",
      "  60. Find the number of matches happened in each year.\n",
      "  61. Find the average ranking for each player and their first name.\n",
      "  62. Find the total number of players.\n"
     ]
    }
   ],
   "source": [
    "# --- ADD THIS NEW BLOCK TO THE END OF YOUR CELL ---\n",
    "\n",
    "print(\"\\n--- Listing All Questions Associated with Each Database ---\")\n",
    "\n",
    "# Sort the database IDs alphabetically for a consistent, readable output\n",
    "sorted_db_ids = sorted(db_id_to_all_real_questions_map.keys())\n",
    "print(sorted_db_ids)\n",
    "\n",
    "for db_id in sorted_db_ids:\n",
    "    questions = db_id_to_all_real_questions_map[db_id]\n",
    "    print(f\"\\nDatabase: {db_id} ({len(questions)} questions)\")\n",
    "    for i, question in enumerate(questions, 1):\n",
    "        print(f\"  {i}. {question}\")"
   ]
  },
  {
   "cell_type": "code",
   "execution_count": 123,
   "id": "c9436941-4794-4d16-b686-8ab6bcb0e202",
   "metadata": {},
   "outputs": [
    {
     "name": "stdout",
     "output_type": "stream",
     "text": [
      "Loaded 1034 queries from dev.json\n",
      "Loaded 166 database schemas from tables.json\n"
     ]
    }
   ],
   "source": [
    "import json\n",
    "\n",
    "def load_json_data(file_path):\n",
    "    if os.path.exists(file_path):\n",
    "        with open(file_path, 'r') as f:\n",
    "            return json.load(f)\n",
    "    else:\n",
    "        print(f\"ERROR: File not found at {file_path}\")\n",
    "        return None\n",
    "\n",
    "dev_data = load_json_data(DEV_JSON_PATH)\n",
    "tables_data = load_json_data(TABLES_JSON_PATH)\n",
    "\n",
    "if dev_data and tables_data:\n",
    "    print(f\"Loaded {len(dev_data)} queries from dev.json\")\n",
    "    print(f\"Loaded {len(tables_data)} database schemas from tables.json\")\n",
    "else:\n",
    "    print(\"Failed to load Spider data. Please check paths and upload.\")"
   ]
  },
  {
   "cell_type": "code",
   "execution_count": 124,
   "id": "00306534-18c4-44d5-a20f-f93696b8eae9",
   "metadata": {},
   "outputs": [],
   "source": [
    "import json\n",
    "import os\n",
    "\n",
    "# Define data directory and file paths\n",
    "SPIDER_DATA_DIR = '/raid/infolab/gaurav/Llama_Spider_A100_Project/spider_subset_data'\n",
    "spider_tables_json_path = os.path.join(SPIDER_DATA_DIR, 'tables.json')\n",
    "# llm_examples_path = os.path.join(SPIDER_DATA_DIR, 'llm_generated_schema_examples.json')\n",
    "\n",
    "# Load the LLM-generated examples map\n",
    "# with open(llm_examples_path, 'r') as f:\n",
    "#     db_id_to_questions_map = json.load(f)\n",
    "\n",
    "# Load the base schema structures\n",
    "with open(spider_tables_json_path, 'r') as f:\n",
    "    raw_schemas = json.load(f)\n",
    "# Map by database ID for easy lookup\n",
    "all_db_schemas_data_loaded = {db_info['db_id']: db_info for db_info in raw_schemas}\n",
    "\n",
    "# Initialize the container for enriched SQL strings\n",
    "all_db_schemas_sql_strings = {}\n"
   ]
  },
  {
   "cell_type": "code",
   "execution_count": 125,
   "id": "c889327b-4c20-480e-beca-d5f93edc9d95",
   "metadata": {},
   "outputs": [
    {
     "name": "stdout",
     "output_type": "stream",
     "text": [
      "--- Building Base Schema Prompts (Paper-Exact Column Format, NO examples) ---\n",
      "Found prerequisites. Generating base prompts using databases from: /raid/infolab/gaurav/Llama_Spider_A100_Project/spider_subset_data/database\n"
     ]
    },
    {
     "data": {
      "application/vnd.jupyter.widget-view+json": {
       "model_id": "e26b1d84e9234ea390e622fec95a2ea8",
       "version_major": 2,
       "version_minor": 0
      },
      "text/plain": [
       "Generating Base Schema Prompts:   0%|          | 0/166 [00:00<?, ?it/s]"
      ]
     },
     "metadata": {},
     "output_type": "display_data"
    },
    {
     "name": "stdout",
     "output_type": "stream",
     "text": [
      "\n",
      "Successfully generated 166 base schema prompts.\n"
     ]
    }
   ],
   "source": [
    "# --- Integration of CODES Prompt Construction (Now for BASE Schemas) ---\n",
    "\n",
    "from tqdm.auto import tqdm # Ensure tqdm is imported for the progress bar\n",
    "import json\n",
    "import os\n",
    "import sqlite3 # <-- Import the sqlite3 library\n",
    "\n",
    "print(\"--- Building Base Schema Prompts (Paper-Exact Column Format, NO examples) ---\")\n",
    "\n",
    "# --- Helper Functions for Prompt Construction (Unchanged) ---\n",
    "\n",
    "def map_spider_type_to_sql_type(spider_type, is_pk_or_fk=False):\n",
    "    spider_type = spider_type.lower()\n",
    "    if spider_type == \"text\": return \"text\"\n",
    "    if spider_type == \"number\": return \"integer\" if is_pk_or_fk else \"real\"\n",
    "    if spider_type == \"time\": return \"datetime\"\n",
    "    if spider_type == \"boolean\": return \"boolean\"\n",
    "    return \"text\"\n",
    "\n",
    "def get_representative_values(cursor, table_name, column_name):\n",
    "    try:\n",
    "        query = f'SELECT DISTINCT \"{column_name}\" FROM \"{table_name}\" WHERE \"{column_name}\" IS NOT NULL LIMIT 2'\n",
    "        cursor.execute(query)\n",
    "        rows = cursor.fetchall()\n",
    "        values = [str(row[0]) for row in rows]\n",
    "        return \", \".join(values) if values else \"N/A\"\n",
    "    except sqlite3.OperationalError:\n",
    "        return \"N/A\"\n",
    "\n",
    "def schema_filter_placeholder(db_schema):\n",
    "    return db_schema['table_names_original']\n",
    "\n",
    "def value_retriever_placeholder(nl_query, db_id):\n",
    "    return {}\n",
    "\n",
    "# --- MODIFIED: This function now only builds the schema structure ---\n",
    "def construct_base_schema_prompt(db_id, all_schemas_data, db_dir):\n",
    "    \"\"\"\n",
    "    Constructs a database prompt string with tables, columns, and foreign keys.\n",
    "    It does NOT include few-shot examples.\n",
    "    \"\"\"\n",
    "    if db_id not in all_schemas_data:\n",
    "        return f\"-- Database ID '{db_id}' not found.\"\n",
    "\n",
    "    db_path = os.path.join(db_dir, db_id, f\"{db_id}.sqlite\")\n",
    "    if not os.path.exists(db_path):\n",
    "        return f\"-- Database file not found at: {db_path}\"\n",
    "\n",
    "    db_schema = all_schemas_data[db_id]\n",
    "    prompt_parts = []\n",
    "    conn = None\n",
    "    try:\n",
    "        conn = sqlite3.connect(db_path)\n",
    "        cursor = conn.cursor()\n",
    "\n",
    "        column_info_map = {\n",
    "            i: {\"name\": c_name, \"table_index\": t_idx, \"type\": db_schema['column_types'][i]}\n",
    "            for i, (t_idx, c_name) in enumerate(db_schema['column_names_original']) if c_name != \"*\"\n",
    "        }\n",
    "        \n",
    "        relevant_tables = schema_filter_placeholder(db_schema)\n",
    "\n",
    "        for table_idx, table_name in enumerate(db_schema['table_names_original']):\n",
    "            if table_name not in relevant_tables:\n",
    "                continue\n",
    "\n",
    "            column_defs = []\n",
    "            for col_idx, col_info in column_info_map.items():\n",
    "                if col_info['table_index'] == table_idx:\n",
    "                    prefixed_col_name = f\"{table_name}.{col_info['name']}\"\n",
    "                    col_parts_inside_parentheses = []\n",
    "                    is_pk_or_fk = col_idx in db_schema['primary_keys'] or any(fk[0] == col_idx for fk in db_schema['foreign_keys'])\n",
    "                    col_parts_inside_parentheses.append(map_spider_type_to_sql_type(col_info['type'], is_pk_or_fk))\n",
    "                    if col_idx in db_schema['primary_keys']:\n",
    "                        col_parts_inside_parentheses.append(\"primary key\")\n",
    "                    rep_values = get_representative_values(cursor, table_name, col_info['name'])\n",
    "                    col_parts_inside_parentheses.append(f\"values: {rep_values}\")\n",
    "                    final_column_string = f\"{prefixed_col_name} ( { ' | '.join(col_parts_inside_parentheses)} )\"\n",
    "                    column_defs.append(final_column_string)\n",
    "            \n",
    "            prompt_parts.append(f\"table {table_name}, columns = [ {', '.join(column_defs)} ]\")\n",
    "\n",
    "        if db_schema['foreign_keys']:\n",
    "            prompt_parts.append(\"foreign keys:\")\n",
    "            table_info_map = {i: name for i, name in enumerate(db_schema['table_names_original'])}\n",
    "            for fk_col_idx, ref_col_idx in db_schema['foreign_keys']:\n",
    "                fk_table_name = table_info_map[column_info_map[fk_col_idx]['table_index']]\n",
    "                fk_col_name = column_info_map[fk_col_idx]['name']\n",
    "                ref_table_name = table_info_map[column_info_map[ref_col_idx]['table_index']]\n",
    "                ref_col_name = column_info_map[ref_col_idx]['name']\n",
    "                prompt_parts.append(f\"{fk_table_name}.{fk_col_name} = {ref_table_name}.{ref_col_name}\")\n",
    "\n",
    "    except Exception as e:\n",
    "        print(f\"ERROR processing db '{db_id}': {e}\")\n",
    "        return f\"-- Error generating prompt for db {db_id}.\"\n",
    "    finally:\n",
    "        if conn:\n",
    "            conn.close()\n",
    "\n",
    "    return \"\\n\".join(prompt_parts)\n",
    "\n",
    "# --- Generate the new BASE prompts for all databases ---\n",
    "SPIDER_DATA_DIR = '/raid/infolab/gaurav/Llama_Spider_A100_Project/spider_subset_data'\n",
    "DATABASE_DIR = os.path.join(SPIDER_DATA_DIR, 'database')\n",
    "\n",
    "all_db_schemas_base_prompts = {}\n",
    "if 'all_db_schemas_data_loaded' in globals() and all_db_schemas_data_loaded:\n",
    "    print(f\"Found prerequisites. Generating base prompts using databases from: {DATABASE_DIR}\")\n",
    "    for db_id in tqdm(all_db_schemas_data_loaded.keys(), desc=\"Generating Base Schema Prompts\"):\n",
    "        all_db_schemas_base_prompts[db_id] = construct_base_schema_prompt(\n",
    "            db_id, all_db_schemas_data_loaded, DATABASE_DIR\n",
    "        )\n",
    "    print(f\"\\nSuccessfully generated {len(all_db_schemas_base_prompts)} base schema prompts.\")\n",
    "    \n",
    "    # # --- Verification Step ---\n",
    "    # print(\"\\n--- Verification of a Base Schema Prompt ---\")\n",
    "    # db_to_verify = 'perpetrator'\n",
    "    # if db_to_verify in all_db_schemas_base_prompts:\n",
    "    #     print(f\"Generated base prompt for '{db_to_verify}':\")\n",
    "    #     print(all_db_schemas_base_prompts[db_to_verify])\n",
    "    # else:\n",
    "    #     print(f\"Could not find schema for '{db_to_verify}' to verify.\")\n",
    "\n",
    "else:\n",
    "    print(\"ERROR: Prerequisite data ('all_db_schemas_data_loaded') not found. Please run the previous cells.\")"
   ]
  },
  {
   "cell_type": "code",
   "execution_count": 126,
   "id": "4ac0d7cb-81c6-487c-b796-ba1594a76912",
   "metadata": {},
   "outputs": [
    {
     "name": "stdout",
     "output_type": "stream",
     "text": [
      "Ensured experiment project directory exists: '/raid/infolab/gaurav/Llama_Spider_A100_Project/randomQ_allDBs_run1'\n",
      "Experiment results will be saved to: /raid/infolab/gaurav/Llama_Spider_A100_Project/randomQ_allDBs_run1/spider_queries_llama3.1_8B-instruct-prompt_codeS_real_examples.json\n"
     ]
    }
   ],
   "source": [
    "import os\n",
    "import json \n",
    "LOCAL_EXPERIMENT_BASE_DIR = \"/raid/infolab/gaurav/Llama_Spider_A100_Project/\"\n",
    "\n",
    "EXPERIMENT_RUN_NAME = \"randomQ_allDBs_run1\" \n",
    "EXPERIMENT_PROJECT_DIR = os.path.join(LOCAL_EXPERIMENT_BASE_DIR, EXPERIMENT_RUN_NAME)\n",
    "\n",
    "try:\n",
    "    os.makedirs(EXPERIMENT_PROJECT_DIR, exist_ok=True)\n",
    "    print(f\"Ensured experiment project directory exists: '{EXPERIMENT_PROJECT_DIR}'\")\n",
    "except OSError as e:\n",
    "    print(f\"Error creating directory {EXPERIMENT_PROJECT_DIR}: {e}\")\n",
    "    EXPERIMENT_PROJECT_DIR = \".\" \n",
    "\n",
    "\n",
    "RESULTS_FILENAME = \"spider_queries_llama3.1_8B-instruct-prompt_codeS_real_examples.json\"\n",
    "EXPERIMENT_RESULTS_FILE = os.path.join(EXPERIMENT_PROJECT_DIR, RESULTS_FILENAME)\n",
    "\n",
    "print(f\"Experiment results will be saved to: {EXPERIMENT_RESULTS_FILE}\")"
   ]
  },
  {
   "cell_type": "code",
   "execution_count": 127,
   "id": "e29bb982-09ab-4d61-9888-a306afab0d62",
   "metadata": {},
   "outputs": [
    {
     "name": "stdout",
     "output_type": "stream",
     "text": [
      "Helper function 'get_one_zero_token_ids' defined.\n"
     ]
    }
   ],
   "source": [
    "# Cell defining get_one_zero_token_ids\n",
    "\n",
    "def get_one_zero_token_ids(tokenizer_arg):\n",
    "    \"\"\"\n",
    "    Determines the single token IDs for the characters '1' and '0'.\n",
    "    It's crucial these are single tokens for the logit logic to work.\n",
    "    \"\"\"\n",
    "    # Llama 3 tokenizer handles single digits with leading spaces well.\n",
    "    one_token_id = tokenizer_arg.encode(\" 1\", add_special_tokens=False)\n",
    "    zero_token_id = tokenizer_arg.encode(\" 0\", add_special_tokens=False)\n",
    "\n",
    "    if len(one_token_id) == 1 and len(zero_token_id) == 1:\n",
    "        print(\"Using ' 1' and ' 0' (with leading space) for token IDs.\")\n",
    "        return one_token_id[0], zero_token_id[0]\n",
    "    \n",
    "    # Fallback in case the model prefers no space (less common for instruction models)\n",
    "    one_token_id_no_space = tokenizer_arg.encode(\"1\", add_special_tokens=False)\n",
    "    zero_token_id_no_space = tokenizer_arg.encode(\"0\", add_special_tokens=False)\n",
    "\n",
    "    if len(one_token_id_no_space) == 1 and len(zero_token_id_no_space) == 1:\n",
    "        print(\"Using '1' and '0' (no leading space) for token IDs.\")\n",
    "        return one_token_id_no_space[0], zero_token_id_no_space[0]\n",
    "        \n",
    "    else:\n",
    "        # If neither works, there's a problem with the tokenizer for this task.\n",
    "        print(f\"ERROR: Could not determine reliable single token IDs for '1' or '0'.\")\n",
    "        print(f\"Tokenization of ' 1': {one_token_id}\")\n",
    "        print(f\"Tokenization of ' 0': {zero_token_id}\")\n",
    "        print(f\"Tokenization of '1': {one_token_id_no_space}\")\n",
    "        print(f\"Tokenization of '0': {zero_token_id_no_space}\")\n",
    "        raise ValueError(\"Unstable tokenization for '1'/'0'. Cannot proceed.\")\n",
    "\n",
    "print(\"Helper function 'get_one_zero_token_ids' defined.\")"
   ]
  },
  {
   "cell_type": "code",
   "execution_count": 128,
   "id": "c3beb68b-141a-4791-a467-ab1456a8ded5",
   "metadata": {},
   "outputs": [
    {
     "name": "stdout",
     "output_type": "stream",
     "text": [
      "Using '1' and '0' (no leading space) for token IDs.\n",
      "ONE_TOKEN_ID: 16 ('1')\n",
      "ZERO_TOKEN_ID: 15 ('0')\n"
     ]
    }
   ],
   "source": [
    "# This cell defines the global token IDs for '1' and '0'\n",
    "if 'tokenizer' in globals() and tokenizer is not None:\n",
    "    try:\n",
    "        ONE_TOKEN_ID, ZERO_TOKEN_ID = get_one_zero_token_ids(tokenizer)\n",
    "        print(f\"ONE_TOKEN_ID: {ONE_TOKEN_ID} ('{tokenizer.decode([ONE_TOKEN_ID])}')\")\n",
    "        print(f\"ZERO_TOKEN_ID: {ZERO_TOKEN_ID} ('{tokenizer.decode([ZERO_TOKEN_ID])}')\")\n",
    "    except ValueError as e:\n",
    "        print(f\"Error defining 1/0 token IDs: {e}\")\n",
    "else:\n",
    "    print(\"ERROR: 'tokenizer' is not defined. Cannot define token IDs.\")"
   ]
  },
  {
   "cell_type": "code",
   "execution_count": 129,
   "id": "7608e9e0-7e71-4e2f-bd0e-85ca55dd0c0c",
   "metadata": {},
   "outputs": [
    {
     "name": "stdout",
     "output_type": "stream",
     "text": [
      "Core function 'get_schema_match_prediction' defined.\n"
     ]
    }
   ],
   "source": [
    "import torch # Ensure torch is imported\n",
    "import os    # <-- Add this import for file operations\n",
    "\n",
    "# --- Core function to get P(1) and the binary decision ---\n",
    "# <-- Add query_id and db_id as optional arguments for file naming\n",
    "def get_schema_match_prediction(model_arg, tokenizer_arg, system_prompt_arg, user_prompt_content_arg, one_token_id_arg, zero_token_id_arg, query_id=None, db_id=None, max_length=model.config.max_position_embeddings):\n",
    "    \"\"\"\n",
    "    Gets the model's prediction (1 or 0) and the probability score for that decision.\n",
    "    Saves the full prompt to a file if query_id and db_id are provided.\n",
    "    Returns a tuple: (binary_decision, probability_of_one)\n",
    "    \"\"\"\n",
    "    messages = [\n",
    "        {\"role\": \"system\", \"content\": system_prompt_arg},\n",
    "        {\"role\": \"user\", \"content\": user_prompt_content_arg}\n",
    "    ]\n",
    "\n",
    "    prompt_for_model = tokenizer_arg.apply_chat_template(messages, tokenize=False, add_generation_prompt=True)\n",
    "\n",
    "    # --- ADDED: Logic to save the prompt to a file ---\n",
    "    # This block will only run if the necessary IDs are passed from the loop\n",
    "    if query_id and db_id:\n",
    "        PROMPT_LOG_DIR = \"prompt_logs\"  # A dedicated folder for all prompts\n",
    "        os.makedirs(PROMPT_LOG_DIR, exist_ok=True) # Create the folder if it doesn't exist\n",
    "\n",
    "        # Sanitize db_id in case it contains characters invalid for filenames\n",
    "        safe_db_id = db_id.replace('/', '_')\n",
    "        \n",
    "        filename = f\"prompt_{query_id}_vs_{safe_db_id}.txt\"\n",
    "        filepath = os.path.join(PROMPT_LOG_DIR, filename)\n",
    "        \n",
    "        try:\n",
    "            with open(filepath, 'w', encoding='utf-8') as f:\n",
    "                f.write(prompt_for_model)\n",
    "        except Exception as e:\n",
    "            # This prevents a file error from crashing the whole experiment\n",
    "            print(f\"  WARNING: Could not write prompt to file {filepath}. Error: {e}\")\n",
    "    # --- END OF ADDED LOGIC ---\n",
    "\n",
    "    # print(prompt_for_model) # The original print statement is kept\n",
    "\n",
    "    inputs = tokenizer_arg(\n",
    "        prompt_for_model,\n",
    "        return_tensors=\"pt\",\n",
    "        truncation=True,\n",
    "        max_length=max_length - 10\n",
    "    )\n",
    "    inputs = {k: v.to(model_arg.device) for k, v in inputs.items()}\n",
    "\n",
    "    if inputs['input_ids'].shape[1] >= max_length - 10:\n",
    "         print(f\"Warning: Prompt for query was truncated. Length: {inputs['input_ids'].shape[1]}\")\n",
    "\n",
    "    with torch.no_grad():\n",
    "        outputs = model_arg(**inputs)\n",
    "        logits = outputs.logits\n",
    "        # Get the logits for the very next token to be generated\n",
    "        next_token_logits = logits[:, -1, :]\n",
    "        \n",
    "        # Get the specific logits for the '1' and '0' tokens\n",
    "        logit_one = next_token_logits[:, one_token_id_arg].item()\n",
    "        logit_zero = next_token_logits[:, zero_token_id_arg].item()\n",
    "\n",
    "    # --- Make the decision based on which logit is higher ---\n",
    "    binary_decision = 1 if logit_one > logit_zero else 0\n",
    "\n",
    "    # --- Calculate the probability using the softmax function on the two logits ---\n",
    "    # This correctly converts the logits into a probability score for '1'\n",
    "    max_logit = max(logit_one, logit_zero)\n",
    "    exp_one = torch.exp(torch.tensor(logit_one - max_logit))\n",
    "    exp_zero = torch.exp(torch.tensor(logit_zero - max_logit))\n",
    "    \n",
    "    prob_one = exp_one / (exp_one + exp_zero)\n",
    "    \n",
    "    return (binary_decision, prob_one.item())\n",
    "\n",
    "print(\"Core function 'get_schema_match_prediction' defined.\")"
   ]
  },
  {
   "cell_type": "code",
   "execution_count": 115,
   "id": "803de059-9514-4d09-b14e-b5e21e1ae14c",
   "metadata": {},
   "outputs": [
    {
     "name": "stdout",
     "output_type": "stream",
     "text": [
      "SYSTEM_PROMPT and USER_PROMPT_TEMPLATE have been updated for a more aesthetic and structured format.\n"
     ]
    }
   ],
   "source": [
    "# --- Prompt Configuration for Binary (1/0) Output (Aesthetic & Well-Structured) ---\n",
    "\n",
    "SYSTEM_PROMPT = \"\"\"\n",
    "You are an expert system that determines if a natural language question can be answered using ONLY the provided database schema.\n",
    "The schema includes sample values for some columns; treat these as HINTS to understand the column's content, not as a complete list.\n",
    "Your task is to respond with a single character: '1' if the question is answerable, or '0' if it is not.\n",
    "Do not provide any explanations or other text. Just '1' or '0'.\n",
    "\"\"\"\n",
    "\n",
    "# --- MODIFIED AESTHETIC TEMPLATE ---\n",
    "# We now have two distinct placeholders: {schema_string} and {examples_section}.\n",
    "# This ensures the examples are clearly separated from the schema definition for a clean, aesthetic look.\n",
    "USER_PROMPT_TEMPLATE = \"\"\"\n",
    "# You are provided with a database schema.\n",
    "[Schema:\n",
    "{schema_string}\n",
    "]\n",
    "{examples_section}\n",
    "# Task: Can the following question be answered using ONLY the schema above? Respond with 1 (Yes) or 0 (No).\n",
    "Q: {nl_query}\n",
    "A:\n",
    "\"\"\"\n",
    "\n",
    "print(\"SYSTEM_PROMPT and USER_PROMPT_TEMPLATE have been updated for a more aesthetic and structured format.\")"
   ]
  },
  {
   "cell_type": "code",
   "execution_count": null,
   "id": "37250ba8-97bf-47db-9329-2a265c5de7cf",
   "metadata": {
    "scrolled": true
   },
   "outputs": [
    {
     "name": "stdout",
     "output_type": "stream",
     "text": [
      "INFO: Found existing results file. Loading progress from '/raid/infolab/gaurav/Llama_Spider_A100_Project/randomQ_allDBs_run1/spider_queries_llama3.1_8B-instruct-prompt_codeS_real_examples.json'\n",
      "Loaded results for 3 queries. Resuming...\n",
      "\n",
      "--- Starting Experiment: 1034 Queries vs. 166 Schemas (with Dynamic Examples)---\n"
     ]
    },
    {
     "data": {
      "application/vnd.jupyter.widget-view+json": {
       "model_id": "b782ada89a7644c4a06b2d226b00d11c",
       "version_major": 2,
       "version_minor": 0
      },
      "text/plain": [
       "Processing NL Queries:   0%|          | 0/1034 [00:00<?, ?it/s]"
      ]
     },
     "metadata": {},
     "output_type": "display_data"
    },
    {
     "name": "stdout",
     "output_type": "stream",
     "text": [
      "\n",
      "Processing Query 4/1034 (ID: spider_dev_q3_idx3): 'List each owner's first name, last name, and the size of his for her dog.' (True DB: dog_kennels)\n"
     ]
    },
    {
     "data": {
      "application/vnd.jupyter.widget-view+json": {
       "model_id": "df2c80ff02414178b5897415762153f4",
       "version_major": 2,
       "version_minor": 0
      },
      "text/plain": [
       "  DBs for Q:spider_dev_q3_idx3:   0%|          | 0/166 [00:00<?, ?it/s]"
      ]
     },
     "metadata": {},
     "output_type": "display_data"
    },
    {
     "name": "stdout",
     "output_type": "stream",
     "text": [
      "\n",
      "Processing Query 5/1034 (ID: spider_dev_q4_idx4): 'Find the first name and age of students who have a dog but do not have a cat as a pet.' (True DB: pets_1)\n"
     ]
    },
    {
     "data": {
      "application/vnd.jupyter.widget-view+json": {
       "model_id": "ec0e79c3490b49309c7e9636feb890ce",
       "version_major": 2,
       "version_minor": 0
      },
      "text/plain": [
       "  DBs for Q:spider_dev_q4_idx4:   0%|          | 0/166 [00:00<?, ?it/s]"
      ]
     },
     "metadata": {},
     "output_type": "display_data"
    },
    {
     "name": "stdout",
     "output_type": "stream",
     "text": [
      "\n",
      "Processing Query 6/1034 (ID: spider_dev_q5_idx5): 'What is the number of cars with a greater accelerate than the one with the most horsepower?' (True DB: car_1)\n"
     ]
    },
    {
     "data": {
      "application/vnd.jupyter.widget-view+json": {
       "model_id": "8ec24cc0532b4c20bd4d8fd5ab9acab7",
       "version_major": 2,
       "version_minor": 0
      },
      "text/plain": [
       "  DBs for Q:spider_dev_q5_idx5:   0%|          | 0/166 [00:00<?, ?it/s]"
      ]
     },
     "metadata": {},
     "output_type": "display_data"
    },
    {
     "name": "stdout",
     "output_type": "stream",
     "text": [
      "\n",
      "Processing Query 7/1034 (ID: spider_dev_q6_idx6): 'What are the names of the teachers who are aged either 32 or 33?' (True DB: course_teach)\n"
     ]
    },
    {
     "data": {
      "application/vnd.jupyter.widget-view+json": {
       "model_id": "678528ddf4854ceeb913d0af5f2e87b8",
       "version_major": 2,
       "version_minor": 0
      },
      "text/plain": [
       "  DBs for Q:spider_dev_q6_idx6:   0%|          | 0/166 [00:00<?, ?it/s]"
      ]
     },
     "metadata": {},
     "output_type": "display_data"
    },
    {
     "name": "stdout",
     "output_type": "stream",
     "text": [
      "\n",
      "Processing Query 8/1034 (ID: spider_dev_q7_idx7): 'Return the maximum final tables made across all poker players who have earnings below 200000.' (True DB: poker_player)\n"
     ]
    },
    {
     "data": {
      "application/vnd.jupyter.widget-view+json": {
       "model_id": "2845d3cf80974ca3a8583c42acccd193",
       "version_major": 2,
       "version_minor": 0
      },
      "text/plain": [
       "  DBs for Q:spider_dev_q7_idx7:   0%|          | 0/166 [00:00<?, ?it/s]"
      ]
     },
     "metadata": {},
     "output_type": "display_data"
    },
    {
     "name": "stdout",
     "output_type": "stream",
     "text": [
      "\n",
      "Processing Query 9/1034 (ID: spider_dev_q8_idx8): 'Show template ids, version numbers, and template type codes for all templates.' (True DB: cre_Doc_Template_Mgt)\n"
     ]
    },
    {
     "data": {
      "application/vnd.jupyter.widget-view+json": {
       "model_id": "bc3a3e0ce7a3451ebcbff6a7ab3e12b7",
       "version_major": 2,
       "version_minor": 0
      },
      "text/plain": [
       "  DBs for Q:spider_dev_q8_idx8:   0%|          | 0/166 [00:00<?, ?it/s]"
      ]
     },
     "metadata": {},
     "output_type": "display_data"
    },
    {
     "name": "stdout",
     "output_type": "stream",
     "text": [
      "\n",
      "Processing Query 10/1034 (ID: spider_dev_q9_idx9): 'What is the most common nationality of people?' (True DB: poker_player)\n"
     ]
    },
    {
     "data": {
      "application/vnd.jupyter.widget-view+json": {
       "model_id": "267e3fb293b54ddbae16c852ed55547e",
       "version_major": 2,
       "version_minor": 0
      },
      "text/plain": [
       "  DBs for Q:spider_dev_q9_idx9:   0%|          | 0/166 [00:00<?, ?it/s]"
      ]
     },
     "metadata": {},
     "output_type": "display_data"
    },
    {
     "name": "stdout",
     "output_type": "stream",
     "text": [
      "\n",
      "Processing Query 11/1034 (ID: spider_dev_q10_idx10): 'find the pixel aspect ratio and nation of the tv channels that do not use English.' (True DB: tvshow)\n"
     ]
    },
    {
     "data": {
      "application/vnd.jupyter.widget-view+json": {
       "model_id": "931fd0ffc6bc44dfbad0faf6da138431",
       "version_major": 2,
       "version_minor": 0
      },
      "text/plain": [
       "  DBs for Q:spider_dev_q10_idx10:   0%|          | 0/166 [00:00<?, ?it/s]"
      ]
     },
     "metadata": {},
     "output_type": "display_data"
    },
    {
     "name": "stdout",
     "output_type": "stream",
     "text": [
      "\n",
      "Processing Query 12/1034 (ID: spider_dev_q11_idx11): 'What is the template type code of the template used by document with the name \"Data base\"?' (True DB: cre_Doc_Template_Mgt)\n"
     ]
    },
    {
     "data": {
      "application/vnd.jupyter.widget-view+json": {
       "model_id": "450bdae2bc834ff1b069e5beb56a7195",
       "version_major": 2,
       "version_minor": 0
      },
      "text/plain": [
       "  DBs for Q:spider_dev_q11_idx11:   0%|          | 0/166 [00:00<?, ?it/s]"
      ]
     },
     "metadata": {},
     "output_type": "display_data"
    },
    {
     "name": "stdout",
     "output_type": "stream",
     "text": [
      "\n",
      "Processing Query 13/1034 (ID: spider_dev_q12_idx12): 'What is the maker of the carr produced in the earliest year and what year was it?' (True DB: car_1)\n"
     ]
    },
    {
     "data": {
      "application/vnd.jupyter.widget-view+json": {
       "model_id": "8f438a53bac54213b5a95ad2c3ef7374",
       "version_major": 2,
       "version_minor": 0
      },
      "text/plain": [
       "  DBs for Q:spider_dev_q12_idx12:   0%|          | 0/166 [00:00<?, ?it/s]"
      ]
     },
     "metadata": {},
     "output_type": "display_data"
    },
    {
     "name": "stdout",
     "output_type": "stream",
     "text": [
      "\n",
      "Processing Query 14/1034 (ID: spider_dev_q13_idx13): 'Count the number of high schoolers.' (True DB: network_1)\n"
     ]
    },
    {
     "data": {
      "application/vnd.jupyter.widget-view+json": {
       "model_id": "acdab7077a1945bc8e731401f2bf66dd",
       "version_major": 2,
       "version_minor": 0
      },
      "text/plain": [
       "  DBs for Q:spider_dev_q13_idx13:   0%|          | 0/166 [00:00<?, ?it/s]"
      ]
     },
     "metadata": {},
     "output_type": "display_data"
    },
    {
     "name": "stdout",
     "output_type": "stream",
     "text": [
      "\n",
      "Processing Query 15/1034 (ID: spider_dev_q14_idx14): 'Find the average life expectancy and total population for each continent where the average life expectancy is shorter than 72?' (True DB: world_1)\n"
     ]
    },
    {
     "data": {
      "application/vnd.jupyter.widget-view+json": {
       "model_id": "e7e86bca275e4a4b812ef62b91544add",
       "version_major": 2,
       "version_minor": 0
      },
      "text/plain": [
       "  DBs for Q:spider_dev_q14_idx14:   0%|          | 0/166 [00:00<?, ?it/s]"
      ]
     },
     "metadata": {},
     "output_type": "display_data"
    },
    {
     "name": "stdout",
     "output_type": "stream",
     "text": [
      "\n",
      "Processing Query 16/1034 (ID: spider_dev_q15_idx15): 'List the date of each treatment, together with the first name of the professional who operated it.' (True DB: dog_kennels)\n"
     ]
    },
    {
     "data": {
      "application/vnd.jupyter.widget-view+json": {
       "model_id": "7497ee4b18944accb2959fdaaa7e1d12",
       "version_major": 2,
       "version_minor": 0
      },
      "text/plain": [
       "  DBs for Q:spider_dev_q15_idx15:   0%|          | 0/166 [00:00<?, ?it/s]"
      ]
     },
     "metadata": {},
     "output_type": "display_data"
    },
    {
     "name": "stdout",
     "output_type": "stream",
     "text": [
      "\n",
      "Processing Query 17/1034 (ID: spider_dev_q16_idx16): 'Show all template ids and number of documents using each template.' (True DB: cre_Doc_Template_Mgt)\n"
     ]
    },
    {
     "data": {
      "application/vnd.jupyter.widget-view+json": {
       "model_id": "f92b673f6ba9405cacba236957fbb23d",
       "version_major": 2,
       "version_minor": 0
      },
      "text/plain": [
       "  DBs for Q:spider_dev_q16_idx16:   0%|          | 0/166 [00:00<?, ?it/s]"
      ]
     },
     "metadata": {},
     "output_type": "display_data"
    },
    {
     "name": "stdout",
     "output_type": "stream",
     "text": [
      "\n",
      "Processing Query 18/1034 (ID: spider_dev_q17_idx17): 'Who is the first student to register? List the first name, middle name and last name.' (True DB: student_transcripts_tracking)\n"
     ]
    },
    {
     "data": {
      "application/vnd.jupyter.widget-view+json": {
       "model_id": "73e7e49a43b54ad9a605e9d9b5e02613",
       "version_major": 2,
       "version_minor": 0
      },
      "text/plain": [
       "  DBs for Q:spider_dev_q17_idx17:   0%|          | 0/166 [00:00<?, ?it/s]"
      ]
     },
     "metadata": {},
     "output_type": "display_data"
    },
    {
     "name": "stdout",
     "output_type": "stream",
     "text": [
      "\n",
      "Processing Query 19/1034 (ID: spider_dev_q18_idx18): 'Show the name of the teacher for the math course.' (True DB: course_teach)\n"
     ]
    },
    {
     "data": {
      "application/vnd.jupyter.widget-view+json": {
       "model_id": "bcbe662fdf7742a19227117db60c11d0",
       "version_major": 2,
       "version_minor": 0
      },
      "text/plain": [
       "  DBs for Q:spider_dev_q18_idx18:   0%|          | 0/166 [00:00<?, ?it/s]"
      ]
     },
     "metadata": {},
     "output_type": "display_data"
    },
    {
     "name": "stdout",
     "output_type": "stream",
     "text": [
      "\n",
      "Processing Query 20/1034 (ID: spider_dev_q19_idx19): 'Find the id and name of the museum that has the most staff members?' (True DB: museum_visit)\n"
     ]
    },
    {
     "data": {
      "application/vnd.jupyter.widget-view+json": {
       "model_id": "1db27cd2af8a4c49b9c068d2f1b8590a",
       "version_major": 2,
       "version_minor": 0
      },
      "text/plain": [
       "  DBs for Q:spider_dev_q19_idx19:   0%|          | 0/166 [00:00<?, ?it/s]"
      ]
     },
     "metadata": {},
     "output_type": "display_data"
    },
    {
     "name": "stdout",
     "output_type": "stream",
     "text": [
      "\n",
      "Processing Query 21/1034 (ID: spider_dev_q20_idx20): 'What are flight numbers of flights departing from Airport \"APG\"?' (True DB: flight_2)\n"
     ]
    },
    {
     "data": {
      "application/vnd.jupyter.widget-view+json": {
       "model_id": "f4400e1d81ab48ddb8bcc9a58c949ca7",
       "version_major": 2,
       "version_minor": 0
      },
      "text/plain": [
       "  DBs for Q:spider_dev_q20_idx20:   0%|          | 0/166 [00:00<?, ?it/s]"
      ]
     },
     "metadata": {},
     "output_type": "display_data"
    },
    {
     "name": "stdout",
     "output_type": "stream",
     "text": [
      "\n",
      "Processing Query 22/1034 (ID: spider_dev_q21_idx21): 'What are the names of poker players in descending order of earnings?' (True DB: poker_player)\n"
     ]
    },
    {
     "data": {
      "application/vnd.jupyter.widget-view+json": {
       "model_id": "99919c3f4d714fa3b02316605ab0054e",
       "version_major": 2,
       "version_minor": 0
      },
      "text/plain": [
       "  DBs for Q:spider_dev_q21_idx21:   0%|          | 0/166 [00:00<?, ?it/s]"
      ]
     },
     "metadata": {},
     "output_type": "display_data"
    },
    {
     "name": "stdout",
     "output_type": "stream",
     "text": [
      "\n",
      "Processing Query 23/1034 (ID: spider_dev_q22_idx22): 'What is the average earnings of poker players?' (True DB: poker_player)\n"
     ]
    },
    {
     "data": {
      "application/vnd.jupyter.widget-view+json": {
       "model_id": "7557e7131b624c7e92f1ceb771cda6e9",
       "version_major": 2,
       "version_minor": 0
      },
      "text/plain": [
       "  DBs for Q:spider_dev_q22_idx22:   0%|          | 0/166 [00:00<?, ?it/s]"
      ]
     },
     "metadata": {},
     "output_type": "display_data"
    },
    {
     "name": "stdout",
     "output_type": "stream",
     "text": [
      "\n",
      "Processing Query 24/1034 (ID: spider_dev_q23_idx23): 'Which year had the most matches?' (True DB: wta_1)\n"
     ]
    },
    {
     "data": {
      "application/vnd.jupyter.widget-view+json": {
       "model_id": "76ddcde59aaa40d28113d415acbb8b60",
       "version_major": 2,
       "version_minor": 0
      },
      "text/plain": [
       "  DBs for Q:spider_dev_q23_idx23:   0%|          | 0/166 [00:00<?, ?it/s]"
      ]
     },
     "metadata": {},
     "output_type": "display_data"
    },
    {
     "name": "stdout",
     "output_type": "stream",
     "text": [
      "\n",
      "Processing Query 25/1034 (ID: spider_dev_q24_idx24): 'Find the names of stores whose number products is more than the average number of products.' (True DB: employee_hire_evaluation)\n"
     ]
    },
    {
     "data": {
      "application/vnd.jupyter.widget-view+json": {
       "model_id": "9e30d8cfa79d4aa29392918819310766",
       "version_major": 2,
       "version_minor": 0
      },
      "text/plain": [
       "  DBs for Q:spider_dev_q24_idx24:   0%|          | 0/166 [00:00<?, ?it/s]"
      ]
     },
     "metadata": {},
     "output_type": "display_data"
    },
    {
     "name": "stdout",
     "output_type": "stream",
     "text": [
      "\n",
      "Processing Query 26/1034 (ID: spider_dev_q25_idx25): 'What is the money rank of the tallest poker player?' (True DB: poker_player)\n"
     ]
    },
    {
     "data": {
      "application/vnd.jupyter.widget-view+json": {
       "model_id": "44e594676e7a45448609d234b7936fa1",
       "version_major": 2,
       "version_minor": 0
      },
      "text/plain": [
       "  DBs for Q:spider_dev_q25_idx25:   0%|          | 0/166 [00:00<?, ?it/s]"
      ]
     },
     "metadata": {},
     "output_type": "display_data"
    },
    {
     "name": "stdout",
     "output_type": "stream",
     "text": [
      "\n",
      "Processing Query 27/1034 (ID: spider_dev_q26_idx26): 'What is the document id with least number of paragraphs?' (True DB: cre_Doc_Template_Mgt)\n"
     ]
    },
    {
     "data": {
      "application/vnd.jupyter.widget-view+json": {
       "model_id": "e9031477ef4345e090ec2681b8d23767",
       "version_major": 2,
       "version_minor": 0
      },
      "text/plain": [
       "  DBs for Q:spider_dev_q26_idx26:   0%|          | 0/166 [00:00<?, ?it/s]"
      ]
     },
     "metadata": {},
     "output_type": "display_data"
    },
    {
     "name": "stdout",
     "output_type": "stream",
     "text": [
      "\n",
      "Processing Query 28/1034 (ID: spider_dev_q27_idx27): 'How many cars have a larger accelerate than the car with the largest horsepower?' (True DB: car_1)\n"
     ]
    },
    {
     "data": {
      "application/vnd.jupyter.widget-view+json": {
       "model_id": "756b00cdc4954556a8206db41f68ecbb",
       "version_major": 2,
       "version_minor": 0
      },
      "text/plain": [
       "  DBs for Q:spider_dev_q27_idx27:   0%|          | 0/166 [00:00<?, ?it/s]"
      ]
     },
     "metadata": {},
     "output_type": "display_data"
    },
    {
     "name": "stdout",
     "output_type": "stream",
     "text": [
      "\n",
      "Processing Query 29/1034 (ID: spider_dev_q28_idx28): 'What is the program id and the summary of the degree that has the most students enrolled?' (True DB: student_transcripts_tracking)\n"
     ]
    },
    {
     "data": {
      "application/vnd.jupyter.widget-view+json": {
       "model_id": "904b3220146d4dcb908c927fca0a1ade",
       "version_major": 2,
       "version_minor": 0
      },
      "text/plain": [
       "  DBs for Q:spider_dev_q28_idx28:   0%|          | 0/166 [00:00<?, ?it/s]"
      ]
     },
     "metadata": {},
     "output_type": "display_data"
    },
    {
     "name": "stdout",
     "output_type": "stream",
     "text": [
      "\n",
      "Processing Query 30/1034 (ID: spider_dev_q29_idx29): 'What is the number of nations that use English and Dutch?' (True DB: world_1)\n"
     ]
    },
    {
     "data": {
      "application/vnd.jupyter.widget-view+json": {
       "model_id": "7e0dd69f35e340d19c74b0ef3981f4eb",
       "version_major": 2,
       "version_minor": 0
      },
      "text/plain": [
       "  DBs for Q:spider_dev_q29_idx29:   0%|          | 0/166 [00:00<?, ?it/s]"
      ]
     },
     "metadata": {},
     "output_type": "display_data"
    },
    {
     "name": "stdout",
     "output_type": "stream",
     "text": [
      "\n",
      "Processing Query 31/1034 (ID: spider_dev_q30_idx30): 'What is the document id, template id and description for document named \"Robbin CV\"?' (True DB: cre_Doc_Template_Mgt)\n"
     ]
    },
    {
     "data": {
      "application/vnd.jupyter.widget-view+json": {
       "model_id": "117c54765656404c9cde48fe81b6397d",
       "version_major": 2,
       "version_minor": 0
      },
      "text/plain": [
       "  DBs for Q:spider_dev_q30_idx30:   0%|          | 0/166 [00:00<?, ?it/s]"
      ]
     },
     "metadata": {},
     "output_type": "display_data"
    },
    {
     "name": "stdout",
     "output_type": "stream",
     "text": [
      "\n",
      "Processing Query 32/1034 (ID: spider_dev_q31_idx31): 'What are the codes of countries where Spanish is spoken by the largest percentage of people?' (True DB: world_1)\n"
     ]
    },
    {
     "data": {
      "application/vnd.jupyter.widget-view+json": {
       "model_id": "e53646861b5c42ec99b79fc34707d688",
       "version_major": 2,
       "version_minor": 0
      },
      "text/plain": [
       "  DBs for Q:spider_dev_q31_idx31:   0%|          | 0/166 [00:00<?, ?it/s]"
      ]
     },
     "metadata": {},
     "output_type": "display_data"
    },
    {
     "name": "stdout",
     "output_type": "stream",
     "text": [
      "\n",
      "Processing Query 33/1034 (ID: spider_dev_q32_idx32): 'What is the last name of the student who has a cat that is 3 years old?' (True DB: pets_1)\n"
     ]
    },
    {
     "data": {
      "application/vnd.jupyter.widget-view+json": {
       "model_id": "2d803e8fb6f64b3e8d2ecefc28c32159",
       "version_major": 2,
       "version_minor": 0
      },
      "text/plain": [
       "  DBs for Q:spider_dev_q32_idx32:   0%|          | 0/166 [00:00<?, ?it/s]"
      ]
     },
     "metadata": {},
     "output_type": "display_data"
    },
    {
     "name": "stdout",
     "output_type": "stream",
     "text": [
      "\n",
      "Processing Query 34/1034 (ID: spider_dev_q33_idx33): 'What are the first name and last name of the professionals who have done treatment with cost below average?' (True DB: dog_kennels)\n"
     ]
    },
    {
     "data": {
      "application/vnd.jupyter.widget-view+json": {
       "model_id": "2136a80553fb4ac98cce47460089cc66",
       "version_major": 2,
       "version_minor": 0
      },
      "text/plain": [
       "  DBs for Q:spider_dev_q33_idx33:   0%|          | 0/166 [00:00<?, ?it/s]"
      ]
     },
     "metadata": {},
     "output_type": "display_data"
    },
    {
     "name": "stdout",
     "output_type": "stream",
     "text": [
      "\n",
      "Processing Query 35/1034 (ID: spider_dev_q34_idx34): 'What is average life expectancy in the countries where English is not the official language?' (True DB: world_1)\n"
     ]
    },
    {
     "data": {
      "application/vnd.jupyter.widget-view+json": {
       "model_id": "ba865b3494ac43e595521d1b96b8b0d4",
       "version_major": 2,
       "version_minor": 0
      },
      "text/plain": [
       "  DBs for Q:spider_dev_q34_idx34:   0%|          | 0/166 [00:00<?, ?it/s]"
      ]
     },
     "metadata": {},
     "output_type": "display_data"
    },
    {
     "name": "stdout",
     "output_type": "stream",
     "text": [
      "\n",
      "Processing Query 36/1034 (ID: spider_dev_q35_idx35): 'What is the average weight of cars each year?' (True DB: car_1)\n"
     ]
    },
    {
     "data": {
      "application/vnd.jupyter.widget-view+json": {
       "model_id": "4f0b9586299f4347a24f5ef1980d733e",
       "version_major": 2,
       "version_minor": 0
      },
      "text/plain": [
       "  DBs for Q:spider_dev_q35_idx35:   0%|          | 0/166 [00:00<?, ?it/s]"
      ]
     },
     "metadata": {},
     "output_type": "display_data"
    },
    {
     "name": "stdout",
     "output_type": "stream",
     "text": [
      "\n",
      "Processing Query 37/1034 (ID: spider_dev_q36_idx36): 'Find the first name and age of students who have a pet.' (True DB: pets_1)\n"
     ]
    },
    {
     "data": {
      "application/vnd.jupyter.widget-view+json": {
       "model_id": "76bc3557aa9342e5840912e4c88d5d71",
       "version_major": 2,
       "version_minor": 0
      },
      "text/plain": [
       "  DBs for Q:spider_dev_q36_idx36:   0%|          | 0/166 [00:00<?, ?it/s]"
      ]
     },
     "metadata": {},
     "output_type": "display_data"
    },
    {
     "name": "stdout",
     "output_type": "stream",
     "text": [
      "\n",
      "Processing Query 38/1034 (ID: spider_dev_q37_idx37): 'List all singer names in concerts in year 2014.' (True DB: concert_singer)\n"
     ]
    },
    {
     "data": {
      "application/vnd.jupyter.widget-view+json": {
       "model_id": "93b30ae8f13b4e9e8814c72b01fcfd0b",
       "version_major": 2,
       "version_minor": 0
      },
      "text/plain": [
       "  DBs for Q:spider_dev_q37_idx37:   0%|          | 0/166 [00:00<?, ?it/s]"
      ]
     },
     "metadata": {},
     "output_type": "display_data"
    },
    {
     "name": "stdout",
     "output_type": "stream",
     "text": [
      "\n",
      "Processing Query 39/1034 (ID: spider_dev_q38_idx38): 'Return the names of cities that have a population between 160000 and 900000 .' (True DB: world_1)\n"
     ]
    },
    {
     "data": {
      "application/vnd.jupyter.widget-view+json": {
       "model_id": "0a71f6595ec540fc98b3640bf0353434",
       "version_major": 2,
       "version_minor": 0
      },
      "text/plain": [
       "  DBs for Q:spider_dev_q38_idx38:   0%|          | 0/166 [00:00<?, ?it/s]"
      ]
     },
     "metadata": {},
     "output_type": "display_data"
    },
    {
     "name": "stdout",
     "output_type": "stream",
     "text": [
      "\n",
      "Processing Query 40/1034 (ID: spider_dev_q39_idx39): 'Which city and country is the Alton airport at?' (True DB: flight_2)\n"
     ]
    },
    {
     "data": {
      "application/vnd.jupyter.widget-view+json": {
       "model_id": "37ff780083d54930ab0bedfb5e234055",
       "version_major": 2,
       "version_minor": 0
      },
      "text/plain": [
       "  DBs for Q:spider_dev_q39_idx39:   0%|          | 0/166 [00:00<?, ?it/s]"
      ]
     },
     "metadata": {},
     "output_type": "display_data"
    },
    {
     "name": "stdout",
     "output_type": "stream",
     "text": [
      "\n",
      "Processing Query 41/1034 (ID: spider_dev_q40_idx40): 'find the names of museums which have more staff than the minimum staff number of all museums opened after 2010.' (True DB: museum_visit)\n"
     ]
    },
    {
     "data": {
      "application/vnd.jupyter.widget-view+json": {
       "model_id": "b622d6923fec416b934f9ab903dd6253",
       "version_major": 2,
       "version_minor": 0
      },
      "text/plain": [
       "  DBs for Q:spider_dev_q40_idx40:   0%|          | 0/166 [00:00<?, ?it/s]"
      ]
     },
     "metadata": {},
     "output_type": "display_data"
    },
    {
     "name": "stdout",
     "output_type": "stream",
     "text": [
      "\n",
      "Processing Query 42/1034 (ID: spider_dev_q41_idx41): 'Tell me the age of the oldest dog.' (True DB: dog_kennels)\n"
     ]
    },
    {
     "data": {
      "application/vnd.jupyter.widget-view+json": {
       "model_id": "624d65deebea449dad2ae42d828d1ed9",
       "version_major": 2,
       "version_minor": 0
      },
      "text/plain": [
       "  DBs for Q:spider_dev_q41_idx41:   0%|          | 0/166 [00:00<?, ?it/s]"
      ]
     },
     "metadata": {},
     "output_type": "display_data"
    }
   ],
   "source": [
    "import json\n",
    "import os\n",
    "from tqdm.auto import tqdm\n",
    "\n",
    "# This dictionary will hold all results.\n",
    "experiment_all_query_results = []\n",
    "\n",
    "# --- 1. Resume from Previous Run (if applicable) ---\n",
    "if os.path.exists(EXPERIMENT_RESULTS_FILE):\n",
    "    print(f\"INFO: Found existing results file. Loading progress from '{EXPERIMENT_RESULTS_FILE}'\")\n",
    "    try:\n",
    "        with open(EXPERIMENT_RESULTS_FILE, 'r') as f:\n",
    "            experiment_all_query_results = json.load(f)\n",
    "        print(f\"Loaded results for {len(experiment_all_query_results)} queries. Resuming...\")\n",
    "    except json.JSONDecodeError:\n",
    "        print(f\"WARNING: Results file '{EXPERIMENT_RESULTS_FILE}' is corrupted. Starting from scratch.\")\n",
    "        experiment_all_query_results = []\n",
    "\n",
    "completed_query_ids = {res['experiment_query_id'] for res in experiment_all_query_results}\n",
    "\n",
    "# --- 2. Define the Schemas and Questions to be Used in the Experiment ---\n",
    "# Use the base prompts; we will add examples dynamically.\n",
    "if 'all_db_schemas_base_prompts' not in globals() or not all_db_schemas_base_prompts:\n",
    "    raise NameError(\"The 'all_db_schemas_base_prompts' variable is not defined. Please run the base prompt generation cell first.\")\n",
    "if 'db_id_to_all_real_questions_map' not in globals():\n",
    "    raise NameError(\"The 'db_id_to_all_real_questions_map' is not defined. Please run the query loading cell.\")\n",
    "    \n",
    "candidate_schemas_for_evaluation = all_db_schemas_base_prompts\n",
    "\n",
    "# --- 3. Start the Main Experiment Loop ---\n",
    "print(f\"\\n--- Starting Experiment: {len(selected_nl_queries)} Queries vs. {len(candidate_schemas_for_evaluation)} Schemas (with Dynamic Examples)---\")\n",
    "\n",
    "# Outer loop: Iterate through each NL query\n",
    "for query_idx, nl_query_info in enumerate(tqdm(selected_nl_queries, desc=\"Processing NL Queries\")):\n",
    "    current_nl_query_text = nl_query_info['question']\n",
    "    true_db_id_for_query = nl_query_info['db_id']\n",
    "    experiment_query_id = f\"spider_dev_q{query_idx}_idx{query_idx}\"\n",
    "\n",
    "    if experiment_query_id in completed_query_ids:\n",
    "        continue\n",
    "\n",
    "    print(f\"\\nProcessing Query {query_idx + 1}/{len(selected_nl_queries)} (ID: {experiment_query_id}): '{current_nl_query_text}' (True DB: {true_db_id_for_query})\")\n",
    "\n",
    "    predictions_for_current_query = []\n",
    "\n",
    "    # Inner loop: Iterate through each candidate database schema\n",
    "    for candidate_db_id, base_schema_prompt in tqdm(candidate_schemas_for_evaluation.items(), desc=f\"  DBs for Q:{experiment_query_id[:20]}\", leave=False):\n",
    "        \n",
    "        # --- DYNAMIC FEW-SHOT EXAMPLE SELECTION ---\n",
    "        # Find relevant, realistic examples for the current candidate schema\n",
    "        relevant_examples = db_id_to_all_real_questions_map.get(candidate_db_id, [])\n",
    "        \n",
    "        # Mask the current test query so the model doesn't see the answer in the examples\n",
    "        examples_to_use = [q for q in relevant_examples if q != current_nl_query_text]\n",
    "        \n",
    "        # Select up to 5 examples\n",
    "        final_examples = examples_to_use[:5]\n",
    "        \n",
    "        # --- CONSTRUCT THE FINAL PROMPT WITH DYNAMIC EXAMPLES ---\n",
    "        examples_section_string = \"\"\n",
    "        final_schema_prompt_with_examples = base_schema_prompt\n",
    "        if final_examples:\n",
    "            examples_string = \"\\n\".join([f\"--{q}\" for q in final_examples])\n",
    "            # The heading and formatting are now part of this self-contained, aesthetic block\n",
    "            examples_section_string = (\n",
    "                f\"\\n#Here are some example questions that CAN be answered by the schema above:\\n\"\n",
    "                f\"{examples_string}\\n\"\n",
    "            )\n",
    "        \n",
    "        # --- AESTHETIC CHANGE: Format the new template with separate placeholders ---\n",
    "        user_prompt_content = USER_PROMPT_TEMPLATE.format(\n",
    "            schema_string=base_schema_prompt,\n",
    "            examples_section=examples_section_string,\n",
    "            nl_query=current_nl_query_text\n",
    "        )\n",
    "        \n",
    "        binary_decision = -1 \n",
    "        p_one_score = -1.0\n",
    "\n",
    "        try:\n",
    "             binary_decision, p_one_score = get_schema_match_prediction(\n",
    "                model,\n",
    "                tokenizer,\n",
    "                SYSTEM_PROMPT,\n",
    "                user_prompt_content,\n",
    "                ONE_TOKEN_ID,\n",
    "                ZERO_TOKEN_ID,\n",
    "                query_id=experiment_query_id,   # Pass the query ID for logging\n",
    "                db_id=candidate_db_id         # Pass the DB ID for logging\n",
    "            )\n",
    "        except Exception as e:\n",
    "            import traceback\n",
    "            print(f\"    ERROR: Exception during model inference for Query ID '{experiment_query_id}' with DB '{candidate_db_id}'.\")\n",
    "            print(f\"    Exception type: {type(e).__name__}, Message: {e}\")\n",
    "\n",
    "        predictions_for_current_query.append({\n",
    "            'candidate_db_id': candidate_db_id,\n",
    "            'decision': binary_decision,\n",
    "            'p_one_score': p_one_score\n",
    "        })\n",
    "\n",
    "    ranked_databases_for_query = sorted(predictions_for_current_query, key=lambda x: x['p_one_score'], reverse=True)\n",
    "\n",
    "    experiment_all_query_results.append({\n",
    "        'experiment_query_id': experiment_query_id,\n",
    "        'nl_query_text': current_nl_query_text,\n",
    "        'true_db_id': true_db_id_for_query,\n",
    "        'ranked_databases_with_predictions': ranked_databases_for_query \n",
    "    })\n",
    "\n",
    "    # --- 4. Periodic Saving of Results ---\n",
    "    try:\n",
    "        with open(EXPERIMENT_RESULTS_FILE, 'w') as f_out:\n",
    "            json.dump(experiment_all_query_results, f_out, indent=2)\n",
    "    except Exception as e:\n",
    "        print(f\"  ERROR: Could not save intermediate results: {e}\")\n",
    "\n",
    "# --- 5. Final Save After Loop Completion ---\n",
    "print(\"\\n--- Experiment Loop Finished ---\\n\")\n",
    "if experiment_all_query_results:\n",
    "    print(f\"Processed a total of {len(experiment_all_query_results)} unique queries.\")\n",
    "    try:\n",
    "        with open(EXPERIMENT_RESULTS_FILE, 'w') as f_out:\n",
    "            json.dump(experiment_all_query_results, f_out, indent=2)\n",
    "        print(f\"Final results successfully saved to {EXPERIMENT_RESULTS_FILE}\")\n",
    "    except Exception as e:\n",
    "        print(f\"ERROR: Could not save the final results: {e}\")\n",
    "else:\n",
    "    print(\"No results were generated. Check logs for errors.\")"
   ]
  },
  {
   "cell_type": "code",
   "execution_count": 144,
   "id": "8262e333-9885-4932-b1fe-3de3dbd0d56c",
   "metadata": {},
   "outputs": [
    {
     "name": "stdout",
     "output_type": "stream",
     "text": [
      "Using in-memory experiment_all_query_results for evaluation.\n",
      "\n",
      "--- Evaluation: Recall@K ---\n",
      "Evaluated on 3 queries.\n",
      "Recall@1: 66.67%\n",
      "Recall@3: 66.67%\n",
      "Recall@5: 66.67%\n",
      "Recall@10: 66.67%\n",
      "Saved evaluation results to 'recall_k_results_context_lamma-3.1-8B-instruct-prompt-codeS_real_examples.json'\n",
      "\n",
      "--- Sample Detailed Query Results (Top 5 Queries) ---\n",
      "\n",
      "Query 1: 'Show the property type descriptions of properties belonging to that code.' (True DB: real_estate_properties)\n",
      "  Top Ranked Databases (with P(Yes) scores):\n",
      "\n",
      "Query 2: 'What are the name of the countries where there is not a single car maker?' (True DB: car_1)\n",
      "  Top Ranked Databases (with P(Yes) scores):\n",
      "\n",
      "Query 3: 'What are the date and the operating professional's first name of each treatment?' (True DB: dog_kennels)\n",
      "  Top Ranked Databases (with P(Yes) scores):\n"
     ]
    }
   ],
   "source": [
    "import os\n",
    "import json\n",
    "\n",
    "# Path where the evaluation summary (Recall@K results) will be saved\n",
    "EVAL_RESULTS_SAVE_PATH = \"recall_k_results_context_lamma-3.1-8B-instruct-prompt-codeS_real_examples.json\"\n",
    "\n",
    "# --- 4.1. Define Recall@K Calculation Function ---\n",
    "def calculate_recall_at_k_metric(all_query_results_list, k_values_list):\n",
    "    \"\"\"\n",
    "    Calculates Recall@K for a list of K values.\n",
    "    Each item in all_query_results_list should be a dictionary with:\n",
    "        'true_db_id': The ground truth database ID for the query.\n",
    "        'ranked_databases_with_scores': A list of {'candidate_db_id': id, 'p_yes_score': score},\n",
    "                                         sorted by score in descending order.\n",
    "    \"\"\"\n",
    "    recall_counts = {k: 0 for k in k_values_list}  # Stores how many times true_db was in top K\n",
    "    total_valid_queries = 0  # Queries for which we have a true_db_id\n",
    "\n",
    "    if not all_query_results_list:\n",
    "        return {k: 0.0 for k in k_values_list}, 0\n",
    "\n",
    "    for query_result in all_query_results_list:\n",
    "        true_db = query_result.get('true_db_id')\n",
    "        ranked_dbs_info = query_result.get('ranked_databases_with_predictions')\n",
    "\n",
    "        if true_db is None or ranked_dbs_info is None:\n",
    "            print(f\"Warning: Skipping query result due to missing 'true_db_id' or 'ranked_databases_with_scores': \"\n",
    "                  f\"{query_result.get('experiment_query_id', 'Unknown Query')}\")\n",
    "            continue  # Skip if essential information is missing\n",
    "\n",
    "        total_valid_queries += 1\n",
    "        # Extract just the DB IDs from the ranked list\n",
    "        ranked_db_ids_only = [item['candidate_db_id'] for item in ranked_dbs_info]\n",
    "\n",
    "        for k in k_values_list:\n",
    "            # Get the top K predicted database IDs\n",
    "            top_k_predicted_dbs = ranked_db_ids_only[:k]\n",
    "            if true_db in top_k_predicted_dbs:\n",
    "                recall_counts[k] += 1\n",
    "\n",
    "    # Calculate final recall percentages\n",
    "    recall_percentages = {}\n",
    "    if total_valid_queries > 0:\n",
    "        for k in k_values_list:\n",
    "            recall_percentages[k] = (recall_counts[k] / total_valid_queries) * 100.0  # As percentage\n",
    "    else:\n",
    "        recall_percentages = {k: 0.0 for k in k_values_list}\n",
    "\n",
    "    return recall_percentages, total_valid_queries\n",
    "\n",
    "\n",
    "# --- 4.2. Perform Evaluation ---\n",
    "# Load results if this cell is run in a new session and experiment_all_query_results isn't in memory\n",
    "# (assuming results were saved to EXPERIMENT_RESULTS_FILE)\n",
    "loaded_results_for_eval = None\n",
    "if 'experiment_all_query_results' in globals() and experiment_all_query_results:\n",
    "    print(\"Using in-memory experiment_all_query_results for evaluation.\")\n",
    "    loaded_results_for_eval = experiment_all_query_results\n",
    "elif os.path.exists(EXPERIMENT_RESULTS_FILE):\n",
    "    print(f\"Loading results from {EXPERIMENT_RESULTS_FILE} for evaluation...\")\n",
    "    try:\n",
    "        with open(EXPERIMENT_RESULTS_FILE, 'r') as f_in:\n",
    "            loaded_results_for_eval = json.load(f_in)\n",
    "        print(f\"Successfully loaded {len(loaded_results_for_eval)} results from file.\")\n",
    "    except Exception as e:\n",
    "        print(f\"Error loading results from file for evaluation: {e}\")\n",
    "else:\n",
    "    print(\"No results available in memory or in the specified results file for evaluation.\")\n",
    "\n",
    "if loaded_results_for_eval:\n",
    "    K_VALUES_TO_EVALUATE = [1, 3, 5, 10]  # Define the K values you care about\n",
    "    recall_scores_map, num_queries_evaluated = calculate_recall_at_k_metric(\n",
    "        loaded_results_for_eval, K_VALUES_TO_EVALUATE\n",
    "    )\n",
    "\n",
    "    print(\"\\n--- Evaluation: Recall@K ---\")\n",
    "    print(f\"Evaluated on {num_queries_evaluated} queries.\")\n",
    "    for k_val, recall_val in recall_scores_map.items():\n",
    "        print(f\"Recall@{k_val}: {recall_val:.2f}%\")\n",
    "\n",
    "    # --- 4.2.1. Save evaluation results to a JSON file ---\n",
    "    try:\n",
    "        eval_summary = {\n",
    "            \"num_queries_evaluated\": num_queries_evaluated,\n",
    "            \"recall_scores\": recall_scores_map\n",
    "        }\n",
    "        with open(EVAL_RESULTS_SAVE_PATH, 'w') as fout:\n",
    "            json.dump(eval_summary, fout, indent=2)\n",
    "        print(f\"Saved evaluation results to '{EVAL_RESULTS_SAVE_PATH}'\")\n",
    "    except Exception as save_err:\n",
    "        print(f\"Error saving evaluation results: {save_err}\")\n",
    "\n",
    "    # --- 4.3. Optional: Print Detailed Results for a Few Queries ---\n",
    "    print(\"\\n--- Sample Detailed Query Results (Top 5 Queries) ---\")\n",
    "    for i, res in enumerate(loaded_results_for_eval[:5]):  # Show for first 5 queries\n",
    "        print(f\"\\nQuery {i+1}: '{res.get('nl_query_text', '<no text>')}' (True DB: {res.get('true_db_id')})\")\n",
    "        print(\"  Top Ranked Databases (with P(Yes) scores):\")\n",
    "        for rank, db_info in enumerate(res.get('ranked_databases_with_scores', [])[:5]):  # Show top 5 ranked DBs\n",
    "            is_true_db_char = \"*\" if db_info['candidate_db_id'] == res['true_db_id'] else \" \"\n",
    "            print(f\"    {rank+1}. {db_info['candidate_db_id']}{is_true_db_char} \"\n",
    "                  f\"(Score: {db_info['p_yes_score']:.4f})\")\n",
    "else:\n",
    "    print(\"Cannot perform evaluation as no results were loaded or generated.\")\n"
   ]
  }
 ],
 "metadata": {
  "kernelspec": {
   "display_name": "Python (llama_spider_env)",
   "language": "python",
   "name": "llama_spider_env"
  },
  "language_info": {
   "codemirror_mode": {
    "name": "ipython",
    "version": 3
   },
   "file_extension": ".py",
   "mimetype": "text/x-python",
   "name": "python",
   "nbconvert_exporter": "python",
   "pygments_lexer": "ipython3",
   "version": "3.10.16"
  }
 },
 "nbformat": 4,
 "nbformat_minor": 5
}
